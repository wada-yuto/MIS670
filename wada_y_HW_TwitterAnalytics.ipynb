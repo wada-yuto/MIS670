{
 "cells": [
  {
   "cell_type": "markdown",
   "metadata": {},
   "source": [
    "**K-State Honor Code \"On my honor, as a student, I have neither given nor received unauthorized aid on this ascademic work\"**\n",
    "\n",
    "# 1. Business Questions about Nike\n",
    "\n",
    "a. First Question: Who tweets the most about Nike?\n",
    "    \n",
    "b. Second Question: Does Nike have more positive, negative, or neutural tweets?\n",
    "    "
   ]
  },
  {
   "cell_type": "markdown",
   "metadata": {},
   "source": [
    "# 2. Important Dataset"
   ]
  },
  {
   "cell_type": "code",
   "execution_count": 82,
   "metadata": {},
   "outputs": [
    {
     "name": "stderr",
     "output_type": "stream",
     "text": [
      "[nltk_data] Downloading package stopwords to\n",
      "[nltk_data]     /Users/yutowada/nltk_data...\n",
      "[nltk_data]   Package stopwords is already up-to-date!\n"
     ]
    }
   ],
   "source": [
    "#Libraries\n",
    "import tweepy\n",
    "import pandas as pd\n",
    "import json\n",
    "import regex\n",
    "import re\n",
    "\n",
    "import nltk\n",
    "nltk.download('stopwords')\n",
    "from nltk.corpus import stopwords"
   ]
  },
  {
   "cell_type": "code",
   "execution_count": 83,
   "metadata": {},
   "outputs": [],
   "source": [
    "# put your credential API information here (do not share your API to the public)\n",
    "# API Consumer Key and Secret from Twitter\n",
    "api_key = \"WsEUv6afCiNthkSLWHIHn8yUM\"\n",
    "api_secret = \"jtg2kd1CFL1txDao6NouIUO7xZzCXSM4yiP4WyuiiqQ50qTtjf\"\n",
    "\n",
    "access_token = \"1564294883636088838-jhUHzc9xuIH9WMu6wCPahsWM4LiwaG\"\n",
    "access_token_secret = \"vM6EmVcxk3L94D1bVQz19MliIUcSW5uA9660IZk1FQken\"\n",
    "\n",
    "# authentication\n",
    "auth = tweepy.OAuthHandler(api_key, api_secret)\n",
    "auth.set_access_token(access_token, access_token_secret)\n",
    "\n",
    "api = tweepy.API(auth,wait_on_rate_limit=True)"
   ]
  },
  {
   "cell_type": "code",
   "execution_count": 84,
   "metadata": {},
   "outputs": [
    {
     "data": {
      "text/html": [
       "<div>\n",
       "<style scoped>\n",
       "    .dataframe tbody tr th:only-of-type {\n",
       "        vertical-align: middle;\n",
       "    }\n",
       "\n",
       "    .dataframe tbody tr th {\n",
       "        vertical-align: top;\n",
       "    }\n",
       "\n",
       "    .dataframe thead th {\n",
       "        text-align: right;\n",
       "    }\n",
       "</style>\n",
       "<table border=\"1\" class=\"dataframe\">\n",
       "  <thead>\n",
       "    <tr style=\"text-align: right;\">\n",
       "      <th></th>\n",
       "      <th>Post Time</th>\n",
       "      <th>Tweet ID</th>\n",
       "      <th>TweetText</th>\n",
       "      <th>RetweetCount</th>\n",
       "      <th>UserName</th>\n",
       "      <th>UserScreenName</th>\n",
       "      <th>User Location</th>\n",
       "      <th>UserFollowerCounts</th>\n",
       "    </tr>\n",
       "  </thead>\n",
       "  <tbody>\n",
       "    <tr>\n",
       "      <th>0</th>\n",
       "      <td>2022-11-02 23:59:59+00:00</td>\n",
       "      <td>1587957725664890881</td>\n",
       "      <td>RT @ArndTownSnks: @CurrenSy_Spitta &amp;amp; @ther...</td>\n",
       "      <td>204</td>\n",
       "      <td>negin</td>\n",
       "      <td>neginsoleimani</td>\n",
       "      <td>texas</td>\n",
       "      <td>4492</td>\n",
       "    </tr>\n",
       "    <tr>\n",
       "      <th>1</th>\n",
       "      <td>2022-11-02 23:59:56+00:00</td>\n",
       "      <td>1587957715136978946</td>\n",
       "      <td>all this no L Cancelling shit is so annoying j...</td>\n",
       "      <td>0</td>\n",
       "      <td>shinji</td>\n",
       "      <td>aeShinjii</td>\n",
       "      <td>Tokyo-to, Japan</td>\n",
       "      <td>66</td>\n",
       "    </tr>\n",
       "    <tr>\n",
       "      <th>2</th>\n",
       "      <td>2022-11-02 23:59:53+00:00</td>\n",
       "      <td>1587957700360536066</td>\n",
       "      <td>@ImarLearning @Nike Good answer...That touches...</td>\n",
       "      <td>2</td>\n",
       "      <td>Budget The Bag™</td>\n",
       "      <td>BudgetTheBag</td>\n",
       "      <td>Texas</td>\n",
       "      <td>81</td>\n",
       "    </tr>\n",
       "    <tr>\n",
       "      <th>3</th>\n",
       "      <td>2022-11-02 23:59:40+00:00</td>\n",
       "      <td>1587957648887930880</td>\n",
       "      <td>@DrifterShoots @Nike Bro got the huaraches on....</td>\n",
       "      <td>0</td>\n",
       "      <td>🆂🅱🅾🅹 </td>\n",
       "      <td>4GIVEMYSOUL</td>\n",
       "      <td>The Universe</td>\n",
       "      <td>483</td>\n",
       "    </tr>\n",
       "    <tr>\n",
       "      <th>4</th>\n",
       "      <td>2022-11-02 23:59:39+00:00</td>\n",
       "      <td>1587957644731498496</td>\n",
       "      <td>🔹 Men's Nike Air Max LTD 3 Casual Shoes\\n🔹 Men...</td>\n",
       "      <td>0</td>\n",
       "      <td>Free Nike Monitor</td>\n",
       "      <td>free_nike_bot</td>\n",
       "      <td></td>\n",
       "      <td>264</td>\n",
       "    </tr>\n",
       "  </tbody>\n",
       "</table>\n",
       "</div>"
      ],
      "text/plain": [
       "                  Post Time             Tweet ID  \\\n",
       "0 2022-11-02 23:59:59+00:00  1587957725664890881   \n",
       "1 2022-11-02 23:59:56+00:00  1587957715136978946   \n",
       "2 2022-11-02 23:59:53+00:00  1587957700360536066   \n",
       "3 2022-11-02 23:59:40+00:00  1587957648887930880   \n",
       "4 2022-11-02 23:59:39+00:00  1587957644731498496   \n",
       "\n",
       "                                           TweetText  RetweetCount  \\\n",
       "0  RT @ArndTownSnks: @CurrenSy_Spitta &amp; @ther...           204   \n",
       "1  all this no L Cancelling shit is so annoying j...             0   \n",
       "2  @ImarLearning @Nike Good answer...That touches...             2   \n",
       "3  @DrifterShoots @Nike Bro got the huaraches on....             0   \n",
       "4  🔹 Men's Nike Air Max LTD 3 Casual Shoes\\n🔹 Men...             0   \n",
       "\n",
       "            UserName  UserScreenName    User Location  UserFollowerCounts  \n",
       "0              negin  neginsoleimani            texas                4492  \n",
       "1             shinji       aeShinjii  Tokyo-to, Japan                  66  \n",
       "2    Budget The Bag™    BudgetTheBag            Texas                  81  \n",
       "3             🆂🅱🅾🅹      4GIVEMYSOUL    The Universe                  483  \n",
       "4  Free Nike Monitor   free_nike_bot                                  264  "
      ]
     },
     "execution_count": 84,
     "metadata": {},
     "output_type": "execute_result"
    }
   ],
   "source": [
    "tweets_data = [] #initialize an empty list\n",
    "\n",
    "for status in tweepy.Cursor(api.search_tweets,q=\"Nike\",\n",
    "                            until='2022-11-03', #Twitter will automatically sample the last 7 days of data, and only allows you to get 7-day data\n",
    "                            result_type='recent',\n",
    "                            include_entities=True,\n",
    "                            tweet_mode='extended', #otherwise it only captures 140 characters\n",
    "                            lang=\"en\").items(600):\n",
    "    \n",
    "    post_time = status.created_at # tweets posting time\n",
    "    tweet_id = status.id_str # gets the tweets thread ID\n",
    "    tweet_text= status.full_text # gets the tweets texts\n",
    "    retweet_count = status.retweet_count\n",
    "    user_name = status.user.name\n",
    "    user_screen_name = status.user.screen_name\n",
    "    user_location = status.user.location\n",
    "    user_followers_count = status.user.followers_count\n",
    "    \n",
    "    tweets_data.append((post_time, tweet_id, tweet_text, retweet_count, user_name, user_screen_name, user_location, user_followers_count))\n",
    "\n",
    "headers = ['Post Time', 'Tweet ID', 'TweetText', 'RetweetCount', 'UserName', 'UserScreenName', 'User Location', 'UserFollowerCounts']\n",
    "\n",
    "alltweets = pd.DataFrame(tweets_data,columns = headers)\n",
    "alltweets.head()"
   ]
  },
  {
   "cell_type": "markdown",
   "metadata": {},
   "source": [
    "# 3.Text Processing"
   ]
  },
  {
   "cell_type": "code",
   "execution_count": 85,
   "metadata": {},
   "outputs": [],
   "source": [
    "#Remove stopwords\n",
    "stop_words = stopwords.words('english')\n",
    "more_stopwords = set(('cant', 'aint', 'today', 'one', 'like', 'could', 'see', 'also', \n",
    "'get', 'yu', 'u', 'st', 'lot'))\n",
    "extra_stoplist = set(stopwords.words('english')) | more_stopwords\n",
    "alltweets['TweetText'] = alltweets['TweetText'].apply(lambda x: ' '.join([word for word in x.split() if word not in (extra_stoplist)]))"
   ]
  },
  {
   "cell_type": "code",
   "execution_count": 86,
   "metadata": {},
   "outputs": [
    {
     "name": "stderr",
     "output_type": "stream",
     "text": [
      "/var/folders/1j/79l9x7_16cldqkzdldfx37vh0000gn/T/ipykernel_54296/1895569368.py:2: FutureWarning: The default value of regex will change from True to False in a future version.\n",
      "  alltweets[\"TweetText\"] = alltweets[\"TweetText\"].str.replace(r'https?://[^\\s<>\"]+|www\\.[^\\s<>\"]+', \"\")\n",
      "/var/folders/1j/79l9x7_16cldqkzdldfx37vh0000gn/T/ipykernel_54296/1895569368.py:3: FutureWarning: The default value of regex will change from True to False in a future version.\n",
      "  alltweets[\"TweetText\"] = alltweets[\"TweetText\"].str.replace(r'[^a-zA-Z0-9]+', ' ')\n"
     ]
    }
   ],
   "source": [
    "#Remove symbols and numbers\n",
    "alltweets[\"TweetText\"] = alltweets[\"TweetText\"].str.replace(r'https?://[^\\s<>\"]+|www\\.[^\\s<>\"]+', \"\")\n",
    "alltweets[\"TweetText\"] = alltweets[\"TweetText\"].str.replace(r'[^a-zA-Z0-9]+', ' ')"
   ]
  },
  {
   "cell_type": "markdown",
   "metadata": {},
   "source": [
    "# 4.Descriptive Analytics"
   ]
  },
  {
   "cell_type": "code",
   "execution_count": 87,
   "metadata": {},
   "outputs": [
    {
     "name": "stdout",
     "output_type": "stream",
     "text": [
      "509\n"
     ]
    }
   ],
   "source": [
    "#How many users in the dataset\n",
    "print(len(alltweets.UserScreenName.unique()))"
   ]
  },
  {
   "cell_type": "code",
   "execution_count": 88,
   "metadata": {},
   "outputs": [
    {
     "data": {
      "text/plain": [
       "'HYPEBEAST'"
      ]
     },
     "execution_count": 88,
     "metadata": {},
     "output_type": "execute_result"
    }
   ],
   "source": [
    "#Who is the most popular user in the dataset?\n",
    "alltweets.loc[alltweets[\"UserFollowerCounts\"].idxmax()].UserScreenName"
   ]
  },
  {
   "cell_type": "code",
   "execution_count": 89,
   "metadata": {},
   "outputs": [
    {
     "data": {
      "text/plain": [
       "0.809"
      ]
     },
     "execution_count": 89,
     "metadata": {},
     "output_type": "execute_result"
    }
   ],
   "source": [
    "#Tweets per users\n",
    "Number_tweets= len(alltweets['TweetText'].unique())\n",
    "Number_users = len(alltweets['UserScreenName'].unique())\n",
    "\n",
    "round(float(Number_tweets/Number_users),3)"
   ]
  },
  {
   "cell_type": "code",
   "execution_count": 90,
   "metadata": {},
   "outputs": [
    {
     "name": "stdout",
     "output_type": "stream",
     "text": [
      "284\n"
     ]
    }
   ],
   "source": [
    "#Number of Original Tweets\n",
    "# view tweets do not contain RT (original tweets)\n",
    "new_dftweets = alltweets[~alltweets[\"TweetText\"].str.contains(\"RT\")]\n",
    "print(len(new_dftweets))"
   ]
  },
  {
   "cell_type": "code",
   "execution_count": 91,
   "metadata": {},
   "outputs": [
    {
     "data": {
      "text/html": [
       "<div>\n",
       "<style scoped>\n",
       "    .dataframe tbody tr th:only-of-type {\n",
       "        vertical-align: middle;\n",
       "    }\n",
       "\n",
       "    .dataframe tbody tr th {\n",
       "        vertical-align: top;\n",
       "    }\n",
       "\n",
       "    .dataframe thead th {\n",
       "        text-align: right;\n",
       "    }\n",
       "</style>\n",
       "<table border=\"1\" class=\"dataframe\">\n",
       "  <thead>\n",
       "    <tr style=\"text-align: right;\">\n",
       "      <th></th>\n",
       "      <th>Post Time</th>\n",
       "      <th>Tweet ID</th>\n",
       "      <th>TweetText</th>\n",
       "      <th>RetweetCount</th>\n",
       "      <th>UserName</th>\n",
       "      <th>UserScreenName</th>\n",
       "      <th>User Location</th>\n",
       "      <th>UserFollowerCounts</th>\n",
       "    </tr>\n",
       "  </thead>\n",
       "  <tbody>\n",
       "    <tr>\n",
       "      <th>152</th>\n",
       "      <td>2022-11-02 23:48:45+00:00</td>\n",
       "      <td>1587954901224677378</td>\n",
       "      <td>RT ny ocho Nike Dunk Low The Mystery Machine</td>\n",
       "      <td>12265</td>\n",
       "      <td>Koko🌙 Main Kokomi</td>\n",
       "      <td>kokobabb</td>\n",
       "      <td></td>\n",
       "      <td>1725</td>\n",
       "    </tr>\n",
       "    <tr>\n",
       "      <th>71</th>\n",
       "      <td>2022-11-02 23:54:07+00:00</td>\n",
       "      <td>1587956248246456321</td>\n",
       "      <td>RT ny ocho Nike Dunk Low The Mystery Machine</td>\n",
       "      <td>12265</td>\n",
       "      <td>Harriet 🌙</td>\n",
       "      <td>harriet_vasey</td>\n",
       "      <td>Newcastle Upon Tyne, England</td>\n",
       "      <td>102</td>\n",
       "    </tr>\n",
       "    <tr>\n",
       "      <th>67</th>\n",
       "      <td>2022-11-02 23:54:42+00:00</td>\n",
       "      <td>1587956395860557824</td>\n",
       "      <td>RT KTLA Update A second suspect identified dou...</td>\n",
       "      <td>3396</td>\n",
       "      <td>Migayla</td>\n",
       "      <td>Nerd_Nike</td>\n",
       "      <td>Looking for Wonderland</td>\n",
       "      <td>733</td>\n",
       "    </tr>\n",
       "    <tr>\n",
       "      <th>332</th>\n",
       "      <td>2022-11-02 23:34:38+00:00</td>\n",
       "      <td>1587951348846399489</td>\n",
       "      <td>RT ModestMama Calling Pick Me sale 5 99 month ...</td>\n",
       "      <td>2981</td>\n",
       "      <td>Daario Naharis</td>\n",
       "      <td>Tweets_n_Nike</td>\n",
       "      <td>New York, USA</td>\n",
       "      <td>1590</td>\n",
       "    </tr>\n",
       "    <tr>\n",
       "      <th>394</th>\n",
       "      <td>2022-11-02 23:30:45+00:00</td>\n",
       "      <td>1587950371846045698</td>\n",
       "      <td>RT TalbertSwan White privilege Brett Favre can...</td>\n",
       "      <td>2930</td>\n",
       "      <td>Channy B</td>\n",
       "      <td>ChantalBorgella</td>\n",
       "      <td>Jersey Girl ✈ Los Angeles</td>\n",
       "      <td>1756</td>\n",
       "    </tr>\n",
       "  </tbody>\n",
       "</table>\n",
       "</div>"
      ],
      "text/plain": [
       "                    Post Time             Tweet ID  \\\n",
       "152 2022-11-02 23:48:45+00:00  1587954901224677378   \n",
       "71  2022-11-02 23:54:07+00:00  1587956248246456321   \n",
       "67  2022-11-02 23:54:42+00:00  1587956395860557824   \n",
       "332 2022-11-02 23:34:38+00:00  1587951348846399489   \n",
       "394 2022-11-02 23:30:45+00:00  1587950371846045698   \n",
       "\n",
       "                                             TweetText  RetweetCount  \\\n",
       "152      RT ny ocho Nike Dunk Low The Mystery Machine          12265   \n",
       "71       RT ny ocho Nike Dunk Low The Mystery Machine          12265   \n",
       "67   RT KTLA Update A second suspect identified dou...          3396   \n",
       "332  RT ModestMama Calling Pick Me sale 5 99 month ...          2981   \n",
       "394  RT TalbertSwan White privilege Brett Favre can...          2930   \n",
       "\n",
       "              UserName   UserScreenName                 User Location  \\\n",
       "152  Koko🌙 Main Kokomi         kokobabb                                 \n",
       "71           Harriet 🌙    harriet_vasey  Newcastle Upon Tyne, England   \n",
       "67             Migayla        Nerd_Nike        Looking for Wonderland   \n",
       "332     Daario Naharis    Tweets_n_Nike                 New York, USA   \n",
       "394           Channy B  ChantalBorgella     Jersey Girl ✈ Los Angeles   \n",
       "\n",
       "     UserFollowerCounts  \n",
       "152                1725  \n",
       "71                  102  \n",
       "67                  733  \n",
       "332                1590  \n",
       "394                1756  "
      ]
     },
     "execution_count": 91,
     "metadata": {},
     "output_type": "execute_result"
    }
   ],
   "source": [
    "#Retweet count for every tweet\n",
    "alltweets = alltweets.sort_values(by = 'RetweetCount', ascending=False)\n",
    "alltweets.head()"
   ]
  },
  {
   "cell_type": "markdown",
   "metadata": {},
   "source": [
    "# 5.Sentiment Analysis"
   ]
  },
  {
   "cell_type": "code",
   "execution_count": 92,
   "metadata": {},
   "outputs": [
    {
     "name": "stdout",
     "output_type": "stream",
     "text": [
      "600\n"
     ]
    },
    {
     "name": "stderr",
     "output_type": "stream",
     "text": [
      "/var/folders/1j/79l9x7_16cldqkzdldfx37vh0000gn/T/ipykernel_54296/3081627793.py:2: FutureWarning: The default value of regex will change from True to False in a future version.\n",
      "  alltweets[\"TweetText\"] = alltweets[\"TweetText\"].str.replace(r'https?://[^\\s<>\"]+|www\\.[^\\s<>\"]+', \"\")\n",
      "/var/folders/1j/79l9x7_16cldqkzdldfx37vh0000gn/T/ipykernel_54296/3081627793.py:3: FutureWarning: The default value of regex will change from True to False in a future version.\n",
      "  alltweets['TweetText'] = alltweets[\"TweetText\"].str.replace(r'[^a-zA-Z0-9]+', ' ')\n"
     ]
    }
   ],
   "source": [
    "\n",
    "alltweets['TweetText'] = alltweets['TweetText'].apply(lambda x: x.encode('ascii', 'ignore').decode('ascii'))\n",
    "alltweets[\"TweetText\"] = alltweets[\"TweetText\"].str.replace(r'https?://[^\\s<>\"]+|www\\.[^\\s<>\"]+', \"\")\n",
    "alltweets['TweetText'] = alltweets[\"TweetText\"].str.replace(r'[^a-zA-Z0-9]+', ' ')\n",
    "alltweets['TweetText'] = alltweets[\"TweetText\"].str.replace('@#', '')\n",
    "alltweets['TweetText'] = alltweets[\"TweetText\"].str.replace('\\n', '')\n",
    "print(len(alltweets))"
   ]
  },
  {
   "cell_type": "code",
   "execution_count": 93,
   "metadata": {},
   "outputs": [
    {
     "name": "stdout",
     "output_type": "stream",
     "text": [
      "600\n"
     ]
    }
   ],
   "source": [
    "positive_words = open('Bing_liu_positive.txt', \"r\").read().splitlines()\n",
    "negative_words = open('Bing_liu_negative.txt', \"r\").read().splitlines()\n",
    "list_tweet = alltweets['TweetText'].to_list()\n",
    "\n",
    "new_texts = []\n",
    "remove = ['br', 's']\n",
    "flat_review = [''.join(ele) for ele in list_tweet]\n",
    "documents = [re.sub(\"[^a-zA-Z]+\", \" \", document) for document in flat_review]\n",
    "\n",
    "texts = [[word for word in document.split() ] for document in documents]\n",
    "\n",
    "print(len(list_tweet))"
   ]
  },
  {
   "cell_type": "code",
   "execution_count": 94,
   "metadata": {},
   "outputs": [],
   "source": [
    "positive_review = []\n",
    "negative_review = []\n",
    "neutral_review = []\n",
    "\n",
    "for sentence in texts:\n",
    "    positive = 0\n",
    "    negative = 0\n",
    "    for word in sentence:\n",
    "        if word in positive_words:\n",
    "            positive += 1\n",
    "        elif word in negative_words:\n",
    "            negative += 1\n",
    "    if positive-negative > 0:\n",
    "            positive_review.append(sentence)\n",
    "    elif positive-negative == 0:\n",
    "        neutral_review.append(sentence)\n",
    "    else:\n",
    "        negative_review.append(sentence)"
   ]
  },
  {
   "cell_type": "markdown",
   "metadata": {},
   "source": [
    "## Number of positive, negative, and neutural tweets"
   ]
  },
  {
   "cell_type": "code",
   "execution_count": 95,
   "metadata": {},
   "outputs": [
    {
     "name": "stdout",
     "output_type": "stream",
     "text": [
      "158  positive tweet\n",
      "55  negative tweet\n",
      "387  neutural tweet\n"
     ]
    }
   ],
   "source": [
    "print(len(positive_review), ' positive tweet')\n",
    "print(len(negative_review), ' negative tweet')\n",
    "print(len(neutral_review), ' neutural tweet')"
   ]
  },
  {
   "cell_type": "code",
   "execution_count": 96,
   "metadata": {},
   "outputs": [],
   "source": [
    "#Joining back the split review into one sentence\n",
    "# and appending them into new review\n",
    "positive_review_complete = []\n",
    "negative_review_complete = []\n",
    "neutral_review_complete = []\n",
    "\n",
    "for reviews in positive_review:\n",
    "    join_string = \" \"\n",
    "    complete_review = join_string.join(reviews)\n",
    "    positive_review_complete.append(complete_review)\n",
    "\n",
    "for reviews in negative_review:\n",
    "    join_string = \" \"\n",
    "    complete_review = join_string.join(reviews)\n",
    "    negative_review_complete.append(complete_review)\n",
    "\n",
    "for reviews in neutral_review:\n",
    "    join_string = \" \"\n",
    "    complete_review = join_string.join(reviews)\n",
    "    neutral_review_complete.append(complete_review)"
   ]
  },
  {
   "cell_type": "code",
   "execution_count": 97,
   "metadata": {},
   "outputs": [
    {
     "data": {
      "text/html": [
       "<div>\n",
       "<style scoped>\n",
       "    .dataframe tbody tr th:only-of-type {\n",
       "        vertical-align: middle;\n",
       "    }\n",
       "\n",
       "    .dataframe tbody tr th {\n",
       "        vertical-align: top;\n",
       "    }\n",
       "\n",
       "    .dataframe thead th {\n",
       "        text-align: right;\n",
       "    }\n",
       "</style>\n",
       "<table border=\"1\" class=\"dataframe\">\n",
       "  <thead>\n",
       "    <tr style=\"text-align: right;\">\n",
       "      <th></th>\n",
       "      <th>Post Time</th>\n",
       "      <th>Tweet ID</th>\n",
       "      <th>TweetText</th>\n",
       "      <th>RetweetCount</th>\n",
       "      <th>UserName</th>\n",
       "      <th>UserScreenName</th>\n",
       "      <th>User Location</th>\n",
       "      <th>UserFollowerCounts</th>\n",
       "      <th>Analysis</th>\n",
       "    </tr>\n",
       "  </thead>\n",
       "  <tbody>\n",
       "    <tr>\n",
       "      <th>152</th>\n",
       "      <td>2022-11-02 23:48:45+00:00</td>\n",
       "      <td>1587954901224677378</td>\n",
       "      <td>RT ny ocho Nike Dunk Low The Mystery Machine</td>\n",
       "      <td>12265</td>\n",
       "      <td>Koko🌙 Main Kokomi</td>\n",
       "      <td>kokobabb</td>\n",
       "      <td></td>\n",
       "      <td>1725</td>\n",
       "      <td></td>\n",
       "    </tr>\n",
       "    <tr>\n",
       "      <th>71</th>\n",
       "      <td>2022-11-02 23:54:07+00:00</td>\n",
       "      <td>1587956248246456321</td>\n",
       "      <td>RT ny ocho Nike Dunk Low The Mystery Machine</td>\n",
       "      <td>12265</td>\n",
       "      <td>Harriet 🌙</td>\n",
       "      <td>harriet_vasey</td>\n",
       "      <td>Newcastle Upon Tyne, England</td>\n",
       "      <td>102</td>\n",
       "      <td></td>\n",
       "    </tr>\n",
       "    <tr>\n",
       "      <th>67</th>\n",
       "      <td>2022-11-02 23:54:42+00:00</td>\n",
       "      <td>1587956395860557824</td>\n",
       "      <td>RT KTLA Update A second suspect identified dou...</td>\n",
       "      <td>3396</td>\n",
       "      <td>Migayla</td>\n",
       "      <td>Nerd_Nike</td>\n",
       "      <td>Looking for Wonderland</td>\n",
       "      <td>733</td>\n",
       "      <td></td>\n",
       "    </tr>\n",
       "    <tr>\n",
       "      <th>332</th>\n",
       "      <td>2022-11-02 23:34:38+00:00</td>\n",
       "      <td>1587951348846399489</td>\n",
       "      <td>RT ModestMama Calling Pick Me sale 5 99 month ...</td>\n",
       "      <td>2981</td>\n",
       "      <td>Daario Naharis</td>\n",
       "      <td>Tweets_n_Nike</td>\n",
       "      <td>New York, USA</td>\n",
       "      <td>1590</td>\n",
       "      <td></td>\n",
       "    </tr>\n",
       "    <tr>\n",
       "      <th>394</th>\n",
       "      <td>2022-11-02 23:30:45+00:00</td>\n",
       "      <td>1587950371846045698</td>\n",
       "      <td>RT TalbertSwan White privilege Brett Favre can...</td>\n",
       "      <td>2930</td>\n",
       "      <td>Channy B</td>\n",
       "      <td>ChantalBorgella</td>\n",
       "      <td>Jersey Girl ✈ Los Angeles</td>\n",
       "      <td>1756</td>\n",
       "      <td></td>\n",
       "    </tr>\n",
       "  </tbody>\n",
       "</table>\n",
       "</div>"
      ],
      "text/plain": [
       "                    Post Time             Tweet ID  \\\n",
       "152 2022-11-02 23:48:45+00:00  1587954901224677378   \n",
       "71  2022-11-02 23:54:07+00:00  1587956248246456321   \n",
       "67  2022-11-02 23:54:42+00:00  1587956395860557824   \n",
       "332 2022-11-02 23:34:38+00:00  1587951348846399489   \n",
       "394 2022-11-02 23:30:45+00:00  1587950371846045698   \n",
       "\n",
       "                                             TweetText  RetweetCount  \\\n",
       "152      RT ny ocho Nike Dunk Low The Mystery Machine          12265   \n",
       "71       RT ny ocho Nike Dunk Low The Mystery Machine          12265   \n",
       "67   RT KTLA Update A second suspect identified dou...          3396   \n",
       "332  RT ModestMama Calling Pick Me sale 5 99 month ...          2981   \n",
       "394  RT TalbertSwan White privilege Brett Favre can...          2930   \n",
       "\n",
       "              UserName   UserScreenName                 User Location  \\\n",
       "152  Koko🌙 Main Kokomi         kokobabb                                 \n",
       "71           Harriet 🌙    harriet_vasey  Newcastle Upon Tyne, England   \n",
       "67             Migayla        Nerd_Nike        Looking for Wonderland   \n",
       "332     Daario Naharis    Tweets_n_Nike                 New York, USA   \n",
       "394           Channy B  ChantalBorgella     Jersey Girl ✈ Los Angeles   \n",
       "\n",
       "     UserFollowerCounts Analysis  \n",
       "152                1725           \n",
       "71                  102           \n",
       "67                  733           \n",
       "332                1590           \n",
       "394                1756           "
      ]
     },
     "execution_count": 97,
     "metadata": {},
     "output_type": "execute_result"
    }
   ],
   "source": [
    "alltweets[\"Analysis\"] = \"\"\n",
    "alltweets.head()"
   ]
  },
  {
   "cell_type": "code",
   "execution_count": 98,
   "metadata": {},
   "outputs": [
    {
     "data": {
      "text/html": [
       "<div>\n",
       "<style scoped>\n",
       "    .dataframe tbody tr th:only-of-type {\n",
       "        vertical-align: middle;\n",
       "    }\n",
       "\n",
       "    .dataframe tbody tr th {\n",
       "        vertical-align: top;\n",
       "    }\n",
       "\n",
       "    .dataframe thead th {\n",
       "        text-align: right;\n",
       "    }\n",
       "</style>\n",
       "<table border=\"1\" class=\"dataframe\">\n",
       "  <thead>\n",
       "    <tr style=\"text-align: right;\">\n",
       "      <th></th>\n",
       "      <th>Post Time</th>\n",
       "      <th>Tweet ID</th>\n",
       "      <th>TweetText</th>\n",
       "      <th>RetweetCount</th>\n",
       "      <th>UserName</th>\n",
       "      <th>UserScreenName</th>\n",
       "      <th>User Location</th>\n",
       "      <th>UserFollowerCounts</th>\n",
       "      <th>Analysis</th>\n",
       "    </tr>\n",
       "  </thead>\n",
       "  <tbody>\n",
       "    <tr>\n",
       "      <th>152</th>\n",
       "      <td>2022-11-02 23:48:45+00:00</td>\n",
       "      <td>1587954901224677378</td>\n",
       "      <td>RT ny ocho Nike Dunk Low The Mystery Machine</td>\n",
       "      <td>12265</td>\n",
       "      <td>Koko🌙 Main Kokomi</td>\n",
       "      <td>kokobabb</td>\n",
       "      <td></td>\n",
       "      <td>1725</td>\n",
       "      <td>Neutural</td>\n",
       "    </tr>\n",
       "    <tr>\n",
       "      <th>71</th>\n",
       "      <td>2022-11-02 23:54:07+00:00</td>\n",
       "      <td>1587956248246456321</td>\n",
       "      <td>RT ny ocho Nike Dunk Low The Mystery Machine</td>\n",
       "      <td>12265</td>\n",
       "      <td>Harriet 🌙</td>\n",
       "      <td>harriet_vasey</td>\n",
       "      <td>Newcastle Upon Tyne, England</td>\n",
       "      <td>102</td>\n",
       "      <td>Positive</td>\n",
       "    </tr>\n",
       "    <tr>\n",
       "      <th>67</th>\n",
       "      <td>2022-11-02 23:54:42+00:00</td>\n",
       "      <td>1587956395860557824</td>\n",
       "      <td>RT KTLA Update A second suspect identified dou...</td>\n",
       "      <td>3396</td>\n",
       "      <td>Migayla</td>\n",
       "      <td>Nerd_Nike</td>\n",
       "      <td>Looking for Wonderland</td>\n",
       "      <td>733</td>\n",
       "      <td>Positive</td>\n",
       "    </tr>\n",
       "    <tr>\n",
       "      <th>332</th>\n",
       "      <td>2022-11-02 23:34:38+00:00</td>\n",
       "      <td>1587951348846399489</td>\n",
       "      <td>RT ModestMama Calling Pick Me sale 5 99 month ...</td>\n",
       "      <td>2981</td>\n",
       "      <td>Daario Naharis</td>\n",
       "      <td>Tweets_n_Nike</td>\n",
       "      <td>New York, USA</td>\n",
       "      <td>1590</td>\n",
       "      <td>Neutural</td>\n",
       "    </tr>\n",
       "    <tr>\n",
       "      <th>394</th>\n",
       "      <td>2022-11-02 23:30:45+00:00</td>\n",
       "      <td>1587950371846045698</td>\n",
       "      <td>RT TalbertSwan White privilege Brett Favre can...</td>\n",
       "      <td>2930</td>\n",
       "      <td>Channy B</td>\n",
       "      <td>ChantalBorgella</td>\n",
       "      <td>Jersey Girl ✈ Los Angeles</td>\n",
       "      <td>1756</td>\n",
       "      <td>Neutural</td>\n",
       "    </tr>\n",
       "  </tbody>\n",
       "</table>\n",
       "</div>"
      ],
      "text/plain": [
       "                    Post Time             Tweet ID  \\\n",
       "152 2022-11-02 23:48:45+00:00  1587954901224677378   \n",
       "71  2022-11-02 23:54:07+00:00  1587956248246456321   \n",
       "67  2022-11-02 23:54:42+00:00  1587956395860557824   \n",
       "332 2022-11-02 23:34:38+00:00  1587951348846399489   \n",
       "394 2022-11-02 23:30:45+00:00  1587950371846045698   \n",
       "\n",
       "                                             TweetText  RetweetCount  \\\n",
       "152      RT ny ocho Nike Dunk Low The Mystery Machine          12265   \n",
       "71       RT ny ocho Nike Dunk Low The Mystery Machine          12265   \n",
       "67   RT KTLA Update A second suspect identified dou...          3396   \n",
       "332  RT ModestMama Calling Pick Me sale 5 99 month ...          2981   \n",
       "394  RT TalbertSwan White privilege Brett Favre can...          2930   \n",
       "\n",
       "              UserName   UserScreenName                 User Location  \\\n",
       "152  Koko🌙 Main Kokomi         kokobabb                                 \n",
       "71           Harriet 🌙    harriet_vasey  Newcastle Upon Tyne, England   \n",
       "67             Migayla        Nerd_Nike        Looking for Wonderland   \n",
       "332     Daario Naharis    Tweets_n_Nike                 New York, USA   \n",
       "394           Channy B  ChantalBorgella     Jersey Girl ✈ Los Angeles   \n",
       "\n",
       "     UserFollowerCounts  Analysis  \n",
       "152                1725  Neutural  \n",
       "71                  102  Positive  \n",
       "67                  733  Positive  \n",
       "332                1590  Neutural  \n",
       "394                1756  Neutural  "
      ]
     },
     "execution_count": 98,
     "metadata": {},
     "output_type": "execute_result"
    }
   ],
   "source": [
    "#Document which tweet is positive, negative or neutural\n",
    "documents = [re.sub(\"[^a-zA-Z]+\", \" \", document) for document in flat_review]\n",
    "new_documents = [review.strip() for review in documents]\n",
    "\n",
    "for index, review in enumerate(new_documents):\n",
    "    found = False\n",
    "    for positive in positive_review_complete:\n",
    "        if positive in review:\n",
    "            found = True\n",
    "            alltweets.loc[index, 'Analysis'] = \"Positive\"\n",
    "        else:\n",
    "            continue\n",
    "    if not found:\n",
    "        for negative in negative_review_complete:\n",
    "            if negative in review:\n",
    "                found = True\n",
    "                alltweets.loc[index, 'Analysis'] = \"Negative\"\n",
    "            else:\n",
    "                continue\n",
    "    if not found:\n",
    "        for neutural in neutral_review_complete:\n",
    "            if neutural in review:\n",
    "                found = True\n",
    "                alltweets.loc[index, 'Analysis'] = \"Neutural\"\n",
    "            else:\n",
    "                continue\n",
    "alltweets.head()"
   ]
  },
  {
   "cell_type": "markdown",
   "metadata": {},
   "source": [
    "# 6.Storytelling\n",
    "\n",
    "From the result data collection, text processing, descriptive analysis, and sentiment analysis, I was able to answer two question that I wanted to answer.\n",
    "\n",
    "a. First Question: Who tweets the most about Nike?\n",
    "\n",
    "b. Second Question: Does Nike have more positive, negative, or neutural tweets?\n",
    "\n",
    "By performing the desctiptive analysis, I was able to answer the first question. User with name **'HYPEBEAST'** was the user that was tweeting the most about Nike. \n",
    "\n",
    "As for the second question 2, I used Sentiment Analysis to answer this one. Result came out suprising, as over half of the tweets were considered to be neutrual. Further looking into the tweets, it looks to be that most of tweets where tweets about sneaker release details.\n",
    "\n",
    "1. 158  positive tweet\n",
    "\n",
    "2. 55  negative tweet\n",
    "\n",
    "3. 387  neutural tweet\n",
    "\n",
    "Because most of the tweets were information about sneaker release, there were many tweets with more then 1000 retweets. This indicates that many people are using that original tweet to spread information about upcoming sneaker release.\n"
   ]
  }
 ],
 "metadata": {
  "kernelspec": {
   "display_name": "Python 3 (ipykernel)",
   "language": "python",
   "name": "python3"
  },
  "language_info": {
   "codemirror_mode": {
    "name": "ipython",
    "version": 3
   },
   "file_extension": ".py",
   "mimetype": "text/x-python",
   "name": "python",
   "nbconvert_exporter": "python",
   "pygments_lexer": "ipython3",
   "version": "3.8.0"
  },
  "vscode": {
   "interpreter": {
    "hash": "aee8b7b246df8f9039afb4144a1f6fd8d2ca17a180786b69acc140d282b71a49"
   }
  }
 },
 "nbformat": 4,
 "nbformat_minor": 4
}
