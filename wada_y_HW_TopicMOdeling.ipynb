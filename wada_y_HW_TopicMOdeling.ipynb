{
 "cells": [
  {
   "cell_type": "markdown",
   "metadata": {},
   "source": [
    "**On my honor, as a student, I have neither given nor received unauthorized aid on this academic work.**"
   ]
  },
  {
   "cell_type": "markdown",
   "metadata": {},
   "source": [
    "## 1.Data preparation and feature engineerin\n",
    "## Advanced Text Filtering/processing"
   ]
  },
  {
   "cell_type": "code",
   "execution_count": 12,
   "metadata": {},
   "outputs": [
    {
     "name": "stderr",
     "output_type": "stream",
     "text": [
      "[nltk_data] Downloading package averaged_perceptron_tagger to\n",
      "[nltk_data]     C:\\Users\\yutow\\AppData\\Roaming\\nltk_data...\n",
      "[nltk_data]   Package averaged_perceptron_tagger is already up-to-\n",
      "[nltk_data]       date!\n",
      "[nltk_data] Downloading package universal_tagset to\n",
      "[nltk_data]     C:\\Users\\yutow\\AppData\\Roaming\\nltk_data...\n",
      "[nltk_data]   Package universal_tagset is already up-to-date!\n"
     ]
    }
   ],
   "source": [
    "import pandas as pd\n",
    "import re\n",
    "import numpy as np\n",
    "import nltk\n",
    "nltk.download('averaged_perceptron_tagger')\n",
    "import nltk\n",
    "nltk.download('universal_tagset')\n",
    "from nltk.tag import pos_tag\n",
    "\n",
    "from nltk.tokenize import word_tokenize\n",
    "\n",
    "import warnings\n",
    "# To ignore all warnings that arise here to enhance clarity\n",
    "warnings.filterwarnings(action='ignore', category=FutureWarning)\n",
    "warnings.filterwarnings(action='ignore', category=DeprecationWarning)"
   ]
  },
  {
   "cell_type": "code",
   "execution_count": 6,
   "metadata": {},
   "outputs": [
    {
     "data": {
      "text/html": [
       "<div>\n",
       "<style scoped>\n",
       "    .dataframe tbody tr th:only-of-type {\n",
       "        vertical-align: middle;\n",
       "    }\n",
       "\n",
       "    .dataframe tbody tr th {\n",
       "        vertical-align: top;\n",
       "    }\n",
       "\n",
       "    .dataframe thead th {\n",
       "        text-align: right;\n",
       "    }\n",
       "</style>\n",
       "<table border=\"1\" class=\"dataframe\">\n",
       "  <thead>\n",
       "    <tr style=\"text-align: right;\">\n",
       "      <th></th>\n",
       "      <th>Text</th>\n",
       "    </tr>\n",
       "  </thead>\n",
       "  <tbody>\n",
       "    <tr>\n",
       "      <th>0</th>\n",
       "      <td>For the first time in 16 years, Smithsonian?s ...</td>\n",
       "    </tr>\n",
       "    <tr>\n",
       "      <th>1</th>\n",
       "      <td>Small Mammal House keepers reported for duty t...</td>\n",
       "    </tr>\n",
       "    <tr>\n",
       "      <th>2</th>\n",
       "      <td>7 and observed that 4-year-old mother Lola ha...</td>\n",
       "    </tr>\n",
       "    <tr>\n",
       "      <th>3</th>\n",
       "      <td>Earlier this year, she and the twins' 7-year-o...</td>\n",
       "    </tr>\n",
       "    <tr>\n",
       "      <th>4</th>\n",
       "      <td>These babies are the first offspring for both...</td>\n",
       "    </tr>\n",
       "  </tbody>\n",
       "</table>\n",
       "</div>"
      ],
      "text/plain": [
       "                                                Text\n",
       "0  For the first time in 16 years, Smithsonian?s ...\n",
       "1  Small Mammal House keepers reported for duty t...\n",
       "2   7 and observed that 4-year-old mother Lola ha...\n",
       "3  Earlier this year, she and the twins' 7-year-o...\n",
       "4   These babies are the first offspring for both..."
      ]
     },
     "execution_count": 6,
     "metadata": {},
     "output_type": "execute_result"
    }
   ],
   "source": [
    "zoo = pd.read_csv(\"Zoo2.csv\", encoding='utf8')\n",
    "zoo.head()"
   ]
  },
  {
   "cell_type": "code",
   "execution_count": 7,
   "metadata": {},
   "outputs": [
    {
     "data": {
      "text/plain": [
       "0    For the first time in 16 years, Smithsonian?s ...\n",
       "1    Small Mammal House keepers reported for duty t...\n",
       "2     7 and observed that 4-year-old mother Lola ha...\n",
       "3    Earlier this year, she and the twins' 7-year-o...\n",
       "4     These babies are the first offspring for both...\n",
       "Name: Text, dtype: object"
      ]
     },
     "execution_count": 7,
     "metadata": {},
     "output_type": "execute_result"
    }
   ],
   "source": [
    "# remove the emojis from the tweets\n",
    "zoo['Text'] = zoo['Text'].apply(lambda x: x.encode('ascii', 'ignore').decode('ascii'))\n",
    "# make the name simplier\n",
    "Text = zoo['Text']\n",
    "# remove the links from tweets\n",
    "Text = Text.apply(lambda x: re.split('https:\\/\\/.*', str(x))[0])\n",
    "Text.head()"
   ]
  },
  {
   "cell_type": "code",
   "execution_count": 10,
   "metadata": {},
   "outputs": [],
   "source": [
    "def nouns(text):\n",
    "    '''Given a string of text, tokenize the text and pull out only the nouns.'''\n",
    "    is_noun = lambda pos: pos[:2] == 'NN'\n",
    "    tokenized = word_tokenize(text)\n",
    "    all_nouns = [word for (word, pos) in pos_tag(tokenized) if is_noun(pos)] \n",
    "    return ' '.join(all_nouns)"
   ]
  },
  {
   "cell_type": "code",
   "execution_count": 13,
   "metadata": {},
   "outputs": [
    {
     "data": {
      "text/plain": [
       "0    time years Smithsonian National Zoo birth lion...\n",
       "1                Mammal House keepers duty morning Oct\n",
       "2                  mother Lola birth overnight infants\n",
       "3    year twins father Coco part Association Zoos A...\n",
       "4                             babies offspring parents\n",
       "Name: Text, dtype: object"
      ]
     },
     "execution_count": 13,
     "metadata": {},
     "output_type": "execute_result"
    }
   ],
   "source": [
    "zoo_nouns = Text.apply(nouns)\n",
    "zoo_nouns.head()"
   ]
  },
  {
   "cell_type": "code",
   "execution_count": 15,
   "metadata": {},
   "outputs": [],
   "source": [
    "# Let's get assign words a number so the python can read it\n",
    "# LDA can only use raw term counts for LDA because it is a probabilistic graphical model\n",
    "from sklearn.feature_extraction.text import CountVectorizer\n",
    "\n",
    "vectorizer1 = CountVectorizer(stop_words='english')\n",
    "vec1 = vectorizer1.fit_transform(zoo_nouns) "
   ]
  },
  {
   "cell_type": "code",
   "execution_count": 16,
   "metadata": {},
   "outputs": [],
   "source": [
    "#Documentation: https://scikit-learn.org/stable/modules/generated/sklearn.decomposition.LatentDirichletAllocation.html\n",
    "from sklearn.decomposition import LatentDirichletAllocation\n",
    "\n",
    "# set the topic modeling model\n",
    "lda = LatentDirichletAllocation(n_components = 10, # meaning the number of topics, by default is 10\n",
    "                                random_state=0)\n",
    "\n",
    "# train the model using unlabeled data\n",
    "LDAmodel1 = lda.fit(vec1)"
   ]
  },
  {
   "cell_type": "code",
   "execution_count": 17,
   "metadata": {},
   "outputs": [
    {
     "name": "stdout",
     "output_type": "stream",
     "text": [
      "(10, 383)\n"
     ]
    }
   ],
   "source": [
    "print(LDAmodel1.components_.shape)"
   ]
  },
  {
   "cell_type": "code",
   "execution_count": 20,
   "metadata": {},
   "outputs": [
    {
     "data": {
      "text/plain": [
       "['aa',\n",
       " 'absolute',\n",
       " 'access',\n",
       " 'account',\n",
       " 'acres',\n",
       " 'action',\n",
       " 'addition',\n",
       " 'adrienne',\n",
       " 'africa',\n",
       " 'african',\n",
       " 'allows',\n",
       " 'andy',\n",
       " 'animal',\n",
       " 'animals',\n",
       " 'anxiety',\n",
       " 'apple',\n",
       " 'april',\n",
       " 'aquariums',\n",
       " 'archipelago',\n",
       " 'area']"
      ]
     },
     "execution_count": 20,
     "metadata": {},
     "output_type": "execute_result"
    }
   ],
   "source": [
    "feature_names1 = vectorizer1.get_feature_names() #get_feature_names_out() if cannot found\n",
    "feature_names1[:20]"
   ]
  },
  {
   "cell_type": "code",
   "execution_count": 21,
   "metadata": {},
   "outputs": [
    {
     "name": "stdout",
     "output_type": "stream",
     "text": [
      "Topic 1:\n",
      "subspecies brookii otus boyce lola\n",
      "Topic 2:\n",
      "species smithsonian cheetah scbi coco\n",
      "Topic 3:\n",
      "migratory lion forests conservation species\n",
      "Topic 4:\n",
      "conservation wild nature international union\n",
      "Topic 5:\n",
      "parents house mammal prairie small\n",
      "Topic 6:\n",
      "zoo scbi ferrets wyoming conservation\n",
      "Topic 7:\n",
      "time research species rosalie cubs\n",
      "Topic 8:\n",
      "cheetah care animals study zoo\n",
      "Topic 9:\n",
      "keepers smithsonian cubs scbi chick\n",
      "Topic 10:\n",
      "keepers species cubs care scbi\n"
     ]
    }
   ],
   "source": [
    "# how to get the feature names\n",
    "# check the documentation:https://scikit-learn.org/stable/auto_examples/applications/plot_topics_extraction_with_nmf_lda.html#sphx-glr-auto-examples-applications-plot-topics-extraction-with-nmf-lda-py\n",
    "n_top_words = 5\n",
    "\n",
    "for topic_idx, topic in enumerate(LDAmodel1.components_):\n",
    "    print(\"Topic %d:\" % (topic_idx + 1))#The %d operator is used as a placeholder to specify integer values, decimals, or numbers.\n",
    "    print(\" \".join([feature_names1[i] for i in topic.argsort()[:-n_top_words - 1:-1]]))"
   ]
  },
  {
   "cell_type": "code",
   "execution_count": 22,
   "metadata": {},
   "outputs": [],
   "source": [
    "# let's add more stopwords.\n",
    "#add the stop words and the words that you want to exclude\n",
    "from sklearn.feature_extraction import text\n",
    "\n",
    "add_stop_words = ['zoo','animal','rt']\n",
    "stop_words = text.ENGLISH_STOP_WORDS.union(add_stop_words)"
   ]
  },
  {
   "cell_type": "code",
   "execution_count": 24,
   "metadata": {},
   "outputs": [
    {
     "data": {
      "text/plain": [
       "['aa', 'absolute', 'access', 'account', 'acres']"
      ]
     },
     "execution_count": 24,
     "metadata": {},
     "output_type": "execute_result"
    }
   ],
   "source": [
    "# build a new vectorizer removing the new list of stopwords\n",
    "vectorizer2 = CountVectorizer(stop_words=stop_words)\n",
    "vec2 = vectorizer2.fit_transform(zoo_nouns) \n",
    "feature_names2 = vectorizer2.get_feature_names() #get_feature_names_out() if cannot found\n",
    "feature_names2[:5]"
   ]
  },
  {
   "cell_type": "code",
   "execution_count": 26,
   "metadata": {},
   "outputs": [],
   "source": [
    "# build a function to display the topics\n",
    "def display_topics(model, feature_names, n_top_words):\n",
    "    for topic_idx, topic in enumerate(model.components_):\n",
    "        print(\"Topic %d:\" % (topic_idx + 1)) \n",
    "        print(\" \".join([feature_names[i] for i in topic.argsort()[:-n_top_words - 1:-1]])) "
   ]
  },
  {
   "cell_type": "code",
   "execution_count": 27,
   "metadata": {},
   "outputs": [
    {
     "name": "stdout",
     "output_type": "stream",
     "text": [
      "Topic 1:\n",
      "subspecies brookii otus boyce lola bird center april migratory owl scops borneo family rajah visitors\n",
      "Topic 2:\n",
      "species smithsonian cheetah scbi coco bird research survival association aquariums zoos plan tyen extinction programs\n",
      "Topic 3:\n",
      "migratory lion forests conservation species boyce lola understanding owl scientists scops smbc brazil scbi research\n",
      "Topic 4:\n",
      "conservation wild nature international union species july otus loss scientists tamarins patterns lion ecology bird\n",
      "Topic 5:\n",
      "parents house mammal prairie small brenda eddie owl study honor babies juice base kerns kit\n",
      "Topic 6:\n",
      "zoo scbi ferrets wyoming conservation ji cake habitat national apple cane banana bamboo potato pear\n",
      "Topic 7:\n",
      "time research species rosalie cubs staff montana wildlife unit cranes subspecies owl scops bornean cam\n",
      "Topic 8:\n",
      "cheetah care animals study zoo ssp health scientists chick breeding feet factors temperament makeup species\n",
      "Topic 9:\n",
      "keepers smithsonian cubs scbi chick cheetah royal rosalie biology virginia institute conservation habitat lola bird\n",
      "Topic 10:\n",
      "keepers species cubs care scbi rosalie time sexes names kits ferrets conservation subspecies owl scops\n",
      "None\n"
     ]
    }
   ],
   "source": [
    "lda_topics1 = display_topics(LDAmodel1, feature_names1, n_top_words=15)\n",
    "print(lda_topics1)"
   ]
  },
  {
   "cell_type": "code",
   "execution_count": 28,
   "metadata": {},
   "outputs": [
    {
     "name": "stdout",
     "output_type": "stream",
     "text": [
      "Topic 1:\n",
      "species ferrets scbi habitat wyoming divergence scientists region populations dna otus overnight care archipelago game\n",
      "Topic 2:\n",
      "tamarin lion kerns birth lola time twins years feeders puzzle national smithsonian outgoing toys keepers\n",
      "Topic 3:\n",
      "cheetah biologist research wildlife survival species montana unit loss studies individual brother members wild adrienne\n",
      "Topic 4:\n",
      "smithsonian scbi virginia research conservation royal institute biology washington study species sites stations migratory programs\n",
      "Topic 5:\n",
      "ji qi mei xiang xiao smithsonian bird keepers cake birthday brookii scbi fruitsicle tyen otus\n",
      "Topic 6:\n",
      "rosalie kit aster area owl brookii distribution access keepers house dens sighting nick small players\n",
      "Topic 7:\n",
      "cubs care scbi cheetah rosalie keepers chick parents staff lola family bond interference visitors otus\n",
      "Topic 8:\n",
      "animals apple july scientists base health pear potato ssp temperament bamboo cake makeup cane sugar\n",
      "Topic 9:\n",
      "species time conservation boyce owl coco pair lola scops bird subspecies brookii excitement year father\n",
      "Topic 10:\n",
      "conservation nature union international species tamarins lion cam brazil forests scops elevations scientists loss subspecies\n",
      "None\n"
     ]
    }
   ],
   "source": [
    "# hyperparameter tuning\n",
    "lda2 = LatentDirichletAllocation(n_components = 10, learning_method='online', learning_offset=50,\n",
    "                                random_state=0)\n",
    "\n",
    "# Build the model using unlabeled data\n",
    "LDAmodel2 = lda2.fit(vec2)\n",
    "\n",
    "lda_topics2 = display_topics(LDAmodel2, feature_names2, n_top_words=15)\n",
    "print(lda_topics2)"
   ]
  },
  {
   "cell_type": "markdown",
   "metadata": {},
   "source": [
    "## Topic Modeling 1 -- Latent Dirichlet Allocation (LDA)"
   ]
  },
  {
   "cell_type": "markdown",
   "metadata": {},
   "source": [
    ">**Function to remove all the verbs (VBZ), and adverbs (RB), keeping nouns (NN) and adjectives(JJ)**"
   ]
  },
  {
   "cell_type": "code",
   "execution_count": 30,
   "metadata": {},
   "outputs": [],
   "source": [
    "def nouns_adj(text):\n",
    "    '''Given a string of text, tokenize the text and pull out only the nouns and adjectives.'''\n",
    "    is_noun_adj = lambda pos: pos[:2] == 'NN' or pos[:2] == 'JJ'\n",
    "    tokenized = word_tokenize(text)\n",
    "    nouns_adj = [word for (word, pos) in pos_tag(tokenized) if is_noun_adj(pos)] \n",
    "    return ' '.join(nouns_adj)"
   ]
  },
  {
   "cell_type": "code",
   "execution_count": 31,
   "metadata": {},
   "outputs": [
    {
     "name": "stdout",
     "output_type": "stream",
     "text": [
      "Topic 1:\n",
      "lion headed golden small tamarins mammal native house species forests brazil allows department tropical ferrets\n",
      "Topic 2:\n",
      "cubs rosalie american species keepers native prairie parents scbi kit possible forests honor temporary short\n",
      "Topic 3:\n",
      "cheetah species conservation scbi genetics challenges behavior head excellent aquariums information concern base eddie complex\n",
      "Topic 4:\n",
      "scbi conservation virginia smithsonian research chick species royal biology keepers washington parents naped institute programs\n",
      "Topic 5:\n",
      "smithsonian conservation migratory scientists ji ssp patterns factors institute health public giant birds makeup genetic\n",
      "Topic 6:\n",
      "cheetah keepers lola cubs year habitat care time old infants golden bird headed lion rosalie\n",
      "Topic 7:\n",
      "black footed ferrets scbi wild wyoming horned bornean extinct owl program arrival scimitar artificial colony\n",
      "Topic 8:\n",
      "tyen cakes tian giant coco initial son samples chick fruitsicle introductions lola meeting cam dna\n",
      "Topic 9:\n",
      "montana taxonomic subspecies wildlife unit brookii research habitat implications aspen male leader species specific plantations\n",
      "Topic 10:\n",
      "species brookii july borneo otus subspecies owl endemic sumatra study pear house sole curator kerns\n",
      "None\n"
     ]
    }
   ],
   "source": [
    "# apply to tweets\n",
    "zoo_nouns_adj = Text.apply(nouns_adj)\n",
    "\n",
    "# we will continue use the same vectorizer, since we didn't change the parameters\n",
    "# vectorizer2 = CountVectorizer(stop_words=stop_words)\n",
    "vec3 = vectorizer2.fit_transform(zoo_nouns_adj) \n",
    "feature_names3 = vectorizer2.get_feature_names()\n",
    "\n",
    "# Build the model using the parameters from lda2\n",
    "LDAmodel3 = lda2.fit(vec3)\n",
    "\n",
    "lda_topics3 = display_topics(LDAmodel3, feature_names3, n_top_words = 15)\n",
    "print(lda_topics3)"
   ]
  },
  {
   "cell_type": "markdown",
   "metadata": {},
   "source": [
    "# Interactive Visualization -- Intertopic Distance Map"
   ]
  },
  {
   "cell_type": "code",
   "execution_count": 65,
   "metadata": {},
   "outputs": [],
   "source": [
    "#create a dictionary contains all the words instead of using words' ids\n",
    "from gensim import corpora\n",
    "\n",
    "#vectorizer2 = CountVectorizer(stop_words=stop_words)\n",
    "#vec2 = vectorizer2.fit_transform(tweets_nouns) \n",
    "#feature_names2 = vectorizer2.get_feature_names()\n",
    "\n",
    "dictionary2 = corpora.Dictionary([feature_names2]) "
   ]
  },
  {
   "cell_type": "code",
   "execution_count": 66,
   "metadata": {},
   "outputs": [
    {
     "data": {
      "text/plain": [
       "[(0,\n",
       "  '0.083*\"curator\" + 0.038*\"brazil\" + 0.038*\"carrot\" + 0.028*\"african\" + 0.028*\"biology\" + 0.028*\"canopy\" + 0.019*\"archipelago\" + 0.019*\"brenda\" + 0.019*\"aug\" + 0.019*\"designation\"'),\n",
       " (1,\n",
       "  '0.081*\"behaviors\" + 0.049*\"cheetahs\" + 0.033*\"cam\" + 0.025*\"cake\" + 0.022*\"cue\" + 0.022*\"base\" + 0.020*\"crane\" + 0.017*\"adrienne\" + 0.017*\"brother\" + 0.017*\"africa\"'),\n",
       " (2,\n",
       "  '0.057*\"boyce\" + 0.057*\"apple\" + 0.045*\"account\" + 0.034*\"cam\" + 0.034*\"chicks\" + 0.034*\"cake\" + 0.023*\"base\" + 0.023*\"development\" + 0.023*\"africa\" + 0.023*\"chance\"'),\n",
       " (3,\n",
       "  '0.060*\"cue\" + 0.041*\"crane\" + 0.039*\"development\" + 0.037*\"body\" + 0.029*\"building\" + 0.025*\"curator\" + 0.022*\"cane\" + 0.022*\"data\" + 0.022*\"aspen\" + 0.022*\"asia\"'),\n",
       " (4,\n",
       "  '0.068*\"colony\" + 0.049*\"coast\" + 0.039*\"chick\" + 0.039*\"crosier\" + 0.039*\"cheetahs\" + 0.039*\"crane\" + 0.029*\"complexes\" + 0.029*\"concern\" + 0.029*\"color\" + 0.020*\"cheetah\"'),\n",
       " (5,\n",
       "  '0.066*\"brenda\" + 0.066*\"complexes\" + 0.045*\"banana\" + 0.034*\"brother\" + 0.034*\"cakes\" + 0.023*\"aspen\" + 0.023*\"aug\" + 0.023*\"biologist\" + 0.023*\"cue\" + 0.023*\"behavior\"'),\n",
       " (6,\n",
       "  '0.067*\"archipelago\" + 0.059*\"concern\" + 0.042*\"andy\" + 0.034*\"coast\" + 0.034*\"asia\" + 0.034*\"cheetah\" + 0.026*\"areas\" + 0.017*\"crane\" + 0.017*\"complexes\" + 0.017*\"anxiety\"'),\n",
       " (7,\n",
       "  '0.044*\"chi\" + 0.030*\"cheetahs\" + 0.030*\"center\" + 0.022*\"cubs\" + 0.022*\"broadleaf\" + 0.022*\"data\" + 0.022*\"color\" + 0.022*\"bahia\" + 0.022*\"area\" + 0.022*\"conservation\"'),\n",
       " (8,\n",
       "  '0.078*\"chicks\" + 0.067*\"allows\" + 0.067*\"breeding\" + 0.056*\"coco\" + 0.023*\"coast\" + 0.023*\"cue\" + 0.023*\"biology\" + 0.023*\"action\" + 0.023*\"aquariums\" + 0.023*\"african\"'),\n",
       " (9,\n",
       "  '0.043*\"curator\" + 0.043*\"base\" + 0.037*\"data\" + 0.037*\"brenda\" + 0.031*\"brazil\" + 0.031*\"crosier\" + 0.025*\"cane\" + 0.025*\"broadleaf\" + 0.025*\"birds\" + 0.025*\"department\"')]"
      ]
     },
     "execution_count": 66,
     "metadata": {},
     "output_type": "execute_result"
    }
   ],
   "source": [
    "# using Gensim to build LDA model\n",
    "from gensim.matutils import Sparse2Corpus\n",
    "from gensim.models import ldamodel\n",
    "\n",
    "#vec2 = vectorizer2.fit_transform(tweets_nouns) \n",
    "corpus2 = Sparse2Corpus(vec2) #Convert a matrix in scipy.sparse format into a streaming gensim corpus.\n",
    "\n",
    "gen_lda2 = ldamodel.LdaModel(corpus=corpus2, num_topics=10, id2word=dictionary2) #if you don't have this parameter, it will only show the words' ids\n",
    "\n",
    "gen_lda2.print_topics(num_words=10)"
   ]
  },
  {
   "cell_type": "code",
   "execution_count": 67,
   "metadata": {},
   "outputs": [
    {
     "data": {
      "text/plain": [
       "[(0,\n",
       "  '0.049*\"born\" + 0.041*\"center\" + 0.033*\"animals\" + 0.025*\"complexes\" + 0.025*\"blood\" + 0.025*\"cheetah\" + 0.025*\"comfortable\" + 0.025*\"cattle\" + 0.025*\"association\" + 0.017*\"coalition\"'),\n",
       " (1,\n",
       "  '0.046*\"andy\" + 0.046*\"birth\" + 0.040*\"account\" + 0.040*\"africa\" + 0.037*\"10\" + 0.036*\"adrienne\" + 0.033*\"borneo\" + 0.030*\"aug\" + 0.030*\"colony\" + 0.027*\"aa\"'),\n",
       " (2,\n",
       "  '0.070*\"complex\" + 0.040*\"brazil\" + 0.031*\"cake\" + 0.031*\"chick\" + 0.021*\"aug\" + 0.021*\"color\" + 0.021*\"connection\" + 0.021*\"camera\" + 0.021*\"blood\" + 0.021*\"aa\"'),\n",
       " (3,\n",
       "  '0.066*\"coalition\" + 0.049*\"cam\" + 0.044*\"carnivore\" + 0.039*\"chicks\" + 0.028*\"chick\" + 0.028*\"arrival\" + 0.028*\"capable\" + 0.028*\"centers\" + 0.022*\"cane\" + 0.017*\"connection\"'),\n",
       " (4,\n",
       "  '0.060*\"biology\" + 0.052*\"cane\" + 0.045*\"brother\" + 0.038*\"american\" + 0.030*\"carnivore\" + 0.030*\"characters\" + 0.023*\"brookii\" + 0.023*\"association\" + 0.023*\"anxiety\" + 0.016*\"chick\"'),\n",
       " (5,\n",
       "  '0.074*\"camera\" + 0.028*\"brenda\" + 0.028*\"aug\" + 0.028*\"brazil\" + 0.028*\"base\" + 0.024*\"animals\" + 0.024*\"carrot\" + 0.019*\"birthday\" + 0.019*\"center\" + 0.019*\"aster\"'),\n",
       " (6,\n",
       "  '0.062*\"biology\" + 0.042*\"agricultural\" + 0.038*\"animals\" + 0.028*\"brookii\" + 0.021*\"brenda\" + 0.021*\"action\" + 0.021*\"capable\" + 0.015*\"birthday\" + 0.014*\"bornean\" + 0.014*\"brother\"'),\n",
       " (7,\n",
       "  '0.058*\"avian\" + 0.045*\"aster\" + 0.033*\"arrival\" + 0.026*\"aspen\" + 0.026*\"babies\" + 0.026*\"asia\" + 0.023*\"birthday\" + 0.020*\"assistant\" + 0.020*\"aquariums\" + 0.020*\"capable\"'),\n",
       " (8,\n",
       "  '0.062*\"cocoa\" + 0.062*\"colony\" + 0.049*\"birth\" + 0.035*\"bornean\" + 0.031*\"color\" + 0.031*\"aquariums\" + 0.027*\"bahia\" + 0.027*\"addition\" + 0.027*\"center\" + 0.022*\"better\"'),\n",
       " (9,\n",
       "  '0.071*\"challenges\" + 0.044*\"centers\" + 0.039*\"birds\" + 0.028*\"apparent\" + 0.026*\"absolute\" + 0.023*\"chick\" + 0.022*\"body\" + 0.022*\"born\" + 0.020*\"anxiety\" + 0.020*\"cattle\"')]"
      ]
     },
     "execution_count": 67,
     "metadata": {},
     "output_type": "execute_result"
    }
   ],
   "source": [
    "#vec3 = vectorizer2.fit_transform(tweets_nouns_adj)\n",
    "\n",
    "dictionary3 = corpora.Dictionary([feature_names3]) \n",
    "\n",
    "corpus3 = Sparse2Corpus(vec3) \n",
    "\n",
    "gen_lda3 = ldamodel.LdaModel(corpus=corpus3, num_topics=10, id2word=dictionary3) \n",
    "\n",
    "gen_lda3.print_topics(num_words=10)"
   ]
  },
  {
   "cell_type": "markdown",
   "metadata": {},
   "source": [
    "### 2. Building topic models\n",
    "### Intertopic Distance Map for Gensim models\n"
   ]
  },
  {
   "cell_type": "code",
   "execution_count": 68,
   "metadata": {
    "collapsed": true,
    "jupyter": {
     "outputs_hidden": true
    },
    "tags": []
   },
   "outputs": [
    {
     "data": {
      "text/html": [
       "\n",
       "<link rel=\"stylesheet\" type=\"text/css\" href=\"https://cdn.jsdelivr.net/gh/bmabey/pyLDAvis@3.3.1/pyLDAvis/js/ldavis.v1.0.0.css\">\n",
       "\n",
       "\n",
       "<div id=\"ldavis_el574826779315401448600107653\"></div>\n",
       "<script type=\"text/javascript\">\n",
       "\n",
       "var ldavis_el574826779315401448600107653_data = {\"mdsDat\": {\"x\": [0.05035313268510656, -0.08277907485610748, 0.006582554613701934, 0.10088085726458546, 0.1252842426285937, -0.04561655507752958, 0.041354859414389974, -0.05703740620734715, -0.1533867129293319, 0.01436410246393824], \"y\": [-0.06448984592239414, 0.1037298012207548, 0.0984333614001121, -0.08176374768287012, 0.05129522788371924, 0.07607217067482203, 0.03592905513377941, -0.08611445468720465, -0.07148816567095388, -0.061603402349764726], \"topics\": [1, 2, 3, 4, 5, 6, 7, 8, 9, 10], \"cluster\": [1, 1, 1, 1, 1, 1, 1, 1, 1, 1], \"Freq\": [9.601844810720513, 11.485908787434552, 5.330051501047005, 13.406046131319693, 7.855752917345744, 6.105532746430865, 9.835925074793959, 10.77667273462406, 16.637984526204605, 8.964280770079004]}, \"tinfo\": {\"Term\": [\"biology\", \"birth\", \"coalition\", \"camera\", \"challenges\", \"complex\", \"cane\", \"centers\", \"carnivore\", \"avian\", \"brazil\", \"cocoa\", \"andy\", \"born\", \"colony\", \"arrival\", \"cam\", \"agricultural\", \"aug\", \"aster\", \"center\", \"account\", \"chick\", \"birds\", \"animals\", \"american\", \"adrienne\", \"brother\", \"brookii\", \"bornean\", \"cheetah\", \"comfortable\", \"born\", \"blood\", \"association\", \"atlantic\", \"complexes\", \"access\", \"center\", \"cattle\", \"check\", \"body\", \"behavior\", \"animals\", \"cheetahs\", \"barns\", \"apparent\", \"conflict\", \"care\", \"concern\", \"connection\", \"aspen\", \"active\", \"chicks\", \"behavioral\", \"canopy\", \"action\", \"color\", \"coalition\", \"confidence\", \"capable\", \"camera\", \"colony\", \"characters\", \"cocoa\", \"biology\", \"black\", \"carnivore\", \"andy\", \"account\", \"aa\", \"borneo\", \"10\", \"adrienne\", \"africa\", \"assistant\", \"area\", \"black\", \"breed\", \"chance\", \"aug\", \"birth\", \"carrot\", \"cheetahs\", \"african\", \"breeding\", \"colony\", \"capable\", \"base\", \"bond\", \"birthday\", \"apple\", \"banana\", \"cattle\", \"absolute\", \"chick\", \"better\", \"acres\", \"brother\", \"animals\", \"brazil\", \"characters\", \"april\", \"complex\", \"brazil\", \"cake\", \"boyce\", \"access\", \"blood\", \"aa\", \"area\", \"chick\", \"archipelago\", \"areas\", \"connection\", \"births\", \"aug\", \"behavioral\", \"apple\", \"action\", \"able\", \"color\", \"account\", \"camera\", \"complexes\", \"andy\", \"conservation\", \"conservationists\", \"considers\", \"cooperative\", \"crane\", \"cranes\", \"crosier\", \"breed\", \"10\", \"april\", \"absolute\", \"africa\", \"chicks\", \"challenges\", \"animals\", \"coalition\", \"cam\", \"carnivore\", \"chicks\", \"arrival\", \"active\", \"canopy\", \"chi\", \"able\", \"centers\", \"chance\", \"batteries\", \"acres\", \"broadleaf\", \"chick\", \"cane\", \"biologist\", \"behavioral\", \"connection\", \"change\", \"carrot\", \"capable\", \"body\", \"cheetahs\", \"allows\", \"breed\", \"conflict\", \"cakes\", \"april\", \"cheetah\", \"camera\", \"born\", \"challenges\", \"aster\", \"cocoa\", \"colony\", \"american\", \"cane\", \"brother\", \"biology\", \"characters\", \"building\", \"brookii\", \"anxiety\", \"association\", \"care\", \"carnivore\", \"cake\", \"check\", \"african\", \"batteries\", \"april\", \"brenda\", \"breeding\", \"africa\", \"base\", \"active\", \"behavioral\", \"action\", \"banana\", \"aa\", \"agricultural\", \"challenges\", \"chick\", \"carrot\", \"confidence\", \"animals\", \"allows\", \"asia\", \"better\", \"connection\", \"color\", \"borneo\", \"base\", \"camera\", \"archipelago\", \"care\", \"concern\", \"brazil\", \"access\", \"carrot\", \"babies\", \"brenda\", \"aug\", \"breed\", \"cakes\", \"absolute\", \"breeding\", \"births\", \"birthday\", \"behavioral\", \"action\", \"animals\", \"change\", \"center\", \"assistant\", \"aster\", \"borneo\", \"allows\", \"conservation\", \"conservationists\", \"considers\", \"cooperative\", \"cattle\", \"better\", \"bornean\", \"color\", \"capable\", \"agricultural\", \"brookii\", \"biology\", \"artificial\", \"action\", \"building\", \"conflict\", \"african\", \"boyce\", \"animals\", \"brenda\", \"cake\", \"change\", \"confidence\", \"acres\", \"coco\", \"complexes\", \"coast\", \"allows\", \"adrienne\", \"april\", \"cheetah\", \"care\", \"concern\", \"breeding\", \"births\", \"better\", \"brother\", \"birthday\", \"comfortable\", \"bornean\", \"capable\", \"color\", \"black\", \"cane\", \"camera\", \"africa\", \"cocoa\", \"aspen\", \"babies\", \"avian\", \"arrival\", \"artificial\", \"barns\", \"asia\", \"aster\", \"archipelago\", \"assistant\", \"areas\", \"behavior\", \"bamboo\", \"biologist\", \"banana\", \"birthday\", \"behaviors\", \"aquariums\", \"association\", \"acres\", \"area\", \"complexes\", \"bird\", \"adrienne\", \"batteries\", \"atlantic\", \"connection\", \"births\", \"aug\", \"base\", \"centers\", \"capable\", \"colony\", \"cattle\", \"complex\", \"brother\", \"addition\", \"bahia\", \"cocoa\", \"coast\", \"bornean\", \"bond\", \"aquariums\", \"birth\", \"coco\", \"cakes\", \"colony\", \"bird\", \"color\", \"better\", \"behaviors\", \"center\", \"birds\", \"atlantic\", \"births\", \"allows\", \"biologist\", \"black\", \"aster\", \"avian\", \"check\", \"confidence\", \"behavior\", \"camera\", \"brazil\", \"barns\", \"birthday\", \"absolute\", \"brenda\", \"apparent\", \"challenges\", \"bamboo\", \"broadleaf\", \"birds\", \"centers\", \"body\", \"anxiety\", \"canopy\", \"absolute\", \"areas\", \"cattle\", \"boyce\", \"apple\", \"born\", \"chi\", \"april\", \"chick\", \"behaviors\", \"coco\", \"characters\", \"change\", \"bird\", \"conflict\", \"cam\", \"archipelago\", \"breeding\", \"concern\", \"animals\", \"aspen\", \"africa\", \"bornean\", \"brenda\", \"cocoa\", \"capable\", \"colony\", \"connection\"], \"Freq\": [13.0, 14.0, 11.0, 12.0, 10.0, 6.0, 9.0, 9.0, 10.0, 13.0, 6.0, 15.0, 6.0, 10.0, 19.0, 7.0, 10.0, 5.0, 9.0, 12.0, 12.0, 6.0, 11.0, 8.0, 13.0, 3.0, 7.0, 9.0, 5.0, 9.0, 2.4054547743015444, 2.4054171274505607, 4.733476491931401, 2.4054784845778845, 2.4051043689962373, 1.629409465920165, 2.4057912430322084, 0.8536956489213628, 3.9570561629959946, 2.405261472201303, 1.629828287137355, 1.6295350760864267, 1.6297359799546554, 3.1814970057768335, 0.853329949582844, 0.8534083201909007, 0.8538323902478915, 0.853580807926416, 0.8535373692522044, 0.853442980633032, 1.6297895543195164, 0.8534138405224151, 0.8534330259368585, 1.6292462089029196, 0.853632662843756, 0.8537439744464232, 0.853747322844227, 1.6296869304516914, 1.6299575171931346, 0.8537390875955745, 1.6294541715557076, 0.8540050589778826, 0.8539224349996426, 0.8538511231761452, 0.8537880466013005, 0.8537691326785708, 0.8537514857171724, 0.8537476848331789, 5.344699744270826, 4.592020847686492, 3.0864244615742455, 3.838441273565595, 4.257246368652596, 4.198932261358614, 4.591505556211247, 3.0858403202296185, 1.5808155179386525, 3.0862722557309272, 3.086138669663605, 0.8277915059713187, 3.536843554703651, 5.344411787269953, 1.9527379656482629, 1.1315517169571083, 0.8280472031277325, 0.8280705319749837, 3.4340435549192407, 2.671449194598849, 0.828220518600814, 0.8280516956899642, 1.580966857745878, 0.8281159988698582, 0.8279113437156668, 1.1208205554760973, 1.1319499853053074, 1.5011257995464453, 1.1782366915963054, 0.8281330489554363, 1.1701063447566333, 0.8284224132649596, 0.8282762155470355, 0.828202115333841, 0.8281849028664956, 3.7829311053006407, 2.1842425521789983, 1.65170866733069, 0.5860401797019054, 0.5860496240045686, 1.1188485521552785, 1.1188123824855043, 0.5861894800610291, 1.651552534922831, 0.5862664913162569, 0.5862678476788734, 1.1190332184137373, 0.5862457439917891, 1.1191504684265887, 0.5862738257215167, 0.5862949246955517, 0.5860481671706472, 0.5862646828327681, 1.1191339911325804, 0.586268450506703, 1.1188855255954921, 0.5862451411639595, 0.5862686012136603, 0.0533028655789429, 0.0533028655789429, 0.0533028655789429, 0.0533028655789429, 0.0533028655789429, 0.0533028655789429, 0.0533028655789429, 0.5861150810597295, 0.5863062277173561, 0.5863034145208181, 0.58627267030151, 0.5863975058978836, 0.5860924247804682, 0.5862294174047382, 0.586401223336166, 8.910334333032829, 6.701934234547338, 5.965706694194982, 5.228801908322217, 3.7562914855395326, 2.283064395482265, 2.2829309680066023, 2.282985046566814, 2.282739166010337, 3.755406264995504, 0.8101565331875568, 1.5463122425551445, 2.2831169578211625, 0.8098640288256633, 3.756358957388021, 3.019542617758593, 1.5461208196142078, 1.5466125807271622, 2.283250132593273, 1.5463113580927113, 1.5467270554363957, 3.756153762103479, 1.5464883769311617, 0.8102342395299172, 1.5462226591458217, 1.5464270963197067, 0.810194059665087, 0.8102406834705032, 1.546646569354959, 0.8101742856121122, 2.2830916874659235, 1.546596913106914, 1.547005282047579, 1.5462406010980416, 1.546507203345815, 0.8104262942297349, 2.9980441815717827, 4.17335268546457, 3.5857826914353543, 4.761207586756792, 2.410074369657891, 1.2347182578206872, 1.8226046262612403, 1.822278256402786, 1.8225065968391456, 1.2346285209176822, 2.4103188508903353, 1.2346571004924016, 1.2344950261684098, 0.6467692512448684, 0.6466418278042151, 1.2348329463213101, 1.2348356117738748, 0.6468036800071599, 1.2346146013320676, 0.6466488616373713, 0.646872463491394, 0.6467976827388898, 0.6468657998599828, 0.6468809781315307, 0.6468681691511513, 0.6467680665992842, 1.234790447160976, 1.2349137983824336, 0.6468292239275698, 0.6468518802743681, 0.6470364628644604, 0.6469501318175099, 0.646939988289695, 0.6468934909505141, 0.6468703903616217, 0.6468673547073122, 0.6468655036985868, 1.7530961314236948, 4.580731333692196, 1.1877419778194271, 1.187448385519532, 1.1876014540255533, 1.7531018858788083, 0.6221794553954965, 1.4736475916630394, 1.1877937679154495, 1.753241834227171, 1.7531734713004214, 1.187604216164008, 0.6220562525115146, 1.1878620157530966, 0.6221116679142584, 0.6220951526280825, 1.1879844705579137, 0.6220963610636563, 0.6222432723027062, 1.4777407355853343, 0.622268591905206, 1.1879365934913686, 0.6221261115965936, 1.187909547552335, 0.622286833527916, 0.6223278052483248, 0.056578212681720294, 0.056578212681720294, 0.056578212681720294, 0.056578212681720294, 0.6223072618435693, 0.6220095263359923, 0.622264793964831, 0.6222558745594049, 0.6223219932486601, 4.161477110082026, 2.7970706496742657, 6.207541426351512, 1.4325592489715342, 2.1150634872476513, 1.432896225978797, 1.4326738304243476, 1.432512248327055, 0.7505521792483607, 3.811208654292971, 2.1151964239817405, 1.432957688360039, 1.432626458966105, 1.432931545989737, 1.4328649849192514, 1.4329562051049864, 1.4327038663391627, 0.7505740572603865, 1.4326831007684264, 1.432270106939718, 1.4327658849410496, 0.7505852743767218, 0.7503516153542168, 0.7505925052451032, 0.7503738641800058, 0.7505747988879128, 1.4329583372841246, 1.4329640848974534, 1.5086374400951166, 0.7505727594122155, 1.4329649192284204, 2.1150401259805727, 1.4329406309269341, 0.8035561131461618, 0.7508291771294339, 0.7508109609033191, 0.750769754223889, 0.7507540873423959, 2.8530802231889796, 2.852636362407652, 6.331921673231917, 3.5489803916503075, 1.4612020836671253, 1.4614057314626772, 2.8525991877975914, 4.940606028219672, 1.4614112162412107, 2.1573980238893746, 1.4613289445632074, 2.1571254100822617, 0.7655027190421096, 1.460927844740447, 1.4611140225006698, 2.513167574049395, 1.4611532285101874, 2.1572686237439713, 1.4615283264198997, 1.4612917699531465, 0.7655308539245874, 1.4608409008436927, 1.4612379378675393, 1.461020781265599, 0.7652526537689681, 0.7655190718077376, 1.4609223599619134, 0.7654601612234881, 1.4615245683309046, 0.7655478668950387, 1.4613237644945922, 2.157258669886633, 2.157143489537428, 0.7656689383026686, 0.7656100785034057, 0.7655603092167121, 4.494198708895711, 4.494217526425144, 10.387172123698821, 2.2840227970770264, 5.967753022270379, 3.020690498468155, 5.2309667704438185, 8.177891926281177, 3.757287320498417, 2.28397183293481, 10.387113162106596, 3.7573180557964916, 5.231223629720588, 3.7573353051984726, 2.284064509267271, 4.493397395767329, 3.020574770662138, 1.5467762998430683, 1.5471178380022887, 2.2834062093625844, 1.5470494676453466, 2.226626352862306, 3.756760429674275, 3.7568115506292368, 1.5470110485227528, 1.5469509892413105, 1.546721258569475, 3.020989383560659, 1.5473881831751517, 0.8105178013107486, 1.8243671624145832, 1.5473265557662568, 1.5472415632583147, 2.520846744526272, 6.475415438065776, 1.0382464246632246, 1.0382480299391534, 3.509914189299965, 4.004766009785331, 2.027096819233705, 1.840179672921274, 1.5325418903069572, 2.321922472219382, 1.038260365217343, 1.834517273303014, 0.5437249953104645, 1.0383972361123233, 2.0269863086592395, 1.0381825515789005, 1.5326753816736665, 2.079481704129427, 1.0380493136768116, 1.0381097227446578, 1.0380997531362581, 0.8267974516071538, 1.0383885338270253, 0.5438733566015665, 1.3453536213389756, 0.5439132350351658, 0.5439305551175553, 0.5438596272679651, 1.5325466216465369, 0.5437777159514939, 1.0382549579721092, 1.038247016080672, 0.8442728233206971, 1.3301684714465631, 1.3107917771276882, 1.3045402412435654, 0.8325620819556152], \"Total\": [13.0, 14.0, 11.0, 12.0, 10.0, 6.0, 9.0, 9.0, 10.0, 13.0, 6.0, 15.0, 6.0, 10.0, 19.0, 7.0, 10.0, 5.0, 9.0, 12.0, 12.0, 6.0, 11.0, 8.0, 13.0, 3.0, 7.0, 9.0, 5.0, 9.0, 4.4032302128699055, 4.897942015608658, 10.196021249420554, 5.281515530857113, 6.140090698725324, 4.3775966134558555, 6.768120462745003, 2.5309824587289294, 12.00112920195754, 7.813331558161793, 6.290230288552659, 6.355070185926796, 6.505955169340891, 13.01922099222296, 3.5201350801557356, 3.5608366690172026, 3.9047112715634227, 4.027877682613804, 4.421793515450148, 4.477177833527192, 8.560101803634339, 4.710302818616657, 4.912134949491842, 9.603170856300148, 5.086438256425834, 5.125217805732057, 5.1659297807751, 11.444828043025518, 11.540870441654523, 6.290905051264423, 15.185587478789728, 12.862695012535053, 19.185121322798416, 6.999435419942931, 15.491725623446186, 13.612375035040005, 7.3320120232332835, 10.372425391286873, 6.953484945961023, 6.200679180830726, 5.321482859163371, 6.805065126039379, 7.6668332914137, 7.794367693794663, 9.249087382104506, 6.320790200977933, 3.3907702469038528, 7.3320120232332835, 7.541434128173261, 2.1454850928992975, 9.208015217709086, 14.52512564216197, 6.012423529346031, 3.5201350801557356, 4.098375394636807, 4.475943641883423, 19.185121322798416, 15.185587478789728, 4.884552222772715, 5.05199946989042, 9.665160321559386, 5.086630282446388, 5.302203001905198, 7.813331558161793, 8.501862507128157, 11.306542789119927, 8.962382662612777, 6.375077366686566, 9.082531965327235, 13.01922099222296, 6.711496685027046, 6.999435419942931, 8.134986876706073, 6.55629376163075, 6.711496685027046, 5.532680210511112, 2.3659824725919645, 2.5309824587289294, 5.281515530857113, 5.321482859163371, 3.3907702469038528, 11.306542789119927, 4.206894105851992, 4.306723535941655, 8.560101803634339, 4.606626929176887, 9.208015217709086, 5.086438256425834, 5.086630282446388, 5.1659297807751, 5.318828075365639, 11.444828043025518, 6.200679180830726, 12.862695012535053, 6.768120462745003, 6.953484945961023, 0.6562443232828287, 0.6562443232828287, 0.6562443232828287, 0.6562443232828287, 0.6562443232828287, 0.6562443232828287, 0.6562443232828287, 7.541434128173261, 7.6668332914137, 8.134986876706073, 8.501862507128157, 9.249087382104506, 9.603170856300148, 10.962065123909321, 13.01922099222296, 11.540870441654523, 10.136681365338715, 10.372425391286873, 9.603170856300148, 7.81851095780925, 4.912134949491842, 5.125217805732057, 5.287351083410135, 5.318828075365639, 9.686148340006604, 2.1454850928992975, 4.149558987979628, 6.375077366686566, 2.3815714480972865, 11.306542789119927, 9.096287255187763, 4.994262813546261, 5.086438256425834, 8.560101803634339, 5.854820399425871, 6.012423529346031, 15.185587478789728, 6.355070185926796, 3.5201350801557356, 6.857589537148259, 7.541434128173261, 4.027877682613804, 4.168888264382765, 8.134986876706073, 4.4032302128699055, 12.862695012535053, 10.196021249420554, 10.962065123909321, 12.912720070297876, 15.491725623446186, 19.185121322798416, 3.5962398611257327, 9.096287255187763, 9.082531965327235, 13.612375035040005, 6.999435419942931, 3.933759842667331, 5.886010339500449, 5.914347028094374, 6.140090698725324, 4.421793515450148, 10.372425391286873, 5.532680210511112, 6.290230288552659, 4.098375394636807, 4.149558987979628, 8.134986876706073, 8.140250297787988, 4.475943641883423, 9.249087382104506, 4.884552222772715, 4.912134949491842, 5.086438256425834, 5.1659297807751, 5.302203001905198, 5.321482859163371, 5.338144985144409, 10.962065123909321, 11.306542789119927, 6.012423529346031, 6.290905051264423, 13.01922099222296, 6.857589537148259, 6.959245715415872, 8.962382662612777, 8.560101803634339, 11.444828043025518, 6.805065126039379, 4.884552222772715, 12.862695012535053, 4.206894105851992, 4.421793515450148, 4.477177833527192, 6.711496685027046, 2.5309824587289294, 6.012423529346031, 5.307929903192246, 8.140250297787988, 9.208015217709086, 7.541434128173261, 4.168888264382765, 8.501862507128157, 4.475943641883423, 4.606626929176887, 9.665160321559386, 5.086438256425834, 5.1659297807751, 13.01922099222296, 5.854820399425871, 12.00112920195754, 6.320790200977933, 12.912720070297876, 6.805065126039379, 6.857589537148259, 0.6562443232828287, 0.6562443232828287, 0.6562443232828287, 0.6562443232828287, 7.813331558161793, 8.962382662612777, 9.470037343566094, 11.444828043025518, 15.185587478789728, 5.338144985144409, 5.886010339500449, 13.612375035040005, 3.4126005805580912, 5.1659297807751, 3.933759842667331, 4.027877682613804, 4.098375394636807, 2.3659824725919645, 13.01922099222296, 8.140250297787988, 5.532680210511112, 5.854820399425871, 6.290905051264423, 6.375077366686566, 6.693811547126755, 6.768120462745003, 3.5490010354697907, 6.857589537148259, 7.794367693794663, 8.134986876706073, 4.4032302128699055, 4.421793515450148, 4.477177833527192, 4.475943641883423, 4.606626929176887, 8.962382662612777, 9.082531965327235, 9.665160321559386, 4.897942015608658, 9.470037343566094, 15.185587478789728, 11.444828043025518, 7.3320120232332835, 9.096287255187763, 12.862695012535053, 9.249087382104506, 15.491725623446186, 4.710302818616657, 5.307929903192246, 13.104072177747227, 7.81851095780925, 3.4126005805580912, 3.5608366690172026, 6.959245715415872, 12.912720070297876, 4.206894105851992, 6.320790200977933, 4.306723535941655, 6.505955169340891, 2.3410939899234906, 4.994262813546261, 5.302203001905198, 9.665160321559386, 5.929636476245791, 8.98398839023468, 6.140090698725324, 6.375077366686566, 3.3907702469038528, 6.768120462745003, 7.473623448653041, 7.794367693794663, 4.149558987979628, 4.3775966134558555, 8.560101803634339, 4.606626929176887, 9.208015217709086, 4.884552222772715, 9.686148340006604, 15.185587478789728, 19.185121322798416, 7.813331558161793, 6.55629376163075, 9.082531965327235, 6.548938375382693, 6.549006414444116, 15.491725623446186, 3.5490010354697907, 9.470037343566094, 5.05199946989042, 8.98398839023468, 14.52512564216197, 6.693811547126755, 4.168888264382765, 19.185121322798416, 7.473623448653041, 11.444828043025518, 8.962382662612777, 5.929636476245791, 12.00112920195754, 8.48345070954092, 4.3775966134558555, 4.606626929176887, 6.857589537148259, 4.994262813546261, 7.3320120232332835, 12.912720070297876, 13.104072177747227, 6.290230288552659, 6.290905051264423, 6.505955169340891, 12.862695012535053, 6.711496685027046, 3.5608366690172026, 9.665160321559386, 8.501862507128157, 8.140250297787988, 3.9047112715634227, 10.962065123909321, 2.3410939899234906, 2.3815714480972865, 8.48345070954092, 9.686148340006604, 6.355070185926796, 5.914347028094374, 5.125217805732057, 8.501862507128157, 4.306723535941655, 7.813331558161793, 2.3659824725919645, 5.086630282446388, 10.196021249420554, 5.287351083410135, 8.134986876706073, 11.306542789119927, 5.929636476245791, 6.693811547126755, 6.999435419942931, 5.854820399425871, 7.473623448653041, 4.027877682613804, 10.136681365338715, 4.206894105851992, 4.475943641883423, 4.477177833527192, 13.01922099222296, 4.710302818616657, 9.249087382104506, 9.470037343566094, 8.140250297787988, 15.491725623446186, 15.185587478789728, 19.185121322798416, 8.560101803634339], \"Category\": [\"Default\", \"Default\", \"Default\", \"Default\", \"Default\", \"Default\", \"Default\", \"Default\", \"Default\", \"Default\", \"Default\", \"Default\", \"Default\", \"Default\", \"Default\", \"Default\", \"Default\", \"Default\", \"Default\", \"Default\", \"Default\", \"Default\", \"Default\", \"Default\", \"Default\", \"Default\", \"Default\", \"Default\", \"Default\", \"Default\", \"Topic1\", \"Topic1\", \"Topic1\", \"Topic1\", \"Topic1\", \"Topic1\", \"Topic1\", \"Topic1\", \"Topic1\", \"Topic1\", \"Topic1\", \"Topic1\", \"Topic1\", \"Topic1\", \"Topic1\", \"Topic1\", \"Topic1\", \"Topic1\", \"Topic1\", \"Topic1\", \"Topic1\", \"Topic1\", \"Topic1\", \"Topic1\", \"Topic1\", \"Topic1\", \"Topic1\", \"Topic1\", \"Topic1\", \"Topic1\", \"Topic1\", \"Topic1\", \"Topic1\", \"Topic1\", \"Topic1\", \"Topic1\", \"Topic1\", \"Topic1\", \"Topic2\", \"Topic2\", \"Topic2\", \"Topic2\", \"Topic2\", \"Topic2\", \"Topic2\", \"Topic2\", \"Topic2\", \"Topic2\", \"Topic2\", \"Topic2\", \"Topic2\", \"Topic2\", \"Topic2\", \"Topic2\", \"Topic2\", \"Topic2\", \"Topic2\", \"Topic2\", \"Topic2\", \"Topic2\", \"Topic2\", \"Topic2\", \"Topic2\", \"Topic2\", \"Topic2\", \"Topic2\", \"Topic2\", \"Topic2\", \"Topic2\", \"Topic2\", \"Topic2\", \"Topic2\", \"Topic2\", \"Topic3\", \"Topic3\", \"Topic3\", \"Topic3\", \"Topic3\", \"Topic3\", \"Topic3\", \"Topic3\", \"Topic3\", \"Topic3\", \"Topic3\", \"Topic3\", \"Topic3\", \"Topic3\", \"Topic3\", \"Topic3\", \"Topic3\", \"Topic3\", \"Topic3\", \"Topic3\", \"Topic3\", \"Topic3\", \"Topic3\", \"Topic3\", \"Topic3\", \"Topic3\", \"Topic3\", \"Topic3\", \"Topic3\", \"Topic3\", \"Topic3\", \"Topic3\", \"Topic3\", \"Topic3\", \"Topic3\", \"Topic3\", \"Topic3\", \"Topic3\", \"Topic4\", \"Topic4\", \"Topic4\", \"Topic4\", \"Topic4\", \"Topic4\", \"Topic4\", \"Topic4\", \"Topic4\", \"Topic4\", \"Topic4\", \"Topic4\", \"Topic4\", \"Topic4\", \"Topic4\", \"Topic4\", \"Topic4\", \"Topic4\", \"Topic4\", \"Topic4\", \"Topic4\", \"Topic4\", \"Topic4\", \"Topic4\", \"Topic4\", \"Topic4\", \"Topic4\", \"Topic4\", \"Topic4\", \"Topic4\", \"Topic4\", \"Topic4\", \"Topic4\", \"Topic4\", \"Topic4\", \"Topic4\", \"Topic5\", \"Topic5\", \"Topic5\", \"Topic5\", \"Topic5\", \"Topic5\", \"Topic5\", \"Topic5\", \"Topic5\", \"Topic5\", \"Topic5\", \"Topic5\", \"Topic5\", \"Topic5\", \"Topic5\", \"Topic5\", \"Topic5\", \"Topic5\", \"Topic5\", \"Topic5\", \"Topic5\", \"Topic5\", \"Topic5\", \"Topic5\", \"Topic5\", \"Topic5\", \"Topic5\", \"Topic5\", \"Topic5\", \"Topic5\", \"Topic5\", \"Topic5\", \"Topic5\", \"Topic5\", \"Topic5\", \"Topic5\", \"Topic5\", \"Topic6\", \"Topic6\", \"Topic6\", \"Topic6\", \"Topic6\", \"Topic6\", \"Topic6\", \"Topic6\", \"Topic6\", \"Topic6\", \"Topic6\", \"Topic6\", \"Topic6\", \"Topic6\", \"Topic6\", \"Topic6\", \"Topic6\", \"Topic6\", \"Topic6\", \"Topic6\", \"Topic6\", \"Topic6\", \"Topic6\", \"Topic6\", \"Topic6\", \"Topic6\", \"Topic6\", \"Topic6\", \"Topic6\", \"Topic6\", \"Topic6\", \"Topic6\", \"Topic6\", \"Topic6\", \"Topic6\", \"Topic7\", \"Topic7\", \"Topic7\", \"Topic7\", \"Topic7\", \"Topic7\", \"Topic7\", \"Topic7\", \"Topic7\", \"Topic7\", \"Topic7\", \"Topic7\", \"Topic7\", \"Topic7\", \"Topic7\", \"Topic7\", \"Topic7\", \"Topic7\", \"Topic7\", \"Topic7\", \"Topic7\", \"Topic7\", \"Topic7\", \"Topic7\", \"Topic7\", \"Topic7\", \"Topic7\", \"Topic7\", \"Topic7\", \"Topic7\", \"Topic7\", \"Topic7\", \"Topic7\", \"Topic7\", \"Topic7\", \"Topic7\", \"Topic7\", \"Topic7\", \"Topic8\", \"Topic8\", \"Topic8\", \"Topic8\", \"Topic8\", \"Topic8\", \"Topic8\", \"Topic8\", \"Topic8\", \"Topic8\", \"Topic8\", \"Topic8\", \"Topic8\", \"Topic8\", \"Topic8\", \"Topic8\", \"Topic8\", \"Topic8\", \"Topic8\", \"Topic8\", \"Topic8\", \"Topic8\", \"Topic8\", \"Topic8\", \"Topic8\", \"Topic8\", \"Topic8\", \"Topic8\", \"Topic8\", \"Topic8\", \"Topic8\", \"Topic8\", \"Topic8\", \"Topic8\", \"Topic8\", \"Topic8\", \"Topic9\", \"Topic9\", \"Topic9\", \"Topic9\", \"Topic9\", \"Topic9\", \"Topic9\", \"Topic9\", \"Topic9\", \"Topic9\", \"Topic9\", \"Topic9\", \"Topic9\", \"Topic9\", \"Topic9\", \"Topic9\", \"Topic9\", \"Topic9\", \"Topic9\", \"Topic9\", \"Topic9\", \"Topic9\", \"Topic9\", \"Topic9\", \"Topic9\", \"Topic9\", \"Topic9\", \"Topic9\", \"Topic9\", \"Topic9\", \"Topic9\", \"Topic9\", \"Topic9\", \"Topic10\", \"Topic10\", \"Topic10\", \"Topic10\", \"Topic10\", \"Topic10\", \"Topic10\", \"Topic10\", \"Topic10\", \"Topic10\", \"Topic10\", \"Topic10\", \"Topic10\", \"Topic10\", \"Topic10\", \"Topic10\", \"Topic10\", \"Topic10\", \"Topic10\", \"Topic10\", \"Topic10\", \"Topic10\", \"Topic10\", \"Topic10\", \"Topic10\", \"Topic10\", \"Topic10\", \"Topic10\", \"Topic10\", \"Topic10\", \"Topic10\", \"Topic10\", \"Topic10\", \"Topic10\", \"Topic10\", \"Topic10\", \"Topic10\"], \"logprob\": [30.0, 29.0, 28.0, 27.0, 26.0, 25.0, 24.0, 23.0, 22.0, 21.0, 20.0, 19.0, 18.0, 17.0, 16.0, 15.0, 14.0, 13.0, 12.0, 11.0, 10.0, 9.0, 8.0, 7.0, 6.0, 5.0, 4.0, 3.0, 2.0, 1.0, -3.6987, -3.6987, -3.0218, -3.6987, -3.6989, -4.0883, -3.6986, -4.7346, -3.201, -3.6988, -4.088, -4.0882, -4.0881, -3.4191, -4.7351, -4.735, -4.7345, -4.7348, -4.7348, -4.7349, -4.088, -4.735, -4.735, -4.0884, -4.7347, -4.7346, -4.7346, -4.0881, -4.0879, -4.7346, -4.0882, -4.7343, -4.7344, -4.7345, -4.7345, -4.7346, -4.7346, -4.7346, -3.0795, -3.2313, -3.6286, -3.4106, -3.307, -3.3208, -3.2314, -3.6288, -4.2977, -3.6287, -3.6287, -4.9446, -3.4924, -3.0796, -4.0864, -4.632, -4.9443, -4.9443, -3.5219, -3.773, -4.9441, -4.9443, -4.2976, -4.9442, -4.9445, -4.6416, -4.6317, -4.3494, -4.5916, -4.9442, -4.5985, -4.9439, -4.944, -4.9441, -4.9442, -2.6574, -3.2066, -3.4861, -4.5222, -4.5222, -3.8756, -3.8756, -4.522, -3.4862, -4.5219, -4.5219, -3.8754, -4.5219, -3.8753, -4.5218, -4.5218, -4.5222, -4.5219, -3.8753, -4.5219, -3.8755, -4.5219, -4.5219, -6.9196, -6.9196, -6.9196, -6.9196, -6.9196, -6.9196, -6.9196, -4.5221, -4.5218, -4.5218, -4.5218, -4.5216, -4.5222, -4.5219, -4.5216, -2.723, -3.0078, -3.1242, -3.256, -3.5868, -4.0847, -4.0848, -4.0847, -4.0848, -3.587, -5.1207, -4.4743, -4.0847, -5.1211, -3.5868, -3.8051, -4.4745, -4.4742, -4.0846, -4.4743, -4.4741, -3.5868, -4.4742, -5.1207, -4.4744, -4.4743, -5.1207, -5.1206, -4.4741, -5.1207, -4.0847, -4.4742, -4.4739, -4.4744, -4.4742, -5.1204, -3.2778, -2.947, -3.0988, -2.8153, -3.4961, -4.1649, -3.7755, -3.7757, -3.7755, -4.165, -3.496, -4.165, -4.1651, -4.8115, -4.8117, -4.1648, -4.1648, -4.8115, -4.165, -4.8117, -4.8114, -4.8115, -4.8114, -4.8114, -4.8114, -4.8115, -4.1649, -4.1648, -4.8114, -4.8114, -4.8111, -4.8112, -4.8113, -4.8113, -4.8114, -4.8114, -4.8114, -3.5623, -2.6019, -3.9517, -3.9519, -3.9518, -3.5623, -4.5982, -3.736, -3.9516, -3.5622, -3.5623, -3.9518, -4.5984, -3.9516, -4.5983, -4.5984, -3.9515, -4.5984, -4.5981, -3.7332, -4.5981, -3.9515, -4.5983, -3.9515, -4.5981, -4.598, -6.9958, -6.9958, -6.9958, -6.9958, -4.598, -4.5985, -4.5981, -4.5981, -4.598, -3.1747, -3.572, -2.7748, -4.2411, -3.8515, -4.2409, -4.241, -4.2411, -4.8875, -3.2626, -3.8514, -4.2408, -4.241, -4.2408, -4.2409, -4.2408, -4.241, -4.8875, -4.241, -4.2413, -4.2409, -4.8875, -4.8878, -4.8874, -4.8877, -4.8875, -4.2408, -4.2408, -4.1893, -4.8875, -4.2408, -3.8515, -4.2408, -4.8193, -4.8871, -4.8872, -4.8872, -4.8872, -3.6435, -3.6437, -2.8463, -3.4252, -4.3126, -4.3125, -3.6437, -3.0944, -4.3125, -3.923, -4.3126, -3.9231, -4.9591, -4.3128, -4.3127, -3.7704, -4.3127, -3.9231, -4.3124, -4.3126, -4.9591, -4.3129, -4.3126, -4.3128, -4.9594, -4.9591, -4.3128, -4.9592, -4.3124, -4.9591, -4.3126, -3.9231, -3.9231, -4.9589, -4.959, -4.959, -3.6234, -3.6234, -2.7856, -4.3003, -3.3398, -4.0207, -3.4716, -3.0248, -3.8025, -4.3003, -2.7856, -3.8025, -3.4716, -3.8025, -4.3002, -3.6236, -4.0208, -4.69, -4.6898, -4.3005, -4.6899, -4.3257, -3.8026, -3.8026, -4.6899, -4.6899, -4.6901, -4.0206, -4.6896, -5.3363, -4.525, -4.6897, -4.6897, -3.5832, -2.6397, -4.4702, -4.4702, -3.2522, -3.1203, -3.8012, -3.8979, -4.0808, -3.6654, -4.4702, -3.901, -5.1171, -4.4701, -3.8012, -4.4703, -4.0807, -3.7756, -4.4704, -4.4704, -4.4704, -4.698, -4.4701, -5.1168, -4.2111, -5.1167, -5.1167, -5.1168, -4.0808, -5.117, -4.4702, -4.4702, -4.677, -4.2225, -4.2371, -4.2419, -4.691], \"loglift\": [30.0, 29.0, 28.0, 27.0, 26.0, 25.0, 24.0, 23.0, 22.0, 21.0, 20.0, 19.0, 18.0, 17.0, 16.0, 15.0, 14.0, 13.0, 12.0, 11.0, 10.0, 9.0, 8.0, 7.0, 6.0, 5.0, 4.0, 3.0, 2.0, 1.0, 1.7386, 1.6321, 1.5759, 1.5568, 1.406, 1.3549, 1.3089, 1.2564, 1.2337, 1.165, 0.9927, 0.9823, 0.9589, 0.9341, 0.9261, 0.9147, 0.823, 0.7917, 0.6983, 0.6857, 0.6846, 0.635, 0.593, 0.5692, 0.5584, 0.5509, 0.543, 0.3941, 0.3859, 0.346, 0.1111, -0.3689, -0.7688, 0.2394, -0.5552, -0.4259, 0.1928, -0.1541, 1.9009, 1.8637, 1.6193, 1.5914, 1.5758, 1.5455, 1.4637, 1.447, 1.4009, 1.2988, 1.2706, 1.2117, 1.2072, 1.1642, 1.0395, 1.0291, 0.5648, 0.4767, 0.4437, 0.4263, 0.3895, 0.3556, 0.3536, 0.3488, 0.3071, 0.2223, 0.1477, 0.1449, 0.135, 0.1231, 0.1148, -0.5906, 0.0718, 0.0297, -0.1206, 2.3819, 1.8093, 1.7229, 1.5362, 1.4689, 1.3799, 1.3723, 1.1766, 1.0081, 0.9611, 0.9377, 0.8972, 0.8703, 0.8243, 0.7713, 0.7713, 0.7554, 0.7266, 0.6068, 0.5732, 0.4898, 0.4856, 0.4586, 0.4213, 0.4213, 0.4213, 0.4213, 0.4213, 0.4213, 0.4213, 0.3772, 0.361, 0.3017, 0.2576, 0.1735, 0.1354, 0.0033, -0.1684, 1.7508, 1.5957, 1.4563, 1.4016, 1.2764, 1.2433, 1.2008, 1.1696, 1.1636, 1.062, 1.0356, 1.0223, 0.9826, 0.9308, 0.9075, 0.9067, 0.8369, 0.819, 0.688, 0.6781, 0.6518, 0.6125, 0.5962, 0.5405, 0.5199, 0.425, 0.4057, 0.3714, 0.3494, 0.3166, 0.2807, 0.1235, 0.0513, -0.1129, -0.2948, -1.1549, 2.362, 1.7648, 1.6145, 1.4934, 1.4778, 1.3852, 1.3716, 1.3666, 1.3293, 1.2681, 1.0845, 1.044, 0.9156, 0.6976, 0.685, 0.6587, 0.658, 0.6095, 0.5302, 0.5219, 0.5166, 0.4816, 0.4662, 0.4402, 0.4366, 0.4333, 0.3604, 0.3295, 0.3144, 0.2692, -0.4579, 0.1831, 0.1684, -0.0847, -0.0388, -0.3292, 0.1906, 1.7713, 1.7635, 1.5313, 1.4812, 1.4689, 1.4535, 1.3928, 1.3899, 1.2989, 1.2606, 1.1373, 0.9475, 0.8936, 0.8278, 0.8226, 0.7938, 0.6997, 0.6947, 0.6795, 0.6201, 0.5543, 0.4832, 0.4775, 0.41, 0.404, 0.3963, 0.3451, 0.3451, 0.3451, 0.3451, 0.2658, 0.1281, 0.0735, -0.116, -0.3987, 2.0701, 1.5751, 1.5339, 1.4511, 1.4261, 1.3092, 1.2854, 1.268, 1.171, 1.0906, 0.9715, 0.9682, 0.9114, 0.8397, 0.8264, 0.7777, 0.7665, 0.7655, 0.7533, 0.625, 0.5826, 0.5499, 0.5454, 0.5332, 0.5332, 0.5047, 0.4858, 0.4725, 0.4618, 0.4434, 0.4307, 0.3479, 0.2413, 0.1082, -0.1753, -0.5218, -0.1921, -0.7079, 1.7264, 1.6068, 1.5005, 1.438, 1.3796, 1.3372, 1.3359, 1.2671, 1.1705, 1.1528, 1.147, 1.1238, 1.1099, 0.9986, 0.9389, 0.8808, 0.827, 0.8012, 0.7924, 0.7547, 0.7395, 0.6946, 0.5957, 0.5535, 0.5372, 0.4841, 0.4597, 0.433, 0.3872, 0.3745, 0.3364, 0.2763, 0.0424, -0.0951, 0.0803, -0.2457, 1.417, 1.417, 1.3937, 1.3528, 1.3317, 1.2792, 1.2526, 1.219, 1.216, 1.1917, 1.1799, 1.1058, 1.0106, 0.9242, 0.8395, 0.8111, 0.7608, 0.7532, 0.7024, 0.6938, 0.6215, 0.6017, 0.5588, 0.5441, 0.3908, 0.3907, 0.3569, 0.3447, 0.3262, 0.3134, 0.1262, 0.0897, 0.1331, 1.9743, 1.8855, 1.5988, 1.5817, 1.5294, 1.5287, 1.2693, 1.2444, 1.2047, 1.114, 0.9893, 0.9629, 0.9414, 0.823, 0.7965, 0.7841, 0.7428, 0.7187, 0.6693, 0.5481, 0.5035, 0.4545, 0.4382, 0.4096, 0.3924, 0.3662, 0.3043, 0.3039, 0.2724, 0.253, 0.2249, 0.2013, 0.1458, -0.0431, -0.0378, -0.2764, 0.0816]}, \"token.table\": {\"Topic\": [2, 3, 4, 9, 10, 2, 3, 5, 3, 4, 7, 9, 10, 2, 3, 6, 7, 8, 9, 10, 1, 3, 6, 2, 3, 10, 2, 4, 7, 8, 1, 3, 5, 6, 7, 1, 4, 5, 7, 1, 8, 9, 2, 7, 8, 2, 3, 5, 7, 8, 10, 2, 5, 7, 9, 5, 7, 4, 5, 6, 7, 9, 5, 2, 3, 10, 1, 2, 3, 4, 5, 6, 7, 10, 4, 5, 7, 10, 1, 10, 2, 3, 4, 7, 9, 10, 2, 3, 4, 5, 7, 8, 10, 5, 8, 9, 10, 3, 6, 8, 10, 2, 3, 8, 3, 8, 9, 10, 4, 8, 7, 8, 1, 4, 5, 7, 8, 9, 1, 8, 10, 2, 6, 8, 1, 5, 8, 4, 6, 8, 9, 10, 1, 8, 9, 2, 3, 6, 8, 9, 4, 5, 7, 8, 9, 10, 6, 8, 9, 1, 8, 9, 8, 10, 2, 5, 7, 8, 9, 10, 1, 8, 9, 2, 5, 6, 8, 10, 4, 5, 8, 9, 1, 4, 8, 9, 1, 3, 4, 5, 6, 10, 7, 8, 9, 10, 2, 4, 5, 6, 7, 9, 4, 8, 9, 1, 5, 7, 9, 2, 8, 9, 10, 4, 7, 9, 10, 2, 9, 10, 2, 4, 6, 7, 8, 9, 3, 6, 7, 8, 9, 1, 2, 7, 9, 1, 3, 9, 10, 1, 4, 8, 10, 2, 8, 9, 1, 4, 8, 9, 10, 6, 7, 9, 10, 2, 5, 6, 9, 10, 3, 7, 10, 2, 3, 6, 9, 2, 3, 4, 6, 9, 2, 4, 5, 6, 7, 10, 5, 6, 7, 9, 10, 4, 10, 4, 5, 7, 2, 4, 5, 7, 8, 9, 5, 7, 9, 3, 5, 7, 9, 4, 6, 9, 4, 5, 7, 10, 1, 3, 4, 6, 7, 9, 4, 5, 7, 8, 1, 4, 10, 1, 2, 4, 6, 7, 8, 9, 10, 1, 5, 6, 7, 1, 4, 5, 8, 2, 4, 5, 6, 1, 2, 4, 6, 8, 10, 1, 4, 6, 7, 9, 10, 4, 8, 10, 3, 4, 5, 8, 10, 2, 4, 4, 6, 7, 8, 10, 1, 2, 4, 5, 9, 10, 1, 4, 5, 8, 9, 1, 4, 7, 1, 2, 4, 4, 8, 9, 10, 2, 3, 4, 5, 9, 10, 1, 3, 4, 5, 10, 1, 4, 10, 7, 9, 7, 9, 10, 1, 4, 7, 9, 10, 1, 2, 4, 8, 9, 10, 1, 3, 5, 6, 7, 9, 10, 1, 7, 9, 10, 3, 4, 8, 9, 1, 3, 7, 8, 10, 1, 6, 7, 9, 10, 1, 4, 5, 7, 8, 9, 1, 4, 7, 10, 1, 3, 4, 5, 8, 10], \"Freq\": [0.5217277913789663, 0.13043194784474157, 0.13043194784474157, 0.13043194784474157, 0.13043194784474157, 0.5637526380140688, 0.1879175460046896, 0.1879175460046896, 0.1880113411883981, 0.3760226823767962, 0.1880113411883981, 0.1880113411883981, 0.1880113411883981, 0.11762128582549729, 0.11762128582549729, 0.11762128582549729, 0.11762128582549729, 0.11762128582549729, 0.23524257165099458, 0.23524257165099458, 0.3951034889835643, 0.3951034889835643, 0.3951034889835643, 0.8063632795996605, 0.1612726559199321, 0.1612726559199321, 0.15686084144257972, 0.31372168288515945, 0.15686084144257972, 0.15686084144257972, 0.19357599550065105, 0.19357599550065105, 0.19357599550065105, 0.19357599550065105, 0.3871519910013021, 0.20357746891775635, 0.4071549378355127, 0.20357746891775635, 0.20357746891775635, 0.152696504789078, 0.152696504789078, 0.610786019156312, 0.5131910832464991, 0.12829777081162477, 0.12829777081162477, 0.5405938762860208, 0.10811877525720417, 0.10811877525720417, 0.10811877525720417, 0.10811877525720417, 0.10811877525720417, 0.2439991225080588, 0.2439991225080588, 0.2439991225080588, 0.2439991225080588, 0.18733099284169175, 0.749323971366767, 0.2916476684942715, 0.14582383424713574, 0.14582383424713574, 0.14582383424713574, 0.2916476684942715, 0.834204645921729, 0.7190638994486186, 0.1438127798897237, 0.1438127798897237, 0.23042853345772776, 0.07680951115257592, 0.07680951115257592, 0.07680951115257592, 0.07680951115257592, 0.07680951115257592, 0.3072380446103037, 0.15361902230515184, 0.1690803727359576, 0.3381607454719152, 0.1690803727359576, 0.3381607454719152, 0.2561008818456393, 0.7683026455369178, 0.1965938046354443, 0.1965938046354443, 0.1965938046354443, 0.1965938046354443, 0.1965938046354443, 0.1965938046354443, 0.12292582829646909, 0.12292582829646909, 0.24585165659293817, 0.12292582829646909, 0.12292582829646909, 0.12292582829646909, 0.24585165659293817, 0.11130913760829982, 0.22261827521659963, 0.5565456880414991, 0.11130913760829982, 0.23770505623351723, 0.23770505623351723, 0.23770505623351723, 0.23770505623351723, 0.5898364838567934, 0.2949182419283967, 0.2949182419283967, 0.23219507629280695, 0.23219507629280695, 0.23219507629280695, 0.23219507629280695, 0.5116063687299355, 0.5116063687299355, 0.29303165617948224, 0.29303165617948224, 0.14369373361610668, 0.14369373361610668, 0.14369373361610668, 0.14369373361610668, 0.43108120084832, 0.14369373361610668, 0.21230057567587227, 0.6369017270276168, 0.21230057567587227, 0.47462420118545456, 0.15820806706181817, 0.31641613412363634, 0.3257280874393595, 0.3257280874393595, 0.16286404371967975, 0.15488603401234138, 0.07744301700617069, 0.38721508503085345, 0.30977206802468277, 0.07744301700617069, 0.45687169846860726, 0.22843584923430363, 0.45687169846860726, 0.43440414741138783, 0.10860103685284696, 0.21720207370569392, 0.10860103685284696, 0.10860103685284696, 0.07631215597989129, 0.07631215597989129, 0.07631215597989129, 0.4578729358793477, 0.30524862391956514, 0.07631215597989129, 0.1883973636122416, 0.5651920908367248, 0.1883973636122416, 0.15269491839165966, 0.15269491839165966, 0.6107796735666386, 0.4271507270977536, 0.4271507270977536, 0.18860085131419488, 0.18860085131419488, 0.18860085131419488, 0.18860085131419488, 0.18860085131419488, 0.18860085131419488, 0.2808328752343482, 0.2808328752343482, 0.2808328752343482, 0.2047270567274947, 0.2047270567274947, 0.4094541134549894, 0.2047270567274947, 0.2047270567274947, 0.4819789297594193, 0.24098946487970965, 0.24098946487970965, 0.24098946487970965, 0.30741066422113345, 0.15370533211056672, 0.30741066422113345, 0.30741066422113345, 0.1966012265531137, 0.1966012265531137, 0.3932024531062274, 0.1966012265531137, 0.1966012265531137, 0.1966012265531137, 0.16864440240240938, 0.16864440240240938, 0.33728880480481876, 0.16864440240240938, 0.1115774719340619, 0.1115774719340619, 0.1115774719340619, 0.1115774719340619, 0.1115774719340619, 0.4463098877362476, 0.40045950216621984, 0.20022975108310992, 0.40045950216621984, 0.07346256604199276, 0.36731283020996386, 0.4407753962519566, 0.07346256604199276, 0.13380390474184625, 0.13380390474184625, 0.535215618967385, 0.13380390474184625, 0.1178765615830536, 0.1178765615830536, 0.3536296847491608, 0.4715062463322144, 0.3442311015531968, 0.5507697624851149, 0.06884622031063936, 0.2069287971911591, 0.10346439859557954, 0.10346439859557954, 0.2069287971911591, 0.31039319578673863, 0.2069287971911591, 0.2170785729719772, 0.2170785729719772, 0.2170785729719772, 0.2170785729719772, 0.4341571459439544, 0.13638821060730044, 0.40916463182190127, 0.13638821060730044, 0.2727764212146009, 0.3786791856078153, 0.18933959280390766, 0.18933959280390766, 0.18933959280390766, 0.31470934883283724, 0.31470934883283724, 0.15735467441641862, 0.31470934883283724, 0.19794143011295492, 0.19794143011295492, 0.5938242903388649, 0.49038736558970525, 0.1961549462358821, 0.09807747311794104, 0.09807747311794104, 0.1961549462358821, 0.1055962045048741, 0.1055962045048741, 0.6335772270292446, 0.1055962045048741, 0.5877974605553912, 0.1469493651388478, 0.1469493651388478, 0.1469493651388478, 0.1469493651388478, 0.4226573998684306, 0.4226573998684306, 0.4226573998684306, 0.14899806212091873, 0.29799612424183747, 0.29799612424183747, 0.29799612424183747, 0.3978023210191032, 0.13260077367303438, 0.26520154734606877, 0.13260077367303438, 0.13260077367303438, 0.22341657536581763, 0.22341657536581763, 0.22341657536581763, 0.22341657536581763, 0.22341657536581763, 0.22341657536581763, 0.1228463454338422, 0.2456926908676844, 0.2456926908676844, 0.2456926908676844, 0.1228463454338422, 0.41989082494204905, 0.41989082494204905, 0.16989436686665266, 0.3397887337333053, 0.5096831005999579, 0.11010145671025678, 0.11010145671025678, 0.44040582684102714, 0.11010145671025678, 0.11010145671025678, 0.11010145671025678, 0.2542097230119515, 0.2542097230119515, 0.2542097230119515, 0.3614884511489304, 0.1807442255744652, 0.1807442255744652, 0.1807442255744652, 0.2398721041634963, 0.2398721041634963, 0.4797442083269926, 0.6905613136796174, 0.09865161623994533, 0.09865161623994533, 0.09865161623994533, 0.07774420516271842, 0.07774420516271842, 0.15548841032543684, 0.3887210258135921, 0.07774420516271842, 0.23323261548815524, 0.3298048880645288, 0.43973985075270505, 0.10993496268817626, 0.10993496268817626, 0.19511365914666054, 0.3902273182933211, 0.3902273182933211, 0.13170382790876375, 0.19755574186314565, 0.2634076558175275, 0.06585191395438188, 0.13170382790876375, 0.13170382790876375, 0.06585191395438188, 0.06585191395438188, 0.22615257734353925, 0.22615257734353925, 0.22615257734353925, 0.22615257734353925, 0.0964094666653402, 0.5784567999920411, 0.1928189333306804, 0.0964094666653402, 0.332644563417431, 0.332644563417431, 0.1663222817087155, 0.1663222817087155, 0.25597275440216066, 0.12798637720108033, 0.12798637720108033, 0.12798637720108033, 0.12798637720108033, 0.25597275440216066, 0.3333019695636264, 0.0833254923909066, 0.0833254923909066, 0.0833254923909066, 0.3333019695636264, 0.0833254923909066, 0.41296084466091015, 0.10324021116522754, 0.41296084466091015, 0.09122368720642825, 0.1824473744128565, 0.09122368720642825, 0.09122368720642825, 0.5473421232385695, 0.46609505855323924, 0.46609505855323924, 0.3415988644495605, 0.17079943222478025, 0.17079943222478025, 0.17079943222478025, 0.17079943222478025, 0.14286866582850097, 0.14286866582850097, 0.14286866582850097, 0.28573733165700194, 0.14286866582850097, 0.14286866582850097, 0.3179533829849951, 0.15897669149249755, 0.15897669149249755, 0.15897669149249755, 0.3179533829849951, 0.4542119996711356, 0.2271059998355678, 0.2271059998355678, 0.2840800075080524, 0.2840800075080524, 0.2840800075080524, 0.3782612443261623, 0.18913062216308116, 0.18913062216308116, 0.18913062216308116, 0.17688873047246256, 0.17688873047246256, 0.3537774609449251, 0.08844436523623128, 0.08844436523623128, 0.17688873047246256, 0.20826454406857736, 0.10413227203428868, 0.5206613601714434, 0.10413227203428868, 0.10413227203428868, 0.17329715380751437, 0.7798371921338146, 0.08664857690375719, 0.28176943032861845, 0.5635388606572369, 0.14939171695522846, 0.5975668678209138, 0.14939171695522846, 0.06455058812083109, 0.12910117624166217, 0.06455058812083109, 0.6455058812083109, 0.06455058812083109, 0.052123725629593054, 0.15637117688877916, 0.052123725629593054, 0.10424745125918611, 0.5212372562959305, 0.052123725629593054, 0.17475142417878445, 0.08737571208939222, 0.08737571208939222, 0.08737571208939222, 0.08737571208939222, 0.43687856044696116, 0.08737571208939222, 0.4083347646065311, 0.20416738230326556, 0.20416738230326556, 0.20416738230326556, 0.6101007894748569, 0.15252519736871423, 0.15252519736871423, 0.15252519736871423, 0.2955030146122493, 0.14775150730612466, 0.14775150730612466, 0.14775150730612466, 0.14775150730612466, 0.2233549877138081, 0.2233549877138081, 0.2233549877138081, 0.2233549877138081, 0.2233549877138081, 0.158959639646605, 0.158959639646605, 0.158959639646605, 0.158959639646605, 0.158959639646605, 0.31791927929321, 0.2482697039973348, 0.2482697039973348, 0.2482697039973348, 0.2482697039973348, 0.2336420811199775, 0.11682104055998875, 0.2336420811199775, 0.11682104055998875, 0.11682104055998875, 0.11682104055998875], \"Term\": [\"10\", \"10\", \"10\", \"10\", \"10\", \"aa\", \"aa\", \"aa\", \"able\", \"able\", \"able\", \"able\", \"able\", \"absolute\", \"absolute\", \"absolute\", \"absolute\", \"absolute\", \"absolute\", \"absolute\", \"access\", \"access\", \"access\", \"account\", \"account\", \"account\", \"acres\", \"acres\", \"acres\", \"acres\", \"action\", \"action\", \"action\", \"action\", \"action\", \"active\", \"active\", \"active\", \"active\", \"addition\", \"addition\", \"addition\", \"adrienne\", \"adrienne\", \"adrienne\", \"africa\", \"africa\", \"africa\", \"africa\", \"africa\", \"africa\", \"african\", \"african\", \"african\", \"african\", \"agricultural\", \"agricultural\", \"allows\", \"allows\", \"allows\", \"allows\", \"allows\", \"american\", \"andy\", \"andy\", \"andy\", \"animals\", \"animals\", \"animals\", \"animals\", \"animals\", \"animals\", \"animals\", \"animals\", \"anxiety\", \"anxiety\", \"anxiety\", \"anxiety\", \"apparent\", \"apparent\", \"apple\", \"apple\", \"apple\", \"apple\", \"apple\", \"apple\", \"april\", \"april\", \"april\", \"april\", \"april\", \"april\", \"april\", \"aquariums\", \"aquariums\", \"aquariums\", \"aquariums\", \"archipelago\", \"archipelago\", \"archipelago\", \"archipelago\", \"area\", \"area\", \"area\", \"areas\", \"areas\", \"areas\", \"areas\", \"arrival\", \"arrival\", \"artificial\", \"artificial\", \"asia\", \"asia\", \"asia\", \"asia\", \"asia\", \"asia\", \"aspen\", \"aspen\", \"aspen\", \"assistant\", \"assistant\", \"assistant\", \"association\", \"association\", \"association\", \"aster\", \"aster\", \"aster\", \"aster\", \"aster\", \"atlantic\", \"atlantic\", \"atlantic\", \"aug\", \"aug\", \"aug\", \"aug\", \"aug\", \"avian\", \"avian\", \"avian\", \"avian\", \"avian\", \"avian\", \"babies\", \"babies\", \"babies\", \"bahia\", \"bahia\", \"bahia\", \"bamboo\", \"bamboo\", \"banana\", \"banana\", \"banana\", \"banana\", \"banana\", \"banana\", \"barns\", \"barns\", \"barns\", \"base\", \"base\", \"base\", \"base\", \"base\", \"batteries\", \"batteries\", \"batteries\", \"batteries\", \"behavior\", \"behavior\", \"behavior\", \"behavior\", \"behavioral\", \"behavioral\", \"behavioral\", \"behavioral\", \"behavioral\", \"behavioral\", \"behaviors\", \"behaviors\", \"behaviors\", \"behaviors\", \"better\", \"better\", \"better\", \"better\", \"better\", \"better\", \"biologist\", \"biologist\", \"biologist\", \"biology\", \"biology\", \"biology\", \"biology\", \"bird\", \"bird\", \"bird\", \"bird\", \"birds\", \"birds\", \"birds\", \"birds\", \"birth\", \"birth\", \"birth\", \"birthday\", \"birthday\", \"birthday\", \"birthday\", \"birthday\", \"birthday\", \"births\", \"births\", \"births\", \"births\", \"births\", \"black\", \"black\", \"black\", \"black\", \"blood\", \"blood\", \"blood\", \"blood\", \"body\", \"body\", \"body\", \"body\", \"bond\", \"bond\", \"bond\", \"born\", \"born\", \"born\", \"born\", \"born\", \"bornean\", \"bornean\", \"bornean\", \"bornean\", \"borneo\", \"borneo\", \"borneo\", \"borneo\", \"borneo\", \"boyce\", \"boyce\", \"boyce\", \"brazil\", \"brazil\", \"brazil\", \"brazil\", \"breed\", \"breed\", \"breed\", \"breed\", \"breed\", \"breeding\", \"breeding\", \"breeding\", \"breeding\", \"breeding\", \"breeding\", \"brenda\", \"brenda\", \"brenda\", \"brenda\", \"brenda\", \"broadleaf\", \"broadleaf\", \"brookii\", \"brookii\", \"brookii\", \"brother\", \"brother\", \"brother\", \"brother\", \"brother\", \"brother\", \"building\", \"building\", \"building\", \"cake\", \"cake\", \"cake\", \"cake\", \"cakes\", \"cakes\", \"cakes\", \"cam\", \"cam\", \"cam\", \"cam\", \"camera\", \"camera\", \"camera\", \"camera\", \"camera\", \"camera\", \"cane\", \"cane\", \"cane\", \"cane\", \"canopy\", \"canopy\", \"canopy\", \"capable\", \"capable\", \"capable\", \"capable\", \"capable\", \"capable\", \"capable\", \"capable\", \"care\", \"care\", \"care\", \"care\", \"carnivore\", \"carnivore\", \"carnivore\", \"carnivore\", \"carrot\", \"carrot\", \"carrot\", \"carrot\", \"cattle\", \"cattle\", \"cattle\", \"cattle\", \"cattle\", \"cattle\", \"center\", \"center\", \"center\", \"center\", \"center\", \"center\", \"centers\", \"centers\", \"centers\", \"challenges\", \"challenges\", \"challenges\", \"challenges\", \"challenges\", \"chance\", \"chance\", \"change\", \"change\", \"change\", \"change\", \"change\", \"characters\", \"characters\", \"characters\", \"characters\", \"characters\", \"characters\", \"check\", \"check\", \"check\", \"check\", \"check\", \"cheetah\", \"cheetah\", \"cheetah\", \"cheetahs\", \"cheetahs\", \"cheetahs\", \"chi\", \"chi\", \"chi\", \"chi\", \"chick\", \"chick\", \"chick\", \"chick\", \"chick\", \"chick\", \"chicks\", \"chicks\", \"chicks\", \"chicks\", \"chicks\", \"coalition\", \"coalition\", \"coalition\", \"coast\", \"coast\", \"coco\", \"coco\", \"coco\", \"cocoa\", \"cocoa\", \"cocoa\", \"cocoa\", \"cocoa\", \"colony\", \"colony\", \"colony\", \"colony\", \"colony\", \"colony\", \"color\", \"color\", \"color\", \"color\", \"color\", \"color\", \"color\", \"comfortable\", \"comfortable\", \"comfortable\", \"comfortable\", \"complex\", \"complex\", \"complex\", \"complex\", \"complexes\", \"complexes\", \"complexes\", \"complexes\", \"complexes\", \"concern\", \"concern\", \"concern\", \"concern\", \"concern\", \"confidence\", \"confidence\", \"confidence\", \"confidence\", \"confidence\", \"confidence\", \"conflict\", \"conflict\", \"conflict\", \"conflict\", \"connection\", \"connection\", \"connection\", \"connection\", \"connection\", \"connection\"]}, \"R\": 30, \"lambda.step\": 0.01, \"plot.opts\": {\"xlab\": \"PC1\", \"ylab\": \"PC2\"}, \"topic.order\": [1, 2, 3, 4, 5, 6, 7, 8, 9, 10]};\n",
       "\n",
       "function LDAvis_load_lib(url, callback){\n",
       "  var s = document.createElement('script');\n",
       "  s.src = url;\n",
       "  s.async = true;\n",
       "  s.onreadystatechange = s.onload = callback;\n",
       "  s.onerror = function(){console.warn(\"failed to load library \" + url);};\n",
       "  document.getElementsByTagName(\"head\")[0].appendChild(s);\n",
       "}\n",
       "\n",
       "if(typeof(LDAvis) !== \"undefined\"){\n",
       "   // already loaded: just create the visualization\n",
       "   !function(LDAvis){\n",
       "       new LDAvis(\"#\" + \"ldavis_el574826779315401448600107653\", ldavis_el574826779315401448600107653_data);\n",
       "   }(LDAvis);\n",
       "}else if(typeof define === \"function\" && define.amd){\n",
       "   // require.js is available: use it to load d3/LDAvis\n",
       "   require.config({paths: {d3: \"https://d3js.org/d3.v5\"}});\n",
       "   require([\"d3\"], function(d3){\n",
       "      window.d3 = d3;\n",
       "      LDAvis_load_lib(\"https://cdn.jsdelivr.net/gh/bmabey/pyLDAvis@3.3.1/pyLDAvis/js/ldavis.v3.0.0.js\", function(){\n",
       "        new LDAvis(\"#\" + \"ldavis_el574826779315401448600107653\", ldavis_el574826779315401448600107653_data);\n",
       "      });\n",
       "    });\n",
       "}else{\n",
       "    // require.js not available: dynamically load d3 & LDAvis\n",
       "    LDAvis_load_lib(\"https://d3js.org/d3.v5.js\", function(){\n",
       "         LDAvis_load_lib(\"https://cdn.jsdelivr.net/gh/bmabey/pyLDAvis@3.3.1/pyLDAvis/js/ldavis.v3.0.0.js\", function(){\n",
       "                 new LDAvis(\"#\" + \"ldavis_el574826779315401448600107653\", ldavis_el574826779315401448600107653_data);\n",
       "            })\n",
       "         });\n",
       "}\n",
       "</script>"
      ],
      "text/plain": [
       "PreparedData(topic_coordinates=              x         y  topics  cluster       Freq\n",
       "topic                                                \n",
       "0      0.050353 -0.064490       1        1   9.601845\n",
       "1     -0.082779  0.103730       2        1  11.485909\n",
       "2      0.006583  0.098433       3        1   5.330052\n",
       "3      0.100881 -0.081764       4        1  13.406046\n",
       "4      0.125284  0.051295       5        1   7.855753\n",
       "5     -0.045617  0.076072       6        1   6.105533\n",
       "6      0.041355  0.035929       7        1   9.835925\n",
       "7     -0.057037 -0.086114       8        1  10.776673\n",
       "8     -0.153387 -0.071488       9        1  16.637985\n",
       "9      0.014364 -0.061603      10        1   8.964281, topic_info=           Term       Freq      Total Category  logprob  loglift\n",
       "48      biology  13.000000  13.000000  Default  30.0000  30.0000\n",
       "51        birth  14.000000  14.000000  Default  29.0000  29.0000\n",
       "93    coalition  11.000000  11.000000  Default  28.0000  28.0000\n",
       "73       camera  12.000000  12.000000  Default  27.0000  27.0000\n",
       "83   challenges  10.000000  10.000000  Default  26.0000  26.0000\n",
       "..          ...        ...        ...      ...      ...      ...\n",
       "65       brenda   0.844273   8.140250  Topic10  -4.6770   0.1458\n",
       "96        cocoa   1.330168  15.491726  Topic10  -4.2225  -0.0431\n",
       "76      capable   1.310792  15.185587  Topic10  -4.2371  -0.0378\n",
       "97       colony   1.304540  19.185121  Topic10  -4.2419  -0.2764\n",
       "105  connection   0.832562   8.560102  Topic10  -4.6910   0.0816\n",
       "\n",
       "[393 rows x 6 columns], token_table=      Topic      Freq        Term\n",
       "term                             \n",
       "0         2  0.521728          10\n",
       "0         3  0.130432          10\n",
       "0         4  0.130432          10\n",
       "0         9  0.130432          10\n",
       "0        10  0.130432          10\n",
       "...     ...       ...         ...\n",
       "105       3  0.116821  connection\n",
       "105       4  0.233642  connection\n",
       "105       5  0.116821  connection\n",
       "105       8  0.116821  connection\n",
       "105      10  0.116821  connection\n",
       "\n",
       "[450 rows x 3 columns], R=30, lambda_step=0.01, plot_opts={'xlab': 'PC1', 'ylab': 'PC2'}, topic_order=[1, 2, 3, 4, 5, 6, 7, 8, 9, 10])"
      ]
     },
     "execution_count": 68,
     "metadata": {},
     "output_type": "execute_result"
    }
   ],
   "source": [
    "import pyLDAvis\n",
    "import pyLDAvis.gensim_models as gensimvis\n",
    "\n",
    "pyLDAvis.enable_notebook()\n",
    "gensimvis.prepare(gen_lda3, corpus3, dictionary3, sort_topics=False)"
   ]
  },
  {
   "cell_type": "markdown",
   "metadata": {},
   "source": [
    "# Selecting the best k topics for gensim models"
   ]
  },
  {
   "cell_type": "code",
   "execution_count": 54,
   "metadata": {},
   "outputs": [],
   "source": [
    "# Using coherencemodel to calculate the best k topics\n",
    "# documentation:https://radimrehurek.com/gensim/models/coherencemodel.html\n",
    "from gensim.models.coherencemodel import CoherenceModel"
   ]
  },
  {
   "cell_type": "code",
   "execution_count": 58,
   "metadata": {},
   "outputs": [
    {
     "name": "stdout",
     "output_type": "stream",
     "text": [
      "[-17.373741481512088, -16.56491697964102, -17.01012124137438, -17.21137827982542, -16.867011171446762, -16.004306419381397, -16.07432477537927]\n"
     ]
    }
   ],
   "source": [
    "# setting random seed to get the same results each time for different topic sizes. \n",
    "np.random.seed(1)\n",
    "\n",
    "coherence2 = []\n",
    "\n",
    "for k in range(4, 11):\n",
    "    goodLdaModel2 = ldamodel.LdaModel(\n",
    "        corpus=corpus2, id2word=dictionary2, num_topics=k, passes=50) #Number of passes through the corpus during training.\n",
    "    \n",
    "    goodcm2 = CoherenceModel(model=goodLdaModel2, corpus=corpus2,\n",
    "                            dictionary=dictionary2, coherence='u_mass') #The greater the number, the better is coherence score.\n",
    "    \n",
    "    coherence2.append(goodcm2.get_coherence())\n",
    "    \n",
    "\n",
    "print(coherence2)"
   ]
  },
  {
   "cell_type": "code",
   "execution_count": 59,
   "metadata": {},
   "outputs": [
    {
     "data": {
      "image/png": "[encoded data removed]",
      "text/plain": [
       "<Figure size 432x288 with 1 Axes>"
      ]
     },
     "metadata": {
      "needs_background": "light"
     },
     "output_type": "display_data"
    }
   ],
   "source": [
    "# Show graph\n",
    "import matplotlib.pyplot as plt\n",
    "\n",
    "x = range(4,11)\n",
    "plt.plot(x, coherence2)\n",
    "plt.xlabel(\"Num Topics\")\n",
    "plt.ylabel(\"Coherence score\")\n",
    "plt.legend((\"coherence_values\"), loc='best')\n",
    "plt.show()"
   ]
  },
  {
   "cell_type": "code",
   "execution_count": 60,
   "metadata": {},
   "outputs": [
    {
     "data": {
      "text/plain": [
       "[(0,\n",
       "  '0.144*\"complexes\" + 0.062*\"dens\" + 0.062*\"color\" + 0.052*\"biology\" + 0.052*\"african\" + 0.052*\"coalition\" + 0.032*\"data\" + 0.032*\"deserving\" + 0.032*\"concern\" + 0.021*\"deforestation\"'),\n",
       " (1,\n",
       "  '0.070*\"aug\" + 0.063*\"concern\" + 0.056*\"addition\" + 0.042*\"banana\" + 0.042*\"action\" + 0.042*\"anxiety\" + 0.036*\"aquariums\" + 0.036*\"bamboo\" + 0.036*\"barns\" + 0.035*\"africa\"'),\n",
       " (2,\n",
       "  '0.163*\"behaviors\" + 0.099*\"base\" + 0.094*\"behavior\" + 0.036*\"aster\" + 0.036*\"batteries\" + 0.036*\"absolute\" + 0.036*\"birth\" + 0.033*\"atlantic\" + 0.024*\"aspen\" + 0.013*\"biologist\"'),\n",
       " (3,\n",
       "  '0.105*\"crane\" + 0.081*\"asia\" + 0.074*\"cue\" + 0.073*\"development\" + 0.055*\"body\" + 0.052*\"connection\" + 0.046*\"arrival\" + 0.037*\"blood\" + 0.028*\"cheetah\" + 0.028*\"birthday\"'),\n",
       " (4,\n",
       "  '0.138*\"cheetahs\" + 0.096*\"chi\" + 0.094*\"boyce\" + 0.064*\"brookii\" + 0.063*\"carnivore\" + 0.043*\"color\" + 0.043*\"chance\" + 0.025*\"connection\" + 0.022*\"care\" + 0.012*\"bornean\"'),\n",
       " (5,\n",
       "  '0.169*\"chicks\" + 0.100*\"colony\" + 0.080*\"cubs\" + 0.060*\"coco\" + 0.045*\"cue\" + 0.041*\"cheetahs\" + 0.041*\"cub\" + 0.035*\"conflict\" + 0.031*\"coast\" + 0.011*\"data\"'),\n",
       " (6,\n",
       "  '0.130*\"broadleaf\" + 0.128*\"brenda\" + 0.087*\"archipelago\" + 0.087*\"brother\" + 0.055*\"cakes\" + 0.044*\"challenges\" + 0.023*\"conservationists\" + 0.012*\"change\" + 0.012*\"chance\" + 0.012*\"access\"'),\n",
       " (7,\n",
       "  '0.116*\"curator\" + 0.061*\"account\" + 0.055*\"brazil\" + 0.055*\"cane\" + 0.044*\"data\" + 0.039*\"carrot\" + 0.039*\"bond\" + 0.036*\"base\" + 0.034*\"aspen\" + 0.034*\"building\"'),\n",
       " (8,\n",
       "  '0.080*\"crosier\" + 0.067*\"coast\" + 0.066*\"cheetah\" + 0.060*\"cam\" + 0.054*\"cake\" + 0.047*\"chick\" + 0.040*\"area\" + 0.034*\"cooperative\" + 0.034*\"birds\" + 0.034*\"den\"'),\n",
       " (9,\n",
       "  '0.081*\"andy\" + 0.080*\"breeding\" + 0.072*\"apple\" + 0.054*\"conservation\" + 0.045*\"allows\" + 0.036*\"center\" + 0.036*\"borneo\" + 0.036*\"bahia\" + 0.028*\"bornean\" + 0.028*\"aspen\"')]"
      ]
     },
     "execution_count": 60,
     "metadata": {},
     "output_type": "execute_result"
    }
   ],
   "source": [
    "# print the best model for corpus2\n",
    "gen_lda_best2 = ldamodel.LdaModel(corpus=corpus2, num_topics=10, id2word=dictionary2, passes=50) \n",
    "\n",
    "gen_lda_best2.print_topics(num_words=10)"
   ]
  },
  {
   "cell_type": "code",
   "execution_count": 62,
   "metadata": {},
   "outputs": [
    {
     "name": "stdout",
     "output_type": "stream",
     "text": [
      "[-14.226348448800312, -17.665906838353365, -17.569342014286725, -16.290919274681908, -17.54579407600676, -16.465832987300963, -16.23963625462828, -16.199905132672736, -16.13148853474758]\n"
     ]
    }
   ],
   "source": [
    "# find the best k topic for corpus3\n",
    "np.random.seed(1)\n",
    "\n",
    "coherence3 = []\n",
    "\n",
    "for k in range(2, 11):\n",
    "    goodLdaModel3 = ldamodel.LdaModel(\n",
    "        corpus=corpus3, id2word=dictionary3, num_topics=k, passes=50) #Number of passes through the corpus during training.\n",
    "    \n",
    "    goodcm3 = CoherenceModel(model=goodLdaModel3, corpus=corpus3,\n",
    "                            dictionary=dictionary3, coherence='u_mass') #The greater the number, the better is coherence score.\n",
    "    \n",
    "    coherence3.append(goodcm3.get_coherence())\n",
    "    \n",
    "\n",
    "print(coherence3)"
   ]
  },
  {
   "cell_type": "code",
   "execution_count": 63,
   "metadata": {},
   "outputs": [
    {
     "data": {
      "image/png": "[encoded data removed]",
      "text/plain": [
       "<Figure size 432x288 with 1 Axes>"
      ]
     },
     "metadata": {
      "needs_background": "light"
     },
     "output_type": "display_data"
    }
   ],
   "source": [
    "# Show graph\n",
    "import matplotlib.pyplot as plt\n",
    "\n",
    "x = range(2,11)\n",
    "plt.plot(x, coherence3)\n",
    "plt.xlabel(\"Num Topics\")\n",
    "plt.ylabel(\"Coherence score\")\n",
    "plt.legend((\"coherence_values\"), loc='best')\n",
    "plt.show()"
   ]
  },
  {
   "cell_type": "code",
   "execution_count": 64,
   "metadata": {},
   "outputs": [
    {
     "data": {
      "text/plain": [
       "[(0,\n",
       "  '0.116*\"animals\" + 0.079*\"aug\" + 0.055*\"complex\" + 0.055*\"canopy\" + 0.040*\"care\" + 0.032*\"assistant\" + 0.032*\"american\" + 0.032*\"births\" + 0.024*\"cheetah\" + 0.009*\"behavior\"'),\n",
       " (1,\n",
       "  '0.091*\"capable\" + 0.061*\"coalition\" + 0.061*\"carnivore\" + 0.061*\"cam\" + 0.056*\"chicks\" + 0.048*\"cattle\" + 0.035*\"change\" + 0.031*\"complexes\" + 0.031*\"carrot\" + 0.030*\"chick\"'),\n",
       " (2,\n",
       "  '0.086*\"center\" + 0.055*\"chick\" + 0.054*\"characters\" + 0.049*\"coco\" + 0.043*\"brazil\" + 0.043*\"april\" + 0.042*\"connection\" + 0.038*\"allows\" + 0.038*\"behavioral\" + 0.038*\"check\"'),\n",
       " (3,\n",
       "  '0.135*\"camera\" + 0.116*\"cane\" + 0.045*\"black\" + 0.045*\"association\" + 0.036*\"banana\" + 0.028*\"aa\" + 0.019*\"chance\" + 0.019*\"birthday\" + 0.001*\"challenges\" + 0.001*\"cheetah\"'),\n",
       " (4,\n",
       "  '0.134*\"colony\" + 0.103*\"biology\" + 0.057*\"birthday\" + 0.052*\"bird\" + 0.042*\"behaviors\" + 0.037*\"bornean\" + 0.028*\"babies\" + 0.026*\"comfortable\" + 0.026*\"concern\" + 0.026*\"cakes\"'),\n",
       " (5,\n",
       "  '0.116*\"challenges\" + 0.091*\"centers\" + 0.063*\"cocoa\" + 0.061*\"breed\" + 0.055*\"borneo\" + 0.043*\"africa\" + 0.037*\"breeding\" + 0.031*\"able\" + 0.031*\"apparent\" + 0.019*\"active\"'),\n",
       " (6,\n",
       "  '0.062*\"avian\" + 0.045*\"brother\" + 0.042*\"brenda\" + 0.035*\"arrival\" + 0.035*\"adrienne\" + 0.034*\"better\" + 0.031*\"andy\" + 0.028*\"asia\" + 0.028*\"account\" + 0.028*\"brookii\"'),\n",
       " (7,\n",
       "  '0.072*\"birth\" + 0.070*\"aster\" + 0.067*\"born\" + 0.063*\"birds\" + 0.044*\"body\" + 0.044*\"anxiety\" + 0.040*\"absolute\" + 0.034*\"blood\" + 0.029*\"biologist\" + 0.029*\"bond\"')]"
      ]
     },
     "execution_count": 64,
     "metadata": {},
     "output_type": "execute_result"
    }
   ],
   "source": [
    "# print the best model for corpus3\n",
    "gen_lda_best3 = ldamodel.LdaModel(corpus=corpus3, num_topics=8 , id2word=dictionary3, passes=50) \n",
    "\n",
    "gen_lda_best3.print_topics(num_words=10)"
   ]
  },
  {
   "cell_type": "markdown",
   "metadata": {},
   "source": [
    "## NMF - Gensim"
   ]
  },
  {
   "cell_type": "code",
   "execution_count": 72,
   "metadata": {},
   "outputs": [],
   "source": [
    "# use TFIDF to create a Vectorizer\n",
    "vectorizer1 = TfidfVectorizer(stop_words=stop_words)\n",
    "vec1 = vectorizer1.fit_transform(zoo_nouns)\n",
    "tfidf_feature_names = vectorizer1.get_feature_names()\n",
    "\n",
    "# Run NMF\n",
    "# for hyperparameter tuning: documentation: https://scikit-learn.org/stable/modules/generated/sklearn.decomposition.NMF.html\n",
    "nmf1 = NMF(n_components=10, random_state=0)\n",
    "\n",
    "NMFmodel1 = nmf1.fit(vec1)"
   ]
  },
  {
   "cell_type": "code",
   "execution_count": 73,
   "metadata": {},
   "outputs": [
    {
     "data": {
      "text/plain": [
       "[(0,\n",
       "  '0.098*\"care\" + 0.088*\"dens\" + 0.087*\"brazil\" + 0.068*\"development\" + 0.059*\"curator\" + 0.045*\"asia\" + 0.043*\"arrival\" + 0.037*\"body\" + 0.035*\"cheetahs\" + 0.035*\"animals\"'),\n",
       " (1,\n",
       "  '0.082*\"account\" + 0.076*\"cakes\" + 0.067*\"anxiety\" + 0.062*\"cam\" + 0.056*\"base\" + 0.054*\"animals\" + 0.050*\"cake\" + 0.047*\"addition\" + 0.044*\"cattle\" + 0.042*\"brenda\"'),\n",
       " (2,\n",
       "  '0.084*\"banana\" + 0.067*\"babies\" + 0.061*\"birth\" + 0.052*\"conservation\" + 0.047*\"confidence\" + 0.046*\"behaviors\" + 0.043*\"characters\" + 0.039*\"broadleaf\" + 0.035*\"brother\" + 0.032*\"barns\"'),\n",
       " (3,\n",
       "  '0.119*\"chick\" + 0.114*\"carnivore\" + 0.083*\"andy\" + 0.052*\"aa\" + 0.042*\"cranes\" + 0.042*\"conservationists\" + 0.042*\"birds\" + 0.039*\"cheetah\" + 0.038*\"crane\" + 0.038*\"batteries\"'),\n",
       " (4,\n",
       "  '0.072*\"bornean\" + 0.057*\"cub\" + 0.051*\"cubs\" + 0.045*\"conflict\" + 0.045*\"connection\" + 0.044*\"data\" + 0.043*\"cue\" + 0.043*\"biology\" + 0.043*\"african\" + 0.037*\"conservationists\"'),\n",
       " (5,\n",
       "  '0.086*\"africa\" + 0.062*\"deserving\" + 0.054*\"cane\" + 0.051*\"addition\" + 0.050*\"data\" + 0.049*\"aspen\" + 0.047*\"adrienne\" + 0.043*\"births\" + 0.037*\"centers\" + 0.037*\"april\"'),\n",
       " (6,\n",
       "  '0.092*\"concern\" + 0.076*\"cranes\" + 0.072*\"cheetah\" + 0.068*\"brenda\" + 0.056*\"coalition\" + 0.052*\"chi\" + 0.047*\"bahia\" + 0.032*\"coast\" + 0.031*\"cooperative\" + 0.028*\"crane\"'),\n",
       " (7,\n",
       "  '0.096*\"coast\" + 0.072*\"areas\" + 0.064*\"crosier\" + 0.057*\"check\" + 0.056*\"behaviors\" + 0.044*\"cheetah\" + 0.042*\"base\" + 0.040*\"birth\" + 0.038*\"boyce\" + 0.037*\"considers\"'),\n",
       " (8,\n",
       "  '0.104*\"den\" + 0.072*\"coco\" + 0.072*\"cubs\" + 0.069*\"breeding\" + 0.052*\"department\" + 0.048*\"chicks\" + 0.045*\"adrienne\" + 0.037*\"atlantic\" + 0.037*\"development\" + 0.035*\"change\"'),\n",
       " (9,\n",
       "  '0.082*\"action\" + 0.059*\"aquariums\" + 0.052*\"designation\" + 0.049*\"bamboo\" + 0.046*\"department\" + 0.045*\"deforestation\" + 0.042*\"allows\" + 0.040*\"bond\" + 0.039*\"absolute\" + 0.039*\"color\"')]"
      ]
     },
     "execution_count": 73,
     "metadata": {},
     "output_type": "execute_result"
    }
   ],
   "source": [
    "#create a dictionary contains all the words instead of using words' ids\n",
    "from gensim import corpora\n",
    "from gensim.models import Nmf\n",
    "from gensim.matutils import Sparse2Corpus\n",
    "from sklearn.feature_extraction.text import TfidfVectorizer\n",
    "from sklearn.decomposition import NMF\n",
    "from sklearn.feature_extraction import text\n",
    "\n",
    "dictionary = corpora.Dictionary([tfidf_feature_names]) \n",
    "corpus = Sparse2Corpus(vec1) #Convert a matrix in scipy.sparse format into a streaming gensim corpus.\n",
    "\n",
    "# using Gensim to build NMF model\n",
    "gen_nmf = Nmf(corpus=corpus, num_topics=10, id2word=dictionary) #if you don't have this parameter, it will only show the words' ids\n",
    "\n",
    "gen_nmf.print_topics(num_words=10)"
   ]
  },
  {
   "cell_type": "code",
   "execution_count": 74,
   "metadata": {},
   "outputs": [
    {
     "data": {
      "image/png": "[encoded data removed]",
      "text/plain": [
       "<Figure size 432x288 with 1 Axes>"
      ]
     },
     "metadata": {
      "needs_background": "light"
     },
     "output_type": "display_data"
    }
   ],
   "source": [
    "# try to find the best k \n",
    "from gensim.models.coherencemodel import CoherenceModel\n",
    "\n",
    "coherence = []\n",
    "\n",
    "for k in range(2, 5):\n",
    "    good_model = Nmf(corpus=corpus, num_topics=k, id2word=dictionary, passes=25) #Number of passes through the corpus during training.\n",
    "    \n",
    "    good_cohe = CoherenceModel(model=good_model, corpus=corpus,\n",
    "                            dictionary=dictionary, coherence='u_mass') #The greater the number, the better is coherence score.\n",
    "    \n",
    "    coherence.append(good_cohe.get_coherence())\n",
    "    \n",
    "# Show graph\n",
    "import matplotlib.pyplot as plt\n",
    "\n",
    "x = range(2,5)\n",
    "plt.plot(x, coherence)\n",
    "plt.xlabel(\"Num Topics\")\n",
    "plt.ylabel(\"Coherence score for NMF model\")\n",
    "plt.legend((\"coherence_values\"), loc='best')\n",
    "plt.show()"
   ]
  },
  {
   "cell_type": "markdown",
   "metadata": {},
   "source": [
    "## Top2Vec"
   ]
  },
  {
   "cell_type": "code",
   "execution_count": 75,
   "metadata": {},
   "outputs": [],
   "source": [
    "from top2vec import Top2Vec"
   ]
  },
  {
   "cell_type": "code",
   "execution_count": 83,
   "metadata": {},
   "outputs": [
    {
     "ename": "ValueError",
     "evalue": "Documents need to be a list of strings",
     "output_type": "error",
     "traceback": [
      "\u001b[1;31m---------------------------------------------------------------------------\u001b[0m",
      "\u001b[1;31mValueError\u001b[0m                                Traceback (most recent call last)",
      "Input \u001b[1;32mIn [83]\u001b[0m, in \u001b[0;36m<cell line: 3>\u001b[1;34m()\u001b[0m\n\u001b[0;32m      1\u001b[0m \u001b[38;5;66;03m# build the model using Top2Vec\u001b[39;00m\n\u001b[0;32m      2\u001b[0m \u001b[38;5;66;03m# your text data should a list of string\u001b[39;00m\n\u001b[1;32m----> 3\u001b[0m Top_model \u001b[38;5;241m=\u001b[39m \u001b[43mTop2Vec\u001b[49m\u001b[43m(\u001b[49m\u001b[43mzoo\u001b[49m\u001b[38;5;241;43m.\u001b[39;49m\u001b[43mvalues\u001b[49m\u001b[43m,\u001b[49m\u001b[43m \u001b[49m\u001b[43membedding_model\u001b[49m\u001b[38;5;241;43m=\u001b[39;49m\u001b[38;5;124;43m'\u001b[39;49m\u001b[38;5;124;43muniversal-sentence-encoder\u001b[39;49m\u001b[38;5;124;43m'\u001b[39;49m\u001b[43m)\u001b[49m \u001b[38;5;66;03m#Top2Vec - the pre-trained universal sentence encoders\u001b[39;00m\n\u001b[0;32m      4\u001b[0m \u001b[38;5;66;03m# viewing the number of topics\u001b[39;00m\n\u001b[0;32m      5\u001b[0m Top_model\u001b[38;5;241m.\u001b[39mget_num_topics()\n",
      "File \u001b[1;32m~\\anaconda3\\lib\\site-packages\\top2vec\\Top2Vec.py:410\u001b[0m, in \u001b[0;36mTop2Vec.__init__\u001b[1;34m(self, documents, min_count, ngram_vocab, ngram_vocab_args, embedding_model, embedding_model_path, embedding_batch_size, split_documents, document_chunker, chunk_length, max_num_chunks, chunk_overlap_ratio, chunk_len_coverage_ratio, sentencizer, speed, use_corpus_file, document_ids, keep_documents, workers, tokenizer, use_embedding_model_tokenizer, umap_args, hdbscan_args, verbose)\u001b[0m\n\u001b[0;32m    408\u001b[0m     \u001b[38;5;28;01mraise\u001b[39;00m \u001b[38;5;167;01mValueError\u001b[39;00m(\u001b[38;5;124m\"\u001b[39m\u001b[38;5;124mDocuments need to be a list of strings\u001b[39m\u001b[38;5;124m\"\u001b[39m)\n\u001b[0;32m    409\u001b[0m \u001b[38;5;28;01mif\u001b[39;00m \u001b[38;5;129;01mnot\u001b[39;00m \u001b[38;5;28mall\u001b[39m((\u001b[38;5;28misinstance\u001b[39m(doc, \u001b[38;5;28mstr\u001b[39m) \u001b[38;5;129;01mor\u001b[39;00m \u001b[38;5;28misinstance\u001b[39m(doc, np\u001b[38;5;241m.\u001b[39mstr_)) \u001b[38;5;28;01mfor\u001b[39;00m doc \u001b[38;5;129;01min\u001b[39;00m documents):\n\u001b[1;32m--> 410\u001b[0m     \u001b[38;5;28;01mraise\u001b[39;00m \u001b[38;5;167;01mValueError\u001b[39;00m(\u001b[38;5;124m\"\u001b[39m\u001b[38;5;124mDocuments need to be a list of strings\u001b[39m\u001b[38;5;124m\"\u001b[39m)\n\u001b[0;32m    411\u001b[0m \u001b[38;5;28;01mif\u001b[39;00m keep_documents:\n\u001b[0;32m    412\u001b[0m     \u001b[38;5;28mself\u001b[39m\u001b[38;5;241m.\u001b[39mdocuments \u001b[38;5;241m=\u001b[39m np\u001b[38;5;241m.\u001b[39marray(documents, dtype\u001b[38;5;241m=\u001b[39m\u001b[38;5;124m\"\u001b[39m\u001b[38;5;124mobject\u001b[39m\u001b[38;5;124m\"\u001b[39m)\n",
      "\u001b[1;31mValueError\u001b[0m: Documents need to be a list of strings"
     ]
    }
   ],
   "source": [
    "# build the model using Top2Vec\n",
    "# your text data should a list of string\n",
    "Top_model = Top2Vec(zoo.values, embedding_model='universal-sentence-encoder') #Top2Vec - the pre-trained universal sentence encoders\n",
    "# viewing the number of topics\n",
    "Top_model.get_num_topics()"
   ]
  },
  {
   "cell_type": "markdown",
   "metadata": {},
   "source": [
    "## BERTopic"
   ]
  },
  {
   "cell_type": "code",
   "execution_count": 91,
   "metadata": {},
   "outputs": [
    {
     "ename": "ModuleNotFoundError",
     "evalue": "No module named 'bertopic'",
     "output_type": "error",
     "traceback": [
      "\u001b[1;31m---------------------------------------------------------------------------\u001b[0m",
      "\u001b[1;31mModuleNotFoundError\u001b[0m                       Traceback (most recent call last)",
      "Input \u001b[1;32mIn [91]\u001b[0m, in \u001b[0;36m<cell line: 5>\u001b[1;34m()\u001b[0m\n\u001b[0;32m      3\u001b[0m \u001b[38;5;28;01mimport\u001b[39;00m \u001b[38;5;21;01mpandas\u001b[39;00m \u001b[38;5;28;01mas\u001b[39;00m \u001b[38;5;21;01mpd\u001b[39;00m \n\u001b[0;32m      4\u001b[0m \u001b[38;5;28;01mimport\u001b[39;00m \u001b[38;5;21;01mnumpy\u001b[39;00m \u001b[38;5;28;01mas\u001b[39;00m \u001b[38;5;21;01mnp\u001b[39;00m\n\u001b[1;32m----> 5\u001b[0m \u001b[38;5;28;01mfrom\u001b[39;00m \u001b[38;5;21;01mbertopic\u001b[39;00m \u001b[38;5;28;01mimport\u001b[39;00m BERTopic\n",
      "\u001b[1;31mModuleNotFoundError\u001b[0m: No module named 'bertopic'"
     ]
    }
   ],
   "source": [
    "#import packages\n",
    "\n",
    "import pandas as pd \n",
    "import numpy as np\n",
    "from bertopic import BERTopic"
   ]
  },
  {
   "cell_type": "markdown",
   "metadata": {},
   "source": [
    "### Story Telling"
   ]
  },
  {
   "cell_type": "code",
   "execution_count": null,
   "metadata": {},
   "outputs": [],
   "source": [
    "Within the provided datasets, the most optimal number of topics was k = 9, meaning that the "
   ]
  }
 ],
 "metadata": {
  "kernelspec": {
   "display_name": "Python 3 (ipykernel)",
   "language": "python",
   "name": "python3"
  },
  "language_info": {
   "codemirror_mode": {
    "name": "ipython",
    "version": 3
   },
   "file_extension": ".py",
   "mimetype": "text/x-python",
   "name": "python",
   "nbconvert_exporter": "python",
   "pygments_lexer": "ipython3",
   "version": "3.9.12"
  },
  "vscode": {
   "interpreter": {
    "hash": "06747f4c5bc8774c3ddf2fe387b46c6db0342041a05c73ba5e9720489017beb3"
   }
  }
 },
 "nbformat": 4,
 "nbformat_minor": 4
}
