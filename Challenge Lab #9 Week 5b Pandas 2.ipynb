{
 "cells": [
  {
   "cell_type": "markdown",
   "id": "c91f26c4",
   "metadata": {},
   "source": [
    "# Python Fuctions"
   ]
  },
  {
   "cell_type": "code",
   "execution_count": 19,
   "id": "8b0a4399",
   "metadata": {},
   "outputs": [],
   "source": [
    "# create a fuction In Python a function is defined using the def keyword:\n",
    "def my_function():\n",
    "  print(\"Hello from a function\")"
   ]
  },
  {
   "cell_type": "code",
   "execution_count": 20,
   "id": "50f67235",
   "metadata": {},
   "outputs": [
    {
     "name": "stdout",
     "output_type": "stream",
     "text": [
      "Hello from a function\n"
     ]
    }
   ],
   "source": [
    "# calling a fuction\n",
    "my_function()"
   ]
  },
  {
   "cell_type": "markdown",
   "id": "17e3ec34",
   "metadata": {},
   "source": [
    "## Arguments/Parameters\n",
    "\n",
    "Information can be passed into functions as arguments or parameters.\n",
    "\n",
    "Arguments/parameters are specified after the function name, inside the parentheses. You can add as many arguments as you want, just separate them with a comma.\n",
    "\n",
    "From a function's perspective:\n",
    "- A parameter is the variable listed inside the parentheses in the function definition.\n",
    "- An argument is the value that is sent to the function when it is called.\n",
    "\n",
    "The following example has a function with one argument (fname). When the function is called, we pass along a first name, which is used inside the function to print the full name:"
   ]
  },
  {
   "cell_type": "code",
   "execution_count": 21,
   "id": "b0ac5c59",
   "metadata": {},
   "outputs": [],
   "source": [
    "# one argument\n",
    "def fullname(fname):\n",
    "  print(fname + \" Smith\")"
   ]
  },
  {
   "cell_type": "code",
   "execution_count": 22,
   "id": "613fee59",
   "metadata": {},
   "outputs": [
    {
     "name": "stdout",
     "output_type": "stream",
     "text": [
      "John Smith\n",
      "Jane Smith\n",
      "Will Smith\n"
     ]
    }
   ],
   "source": [
    "fullname(\"John\")\n",
    "fullname(\"Jane\")\n",
    "fullname(\"Will\")"
   ]
  },
  {
   "cell_type": "code",
   "execution_count": 23,
   "id": "fe1096f2",
   "metadata": {},
   "outputs": [],
   "source": [
    "# two arguments\n",
    "def fullname2(fname,lname):\n",
    "    print(fname,\"_\",lname)"
   ]
  },
  {
   "cell_type": "code",
   "execution_count": 24,
   "id": "720587a3",
   "metadata": {},
   "outputs": [
    {
     "name": "stdout",
     "output_type": "stream",
     "text": [
      "John _ Smith\n",
      "Jane _ Smith\n",
      "Will _ Smith\n"
     ]
    }
   ],
   "source": [
    "#a function must be called with the correct number of arguments.\n",
    "fullname2(\"John\",\"Smith\")  \n",
    "fullname2(\"Jane\",\"Smith\")\n",
    "fullname2(\"Will\",\"Smith\")"
   ]
  },
  {
   "cell_type": "code",
   "execution_count": 25,
   "id": "5410bc03",
   "metadata": {},
   "outputs": [
    {
     "name": "stdout",
     "output_type": "stream",
     "text": [
      "The famous actor is Will Smith.\n"
     ]
    }
   ],
   "source": [
    "#If the number of arguments is unknown, add a * before the parameter:\n",
    "def people(*names):\n",
    "  print(\"The famous actor is \" + names[2] + \" \"+\"Smith.\")\n",
    "\n",
    "people(\"John\", \"Jane\", \"Will\")"
   ]
  },
  {
   "cell_type": "markdown",
   "id": "39365a67",
   "metadata": {},
   "source": [
    "**Keyword Arguments**\n",
    "You can also send arguments with the key = value syntax.\n",
    "This way the order of the arguments does not matter."
   ]
  },
  {
   "cell_type": "code",
   "execution_count": 26,
   "id": "0a8ae7d9",
   "metadata": {},
   "outputs": [
    {
     "name": "stdout",
     "output_type": "stream",
     "text": [
      "The famous actor is Will Smith.\n"
     ]
    }
   ],
   "source": [
    "def people2(name1,name2,name3):\n",
    "  print(\"The famous actor is \" + name1 + \" \"+\"Smith.\")\n",
    "\n",
    "people2(name3=\"John\", name2=\"Jane\", name1=\"Will\")"
   ]
  },
  {
   "cell_type": "markdown",
   "id": "d2422605",
   "metadata": {},
   "source": [
    "**Passing a List as an Argument**\n",
    "\n",
    "You can send any data types of argument to a function (string, number, list, dictionary etc.), and it will be treated as the same data type inside the function.\n",
    "\n",
    "E.g. if you send a List as an argument, it will still be a List when it reaches the function:"
   ]
  },
  {
   "cell_type": "code",
   "execution_count": 27,
   "id": "b0c38fdf",
   "metadata": {},
   "outputs": [
    {
     "name": "stdout",
     "output_type": "stream",
     "text": [
      "apple\n",
      "banana\n",
      "cherry\n"
     ]
    }
   ],
   "source": [
    "def eat(food):\n",
    "  for x in food:\n",
    "    print(x)\n",
    "\n",
    "fruits = [\"apple\", \"banana\", \"cherry\"]\n",
    "\n",
    "eat(fruits)"
   ]
  },
  {
   "cell_type": "markdown",
   "id": "31131e2c",
   "metadata": {},
   "source": [
    "**Return Values**\n",
    "\n",
    "\n",
    "To let a function return a value, use the return statement:"
   ]
  },
  {
   "cell_type": "code",
   "execution_count": 28,
   "id": "c1c69f9f",
   "metadata": {},
   "outputs": [
    {
     "name": "stdout",
     "output_type": "stream",
     "text": [
      "15\n",
      "25\n"
     ]
    }
   ],
   "source": [
    "def cal(x):\n",
    "  return 5 * x\n",
    "\n",
    "print(cal(3))\n",
    "print(cal(5))"
   ]
  },
  {
   "cell_type": "markdown",
   "id": "2edfdd89",
   "metadata": {},
   "source": [
    "**The pass Statement**\n",
    "\n",
    "function definitions cannot be empty, but if you for some reason have a function definition with no content, put in the pass statement to avoid getting an error when empty code is not allowed. Empty code is not allowed in loops, function definitions, class definitions, or in if statements."
   ]
  },
  {
   "cell_type": "code",
   "execution_count": 29,
   "id": "1a5edcdb",
   "metadata": {},
   "outputs": [],
   "source": [
    "def passe():\n",
    "  pass"
   ]
  },
  {
   "cell_type": "markdown",
   "id": "212774d1",
   "metadata": {},
   "source": [
    "**Action 1:** let's write a fuction to print the sentiment values"
   ]
  },
  {
   "cell_type": "code",
   "execution_count": 30,
   "id": "b4069573",
   "metadata": {},
   "outputs": [
    {
     "name": "stdout",
     "output_type": "stream",
     "text": [
      "0 neutral\n"
     ]
    }
   ],
   "source": [
    "sentiment = 0\n",
    "\n",
    "print(sentiment, \"positive\" if sentiment > 0 else \"neutral\" if sentiment == 0 else \"negative\")"
   ]
  },
  {
   "cell_type": "code",
   "execution_count": 31,
   "id": "2e97cf71",
   "metadata": {},
   "outputs": [],
   "source": [
    "def sentiment(polarity):\n",
    "    if polarity > 0:\n",
    "        return \"This is positive.\"\n",
    "    elif polarity == 0:\n",
    "        return \"This is neutral.\"\n",
    "    else:\n",
    "        return \"This is negative.\""
   ]
  },
  {
   "cell_type": "code",
   "execution_count": 32,
   "id": "46b9f8f6",
   "metadata": {},
   "outputs": [
    {
     "data": {
      "text/plain": [
       "'This is neutral.'"
      ]
     },
     "execution_count": 32,
     "metadata": {},
     "output_type": "execute_result"
    }
   ],
   "source": [
    "pol = 0\n",
    "\n",
    "sentiment(pol)"
   ]
  },
  {
   "cell_type": "code",
   "execution_count": 33,
   "id": "df39d8ba",
   "metadata": {},
   "outputs": [
    {
     "name": "stdout",
     "output_type": "stream",
     "text": [
      "This is positive.\n",
      "This is positive.\n",
      "This is neutral.\n",
      "This is neutral.\n",
      "This is negative.\n",
      "This is negative.\n"
     ]
    }
   ],
   "source": [
    "pols = [0.5, 2, 0, 0, -3, -0.01]\n",
    "\n",
    "for pol in pols:\n",
    "    print(sentiment(pol))"
   ]
  },
  {
   "cell_type": "markdown",
   "id": "8dd82465",
   "metadata": {},
   "source": [
    "## Lambda\n",
    "\n",
    "A lambda function is a small anonymous function.\n",
    "\n",
    "A lambda function can take any number of arguments, but can only have one expression."
   ]
  },
  {
   "cell_type": "code",
   "execution_count": 34,
   "id": "fe81a89e",
   "metadata": {},
   "outputs": [
    {
     "name": "stdout",
     "output_type": "stream",
     "text": [
      "15\n"
     ]
    }
   ],
   "source": [
    "# Add 10 to argument a, and return the result:\n",
    "x = lambda a : a + 10\n",
    "print(x(5))"
   ]
  },
  {
   "cell_type": "code",
   "execution_count": 35,
   "id": "032afcbf",
   "metadata": {},
   "outputs": [
    {
     "name": "stdout",
     "output_type": "stream",
     "text": [
      "30\n"
     ]
    }
   ],
   "source": [
    "# Multiply argument a with argument b and return the result:\n",
    "x = lambda a, b : a * b\n",
    "print(x(5, 6))"
   ]
  },
  {
   "cell_type": "code",
   "execution_count": 36,
   "id": "a8e11d3b",
   "metadata": {},
   "outputs": [
    {
     "name": "stdout",
     "output_type": "stream",
     "text": [
      "6\n"
     ]
    }
   ],
   "source": [
    "# Action 2: Can you use lambda to write a fuction return the results of \"a+b+c\"?\n",
    "x = lambda a, b, c : a + b + c\n",
    "print(x(1,2,3))"
   ]
  },
  {
   "cell_type": "markdown",
   "id": "47c2105a",
   "metadata": {},
   "source": [
    "**Why Use Lambda Functions?**\n",
    "\n",
    "The power of lambda is better shown when you use them as an anonymous function inside another function.\n",
    "\n",
    "Say you have a function definition that takes one argument, and that argument will be multiplied with an unknown number:"
   ]
  },
  {
   "cell_type": "code",
   "execution_count": 37,
   "id": "d529f4f9",
   "metadata": {},
   "outputs": [
    {
     "name": "stdout",
     "output_type": "stream",
     "text": [
      "22\n",
      "33\n"
     ]
    }
   ],
   "source": [
    "def myfunc(n):\n",
    "  return lambda a : a * n\n",
    "\n",
    "doubler = myfunc(2)\n",
    "tripler = myfunc(3)\n",
    "\n",
    "print(doubler(11))\n",
    "print(tripler(11))"
   ]
  },
  {
   "cell_type": "markdown",
   "id": "3f0b4636",
   "metadata": {},
   "source": [
    "Use lambda for data cleaning:"
   ]
  },
  {
   "cell_type": "code",
   "execution_count": 38,
   "id": "6ef417b3",
   "metadata": {},
   "outputs": [
    {
     "name": "stdout",
     "output_type": "stream",
     "text": [
      "What is this \n"
     ]
    }
   ],
   "source": [
    "# remove all the useless symbols\n",
    "import re\n",
    "\n",
    "text = \"What is this?/$%^&*\"\n",
    "\n",
    "print(re.sub(\"[^a-zA-Z]+\", \" \", text))"
   ]
  },
  {
   "cell_type": "code",
   "execution_count": 39,
   "id": "0f3ace0b",
   "metadata": {},
   "outputs": [
    {
     "data": {
      "text/html": [
       "<div>\n",
       "<style scoped>\n",
       "    .dataframe tbody tr th:only-of-type {\n",
       "        vertical-align: middle;\n",
       "    }\n",
       "\n",
       "    .dataframe tbody tr th {\n",
       "        vertical-align: top;\n",
       "    }\n",
       "\n",
       "    .dataframe thead th {\n",
       "        text-align: right;\n",
       "    }\n",
       "</style>\n",
       "<table border=\"1\" class=\"dataframe\">\n",
       "  <thead>\n",
       "    <tr style=\"text-align: right;\">\n",
       "      <th></th>\n",
       "      <th>0</th>\n",
       "    </tr>\n",
       "  </thead>\n",
       "  <tbody>\n",
       "    <tr>\n",
       "      <th>0</th>\n",
       "      <td>What is this?/$%^&amp;*</td>\n",
       "    </tr>\n",
       "    <tr>\n",
       "      <th>1</th>\n",
       "      <td>This is an apple. *&amp;^%</td>\n",
       "    </tr>\n",
       "    <tr>\n",
       "      <th>2</th>\n",
       "      <td>This is a pen. #$%^</td>\n",
       "    </tr>\n",
       "  </tbody>\n",
       "</table>\n",
       "</div>"
      ],
      "text/plain": [
       "                        0\n",
       "0     What is this?/$%^&*\n",
       "1  This is an apple. *&^%\n",
       "2     This is a pen. #$%^"
      ]
     },
     "execution_count": 39,
     "metadata": {},
     "output_type": "execute_result"
    }
   ],
   "source": [
    "# use lambda\n",
    "import pandas as pd\n",
    "\n",
    "texts = [\"What is this?/$%^&*\",\"This is an apple. *&^%\", \"This is a pen. #$%^\"]\n",
    "\n",
    "df = pd.DataFrame(texts) #put your data into pandas dataframe\n",
    "df"
   ]
  },
  {
   "cell_type": "code",
   "execution_count": 40,
   "id": "9112eca8",
   "metadata": {},
   "outputs": [
    {
     "name": "stdout",
     "output_type": "stream",
     "text": [
      "0        What is this \n",
      "1    This is an apple \n",
      "2       This is a pen \n",
      "Name: 0, dtype: object\n"
     ]
    }
   ],
   "source": [
    "print(df[0].apply(lambda clean: re.sub(\"[^a-zA-Z]+\", \" \", clean)))"
   ]
  },
  {
   "cell_type": "code",
   "execution_count": 41,
   "id": "f639be5c",
   "metadata": {},
   "outputs": [
    {
     "name": "stderr",
     "output_type": "stream",
     "text": [
      "<ipython-input-41-c2c2fd37448c>:1: FutureWarning: The default value of regex will change from True to False in a future version.\n",
      "  df[1] = df[0].str.replace(\"[^a-zA-Z]+\", \" \")\n"
     ]
    },
    {
     "data": {
      "text/html": [
       "<div>\n",
       "<style scoped>\n",
       "    .dataframe tbody tr th:only-of-type {\n",
       "        vertical-align: middle;\n",
       "    }\n",
       "\n",
       "    .dataframe tbody tr th {\n",
       "        vertical-align: top;\n",
       "    }\n",
       "\n",
       "    .dataframe thead th {\n",
       "        text-align: right;\n",
       "    }\n",
       "</style>\n",
       "<table border=\"1\" class=\"dataframe\">\n",
       "  <thead>\n",
       "    <tr style=\"text-align: right;\">\n",
       "      <th></th>\n",
       "      <th>0</th>\n",
       "      <th>1</th>\n",
       "    </tr>\n",
       "  </thead>\n",
       "  <tbody>\n",
       "    <tr>\n",
       "      <th>0</th>\n",
       "      <td>What is this?/$%^&amp;*</td>\n",
       "      <td>What is this</td>\n",
       "    </tr>\n",
       "    <tr>\n",
       "      <th>1</th>\n",
       "      <td>This is an apple. *&amp;^%</td>\n",
       "      <td>This is an apple</td>\n",
       "    </tr>\n",
       "    <tr>\n",
       "      <th>2</th>\n",
       "      <td>This is a pen. #$%^</td>\n",
       "      <td>This is a pen</td>\n",
       "    </tr>\n",
       "  </tbody>\n",
       "</table>\n",
       "</div>"
      ],
      "text/plain": [
       "                        0                  1\n",
       "0     What is this?/$%^&*      What is this \n",
       "1  This is an apple. *&^%  This is an apple \n",
       "2     This is a pen. #$%^     This is a pen "
      ]
     },
     "execution_count": 41,
     "metadata": {},
     "output_type": "execute_result"
    }
   ],
   "source": [
    "df[1] = df[0].str.replace(\"[^a-zA-Z]+\", \" \")\n",
    "df"
   ]
  },
  {
   "cell_type": "code",
   "execution_count": 42,
   "id": "6262815b",
   "metadata": {},
   "outputs": [
    {
     "name": "stdout",
     "output_type": "stream",
     "text": [
      "What is this \n",
      "This is an apple \n",
      "This is a pen \n"
     ]
    }
   ],
   "source": [
    "for text in texts:\n",
    "    text_clean = re.sub(r\"[^a-zA-Z0-9]+\",' ',text)\n",
    "    print(text_clean)"
   ]
  },
  {
   "cell_type": "code",
   "execution_count": null,
   "id": "592d8d7f",
   "metadata": {},
   "outputs": [],
   "source": []
  }
 ],
 "metadata": {
  "kernelspec": {
   "display_name": "Python 3 (ipykernel)",
   "language": "python",
   "name": "python3"
  },
  "language_info": {
   "codemirror_mode": {
    "name": "ipython",
    "version": 3
   },
   "file_extension": ".py",
   "mimetype": "text/x-python",
   "name": "python",
   "nbconvert_exporter": "python",
   "pygments_lexer": "ipython3",
   "version": "3.9.12"
  }
 },
 "nbformat": 4,
 "nbformat_minor": 5
}
