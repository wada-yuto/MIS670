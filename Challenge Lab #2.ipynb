{
 "cells": [
  {
   "cell_type": "markdown",
   "metadata": {},
   "source": [
    "# CHALLENGE LAB 2"
   ]
  },
  {
   "cell_type": "code",
   "execution_count": null,
   "metadata": {},
   "outputs": [],
   "source": [
    "# Yuto Wada yuto808263@ksu.edu"
   ]
  },
  {
   "cell_type": "markdown",
   "metadata": {},
   "source": [
    "# VARIABLES"
   ]
  },
  {
   "cell_type": "code",
   "execution_count": 4,
   "metadata": {},
   "outputs": [
    {
     "data": {
      "text/plain": [
       "'Furbert'"
      ]
     },
     "execution_count": 4,
     "metadata": {},
     "output_type": "execute_result"
    }
   ],
   "source": [
    "# Example 1\n",
    "dog_name = 'Furbert'\n",
    "age = 9\n",
    "is_vaccinated = True\n",
    "height = 1.1\n",
    "birth_year = 2014\n"
   ]
  },
  {
   "cell_type": "code",
   "execution_count": 2,
   "metadata": {},
   "outputs": [
    {
     "name": "stdout",
     "output_type": "stream",
     "text": [
      "Dogs name is: Waterboy\n"
     ]
    }
   ],
   "source": [
    "# Action 1 Required: Overwrite the dog's name and output it\n",
    "dog_name = \"Waterboy\"\n",
    "print(\"Dogs name is: \" + dog_name)"
   ]
  },
  {
   "cell_type": "code",
   "execution_count": 6,
   "metadata": {},
   "outputs": [
    {
     "name": "stdout",
     "output_type": "stream",
     "text": [
      "Furbert is great!\n"
     ]
    }
   ],
   "source": [
    "# Example 2\n",
    "my_dog = \" is great!\"    # a string\n",
    "print(dog_name + my_dog)"
   ]
  },
  {
   "cell_type": "code",
   "execution_count": 58,
   "metadata": {},
   "outputs": [
    {
     "name": "stdout",
     "output_type": "stream",
     "text": [
      "Waterboy 21\n",
      "Waterboy21\n"
     ]
    }
   ],
   "source": [
    "# Example 3\n",
    "# print dog_name and a number     # can't add a number and a string\n",
    "print('%s %s' %(dog_name, age))\n",
    "print('%s%s' %(dog_name, age))"
   ]
  },
  {
   "cell_type": "code",
   "execution_count": 59,
   "metadata": {},
   "outputs": [
    {
     "name": "stdout",
     "output_type": "stream",
     "text": [
      "Waterboy 21\n",
      "Waterboy21\n"
     ]
    }
   ],
   "source": [
    "# Action 2 Required: Print your dog name concatenated with its age (both with and without a space like in example 3)\n",
    "dog_name = \"Waterboy\"\n",
    "print('%s %s' %(dog_name, age))\n",
    "print('%s%s' %(dog_name, age))"
   ]
  },
  {
   "cell_type": "code",
   "execution_count": 61,
   "metadata": {},
   "outputs": [
    {
     "name": "stdout",
     "output_type": "stream",
     "text": [
      "Yuto Wada\n",
      "21\n",
      "165.2\n",
      "135\n",
      "Pumpkin\n"
     ]
    }
   ],
   "source": [
    "# Action 3 Required: Declare multiple variables (string, integer, float) and display them\n",
    "name = \"Yuto Wada\"\n",
    "age = 21\n",
    "height = 165.2\n",
    "weight = 135\n",
    "pet_name = \"Pumpkin\"\n",
    "\n",
    "print(name)\n",
    "print(age)\n",
    "print(height)\n",
    "print(weight)\n",
    "print(pet_name)"
   ]
  },
  {
   "cell_type": "code",
   "execution_count": 18,
   "metadata": {},
   "outputs": [
    {
     "name": "stdout",
     "output_type": "stream",
     "text": [
      "My name is Yuto Wada and I am 21 years old. I am 165.2 meters tall and weight 135 lbs and I have a pet name Pumpkin\n"
     ]
    }
   ],
   "source": [
    "# Action 4 Required: Concatonate your variables in various ways (at least 5 and display the outputs)\n",
    "print('My name is %s and I am %s years old. I am %s meters tall and weight %s lbs and I have a pet name %s' %(name, age, height, weight, pet_name))"
   ]
  },
  {
   "cell_type": "markdown",
   "metadata": {},
   "source": [
    "### Example 3b: Basic format or argument specifiers you can use:\n",
    "\n",
    "%s - String (or any object with a string representation, like numbers)\n",
    "\n",
    "%d - Integers\n",
    "\n",
    "%f - Floating point numbers\n",
    "\n",
    "%.<number of digits>f - Floating point numbers with a fixed amount of digits to the right of the dot."
   ]
  },
  {
   "cell_type": "markdown",
   "metadata": {},
   "source": [
    "# BASIC OPERATORS"
   ]
  },
  {
   "cell_type": "code",
   "execution_count": 22,
   "metadata": {},
   "outputs": [],
   "source": [
    "# Example 4\n",
    "G = \"Go\"\n",
    "O = \"100\"\n",
    "C = \"Cats\"\n",
    "A = \"200\"\n",
    "T = \"500\"\n",
    "S = \"STOP\"\n",
    "\n"
   ]
  },
  {
   "cell_type": "code",
   "execution_count": 21,
   "metadata": {},
   "outputs": [
    {
     "name": "stdout",
     "output_type": "stream",
     "text": [
      "Go Cats\n"
     ]
    }
   ],
   "source": [
    "# Action 5 Required: Concatonate Variables G and C in a way that makes sense and display the output\n",
    "print('%s %s' %(G, C))"
   ]
  },
  {
   "cell_type": "code",
   "execution_count": 35,
   "metadata": {},
   "outputs": [],
   "source": [
    "# Example 5\n",
    "\n",
    "# a + b    Adds a to b\n",
    "# a - b    Subtract b from a\n",
    "# a * b    Multiply a by b\n",
    "# a / b    Divide a by b\n",
    "# b % a    Divides b by a and returns remainder\n",
    "# a ** b   a raised to the power of b"
   ]
  },
  {
   "cell_type": "code",
   "execution_count": 29,
   "metadata": {},
   "outputs": [
    {
     "name": "stdout",
     "output_type": "stream",
     "text": [
      "102\n",
      "-198\n",
      "1000\n",
      "0.02\n",
      "0\n",
      "3273390607896141870013189696827599152216642046043064789483291368096133796404674554883270092325904157150886684127560071009217256545885393053328527589376\n"
     ]
    }
   ],
   "source": [
    "# Action 5b Required: Create a new variable called my_power that is equal to 2. \n",
    "# Then create one example of each operator shown in exercise 5 using the variables in Example #4.\n",
    "# my_power should be used for your exponent \n",
    "my_power = 2\n",
    "print(my_power + int(O))\n",
    "print(my_power - int(A))\n",
    "print(my_power * int(T))\n",
    "print(my_power / int(O))\n",
    "print(int(A) % my_power)\n",
    "print(my_power ** int(T))\n"
   ]
  },
  {
   "cell_type": "raw",
   "metadata": {},
   "source": [
    "# LOGICAL OPERATORS"
   ]
  },
  {
   "cell_type": "code",
   "execution_count": 31,
   "metadata": {},
   "outputs": [],
   "source": [
    "# Example 6\n",
    "a = 1\n",
    "b = 2\n",
    "c = 3\n",
    "d = True\n",
    "e = \"cool\"\n"
   ]
  },
  {
   "cell_type": "code",
   "execution_count": 32,
   "metadata": {},
   "outputs": [
    {
     "data": {
      "text/plain": [
       "True"
      ]
     },
     "execution_count": 32,
     "metadata": {},
     "output_type": "execute_result"
    }
   ],
   "source": [
    "# Action 6 Required: Code this expression and run it: a == e or d and c > b\n",
    "(a == e) or (d and (c > b))\n"
   ]
  },
  {
   "cell_type": "code",
   "execution_count": 34,
   "metadata": {},
   "outputs": [
    {
     "data": {
      "text/plain": [
       "True"
      ]
     },
     "execution_count": 34,
     "metadata": {},
     "output_type": "execute_result"
    }
   ],
   "source": [
    "# Action 7 Required: Code this expression and run it: not a == e or d and not c > a\n",
    "not(a == e) or (d and not(c > a))"
   ]
  },
  {
   "cell_type": "code",
   "execution_count": null,
   "metadata": {},
   "outputs": [],
   "source": [
    "# Action 8 Required: Create a comment that explains why the answers in Actions 6 and 7 are different if they are!\n",
    "# For action 6, a == e part will result in false since they are not the same data type, the second part of the expression\n",
    "#Looks at the c > b part first. C is greater than B so this returns true. Now we have d and true, and D is true so this\n",
    "# expression is true and true which is true. Now the overall expression is False or True, which result in True since one\n",
    "# of the expression is True.\n",
    "\n",
    "#For action 7, not(a == e) is negation, meaning that it will flip the result of the expression. a == e returns False, and\n",
    "# if we flip the result, we will get True. In this case, we don't have to evaluate the second part of the expression since\n",
    "# the overall expression is connected with or and we have one part that is true."
   ]
  },
  {
   "cell_type": "markdown",
   "metadata": {},
   "source": [
    "# DATA STRUCTURES"
   ]
  },
  {
   "cell_type": "code",
   "execution_count": 38,
   "metadata": {},
   "outputs": [],
   "source": [
    "# Example 7 Data Structures with Dictionary, Values, and Lists. \n",
    "state_city = [\n",
    "{'Arizona': 'Phoenix', 'California': 'Sacramento', 'Hawaii': 'Honolulu', 'Michigan': 'De Tour Village'},\n",
    "1000,\n",
    "2000,\n",
    "3000,\n",
    "['hat', 't-shirt', 'jeans', {'socks1': 'red', 'socks2': 'blue'}]]\n"
   ]
  },
  {
   "cell_type": "code",
   "execution_count": 36,
   "metadata": {},
   "outputs": [
    {
     "ename": "NameError",
     "evalue": "name 'state_city' is not defined",
     "output_type": "error",
     "traceback": [
      "\u001b[0;31m---------------------------------------------------------------------------\u001b[0m",
      "\u001b[0;31mNameError\u001b[0m                                 Traceback (most recent call last)",
      "\u001b[0;32m<ipython-input-36-75f828468b2f>\u001b[0m in \u001b[0;36m<module>\u001b[0;34m\u001b[0m\n\u001b[0;32m----> 1\u001b[0;31m \u001b[0mstate_city\u001b[0m\u001b[0;34m\u001b[0m\u001b[0;34m\u001b[0m\u001b[0m\n\u001b[0m",
      "\u001b[0;31mNameError\u001b[0m: name 'state_city' is not defined"
     ]
    }
   ],
   "source": [
    "state_city"
   ]
  },
  {
   "cell_type": "code",
   "execution_count": 39,
   "metadata": {},
   "outputs": [
    {
     "name": "stdout",
     "output_type": "stream",
     "text": [
      "2000\n"
     ]
    }
   ],
   "source": [
    "# Action 9 Required: Return 2000 on your screen\n",
    "print(state_city[2])"
   ]
  },
  {
   "cell_type": "code",
   "execution_count": 40,
   "metadata": {},
   "outputs": [
    {
     "name": "stdout",
     "output_type": "stream",
     "text": [
      "{'Arizona': 'Phoenix', 'California': 'Sacramento', 'Hawaii': 'Honolulu', 'Michigan': 'De Tour Village'}\n"
     ]
    }
   ],
   "source": [
    "# Action 10 Required: Return the dictionary of the cities and states on your screen\n",
    "print(state_city[0])"
   ]
  },
  {
   "cell_type": "code",
   "execution_count": 41,
   "metadata": {},
   "outputs": [
    {
     "name": "stdout",
     "output_type": "stream",
     "text": [
      "['hat', 't-shirt', 'jeans', {'socks1': 'red', 'socks2': 'blue'}]\n"
     ]
    }
   ],
   "source": [
    "# Action 11 Required: Return the list of the clothes on your screen\n",
    "print(state_city[4])"
   ]
  },
  {
   "cell_type": "code",
   "execution_count": 43,
   "metadata": {},
   "outputs": [
    {
     "name": "stdout",
     "output_type": "stream",
     "text": [
      "De Tour Village\n"
     ]
    }
   ],
   "source": [
    "# Action 12 Required: Return 'De Tour Village' on your screen\n",
    "print(state_city[0][\"Michigan\"])"
   ]
  },
  {
   "cell_type": "code",
   "execution_count": 44,
   "metadata": {},
   "outputs": [
    {
     "name": "stdout",
     "output_type": "stream",
     "text": [
      "jeans\n"
     ]
    }
   ],
   "source": [
    "# Action 13 Required: Return the word 'jeans' on your screen\n",
    "print(state_city[4][2])"
   ]
  },
  {
   "cell_type": "code",
   "execution_count": 45,
   "metadata": {},
   "outputs": [
    {
     "name": "stdout",
     "output_type": "stream",
     "text": [
      "blue\n"
     ]
    }
   ],
   "source": [
    "# Action 14 Required: Return the word 'blue' on your screen\n",
    "print(state_city[4][3][\"socks2\"])"
   ]
  },
  {
   "cell_type": "markdown",
   "metadata": {},
   "source": [
    "# FUNCTIONS AND METHODS"
   ]
  },
  {
   "cell_type": "code",
   "execution_count": 46,
   "metadata": {},
   "outputs": [
    {
     "name": "stdout",
     "output_type": "stream",
     "text": [
      "10\n"
     ]
    }
   ],
   "source": [
    "# Action 15 Required: Return the length of the city associated with California from Example 7 \n",
    "# (Do not recode the string, use the one from the data structure)\n",
    "print(len(state_city[0][\"California\"]))"
   ]
  },
  {
   "cell_type": "code",
   "execution_count": 48,
   "metadata": {},
   "outputs": [
    {
     "name": "stdout",
     "output_type": "stream",
     "text": [
      "3000\n"
     ]
    }
   ],
   "source": [
    "# Action 16 Required: Return the MAX value from the three numbers in Example 7\n",
    "print(state_city[3])"
   ]
  },
  {
   "cell_type": "code",
   "execution_count": 49,
   "metadata": {},
   "outputs": [
    {
     "name": "stdout",
     "output_type": "stream",
     "text": [
      "WATERBOY\n"
     ]
    }
   ],
   "source": [
    "# Action 17 Required: Return the name of your dog from Example 1 \n",
    "# (you have overwritten the name remember) in all upper case letters.\n",
    "print(dog_name.upper())"
   ]
  },
  {
   "cell_type": "code",
   "execution_count": 2,
   "metadata": {},
   "outputs": [],
   "source": [
    "# Example 8\n",
    "white_space_example = '       April                 Wine        '"
   ]
  },
  {
   "cell_type": "code",
   "execution_count": 52,
   "metadata": {},
   "outputs": [
    {
     "name": "stdout",
     "output_type": "stream",
     "text": [
      "April                 Wine\n"
     ]
    }
   ],
   "source": [
    "# Action 18 Required: Strip all leading and trailing 'white space' from Example 8\n",
    "print(white_space_example.strip())"
   ]
  },
  {
   "cell_type": "code",
   "execution_count": 3,
   "metadata": {},
   "outputs": [
    {
     "data": {
      "text/plain": [
       "'AprilWine'"
      ]
     },
     "execution_count": 3,
     "metadata": {},
     "output_type": "execute_result"
    }
   ],
   "source": [
    "# Action 19 Required: Replace all white speace (leading, trailing and internal) from the value in Example 8\n",
    "# hint, use this form: ' '.join(myvariable.split())\n",
    "\"\".join(white_space_example.split())"
   ]
  },
  {
   "cell_type": "code",
   "execution_count": 5,
   "metadata": {},
   "outputs": [
    {
     "data": {
      "text/plain": [
       "'April Wine'"
      ]
     },
     "execution_count": 5,
     "metadata": {},
     "output_type": "execute_result"
    }
   ],
   "source": [
    "# Action 20 Required: Split the 'clean' version of Example 8 into two separate words.\n",
    "\" \".join(white_space_example.split())"
   ]
  },
  {
   "cell_type": "code",
   "execution_count": 54,
   "metadata": {},
   "outputs": [
    {
     "name": "stdout",
     "output_type": "stream",
     "text": [
      "DexTourxVillage\n"
     ]
    }
   ],
   "source": [
    "# Action 21 Required: Replace the white space in the city associated with Michigan in Example 7 with the letter 'x'\n",
    "print(state_city[0][\"Michigan\"].replace(\" \", \"x\"))"
   ]
  },
  {
   "cell_type": "code",
   "execution_count": 57,
   "metadata": {},
   "outputs": [
    {
     "name": "stdout",
     "output_type": "stream",
     "text": [
      "[{'Arizona': 'Phoenix', 'California': 'Sacramento', 'Hawaii': 'Honolulu', 'Michigan': 'De Tour Village'}, ['hat', 't-shirt', 'jeans', {'socks1': 'red', 'socks2': 'blue'}]]\n"
     ]
    }
   ],
   "source": [
    "# Action 22 Required: Remove the 3 numeric values from Example 7 using a method and print out the data structure\n",
    "for element in state_city:\n",
    "    if type(element) == int:\n",
    "        state_city.remove(element)\n",
    "print(state_city)"
   ]
  },
  {
   "cell_type": "code",
   "execution_count": null,
   "metadata": {},
   "outputs": [],
   "source": []
  }
 ],
 "metadata": {
  "kernelspec": {
   "display_name": "Python 3",
   "language": "python",
   "name": "python3"
  },
  "language_info": {
   "codemirror_mode": {
    "name": "ipython",
    "version": 3
   },
   "file_extension": ".py",
   "mimetype": "text/x-python",
   "name": "python",
   "nbconvert_exporter": "python",
   "pygments_lexer": "ipython3",
   "version": "3.8.0"
  }
 },
 "nbformat": 4,
 "nbformat_minor": 4
}
