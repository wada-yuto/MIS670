{
 "cells": [
  {
   "cell_type": "markdown",
   "id": "a9d353c8",
   "metadata": {},
   "source": [
    "# Scraping Amazon Customer Reviews -- Selenium + BeautifulSoup "
   ]
  },
  {
   "cell_type": "code",
   "execution_count": 12,
   "id": "9d0d11ca",
   "metadata": {},
   "outputs": [],
   "source": [
    "from bs4 import BeautifulSoup\n",
    "import time\n",
    "from selenium import webdriver\n",
    "from webdriver_manager.chrome import ChromeDriverManager\n",
    "from selenium.webdriver.support.ui import WebDriverWait as wait\n",
    "import pandas as pd\n",
    "import re"
   ]
  },
  {
   "cell_type": "code",
   "execution_count": 13,
   "id": "e5a28ac6",
   "metadata": {},
   "outputs": [
    {
     "name": "stderr",
     "output_type": "stream",
     "text": [
      "<ipython-input-13-e09616404291>:2: DeprecationWarning: executable_path has been deprecated, please pass in a Service object\n",
      "  driver = webdriver.Chrome(ChromeDriverManager().install())\n"
     ]
    }
   ],
   "source": [
    "#Get Chrome driver\n",
    "driver = webdriver.Chrome(ChromeDriverManager().install())\n",
    "\n",
    "#Firefox \n",
    "#driver = webdriver.Firefox()\n",
    "#driver.get(urls)"
   ]
  },
  {
   "cell_type": "code",
   "execution_count": 14,
   "id": "fa3e6db9",
   "metadata": {},
   "outputs": [],
   "source": [
    "# creat a loop for getting the url for each page\n",
    "for i in range(1,17):\n",
    "    urls = \"https://www.amazon.com/Alienware-Aurora-R10-Gaming-Desktop/product-reviews/B09VR4G423/ref=cm_cr_arp_d_paging_btm_next_\"+str(i)+\"?ie=UTF8&reviewerType=all_reviews&pageNumber=\"+str(i)\n",
    "    #print(urls)"
   ]
  },
  {
   "cell_type": "code",
   "execution_count": 15,
   "id": "07b815a6",
   "metadata": {},
   "outputs": [
    {
     "name": "stdout",
     "output_type": "stream",
     "text": [
      "WilliamIDube\n",
      "5.0 out of 5 stars\n",
      "Reviewed in the United States on September 6 2022\n",
      " PROS This cable is a great price and works It is a true USB Mini B on one side and Male USB A on the other side It works Nice and long to reach anything I need to be charging or transferring data with CONS None to note Yes I d buy this again and recommend to anyone that needs one \n",
      "None\n",
      "\n",
      "PriscillaSpradling\n",
      "4.0 out of 5 stars\n",
      "Reviewed in the United States on September 11 2022\n",
      " I bought as part of a bundle for two chords I needed one short cord and one long cord which is what I got and both of the cords are perfect for what I need them for \n",
      "None\n",
      "\n",
      "JHirsh\n",
      "5.0 out of 5 stars\n",
      "Reviewed in the United States on September 10 2022\n",
      " Needed a cable when the damn gnomes stole one and this worked Has now worked for three separate devices chargers and survived a vacation No issues here \n",
      "None\n",
      "\n",
      "chadm\n",
      "5.0 out of 5 stars\n",
      "Reviewed in the United States on September 10 2022\n",
      " Product exactly what it should I always prefer the braided cords for durability but this one works just fine and charges my electronics \n",
      "None\n",
      "\n",
      "JohnJ\n",
      "5.0 out of 5 stars\n",
      "Reviewed in the United States on August 29 2022\n",
      " The price of this cord was beyond phenomenal compared to other places such as Walmart It charges and also has data transfer ability which is very important Computer recognized my old early 2010 mp3 immediately after connecting \n",
      "None\n",
      "\n",
      "Mateusz\n",
      "4.0 out of 5 stars\n",
      "Reviewed in the United States on September 11 2022\n",
      " Everything works as it should \n",
      "None\n",
      "\n",
      "VirginiaEngineer\n",
      "4.0 out of 5 stars\n",
      "Reviewed in the United States on August 29 2022\n",
      " I think this of plug is called a five pin USB charging connector It s hard to find and I really needed one \n",
      "None\n",
      "\n",
      "JohnP\n",
      "5.0 out of 5 stars\n",
      "Reviewed in the United States on August 30 2022\n",
      " I needed a cord quickly while on vacation It was inexpensive got it in one day and it did the job \n",
      "None\n",
      "\n",
      "Henryalexander\n",
      "4.0 out of 5 stars\n",
      "Reviewed in the United States on September 5 2022\n",
      " It works well \n",
      "None\n",
      "\n",
      "JLSmith\n",
      "5.0 out of 5 stars\n",
      "Reviewed in the United States on September 8 2022\n",
      " Product as described \n",
      "None\n",
      "\n",
      "Whathappnd\n",
      "5.0 out of 5 stars\n",
      "Reviewed in the United States on August 29 2022\n",
      " Just works Great value \n",
      "None\n",
      "\n",
      "TommyKonkel\n",
      "5.0 out of 5 stars\n",
      "Reviewed in the United States on August 24 2022\n",
      " Fit my Tens Unit Perfect Fantastic Value \n",
      "None\n",
      "\n",
      "1techguy\n",
      "5.0 out of 5 stars\n",
      "Reviewed in the United States on August 19 2022\n",
      " used for a garmin gps works well to charge it \n",
      "None\n",
      "\n",
      "catherinemmauceri\n",
      "5.0 out of 5 stars\n",
      "Reviewed in the United States on August 24 2022\n",
      " Cheap and works \n",
      "None\n",
      "\n",
      "mike\n",
      "5.0 out of 5 stars\n",
      "Reviewed in the United States on August 4 2022\n",
      " I bought 2 of these for my hand held Fire Rescue Scanners Now I just plug into port of lighter or wall outlet Works Great You can get them longer if need Well Built \n",
      "None\n",
      "\n",
      "JohnDPilla\n",
      "5.0 out of 5 stars\n",
      "Reviewed in the United States on August 10 2022\n",
      " Previous cheap cable only charged this is also good to transfer data needed to update my older vehicle Garmin GPS \n",
      "None\n",
      "\n",
      "PeterNguyen\n",
      "5.0 out of 5 stars\n",
      "Reviewed in the United States on August 14 2022\n",
      " It works with an old LG external DVD drive \n",
      "None\n",
      "\n",
      "JayP\n",
      "5.0 out of 5 stars\n",
      "Reviewed in the United States on July 18 2022\n",
      " For the price of 1 49 this is the best deal for this kind of cable on this site Works like aa charm as I bought for my old western digital 2 0 usb external drive Can t go wrong here \n",
      "None\n",
      "\n",
      "james\n",
      "5.0 out of 5 stars\n",
      "Reviewed in the United States on August 4 2022\n",
      " These are a great replacement item for ps2 ps3 peripherals \n",
      "None\n",
      "\n",
      "Tyan\n",
      "4.0 out of 5 stars\n",
      "Reviewed in the United States on June 20 2022\n",
      " What I liked about this item is that it was as it described and it worked for the electronics in which I purchased it for you should try it \n",
      "None\n",
      "\n"
     ]
    }
   ],
   "source": [
    "#store the data into dataframe\n",
    "AZ_reviews = {'Customer': [], 'Ratings': [], 'Date':[], 'Review_text':[], 'Vertified': []} #initialize dictionary\n",
    "\n",
    "# creat a loop for getting the url for each page\n",
    "for i in range(1,3):\n",
    "    urls = \"https://www.amazon.com/Monoprice-3-Feet-mini-B-28AWG-103896/product-reviews/B003L18SHC/ref=cm_cr_arp_d_paging_btm_next_\" + str(i) + \"?ie=UTF8&reviewerType=all_reviews&pageNumber=\" + str(i)\n",
    "    page = driver.get(urls)\n",
    "    driver.implicitly_wait(10) #sleep for 10 seconds\n",
    "    page_source = driver.page_source\n",
    "    soup = BeautifulSoup(page_source, 'html.parser')\n",
    "    results = soup.find(\"div\", {\"id\": \"cm_cr-review_list\"})\n",
    "    details = results.find_all('div', class_='a-section celwidget')\n",
    "    \n",
    "    #a loop for querying details from the webpage\n",
    "    for detail in details:\n",
    "        cus_name = detail.find('span', class_='a-profile-name')\n",
    "        ratings = detail.find('span', class_=\"a-icon-alt\")\n",
    "        date = detail.find('span', {\"data-hook\": \"review-date\"})\n",
    "        review = detail.find('span', {\"data-hook\": \"review-body\"})\n",
    "        vertified = detail.find('span', class_='a-link-normal')\n",
    "        \n",
    "        \n",
    "        cus_clean = re.sub(r\"[^a-zA-Z0-9]+\",'',cus_name.text)\n",
    "        #put a space in \" \" otherwise all the words will merge together\n",
    "        date_clean = re.sub(r\"[^a-zA-Z0-9]+\",' ',date.text)\n",
    "        review_clean = re.sub(r\"[^a-zA-Z0-9]+\",' ',review.text)\n",
    "        \n",
    "        AZ_reviews['Customer'].append(cus_clean.strip())\n",
    "        AZ_reviews['Ratings'].append(ratings.text.strip())\n",
    "        AZ_reviews['Date'].append(date_clean.strip())\n",
    "        AZ_reviews['Review_text'].append(review_clean.strip())\n",
    "        AZ_reviews['Vertified'].append(vertified)\n",
    "        \n",
    "        print(cus_clean)\n",
    "        print(ratings.text.strip())\n",
    "        print(date_clean)\n",
    "        print(review_clean)\n",
    "        print(vertified)\n",
    "        print()\n"
   ]
  },
  {
   "cell_type": "code",
   "execution_count": 16,
   "id": "c70b8be4",
   "metadata": {},
   "outputs": [
    {
     "data": {
      "text/html": [
       "<div>\n",
       "<style scoped>\n",
       "    .dataframe tbody tr th:only-of-type {\n",
       "        vertical-align: middle;\n",
       "    }\n",
       "\n",
       "    .dataframe tbody tr th {\n",
       "        vertical-align: top;\n",
       "    }\n",
       "\n",
       "    .dataframe thead th {\n",
       "        text-align: right;\n",
       "    }\n",
       "</style>\n",
       "<table border=\"1\" class=\"dataframe\">\n",
       "  <thead>\n",
       "    <tr style=\"text-align: right;\">\n",
       "      <th></th>\n",
       "      <th>Customer</th>\n",
       "      <th>Ratings</th>\n",
       "      <th>Date</th>\n",
       "      <th>Review_text</th>\n",
       "      <th>Vertified</th>\n",
       "    </tr>\n",
       "  </thead>\n",
       "  <tbody>\n",
       "    <tr>\n",
       "      <th>0</th>\n",
       "      <td>WilliamIDube</td>\n",
       "      <td>5.0 out of 5 stars</td>\n",
       "      <td>Reviewed in the United States on September 6 2022</td>\n",
       "      <td>PROS This cable is a great price and works It ...</td>\n",
       "      <td>None</td>\n",
       "    </tr>\n",
       "    <tr>\n",
       "      <th>1</th>\n",
       "      <td>PriscillaSpradling</td>\n",
       "      <td>4.0 out of 5 stars</td>\n",
       "      <td>Reviewed in the United States on September 11 ...</td>\n",
       "      <td>I bought as part of a bundle for two chords I ...</td>\n",
       "      <td>None</td>\n",
       "    </tr>\n",
       "    <tr>\n",
       "      <th>2</th>\n",
       "      <td>JHirsh</td>\n",
       "      <td>5.0 out of 5 stars</td>\n",
       "      <td>Reviewed in the United States on September 10 ...</td>\n",
       "      <td>Needed a cable when the damn gnomes stole one ...</td>\n",
       "      <td>None</td>\n",
       "    </tr>\n",
       "    <tr>\n",
       "      <th>3</th>\n",
       "      <td>chadm</td>\n",
       "      <td>5.0 out of 5 stars</td>\n",
       "      <td>Reviewed in the United States on September 10 ...</td>\n",
       "      <td>Product exactly what it should I always prefer...</td>\n",
       "      <td>None</td>\n",
       "    </tr>\n",
       "    <tr>\n",
       "      <th>4</th>\n",
       "      <td>JohnJ</td>\n",
       "      <td>5.0 out of 5 stars</td>\n",
       "      <td>Reviewed in the United States on August 29 2022</td>\n",
       "      <td>The price of this cord was beyond phenomenal c...</td>\n",
       "      <td>None</td>\n",
       "    </tr>\n",
       "  </tbody>\n",
       "</table>\n",
       "</div>"
      ],
      "text/plain": [
       "             Customer             Ratings  \\\n",
       "0        WilliamIDube  5.0 out of 5 stars   \n",
       "1  PriscillaSpradling  4.0 out of 5 stars   \n",
       "2              JHirsh  5.0 out of 5 stars   \n",
       "3               chadm  5.0 out of 5 stars   \n",
       "4               JohnJ  5.0 out of 5 stars   \n",
       "\n",
       "                                                Date  \\\n",
       "0  Reviewed in the United States on September 6 2022   \n",
       "1  Reviewed in the United States on September 11 ...   \n",
       "2  Reviewed in the United States on September 10 ...   \n",
       "3  Reviewed in the United States on September 10 ...   \n",
       "4    Reviewed in the United States on August 29 2022   \n",
       "\n",
       "                                         Review_text Vertified  \n",
       "0  PROS This cable is a great price and works It ...      None  \n",
       "1  I bought as part of a bundle for two chords I ...      None  \n",
       "2  Needed a cable when the damn gnomes stole one ...      None  \n",
       "3  Product exactly what it should I always prefer...      None  \n",
       "4  The price of this cord was beyond phenomenal c...      None  "
      ]
     },
     "execution_count": 16,
     "metadata": {},
     "output_type": "execute_result"
    }
   ],
   "source": [
    "AZreviews_df = pd.DataFrame(AZ_reviews)\n",
    "AZreviews_df.head()"
   ]
  },
  {
   "cell_type": "code",
   "execution_count": 5,
   "id": "4a21a1c2",
   "metadata": {},
   "outputs": [
    {
     "name": "stdout",
     "output_type": "stream",
     "text": [
      "<class 'pandas.core.frame.DataFrame'>\n",
      "RangeIndex: 39 entries, 0 to 38\n",
      "Data columns (total 4 columns):\n",
      " #   Column       Non-Null Count  Dtype \n",
      "---  ------       --------------  ----- \n",
      " 0   Customer     39 non-null     object\n",
      " 1   Ratings      39 non-null     object\n",
      " 2   Date         39 non-null     object\n",
      " 3   Review_text  39 non-null     object\n",
      "dtypes: object(4)\n",
      "memory usage: 1.3+ KB\n"
     ]
    }
   ],
   "source": [
    "AZreviews_df.info() \n",
    "#if you see the following error:\n",
    "#TypeError: Cannot interpret '<attribute 'dtype' of 'numpy.generic' objects>' as a data type\n",
    "#you need to update your Pandas and Numpy, you need to have pandas>=1.0.5\n",
    "#anaconda prompt: conda update pandas/numpy\n",
    "#check the version of your pandas: conda list pandas/numpy"
   ]
  },
  {
   "cell_type": "markdown",
   "id": "a4af9788",
   "metadata": {},
   "source": [
    "# Sentiment Analysis 2: Patten"
   ]
  },
  {
   "cell_type": "markdown",
   "id": "6c663dc8",
   "metadata": {},
   "source": [
    "install Patten\n",
    "\n",
    "https://anaconda.org/conda-forge/pattern"
   ]
  },
  {
   "cell_type": "markdown",
   "id": "e86aa88e",
   "metadata": {},
   "source": [
    "## NLP: Introduction to the Pattern Library\n",
    "\n",
    "source: https://stackabuse.com/python-for-nlp-introduction-to-the-pattern-library/"
   ]
  },
  {
   "cell_type": "code",
   "execution_count": 5,
   "id": "1d7b6003",
   "metadata": {},
   "outputs": [
    {
     "ename": "TypeError",
     "evalue": "Unicode-objects must be encoded before hashing",
     "output_type": "error",
     "traceback": [
      "\u001b[0;31m---------------------------------------------------------------------------\u001b[0m",
      "\u001b[0;31mTypeError\u001b[0m                                 Traceback (most recent call last)",
      "\u001b[0;32m<ipython-input-5-00175deaa807>\u001b[0m in \u001b[0;36m<module>\u001b[0;34m\u001b[0m\n\u001b[1;32m      3\u001b[0m \u001b[0mtwitter\u001b[0m \u001b[0;34m=\u001b[0m \u001b[0mTwitter\u001b[0m\u001b[0;34m(\u001b[0m\u001b[0;34m)\u001b[0m\u001b[0;34m\u001b[0m\u001b[0;34m\u001b[0m\u001b[0m\n\u001b[1;32m      4\u001b[0m \u001b[0;34m\u001b[0m\u001b[0m\n\u001b[0;32m----> 5\u001b[0;31m \u001b[0;32mfor\u001b[0m \u001b[0mresults\u001b[0m \u001b[0;32min\u001b[0m \u001b[0mtwitter\u001b[0m\u001b[0;34m.\u001b[0m\u001b[0msearch\u001b[0m\u001b[0;34m(\u001b[0m\u001b[0;34m'movies'\u001b[0m\u001b[0;34m)\u001b[0m\u001b[0;34m:\u001b[0m\u001b[0;34m\u001b[0m\u001b[0;34m\u001b[0m\u001b[0m\n\u001b[0m\u001b[1;32m      6\u001b[0m     \u001b[0mprint\u001b[0m\u001b[0;34m(\u001b[0m\u001b[0mresults\u001b[0m\u001b[0;34m.\u001b[0m\u001b[0murl\u001b[0m\u001b[0;34m)\u001b[0m\u001b[0;34m\u001b[0m\u001b[0;34m\u001b[0m\u001b[0m\n\u001b[1;32m      7\u001b[0m     \u001b[0mprint\u001b[0m\u001b[0;34m(\u001b[0m\u001b[0mresults\u001b[0m\u001b[0;34m.\u001b[0m\u001b[0mtext\u001b[0m\u001b[0;34m)\u001b[0m\u001b[0;34m\u001b[0m\u001b[0;34m\u001b[0m\u001b[0m\n",
      "\u001b[0;32m/Library/Frameworks/Python.framework/Versions/3.8/lib/python3.8/site-packages/pattern3/web/__init__.py\u001b[0m in \u001b[0;36msearch\u001b[0;34m(self, query, type, start, count, sort, size, cached, **kwargs)\u001b[0m\n\u001b[1;32m   1851\u001b[0m         \u001b[0murl\u001b[0m\u001b[0;34m.\u001b[0m\u001b[0mquery\u001b[0m\u001b[0;34m[\u001b[0m\u001b[0;34m\"lang\"\u001b[0m\u001b[0;34m]\u001b[0m \u001b[0;34m=\u001b[0m \u001b[0mself\u001b[0m\u001b[0;34m.\u001b[0m\u001b[0mlanguage\u001b[0m \u001b[0;32mor\u001b[0m \u001b[0;34m\"\"\u001b[0m\u001b[0;34m\u001b[0m\u001b[0;34m\u001b[0m\u001b[0m\n\u001b[1;32m   1852\u001b[0m         \u001b[0;31m# 5) Authenticate.\u001b[0m\u001b[0;34m\u001b[0m\u001b[0;34m\u001b[0m\u001b[0;34m\u001b[0m\u001b[0m\n\u001b[0;32m-> 1853\u001b[0;31m         \u001b[0murl\u001b[0m \u001b[0;34m=\u001b[0m \u001b[0mself\u001b[0m\u001b[0;34m.\u001b[0m\u001b[0m_authenticate\u001b[0m\u001b[0;34m(\u001b[0m\u001b[0murl\u001b[0m\u001b[0;34m)\u001b[0m\u001b[0;34m\u001b[0m\u001b[0;34m\u001b[0m\u001b[0m\n\u001b[0m\u001b[1;32m   1854\u001b[0m         \u001b[0;31m# 6) Parse JSON response.\u001b[0m\u001b[0;34m\u001b[0m\u001b[0;34m\u001b[0m\u001b[0;34m\u001b[0m\u001b[0m\n\u001b[1;32m   1855\u001b[0m         \u001b[0mkwargs\u001b[0m\u001b[0;34m.\u001b[0m\u001b[0msetdefault\u001b[0m\u001b[0;34m(\u001b[0m\u001b[0;34m\"unicode\"\u001b[0m\u001b[0;34m,\u001b[0m \u001b[0;32mTrue\u001b[0m\u001b[0;34m)\u001b[0m\u001b[0;34m\u001b[0m\u001b[0;34m\u001b[0m\u001b[0m\n",
      "\u001b[0;32m/Library/Frameworks/Python.framework/Versions/3.8/lib/python3.8/site-packages/pattern3/web/__init__.py\u001b[0m in \u001b[0;36m_authenticate\u001b[0;34m(self, url)\u001b[0m\n\u001b[1;32m   1795\u001b[0m         url.query.update({\n\u001b[1;32m   1796\u001b[0m             \u001b[0;34m\"oauth_version\"\u001b[0m\u001b[0;34m:\u001b[0m \u001b[0;34m\"1.0\"\u001b[0m\u001b[0;34m,\u001b[0m\u001b[0;34m\u001b[0m\u001b[0;34m\u001b[0m\u001b[0m\n\u001b[0;32m-> 1797\u001b[0;31m             \u001b[0;34m\"oauth_nonce\"\u001b[0m\u001b[0;34m:\u001b[0m \u001b[0moauth\u001b[0m\u001b[0;34m.\u001b[0m\u001b[0mnonce\u001b[0m\u001b[0;34m(\u001b[0m\u001b[0;34m)\u001b[0m\u001b[0;34m,\u001b[0m\u001b[0;34m\u001b[0m\u001b[0;34m\u001b[0m\u001b[0m\n\u001b[0m\u001b[1;32m   1798\u001b[0m             \u001b[0;34m\"oauth_timestamp\"\u001b[0m\u001b[0;34m:\u001b[0m \u001b[0moauth\u001b[0m\u001b[0;34m.\u001b[0m\u001b[0mtimestamp\u001b[0m\u001b[0;34m(\u001b[0m\u001b[0;34m)\u001b[0m\u001b[0;34m,\u001b[0m\u001b[0;34m\u001b[0m\u001b[0;34m\u001b[0m\u001b[0m\n\u001b[1;32m   1799\u001b[0m             \u001b[0;34m\"oauth_consumer_key\"\u001b[0m\u001b[0;34m:\u001b[0m \u001b[0mself\u001b[0m\u001b[0;34m.\u001b[0m\u001b[0mlicense\u001b[0m\u001b[0;34m[\u001b[0m\u001b[0;36m0\u001b[0m\u001b[0;34m]\u001b[0m\u001b[0;34m,\u001b[0m\u001b[0;34m\u001b[0m\u001b[0;34m\u001b[0m\u001b[0m\n",
      "\u001b[0;32m/Library/Frameworks/Python.framework/Versions/3.8/lib/python3.8/site-packages/pattern3/web/oauth/__init__.py\u001b[0m in \u001b[0;36mnonce\u001b[0;34m()\u001b[0m\n\u001b[1;32m     44\u001b[0m \u001b[0;34m\u001b[0m\u001b[0m\n\u001b[1;32m     45\u001b[0m \u001b[0;32mdef\u001b[0m \u001b[0mnonce\u001b[0m\u001b[0;34m(\u001b[0m\u001b[0;34m)\u001b[0m\u001b[0;34m:\u001b[0m\u001b[0;34m\u001b[0m\u001b[0;34m\u001b[0m\u001b[0m\n\u001b[0;32m---> 46\u001b[0;31m     \u001b[0;32mreturn\u001b[0m \u001b[0mmd5\u001b[0m\u001b[0;34m(\u001b[0m\u001b[0mstr\u001b[0m\u001b[0;34m(\u001b[0m\u001b[0mtime\u001b[0m\u001b[0;34m.\u001b[0m\u001b[0mtime\u001b[0m\u001b[0;34m(\u001b[0m\u001b[0;34m)\u001b[0m\u001b[0;34m)\u001b[0m \u001b[0;34m+\u001b[0m \u001b[0mstr\u001b[0m\u001b[0;34m(\u001b[0m\u001b[0mrandom\u001b[0m\u001b[0;34m.\u001b[0m\u001b[0mrandom\u001b[0m\u001b[0;34m(\u001b[0m\u001b[0;34m)\u001b[0m\u001b[0;34m)\u001b[0m\u001b[0;34m)\u001b[0m\u001b[0;34m.\u001b[0m\u001b[0mhexdigest\u001b[0m\u001b[0;34m(\u001b[0m\u001b[0;34m)\u001b[0m\u001b[0;34m\u001b[0m\u001b[0;34m\u001b[0m\u001b[0m\n\u001b[0m\u001b[1;32m     47\u001b[0m \u001b[0;34m\u001b[0m\u001b[0m\n\u001b[1;32m     48\u001b[0m \u001b[0;34m\u001b[0m\u001b[0m\n",
      "\u001b[0;31mTypeError\u001b[0m: Unicode-objects must be encoded before hashing"
     ]
    }
   ],
   "source": [
    "from pattern3.web import Twitter\n",
    "\n",
    "twitter = Twitter()\n",
    "\n",
    "for results in twitter.search('movies'):\n",
    "    print(results.url)\n",
    "    print(results.text)"
   ]
  },
  {
   "cell_type": "code",
   "execution_count": 17,
   "id": "6db1c431",
   "metadata": {},
   "outputs": [
    {
     "name": "stdout",
     "output_type": "stream",
     "text": [
      "leaves\n",
      "theife\n"
     ]
    }
   ],
   "source": [
    "from pattern.en import pluralize, singularize\n",
    "\n",
    "print(pluralize('leaf'))\n",
    "print(singularize('theives'))"
   ]
  },
  {
   "cell_type": "code",
   "execution_count": 18,
   "id": "4d2a53f0",
   "metadata": {},
   "outputs": [
    {
     "name": "stdout",
     "output_type": "stream",
     "text": [
      "better\n",
      "best\n"
     ]
    }
   ],
   "source": [
    "from pattern.en import comparative, superlative\n",
    "\n",
    "print(comparative('good'))\n",
    "print(superlative('good'))"
   ]
  },
  {
   "cell_type": "code",
   "execution_count": 8,
   "id": "7de7db05",
   "metadata": {},
   "outputs": [
    {
     "name": "stdout",
     "output_type": "stream",
     "text": [
      "(0.75, 0.8)\n"
     ]
    }
   ],
   "source": [
    "from pattern.en import sentiment\n",
    "\n",
    "print(sentiment(\"This is an excellent movie to watch. I really love it\"))"
   ]
  },
  {
   "cell_type": "markdown",
   "id": "9a8dfcd1",
   "metadata": {},
   "source": [
    "In Pattern, the sentiment object is used to find the **polarity** (positivity or negativity) of a text along with its subjectivity.\n",
    "\n",
    "**Polarity**:Depending upon the most commonly occurring positive (good, best, excellent, etc.) and negative (bad, awful, pathetic, etc.) adjectives, a sentiment score **between 1 and -1** is assigned to the text.\n",
    "\n",
    "In addition to the sentiment score, subjectivity is also returned. **The subjectivity value can be between 0 and 1.** Subjectivity quantifies the amount of personal opinion and factual information contained in the text. **The higher subjectivity means that the text contains personal opinion rather than factual information.**"
   ]
  },
  {
   "cell_type": "markdown",
   "id": "3686d7c9",
   "metadata": {},
   "source": [
    "##### The sentence \"This is an excellent movie to watch. I really love it\" has a sentiment of 0.75, which shows that it is highly positive. \n",
    "##### Similarly, the subjectivity of 0.8 refers to the fact that the sentence is a personal opinion of the user."
   ]
  },
  {
   "cell_type": "code",
   "execution_count": 6,
   "id": "9d1058bd",
   "metadata": {},
   "outputs": [
    {
     "data": {
      "text/plain": [
       "list"
      ]
     },
     "execution_count": 6,
     "metadata": {},
     "output_type": "execute_result"
    }
   ],
   "source": [
    "type(AZ_reviews['Review_text'])"
   ]
  },
  {
   "cell_type": "code",
   "execution_count": 9,
   "id": "0aa1bbb3",
   "metadata": {},
   "outputs": [
    {
     "name": "stdout",
     "output_type": "stream",
     "text": [
      "(0.9, 0.875)\n"
     ]
    }
   ],
   "source": [
    "print(sentiment(\"Great machine with excellent cooling handles anything I throw at it using ultra settings on games like Battlefield 4 Titanfall2\")) "
   ]
  },
  {
   "cell_type": "code",
   "execution_count": 9,
   "id": "879465ee",
   "metadata": {},
   "outputs": [
    {
     "ename": "NameError",
     "evalue": "name 'AZ_reviews' is not defined",
     "output_type": "error",
     "traceback": [
      "\u001b[0;31m---------------------------------------------------------------------------\u001b[0m",
      "\u001b[0;31mNameError\u001b[0m                                 Traceback (most recent call last)",
      "\u001b[0;32m<ipython-input-9-a4a9e0268a50>\u001b[0m in \u001b[0;36m<module>\u001b[0;34m\u001b[0m\n\u001b[0;32m----> 1\u001b[0;31m \u001b[0mtexts\u001b[0m \u001b[0;34m=\u001b[0m \u001b[0mAZ_reviews\u001b[0m\u001b[0;34m[\u001b[0m\u001b[0;34m'Review_text'\u001b[0m\u001b[0;34m]\u001b[0m\u001b[0;34m\u001b[0m\u001b[0;34m\u001b[0m\u001b[0m\n\u001b[0m\u001b[1;32m      2\u001b[0m \u001b[0;34m\u001b[0m\u001b[0m\n\u001b[1;32m      3\u001b[0m \u001b[0;32mfor\u001b[0m \u001b[0mrow\u001b[0m \u001b[0;32min\u001b[0m \u001b[0mtexts\u001b[0m\u001b[0;34m:\u001b[0m\u001b[0;34m\u001b[0m\u001b[0;34m\u001b[0m\u001b[0m\n\u001b[1;32m      4\u001b[0m     \u001b[0mprint\u001b[0m\u001b[0;34m(\u001b[0m\u001b[0msentiment\u001b[0m\u001b[0;34m(\u001b[0m\u001b[0mrow\u001b[0m\u001b[0;34m)\u001b[0m\u001b[0;34m)\u001b[0m\u001b[0;34m\u001b[0m\u001b[0;34m\u001b[0m\u001b[0m\n",
      "\u001b[0;31mNameError\u001b[0m: name 'AZ_reviews' is not defined"
     ]
    }
   ],
   "source": [
    "texts = AZ_reviews['Review_text']\n",
    "\n",
    "for row in texts:\n",
    "    print(sentiment(row))"
   ]
  },
  {
   "cell_type": "markdown",
   "id": "a2f2d66e",
   "metadata": {},
   "source": [
    "# Sentiment Analysis 2: Textblob"
   ]
  },
  {
   "cell_type": "markdown",
   "id": "2956809c",
   "metadata": {},
   "source": [
    "install Textblob\n",
    "\n",
    "https://anaconda.org/conda-forge/textblob"
   ]
  },
  {
   "cell_type": "code",
   "execution_count": 8,
   "id": "8342bad1",
   "metadata": {},
   "outputs": [],
   "source": [
    "from textblob import TextBlob"
   ]
  },
  {
   "cell_type": "code",
   "execution_count": 17,
   "id": "61c267c2",
   "metadata": {},
   "outputs": [
    {
     "name": "stdout",
     "output_type": "stream",
     "text": [
      "0.2625 0.5458333333333333 Positive\n",
      "0.31666666666666665 0.5666666666666667 Positive\n",
      "0.0 0.0 Neutral\n",
      "0.33333333333333337 0.375 Positive\n",
      "0.1825 0.4791666666666667 Positive\n",
      "0.0 0.0 Neutral\n",
      "-0.04583333333333334 0.37083333333333335 Negative\n",
      "0.3333333333333333 0.5 Positive\n",
      "0.0 0.0 Neutral\n",
      "0.0 0.0 Neutral\n",
      "0.8 0.75 Positive\n",
      "0.6 0.7666666666666666 Positive\n",
      "0.0 0.0 Neutral\n",
      "0.4 0.7 Positive\n",
      "0.8 0.75 Positive\n",
      "0.22000000000000003 0.56 Positive\n",
      "0.05 0.15000000000000002 Positive\n",
      "0.17142857142857146 0.34285714285714286 Positive\n",
      "0.8 0.75 Positive\n",
      "0.6 0.8 Positive\n"
     ]
    }
   ],
   "source": [
    "texts = AZ_reviews['Review_text']\n",
    "for row in texts:\n",
    "    pol = TextBlob(row).sentiment.polarity\n",
    "    sub = TextBlob(row).sentiment.subjectivity\n",
    "    print(pol,sub,\n",
    "          \"Positive\" if pol > 0 \n",
    "          else \"Neutral\" if pol == 0 \n",
    "          else \"Negative\")"
   ]
  },
  {
   "cell_type": "markdown",
   "id": "4b310131",
   "metadata": {},
   "source": [
    "# Sentiment Analysis 3: vaderSentiment"
   ]
  },
  {
   "cell_type": "markdown",
   "id": "9462802c",
   "metadata": {},
   "source": [
    "install vaderSentiment\n",
    "\n",
    "https://anaconda.org/conda-forge/vadersentiment"
   ]
  },
  {
   "cell_type": "code",
   "execution_count": 18,
   "id": "0bdf0f2b",
   "metadata": {},
   "outputs": [],
   "source": [
    "#if you have issues to install vaderSentiment at anaconda prompt\n",
    "#try this: nltk.download('vader_lexicon')\n",
    "from vaderSentiment.vaderSentiment import SentimentIntensityAnalyzer\n",
    "\n",
    "#note: depending on how you installed (e.g., using source code download versus pip install), you may need to import like this:\n",
    "#from vaderSentiment import SentimentIntensityAnalyzer"
   ]
  },
  {
   "cell_type": "code",
   "execution_count": 19,
   "id": "9a4ff541",
   "metadata": {},
   "outputs": [],
   "source": [
    "analyzer = SentimentIntensityAnalyzer()"
   ]
  },
  {
   "cell_type": "code",
   "execution_count": 22,
   "id": "5f6466af",
   "metadata": {},
   "outputs": [
    {
     "name": "stdout",
     "output_type": "stream",
     "text": [
      "0.8762 Positive\n",
      "0.5719 Positive\n",
      "-0.1531 Negative\n",
      "-0.1154 Negative\n",
      "0.3167 Positive\n",
      "0.0 Neutral\n",
      "-0.1027 Negative\n",
      "0.0 Neutral\n",
      "0.2732 Positive\n",
      "0.0 Neutral\n",
      "0.7579 Positive\n",
      "0.9042 Positive\n",
      "0.2732 Positive\n",
      "0.0 Neutral\n",
      "0.8834 Positive\n",
      "0.2732 Positive\n",
      "0.0 Neutral\n",
      "0.743 Positive\n",
      "0.6249 Positive\n",
      "0.4215 Positive\n"
     ]
    }
   ],
   "source": [
    "for row in texts:\n",
    "    vsPol = analyzer.polarity_scores(row)\n",
    "    #print(\"{:-<65} {}\".format(row, str(vsPol)))\n",
    "    Pol_result = vsPol['compound']\n",
    "    print(Pol_result,\"Positive\" if Pol_result >= 0.05 else \"Neutral\" if -0.05 < Pol_result < 0.05 \n",
    "          else \"Negative\")"
   ]
  },
  {
   "cell_type": "markdown",
   "id": "26739f41",
   "metadata": {},
   "source": [
    "1. positive sentiment: compound score >= 0.05\n",
    "2. neutral sentiment: (compound score > -0.05) and (compound score < 0.05)\n",
    "3. negative sentiment: compound score <= -0.05"
   ]
  },
  {
   "cell_type": "markdown",
   "id": "fd41c37a",
   "metadata": {},
   "source": [
    "**Supplementary materials**\n",
    "\n",
    "vaderSentiment resources and documentation\n",
    "https://github.com/cjhutto/vaderSentiment\n",
    "\n",
    "10 Best Python Libraries for Sentiment Analysis\n",
    "https://www.unite.ai/10-best-python-libraries-for-sentiment-analysis/"
   ]
  },
  {
   "cell_type": "markdown",
   "id": "5363cb54",
   "metadata": {},
   "source": [
    "1. Pattern\n",
    "2. VADER\n",
    "3. TextBlob\n",
    "4. spaCy\n",
    "5. CoreNLP\n",
    "6. scikit-learn\n",
    "7. Polyglot\n",
    "8. PyTorch"
   ]
  },
  {
   "cell_type": "markdown",
   "id": "19eaf656",
   "metadata": {},
   "source": [
    "# Actions:"
   ]
  },
  {
   "cell_type": "markdown",
   "id": "3f5136dc",
   "metadata": {},
   "source": [
    "### Action 1 - Required: Scrape customer reviews of a product from Amazon"
   ]
  },
  {
   "cell_type": "code",
   "execution_count": null,
   "id": "029a883b",
   "metadata": {},
   "outputs": [],
   "source": []
  },
  {
   "cell_type": "code",
   "execution_count": null,
   "id": "8eef46fd",
   "metadata": {},
   "outputs": [],
   "source": []
  },
  {
   "cell_type": "markdown",
   "id": "f8ac6c2d",
   "metadata": {},
   "source": [
    "### Action 2 - Required: Describe your dataframe"
   ]
  },
  {
   "cell_type": "code",
   "execution_count": null,
   "id": "7fa4cc21",
   "metadata": {},
   "outputs": [],
   "source": []
  },
  {
   "cell_type": "code",
   "execution_count": null,
   "id": "78e374fa",
   "metadata": {},
   "outputs": [],
   "source": []
  },
  {
   "cell_type": "markdown",
   "id": "fe2757e2",
   "metadata": {},
   "source": [
    "### Action 3 - Required: Conduct sentiment analysis (using the three methods in this lab) to all the reviews and compare the results (short explainations)"
   ]
  },
  {
   "cell_type": "code",
   "execution_count": null,
   "id": "dfeeae71",
   "metadata": {},
   "outputs": [],
   "source": []
  },
  {
   "cell_type": "code",
   "execution_count": null,
   "id": "6ee2c235",
   "metadata": {},
   "outputs": [],
   "source": []
  },
  {
   "cell_type": "markdown",
   "id": "8d481549",
   "metadata": {},
   "source": [
    "### Action 4 - Optional: Try to count the number of positive reviews, neutral reviews, and negative reviews for each method (using len())"
   ]
  },
  {
   "cell_type": "code",
   "execution_count": null,
   "id": "1ce4e326",
   "metadata": {},
   "outputs": [],
   "source": []
  }
 ],
 "metadata": {
  "kernelspec": {
   "display_name": "Python 3 (ipykernel)",
   "language": "python",
   "name": "python3"
  },
  "language_info": {
   "codemirror_mode": {
    "name": "ipython",
    "version": 3
   },
   "file_extension": ".py",
   "mimetype": "text/x-python",
   "name": "python",
   "nbconvert_exporter": "python",
   "pygments_lexer": "ipython3",
   "version": "3.9.12"
  }
 },
 "nbformat": 4,
 "nbformat_minor": 5
}
