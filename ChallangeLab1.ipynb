{
 "cells": [
  {
   "cell_type": "code",
   "execution_count": 2,
   "metadata": {},
   "outputs": [
    {
     "data": {
      "image/png": "[encoded data removed]",
      "text/plain": [
       "<Figure size 432x288 with 1 Axes>"
      ]
     },
     "metadata": {
      "needs_background": "light"
     },
     "output_type": "display_data"
    }
   ],
   "source": [
    "import matplotlib.pyplot as plt  \n",
    "# frequencies  \n",
    "ages = [2,5,70,40,30,21,45,50,45,43,40,44,60,7,13,57,18,90,77,32,21,20,40,55,90,94,4,33,31,26,23]  \n",
    "# setting the ranges and no. of intervals  \n",
    "range = (0, 100)  \n",
    "bins = 10   \n",
    "# plotting a histogram  \n",
    "plt.hist(ages, bins, range, color = 'orange',  \n",
    "        histtype = 'bar', rwidth = 0.8)  \n",
    "# x-axis label  \n",
    "plt.xlabel('age')  \n",
    "# frequency label  \n",
    "plt.ylabel('No. of people')  \n",
    "# plot title  \n",
    "plt.title('Age Histogram Example') \n",
    "# function to show the plot  \n",
    "plt.show()  "
   ]
  },
  {
   "cell_type": "code",
   "execution_count": null,
   "metadata": {},
   "outputs": [],
   "source": []
  },
  {
   "cell_type": "code",
   "execution_count": null,
   "metadata": {},
   "outputs": [],
   "source": []
  },
  {
   "cell_type": "code",
   "execution_count": null,
   "metadata": {},
   "outputs": [],
   "source": []
  }
 ],
 "metadata": {
  "kernelspec": {
   "display_name": "Python 3",
   "language": "python",
   "name": "python3"
  },
  "language_info": {
   "codemirror_mode": {
    "name": "ipython",
    "version": 3
   },
   "file_extension": ".py",
   "mimetype": "text/x-python",
   "name": "python",
   "nbconvert_exporter": "python",
   "pygments_lexer": "ipython3",
   "version": "3.8.0"
  }
 },
 "nbformat": 4,
 "nbformat_minor": 4
}
