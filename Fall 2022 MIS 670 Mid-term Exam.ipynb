{
 "cells": [
  {
   "cell_type": "markdown",
   "metadata": {},
   "source": [
    "### NOTICE:\n",
    "\n",
    "1. Mechanical correctness of your python codes: your codes must be accurate\n",
    "2. Clarity of jupyter notebook and organization of outputs:\n",
    "\n",
    "- The python codes you write must be accompanied with \"comments\" using # or markdown\n",
    "- All outputs must be visible in your jupyter notebook. If necessary, explain the outputs using markdown.\n",
    "- **Do not print out an entire output. Print the first five rows**\n",
    "\n",
    "3. Formatting: **\"This exam must contain K-State Honor Code \"On my honor, as a student, I have neither given nor received unauthorized aid on this academic work.\"** \n",
    "\n",
    " - A **grade of XF** can result from a breach of academic honesty. The F indicates failure in the course; the X indicates the reason is an Honor Pledge violation.” (http://www.k-state.edu/provost/resources/teaching/course.htm (Links to an external site.)) (See Academic Dishonesty below). \n",
    "- **Unauthorized collaboration** (including but not limited to collaborating with other students on the midterm exam is forbidden) \n",
    "- **Unauthorized aid** (including but not limited to sharing your codes with other students, receiving codes from another)\n",
    "- **Plagiarism** (including but not limited to copying words of another (on the Internet or articles) as your own)(please credit the references/sources)"
   ]
  },
  {
   "cell_type": "markdown",
   "metadata": {},
   "source": [
    "**K-State Honor Code**\n",
    "\n",
    "> \"This exam must contain K-State Honor Code \"On my honor, as a student, I have neither given nor received unauthorized aid on this academic work.\"\n",
    "\n",
    "\n",
    "\n",
    "**Your Name:** \n",
    "\n",
    "> Yuto Wada"
   ]
  },
  {
   "cell_type": "markdown",
   "metadata": {},
   "source": [
    "# Instructions of Fall 2022 MIS 670 Mid-term Exam\n",
    "\n",
    "1. This is an open book open notes exam. You can use all the course materials as references. You also can Google the examples (please credit the sources), **but collaborations are forbidden and each of you should deliver different results**. \n",
    "2. The exam is due on **10/13/2022 at 11:59 PM CT** (in total 7 days [10/06 - 10/13]).\n",
    "3. No make-up exams and late submission is not allowed.\n",
    "4. **Total points for this exam are 75.**"
   ]
  },
  {
   "cell_type": "markdown",
   "metadata": {},
   "source": [
    "## Section 1: Word Cloud Map for customer reviews on Tripadvisor (33 points)\n",
    "\n",
    "### Part 1: Data collection (15 points)\n",
    "\n",
    "1. Developer a scraper for Tripadvisor https://www.tripadvisor.com/\n",
    "\n",
    "2. Collect the customer reviews from one interest (for example: customer reviews for a restaurant in Manhattan, Kansas).\n",
    "\n",
    "    2.1 You need to give this project a title, formatting is as the following.\n",
    "    \n",
    "    `Word Cloud - Customer Review - Restaurant/Hotel/Tourist attraction name - Location` \n",
    "      \n",
    "      <span style=\"color:red\">(**Notice:** each of you should pick a different project, meaning that identical data will be considered plagiarism.)</span>.\n",
    "     \n",
    "    2.2 Collect at least 100 customer reviews. \n",
    "    \n",
    "    (select some popular places, must meet the requirements for 100 rows).\n",
    "    \n",
    "    2.3 Your data must contain `Cutomer name`,`Post date`,`Review texts`.\n",
    "    \n",
    "    2.4 Save your data in to Pandas dataframe and print the first five rows (using .head()).\n",
    "    \n",
    "    2.5 Display the data information (using .info())."
   ]
  },
  {
   "cell_type": "code",
   "execution_count": null,
   "metadata": {},
   "outputs": [],
   "source": []
  },
  {
   "cell_type": "code",
   "execution_count": null,
   "metadata": {},
   "outputs": [],
   "source": []
  },
  {
   "cell_type": "code",
   "execution_count": null,
   "metadata": {},
   "outputs": [],
   "source": []
  },
  {
   "cell_type": "code",
   "execution_count": null,
   "metadata": {},
   "outputs": [],
   "source": []
  },
  {
   "cell_type": "code",
   "execution_count": null,
   "metadata": {},
   "outputs": [],
   "source": []
  },
  {
   "cell_type": "code",
   "execution_count": null,
   "metadata": {},
   "outputs": [],
   "source": []
  },
  {
   "cell_type": "markdown",
   "metadata": {},
   "source": [
    "### Part 2: Data cleaning (8 points)"
   ]
  },
  {
   "cell_type": "markdown",
   "metadata": {},
   "source": [
    "1. Display the 55th row in your dataframe."
   ]
  },
  {
   "cell_type": "code",
   "execution_count": null,
   "metadata": {},
   "outputs": [],
   "source": []
  },
  {
   "cell_type": "markdown",
   "metadata": {},
   "source": [
    "2. Display the first 5 rows of the [\"Customer name\"] column only."
   ]
  },
  {
   "cell_type": "code",
   "execution_count": null,
   "metadata": {},
   "outputs": [],
   "source": []
  },
  {
   "cell_type": "markdown",
   "metadata": {},
   "source": [
    "3. What is the data type of the [\"Post date\"] column?"
   ]
  },
  {
   "cell_type": "code",
   "execution_count": null,
   "metadata": {},
   "outputs": [],
   "source": []
  },
  {
   "cell_type": "markdown",
   "metadata": {},
   "source": [
    "4. Remove useless symbols from the [\"Review texts\"]."
   ]
  },
  {
   "cell_type": "code",
   "execution_count": null,
   "metadata": {},
   "outputs": [],
   "source": []
  },
  {
   "cell_type": "markdown",
   "metadata": {},
   "source": [
    "5. Lower the cases of the [\"Review texts\"]."
   ]
  },
  {
   "cell_type": "code",
   "execution_count": null,
   "metadata": {},
   "outputs": [],
   "source": []
  },
  {
   "cell_type": "markdown",
   "metadata": {},
   "source": [
    "6. Tokenize the [\"Review texts\"]."
   ]
  },
  {
   "cell_type": "code",
   "execution_count": null,
   "metadata": {},
   "outputs": [],
   "source": []
  },
  {
   "cell_type": "markdown",
   "metadata": {},
   "source": [
    "7. Remove the stopwords from [\"Review texts\"]"
   ]
  },
  {
   "cell_type": "code",
   "execution_count": null,
   "metadata": {},
   "outputs": [],
   "source": []
  },
  {
   "cell_type": "markdown",
   "metadata": {},
   "source": [
    "8. Display the top 10 words in [\"Review texts\"] based on the Word Frequency results"
   ]
  },
  {
   "cell_type": "code",
   "execution_count": null,
   "metadata": {},
   "outputs": [],
   "source": []
  },
  {
   "cell_type": "markdown",
   "metadata": {},
   "source": [
    "### Part 3: Data visualization (Word Cloud) (10 points)\n",
    "\n",
    "1. Create a word cloud map for the [\"Review texts\"]"
   ]
  },
  {
   "cell_type": "code",
   "execution_count": null,
   "metadata": {},
   "outputs": [],
   "source": []
  },
  {
   "cell_type": "code",
   "execution_count": null,
   "metadata": {},
   "outputs": [],
   "source": []
  },
  {
   "cell_type": "markdown",
   "metadata": {},
   "source": [
    "## Section 2: Data Wrangling with Pandas (10 points)"
   ]
  },
  {
   "cell_type": "code",
   "execution_count": 2,
   "metadata": {},
   "outputs": [],
   "source": [
    "import pandas as pd"
   ]
  },
  {
   "cell_type": "code",
   "execution_count": 3,
   "metadata": {},
   "outputs": [
    {
     "data": {
      "text/html": [
       "<div>\n",
       "<style scoped>\n",
       "    .dataframe tbody tr th:only-of-type {\n",
       "        vertical-align: middle;\n",
       "    }\n",
       "\n",
       "    .dataframe tbody tr th {\n",
       "        vertical-align: top;\n",
       "    }\n",
       "\n",
       "    .dataframe thead th {\n",
       "        text-align: right;\n",
       "    }\n",
       "</style>\n",
       "<table border=\"1\" class=\"dataframe\">\n",
       "  <thead>\n",
       "    <tr style=\"text-align: right;\">\n",
       "      <th></th>\n",
       "      <th>Name</th>\n",
       "      <th>Team</th>\n",
       "      <th>Number</th>\n",
       "      <th>Position</th>\n",
       "      <th>Age</th>\n",
       "      <th>Height</th>\n",
       "      <th>Weight</th>\n",
       "      <th>College</th>\n",
       "      <th>Salary</th>\n",
       "    </tr>\n",
       "  </thead>\n",
       "  <tbody>\n",
       "    <tr>\n",
       "      <th>0</th>\n",
       "      <td>Avery Bradley</td>\n",
       "      <td>Boston Celtics</td>\n",
       "      <td>0.0</td>\n",
       "      <td>PG</td>\n",
       "      <td>25.0</td>\n",
       "      <td>6-2</td>\n",
       "      <td>180.0</td>\n",
       "      <td>Texas</td>\n",
       "      <td>7730337.0</td>\n",
       "    </tr>\n",
       "    <tr>\n",
       "      <th>1</th>\n",
       "      <td>Jae Crowder</td>\n",
       "      <td>Boston Celtics</td>\n",
       "      <td>99.0</td>\n",
       "      <td>SF</td>\n",
       "      <td>25.0</td>\n",
       "      <td>6-6</td>\n",
       "      <td>235.0</td>\n",
       "      <td>Marquette</td>\n",
       "      <td>6796117.0</td>\n",
       "    </tr>\n",
       "    <tr>\n",
       "      <th>2</th>\n",
       "      <td>John Holland</td>\n",
       "      <td>Boston Celtics</td>\n",
       "      <td>30.0</td>\n",
       "      <td>SG</td>\n",
       "      <td>27.0</td>\n",
       "      <td>6-5</td>\n",
       "      <td>205.0</td>\n",
       "      <td>Boston University</td>\n",
       "      <td>NaN</td>\n",
       "    </tr>\n",
       "    <tr>\n",
       "      <th>3</th>\n",
       "      <td>R.J. Hunter</td>\n",
       "      <td>Boston Celtics</td>\n",
       "      <td>28.0</td>\n",
       "      <td>SG</td>\n",
       "      <td>22.0</td>\n",
       "      <td>6-5</td>\n",
       "      <td>185.0</td>\n",
       "      <td>Georgia State</td>\n",
       "      <td>1148640.0</td>\n",
       "    </tr>\n",
       "    <tr>\n",
       "      <th>4</th>\n",
       "      <td>Jonas Jerebko</td>\n",
       "      <td>Boston Celtics</td>\n",
       "      <td>8.0</td>\n",
       "      <td>PF</td>\n",
       "      <td>29.0</td>\n",
       "      <td>6-10</td>\n",
       "      <td>231.0</td>\n",
       "      <td>NaN</td>\n",
       "      <td>5000000.0</td>\n",
       "    </tr>\n",
       "  </tbody>\n",
       "</table>\n",
       "</div>"
      ],
      "text/plain": [
       "            Name            Team  Number Position   Age Height  Weight  \\\n",
       "0  Avery Bradley  Boston Celtics     0.0       PG  25.0    6-2   180.0   \n",
       "1    Jae Crowder  Boston Celtics    99.0       SF  25.0    6-6   235.0   \n",
       "2   John Holland  Boston Celtics    30.0       SG  27.0    6-5   205.0   \n",
       "3    R.J. Hunter  Boston Celtics    28.0       SG  22.0    6-5   185.0   \n",
       "4  Jonas Jerebko  Boston Celtics     8.0       PF  29.0   6-10   231.0   \n",
       "\n",
       "             College     Salary  \n",
       "0              Texas  7730337.0  \n",
       "1          Marquette  6796117.0  \n",
       "2  Boston University        NaN  \n",
       "3      Georgia State  1148640.0  \n",
       "4                NaN  5000000.0  "
      ]
     },
     "execution_count": 3,
     "metadata": {},
     "output_type": "execute_result"
    }
   ],
   "source": [
    "#use the nba dataset\n",
    "#load nba dataset\n",
    "nba = pd.read_csv(\"https://cdncontribute.geeksforgeeks.org/wp-content/uploads/nba.csv\")\n",
    "\n",
    "nba.head()"
   ]
  },
  {
   "cell_type": "markdown",
   "metadata": {},
   "source": [
    "1. Display the descriptive statistics of the nba."
   ]
  },
  {
   "cell_type": "code",
   "execution_count": 4,
   "metadata": {},
   "outputs": [
    {
     "data": {
      "text/html": [
       "<div>\n",
       "<style scoped>\n",
       "    .dataframe tbody tr th:only-of-type {\n",
       "        vertical-align: middle;\n",
       "    }\n",
       "\n",
       "    .dataframe tbody tr th {\n",
       "        vertical-align: top;\n",
       "    }\n",
       "\n",
       "    .dataframe thead th {\n",
       "        text-align: right;\n",
       "    }\n",
       "</style>\n",
       "<table border=\"1\" class=\"dataframe\">\n",
       "  <thead>\n",
       "    <tr style=\"text-align: right;\">\n",
       "      <th></th>\n",
       "      <th>Name</th>\n",
       "      <th>Team</th>\n",
       "      <th>Number</th>\n",
       "      <th>Position</th>\n",
       "      <th>Age</th>\n",
       "      <th>Height</th>\n",
       "      <th>Weight</th>\n",
       "      <th>College</th>\n",
       "      <th>Salary</th>\n",
       "    </tr>\n",
       "  </thead>\n",
       "  <tbody>\n",
       "    <tr>\n",
       "      <th>0</th>\n",
       "      <td>Avery Bradley</td>\n",
       "      <td>Boston Celtics</td>\n",
       "      <td>0.0</td>\n",
       "      <td>PG</td>\n",
       "      <td>25.0</td>\n",
       "      <td>6-2</td>\n",
       "      <td>180.0</td>\n",
       "      <td>Texas</td>\n",
       "      <td>7730337.0</td>\n",
       "    </tr>\n",
       "    <tr>\n",
       "      <th>1</th>\n",
       "      <td>Jae Crowder</td>\n",
       "      <td>Boston Celtics</td>\n",
       "      <td>99.0</td>\n",
       "      <td>SF</td>\n",
       "      <td>25.0</td>\n",
       "      <td>6-6</td>\n",
       "      <td>235.0</td>\n",
       "      <td>Marquette</td>\n",
       "      <td>6796117.0</td>\n",
       "    </tr>\n",
       "    <tr>\n",
       "      <th>2</th>\n",
       "      <td>John Holland</td>\n",
       "      <td>Boston Celtics</td>\n",
       "      <td>30.0</td>\n",
       "      <td>SG</td>\n",
       "      <td>27.0</td>\n",
       "      <td>6-5</td>\n",
       "      <td>205.0</td>\n",
       "      <td>Boston University</td>\n",
       "      <td>NaN</td>\n",
       "    </tr>\n",
       "    <tr>\n",
       "      <th>3</th>\n",
       "      <td>R.J. Hunter</td>\n",
       "      <td>Boston Celtics</td>\n",
       "      <td>28.0</td>\n",
       "      <td>SG</td>\n",
       "      <td>22.0</td>\n",
       "      <td>6-5</td>\n",
       "      <td>185.0</td>\n",
       "      <td>Georgia State</td>\n",
       "      <td>1148640.0</td>\n",
       "    </tr>\n",
       "    <tr>\n",
       "      <th>4</th>\n",
       "      <td>Jonas Jerebko</td>\n",
       "      <td>Boston Celtics</td>\n",
       "      <td>8.0</td>\n",
       "      <td>PF</td>\n",
       "      <td>29.0</td>\n",
       "      <td>6-10</td>\n",
       "      <td>231.0</td>\n",
       "      <td>NaN</td>\n",
       "      <td>5000000.0</td>\n",
       "    </tr>\n",
       "  </tbody>\n",
       "</table>\n",
       "</div>"
      ],
      "text/plain": [
       "            Name            Team  Number Position   Age Height  Weight  \\\n",
       "0  Avery Bradley  Boston Celtics     0.0       PG  25.0    6-2   180.0   \n",
       "1    Jae Crowder  Boston Celtics    99.0       SF  25.0    6-6   235.0   \n",
       "2   John Holland  Boston Celtics    30.0       SG  27.0    6-5   205.0   \n",
       "3    R.J. Hunter  Boston Celtics    28.0       SG  22.0    6-5   185.0   \n",
       "4  Jonas Jerebko  Boston Celtics     8.0       PF  29.0   6-10   231.0   \n",
       "\n",
       "             College     Salary  \n",
       "0              Texas  7730337.0  \n",
       "1          Marquette  6796117.0  \n",
       "2  Boston University        NaN  \n",
       "3      Georgia State  1148640.0  \n",
       "4                NaN  5000000.0  "
      ]
     },
     "execution_count": 4,
     "metadata": {},
     "output_type": "execute_result"
    }
   ],
   "source": [
    "nba.describe(include='all')\n",
    "nba.head()"
   ]
  },
  {
   "cell_type": "markdown",
   "metadata": {},
   "source": [
    "2. Drop the rows of column [\"Salary\"] is null and replace the original nba dataframe. \n",
    "\n",
    "(Notice: do not drop all the null values in the data. Only drop the null values in column [\"Salary\"])"
   ]
  },
  {
   "cell_type": "code",
   "execution_count": 5,
   "metadata": {},
   "outputs": [
    {
     "data": {
      "text/html": [
       "<div>\n",
       "<style scoped>\n",
       "    .dataframe tbody tr th:only-of-type {\n",
       "        vertical-align: middle;\n",
       "    }\n",
       "\n",
       "    .dataframe tbody tr th {\n",
       "        vertical-align: top;\n",
       "    }\n",
       "\n",
       "    .dataframe thead th {\n",
       "        text-align: right;\n",
       "    }\n",
       "</style>\n",
       "<table border=\"1\" class=\"dataframe\">\n",
       "  <thead>\n",
       "    <tr style=\"text-align: right;\">\n",
       "      <th></th>\n",
       "      <th>Name</th>\n",
       "      <th>Team</th>\n",
       "      <th>Number</th>\n",
       "      <th>Position</th>\n",
       "      <th>Age</th>\n",
       "      <th>Height</th>\n",
       "      <th>Weight</th>\n",
       "      <th>College</th>\n",
       "      <th>Salary</th>\n",
       "    </tr>\n",
       "  </thead>\n",
       "  <tbody>\n",
       "    <tr>\n",
       "      <th>0</th>\n",
       "      <td>Avery Bradley</td>\n",
       "      <td>Boston Celtics</td>\n",
       "      <td>0.0</td>\n",
       "      <td>PG</td>\n",
       "      <td>25.0</td>\n",
       "      <td>6-2</td>\n",
       "      <td>180.0</td>\n",
       "      <td>Texas</td>\n",
       "      <td>7730337.0</td>\n",
       "    </tr>\n",
       "    <tr>\n",
       "      <th>1</th>\n",
       "      <td>Jae Crowder</td>\n",
       "      <td>Boston Celtics</td>\n",
       "      <td>99.0</td>\n",
       "      <td>SF</td>\n",
       "      <td>25.0</td>\n",
       "      <td>6-6</td>\n",
       "      <td>235.0</td>\n",
       "      <td>Marquette</td>\n",
       "      <td>6796117.0</td>\n",
       "    </tr>\n",
       "    <tr>\n",
       "      <th>3</th>\n",
       "      <td>R.J. Hunter</td>\n",
       "      <td>Boston Celtics</td>\n",
       "      <td>28.0</td>\n",
       "      <td>SG</td>\n",
       "      <td>22.0</td>\n",
       "      <td>6-5</td>\n",
       "      <td>185.0</td>\n",
       "      <td>Georgia State</td>\n",
       "      <td>1148640.0</td>\n",
       "    </tr>\n",
       "    <tr>\n",
       "      <th>6</th>\n",
       "      <td>Jordan Mickey</td>\n",
       "      <td>Boston Celtics</td>\n",
       "      <td>55.0</td>\n",
       "      <td>PF</td>\n",
       "      <td>21.0</td>\n",
       "      <td>6-8</td>\n",
       "      <td>235.0</td>\n",
       "      <td>LSU</td>\n",
       "      <td>1170960.0</td>\n",
       "    </tr>\n",
       "    <tr>\n",
       "      <th>7</th>\n",
       "      <td>Kelly Olynyk</td>\n",
       "      <td>Boston Celtics</td>\n",
       "      <td>41.0</td>\n",
       "      <td>C</td>\n",
       "      <td>25.0</td>\n",
       "      <td>7-0</td>\n",
       "      <td>238.0</td>\n",
       "      <td>Gonzaga</td>\n",
       "      <td>2165160.0</td>\n",
       "    </tr>\n",
       "  </tbody>\n",
       "</table>\n",
       "</div>"
      ],
      "text/plain": [
       "            Name            Team  Number Position   Age Height  Weight  \\\n",
       "0  Avery Bradley  Boston Celtics     0.0       PG  25.0    6-2   180.0   \n",
       "1    Jae Crowder  Boston Celtics    99.0       SF  25.0    6-6   235.0   \n",
       "3    R.J. Hunter  Boston Celtics    28.0       SG  22.0    6-5   185.0   \n",
       "6  Jordan Mickey  Boston Celtics    55.0       PF  21.0    6-8   235.0   \n",
       "7   Kelly Olynyk  Boston Celtics    41.0        C  25.0    7-0   238.0   \n",
       "\n",
       "         College     Salary  \n",
       "0          Texas  7730337.0  \n",
       "1      Marquette  6796117.0  \n",
       "3  Georgia State  1148640.0  \n",
       "6            LSU  1170960.0  \n",
       "7        Gonzaga  2165160.0  "
      ]
     },
     "execution_count": 5,
     "metadata": {},
     "output_type": "execute_result"
    }
   ],
   "source": [
    "#remove rows that contains null values (NaN)\n",
    "new_nba = nba.dropna()\n",
    "new_nba.head()"
   ]
  },
  {
   "cell_type": "markdown",
   "metadata": {},
   "source": [
    "3. Rename the column [\"Name\"] to [\"Full name\"]"
   ]
  },
  {
   "cell_type": "code",
   "execution_count": 6,
   "metadata": {},
   "outputs": [
    {
     "name": "stderr",
     "output_type": "stream",
     "text": [
      "/Library/Frameworks/Python.framework/Versions/3.8/lib/python3.8/site-packages/pandas/core/frame.py:5039: SettingWithCopyWarning: \n",
      "A value is trying to be set on a copy of a slice from a DataFrame\n",
      "\n",
      "See the caveats in the documentation: https://pandas.pydata.org/pandas-docs/stable/user_guide/indexing.html#returning-a-view-versus-a-copy\n",
      "  return super().rename(\n"
     ]
    },
    {
     "data": {
      "text/html": [
       "<div>\n",
       "<style scoped>\n",
       "    .dataframe tbody tr th:only-of-type {\n",
       "        vertical-align: middle;\n",
       "    }\n",
       "\n",
       "    .dataframe tbody tr th {\n",
       "        vertical-align: top;\n",
       "    }\n",
       "\n",
       "    .dataframe thead th {\n",
       "        text-align: right;\n",
       "    }\n",
       "</style>\n",
       "<table border=\"1\" class=\"dataframe\">\n",
       "  <thead>\n",
       "    <tr style=\"text-align: right;\">\n",
       "      <th></th>\n",
       "      <th>Full Name</th>\n",
       "      <th>Team</th>\n",
       "      <th>Number</th>\n",
       "      <th>Position</th>\n",
       "      <th>Age</th>\n",
       "      <th>Height</th>\n",
       "      <th>Weight</th>\n",
       "      <th>College</th>\n",
       "      <th>Salary</th>\n",
       "    </tr>\n",
       "  </thead>\n",
       "  <tbody>\n",
       "    <tr>\n",
       "      <th>0</th>\n",
       "      <td>Avery Bradley</td>\n",
       "      <td>Boston Celtics</td>\n",
       "      <td>0.0</td>\n",
       "      <td>PG</td>\n",
       "      <td>25.0</td>\n",
       "      <td>6-2</td>\n",
       "      <td>180.0</td>\n",
       "      <td>Texas</td>\n",
       "      <td>7730337.0</td>\n",
       "    </tr>\n",
       "    <tr>\n",
       "      <th>1</th>\n",
       "      <td>Jae Crowder</td>\n",
       "      <td>Boston Celtics</td>\n",
       "      <td>99.0</td>\n",
       "      <td>SF</td>\n",
       "      <td>25.0</td>\n",
       "      <td>6-6</td>\n",
       "      <td>235.0</td>\n",
       "      <td>Marquette</td>\n",
       "      <td>6796117.0</td>\n",
       "    </tr>\n",
       "    <tr>\n",
       "      <th>3</th>\n",
       "      <td>R.J. Hunter</td>\n",
       "      <td>Boston Celtics</td>\n",
       "      <td>28.0</td>\n",
       "      <td>SG</td>\n",
       "      <td>22.0</td>\n",
       "      <td>6-5</td>\n",
       "      <td>185.0</td>\n",
       "      <td>Georgia State</td>\n",
       "      <td>1148640.0</td>\n",
       "    </tr>\n",
       "    <tr>\n",
       "      <th>6</th>\n",
       "      <td>Jordan Mickey</td>\n",
       "      <td>Boston Celtics</td>\n",
       "      <td>55.0</td>\n",
       "      <td>PF</td>\n",
       "      <td>21.0</td>\n",
       "      <td>6-8</td>\n",
       "      <td>235.0</td>\n",
       "      <td>LSU</td>\n",
       "      <td>1170960.0</td>\n",
       "    </tr>\n",
       "    <tr>\n",
       "      <th>7</th>\n",
       "      <td>Kelly Olynyk</td>\n",
       "      <td>Boston Celtics</td>\n",
       "      <td>41.0</td>\n",
       "      <td>C</td>\n",
       "      <td>25.0</td>\n",
       "      <td>7-0</td>\n",
       "      <td>238.0</td>\n",
       "      <td>Gonzaga</td>\n",
       "      <td>2165160.0</td>\n",
       "    </tr>\n",
       "  </tbody>\n",
       "</table>\n",
       "</div>"
      ],
      "text/plain": [
       "       Full Name            Team  Number Position   Age Height  Weight  \\\n",
       "0  Avery Bradley  Boston Celtics     0.0       PG  25.0    6-2   180.0   \n",
       "1    Jae Crowder  Boston Celtics    99.0       SF  25.0    6-6   235.0   \n",
       "3    R.J. Hunter  Boston Celtics    28.0       SG  22.0    6-5   185.0   \n",
       "6  Jordan Mickey  Boston Celtics    55.0       PF  21.0    6-8   235.0   \n",
       "7   Kelly Olynyk  Boston Celtics    41.0        C  25.0    7-0   238.0   \n",
       "\n",
       "         College     Salary  \n",
       "0          Texas  7730337.0  \n",
       "1      Marquette  6796117.0  \n",
       "3  Georgia State  1148640.0  \n",
       "6            LSU  1170960.0  \n",
       "7        Gonzaga  2165160.0  "
      ]
     },
     "execution_count": 6,
     "metadata": {},
     "output_type": "execute_result"
    }
   ],
   "source": [
    "new_nba.rename(columns={'Name': 'Full Name'}, inplace=True)\n",
    "new_nba.head()"
   ]
  },
  {
   "cell_type": "markdown",
   "metadata": {},
   "source": [
    "4. How many Positions for the players (hint: check the unique values)"
   ]
  },
  {
   "cell_type": "code",
   "execution_count": 7,
   "metadata": {},
   "outputs": [
    {
     "name": "stdout",
     "output_type": "stream",
     "text": [
      "6\n"
     ]
    }
   ],
   "source": [
    "print(len(nba.Position.unique()))"
   ]
  },
  {
   "cell_type": "markdown",
   "metadata": {},
   "source": [
    "5. Replace the Positon with numbers (\"PG\":1, \"SF\":2,\"SG\":3 ... ) then drop the rows with null values in position."
   ]
  },
  {
   "cell_type": "code",
   "execution_count": 8,
   "metadata": {},
   "outputs": [
    {
     "data": {
      "text/html": [
       "<div>\n",
       "<style scoped>\n",
       "    .dataframe tbody tr th:only-of-type {\n",
       "        vertical-align: middle;\n",
       "    }\n",
       "\n",
       "    .dataframe tbody tr th {\n",
       "        vertical-align: top;\n",
       "    }\n",
       "\n",
       "    .dataframe thead th {\n",
       "        text-align: right;\n",
       "    }\n",
       "</style>\n",
       "<table border=\"1\" class=\"dataframe\">\n",
       "  <thead>\n",
       "    <tr style=\"text-align: right;\">\n",
       "      <th></th>\n",
       "      <th>Full Name</th>\n",
       "      <th>Team</th>\n",
       "      <th>Number</th>\n",
       "      <th>Position</th>\n",
       "      <th>Age</th>\n",
       "      <th>Height</th>\n",
       "      <th>Weight</th>\n",
       "      <th>College</th>\n",
       "      <th>Salary</th>\n",
       "    </tr>\n",
       "  </thead>\n",
       "  <tbody>\n",
       "    <tr>\n",
       "      <th>0</th>\n",
       "      <td>Avery Bradley</td>\n",
       "      <td>Boston Celtics</td>\n",
       "      <td>0.0</td>\n",
       "      <td>1</td>\n",
       "      <td>25.0</td>\n",
       "      <td>6-2</td>\n",
       "      <td>180.0</td>\n",
       "      <td>Texas</td>\n",
       "      <td>7730337.0</td>\n",
       "    </tr>\n",
       "    <tr>\n",
       "      <th>1</th>\n",
       "      <td>Jae Crowder</td>\n",
       "      <td>Boston Celtics</td>\n",
       "      <td>99.0</td>\n",
       "      <td>3</td>\n",
       "      <td>25.0</td>\n",
       "      <td>6-6</td>\n",
       "      <td>235.0</td>\n",
       "      <td>Marquette</td>\n",
       "      <td>6796117.0</td>\n",
       "    </tr>\n",
       "    <tr>\n",
       "      <th>3</th>\n",
       "      <td>R.J. Hunter</td>\n",
       "      <td>Boston Celtics</td>\n",
       "      <td>28.0</td>\n",
       "      <td>2</td>\n",
       "      <td>22.0</td>\n",
       "      <td>6-5</td>\n",
       "      <td>185.0</td>\n",
       "      <td>Georgia State</td>\n",
       "      <td>1148640.0</td>\n",
       "    </tr>\n",
       "    <tr>\n",
       "      <th>6</th>\n",
       "      <td>Jordan Mickey</td>\n",
       "      <td>Boston Celtics</td>\n",
       "      <td>55.0</td>\n",
       "      <td>4</td>\n",
       "      <td>21.0</td>\n",
       "      <td>6-8</td>\n",
       "      <td>235.0</td>\n",
       "      <td>LSU</td>\n",
       "      <td>1170960.0</td>\n",
       "    </tr>\n",
       "    <tr>\n",
       "      <th>7</th>\n",
       "      <td>Kelly Olynyk</td>\n",
       "      <td>Boston Celtics</td>\n",
       "      <td>41.0</td>\n",
       "      <td>5</td>\n",
       "      <td>25.0</td>\n",
       "      <td>7-0</td>\n",
       "      <td>238.0</td>\n",
       "      <td>Gonzaga</td>\n",
       "      <td>2165160.0</td>\n",
       "    </tr>\n",
       "  </tbody>\n",
       "</table>\n",
       "</div>"
      ],
      "text/plain": [
       "       Full Name            Team  Number  Position   Age Height  Weight  \\\n",
       "0  Avery Bradley  Boston Celtics     0.0         1  25.0    6-2   180.0   \n",
       "1    Jae Crowder  Boston Celtics    99.0         3  25.0    6-6   235.0   \n",
       "3    R.J. Hunter  Boston Celtics    28.0         2  22.0    6-5   185.0   \n",
       "6  Jordan Mickey  Boston Celtics    55.0         4  21.0    6-8   235.0   \n",
       "7   Kelly Olynyk  Boston Celtics    41.0         5  25.0    7-0   238.0   \n",
       "\n",
       "         College     Salary  \n",
       "0          Texas  7730337.0  \n",
       "1      Marquette  6796117.0  \n",
       "3  Georgia State  1148640.0  \n",
       "6            LSU  1170960.0  \n",
       "7        Gonzaga  2165160.0  "
      ]
     },
     "execution_count": 8,
     "metadata": {},
     "output_type": "execute_result"
    }
   ],
   "source": [
    "positions = {\"PG\": 1, 'SG': 2, 'SF': 3, 'PF': 4, 'C': 5} #Replacing positions with numbers\n",
    "replace_nba = new_nba.replace({'Position': positions})\n",
    "replace_nba.head() #print out dataframe"
   ]
  },
  {
   "cell_type": "markdown",
   "metadata": {},
   "source": [
    "6. Display all the players from position \"SG\""
   ]
  },
  {
   "cell_type": "code",
   "execution_count": 9,
   "metadata": {},
   "outputs": [
    {
     "data": {
      "text/html": [
       "<div>\n",
       "<style scoped>\n",
       "    .dataframe tbody tr th:only-of-type {\n",
       "        vertical-align: middle;\n",
       "    }\n",
       "\n",
       "    .dataframe tbody tr th {\n",
       "        vertical-align: top;\n",
       "    }\n",
       "\n",
       "    .dataframe thead th {\n",
       "        text-align: right;\n",
       "    }\n",
       "</style>\n",
       "<table border=\"1\" class=\"dataframe\">\n",
       "  <thead>\n",
       "    <tr style=\"text-align: right;\">\n",
       "      <th></th>\n",
       "      <th>Full Name</th>\n",
       "      <th>Team</th>\n",
       "      <th>Number</th>\n",
       "      <th>Position</th>\n",
       "      <th>Age</th>\n",
       "      <th>Height</th>\n",
       "      <th>Weight</th>\n",
       "      <th>College</th>\n",
       "      <th>Salary</th>\n",
       "    </tr>\n",
       "  </thead>\n",
       "  <tbody>\n",
       "    <tr>\n",
       "      <th>3</th>\n",
       "      <td>R.J. Hunter</td>\n",
       "      <td>Boston Celtics</td>\n",
       "      <td>28.0</td>\n",
       "      <td>2</td>\n",
       "      <td>22.0</td>\n",
       "      <td>6-5</td>\n",
       "      <td>185.0</td>\n",
       "      <td>Georgia State</td>\n",
       "      <td>1148640.0</td>\n",
       "    </tr>\n",
       "    <tr>\n",
       "      <th>12</th>\n",
       "      <td>Evan Turner</td>\n",
       "      <td>Boston Celtics</td>\n",
       "      <td>11.0</td>\n",
       "      <td>2</td>\n",
       "      <td>27.0</td>\n",
       "      <td>6-7</td>\n",
       "      <td>220.0</td>\n",
       "      <td>Ohio State</td>\n",
       "      <td>3425510.0</td>\n",
       "    </tr>\n",
       "    <tr>\n",
       "      <th>13</th>\n",
       "      <td>James Young</td>\n",
       "      <td>Boston Celtics</td>\n",
       "      <td>13.0</td>\n",
       "      <td>2</td>\n",
       "      <td>20.0</td>\n",
       "      <td>6-6</td>\n",
       "      <td>215.0</td>\n",
       "      <td>Kentucky</td>\n",
       "      <td>1749840.0</td>\n",
       "    </tr>\n",
       "    <tr>\n",
       "      <th>16</th>\n",
       "      <td>Markel Brown</td>\n",
       "      <td>Brooklyn Nets</td>\n",
       "      <td>22.0</td>\n",
       "      <td>2</td>\n",
       "      <td>24.0</td>\n",
       "      <td>6-3</td>\n",
       "      <td>190.0</td>\n",
       "      <td>Oklahoma State</td>\n",
       "      <td>845059.0</td>\n",
       "    </tr>\n",
       "    <tr>\n",
       "      <th>17</th>\n",
       "      <td>Wayne Ellington</td>\n",
       "      <td>Brooklyn Nets</td>\n",
       "      <td>21.0</td>\n",
       "      <td>2</td>\n",
       "      <td>28.0</td>\n",
       "      <td>6-4</td>\n",
       "      <td>200.0</td>\n",
       "      <td>North Carolina</td>\n",
       "      <td>1500000.0</td>\n",
       "    </tr>\n",
       "  </tbody>\n",
       "</table>\n",
       "</div>"
      ],
      "text/plain": [
       "          Full Name            Team  Number  Position   Age Height  Weight  \\\n",
       "3       R.J. Hunter  Boston Celtics    28.0         2  22.0    6-5   185.0   \n",
       "12      Evan Turner  Boston Celtics    11.0         2  27.0    6-7   220.0   \n",
       "13      James Young  Boston Celtics    13.0         2  20.0    6-6   215.0   \n",
       "16     Markel Brown   Brooklyn Nets    22.0         2  24.0    6-3   190.0   \n",
       "17  Wayne Ellington   Brooklyn Nets    21.0         2  28.0    6-4   200.0   \n",
       "\n",
       "           College     Salary  \n",
       "3    Georgia State  1148640.0  \n",
       "12      Ohio State  3425510.0  \n",
       "13        Kentucky  1749840.0  \n",
       "16  Oklahoma State   845059.0  \n",
       "17  North Carolina  1500000.0  "
      ]
     },
     "execution_count": 9,
     "metadata": {},
     "output_type": "execute_result"
    }
   ],
   "source": [
    "replace_nba.loc[replace_nba['Position'] == 2].head()"
   ]
  },
  {
   "cell_type": "markdown",
   "metadata": {},
   "source": [
    "7. Add a new column name ['Random'] with random numbers"
   ]
  },
  {
   "cell_type": "code",
   "execution_count": 10,
   "metadata": {},
   "outputs": [
    {
     "data": {
      "text/html": [
       "<div>\n",
       "<style scoped>\n",
       "    .dataframe tbody tr th:only-of-type {\n",
       "        vertical-align: middle;\n",
       "    }\n",
       "\n",
       "    .dataframe tbody tr th {\n",
       "        vertical-align: top;\n",
       "    }\n",
       "\n",
       "    .dataframe thead th {\n",
       "        text-align: right;\n",
       "    }\n",
       "</style>\n",
       "<table border=\"1\" class=\"dataframe\">\n",
       "  <thead>\n",
       "    <tr style=\"text-align: right;\">\n",
       "      <th></th>\n",
       "      <th>Full Name</th>\n",
       "      <th>Team</th>\n",
       "      <th>Number</th>\n",
       "      <th>Position</th>\n",
       "      <th>Age</th>\n",
       "      <th>Height</th>\n",
       "      <th>Weight</th>\n",
       "      <th>College</th>\n",
       "      <th>Salary</th>\n",
       "      <th>Random</th>\n",
       "    </tr>\n",
       "  </thead>\n",
       "  <tbody>\n",
       "    <tr>\n",
       "      <th>0</th>\n",
       "      <td>Avery Bradley</td>\n",
       "      <td>Boston Celtics</td>\n",
       "      <td>0.0</td>\n",
       "      <td>1</td>\n",
       "      <td>25.0</td>\n",
       "      <td>6-2</td>\n",
       "      <td>180.0</td>\n",
       "      <td>Texas</td>\n",
       "      <td>7730337.0</td>\n",
       "      <td>392</td>\n",
       "    </tr>\n",
       "    <tr>\n",
       "      <th>1</th>\n",
       "      <td>Jae Crowder</td>\n",
       "      <td>Boston Celtics</td>\n",
       "      <td>99.0</td>\n",
       "      <td>3</td>\n",
       "      <td>25.0</td>\n",
       "      <td>6-6</td>\n",
       "      <td>235.0</td>\n",
       "      <td>Marquette</td>\n",
       "      <td>6796117.0</td>\n",
       "      <td>29</td>\n",
       "    </tr>\n",
       "    <tr>\n",
       "      <th>3</th>\n",
       "      <td>R.J. Hunter</td>\n",
       "      <td>Boston Celtics</td>\n",
       "      <td>28.0</td>\n",
       "      <td>2</td>\n",
       "      <td>22.0</td>\n",
       "      <td>6-5</td>\n",
       "      <td>185.0</td>\n",
       "      <td>Georgia State</td>\n",
       "      <td>1148640.0</td>\n",
       "      <td>156</td>\n",
       "    </tr>\n",
       "    <tr>\n",
       "      <th>6</th>\n",
       "      <td>Jordan Mickey</td>\n",
       "      <td>Boston Celtics</td>\n",
       "      <td>55.0</td>\n",
       "      <td>4</td>\n",
       "      <td>21.0</td>\n",
       "      <td>6-8</td>\n",
       "      <td>235.0</td>\n",
       "      <td>LSU</td>\n",
       "      <td>1170960.0</td>\n",
       "      <td>81</td>\n",
       "    </tr>\n",
       "    <tr>\n",
       "      <th>7</th>\n",
       "      <td>Kelly Olynyk</td>\n",
       "      <td>Boston Celtics</td>\n",
       "      <td>41.0</td>\n",
       "      <td>5</td>\n",
       "      <td>25.0</td>\n",
       "      <td>7-0</td>\n",
       "      <td>238.0</td>\n",
       "      <td>Gonzaga</td>\n",
       "      <td>2165160.0</td>\n",
       "      <td>124</td>\n",
       "    </tr>\n",
       "  </tbody>\n",
       "</table>\n",
       "</div>"
      ],
      "text/plain": [
       "       Full Name            Team  Number  Position   Age Height  Weight  \\\n",
       "0  Avery Bradley  Boston Celtics     0.0         1  25.0    6-2   180.0   \n",
       "1    Jae Crowder  Boston Celtics    99.0         3  25.0    6-6   235.0   \n",
       "3    R.J. Hunter  Boston Celtics    28.0         2  22.0    6-5   185.0   \n",
       "6  Jordan Mickey  Boston Celtics    55.0         4  21.0    6-8   235.0   \n",
       "7   Kelly Olynyk  Boston Celtics    41.0         5  25.0    7-0   238.0   \n",
       "\n",
       "         College     Salary  Random  \n",
       "0          Texas  7730337.0     392  \n",
       "1      Marquette  6796117.0      29  \n",
       "3  Georgia State  1148640.0     156  \n",
       "6            LSU  1170960.0      81  \n",
       "7        Gonzaga  2165160.0     124  "
      ]
     },
     "execution_count": 10,
     "metadata": {},
     "output_type": "execute_result"
    }
   ],
   "source": [
    "import random\n",
    "replace_nba['Random'] = [random.randint(1,500)  for i in replace_nba.index]\n",
    "replace_nba.head()"
   ]
  },
  {
   "cell_type": "markdown",
   "metadata": {},
   "source": [
    "8. How much is the average salary for all the players?\n",
    "\n",
    "(Round the results to 3 decimals) "
   ]
  },
  {
   "cell_type": "code",
   "execution_count": 11,
   "metadata": {},
   "outputs": [
    {
     "data": {
      "text/plain": [
       "4842684.105"
      ]
     },
     "execution_count": 11,
     "metadata": {},
     "output_type": "execute_result"
    }
   ],
   "source": [
    "# Round to specific decimal \n",
    "round((nba[\"Salary\"].mean()),3)"
   ]
  },
  {
   "cell_type": "markdown",
   "metadata": {},
   "source": [
    "9. Who is/are the oldest player(s)?"
   ]
  },
  {
   "cell_type": "code",
   "execution_count": 12,
   "metadata": {},
   "outputs": [
    {
     "data": {
      "text/html": [
       "<div>\n",
       "<style scoped>\n",
       "    .dataframe tbody tr th:only-of-type {\n",
       "        vertical-align: middle;\n",
       "    }\n",
       "\n",
       "    .dataframe tbody tr th {\n",
       "        vertical-align: top;\n",
       "    }\n",
       "\n",
       "    .dataframe thead th {\n",
       "        text-align: right;\n",
       "    }\n",
       "</style>\n",
       "<table border=\"1\" class=\"dataframe\">\n",
       "  <thead>\n",
       "    <tr style=\"text-align: right;\">\n",
       "      <th></th>\n",
       "      <th>Full Name</th>\n",
       "      <th>Team</th>\n",
       "      <th>Number</th>\n",
       "      <th>Position</th>\n",
       "      <th>Age</th>\n",
       "      <th>Height</th>\n",
       "      <th>Weight</th>\n",
       "      <th>College</th>\n",
       "      <th>Salary</th>\n",
       "      <th>Random</th>\n",
       "    </tr>\n",
       "  </thead>\n",
       "  <tbody>\n",
       "    <tr>\n",
       "      <th>298</th>\n",
       "      <td>Tim Duncan</td>\n",
       "      <td>San Antonio Spurs</td>\n",
       "      <td>21.0</td>\n",
       "      <td>5</td>\n",
       "      <td>40.0</td>\n",
       "      <td>6-11</td>\n",
       "      <td>250.0</td>\n",
       "      <td>Wake Forest</td>\n",
       "      <td>5250000.0</td>\n",
       "      <td>177</td>\n",
       "    </tr>\n",
       "    <tr>\n",
       "      <th>304</th>\n",
       "      <td>Andre Miller</td>\n",
       "      <td>San Antonio Spurs</td>\n",
       "      <td>24.0</td>\n",
       "      <td>1</td>\n",
       "      <td>40.0</td>\n",
       "      <td>6-3</td>\n",
       "      <td>200.0</td>\n",
       "      <td>Utah</td>\n",
       "      <td>250750.0</td>\n",
       "      <td>95</td>\n",
       "    </tr>\n",
       "  </tbody>\n",
       "</table>\n",
       "</div>"
      ],
      "text/plain": [
       "        Full Name               Team  Number  Position   Age Height  Weight  \\\n",
       "298    Tim Duncan  San Antonio Spurs    21.0         5  40.0   6-11   250.0   \n",
       "304  Andre Miller  San Antonio Spurs    24.0         1  40.0    6-3   200.0   \n",
       "\n",
       "         College     Salary  Random  \n",
       "298  Wake Forest  5250000.0     177  \n",
       "304         Utah   250750.0      95  "
      ]
     },
     "execution_count": 12,
     "metadata": {},
     "output_type": "execute_result"
    }
   ],
   "source": [
    "new_nba = replace_nba.sort_values(by = 'Age', ascending=False)\n",
    "new_nba.head(2)"
   ]
  },
  {
   "cell_type": "markdown",
   "metadata": {},
   "source": [
    "10. Who is/are the youngest player(s)?"
   ]
  },
  {
   "cell_type": "code",
   "execution_count": 13,
   "metadata": {},
   "outputs": [
    {
     "data": {
      "text/html": [
       "<div>\n",
       "<style scoped>\n",
       "    .dataframe tbody tr th:only-of-type {\n",
       "        vertical-align: middle;\n",
       "    }\n",
       "\n",
       "    .dataframe tbody tr th {\n",
       "        vertical-align: top;\n",
       "    }\n",
       "\n",
       "    .dataframe thead th {\n",
       "        text-align: right;\n",
       "    }\n",
       "</style>\n",
       "<table border=\"1\" class=\"dataframe\">\n",
       "  <thead>\n",
       "    <tr style=\"text-align: right;\">\n",
       "      <th></th>\n",
       "      <th>Full Name</th>\n",
       "      <th>Team</th>\n",
       "      <th>Number</th>\n",
       "      <th>Position</th>\n",
       "      <th>Age</th>\n",
       "      <th>Height</th>\n",
       "      <th>Weight</th>\n",
       "      <th>College</th>\n",
       "      <th>Salary</th>\n",
       "      <th>Random</th>\n",
       "    </tr>\n",
       "  </thead>\n",
       "  <tbody>\n",
       "    <tr>\n",
       "      <th>226</th>\n",
       "      <td>Rashad Vaughn</td>\n",
       "      <td>Milwaukee Bucks</td>\n",
       "      <td>20.0</td>\n",
       "      <td>2</td>\n",
       "      <td>19.0</td>\n",
       "      <td>6-6</td>\n",
       "      <td>202.0</td>\n",
       "      <td>UNLV</td>\n",
       "      <td>1733040.0</td>\n",
       "      <td>45</td>\n",
       "    </tr>\n",
       "    <tr>\n",
       "      <th>122</th>\n",
       "      <td>Devin Booker</td>\n",
       "      <td>Phoenix Suns</td>\n",
       "      <td>1.0</td>\n",
       "      <td>2</td>\n",
       "      <td>19.0</td>\n",
       "      <td>6-6</td>\n",
       "      <td>206.0</td>\n",
       "      <td>Kentucky</td>\n",
       "      <td>2127840.0</td>\n",
       "      <td>206</td>\n",
       "    </tr>\n",
       "  </tbody>\n",
       "</table>\n",
       "</div>"
      ],
      "text/plain": [
       "         Full Name             Team  Number  Position   Age Height  Weight  \\\n",
       "226  Rashad Vaughn  Milwaukee Bucks    20.0         2  19.0    6-6   202.0   \n",
       "122   Devin Booker     Phoenix Suns     1.0         2  19.0    6-6   206.0   \n",
       "\n",
       "      College     Salary  Random  \n",
       "226      UNLV  1733040.0      45  \n",
       "122  Kentucky  2127840.0     206  "
      ]
     },
     "execution_count": 13,
     "metadata": {},
     "output_type": "execute_result"
    }
   ],
   "source": [
    "new_nba = replace_nba.sort_values(by = 'Age', ascending=True)\n",
    "new_nba.head(2)"
   ]
  },
  {
   "cell_type": "markdown",
   "metadata": {},
   "source": [
    "## Section 3: Sentiment Analysis for Social Media (32 points)\n",
    "\n",
    "### Part 1: Data Collection (10 points)\n",
    "\n",
    "1. Insert your Twitter API keys and scraper the twitter data"
   ]
  },
  {
   "cell_type": "code",
   "execution_count": 1,
   "metadata": {},
   "outputs": [],
   "source": [
    "import tweepy\n",
    "import pandas as pd\n",
    "\n",
    "# put your credential API information here (do not include your API in the submission)\n",
    "# API Consumer Key and Secret from Twitter\n",
    "api_key = \"WsEUv6afCiNthkSLWHIHn8yUM\"\n",
    "api_secret = \"jtg2kd1CFL1txDao6NouIUO7xZzCXSM4yiP4WyuiiqQ50qTtjf\"\n",
    "\n",
    "access_token = \"1564294883636088838-jhUHzc9xuIH9WMu6wCPahsWM4LiwaG\"\n",
    "access_token_secret = \"vM6EmVcxk3L94D1bVQz19MliIUcSW5uA9660IZk1FQken\"\n",
    "\n",
    "# authentication\n",
    "auth = tweepy.OAuthHandler(api_key, api_secret)\n",
    "auth.set_access_token(access_token, access_token_secret)\n",
    "\n",
    "api = tweepy.API(auth,wait_on_rate_limit=True)"
   ]
  },
  {
   "cell_type": "markdown",
   "metadata": {},
   "source": [
    "2. Select a keyword that you are interested in then collect **100 tweets**\n",
    "\n",
    "    2.1 Using tweepy.Cursor(api.search_tweets/tweets,q=\" \" ...)\n",
    "    \n",
    "    2.2 Collecting the following information:\n",
    "        post_time\n",
    "        tweet_id\n",
    "        tweet_text\n",
    "        retweet_count\n",
    "        user_name\n",
    "        user_screen_name\n",
    "        user_location\n",
    "        user_followers_count\n",
    "        \n",
    "    2.3 Save your data into a Pandas dataframe then display the first five rows (.head())\n",
    "    \n",
    "    <span style=\"color:red\">(**Notice:** each of you should choose a different search word, meaning that identical data will be considered plagiarism.)</span>."
   ]
  },
  {
   "cell_type": "code",
   "execution_count": 16,
   "metadata": {},
   "outputs": [
    {
     "data": {
      "text/html": [
       "<div>\n",
       "<style scoped>\n",
       "    .dataframe tbody tr th:only-of-type {\n",
       "        vertical-align: middle;\n",
       "    }\n",
       "\n",
       "    .dataframe tbody tr th {\n",
       "        vertical-align: top;\n",
       "    }\n",
       "\n",
       "    .dataframe thead th {\n",
       "        text-align: right;\n",
       "    }\n",
       "</style>\n",
       "<table border=\"1\" class=\"dataframe\">\n",
       "  <thead>\n",
       "    <tr style=\"text-align: right;\">\n",
       "      <th></th>\n",
       "      <th>Post Time</th>\n",
       "      <th>Tweet ID</th>\n",
       "      <th>TweetText</th>\n",
       "      <th>RetweetCount</th>\n",
       "      <th>UserName</th>\n",
       "      <th>UserScreenName</th>\n",
       "      <th>User Location</th>\n",
       "      <th>UserFollowerCounts</th>\n",
       "    </tr>\n",
       "  </thead>\n",
       "  <tbody>\n",
       "    <tr>\n",
       "      <th>0</th>\n",
       "      <td>2022-10-10 23:58:44+00:00</td>\n",
       "      <td>1579622492163145730</td>\n",
       "      <td>@sometherapist Friend of mine in her 50s just ...</td>\n",
       "      <td>0</td>\n",
       "      <td>Coddled affluent professional</td>\n",
       "      <td>feelsdesperate</td>\n",
       "      <td>Okay, Oklahoma</td>\n",
       "      <td>8788</td>\n",
       "    </tr>\n",
       "    <tr>\n",
       "      <th>1</th>\n",
       "      <td>2022-10-10 23:56:23+00:00</td>\n",
       "      <td>1579621901089263618</td>\n",
       "      <td>chicago usps reopen mailboxes along the marath...</td>\n",
       "      <td>0</td>\n",
       "      <td>Katt #MCRNJ #MCRNJ2 #MCRRIOT</td>\n",
       "      <td>iridescentKatt</td>\n",
       "      <td>a shithole country</td>\n",
       "      <td>1237</td>\n",
       "    </tr>\n",
       "    <tr>\n",
       "      <th>2</th>\n",
       "      <td>2022-10-10 23:56:08+00:00</td>\n",
       "      <td>1579621837319049216</td>\n",
       "      <td>RT @LaCasaNorte: Stop by! We're cheering La Ca...</td>\n",
       "      <td>1</td>\n",
       "      <td>Anne Bowhay</td>\n",
       "      <td>AnneB19</td>\n",
       "      <td>Oak Park, Illinois</td>\n",
       "      <td>326</td>\n",
       "    </tr>\n",
       "    <tr>\n",
       "      <th>3</th>\n",
       "      <td>2022-10-10 23:54:46+00:00</td>\n",
       "      <td>1579621492635361280</td>\n",
       "      <td>Of local runners from Batavia, participant Mic...</td>\n",
       "      <td>0</td>\n",
       "      <td>Batavia Patch</td>\n",
       "      <td>BataviaPatch</td>\n",
       "      <td>Batavia, IL</td>\n",
       "      <td>2778</td>\n",
       "    </tr>\n",
       "    <tr>\n",
       "      <th>4</th>\n",
       "      <td>2022-10-10 23:54:02+00:00</td>\n",
       "      <td>1579621308987748354</td>\n",
       "      <td>RT @barrybutler9: This morning as Chicago Mara...</td>\n",
       "      <td>391</td>\n",
       "      <td>Paula - Issa's young cute yet disapproving auntie</td>\n",
       "      <td>grooveparlortv</td>\n",
       "      <td>Chicago LA Paris</td>\n",
       "      <td>1862</td>\n",
       "    </tr>\n",
       "  </tbody>\n",
       "</table>\n",
       "</div>"
      ],
      "text/plain": [
       "                  Post Time             Tweet ID  \\\n",
       "0 2022-10-10 23:58:44+00:00  1579622492163145730   \n",
       "1 2022-10-10 23:56:23+00:00  1579621901089263618   \n",
       "2 2022-10-10 23:56:08+00:00  1579621837319049216   \n",
       "3 2022-10-10 23:54:46+00:00  1579621492635361280   \n",
       "4 2022-10-10 23:54:02+00:00  1579621308987748354   \n",
       "\n",
       "                                           TweetText  RetweetCount  \\\n",
       "0  @sometherapist Friend of mine in her 50s just ...             0   \n",
       "1  chicago usps reopen mailboxes along the marath...             0   \n",
       "2  RT @LaCasaNorte: Stop by! We're cheering La Ca...             1   \n",
       "3  Of local runners from Batavia, participant Mic...             0   \n",
       "4  RT @barrybutler9: This morning as Chicago Mara...           391   \n",
       "\n",
       "                                            UserName  UserScreenName  \\\n",
       "0                      Coddled affluent professional  feelsdesperate   \n",
       "1                       Katt #MCRNJ #MCRNJ2 #MCRRIOT  iridescentKatt   \n",
       "2                                        Anne Bowhay         AnneB19   \n",
       "3                                      Batavia Patch    BataviaPatch   \n",
       "4  Paula - Issa's young cute yet disapproving auntie  grooveparlortv   \n",
       "\n",
       "        User Location  UserFollowerCounts  \n",
       "0     Okay, Oklahoma                 8788  \n",
       "1  a shithole country                1237  \n",
       "2  Oak Park, Illinois                 326  \n",
       "3         Batavia, IL                2778  \n",
       "4    Chicago LA Paris                1862  "
      ]
     },
     "execution_count": 16,
     "metadata": {},
     "output_type": "execute_result"
    }
   ],
   "source": [
    "tweets = [] #initialize an empty list\n",
    "\n",
    "for status in tweepy.Cursor(api.search_tweets,q=\"Chicago Marathon\",\n",
    "                            until='2022-10-11', #Twitter will automatically sample the last 7 days of data, and only allows you to get 7-day data\n",
    "                            result_type='recent',\n",
    "                            include_entities=True,\n",
    "                            tweet_mode='extended', #otherwise it only captures 140 characters\n",
    "                            lang=\"en\").items(100):\n",
    "    \n",
    "    post_time = status.created_at # tweets posting time\n",
    "    tweet_id = status.id_str # gets the tweets thread ID\n",
    "    tweet_text= status.full_text # gets the tweets texts\n",
    "    retweet_count = status.retweet_count\n",
    "    user_name = status.user.name\n",
    "    user_screen_name = status.user.screen_name\n",
    "    user_location = status.user.location\n",
    "    user_followers_count = status.user.followers_count\n",
    "    \n",
    "    tweets.append((post_time, tweet_id, tweet_text, retweet_count, user_name, user_screen_name, user_location, user_followers_count))\n",
    "\n",
    "headers = ['Post Time', 'Tweet ID', 'TweetText', 'RetweetCount', 'UserName', 'UserScreenName', 'User Location', 'UserFollowerCounts']\n",
    "\n",
    "tweet_marathon = pd.DataFrame(tweets,columns = headers)\n",
    "tweet_marathon.head()"
   ]
  },
  {
   "cell_type": "code",
   "execution_count": null,
   "metadata": {},
   "outputs": [],
   "source": []
  },
  {
   "cell_type": "code",
   "execution_count": null,
   "metadata": {},
   "outputs": [],
   "source": []
  },
  {
   "cell_type": "markdown",
   "metadata": {},
   "source": [
    "### Part 2: Data Cleaning (10 points)\n",
    "\n",
    "1. How many users (use Screen Name) in the dataframe (count the unique values)?"
   ]
  },
  {
   "cell_type": "code",
   "execution_count": 17,
   "metadata": {},
   "outputs": [
    {
     "name": "stdout",
     "output_type": "stream",
     "text": [
      "93\n"
     ]
    }
   ],
   "source": [
    "print(len(tweet_marathon.UserScreenName.unique()))"
   ]
  },
  {
   "cell_type": "markdown",
   "metadata": {},
   "source": [
    "2. Who tweets the most?"
   ]
  },
  {
   "cell_type": "code",
   "execution_count": 18,
   "metadata": {},
   "outputs": [
    {
     "data": {
      "text/plain": [
       "'ygindia1'"
      ]
     },
     "execution_count": 18,
     "metadata": {},
     "output_type": "execute_result"
    }
   ],
   "source": [
    "tweet_marathon['UserScreenName'].value_counts().idxmax()"
   ]
  },
  {
   "cell_type": "markdown",
   "metadata": {},
   "source": [
    "3. Display this person's full information."
   ]
  },
  {
   "cell_type": "code",
   "execution_count": 19,
   "metadata": {},
   "outputs": [
    {
     "data": {
      "text/html": [
       "<div>\n",
       "<style scoped>\n",
       "    .dataframe tbody tr th:only-of-type {\n",
       "        vertical-align: middle;\n",
       "    }\n",
       "\n",
       "    .dataframe tbody tr th {\n",
       "        vertical-align: top;\n",
       "    }\n",
       "\n",
       "    .dataframe thead th {\n",
       "        text-align: right;\n",
       "    }\n",
       "</style>\n",
       "<table border=\"1\" class=\"dataframe\">\n",
       "  <thead>\n",
       "    <tr style=\"text-align: right;\">\n",
       "      <th></th>\n",
       "      <th>Post Time</th>\n",
       "      <th>Tweet ID</th>\n",
       "      <th>TweetText</th>\n",
       "      <th>RetweetCount</th>\n",
       "      <th>UserName</th>\n",
       "      <th>UserScreenName</th>\n",
       "      <th>User Location</th>\n",
       "      <th>UserFollowerCounts</th>\n",
       "    </tr>\n",
       "  </thead>\n",
       "  <tbody>\n",
       "  </tbody>\n",
       "</table>\n",
       "</div>"
      ],
      "text/plain": [
       "Empty DataFrame\n",
       "Columns: [Post Time, Tweet ID, TweetText, RetweetCount, UserName, UserScreenName, User Location, UserFollowerCounts]\n",
       "Index: []"
      ]
     },
     "execution_count": 19,
     "metadata": {},
     "output_type": "execute_result"
    }
   ],
   "source": [
    "tweet_marathon.loc[tweet_marathon['UserScreenName'] == 'KeCheza']"
   ]
  },
  {
   "cell_type": "markdown",
   "metadata": {},
   "source": [
    "4. Who is the most popular user in the dataset? (has the most number of followers)"
   ]
  },
  {
   "cell_type": "code",
   "execution_count": 20,
   "metadata": {},
   "outputs": [
    {
     "data": {
      "text/plain": [
       "'WBEZ'"
      ]
     },
     "execution_count": 20,
     "metadata": {},
     "output_type": "execute_result"
    }
   ],
   "source": [
    "tweet_marathon.loc[tweet_marathon[\"UserFollowerCounts\"].idxmax()].UserScreenName"
   ]
  },
  {
   "cell_type": "markdown",
   "metadata": {},
   "source": [
    "5. Display this person's full information."
   ]
  },
  {
   "cell_type": "code",
   "execution_count": 21,
   "metadata": {},
   "outputs": [
    {
     "data": {
      "text/plain": [
       "Post Time                                     2022-10-10 23:00:14+00:00\n",
       "Tweet ID                                            1579607768646168580\n",
       "TweetText             The Chicago Marathon took place this past week...\n",
       "RetweetCount                                                          2\n",
       "UserName                                                           WBEZ\n",
       "UserScreenName                                                     WBEZ\n",
       "User Location                                                   Chicago\n",
       "UserFollowerCounts                                               145946\n",
       "Name: 53, dtype: object"
      ]
     },
     "execution_count": 21,
     "metadata": {},
     "output_type": "execute_result"
    }
   ],
   "source": [
    "tweet_marathon.loc[tweet_marathon[\"UserFollowerCounts\"].idxmax()]"
   ]
  },
  {
   "cell_type": "markdown",
   "metadata": {},
   "source": [
    "6. Remove the emojis from the tweets texts."
   ]
  },
  {
   "cell_type": "code",
   "execution_count": 22,
   "metadata": {},
   "outputs": [
    {
     "data": {
      "text/html": [
       "<div>\n",
       "<style scoped>\n",
       "    .dataframe tbody tr th:only-of-type {\n",
       "        vertical-align: middle;\n",
       "    }\n",
       "\n",
       "    .dataframe tbody tr th {\n",
       "        vertical-align: top;\n",
       "    }\n",
       "\n",
       "    .dataframe thead th {\n",
       "        text-align: right;\n",
       "    }\n",
       "</style>\n",
       "<table border=\"1\" class=\"dataframe\">\n",
       "  <thead>\n",
       "    <tr style=\"text-align: right;\">\n",
       "      <th></th>\n",
       "      <th>Post Time</th>\n",
       "      <th>Tweet ID</th>\n",
       "      <th>TweetText</th>\n",
       "      <th>RetweetCount</th>\n",
       "      <th>UserName</th>\n",
       "      <th>UserScreenName</th>\n",
       "      <th>User Location</th>\n",
       "      <th>UserFollowerCounts</th>\n",
       "    </tr>\n",
       "  </thead>\n",
       "  <tbody>\n",
       "    <tr>\n",
       "      <th>0</th>\n",
       "      <td>2022-10-10 23:58:44+00:00</td>\n",
       "      <td>1579622492163145730</td>\n",
       "      <td>@sometherapist Friend of mine in her 50s just ...</td>\n",
       "      <td>0</td>\n",
       "      <td>Coddled affluent professional</td>\n",
       "      <td>feelsdesperate</td>\n",
       "      <td>Okay, Oklahoma</td>\n",
       "      <td>8788</td>\n",
       "    </tr>\n",
       "    <tr>\n",
       "      <th>1</th>\n",
       "      <td>2022-10-10 23:56:23+00:00</td>\n",
       "      <td>1579621901089263618</td>\n",
       "      <td>chicago usps reopen mailboxes along the marath...</td>\n",
       "      <td>0</td>\n",
       "      <td>Katt #MCRNJ #MCRNJ2 #MCRRIOT</td>\n",
       "      <td>iridescentKatt</td>\n",
       "      <td>a shithole country</td>\n",
       "      <td>1237</td>\n",
       "    </tr>\n",
       "    <tr>\n",
       "      <th>2</th>\n",
       "      <td>2022-10-10 23:56:08+00:00</td>\n",
       "      <td>1579621837319049216</td>\n",
       "      <td>RT @LaCasaNorte: Stop by! We're cheering La Ca...</td>\n",
       "      <td>1</td>\n",
       "      <td>Anne Bowhay</td>\n",
       "      <td>AnneB19</td>\n",
       "      <td>Oak Park, Illinois</td>\n",
       "      <td>326</td>\n",
       "    </tr>\n",
       "    <tr>\n",
       "      <th>3</th>\n",
       "      <td>2022-10-10 23:54:46+00:00</td>\n",
       "      <td>1579621492635361280</td>\n",
       "      <td>Of local runners from Batavia, participant Mic...</td>\n",
       "      <td>0</td>\n",
       "      <td>Batavia Patch</td>\n",
       "      <td>BataviaPatch</td>\n",
       "      <td>Batavia, IL</td>\n",
       "      <td>2778</td>\n",
       "    </tr>\n",
       "    <tr>\n",
       "      <th>4</th>\n",
       "      <td>2022-10-10 23:54:02+00:00</td>\n",
       "      <td>1579621308987748354</td>\n",
       "      <td>RT @barrybutler9: This morning as Chicago Mara...</td>\n",
       "      <td>391</td>\n",
       "      <td>Paula - Issa's young cute yet disapproving auntie</td>\n",
       "      <td>grooveparlortv</td>\n",
       "      <td>Chicago LA Paris</td>\n",
       "      <td>1862</td>\n",
       "    </tr>\n",
       "  </tbody>\n",
       "</table>\n",
       "</div>"
      ],
      "text/plain": [
       "                  Post Time             Tweet ID  \\\n",
       "0 2022-10-10 23:58:44+00:00  1579622492163145730   \n",
       "1 2022-10-10 23:56:23+00:00  1579621901089263618   \n",
       "2 2022-10-10 23:56:08+00:00  1579621837319049216   \n",
       "3 2022-10-10 23:54:46+00:00  1579621492635361280   \n",
       "4 2022-10-10 23:54:02+00:00  1579621308987748354   \n",
       "\n",
       "                                           TweetText  RetweetCount  \\\n",
       "0  @sometherapist Friend of mine in her 50s just ...             0   \n",
       "1  chicago usps reopen mailboxes along the marath...             0   \n",
       "2  RT @LaCasaNorte: Stop by! We're cheering La Ca...             1   \n",
       "3  Of local runners from Batavia, participant Mic...             0   \n",
       "4  RT @barrybutler9: This morning as Chicago Mara...           391   \n",
       "\n",
       "                                            UserName  UserScreenName  \\\n",
       "0                      Coddled affluent professional  feelsdesperate   \n",
       "1                       Katt #MCRNJ #MCRNJ2 #MCRRIOT  iridescentKatt   \n",
       "2                                        Anne Bowhay         AnneB19   \n",
       "3                                      Batavia Patch    BataviaPatch   \n",
       "4  Paula - Issa's young cute yet disapproving auntie  grooveparlortv   \n",
       "\n",
       "        User Location  UserFollowerCounts  \n",
       "0     Okay, Oklahoma                 8788  \n",
       "1  a shithole country                1237  \n",
       "2  Oak Park, Illinois                 326  \n",
       "3         Batavia, IL                2778  \n",
       "4    Chicago LA Paris                1862  "
      ]
     },
     "execution_count": 22,
     "metadata": {},
     "output_type": "execute_result"
    }
   ],
   "source": [
    "tweet_marathon['TweetText'] = tweet_marathon['TweetText'].str.replace(r'[^\\x00-\\x7F]+', '', regex=True)\n",
    "tweet_marathon.head()"
   ]
  },
  {
   "cell_type": "markdown",
   "metadata": {},
   "source": [
    "7. How many retweets (RT @) in the dataset?"
   ]
  },
  {
   "cell_type": "code",
   "execution_count": 23,
   "metadata": {},
   "outputs": [
    {
     "data": {
      "text/plain": [
       "64"
      ]
     },
     "execution_count": 23,
     "metadata": {},
     "output_type": "execute_result"
    }
   ],
   "source": [
    "# View retweets only (tweets contains RT)\n",
    "retweets = tweet_marathon.TweetText.str.contains(\"RT\")\n",
    "len(tweet_marathon[retweets])"
   ]
  },
  {
   "cell_type": "markdown",
   "metadata": {},
   "source": [
    "8. How many original tweets in the dataset?"
   ]
  },
  {
   "cell_type": "code",
   "execution_count": 24,
   "metadata": {},
   "outputs": [
    {
     "name": "stdout",
     "output_type": "stream",
     "text": [
      "36\n"
     ]
    }
   ],
   "source": [
    "# view tweets do not contain RT (original tweets)\n",
    "new_dftweets = tweet_marathon[~tweet_marathon[\"TweetText\"].str.contains(\"RT\")]\n",
    "print(len(new_dftweets))"
   ]
  },
  {
   "cell_type": "markdown",
   "metadata": {},
   "source": [
    "9. Which tweet has been retweeted the most in the dataset? (find the largest number of retweet_count)"
   ]
  },
  {
   "cell_type": "code",
   "execution_count": 25,
   "metadata": {},
   "outputs": [
    {
     "data": {
      "text/html": [
       "<div>\n",
       "<style scoped>\n",
       "    .dataframe tbody tr th:only-of-type {\n",
       "        vertical-align: middle;\n",
       "    }\n",
       "\n",
       "    .dataframe tbody tr th {\n",
       "        vertical-align: top;\n",
       "    }\n",
       "\n",
       "    .dataframe thead th {\n",
       "        text-align: right;\n",
       "    }\n",
       "</style>\n",
       "<table border=\"1\" class=\"dataframe\">\n",
       "  <thead>\n",
       "    <tr style=\"text-align: right;\">\n",
       "      <th></th>\n",
       "      <th>Post Time</th>\n",
       "      <th>Tweet ID</th>\n",
       "      <th>TweetText</th>\n",
       "      <th>RetweetCount</th>\n",
       "      <th>UserName</th>\n",
       "      <th>UserScreenName</th>\n",
       "      <th>User Location</th>\n",
       "      <th>UserFollowerCounts</th>\n",
       "    </tr>\n",
       "  </thead>\n",
       "  <tbody>\n",
       "    <tr>\n",
       "      <th>81</th>\n",
       "      <td>2022-10-10 22:27:21+00:00</td>\n",
       "      <td>1579599491728281601</td>\n",
       "      <td>RT @WilliamsRuto: Benson Kipruto and Ruth Chep...</td>\n",
       "      <td>534</td>\n",
       "      <td>QSTPS 🏳️‍🌈</td>\n",
       "      <td>qstps21</td>\n",
       "      <td>Planet Earth</td>\n",
       "      <td>672</td>\n",
       "    </tr>\n",
       "    <tr>\n",
       "      <th>32</th>\n",
       "      <td>2022-10-10 23:18:16+00:00</td>\n",
       "      <td>1579612306698571776</td>\n",
       "      <td>RT @WilliamsRuto: Benson Kipruto and Ruth Chep...</td>\n",
       "      <td>534</td>\n",
       "      <td>dickson kosgei</td>\n",
       "      <td>dicksonkosgei1</td>\n",
       "      <td></td>\n",
       "      <td>219</td>\n",
       "    </tr>\n",
       "    <tr>\n",
       "      <th>6</th>\n",
       "      <td>2022-10-10 23:52:58+00:00</td>\n",
       "      <td>1579621037771063296</td>\n",
       "      <td>RT @WilliamsRuto: Benson Kipruto and Ruth Chep...</td>\n",
       "      <td>534</td>\n",
       "      <td>Makmende</td>\n",
       "      <td>Makmende_Ke</td>\n",
       "      <td>Nairobi,Kenya</td>\n",
       "      <td>426</td>\n",
       "    </tr>\n",
       "    <tr>\n",
       "      <th>51</th>\n",
       "      <td>2022-10-10 23:01:19+00:00</td>\n",
       "      <td>1579608040747446275</td>\n",
       "      <td>RT @WilliamsRuto: Benson Kipruto and Ruth Chep...</td>\n",
       "      <td>534</td>\n",
       "      <td>Pyromancer</td>\n",
       "      <td>edwin_kibiwot</td>\n",
       "      <td>Mombasa, Kenya</td>\n",
       "      <td>1781</td>\n",
       "    </tr>\n",
       "    <tr>\n",
       "      <th>35</th>\n",
       "      <td>2022-10-10 23:14:04+00:00</td>\n",
       "      <td>1579611251348746241</td>\n",
       "      <td>RT @nytimes: Emily Sisson, 30, came in to the ...</td>\n",
       "      <td>435</td>\n",
       "      <td>Keith Kelly</td>\n",
       "      <td>kelrock1977</td>\n",
       "      <td>Jamaica Plain, MA</td>\n",
       "      <td>1253</td>\n",
       "    </tr>\n",
       "  </tbody>\n",
       "</table>\n",
       "</div>"
      ],
      "text/plain": [
       "                   Post Time             Tweet ID  \\\n",
       "81 2022-10-10 22:27:21+00:00  1579599491728281601   \n",
       "32 2022-10-10 23:18:16+00:00  1579612306698571776   \n",
       "6  2022-10-10 23:52:58+00:00  1579621037771063296   \n",
       "51 2022-10-10 23:01:19+00:00  1579608040747446275   \n",
       "35 2022-10-10 23:14:04+00:00  1579611251348746241   \n",
       "\n",
       "                                            TweetText  RetweetCount  \\\n",
       "81  RT @WilliamsRuto: Benson Kipruto and Ruth Chep...           534   \n",
       "32  RT @WilliamsRuto: Benson Kipruto and Ruth Chep...           534   \n",
       "6   RT @WilliamsRuto: Benson Kipruto and Ruth Chep...           534   \n",
       "51  RT @WilliamsRuto: Benson Kipruto and Ruth Chep...           534   \n",
       "35  RT @nytimes: Emily Sisson, 30, came in to the ...           435   \n",
       "\n",
       "          UserName  UserScreenName      User Location  UserFollowerCounts  \n",
       "81      QSTPS 🏳️‍🌈         qstps21       Planet Earth                 672  \n",
       "32  dickson kosgei  dicksonkosgei1                                    219  \n",
       "6         Makmende     Makmende_Ke      Nairobi,Kenya                 426  \n",
       "51      Pyromancer   edwin_kibiwot     Mombasa, Kenya                1781  \n",
       "35     Keith Kelly     kelrock1977  Jamaica Plain, MA                1253  "
      ]
     },
     "execution_count": 25,
     "metadata": {},
     "output_type": "execute_result"
    }
   ],
   "source": [
    "new_tweet_marathon = tweet_marathon.sort_values(by = 'RetweetCount', ascending=False)\n",
    "new_tweet_marathon.head()"
   ]
  },
  {
   "cell_type": "markdown",
   "metadata": {},
   "source": [
    "10. Filter the hashtags from the tweets text and create a new column [\"Hashtags\"] to save the data"
   ]
  },
  {
   "cell_type": "code",
   "execution_count": 26,
   "metadata": {},
   "outputs": [
    {
     "data": {
      "text/html": [
       "<div>\n",
       "<style scoped>\n",
       "    .dataframe tbody tr th:only-of-type {\n",
       "        vertical-align: middle;\n",
       "    }\n",
       "\n",
       "    .dataframe tbody tr th {\n",
       "        vertical-align: top;\n",
       "    }\n",
       "\n",
       "    .dataframe thead th {\n",
       "        text-align: right;\n",
       "    }\n",
       "</style>\n",
       "<table border=\"1\" class=\"dataframe\">\n",
       "  <thead>\n",
       "    <tr style=\"text-align: right;\">\n",
       "      <th></th>\n",
       "      <th>Post Time</th>\n",
       "      <th>Tweet ID</th>\n",
       "      <th>TweetText</th>\n",
       "      <th>RetweetCount</th>\n",
       "      <th>UserName</th>\n",
       "      <th>UserScreenName</th>\n",
       "      <th>User Location</th>\n",
       "      <th>UserFollowerCounts</th>\n",
       "      <th>hashtags</th>\n",
       "    </tr>\n",
       "  </thead>\n",
       "  <tbody>\n",
       "    <tr>\n",
       "      <th>0</th>\n",
       "      <td>2022-10-10 23:58:44+00:00</td>\n",
       "      <td>1579622492163145730</td>\n",
       "      <td>@sometherapist Friend of mine in her 50s just ...</td>\n",
       "      <td>0</td>\n",
       "      <td>Coddled affluent professional</td>\n",
       "      <td>feelsdesperate</td>\n",
       "      <td>Okay, Oklahoma</td>\n",
       "      <td>8788</td>\n",
       "      <td>[]</td>\n",
       "    </tr>\n",
       "    <tr>\n",
       "      <th>1</th>\n",
       "      <td>2022-10-10 23:56:23+00:00</td>\n",
       "      <td>1579621901089263618</td>\n",
       "      <td>chicago usps reopen mailboxes along the marath...</td>\n",
       "      <td>0</td>\n",
       "      <td>Katt #MCRNJ #MCRNJ2 #MCRRIOT</td>\n",
       "      <td>iridescentKatt</td>\n",
       "      <td>a shithole country</td>\n",
       "      <td>1237</td>\n",
       "      <td>[]</td>\n",
       "    </tr>\n",
       "    <tr>\n",
       "      <th>2</th>\n",
       "      <td>2022-10-10 23:56:08+00:00</td>\n",
       "      <td>1579621837319049216</td>\n",
       "      <td>RT @LaCasaNorte: Stop by! We're cheering La Ca...</td>\n",
       "      <td>1</td>\n",
       "      <td>Anne Bowhay</td>\n",
       "      <td>AnneB19</td>\n",
       "      <td>Oak Park, Illinois</td>\n",
       "      <td>326</td>\n",
       "      <td>[]</td>\n",
       "    </tr>\n",
       "    <tr>\n",
       "      <th>3</th>\n",
       "      <td>2022-10-10 23:54:46+00:00</td>\n",
       "      <td>1579621492635361280</td>\n",
       "      <td>Of local runners from Batavia, participant Mic...</td>\n",
       "      <td>0</td>\n",
       "      <td>Batavia Patch</td>\n",
       "      <td>BataviaPatch</td>\n",
       "      <td>Batavia, IL</td>\n",
       "      <td>2778</td>\n",
       "      <td>[]</td>\n",
       "    </tr>\n",
       "    <tr>\n",
       "      <th>4</th>\n",
       "      <td>2022-10-10 23:54:02+00:00</td>\n",
       "      <td>1579621308987748354</td>\n",
       "      <td>RT @barrybutler9: This morning as Chicago Mara...</td>\n",
       "      <td>391</td>\n",
       "      <td>Paula - Issa's young cute yet disapproving auntie</td>\n",
       "      <td>grooveparlortv</td>\n",
       "      <td>Chicago LA Paris</td>\n",
       "      <td>1862</td>\n",
       "      <td>[chicago, news, ChicagoMarathon]</td>\n",
       "    </tr>\n",
       "  </tbody>\n",
       "</table>\n",
       "</div>"
      ],
      "text/plain": [
       "                  Post Time             Tweet ID  \\\n",
       "0 2022-10-10 23:58:44+00:00  1579622492163145730   \n",
       "1 2022-10-10 23:56:23+00:00  1579621901089263618   \n",
       "2 2022-10-10 23:56:08+00:00  1579621837319049216   \n",
       "3 2022-10-10 23:54:46+00:00  1579621492635361280   \n",
       "4 2022-10-10 23:54:02+00:00  1579621308987748354   \n",
       "\n",
       "                                           TweetText  RetweetCount  \\\n",
       "0  @sometherapist Friend of mine in her 50s just ...             0   \n",
       "1  chicago usps reopen mailboxes along the marath...             0   \n",
       "2  RT @LaCasaNorte: Stop by! We're cheering La Ca...             1   \n",
       "3  Of local runners from Batavia, participant Mic...             0   \n",
       "4  RT @barrybutler9: This morning as Chicago Mara...           391   \n",
       "\n",
       "                                            UserName  UserScreenName  \\\n",
       "0                      Coddled affluent professional  feelsdesperate   \n",
       "1                       Katt #MCRNJ #MCRNJ2 #MCRRIOT  iridescentKatt   \n",
       "2                                        Anne Bowhay         AnneB19   \n",
       "3                                      Batavia Patch    BataviaPatch   \n",
       "4  Paula - Issa's young cute yet disapproving auntie  grooveparlortv   \n",
       "\n",
       "        User Location  UserFollowerCounts                          hashtags  \n",
       "0     Okay, Oklahoma                 8788                                []  \n",
       "1  a shithole country                1237                                []  \n",
       "2  Oak Park, Illinois                 326                                []  \n",
       "3         Batavia, IL                2778                                []  \n",
       "4    Chicago LA Paris                1862  [chicago, news, ChicagoMarathon]  "
      ]
     },
     "execution_count": 26,
     "metadata": {},
     "output_type": "execute_result"
    }
   ],
   "source": [
    "tweet_marathon['hashtags'] = tweet_marathon.TweetText.str.findall(\"(?<=#)\\w+\")\n",
    "tweet_marathon.head()"
   ]
  },
  {
   "cell_type": "markdown",
   "metadata": {},
   "source": [
    "### Part 3: Sentiment Analysis -- Bing Liu Lexicon (12 points)\n",
    "\n",
    "1. Conduct a sentiment analysis using Bing Liu Lexicon method to the tweet texts"
   ]
  },
  {
   "cell_type": "code",
   "execution_count": 27,
   "metadata": {},
   "outputs": [
    {
     "data": {
      "text/html": [
       "<div>\n",
       "<style scoped>\n",
       "    .dataframe tbody tr th:only-of-type {\n",
       "        vertical-align: middle;\n",
       "    }\n",
       "\n",
       "    .dataframe tbody tr th {\n",
       "        vertical-align: top;\n",
       "    }\n",
       "\n",
       "    .dataframe thead th {\n",
       "        text-align: right;\n",
       "    }\n",
       "</style>\n",
       "<table border=\"1\" class=\"dataframe\">\n",
       "  <thead>\n",
       "    <tr style=\"text-align: right;\">\n",
       "      <th></th>\n",
       "      <th>Post Time</th>\n",
       "      <th>Tweet ID</th>\n",
       "      <th>TweetText</th>\n",
       "      <th>RetweetCount</th>\n",
       "      <th>UserName</th>\n",
       "      <th>UserScreenName</th>\n",
       "      <th>User Location</th>\n",
       "      <th>UserFollowerCounts</th>\n",
       "      <th>hashtags</th>\n",
       "    </tr>\n",
       "  </thead>\n",
       "  <tbody>\n",
       "    <tr>\n",
       "      <th>0</th>\n",
       "      <td>2022-10-10 23:58:44+00:00</td>\n",
       "      <td>1579622492163145730</td>\n",
       "      <td>@sometherapist Friend of mine in her 50s just ...</td>\n",
       "      <td>0</td>\n",
       "      <td>Coddled affluent professional</td>\n",
       "      <td>feelsdesperate</td>\n",
       "      <td>Okay, Oklahoma</td>\n",
       "      <td>8788</td>\n",
       "      <td>[]</td>\n",
       "    </tr>\n",
       "    <tr>\n",
       "      <th>1</th>\n",
       "      <td>2022-10-10 23:56:23+00:00</td>\n",
       "      <td>1579621901089263618</td>\n",
       "      <td>chicago usps reopen mailboxes along the marath...</td>\n",
       "      <td>0</td>\n",
       "      <td>Katt #MCRNJ #MCRNJ2 #MCRRIOT</td>\n",
       "      <td>iridescentKatt</td>\n",
       "      <td>a shithole country</td>\n",
       "      <td>1237</td>\n",
       "      <td>[]</td>\n",
       "    </tr>\n",
       "    <tr>\n",
       "      <th>2</th>\n",
       "      <td>2022-10-10 23:56:08+00:00</td>\n",
       "      <td>1579621837319049216</td>\n",
       "      <td>RT @LaCasaNorte: Stop by! We're cheering La Ca...</td>\n",
       "      <td>1</td>\n",
       "      <td>Anne Bowhay</td>\n",
       "      <td>AnneB19</td>\n",
       "      <td>Oak Park, Illinois</td>\n",
       "      <td>326</td>\n",
       "      <td>[]</td>\n",
       "    </tr>\n",
       "    <tr>\n",
       "      <th>3</th>\n",
       "      <td>2022-10-10 23:54:46+00:00</td>\n",
       "      <td>1579621492635361280</td>\n",
       "      <td>Of local runners from Batavia, participant Mic...</td>\n",
       "      <td>0</td>\n",
       "      <td>Batavia Patch</td>\n",
       "      <td>BataviaPatch</td>\n",
       "      <td>Batavia, IL</td>\n",
       "      <td>2778</td>\n",
       "      <td>[]</td>\n",
       "    </tr>\n",
       "    <tr>\n",
       "      <th>4</th>\n",
       "      <td>2022-10-10 23:54:02+00:00</td>\n",
       "      <td>1579621308987748354</td>\n",
       "      <td>RT @barrybutler9: This morning as Chicago Mara...</td>\n",
       "      <td>391</td>\n",
       "      <td>Paula - Issa's young cute yet disapproving auntie</td>\n",
       "      <td>grooveparlortv</td>\n",
       "      <td>Chicago LA Paris</td>\n",
       "      <td>1862</td>\n",
       "      <td>[chicago, news, ChicagoMarathon]</td>\n",
       "    </tr>\n",
       "  </tbody>\n",
       "</table>\n",
       "</div>"
      ],
      "text/plain": [
       "                  Post Time             Tweet ID  \\\n",
       "0 2022-10-10 23:58:44+00:00  1579622492163145730   \n",
       "1 2022-10-10 23:56:23+00:00  1579621901089263618   \n",
       "2 2022-10-10 23:56:08+00:00  1579621837319049216   \n",
       "3 2022-10-10 23:54:46+00:00  1579621492635361280   \n",
       "4 2022-10-10 23:54:02+00:00  1579621308987748354   \n",
       "\n",
       "                                           TweetText  RetweetCount  \\\n",
       "0  @sometherapist Friend of mine in her 50s just ...             0   \n",
       "1  chicago usps reopen mailboxes along the marath...             0   \n",
       "2  RT @LaCasaNorte: Stop by! We're cheering La Ca...             1   \n",
       "3  Of local runners from Batavia, participant Mic...             0   \n",
       "4  RT @barrybutler9: This morning as Chicago Mara...           391   \n",
       "\n",
       "                                            UserName  UserScreenName  \\\n",
       "0                      Coddled affluent professional  feelsdesperate   \n",
       "1                       Katt #MCRNJ #MCRNJ2 #MCRRIOT  iridescentKatt   \n",
       "2                                        Anne Bowhay         AnneB19   \n",
       "3                                      Batavia Patch    BataviaPatch   \n",
       "4  Paula - Issa's young cute yet disapproving auntie  grooveparlortv   \n",
       "\n",
       "        User Location  UserFollowerCounts                          hashtags  \n",
       "0     Okay, Oklahoma                 8788                                []  \n",
       "1  a shithole country                1237                                []  \n",
       "2  Oak Park, Illinois                 326                                []  \n",
       "3         Batavia, IL                2778                                []  \n",
       "4    Chicago LA Paris                1862  [chicago, news, ChicagoMarathon]  "
      ]
     },
     "execution_count": 27,
     "metadata": {},
     "output_type": "execute_result"
    }
   ],
   "source": [
    "tweet_marathon['TweetText'] = tweet_marathon['TweetText'].map(lambda x: x.lstrip('+-').rstrip('^a-zA-Z0-9'))\n",
    "tweet_marathon.head()"
   ]
  },
  {
   "cell_type": "code",
   "execution_count": 33,
   "metadata": {},
   "outputs": [
    {
     "name": "stderr",
     "output_type": "stream",
     "text": [
      "/var/folders/1j/79l9x7_16cldqkzdldfx37vh0000gn/T/ipykernel_17127/604676243.py:2: FutureWarning: The default value of regex will change from True to False in a future version.\n",
      "  tweet_marathon[\"TweetText\"] = tweet_marathon[\"TweetText\"].str.replace(r'https?://[^\\s<>\"]+|www\\.[^\\s<>\"]+', \"\")\n",
      "/var/folders/1j/79l9x7_16cldqkzdldfx37vh0000gn/T/ipykernel_17127/604676243.py:3: FutureWarning: The default value of regex will change from True to False in a future version.\n",
      "  tweet_marathon['TweetText'] = tweet_marathon[\"TweetText\"].str.replace(r'[^a-zA-Z0-9]+', ' ')\n"
     ]
    }
   ],
   "source": [
    "#clean up the tweet\n",
    "tweet_marathon[\"TweetText\"] = tweet_marathon[\"TweetText\"].str.replace(r'https?://[^\\s<>\"]+|www\\.[^\\s<>\"]+', \"\")\n",
    "tweet_marathon['TweetText'] = tweet_marathon[\"TweetText\"].str.replace(r'[^a-zA-Z0-9]+', ' ')\n",
    "tweet_marathon['TweetText'] = tweet_marathon[\"TweetText\"].str.replace('@#', '')\n",
    "tweet_marathon['TweetText'] = tweet_marathon[\"TweetText\"].str.replace('\\n', '')\n"
   ]
  },
  {
   "cell_type": "code",
   "execution_count": 34,
   "metadata": {},
   "outputs": [],
   "source": [
    "#read in the file\n",
    "import re\n",
    "positive_words = open('Bing_liu_positive.txt', \"r\").read().splitlines()\n",
    "negative_words = open('Bing_liu_negative.txt', \"r\").read().splitlines()\n",
    "list_tweet = tweet_marathon['TweetText'].to_list()\n",
    "\n",
    "new_texts = []\n",
    "new_documents = []\n",
    "remove = ['br', 's']\n",
    "flat_review = [''.join(ele) for ele in list_tweet]\n",
    "documents = [re.sub(\"[^a-zA-Z]+\", \" \", document) for document in flat_review]\n",
    "\n",
    "for review in documents:\n",
    "    x = review.split()\n",
    "    new_documents.append(\" \".join(a if a not in remove else '' for a in x))\n",
    "\n",
    "texts = [[word for word in document.lower().split() ] for document in documents]"
   ]
  },
  {
   "cell_type": "code",
   "execution_count": 35,
   "metadata": {},
   "outputs": [
    {
     "name": "stdout",
     "output_type": "stream",
     "text": [
      "66  positive reviews\n",
      "9  negative reviews\n",
      "25  neutral reviews\n"
     ]
    }
   ],
   "source": [
    "#Analysis\n",
    "positive_review = []\n",
    "negative_review = []\n",
    "neutral_review = []\n",
    "\n",
    "for sentence in texts:\n",
    "    positive = 0\n",
    "    negative = 0\n",
    "    for word in sentence:\n",
    "        if word in positive_words:\n",
    "            positive += 1\n",
    "        elif word in negative_words:\n",
    "            negative += 1\n",
    "    if positive-negative > 0:\n",
    "            positive_review.append(sentence)\n",
    "    elif positive-negative == 0:\n",
    "        neutral_review.append(sentence)\n",
    "    else:\n",
    "        negative_review.append(sentence)\n",
    "print(len(positive_review), ' positive reviews')\n",
    "print(len(negative_review), ' negative reviews')\n",
    "print(len(neutral_review), ' neutral reviews')"
   ]
  },
  {
   "cell_type": "markdown",
   "metadata": {},
   "source": [
    "2. How many positive tweets? How many negative tweets?"
   ]
  },
  {
   "cell_type": "code",
   "execution_count": 37,
   "metadata": {},
   "outputs": [
    {
     "name": "stdout",
     "output_type": "stream",
     "text": [
      "66  positive tweet\n",
      "9  negative tweet\n"
     ]
    }
   ],
   "source": [
    "print(len(positive_review), ' positive tweet')\n",
    "print(len(negative_review), ' negative tweet')"
   ]
  },
  {
   "cell_type": "markdown",
   "metadata": {},
   "source": [
    "3. Save the sentiment analysis results to a new column [\"Sentiment\"] then display the first 5 rows"
   ]
  },
  {
   "cell_type": "code",
   "execution_count": null,
   "metadata": {},
   "outputs": [],
   "source": []
  }
 ],
 "metadata": {
  "kernelspec": {
   "display_name": "Python 3 (ipykernel)",
   "language": "python",
   "name": "python3"
  },
  "language_info": {
   "codemirror_mode": {
    "name": "ipython",
    "version": 3
   },
   "file_extension": ".py",
   "mimetype": "text/x-python",
   "name": "python",
   "nbconvert_exporter": "python",
   "pygments_lexer": "ipython3",
   "version": "3.8.0"
  }
 },
 "nbformat": 4,
 "nbformat_minor": 5
}
