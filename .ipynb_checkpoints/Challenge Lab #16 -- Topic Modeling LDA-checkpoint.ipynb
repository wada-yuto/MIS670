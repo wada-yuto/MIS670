{
 "cells": [
  {
   "cell_type": "markdown",
   "metadata": {},
   "source": [
    "# Topic Modeling 1 -- Latent Dirichlet Allocation (LDA)\n",
    "\n",
    "## What is topic modeling?\n",
    "\n",
    "Topic modeling uses text-mining tool for discovery of **hidden semantic structures in a text body (corpus)**. \n",
    "\n",
    "### Unsupervised Machine Learning -- Latent Dirichlet Allocation\n",
    "\n",
    "Latent Dirichlet allocation (LDA), a generative probabilistic model for collections of discrete data such as text corpora. LDA is a three-level hierarchical **Bayesian model**, in which each item of a collection is modeled as a finite mixture over an underlying set of topics. Each topic is, in turn, modeled as an infinite mixture over an underlying set of topic probabilities. In the context of text modeling, **the topic probabilities provide an explicit representation of a document**. We present efficient approximate inference techniques based on variational methods and an EM algorithm for empirical Bayes parameter estimation. \n",
    "\n",
    "Read the full paper: https://www.jmlr.org/papers/volume3/blei03a/blei03a.pdf\n",
    "\n",
    "Blei, D. M., Ng, A. Y., & Jordan, M. I. (2003). Latent dirichlet allocation. Journal of machine Learning research, 3(Jan), 993-1022.\n",
    "\n",
    "LDA discovers latent topics of a document by calculating the probability distribution of each topic in a corpus. It assumes that documents on similar topics often contain a similar group of words and the latent topics can be captured by the words with the highest possibility to frequently appear together (Hu, 2009). \n",
    "\n",
    "**LDA represents documents as a mixture of topics. Similarly, a topic is a mixture of words.** If a word has high probability of being in a topic, all the documents having this word will be more strongly associated with its topic as well.\n",
    "\n",
    ">**p(word w with topic t) = p(topic t | document d) * p(word w | topic t)**\n",
    "\n",
    "<img loading=\"lazy\" class=\"alignnone\" src=\"https://www.researchgate.net/profile/Diego-Buenano-Fernandez/publication/339368709/figure/fig1/AS:860489982689280@1582168207260/Schematic-of-LDA-algorithm.png\" alt=\"LDA model\" width=\"850\" >\n",
    "\n",
    "source:https://www.researchgate.net/profile/Diego-Buenano-Fernandez/publication/339368709/figure/fig1/AS:860489982689280@1582168207260/Schematic-of-LDA-algorithm.png\n",
    "\n",
    "References:\n",
    "1. Hu, D. J. (2009). Latent Dirichlet Allocation for Text, Images, and Music.\n",
    "2. https://towardsdatascience.com/latent-dirichlet-allocation-lda-9d1cd064ffa2"
   ]
  },
  {
   "cell_type": "markdown",
   "metadata": {},
   "source": [
    "## Advanced Text Filtering/processing"
   ]
  },
  {
   "cell_type": "code",
   "execution_count": 1,
   "metadata": {},
   "outputs": [],
   "source": [
    "import pandas as pd\n",
    "import re\n",
    "import numpy as np\n",
    "\n",
    "from nltk.tokenize import word_tokenize\n",
    "\n",
    "import warnings\n",
    "# To ignore all warnings that arise here to enhance clarity\n",
    "warnings.filterwarnings(action='ignore', category=FutureWarning)\n",
    "warnings.filterwarnings(action='ignore', category=DeprecationWarning)"
   ]
  },
  {
   "cell_type": "code",
   "execution_count": 2,
   "metadata": {},
   "outputs": [
    {
     "data": {
      "text/html": [
       "<div>\n",
       "<style scoped>\n",
       "    .dataframe tbody tr th:only-of-type {\n",
       "        vertical-align: middle;\n",
       "    }\n",
       "\n",
       "    .dataframe tbody tr th {\n",
       "        vertical-align: top;\n",
       "    }\n",
       "\n",
       "    .dataframe thead th {\n",
       "        text-align: right;\n",
       "    }\n",
       "</style>\n",
       "<table border=\"1\" class=\"dataframe\">\n",
       "  <thead>\n",
       "    <tr style=\"text-align: right;\">\n",
       "      <th></th>\n",
       "      <th>userName</th>\n",
       "      <th>screenName</th>\n",
       "      <th>userID</th>\n",
       "      <th>userLocation</th>\n",
       "      <th>user_descrip</th>\n",
       "      <th>user_url</th>\n",
       "      <th>followers</th>\n",
       "      <th>friends</th>\n",
       "      <th>user_ctime</th>\n",
       "      <th>source</th>\n",
       "      <th>post_time</th>\n",
       "      <th>tweet_id</th>\n",
       "      <th>tweet_text</th>\n",
       "      <th>favorite_count</th>\n",
       "      <th>retweet_count</th>\n",
       "    </tr>\n",
       "  </thead>\n",
       "  <tbody>\n",
       "    <tr>\n",
       "      <th>0</th>\n",
       "      <td>Convenience Store News.</td>\n",
       "      <td>CStoreNews_</td>\n",
       "      <td>156666863</td>\n",
       "      <td>ORD</td>\n",
       "      <td>Top Convenience Retail Influencer Millions of ...</td>\n",
       "      <td>NaN</td>\n",
       "      <td>43224</td>\n",
       "      <td>47652</td>\n",
       "      <td>2010-06-17 15:20:29+00:00</td>\n",
       "      <td>Twitter for iPhone</td>\n",
       "      <td>2022-09-26 23:59:59+00:00</td>\n",
       "      <td>1574549376025755648</td>\n",
       "      <td>Get lost Hurricane Ian https://t.co/xsY8JlKe8h</td>\n",
       "      <td>3</td>\n",
       "      <td>0</td>\n",
       "    </tr>\n",
       "    <tr>\n",
       "      <th>1</th>\n",
       "      <td>Andrea Smith 🌊🐝🐶🐱🌱💙</td>\n",
       "      <td>dogparkgal</td>\n",
       "      <td>1509146276461531137</td>\n",
       "      <td>Florida, USA</td>\n",
       "      <td>Starting over after a hack. Was @dogparkgoddes...</td>\n",
       "      <td>NaN</td>\n",
       "      <td>2456</td>\n",
       "      <td>3467</td>\n",
       "      <td>2022-03-30 12:31:39+00:00</td>\n",
       "      <td>Twitter for Android</td>\n",
       "      <td>2022-09-26 23:59:58+00:00</td>\n",
       "      <td>1574549371961544704</td>\n",
       "      <td>@SunnyPete6760 Wish us well during Hurricane I...</td>\n",
       "      <td>0</td>\n",
       "      <td>0</td>\n",
       "    </tr>\n",
       "    <tr>\n",
       "      <th>2</th>\n",
       "      <td>Sicilian-ShaSha 🇺🇸</td>\n",
       "      <td>shash1960</td>\n",
       "      <td>1220870146039975936</td>\n",
       "      <td>NaN</td>\n",
       "      <td>American/Italian 🇺🇸🇮🇹 #MAGAAMERICAN 🇺🇸</td>\n",
       "      <td>NaN</td>\n",
       "      <td>307</td>\n",
       "      <td>333</td>\n",
       "      <td>2020-01-25 00:45:06+00:00</td>\n",
       "      <td>Twitter for iPhone</td>\n",
       "      <td>2022-09-26 23:59:56+00:00</td>\n",
       "      <td>1574549362314723331</td>\n",
       "      <td>Stressed about Hurricane Ian,seriously don’t w...</td>\n",
       "      <td>0</td>\n",
       "      <td>1</td>\n",
       "    </tr>\n",
       "    <tr>\n",
       "      <th>3</th>\n",
       "      <td>Villain Character Development 🔜 Confuror 2022</td>\n",
       "      <td>KingOfFoxxes</td>\n",
       "      <td>1054890619867410433</td>\n",
       "      <td>Baja California, México</td>\n",
       "      <td>| 21 Y.O | Mexican 🇲🇽 | Coffe Boi ☕️ | ♣️ Life...</td>\n",
       "      <td>NaN</td>\n",
       "      <td>270</td>\n",
       "      <td>1186</td>\n",
       "      <td>2018-10-24 00:21:37+00:00</td>\n",
       "      <td>Twitter for Android</td>\n",
       "      <td>2022-09-26 23:59:54+00:00</td>\n",
       "      <td>1574549355977023488</td>\n",
       "      <td>RT @_chaibear: ppl really telling me to \"be ca...</td>\n",
       "      <td>0</td>\n",
       "      <td>1</td>\n",
       "    </tr>\n",
       "    <tr>\n",
       "      <th>4</th>\n",
       "      <td>James Cooper</td>\n",
       "      <td>stratosphere53</td>\n",
       "      <td>50626909</td>\n",
       "      <td>Atlanta</td>\n",
       "      <td>Air Force Brat /  Vietnam veteran  /  Customer...</td>\n",
       "      <td>http://t.co/5gcImzgdlS</td>\n",
       "      <td>229</td>\n",
       "      <td>582</td>\n",
       "      <td>2009-06-25 12:06:55+00:00</td>\n",
       "      <td>Twitter Web App</td>\n",
       "      <td>2022-09-26 23:59:54+00:00</td>\n",
       "      <td>1574549355176001542</td>\n",
       "      <td>RT @stratosphere53: Canada counts damage after...</td>\n",
       "      <td>0</td>\n",
       "      <td>1</td>\n",
       "    </tr>\n",
       "  </tbody>\n",
       "</table>\n",
       "</div>"
      ],
      "text/plain": [
       "                                        userName      screenName  \\\n",
       "0                        Convenience Store News.     CStoreNews_   \n",
       "1                            Andrea Smith 🌊🐝🐶🐱🌱💙      dogparkgal   \n",
       "2                             Sicilian-ShaSha 🇺🇸       shash1960   \n",
       "3  Villain Character Development 🔜 Confuror 2022    KingOfFoxxes   \n",
       "4                                   James Cooper  stratosphere53   \n",
       "\n",
       "                userID             userLocation  \\\n",
       "0            156666863                     ORD    \n",
       "1  1509146276461531137             Florida, USA   \n",
       "2  1220870146039975936                      NaN   \n",
       "3  1054890619867410433  Baja California, México   \n",
       "4             50626909                  Atlanta   \n",
       "\n",
       "                                        user_descrip                user_url  \\\n",
       "0  Top Convenience Retail Influencer Millions of ...                     NaN   \n",
       "1  Starting over after a hack. Was @dogparkgoddes...                     NaN   \n",
       "2             American/Italian 🇺🇸🇮🇹 #MAGAAMERICAN 🇺🇸                     NaN   \n",
       "3  | 21 Y.O | Mexican 🇲🇽 | Coffe Boi ☕️ | ♣️ Life...                     NaN   \n",
       "4  Air Force Brat /  Vietnam veteran  /  Customer...  http://t.co/5gcImzgdlS   \n",
       "\n",
       "   followers  friends                 user_ctime               source  \\\n",
       "0      43224    47652  2010-06-17 15:20:29+00:00   Twitter for iPhone   \n",
       "1       2456     3467  2022-03-30 12:31:39+00:00  Twitter for Android   \n",
       "2        307      333  2020-01-25 00:45:06+00:00   Twitter for iPhone   \n",
       "3        270     1186  2018-10-24 00:21:37+00:00  Twitter for Android   \n",
       "4        229      582  2009-06-25 12:06:55+00:00      Twitter Web App   \n",
       "\n",
       "                   post_time             tweet_id  \\\n",
       "0  2022-09-26 23:59:59+00:00  1574549376025755648   \n",
       "1  2022-09-26 23:59:58+00:00  1574549371961544704   \n",
       "2  2022-09-26 23:59:56+00:00  1574549362314723331   \n",
       "3  2022-09-26 23:59:54+00:00  1574549355977023488   \n",
       "4  2022-09-26 23:59:54+00:00  1574549355176001542   \n",
       "\n",
       "                                          tweet_text  favorite_count  \\\n",
       "0     Get lost Hurricane Ian https://t.co/xsY8JlKe8h               3   \n",
       "1  @SunnyPete6760 Wish us well during Hurricane I...               0   \n",
       "2  Stressed about Hurricane Ian,seriously don’t w...               0   \n",
       "3  RT @_chaibear: ppl really telling me to \"be ca...               0   \n",
       "4  RT @stratosphere53: Canada counts damage after...               0   \n",
       "\n",
       "   retweet_count  \n",
       "0              0  \n",
       "1              0  \n",
       "2              1  \n",
       "3              1  \n",
       "4              1  "
      ]
     },
     "execution_count": 2,
     "metadata": {},
     "output_type": "execute_result"
    }
   ],
   "source": [
    "hurricane = pd.read_csv(\"hurricane_ian.csv\", header = 0)\n",
    "hurricane.head()"
   ]
  },
  {
   "cell_type": "code",
   "execution_count": 3,
   "metadata": {},
   "outputs": [],
   "source": [
    "# display the full text information\n",
    "pd.set_option('display.max_colwidth', None)"
   ]
  },
  {
   "cell_type": "code",
   "execution_count": 4,
   "metadata": {},
   "outputs": [
    {
     "data": {
      "text/plain": [
       "0                                                                                                                                                                                                                                                              Get lost Hurricane Ian \n",
       "1                                                                                                                                                                                                                      @SunnyPete6760 Wish us well during Hurricane Ian! \\nHey buddy! \n",
       "2    Stressed about Hurricane Ian,seriously dont want to leave my home to evacuate, but will have no choice. Tomorrow I know Ill get the order, Zone B. I evacuated for Irma, much has change for me in 5 yrs, seems overwhelming now. One thing, Im blessed to have family to go to. \n",
       "3                                                                                                                                          RT @_chaibear: ppl really telling me to \"be careful\" for hurricane ian as if i havent spent hundreds of hours playing natural disaster surv\n",
       "4                                                                                                                                                                              RT @stratosphere53: Canada counts damage after Fiona; Cuba and Florida brace for storm Ian - Breitbart \n",
       "Name: tweet_text, dtype: object"
      ]
     },
     "execution_count": 4,
     "metadata": {},
     "output_type": "execute_result"
    }
   ],
   "source": [
    "# remove the emojis from the tweets\n",
    "hurricane['tweet_text'] = hurricane['tweet_text'].apply(lambda x: x.encode('ascii', 'ignore').decode('ascii'))\n",
    "# make the name simplier\n",
    "tweets = hurricane['tweet_text']\n",
    "# remove the links from tweets\n",
    "tweets = tweets.apply(lambda x: re.split('https:\\/\\/.*', str(x))[0])\n",
    "tweets.head()"
   ]
  },
  {
   "cell_type": "markdown",
   "metadata": {},
   "source": [
    "### Before you try to remove the stopwords and useless symbols, tokenize the words, let's learn a new method\n",
    "\n",
    "nltk.tag package\n",
    "NLTK Taggers\n",
    "\n",
    "This package contains classes and interfaces for part-of-speech tagging, or simply “tagging”.\n",
    "\n",
    "A “tag” is a case-sensitive string that specifies some property of a token, such as its **part of speech**(pos_tag). Tagged tokens are encoded as tuples (tag, token). \n",
    "\n",
    "Documentations:\n",
    "\n",
    "- http://blog.echen.me/2011/08/22/introduction-to-latent-dirichlet-allocation/\n",
    "- https://www.nltk.org/book/ch05.html\n",
    "\n",
    "\n",
    ">**Categorizing and tagging Words into nouns (NN), verbs (VBZ), adjectives(JJ), and adverbs (RB)**"
   ]
  },
  {
   "cell_type": "code",
   "execution_count": 5,
   "metadata": {},
   "outputs": [
    {
     "name": "stderr",
     "output_type": "stream",
     "text": [
      "[nltk_data] Downloading package averaged_perceptron_tagger to\n",
      "[nltk_data]     /Users/yutowada/nltk_data...\n",
      "[nltk_data]   Package averaged_perceptron_tagger is already up-to-\n",
      "[nltk_data]       date!\n"
     ]
    },
    {
     "data": {
      "text/plain": [
       "True"
      ]
     },
     "execution_count": 5,
     "metadata": {},
     "output_type": "execute_result"
    }
   ],
   "source": [
    "import nltk\n",
    "nltk.download('averaged_perceptron_tagger')"
   ]
  },
  {
   "cell_type": "code",
   "execution_count": 6,
   "metadata": {},
   "outputs": [
    {
     "name": "stdout",
     "output_type": "stream",
     "text": [
      "[('John', 'NNP'), (\"'s\", 'POS'), ('big', 'JJ'), ('idea', 'NN'), ('is', 'VBZ'), (\"n't\", 'RB'), ('all', 'PDT'), ('that', 'DT'), ('bad', 'JJ'), ('.', '.')]\n"
     ]
    }
   ],
   "source": [
    "# let's see an example of pos_tag\n",
    "from nltk.tag import pos_tag\n",
    "\n",
    "print(pos_tag(word_tokenize(\"John's big idea isn't all that bad.\")))"
   ]
  },
  {
   "cell_type": "code",
   "execution_count": 7,
   "metadata": {},
   "outputs": [
    {
     "name": "stderr",
     "output_type": "stream",
     "text": [
      "[nltk_data] Downloading package universal_tagset to\n",
      "[nltk_data]     /Users/yutowada/nltk_data...\n",
      "[nltk_data]   Package universal_tagset is already up-to-date!\n"
     ]
    },
    {
     "data": {
      "text/plain": [
       "True"
      ]
     },
     "execution_count": 7,
     "metadata": {},
     "output_type": "execute_result"
    }
   ],
   "source": [
    "import nltk\n",
    "nltk.download('universal_tagset')"
   ]
  },
  {
   "cell_type": "code",
   "execution_count": 8,
   "metadata": {},
   "outputs": [
    {
     "name": "stdout",
     "output_type": "stream",
     "text": [
      "[('John', 'NOUN'), (\"'s\", 'PRT'), ('big', 'ADJ'), ('idea', 'NOUN'), ('is', 'VERB'), (\"n't\", 'ADV'), ('all', 'DET'), ('that', 'DET'), ('bad', 'ADJ'), ('.', '.')]\n"
     ]
    }
   ],
   "source": [
    "print(pos_tag(word_tokenize(\"John's big idea isn't all that bad.\"), tagset='universal'))"
   ]
  },
  {
   "cell_type": "markdown",
   "metadata": {},
   "source": [
    ">**Function to remove all the verbs (VBZ), adjectives(JJ), and adverbs (RB), only keeping nouns (NN)**"
   ]
  },
  {
   "cell_type": "code",
   "execution_count": 9,
   "metadata": {},
   "outputs": [],
   "source": [
    "def nouns(text):\n",
    "    '''Given a string of text, tokenize the text and pull out only the nouns.'''\n",
    "    is_noun = lambda pos: pos[:2] == 'NN'\n",
    "    tokenized = word_tokenize(text)\n",
    "    all_nouns = [word for (word, pos) in pos_tag(tokenized) if is_noun(pos)] \n",
    "    return ' '.join(all_nouns)"
   ]
  },
  {
   "cell_type": "code",
   "execution_count": 10,
   "metadata": {},
   "outputs": [
    {
     "data": {
      "text/plain": [
       "0                                                                           Hurricane Ian\n",
       "1                                                  @ SunnyPete6760 Wish Hurricane Ian Hey\n",
       "2    Hurricane Ian home choice Tomorrow Ill order Zone B. Irma change yrs thing Im family\n",
       "3                                       RT ppl hurricane ian hundreds hours disaster surv\n",
       "4          RT @ stratosphere53 Canada damage Fiona Cuba Florida brace storm Ian Breitbart\n",
       "Name: tweet_text, dtype: object"
      ]
     },
     "execution_count": 10,
     "metadata": {},
     "output_type": "execute_result"
    }
   ],
   "source": [
    "# apply it to the tweets\n",
    "\n",
    "tweets_nouns = tweets.apply(nouns)\n",
    "tweets_nouns.head()"
   ]
  },
  {
   "cell_type": "code",
   "execution_count": 11,
   "metadata": {},
   "outputs": [],
   "source": [
    "# Let's get assign words a number so the python can read it\n",
    "# LDA can only use raw term counts for LDA because it is a probabilistic graphical model\n",
    "from sklearn.feature_extraction.text import CountVectorizer\n",
    "\n",
    "vectorizer1 = CountVectorizer(stop_words='english')\n",
    "vec1 = vectorizer1.fit_transform(tweets_nouns) "
   ]
  },
  {
   "cell_type": "markdown",
   "metadata": {},
   "source": [
    ">**Why LDA cannot use TF-IDF**\n",
    "\n",
    "Blei (who developed LDA), points out that LDA addresses the shortcomings of the TF-IDF model and leaves this approach behind. LSA is compeltely algebraic and generally (but not necessarily) uses a TF-IDF matrix, while LDA is a probabilistic model that tries to estimate probability distributions for topics in documents and words in topics. The weighting of TF-IDF is not necessary for this.\n",
    "\n",
    "Source:https://stackoverflow.com/questions/44781047/necessary-to-apply-tf-idf-to-new-documents-in-gensim-lda-model/44789327#44789327\n",
    "\n",
    ">**Appendix**\n",
    "\n",
    "Latent Semantic Analysis (LSA) and Latent Dirichlet Allocation (LDA) area good approaches to deal with NLP problems. Both LSA and LDA have same input which is Bag of words in matrix format. LSA focus on reducing matrix dimension while LDA solves topic modeling problems.\n",
    "\n",
    "Source:https://towardsdatascience.com/2-latent-methods-for-dimension-reduction-and-topic-modeling-20ff6d7d547#:~:text=LSA%20focus%20on%20reducing%20matrix%20dimension%20while%20LDA%20solves%20topic%20modeling%20problems."
   ]
  },
  {
   "cell_type": "code",
   "execution_count": 12,
   "metadata": {},
   "outputs": [],
   "source": [
    "#Documentation: https://scikit-learn.org/stable/modules/generated/sklearn.decomposition.LatentDirichletAllocation.html\n",
    "from sklearn.decomposition import LatentDirichletAllocation\n",
    "\n",
    "# set the topic modeling model\n",
    "lda = LatentDirichletAllocation(n_components = 10, # meaning the number of topics, by default is 10\n",
    "                                random_state=0)\n",
    "\n",
    "# train the model using unlabeled data\n",
    "LDAmodel1 = lda.fit(vec1)"
   ]
  },
  {
   "cell_type": "markdown",
   "metadata": {},
   "source": [
    "The components_ attribute of the lda instance, which stores a matrix containing the word importance (here, 1530) for each of the 10 topics in increasing order:"
   ]
  },
  {
   "cell_type": "code",
   "execution_count": 13,
   "metadata": {},
   "outputs": [
    {
     "name": "stdout",
     "output_type": "stream",
     "text": [
      "(10, 1528)\n"
     ]
    }
   ],
   "source": [
    "print(LDAmodel1.components_.shape)"
   ]
  },
  {
   "cell_type": "code",
   "execution_count": 14,
   "metadata": {},
   "outputs": [
    {
     "name": "stdout",
     "output_type": "stream",
     "text": [
      "[(0, array([0.1       , 0.1       , 0.1       , ..., 1.09999604, 0.1       ,\n",
      "       1.0999916 ])), (1, array([0.1, 1.1, 0.1, ..., 0.1, 0.1, 0.1])), (2, array([0.1, 0.1, 0.1, ..., 0.1, 0.1, 0.1])), (3, array([1.1       , 0.1       , 1.1       , ..., 0.1000032 , 1.1       ,\n",
      "       6.09999701])), (4, array([0.1       , 0.1       , 0.1       , ..., 0.1       , 0.1       ,\n",
      "       0.10000411])), (5, array([0.1, 0.1, 0.1, ..., 0.1, 0.1, 0.1])), (6, array([0.1       , 0.1       , 0.1       , ..., 1.09997135, 0.1       ,\n",
      "       0.10000521])), (7, array([0.1       , 0.1       , 0.1       , ..., 5.10002941, 0.1       ,\n",
      "       0.1       ])), (8, array([0.1, 0.1, 0.1, ..., 0.1, 0.1, 0.1])), (9, array([0.1       , 0.1       , 0.1       , ..., 0.1       , 0.1       ,\n",
      "       0.10000207]))]\n"
     ]
    }
   ],
   "source": [
    "#Enumerate() method adds a counter to an iterable and returns it in a form of enumerating object.\n",
    "#https://www.geeksforgeeks.org/enumerate-in-python/\n",
    "print(list(enumerate(LDAmodel1.components_)))"
   ]
  },
  {
   "cell_type": "code",
   "execution_count": 15,
   "metadata": {},
   "outputs": [
    {
     "name": "stdout",
     "output_type": "stream",
     "text": [
      "Topic 1:\n",
      "[0.1        0.1        0.1        ... 1.09999604 0.1        1.0999916 ]\n",
      "Topic 2:\n",
      "[0.1 1.1 0.1 ... 0.1 0.1 0.1]\n",
      "Topic 3:\n",
      "[0.1 0.1 0.1 ... 0.1 0.1 0.1]\n",
      "Topic 4:\n",
      "[1.1        0.1        1.1        ... 0.1000032  1.1        6.09999701]\n",
      "Topic 5:\n",
      "[0.1        0.1        0.1        ... 0.1        0.1        0.10000411]\n",
      "Topic 6:\n",
      "[0.1 0.1 0.1 ... 0.1 0.1 0.1]\n",
      "Topic 7:\n",
      "[0.1        0.1        0.1        ... 1.09997135 0.1        0.10000521]\n",
      "Topic 8:\n",
      "[0.1        0.1        0.1        ... 5.10002941 0.1        0.1       ]\n",
      "Topic 9:\n",
      "[0.1 0.1 0.1 ... 0.1 0.1 0.1]\n",
      "Topic 10:\n",
      "[0.1        0.1        0.1        ... 0.1        0.1        0.10000207]\n"
     ]
    }
   ],
   "source": [
    "# get the indices and values using enumerate method\n",
    "#https://www.geeksforgeeks.org/how-to-access-index-in-pythons-for-loop/\n",
    "for topic_idx, x in enumerate(LDAmodel1.components_):\n",
    "    print(\"Topic %d:\" % (topic_idx + 1))#The %d operator is used as a placeholder to specify integer values, decimals, or numbers.\n",
    "    print(x)"
   ]
  },
  {
   "cell_type": "code",
   "execution_count": 16,
   "metadata": {},
   "outputs": [
    {
     "data": {
      "text/plain": [
       "['0423',\n",
       " '14mb',\n",
       " '19',\n",
       " '542',\n",
       " '965mb',\n",
       " '966mb',\n",
       " '_private_idaho',\n",
       " '_thirunarayan1',\n",
       " 'aaronparnas',\n",
       " 'ab',\n",
       " 'abc',\n",
       " 'abccolumbia',\n",
       " 'absolute',\n",
       " 'access',\n",
       " 'accuwe',\n",
       " 'accuweather',\n",
       " 'act',\n",
       " 'action',\n",
       " 'activities',\n",
       " 'actor']"
      ]
     },
     "execution_count": 16,
     "metadata": {},
     "output_type": "execute_result"
    }
   ],
   "source": [
    "feature_names1 = vectorizer1.get_feature_names() #get_feature_names_out() if cannot found\n",
    "feature_names1[:20]"
   ]
  },
  {
   "cell_type": "code",
   "execution_count": 17,
   "metadata": {},
   "outputs": [
    {
     "name": "stdout",
     "output_type": "stream",
     "text": [
      "Topic 1:\n",
      "hurricane rt ian way tampa\n",
      "Topic 2:\n",
      "ian hurricane rt course boo\n",
      "Topic 3:\n",
      "rt hurricane ian desantis sea\n",
      "Topic 4:\n",
      "hurricane ian rt track tropicalupdate\n",
      "Topic 5:\n",
      "hurricane ian rt florida storm\n",
      "Topic 6:\n",
      "hurricane ian rt florida emergency\n",
      "Topic 7:\n",
      "ian hurricane rt tampa florida\n",
      "Topic 8:\n",
      "hurricane ian rt florida week\n",
      "Topic 9:\n",
      "hurricane ian people cuba rt\n",
      "Topic 10:\n",
      "rt trump occupydemocrats president biden\n"
     ]
    }
   ],
   "source": [
    "# how to get the feature names\n",
    "# check the documentation:https://scikit-learn.org/stable/auto_examples/applications/plot_topics_extraction_with_nmf_lda.html#sphx-glr-auto-examples-applications-plot-topics-extraction-with-nmf-lda-py\n",
    "n_top_words = 5\n",
    "\n",
    "for topic_idx, topic in enumerate(LDAmodel1.components_):\n",
    "    print(\"Topic %d:\" % (topic_idx + 1))#The %d operator is used as a placeholder to specify integer values, decimals, or numbers.\n",
    "    print(\" \".join([feature_names1[i] for i in topic.argsort()[:-n_top_words - 1:-1]]))"
   ]
  },
  {
   "cell_type": "code",
   "execution_count": 18,
   "metadata": {},
   "outputs": [],
   "source": [
    "# build a function to display the topics\n",
    "def display_topics(model, feature_names, n_top_words):\n",
    "    for topic_idx, topic in enumerate(model.components_):\n",
    "        print(\"Topic %d:\" % (topic_idx + 1)) \n",
    "        print(\" \".join([feature_names[i] for i in topic.argsort()[:-n_top_words - 1:-1]])) "
   ]
  },
  {
   "cell_type": "code",
   "execution_count": 19,
   "metadata": {},
   "outputs": [
    {
     "name": "stdout",
     "output_type": "stream",
     "text": [
      "Topic 1:\n",
      "hurricane rt ian way tampa bay winds powers weaken case planning b_resnick forecas regional council\n",
      "Topic 2:\n",
      "ian hurricane rt course boo panic pl middle tennessee tampa mph winds update cuba bay\n",
      "Topic 3:\n",
      "rt hurricane ian desantis sea impacts thehill area house response white bryanwx politics ron infrastructure\n",
      "Topic 4:\n",
      "hurricane ian rt track tropicalupdate latest nhc mar new lago advisory intermediate path just cuba\n",
      "Topic 5:\n",
      "hurricane ian rt florida storm surge warnings governor breaking tampa desantis bay marthas vineyard coast\n",
      "Topic 6:\n",
      "hurricane ian rt florida emergency funds joe biden nousefortrump request chiefs bucs impact nfl sunday\n",
      "Topic 7:\n",
      "ian hurricane rt tampa florida week buccaneers tuesday monday afternoon looming adamschefter coast scenario forecast\n",
      "Topic 8:\n",
      "hurricane ian rt florida week cuba gulf landfall way friday mexico space station international storm\n",
      "Topic 9:\n",
      "hurricane ian people cuba rt family prayers thoughts charliecrist landf karla risk winds rainfall com\n",
      "Topic 10:\n",
      "rt trump occupydemocrats president biden politics breaking resources hurricane ian news nasa artemis sls lorengrush\n",
      "None\n"
     ]
    }
   ],
   "source": [
    "lda_topics1 = display_topics(LDAmodel1, feature_names1, n_top_words=15)\n",
    "print(lda_topics1)"
   ]
  },
  {
   "cell_type": "code",
   "execution_count": 20,
   "metadata": {},
   "outputs": [],
   "source": [
    "# let's add more stopwords.\n",
    "#add the stop words and the words that you want to exclude\n",
    "from sklearn.feature_extraction import text\n",
    "\n",
    "add_stop_words = ['hurricane','ian','rt']\n",
    "stop_words = text.ENGLISH_STOP_WORDS.union(add_stop_words)"
   ]
  },
  {
   "cell_type": "code",
   "execution_count": 21,
   "metadata": {},
   "outputs": [
    {
     "data": {
      "text/plain": [
       "['0423', '14mb', '19', '542', '965mb']"
      ]
     },
     "execution_count": 21,
     "metadata": {},
     "output_type": "execute_result"
    }
   ],
   "source": [
    "# build a new vectorizer removing the new list of stopwords\n",
    "vectorizer2 = CountVectorizer(stop_words=stop_words)\n",
    "vec2 = vectorizer2.fit_transform(tweets_nouns) \n",
    "feature_names2 = vectorizer2.get_feature_names() #get_feature_names_out() if cannot found\n",
    "feature_names2[:5]"
   ]
  },
  {
   "cell_type": "code",
   "execution_count": 22,
   "metadata": {},
   "outputs": [
    {
     "name": "stdout",
     "output_type": "stream",
     "text": [
      "Topic 1:\n",
      "tuesday week buccaneers tampa afternoon looming adamschefter school hey officials monday vengolor ther staying friday\n",
      "Topic 2:\n",
      "florida emergency funds joe biden nousefortrump request amp floridians state ians hurricanes fl st weather\n",
      "Topic 3:\n",
      "florida disaster governor world disney walt mar lago doggintrump dear repeat caribbean georgia intensifying stuostro\n",
      "Topic 4:\n",
      "way path advisory rain florida night intermediate landfall powers friday weaken week eye kirstiealley makeianweak\n",
      "Topic 5:\n",
      "course boo florida authorities plan charliecrist house response white desantis thehill politics dailycaller women servicemen\n",
      "Topic 6:\n",
      "track desantis tropicalupdate marthas vineyard governor doc_chimpanzee breaking latest nhc new satellite afternoon look state\n",
      "Topic 7:\n",
      "tampa bay florida gulf cuba coast area warning storm miami forecast mexico national case hurricanes\n",
      "Topic 8:\n",
      "trump occupydemocrats president biden politics breaking resources pinellas sarasota effect mar hillsborough mon amp counties\n",
      "Topic 9:\n",
      "people family cuba prayers charliecrist thoughts landf karla news nasa artemis lorengrush sls center national\n",
      "Topic 10:\n",
      "storm surge florida winds category warnings amp mph update risk strength coast tennessee panic middle\n",
      "None\n"
     ]
    }
   ],
   "source": [
    "# hyperparameter tuning\n",
    "lda2 = LatentDirichletAllocation(n_components = 10, learning_method='online', learning_offset=50,\n",
    "                                random_state=0)\n",
    "\n",
    "# Build the model using unlabeled data\n",
    "LDAmodel2 = lda2.fit(vec2)\n",
    "\n",
    "lda_topics2 = display_topics(LDAmodel2, feature_names2, n_top_words=15)\n",
    "print(lda_topics2)"
   ]
  },
  {
   "cell_type": "markdown",
   "metadata": {},
   "source": [
    ">**Function to remove all the verbs (VBZ), and adverbs (RB), keeping nouns (NN) and adjectives(JJ)**"
   ]
  },
  {
   "cell_type": "code",
   "execution_count": 23,
   "metadata": {},
   "outputs": [],
   "source": [
    "def nouns_adj(text):\n",
    "    '''Given a string of text, tokenize the text and pull out only the nouns and adjectives.'''\n",
    "    is_noun_adj = lambda pos: pos[:2] == 'NN' or pos[:2] == 'JJ'\n",
    "    tokenized = word_tokenize(text)\n",
    "    nouns_adj = [word for (word, pos) in pos_tag(tokenized) if is_noun_adj(pos)] \n",
    "    return ' '.join(nouns_adj)"
   ]
  },
  {
   "cell_type": "code",
   "execution_count": 24,
   "metadata": {},
   "outputs": [
    {
     "name": "stdout",
     "output_type": "stream",
     "text": [
      "Topic 1:\n",
      "area impact advisory west panic middle pl tennessee intermediate major chiefs evacuations nfl bucs mandatory\n",
      "Topic 2:\n",
      "news nasa florida emergency funds good joe nousefortrump request biden artemis bad lorengrush sls amp\n",
      "Topic 3:\n",
      "amp florida effect pinellas mon cuba est warnings counties hillsborough manatee flsert sarasota days miami\n",
      "Topic 4:\n",
      "trump biden occupydemocrats president politics federal breaking resources school update amp tomorrow hurricaneian proud youre\n",
      "Topic 5:\n",
      "florida authorities plan mar local charliecrist lago just trump sharpie nothoodlum hurricanes hey path ther\n",
      "Topic 6:\n",
      "tampa week tuesday buccaneers friday house afternoon looming adamschefter white thehill response school night politics\n",
      "Topic 7:\n",
      "storm florida surge tampa bay winds coast category warnings worst gulf national cuba west warning\n",
      "Topic 8:\n",
      "track latest tropicalupdate nhc new satellite big florida rain afternoon caribbean look week disney walt\n",
      "Topic 9:\n",
      "desantis vineyard marthas governor breaking doc_chimpanzee safe update ron florida fl stay tampa thursday game\n",
      "Topic 10:\n",
      "people cuba family prayers thoughts karla landf charliecrist course asteroid boo path impacts ron phone\n",
      "None\n"
     ]
    }
   ],
   "source": [
    "# apply to tweets\n",
    "tweets_nouns_adj = tweets.apply(nouns_adj)\n",
    "\n",
    "# we will continue use the same vectorizer, since we didn't change the parameters\n",
    "# vectorizer2 = CountVectorizer(stop_words=stop_words)\n",
    "vec3 = vectorizer2.fit_transform(tweets_nouns_adj) \n",
    "feature_names3 = vectorizer2.get_feature_names()\n",
    "\n",
    "# Build the model using the parameters from lda2\n",
    "LDAmodel3 = lda2.fit(vec3)\n",
    "\n",
    "lda_topics3 = display_topics(LDAmodel3, feature_names3, n_top_words = 15)\n",
    "print(lda_topics3)"
   ]
  },
  {
   "cell_type": "markdown",
   "metadata": {},
   "source": [
    "# Interactive Visualization -- Intertopic Distance Map\n",
    "\n",
    "The intertopic distance map is a visualization of the topics in a two-dimensional space . The area of these topic circles is proportional to the amount of words that belong to each topic across the dictionary. The circles are plotted using a multidimensional scaling algorithm (converts a bunch of dimension, more than we can conceive with our human brains, to a reasonable number of dimensions, like two) based on the words they comprise, so topics that are closer together have more words in common.\n",
    "\n",
    "source:https://community.alteryx.com/t5/Data-Science/Getting-to-the-Point-with-Topic-Modeling-Part-3-Interpreting-the/ba-p/614992\n",
    "\n",
    "Read the full paper:https://nlp.stanford.edu/events/illvi2014/papers/sievert-illvi2014.pdf\n",
    "\n",
    "Reference:Sievert, C., & Shirley, K. (2014, June). LDAvis: A method for visualizing and interpreting topics. In Proceedings of the workshop on interactive language learning, visualization, and interfaces (pp. 63-70)."
   ]
  },
  {
   "cell_type": "markdown",
   "metadata": {},
   "source": [
    "intall pyLDAvis\n",
    "\n",
    "! pip install pyLDAvis\n",
    "\n",
    "https://anaconda.org/conda-forge/pyldavis"
   ]
  },
  {
   "cell_type": "code",
   "execution_count": 25,
   "metadata": {},
   "outputs": [
    {
     "name": "stderr",
     "output_type": "stream",
     "text": [
      "/Library/Frameworks/Python.framework/Versions/3.8/lib/python3.8/site-packages/past/builtins/misc.py:45: DeprecationWarning: the imp module is deprecated in favour of importlib; see the module's documentation for alternative uses\n",
      "  from imp import reload\n"
     ]
    },
    {
     "ename": "ValueError",
     "evalue": "perplexity must be less than n_samples",
     "output_type": "error",
     "traceback": [
      "\u001b[0;31m---------------------------------------------------------------------------\u001b[0m",
      "\u001b[0;31mValueError\u001b[0m                                Traceback (most recent call last)",
      "Cell \u001b[0;32mIn [25], line 5\u001b[0m\n\u001b[1;32m      2\u001b[0m \u001b[38;5;28;01mimport\u001b[39;00m \u001b[38;5;21;01mpyLDAvis\u001b[39;00m\u001b[38;5;21;01m.\u001b[39;00m\u001b[38;5;21;01msklearn\u001b[39;00m\n\u001b[1;32m      4\u001b[0m pyLDAvis\u001b[38;5;241m.\u001b[39menable_notebook()\n\u001b[0;32m----> 5\u001b[0m vis_data1 \u001b[38;5;241m=\u001b[39m pyLDAvis\u001b[38;5;241m.\u001b[39msklearn\u001b[38;5;241m.\u001b[39mprepare(LDAmodel1, vec1, vectorizer1, mds\u001b[38;5;241m=\u001b[39m\u001b[38;5;124m'\u001b[39m\u001b[38;5;124mtsne\u001b[39m\u001b[38;5;124m'\u001b[39m)\u001b[38;5;66m#The output approximates the distance between topics.\u001b[39m\n\u001b[1;32m      6\u001b[0m pyLDAvis\u001b[38;5;241m.\u001b[39mdisplay(vis_data1)\n",
      "File \u001b[0;32m/Library/Frameworks/Python.framework/Versions/3.8/lib/python3.8/site-packages/pyLDAvis/sklearn.py:95\u001b[0m, in \u001b[0;36mprepare\u001b[0;34m(lda_model, dtm, vectorizer, **kwargs)\u001b[0m\n\u001b[1;32m     63\u001b[0m \u001b[38;5;124m\"\"\"Create Prepared Data from sklearn's LatentDirichletAllocation and CountVectorizer.\u001b[39m\n\u001b[1;32m     64\u001b[0m \n\u001b[1;32m     65\u001b[0m \u001b[38;5;124mParameters\u001b[39m\n\u001b[0;32m   (...)\u001b[0m\n\u001b[1;32m     92\u001b[0m \u001b[38;5;124mSee `pyLDAvis.prepare` for **kwargs.\u001b[39m\n\u001b[1;32m     93\u001b[0m \u001b[38;5;124m\"\"\"\u001b[39m\n\u001b[1;32m     94\u001b[0m opts \u001b[38;5;241m=\u001b[39m fp\u001b[38;5;241m.\u001b[39mmerge(_extract_data(lda_model, dtm, vectorizer), kwargs)\n\u001b[0;32m---> 95\u001b[0m \u001b[38;5;28;01mreturn\u001b[39;00m \u001b[43mpyLDAvis\u001b[49m\u001b[38;5;241;43m.\u001b[39;49m\u001b[43mprepare\u001b[49m\u001b[43m(\u001b[49m\u001b[38;5;241;43m*\u001b[39;49m\u001b[38;5;241;43m*\u001b[39;49m\u001b[43mopts\u001b[49m\u001b[43m)\u001b[49m\n",
      "File \u001b[0;32m/Library/Frameworks/Python.framework/Versions/3.8/lib/python3.8/site-packages/pyLDAvis/_prepare.py:443\u001b[0m, in \u001b[0;36mprepare\u001b[0;34m(topic_term_dists, doc_topic_dists, doc_lengths, vocab, term_frequency, R, lambda_step, mds, n_jobs, plot_opts, sort_topics, start_index)\u001b[0m\n\u001b[1;32m    439\u001b[0m topic_info \u001b[38;5;241m=\u001b[39m _topic_info(topic_term_dists, topic_proportion,\n\u001b[1;32m    440\u001b[0m                          term_frequency, term_topic_freq, vocab, lambda_step, R,\n\u001b[1;32m    441\u001b[0m                          n_jobs, start_index)\n\u001b[1;32m    442\u001b[0m token_table \u001b[38;5;241m=\u001b[39m _token_table(topic_info, term_topic_freq, vocab, term_frequency, start_index)\n\u001b[0;32m--> 443\u001b[0m topic_coordinates \u001b[38;5;241m=\u001b[39m \u001b[43m_topic_coordinates\u001b[49m\u001b[43m(\u001b[49m\u001b[43mmds\u001b[49m\u001b[43m,\u001b[49m\u001b[43m \u001b[49m\u001b[43mtopic_term_dists\u001b[49m\u001b[43m,\u001b[49m\u001b[43m \u001b[49m\u001b[43mtopic_proportion\u001b[49m\u001b[43m,\u001b[49m\u001b[43m \u001b[49m\u001b[43mstart_index\u001b[49m\u001b[43m)\u001b[49m\n\u001b[1;32m    444\u001b[0m client_topic_order \u001b[38;5;241m=\u001b[39m [x \u001b[38;5;241m+\u001b[39m start_index \u001b[38;5;28;01mfor\u001b[39;00m x \u001b[38;5;129;01min\u001b[39;00m topic_order]\n\u001b[1;32m    446\u001b[0m \u001b[38;5;28;01mreturn\u001b[39;00m PreparedData(topic_coordinates, topic_info,\n\u001b[1;32m    447\u001b[0m                     token_table, R, lambda_step, plot_opts, client_topic_order)\n",
      "File \u001b[0;32m/Library/Frameworks/Python.framework/Versions/3.8/lib/python3.8/site-packages/pyLDAvis/_prepare.py:192\u001b[0m, in \u001b[0;36m_topic_coordinates\u001b[0;34m(mds, topic_term_dists, topic_proportion, start_index)\u001b[0m\n\u001b[1;32m    190\u001b[0m \u001b[38;5;28;01mdef\u001b[39;00m \u001b[38;5;21m_topic_coordinates\u001b[39m(mds, topic_term_dists, topic_proportion, start_index\u001b[38;5;241m=\u001b[39m\u001b[38;5;241m1\u001b[39m):\n\u001b[1;32m    191\u001b[0m     K \u001b[38;5;241m=\u001b[39m topic_term_dists\u001b[38;5;241m.\u001b[39mshape[\u001b[38;5;241m0\u001b[39m]\n\u001b[0;32m--> 192\u001b[0m     mds_res \u001b[38;5;241m=\u001b[39m \u001b[43mmds\u001b[49m\u001b[43m(\u001b[49m\u001b[43mtopic_term_dists\u001b[49m\u001b[43m)\u001b[49m\n\u001b[1;32m    193\u001b[0m     \u001b[38;5;28;01massert\u001b[39;00m mds_res\u001b[38;5;241m.\u001b[39mshape \u001b[38;5;241m==\u001b[39m (K, \u001b[38;5;241m2\u001b[39m)\n\u001b[1;32m    194\u001b[0m     mds_df \u001b[38;5;241m=\u001b[39m pd\u001b[38;5;241m.\u001b[39mDataFrame({\u001b[38;5;124m'\u001b[39m\u001b[38;5;124mx\u001b[39m\u001b[38;5;124m'\u001b[39m: mds_res[:, \u001b[38;5;241m0\u001b[39m], \u001b[38;5;124m'\u001b[39m\u001b[38;5;124my\u001b[39m\u001b[38;5;124m'\u001b[39m: mds_res[:, \u001b[38;5;241m1\u001b[39m],\n\u001b[1;32m    195\u001b[0m                            \u001b[38;5;124m'\u001b[39m\u001b[38;5;124mtopics\u001b[39m\u001b[38;5;124m'\u001b[39m: \u001b[38;5;28mrange\u001b[39m(start_index, K \u001b[38;5;241m+\u001b[39m start_index),\n\u001b[1;32m    196\u001b[0m                            \u001b[38;5;124m'\u001b[39m\u001b[38;5;124mcluster\u001b[39m\u001b[38;5;124m'\u001b[39m: \u001b[38;5;241m1\u001b[39m, \u001b[38;5;124m'\u001b[39m\u001b[38;5;124mFreq\u001b[39m\u001b[38;5;124m'\u001b[39m: topic_proportion \u001b[38;5;241m*\u001b[39m \u001b[38;5;241m100\u001b[39m})\n",
      "File \u001b[0;32m/Library/Frameworks/Python.framework/Versions/3.8/lib/python3.8/site-packages/pyLDAvis/_prepare.py:167\u001b[0m, in \u001b[0;36mjs_TSNE\u001b[0;34m(distributions, **kwargs)\u001b[0m\n\u001b[1;32m    165\u001b[0m dist_matrix \u001b[38;5;241m=\u001b[39m squareform(pdist(distributions, metric\u001b[38;5;241m=\u001b[39m_jensen_shannon))\n\u001b[1;32m    166\u001b[0m model \u001b[38;5;241m=\u001b[39m TSNE(n_components\u001b[38;5;241m=\u001b[39m\u001b[38;5;241m2\u001b[39m, random_state\u001b[38;5;241m=\u001b[39m\u001b[38;5;241m0\u001b[39m, metric\u001b[38;5;241m=\u001b[39m\u001b[38;5;124m'\u001b[39m\u001b[38;5;124mprecomputed\u001b[39m\u001b[38;5;124m'\u001b[39m, \u001b[38;5;241m*\u001b[39m\u001b[38;5;241m*\u001b[39mkwargs)\n\u001b[0;32m--> 167\u001b[0m \u001b[38;5;28;01mreturn\u001b[39;00m \u001b[43mmodel\u001b[49m\u001b[38;5;241;43m.\u001b[39;49m\u001b[43mfit_transform\u001b[49m\u001b[43m(\u001b[49m\u001b[43mdist_matrix\u001b[49m\u001b[43m)\u001b[49m\n",
      "File \u001b[0;32m/Library/Frameworks/Python.framework/Versions/3.8/lib/python3.8/site-packages/sklearn/manifold/_t_sne.py:1122\u001b[0m, in \u001b[0;36mTSNE.fit_transform\u001b[0;34m(self, X, y)\u001b[0m\n\u001b[1;32m   1102\u001b[0m \u001b[38;5;28;01mdef\u001b[39;00m \u001b[38;5;21mfit_transform\u001b[39m(\u001b[38;5;28mself\u001b[39m, X, y\u001b[38;5;241m=\u001b[39m\u001b[38;5;28;01mNone\u001b[39;00m):\n\u001b[1;32m   1103\u001b[0m     \u001b[38;5;124m\"\"\"Fit X into an embedded space and return that transformed output.\u001b[39m\n\u001b[1;32m   1104\u001b[0m \n\u001b[1;32m   1105\u001b[0m \u001b[38;5;124m    Parameters\u001b[39m\n\u001b[0;32m   (...)\u001b[0m\n\u001b[1;32m   1120\u001b[0m \u001b[38;5;124m        Embedding of the training data in low-dimensional space.\u001b[39m\n\u001b[1;32m   1121\u001b[0m \u001b[38;5;124m    \"\"\"\u001b[39m\n\u001b[0;32m-> 1122\u001b[0m     \u001b[38;5;28;43mself\u001b[39;49m\u001b[38;5;241;43m.\u001b[39;49m\u001b[43m_check_params_vs_input\u001b[49m\u001b[43m(\u001b[49m\u001b[43mX\u001b[49m\u001b[43m)\u001b[49m\n\u001b[1;32m   1123\u001b[0m     embedding \u001b[38;5;241m=\u001b[39m \u001b[38;5;28mself\u001b[39m\u001b[38;5;241m.\u001b[39m_fit(X)\n\u001b[1;32m   1124\u001b[0m     \u001b[38;5;28mself\u001b[39m\u001b[38;5;241m.\u001b[39membedding_ \u001b[38;5;241m=\u001b[39m embedding\n",
      "File \u001b[0;32m/Library/Frameworks/Python.framework/Versions/3.8/lib/python3.8/site-packages/sklearn/manifold/_t_sne.py:793\u001b[0m, in \u001b[0;36mTSNE._check_params_vs_input\u001b[0;34m(self, X)\u001b[0m\n\u001b[1;32m    791\u001b[0m \u001b[38;5;28;01mdef\u001b[39;00m \u001b[38;5;21m_check_params_vs_input\u001b[39m(\u001b[38;5;28mself\u001b[39m, X):\n\u001b[1;32m    792\u001b[0m     \u001b[38;5;28;01mif\u001b[39;00m \u001b[38;5;28mself\u001b[39m\u001b[38;5;241m.\u001b[39mperplexity \u001b[38;5;241m>\u001b[39m\u001b[38;5;241m=\u001b[39m X\u001b[38;5;241m.\u001b[39mshape[\u001b[38;5;241m0\u001b[39m]:\n\u001b[0;32m--> 793\u001b[0m         \u001b[38;5;28;01mraise\u001b[39;00m \u001b[38;5;167;01mValueError\u001b[39;00m(\u001b[38;5;124m\"\u001b[39m\u001b[38;5;124mperplexity must be less than n_samples\u001b[39m\u001b[38;5;124m\"\u001b[39m)\n",
      "\u001b[0;31mValueError\u001b[0m: perplexity must be less than n_samples"
     ]
    }
   ],
   "source": [
    "import pyLDAvis\n",
    "import pyLDAvis.sklearn\n",
    "\n",
    "pyLDAvis.enable_notebook()\n",
    "vis_data1 = pyLDAvis.sklearn.prepare(LDAmodel1, vec1, vectorizer1, mds='tsne')#The output approximates the distance between topics.\n",
    "pyLDAvis.display(vis_data1)"
   ]
  },
  {
   "cell_type": "code",
   "execution_count": 28,
   "metadata": {},
   "outputs": [
    {
     "ename": "AssertionError",
     "evalue": "Term frequencies and vocabulary are of different sizes, 1525 != 1723.",
     "output_type": "error",
     "traceback": [
      "\u001b[0;31m---------------------------------------------------------------------------\u001b[0m",
      "\u001b[0;31mAssertionError\u001b[0m                            Traceback (most recent call last)",
      "Cell \u001b[0;32mIn [28], line 5\u001b[0m\n\u001b[1;32m      1\u001b[0m \u001b[38;5;66m# build the Intertopic Distance Map using LDAmodel2\u001b[39m\n\u001b[1;32m      2\u001b[0m \u001b[38;5;66m# will generate an error\u001b[39m\n\u001b[1;32m      3\u001b[0m \u001b[38;5;66m# AssertionError: Term frequencies and vocabulary are of different sizes, 1527 != 1725.\u001b[39m\n\u001b[1;32m      4\u001b[0m pyLDAvis\u001b[38;5;241m.\u001b[39menable_notebook()\n\u001b[0;32m----> 5\u001b[0m vis_data2 \u001b[38;5;241m=\u001b[39m pyLDAvis\u001b[38;5;241m.\u001b[39msklearn\u001b[38;5;241m.\u001b[39mprepare(LDAmodel2, vec2, vectorizer2, mds\u001b[38;5;241m=\u001b[39m\u001b[38;5;124m'\u001b[39m\u001b[38;5;124mtsne\u001b[39m\u001b[38;5;124m'\u001b[39m)\u001b[38;5;66m#The output approximates the distance between topics.\u001b[39m\n\u001b[1;32m      6\u001b[0m pyLDAvis\u001b[38;5;241m.\u001b[39mdisplay(vis_data2)\n",
      "File \u001b[0;32m/Library/Frameworks/Python.framework/Versions/3.8/lib/python3.8/site-packages/pyLDAvis/sklearn.py:94\u001b[0m, in \u001b[0;36mprepare\u001b[0;34m(lda_model, dtm, vectorizer, **kwargs)\u001b[0m\n\u001b[1;32m     62\u001b[0m \u001b[39mdef\u001b[39;00m \u001b[39mprepare\u001b[39m(lda_model, dtm, vectorizer, \u001b[39m*\u001b[39m\u001b[39m*\u001b[39mkwargs):\n\u001b[1;32m     63\u001b[0m     \u001b[39m\"\"\"Create Prepared Data from sklearn's LatentDirichletAllocation and CountVectorizer.\u001b[39m\n\u001b[1;32m     64\u001b[0m \n\u001b[1;32m     65\u001b[0m \u001b[39m    Parameters\u001b[39m\n\u001b[0;32m   (...)\u001b[0m\n\u001b[1;32m     92\u001b[0m \u001b[39m    See `pyLDAvis.prepare` for **kwargs.\u001b[39m\n\u001b[1;32m     93\u001b[0m \u001b[39m    \"\"\"\u001b[39m\n\u001b[0;32m---> 94\u001b[0m     opts \u001b[39m=\u001b[39m fp\u001b[39m.\u001b[39mmerge(_extract_data(lda_model, dtm, vectorizer), kwargs)\n\u001b[1;32m     95\u001b[0m     \u001b[39mreturn\u001b[39;00m pyLDAvis\u001b[39m.\u001b[39mprepare(\u001b[39m*\u001b[39m\u001b[39m*\u001b[39mopts)\n",
      "File \u001b[0;32m/Library/Frameworks/Python.framework/Versions/3.8/lib/python3.8/site-packages/pyLDAvis/sklearn.py:45\u001b[0m, in \u001b[0;36m_extract_data\u001b[0;34m(lda_model, dtm, vectorizer)\u001b[0m\n\u001b[1;32m     41\u001b[0m topic_term_dists \u001b[39m=\u001b[39m _get_topic_term_dists(lda_model)\n\u001b[1;32m     42\u001b[0m err_msg \u001b[39m=\u001b[39m (\u001b[39m'\u001b[39m\u001b[39mTopic-term distributions and document-term matrix\u001b[39m\u001b[39m'\u001b[39m\n\u001b[1;32m     43\u001b[0m            \u001b[39m'\u001b[39m\u001b[39mhave different number of columns, \u001b[39m\u001b[39m{}\u001b[39;00m\u001b[39m != \u001b[39m\u001b[39m{}\u001b[39;00m\u001b[39m.\u001b[39m\u001b[39m'\u001b[39m)\n\u001b[0;32m---> 45\u001b[0m \u001b[39massert\u001b[39;00m term_freqs\u001b[39m.\u001b[39mshape[\u001b[39m0\u001b[39m] \u001b[39m==\u001b[39m \u001b[39mlen\u001b[39m(vocab), \\\n\u001b[1;32m     46\u001b[0m     (\u001b[39m'\u001b[39m\u001b[39mTerm frequencies and vocabulary are of different sizes, \u001b[39m\u001b[39m{}\u001b[39;00m\u001b[39m != \u001b[39m\u001b[39m{}\u001b[39;00m\u001b[39m.\u001b[39m\u001b[39m'\u001b[39m\n\u001b[1;32m     47\u001b[0m      \u001b[39m.\u001b[39mformat(term_freqs\u001b[39m.\u001b[39mshape[\u001b[39m0\u001b[39m], \u001b[39mlen\u001b[39m(vocab)))\n\u001b[1;32m     49\u001b[0m \u001b[39massert\u001b[39;00m topic_term_dists\u001b[39m.\u001b[39mshape[\u001b[39m1\u001b[39m] \u001b[39m==\u001b[39m dtm\u001b[39m.\u001b[39mshape[\u001b[39m1\u001b[39m], \\\n\u001b[1;32m     50\u001b[0m     (err_msg\u001b[39m.\u001b[39mformat(topic_term_dists\u001b[39m.\u001b[39mshape[\u001b[39m1\u001b[39m], \u001b[39mlen\u001b[39m(vocab)))\n\u001b[1;32m     52\u001b[0m \u001b[39m# column dimensions of document-term matrix and topic-term distributions\u001b[39m\n\u001b[1;32m     53\u001b[0m \u001b[39m# must match first before transforming to document-topic distributions\u001b[39m\n",
      "\u001b[0;31mAssertionError\u001b[0m: Term frequencies and vocabulary are of different sizes, 1525 != 1723."
     ]
    }
   ],
   "source": [
    "# build the Intertopic Distance Map using LDAmodel2\n",
    "# will generate an error\n",
    "# AssertionError: Term frequencies and vocabulary are of different sizes, 1527 != 1725.\n",
    "pyLDAvis.enable_notebook()\n",
    "vis_data2 = pyLDAvis.sklearn.prepare(LDAmodel2, vec2, vectorizer2, mds='tsne')#The output approximates the distance between topics.\n",
    "pyLDAvis.display(vis_data2)"
   ]
  },
  {
   "cell_type": "code",
   "execution_count": null,
   "metadata": {},
   "outputs": [
    {
     "data": {
      "text/html": [
       "\n",
       "<link rel=\"stylesheet\" type=\"text/css\" href=\"https://cdn.jsdelivr.net/gh/bmabey/pyLDAvis@3.3.1/pyLDAvis/js/ldavis.v1.0.0.css\">\n",
       "\n",
       "\n",
       "<div id=\"ldavis_el144426326315083207696359488\"></div>\n",
       "<script type=\"text/javascript\">\n",
       "\n",
       "var ldavis_el144426326315083207696359488_data = {\"mdsDat\": {\"x\": [32.42095184326172, 0.648955225944519, 71.01968383789062, 3.7859814167022705, -42.666500091552734, -3.6216893196105957, -3.632401704788208, -36.58440017700195, 44.391380310058594, 40.235809326171875], \"y\": [8.115229606628418, 71.70709991455078, 9.971006393432617, 33.18513488769531, -9.22206974029541, -43.52651596069336, -4.171707630157471, 35.804412841796875, 50.61538314819336, -31.591665267944336], \"topics\": [1, 2, 3, 4, 5, 6, 7, 8, 9, 10], \"cluster\": [1, 1, 1, 1, 1, 1, 1, 1, 1, 1], \"Freq\": [23.747993648574752, 14.010582648785732, 10.05886416493759, 9.651542557668149, 8.92474947057657, 8.639181464149194, 7.510998636712278, 6.534951884320071, 5.705361127068532, 5.215774397207137]}, \"tinfo\": {\"Term\": [\"occupydemocrats\", \"president\", \"federal\", \"biden\", \"trump\", \"resources\", \"breaking\", \"politics\", \"storm\", \"florida\", \"people\", \"cuba\", \"family\", \"charliecrist\", \"prayers\", \"track\", \"thoughts\", \"news\", \"nasa\", \"karla\", \"landf\", \"tampa\", \"course\", \"asteroid\", \"desantis\", \"surge\", \"boo\", \"governor\", \"latest\", \"emergency\", \"storm\", \"surge\", \"winds\", \"category\", \"national\", \"warning\", \"mph\", \"tropical\", \"life\", \"threatening\", \"abc\", \"heavy\", \"key\", \"watches\", \"force\", \"center\", \"nhc_atlantic\", \"messages\", \"powers\", \"et\", \"weaken\", \"current\", \"nhc_surge\", \"disaster\", \"wes\", \"planning\", \"kirstiealley\", \"makeianweak\", \"wild\", \"council\", \"bay\", \"strength\", \"gulf\", \"worst\", \"coast\", \"warnings\", \"western\", \"govrondesantis\", \"florida\", \"tampa\", \"risk\", \"west\", \"hurricaneian\", \"cuba\", \"major\", \"way\", \"governor\", \"area\", \"president\", \"occupydemocrats\", \"federal\", \"resources\", \"politics\", \"trump\", \"biden\", \"proud\", \"breaking\", \"extracurricular\", \"ocpsnews\", \"extended\", \"coordination\", \"active\", \"pbcsd\", \"hurrican\", \"managers\", \"youre\", \"work\", \"assignment\", \"weatherjamaica\", \"thu\", \"cali_n8vgrl\", \"tolls\", \"carolsplace\", \"boca\", \"slate\", \"screw\", \"amazon\", \"rockymntnmike\", \"school\", \"wed\", \"tomorrow\", \"activities\", \"day\", \"update\", \"district\", \"amp\", \"hurricaneian\", \"emergency\", \"state\", \"local\", \"panic\", \"tennessee\", \"pl\", \"impact\", \"middle\", \"intermediate\", \"chiefs\", \"advisory\", \"nfl\", \"idea\", \"roads\", \"tpa\", \"east\", \"buildings\", \"flat\", \"infrastructure\", \"jeffdarlington\", \"unable\", \"unlikely\", \"thread\", \"mandatory\", \"things\", \"bucs\", \"bblock29\", \"desa\", \"freedom\", \"weekend\", \"models\", \"trend\", \"mattdevittwink\", \"bryanwx\", \"biggest\", \"evacuations\", \"eastern\", \"gov\", \"area\", \"sunday\", \"west\", \"sea\", \"major\", \"game\", \"coast\", \"monday\", \"forecast\", \"tampa\", \"amp\", \"florida\", \"way\", \"nhc\", \"track\", \"latest\", \"big\", \"walt\", \"disney\", \"perspective\", \"smosh\", \"entirety\", \"ironik0422\", \"satellite\", \"stuostro\", \"announces\", \"select\", \"storms\", \"tropicalupdate\", \"marcweinbergwx\", \"recon\", \"mb\", \"changes\", \"operational\", \"heads\", \"dont\", \"hurric\", \"intensifying\", \"closure\", \"jimmypatronis\", \"actor\", \"betwe\", \"fraudsters\", \"rain\", \"georgia\", \"new\", \"image\", \"classic\", \"world\", \"caribbean\", \"look\", \"afternoon\", \"hotels\", \"today\", \"eye\", \"week\", \"florida\", \"dangerous\", \"pinellas\", \"people\", \"prayers\", \"family\", \"thoughts\", \"karla\", \"landf\", \"asteroid\", \"course\", \"boo\", \"pet\", \"permanent\", \"marker\", \"namwella1961\", \"madteamichelle\", \"reservation\", \"park\", \"half\", \"presenters\", \"lauraadderley\", \"helpless\", \"sep\", \"hufflebloom\", \"webs\", \"charliecrist\", \"strong\", \"golf\", \"delivers\", \"number\", \"phone\", \"impacts\", \"cuba\", \"ron\", \"path\", \"direct\", \"floridas\", \"desantis\", \"western\", \"major\", \"news\", \"house\", \"looming\", \"adamschefter\", \"thehill\", \"hurricanecenter\", \"anacabrera\", \"classes\", \"white\", \"friday\", \"buccaneers\", \"bringin\", \"mdcps\", \"tuesday\", \"dade\", \"great\", \"daniellebreezy\", \"fsu\", \"officials\", \"wsvn\", \"broward\", \"public\", \"isnt\", \"idk\", \"stephisham12\", \"merch\", \"secretary\", \"processes\", \"issues\", \"procurement\", \"declaration\", \"thank\", \"week\", \"response\", \"afternoon\", \"scenario\", \"tampa\", \"night\", \"school\", \"director\", \"miami\", \"wind\", \"case\", \"worst\", \"desantis\", \"forecast\", \"landfall\", \"politics\", \"way\", \"effect\", \"manatee\", \"flsert\", \"est\", \"mon\", \"tomaskenn\", \"hillsborough\", \"severe\", \"panhandle\", \"outlook\", \"radaromega\", \"dod\", \"dailycaller\", \"servicemen\", \"regardless\", \"women\", \"orangecofl\", \"sarasota\", \"ocflmayor\", \"session\", \"counties\", \"hospital\", \"jessicam6946\", \"pinellas\", \"thefineauthor_\", \"ppp\", \"paulinavo_ces\", \"tue\", \"teachers\", \"students\", \"amp\", \"days\", \"hours\", \"unvaccinated\", \"miami\", \"ar\", \"state\", \"look\", \"rainfall\", \"warnings\", \"florida\", \"weather\", \"cuba\", \"emergency\", \"response\", \"nasa\", \"funds\", \"joe\", \"nousefortrump\", \"request\", \"artemis\", \"sls\", \"lorengrush\", \"news\", \"good\", \"bad\", \"straight\", \"rocket\", \"power\", \"buffalo\", \"emergency\", \"head\", \"undefeated\", \"giants\", \"moon\", \"alerts\", \"pb\", \"proof\", \"kolonehusky\", \"dasani\", \"imperative\", \"thousands\", \"jails\", \"finsup\", \"zap\", \"fans\", \"im\", \"lunaticlarry3\", \"florida\", \"biden\", \"floridians\", \"amp\", \"phone\", \"path\", \"update\", \"plan\", \"mar\", \"authorities\", \"lago\", \"sharpie\", \"just\", \"nothoodlum\", \"hey\", \"vengolor\", \"homeless\", \"disabled\", \"ther\", \"staying\", \"repeat\", \"dear\", \"doggintrump\", \"decade\", \"aaronparnas\", \"meteorologist\", \"brace\", \"property\", \"keeps\", \"horse\", \"welbournestud\", \"uncertain\", \"prepared\", \"owners\", \"awful\", \"fiona\", \"canada\", \"local\", \"ians\", \"hurricanes\", \"florida\", \"charliecrist\", \"path\", \"trump\", \"marthas\", \"vineyard\", \"doc_chimpanzee\", \"crypto\", \"safe\", \"sundaedivine\", \"citizens\", \"registry\", \"maps\", \"shelter\", \"pre\", \"visit\", \"register\", \"air\", \"needs\", \"healthyfla\", \"mt\", \"vs\", \"shs\", \"zion\", \"pets\", \"sports_med_shs\", \"wildlife\", \"son\", \"recording\", \"livestream\", \"nights\", \"desantis\", \"robertson\", \"tom\", \"governor\", \"fl\", \"ron\", \"breaking\", \"stay\", \"special\", \"game\", \"update\", \"thursday\", \"god\", \"florida\", \"tampa\", \"path\", \"weather\", \"google\", \"mollyhereandnow\"], \"Freq\": [86.0, 85.0, 83.0, 101.0, 94.0, 80.0, 100.0, 90.0, 93.0, 137.0, 39.0, 64.0, 34.0, 45.0, 32.0, 34.0, 30.0, 29.0, 26.0, 30.0, 30.0, 69.0, 26.0, 26.0, 32.0, 49.0, 26.0, 26.0, 27.0, 25.0, 92.9277067280989, 48.506097393873304, 24.266487275646142, 23.104829199024838, 19.06524013679516, 16.615645509167347, 14.060480018065338, 14.01298838797425, 11.826338934709964, 11.826790096622652, 10.828849528376443, 9.990021581868648, 9.17028508566523, 9.144384157690496, 9.98422207281009, 15.312666298748876, 8.21285860393475, 7.469471978750481, 7.478852230194101, 7.5009210254422465, 7.209127609607129, 14.217981128278442, 6.908360154493835, 12.49486668675464, 6.725000934107639, 7.007803825722888, 6.35641182854601, 6.36238563480972, 6.329183205747094, 6.324003419870679, 26.316670886917564, 11.93279180735734, 19.086976295322742, 20.52900023282741, 23.921853365326005, 22.62068654099657, 13.991098821161799, 11.970399416754013, 66.54968543425207, 38.02817804222749, 10.815690448753156, 17.13274657832896, 12.568815894161446, 18.430724469211487, 12.786918957053034, 11.46769218882766, 11.892863376182863, 11.041731117534859, 84.59264444160456, 85.33991450695501, 82.60962640479836, 80.00010637716888, 83.74097880720048, 87.0973527731076, 86.69825766181708, 3.847491975000845, 81.62191172655606, 3.2257217693416553, 3.22981672478422, 3.2305541250001975, 2.709371508974132, 2.7099071161462605, 2.7075351643061696, 2.710519997660059, 2.70741096687155, 3.8440790937022533, 1.9343191551452175, 1.9318744457829857, 1.9323951489358344, 3.2257296526855557, 1.6827853893925349, 1.6755105018974241, 1.6741059061304573, 1.642719229570271, 1.5451468393089458, 1.4971583409665674, 1.1868096004770776, 1.190336184293047, 8.506536928869476, 3.224807729707862, 4.654157396144046, 3.2231110665372777, 3.228144160028234, 6.5777087669151, 2.708739986398053, 4.694162505707257, 3.8650867812198357, 3.468928600570191, 2.7093970311760693, 2.7090036386038823, 9.16632932601627, 9.16411314715218, 9.164387788183182, 10.357192640663191, 9.16597193443249, 8.115292702256824, 7.54779630714169, 10.250786122520635, 6.131830568838766, 4.5391952359700705, 4.535681401954197, 4.535929237023695, 4.595543396130541, 4.533282656744653, 4.532131987363111, 4.5359845382434765, 4.294715462891475, 4.293926886279014, 4.293517691855715, 4.295360448318712, 6.069541280245394, 3.3058814150244493, 6.128730323535261, 3.1002543067261388, 3.0975703461761843, 3.1008807642942418, 2.6357711542596083, 2.560682466720101, 2.4815975531565493, 2.483387353862765, 4.534642719599767, 2.654615593536677, 6.750614176896407, 4.036581693208015, 3.7938212635348876, 12.290767560599805, 5.061397961681248, 9.261766916640795, 5.216077972727167, 7.630854124972773, 4.7043958107485855, 5.705191791415342, 4.990450989311726, 4.9256356342005825, 5.489981961964407, 4.973636067888654, 5.02119744332235, 4.668426302856174, 13.64925527037, 32.43619654278745, 25.085290773328097, 9.064443564691599, 5.510766733897981, 5.514228372702632, 5.214939505620769, 4.477164407864197, 4.476704426497038, 4.4771215320023705, 11.748169709204236, 3.6370944743702087, 3.3901075216375793, 3.388929912638377, 3.6753246906220607, 17.11344756799519, 3.0985408218170014, 3.0959281349851526, 3.097579901729961, 2.977699114443215, 2.974526263297108, 2.9374219594848734, 2.909167288499893, 2.606863475697107, 4.993691849860008, 2.3606109665317945, 2.2396113018077295, 2.2455235084503467, 2.243023799756543, 2.2429657636796954, 7.773617135510501, 3.592933434637923, 12.311880870011926, 5.262133324431993, 3.6337643219332976, 5.507921689305412, 6.441980424415316, 6.023662295968138, 7.058205878747349, 3.3886650075427442, 4.867487603091295, 3.8614201523878657, 5.813317366271135, 8.570535856619765, 3.8751154219590243, 3.7149931881568934, 38.98755424138816, 31.771875842196266, 33.6249612341216, 29.967371188301904, 29.278381800739638, 29.27763325304003, 25.943443154759755, 25.97017343184525, 25.25351472895728, 4.488683813534917, 4.489749592248759, 4.4897435818819815, 2.4754559380438512, 2.311446848647404, 2.313096507545309, 2.3104796215416514, 2.209171926634741, 2.2064659475964423, 2.2065807278632925, 1.6178030994778614, 1.614051162440463, 1.618267975662967, 1.6147359026501222, 29.274529122810083, 1.5560631581010058, 3.1849054027400987, 2.473583862752296, 4.490021841111587, 4.501669537350538, 5.988301083441515, 34.102477121442256, 4.542813420171469, 6.993151893034734, 2.940133865897638, 2.978400064757753, 4.356495870255102, 3.508425456911146, 3.3774872028578398, 2.8695924203107306, 10.70794814996569, 9.593011965617906, 8.820763917504523, 6.230121574789283, 4.55846452845778, 4.555579165661801, 4.052454190145332, 7.585636662642135, 11.210711374895535, 11.657065398991225, 3.9489606540885016, 3.196385742898695, 15.484245869052007, 3.123688387492279, 3.1735562507038444, 4.458873126477004, 2.544042195337625, 4.384911886010191, 2.3496058949421954, 2.3523651550027447, 2.3459575788995344, 2.1569594050159586, 2.1587201170488095, 2.1632039697738064, 2.1624573230904938, 3.3449078732170703, 2.1138566040871147, 2.1139023871928395, 2.1022065471577043, 2.101056729789953, 3.2739779915578686, 18.566095252174048, 6.137900995921583, 9.834394919853109, 4.559362994633923, 22.563760798682075, 5.940391047383896, 5.975775950568459, 4.5564301219731265, 5.259148741126285, 3.961666641215679, 5.2152315923809365, 5.213847501754274, 5.453360846579215, 4.552931503176493, 4.317424271132156, 5.453479775613341, 4.107095221806921, 8.729343620770392, 7.744111410150943, 7.743910866840474, 7.745246363643038, 8.040740517568548, 4.968628589714481, 7.7447671602439225, 3.7966727959125195, 3.7972355727414513, 3.79777137956454, 3.6609794666326145, 3.2045529580252095, 3.2096366400283878, 3.2027746282482883, 3.2053836165206193, 3.2059254634912917, 3.041197062011851, 7.743742479795021, 2.2791090753312866, 2.186638696863206, 7.744949425144735, 2.0807465076453524, 1.7768994293149813, 8.410954444800664, 1.5941097640455064, 1.590100992630754, 1.5432740937274465, 1.5627041174177223, 1.5394671125546102, 1.5430724627199994, 16.12452891797772, 6.889816004809318, 4.946546004776361, 3.2066164071049252, 6.617418248245136, 3.0171180131904336, 5.893031809211973, 4.445351447236886, 4.968477584534161, 7.74503400398796, 13.899230517742268, 4.341880510405744, 8.036684753057479, 3.7786936283116717, 3.2083651284204118, 25.483265370519472, 15.238241722714815, 13.963558685662964, 13.317567548711823, 13.31752837134377, 12.094894805839086, 11.3548242016353, 11.358215175973559, 25.68008453678651, 14.006040167297039, 12.044773401516423, 2.792943105983845, 2.237922171017065, 2.1273801322182058, 2.0318200824745554, 17.736823942817114, 1.827341873899541, 1.8222835439171574, 1.6215040776888072, 1.5029972265326663, 1.4700186190559212, 1.4698956281984799, 1.4317244267425198, 1.4305578050768508, 1.434185321328267, 1.429724157700143, 1.335536362379927, 1.0662510674735928, 1.058612361387027, 1.060728020841918, 1.8263422595255558, 2.2069775413864496, 1.4713082520412322, 19.380865724715452, 13.316389411060499, 3.327626199902594, 4.572195528554524, 2.4351123489788784, 1.819400153949033, 1.8252597494939005, 11.608238941280447, 11.247461837962295, 11.739459012624335, 10.023090033915453, 6.624784625485904, 8.393739726701764, 6.018685299894055, 4.928846117398581, 4.388040923882562, 4.388006681451211, 4.3857908901404254, 4.390676182737422, 4.386800499204804, 4.086203469148441, 4.0903628912945384, 4.087230195842769, 3.5887058446491924, 3.5886828051268393, 3.5903792677735824, 2.1530794628754846, 2.144157079366541, 2.088430967195342, 2.063166143048724, 2.062315870442548, 2.086677136909058, 2.063236515850558, 2.063414295611931, 2.066053097306099, 1.844873163080254, 1.8374768052300043, 11.113068461753166, 3.831504419457921, 5.7639006854098955, 19.71586841389497, 10.20914750053636, 4.474997474726551, 6.639821849830804, 14.240362349242927, 14.242292077851936, 12.835239854068403, 2.503822894172751, 8.405366452951647, 1.490788245253207, 1.4863040187128376, 1.4107445125264504, 1.4328764155933407, 1.4127603347634088, 1.4123471268581864, 1.407488327562237, 1.4095403296470974, 1.402924186826962, 1.4079898642632296, 1.4106815611782835, 1.3638790897330082, 1.367279198918178, 1.3639640972576887, 1.361109277264553, 1.3627023809456296, 1.3603428793483454, 1.36087079945002, 1.3407511492568045, 1.2958159067302948, 1.2971819824122814, 1.293063304596302, 18.72529350322959, 1.0116743891004136, 1.0106871349856488, 14.145017902722424, 3.7070386720977866, 4.026756781854948, 13.551141842768198, 3.077933820259445, 2.109198665027549, 2.61641392648048, 4.064623581068748, 2.619235460771071, 1.6086644303470172, 3.86159481196661, 2.877673095312368, 2.0405123527581113, 1.854810439089061, 1.433417669415404, 1.4310198983797824], \"Total\": [86.0, 85.0, 83.0, 101.0, 94.0, 80.0, 100.0, 90.0, 93.0, 137.0, 39.0, 64.0, 34.0, 45.0, 32.0, 34.0, 30.0, 29.0, 26.0, 30.0, 30.0, 69.0, 26.0, 26.0, 32.0, 49.0, 26.0, 26.0, 27.0, 25.0, 93.85592646900785, 49.37159256114832, 25.123537991638926, 23.97792990050903, 19.94298523623299, 17.50343092041572, 14.91022202359547, 14.895127371262884, 12.666887951763659, 12.670726145593996, 11.68426371075489, 10.87978390500413, 10.016091877801358, 9.99753249599812, 10.946358221246633, 16.902971561168165, 9.067680786035796, 8.313529084148154, 8.332887257732319, 8.359146910444808, 8.059395400083424, 15.918486789053796, 7.748830870650132, 14.041633249805617, 7.569472793458587, 7.904951536455804, 7.1934735313233915, 7.209056280118397, 7.172905731953532, 7.169298289396325, 32.985698466491314, 14.095183311853924, 23.940273483409605, 26.510641223060393, 31.921531455697718, 31.122677085287446, 18.28989573742389, 15.25722852971862, 137.4486614444609, 69.59688079959437, 13.971701896580292, 27.169460819352, 21.05796986255483, 64.46108181688967, 25.846292942242943, 22.121931722613116, 26.816137466617395, 24.831015483646677, 85.49743260436308, 86.25595255158372, 83.51296391682513, 80.91135998659576, 90.00842277720437, 94.55501507355822, 101.08352134675398, 4.69520562749818, 100.44684682966579, 4.077704298179076, 4.086037261346733, 4.087363407885244, 3.5549483803994404, 3.5602651893275454, 3.5585355284184663, 3.5649087906858306, 3.5613650884906676, 5.515371280736698, 2.777880844129636, 2.7790648774203888, 2.7922304664287108, 4.88094253879279, 2.550156315488835, 2.545399108859195, 2.552083441180486, 2.5175097217513054, 2.3856630914441435, 2.351035016383831, 2.028103321272597, 2.0358444142553505, 15.253117329208852, 5.642505930748646, 9.285881013603243, 6.341127111650714, 7.293929538670213, 23.70879266525275, 5.813161980656918, 30.94018656245144, 21.05796986255483, 25.712409802681563, 13.995519808325236, 18.223257926133538, 10.015876458748325, 10.017681334827486, 10.0197345149197, 11.32578798471738, 10.028208085944673, 9.030203366868506, 8.400836678760294, 11.513427857387487, 6.981450059250816, 5.3871014098673955, 5.3973611153331875, 5.398214773712559, 5.473602964800289, 5.399586125182812, 5.4027435779022674, 5.412724766353179, 5.139899113075806, 5.140253286757183, 5.143814947164191, 5.150240374582568, 7.441292785806826, 4.172650114745837, 7.759838536458235, 3.9473923399383772, 3.9464327391987934, 3.9529514934233116, 3.4916527224339764, 3.4197282504942015, 3.3257918991725157, 3.329286905498358, 6.1115531310832685, 3.5588598980640866, 9.17694273895501, 5.53502056660746, 5.434854589579469, 24.831015483646677, 8.90976529494484, 27.169460819352, 10.097690911403172, 25.846292942242943, 8.97566381082062, 31.921531455697718, 16.076625482417395, 17.2427543454422, 69.59688079959437, 30.94018656245144, 137.4486614444609, 22.121931722613116, 14.522785089834445, 34.84864736373725, 27.53163718840626, 10.011997518671883, 6.359257682794244, 6.368955429170928, 6.070868829930219, 5.330472676769391, 5.334986867200267, 5.336321759214788, 14.366817635369731, 4.494061904034684, 4.238294802620548, 4.24073769006797, 4.609691460400474, 21.683454829816927, 3.948092420034909, 3.94910288213225, 3.9518273189544457, 3.8289003769343166, 3.8272507655134085, 3.7961170627665104, 3.762236093264555, 3.463127053444805, 6.65725201809293, 3.2053642451002418, 3.092174644616489, 3.101635488355761, 3.0985781354395048, 3.101340054450789, 11.238347666241742, 5.048616286867561, 19.019441251621455, 7.686237631143059, 5.193278004925811, 8.423048245064189, 12.124623509131771, 11.22925037735483, 17.655750428350135, 4.895816478374467, 10.633928865824538, 6.8136053822858695, 31.221180492864264, 137.4486614444609, 9.098349412406217, 12.884290083156634, 39.95157287816223, 32.640987078519025, 34.545231139094085, 30.832972857958296, 30.133423782868284, 30.143794496833284, 26.79300441591379, 26.82598186120606, 26.110167677025725, 5.349836178556835, 5.357727159418662, 5.361364453714865, 3.3312416211537434, 3.1612443473936525, 3.16419841094183, 3.1677399268748183, 3.0618267212895613, 3.061522592805185, 3.06192056902511, 2.4662028075633713, 2.4633039108987536, 2.479586770848262, 2.4754966096632085, 45.14884877016039, 2.4226616779632413, 5.069952563750347, 4.056448446775408, 7.479993357292391, 7.702858688601883, 10.29975771098202, 64.46108181688967, 9.683532511884064, 19.618077563068635, 6.023368122272658, 8.365683779932452, 32.43107815431794, 18.28989573742389, 25.846292942242943, 29.325904237295983, 11.59862098166307, 10.444241427650441, 9.671667252665536, 7.082248732764753, 5.406793327161804, 5.415274378345518, 4.9085384961256455, 9.289539068050878, 13.843186943681038, 14.612150063900438, 4.972113856473747, 4.048822784691806, 19.678522817549286, 3.9760255420376973, 4.043684989901326, 5.6897429307320255, 3.3945262308709276, 5.955163164151414, 3.1995804598433923, 3.212872232722482, 3.2128867197779964, 3.0000461880943874, 3.0097415841229305, 3.020235030397055, 3.0216034952116364, 4.678512799194316, 2.984218096832674, 2.987469252266513, 2.9814080967811596, 2.990230796747763, 4.793809361692355, 31.221180492864264, 10.106239307850299, 17.655750428350135, 7.916672911474582, 69.59688079959437, 12.340171428087464, 15.253117329208852, 9.87744239652184, 14.06656559619124, 8.984515502713778, 16.17605511562269, 26.510641223060393, 32.43107815431794, 17.2427543454422, 14.840505518854979, 90.00842277720437, 22.121931722613116, 9.594649467663944, 8.595228360803294, 8.598075056143264, 8.608696290456058, 9.353029026316603, 5.816722555593287, 9.318997579559733, 4.657204109751617, 4.658668943632866, 4.659568765674101, 4.521592968214551, 4.055569182180577, 4.067577566734888, 4.062723484439096, 4.070514951393908, 4.077306768103439, 3.898787403059448, 10.464777063138238, 3.1299212681724313, 3.0390519609921345, 10.855332257387014, 2.942713042875325, 2.6250321090190107, 12.884290083156634, 2.446252867288626, 2.4487159882346043, 2.3910997941541443, 2.4245577975924557, 2.3933337321461847, 2.3999946402542927, 30.94018656245144, 13.130984372700347, 9.289533063409168, 5.765733761651909, 14.06656559619124, 5.715504730267028, 13.995519808325236, 11.22925037735483, 13.751292976081102, 31.122677085287446, 137.4486614444609, 12.227848970462018, 64.46108181688967, 25.712409802681563, 10.106239307850299, 26.345854943453134, 16.124474988160635, 14.843155366371901, 14.175977666292637, 14.183901930671478, 12.956374000084859, 12.216593285517558, 12.227575693947381, 29.325904237295983, 16.235214585481888, 15.71687212360301, 3.667211838306259, 3.1009668855233126, 3.0052193332938124, 2.9029856289571225, 25.712409802681563, 2.6850308403111214, 2.6854972598012337, 2.489738959208634, 2.3606669587111635, 2.336601555830214, 2.33991239968384, 2.2835672147339654, 2.2854906593757853, 2.292563188650471, 2.2884512696711035, 2.206342516882127, 1.9201969788775808, 1.9108607420861692, 1.918455386561338, 3.344296382591461, 5.218996264965721, 3.0513614567593206, 137.4486614444609, 101.08352134675398, 11.604028437946166, 30.94018656245144, 7.702858688601883, 19.618077563068635, 23.70879266525275, 12.474774087863414, 12.110971818568652, 12.689153388461781, 10.891037687740514, 7.516143598235594, 9.523209684998085, 6.883377439367475, 5.8320022489883, 5.246846212497604, 5.252217561583526, 5.250137189644776, 5.257520608493722, 5.261764192904952, 4.937055649363708, 4.956635634184885, 4.953104465288989, 4.453410118560651, 4.454054319807348, 4.464199999479678, 3.024858679247268, 3.013386080956076, 2.941463578830497, 2.9187512739434034, 2.9227417757731153, 2.9581926017405342, 2.928826871659521, 2.9310728737373584, 2.94145385381592, 2.7447864933950026, 2.744413302871631, 18.223257926133538, 6.230950402174974, 12.141161884137764, 137.4486614444609, 45.14884877016039, 19.618077563068635, 94.55501507355822, 15.10271155572318, 15.110851489302949, 13.697730427885052, 3.418335977920512, 11.482919316705964, 2.3482066757162823, 2.351106505246014, 2.2643260709974937, 2.3058209198961186, 2.2781569885940596, 2.279357818146175, 2.2739079530890525, 2.2789931225442057, 2.268915330086651, 2.2772547610118874, 2.2842649604446397, 2.224281851237103, 2.230418030913478, 2.2257684885092694, 2.2228161994873386, 2.2261307642528667, 2.2226675349429708, 2.23073879151753, 2.2036531948007525, 2.179665336640391, 2.182454770940502, 2.1818991941300547, 32.43107815431794, 1.8711261665494843, 1.8693936052785143, 26.816137466617395, 7.669528724273963, 9.683532511884064, 100.44684682966579, 8.869402390732123, 5.574610862470214, 8.97566381082062, 23.70879266525275, 9.863665593892637, 3.3752700628514583, 137.4486614444609, 69.59688079959437, 19.618077563068635, 12.227848970462018, 3.342422250028168, 4.165663069512335], \"Category\": [\"Default\", \"Default\", \"Default\", \"Default\", \"Default\", \"Default\", \"Default\", \"Default\", \"Default\", \"Default\", \"Default\", \"Default\", \"Default\", \"Default\", \"Default\", \"Default\", \"Default\", \"Default\", \"Default\", \"Default\", \"Default\", \"Default\", \"Default\", \"Default\", \"Default\", \"Default\", \"Default\", \"Default\", \"Default\", \"Default\", \"Topic1\", \"Topic1\", \"Topic1\", \"Topic1\", \"Topic1\", \"Topic1\", \"Topic1\", \"Topic1\", \"Topic1\", \"Topic1\", \"Topic1\", \"Topic1\", \"Topic1\", \"Topic1\", \"Topic1\", \"Topic1\", \"Topic1\", \"Topic1\", \"Topic1\", \"Topic1\", \"Topic1\", \"Topic1\", \"Topic1\", \"Topic1\", \"Topic1\", \"Topic1\", \"Topic1\", \"Topic1\", \"Topic1\", \"Topic1\", \"Topic1\", \"Topic1\", \"Topic1\", \"Topic1\", \"Topic1\", \"Topic1\", \"Topic1\", \"Topic1\", \"Topic1\", \"Topic1\", \"Topic1\", \"Topic1\", \"Topic1\", \"Topic1\", \"Topic1\", \"Topic1\", \"Topic1\", \"Topic1\", \"Topic2\", \"Topic2\", \"Topic2\", \"Topic2\", \"Topic2\", \"Topic2\", \"Topic2\", \"Topic2\", \"Topic2\", \"Topic2\", \"Topic2\", \"Topic2\", \"Topic2\", \"Topic2\", \"Topic2\", \"Topic2\", \"Topic2\", \"Topic2\", \"Topic2\", \"Topic2\", \"Topic2\", \"Topic2\", \"Topic2\", \"Topic2\", \"Topic2\", \"Topic2\", \"Topic2\", \"Topic2\", \"Topic2\", \"Topic2\", \"Topic2\", \"Topic2\", \"Topic2\", \"Topic2\", \"Topic2\", \"Topic2\", \"Topic2\", \"Topic2\", \"Topic2\", \"Topic2\", \"Topic2\", \"Topic2\", \"Topic3\", \"Topic3\", \"Topic3\", \"Topic3\", \"Topic3\", \"Topic3\", \"Topic3\", \"Topic3\", \"Topic3\", \"Topic3\", \"Topic3\", \"Topic3\", \"Topic3\", \"Topic3\", \"Topic3\", \"Topic3\", \"Topic3\", \"Topic3\", \"Topic3\", \"Topic3\", \"Topic3\", \"Topic3\", \"Topic3\", \"Topic3\", \"Topic3\", \"Topic3\", \"Topic3\", \"Topic3\", \"Topic3\", \"Topic3\", \"Topic3\", \"Topic3\", \"Topic3\", \"Topic3\", \"Topic3\", \"Topic3\", \"Topic3\", \"Topic3\", \"Topic3\", \"Topic3\", \"Topic3\", \"Topic3\", \"Topic3\", \"Topic3\", \"Topic3\", \"Topic3\", \"Topic3\", \"Topic3\", \"Topic4\", \"Topic4\", \"Topic4\", \"Topic4\", \"Topic4\", \"Topic4\", \"Topic4\", \"Topic4\", \"Topic4\", \"Topic4\", \"Topic4\", \"Topic4\", \"Topic4\", \"Topic4\", \"Topic4\", \"Topic4\", \"Topic4\", \"Topic4\", \"Topic4\", \"Topic4\", \"Topic4\", \"Topic4\", \"Topic4\", \"Topic4\", \"Topic4\", \"Topic4\", \"Topic4\", \"Topic4\", \"Topic4\", \"Topic4\", \"Topic4\", \"Topic4\", \"Topic4\", \"Topic4\", \"Topic4\", \"Topic4\", \"Topic4\", \"Topic4\", \"Topic4\", \"Topic4\", \"Topic4\", \"Topic4\", \"Topic4\", \"Topic4\", \"Topic4\", \"Topic4\", \"Topic5\", \"Topic5\", \"Topic5\", \"Topic5\", \"Topic5\", \"Topic5\", \"Topic5\", \"Topic5\", \"Topic5\", \"Topic5\", \"Topic5\", \"Topic5\", \"Topic5\", \"Topic5\", \"Topic5\", \"Topic5\", \"Topic5\", \"Topic5\", \"Topic5\", \"Topic5\", \"Topic5\", \"Topic5\", \"Topic5\", \"Topic5\", \"Topic5\", \"Topic5\", \"Topic5\", \"Topic5\", \"Topic5\", \"Topic5\", \"Topic5\", \"Topic5\", \"Topic5\", \"Topic5\", \"Topic5\", \"Topic5\", \"Topic5\", \"Topic5\", \"Topic5\", \"Topic6\", \"Topic6\", \"Topic6\", \"Topic6\", \"Topic6\", \"Topic6\", \"Topic6\", \"Topic6\", \"Topic6\", \"Topic6\", \"Topic6\", \"Topic6\", \"Topic6\", \"Topic6\", \"Topic6\", \"Topic6\", \"Topic6\", \"Topic6\", \"Topic6\", \"Topic6\", \"Topic6\", \"Topic6\", \"Topic6\", \"Topic6\", \"Topic6\", \"Topic6\", \"Topic6\", \"Topic6\", \"Topic6\", \"Topic6\", \"Topic6\", \"Topic6\", \"Topic6\", \"Topic6\", \"Topic6\", \"Topic6\", \"Topic6\", \"Topic6\", \"Topic6\", \"Topic6\", \"Topic6\", \"Topic6\", \"Topic6\", \"Topic6\", \"Topic6\", \"Topic6\", \"Topic6\", \"Topic6\", \"Topic7\", \"Topic7\", \"Topic7\", \"Topic7\", \"Topic7\", \"Topic7\", \"Topic7\", \"Topic7\", \"Topic7\", \"Topic7\", \"Topic7\", \"Topic7\", \"Topic7\", \"Topic7\", \"Topic7\", \"Topic7\", \"Topic7\", \"Topic7\", \"Topic7\", \"Topic7\", \"Topic7\", \"Topic7\", \"Topic7\", \"Topic7\", \"Topic7\", \"Topic7\", \"Topic7\", \"Topic7\", \"Topic7\", \"Topic7\", \"Topic7\", \"Topic7\", \"Topic7\", \"Topic7\", \"Topic7\", \"Topic7\", \"Topic7\", \"Topic7\", \"Topic7\", \"Topic7\", \"Topic7\", \"Topic7\", \"Topic7\", \"Topic7\", \"Topic7\", \"Topic8\", \"Topic8\", \"Topic8\", \"Topic8\", \"Topic8\", \"Topic8\", \"Topic8\", \"Topic8\", \"Topic8\", \"Topic8\", \"Topic8\", \"Topic8\", \"Topic8\", \"Topic8\", \"Topic8\", \"Topic8\", \"Topic8\", \"Topic8\", \"Topic8\", \"Topic8\", \"Topic8\", \"Topic8\", \"Topic8\", \"Topic8\", \"Topic8\", \"Topic8\", \"Topic8\", \"Topic8\", \"Topic8\", \"Topic8\", \"Topic8\", \"Topic8\", \"Topic8\", \"Topic8\", \"Topic8\", \"Topic8\", \"Topic8\", \"Topic8\", \"Topic8\", \"Topic8\", \"Topic9\", \"Topic9\", \"Topic9\", \"Topic9\", \"Topic9\", \"Topic9\", \"Topic9\", \"Topic9\", \"Topic9\", \"Topic9\", \"Topic9\", \"Topic9\", \"Topic9\", \"Topic9\", \"Topic9\", \"Topic9\", \"Topic9\", \"Topic9\", \"Topic9\", \"Topic9\", \"Topic9\", \"Topic9\", \"Topic9\", \"Topic9\", \"Topic9\", \"Topic9\", \"Topic9\", \"Topic9\", \"Topic9\", \"Topic9\", \"Topic9\", \"Topic9\", \"Topic9\", \"Topic9\", \"Topic9\", \"Topic9\", \"Topic9\", \"Topic10\", \"Topic10\", \"Topic10\", \"Topic10\", \"Topic10\", \"Topic10\", \"Topic10\", \"Topic10\", \"Topic10\", \"Topic10\", \"Topic10\", \"Topic10\", \"Topic10\", \"Topic10\", \"Topic10\", \"Topic10\", \"Topic10\", \"Topic10\", \"Topic10\", \"Topic10\", \"Topic10\", \"Topic10\", \"Topic10\", \"Topic10\", \"Topic10\", \"Topic10\", \"Topic10\", \"Topic10\", \"Topic10\", \"Topic10\", \"Topic10\", \"Topic10\", \"Topic10\", \"Topic10\", \"Topic10\", \"Topic10\", \"Topic10\", \"Topic10\", \"Topic10\", \"Topic10\", \"Topic10\", \"Topic10\", \"Topic10\", \"Topic10\", \"Topic10\", \"Topic10\"], \"logprob\": [30.0, 29.0, 28.0, 27.0, 26.0, 25.0, 24.0, 23.0, 22.0, 21.0, 20.0, 19.0, 18.0, 17.0, 16.0, 15.0, 14.0, 13.0, 12.0, 11.0, 10.0, 9.0, 8.0, 7.0, 6.0, 5.0, 4.0, 3.0, 2.0, 1.0, -2.9308, -3.5809, -4.2735, -4.3226, -4.5147, -4.6523, -4.8192, -4.8226, -4.9923, -4.9922, -5.0804, -5.161, -5.2466, -5.2495, -5.1616, -4.7339, -5.3569, -5.4518, -5.4505, -5.4476, -5.4873, -4.8081, -5.5299, -4.9373, -5.5568, -5.5156, -5.6131, -5.6122, -5.6174, -5.6183, -4.1924, -4.9833, -4.5136, -4.4408, -4.2878, -4.3437, -4.8242, -4.9802, -3.2647, -3.8243, -5.0816, -4.6216, -4.9314, -4.5486, -4.9142, -5.0231, -4.9867, -5.0609, -2.4971, -2.4883, -2.5208, -2.5529, -2.5072, -2.4679, -2.4725, -5.5875, -2.5328, -5.7638, -5.7625, -5.7623, -5.9382, -5.938, -5.9389, -5.9378, -5.9389, -5.5884, -6.2752, -6.2764, -6.2762, -5.7638, -6.4145, -6.4188, -6.4196, -6.4386, -6.4998, -6.5314, -6.7637, -6.7607, -4.7941, -5.764, -5.3972, -5.7646, -5.763, -5.0512, -5.9384, -5.3886, -5.5829, -5.6911, -5.9382, -5.9383, -4.388, -4.3883, -4.3882, -4.2659, -4.3881, -4.5098, -4.5823, -4.2762, -4.7901, -5.0908, -5.0916, -5.0915, -5.0785, -5.0921, -5.0924, -5.0915, -5.1462, -5.1464, -5.1465, -5.146, -4.8003, -5.4079, -4.7906, -5.4721, -5.4729, -5.4719, -5.6344, -5.6633, -5.6947, -5.6939, -5.0918, -5.6273, -4.6939, -5.2082, -5.2702, -4.0947, -4.9819, -4.3777, -4.9518, -4.5714, -5.0551, -4.8622, -4.996, -5.0091, -4.9006, -4.9994, -4.9899, -5.0627, -3.9485, -3.0829, -3.3399, -4.3579, -4.8555, -4.8549, -4.9107, -5.0632, -5.0633, -5.0632, -4.0985, -5.271, -5.3414, -5.3417, -5.2606, -3.7224, -5.4313, -5.4321, -5.4316, -5.4711, -5.4721, -5.4847, -5.4944, -5.6041, -4.954, -5.7033, -5.7559, -5.7533, -5.7544, -5.7544, -4.5115, -5.2833, -4.0517, -4.9017, -5.272, -4.856, -4.6994, -4.7665, -4.608, -5.3418, -4.9796, -5.2112, -4.8021, -4.4139, -5.2076, -5.2498, -2.8207, -3.0254, -2.9687, -3.0838, -3.1071, -3.1071, -3.228, -3.227, -3.255, -4.9824, -4.9821, -4.9821, -5.5775, -5.6461, -5.6453, -5.6465, -5.6913, -5.6925, -5.6925, -6.0029, -6.0052, -6.0026, -6.0048, -3.1072, -6.0418, -5.3255, -5.5783, -4.9821, -4.9795, -4.6941, -2.9546, -4.9704, -4.539, -5.4055, -5.3925, -5.0123, -5.2288, -5.2668, -5.4298, -4.0804, -4.1904, -4.2743, -4.622, -4.9344, -4.9351, -5.0521, -4.4252, -4.0345, -3.9955, -5.078, -5.2894, -3.7116, -5.3124, -5.2966, -4.9565, -5.5177, -4.9732, -5.5972, -5.596, -5.5987, -5.6827, -5.6819, -5.6798, -5.6802, -5.244, -5.7029, -5.7029, -5.7084, -5.709, -5.2654, -3.5301, -4.6369, -4.1655, -4.9342, -3.3351, -4.6696, -4.6637, -4.9349, -4.7914, -5.0747, -4.7998, -4.8001, -4.7552, -4.9356, -4.9888, -4.7552, -5.0387, -4.1448, -4.2645, -4.2646, -4.2644, -4.227, -4.7083, -4.2645, -4.9773, -4.9772, -4.9771, -5.0137, -5.1469, -5.1453, -5.1475, -5.1466, -5.1465, -5.1992, -4.2646, -5.4877, -5.5291, -4.2644, -5.5787, -5.7366, -4.1819, -5.8452, -5.8477, -5.8776, -5.8651, -5.88, -5.8777, -3.5311, -4.3814, -4.7128, -5.1463, -4.4218, -5.2072, -4.5377, -4.8196, -4.7084, -4.2644, -3.6796, -4.8432, -4.2275, -4.9821, -5.1457, -2.9342, -3.4485, -3.5358, -3.5832, -3.5832, -3.6795, -3.7426, -3.7423, -2.9266, -3.5328, -3.6836, -5.1452, -5.3667, -5.4174, -5.4633, -3.2966, -5.5694, -5.5722, -5.6889, -5.7648, -5.787, -5.7871, -5.8134, -5.8142, -5.8117, -5.8148, -5.8829, -6.1081, -6.1153, -6.1133, -5.57, -5.3806, -5.7861, -3.208, -3.5833, -4.97, -4.6523, -5.2823, -5.5738, -5.5705, -3.5848, -3.6164, -3.5736, -3.7316, -4.1457, -3.909, -4.2416, -4.4414, -4.5576, -4.5576, -4.5581, -4.557, -4.5579, -4.6289, -4.6279, -4.6286, -4.7587, -4.7587, -4.7583, -5.2696, -5.2738, -5.3001, -5.3123, -5.3127, -5.3009, -5.3122, -5.3122, -5.3109, -5.4241, -5.4281, -3.6284, -4.6933, -4.2849, -3.0551, -3.7132, -4.538, -4.1434, -3.2907, -3.2906, -3.3946, -5.029, -3.8179, -5.5475, -5.5505, -5.6027, -5.5871, -5.6012, -5.6015, -5.605, -5.6035, -5.6082, -5.6046, -5.6027, -5.6365, -5.634, -5.6364, -5.6385, -5.6373, -5.6391, -5.6387, -5.6536, -5.6877, -5.6866, -5.6898, -3.0169, -5.9352, -5.9362, -3.2974, -4.6366, -4.5538, -3.3403, -4.8225, -5.2005, -4.985, -4.5445, -4.9839, -5.4714, -4.5957, -4.8898, -5.2336, -5.329, -5.5867, -5.5884], \"loglift\": [30.0, 29.0, 28.0, 27.0, 26.0, 25.0, 24.0, 23.0, 22.0, 21.0, 20.0, 19.0, 18.0, 17.0, 16.0, 15.0, 14.0, 13.0, 12.0, 11.0, 10.0, 9.0, 8.0, 7.0, 6.0, 5.0, 4.0, 3.0, 2.0, 1.0, 1.4277, 1.42, 1.403, 1.4006, 1.3927, 1.3856, 1.379, 1.3766, 1.369, 1.3687, 1.3616, 1.3524, 1.3494, 1.3485, 1.3457, 1.3389, 1.3387, 1.3306, 1.3295, 1.3293, 1.3262, 1.3247, 1.3229, 1.321, 1.3194, 1.3172, 1.314, 1.3127, 1.3125, 1.3122, 1.2118, 1.2711, 1.2111, 1.182, 1.1492, 1.1186, 1.1697, 1.1951, 0.7124, 0.8333, 1.1816, 0.9766, 0.9216, 0.1856, 0.7339, 0.7806, 0.6246, 0.6273, 1.9547, 1.9547, 1.9545, 1.954, 1.8932, 1.8832, 1.8118, 1.7662, 1.7578, 1.731, 1.7302, 1.7301, 1.6937, 1.6924, 1.692, 1.6914, 1.6912, 1.6044, 1.6034, 1.6017, 1.5973, 1.5512, 1.5497, 1.5472, 1.5437, 1.5384, 1.531, 1.5141, 1.4295, 1.4287, 1.3814, 1.4059, 1.2746, 1.2886, 1.1502, 0.6832, 1.2017, 0.0796, 0.2701, -0.0378, 0.3233, 0.0592, 2.2081, 2.2077, 2.2075, 2.2073, 2.2068, 2.1899, 2.1896, 2.1806, 2.167, 2.1255, 2.1228, 2.1227, 2.1219, 2.1218, 2.121, 2.12, 2.1171, 2.1168, 2.116, 2.1152, 2.093, 2.0639, 2.0607, 2.0551, 2.0545, 2.0539, 2.0155, 2.0074, 2.0039, 2.0036, 1.9983, 2.0036, 1.9897, 1.981, 1.9373, 1.5935, 1.7312, 1.2205, 1.6362, 1.0767, 1.6507, 0.5748, 1.1269, 1.0438, -0.2431, 0.4688, -1.0129, 0.741, 2.276, 2.2663, 2.245, 2.2386, 2.1948, 2.1939, 2.1861, 2.1636, 2.1627, 2.1625, 2.1368, 2.1265, 2.1148, 2.1138, 2.1115, 2.1014, 2.0958, 2.0947, 2.0945, 2.0866, 2.086, 2.0816, 2.0809, 2.054, 2.0505, 2.0321, 2.0155, 2.0151, 2.0149, 2.014, 1.9695, 1.9979, 1.9032, 1.9592, 1.981, 1.9133, 1.7057, 1.7152, 1.4212, 1.9701, 1.5566, 1.7702, 0.6571, -0.4369, 1.4845, 1.0944, 2.3919, 2.3894, 2.3893, 2.3879, 2.3876, 2.3872, 2.3841, 2.3839, 2.383, 2.2408, 2.2396, 2.2389, 2.1194, 2.1032, 2.103, 2.1008, 2.0899, 2.0888, 2.0887, 1.9947, 1.9936, 1.9896, 1.9891, 1.9831, 1.9736, 1.9514, 1.9217, 1.906, 1.8792, 1.874, 1.7797, 1.6595, 1.3848, 1.6992, 1.3836, 0.4089, 0.7652, 0.3813, 0.092, 2.369, 2.3638, 2.3568, 2.3207, 2.2782, 2.276, 2.2572, 2.2462, 2.2379, 2.2229, 2.2185, 2.2125, 2.2092, 2.2076, 2.2066, 2.2051, 2.1605, 2.1428, 2.1401, 2.1371, 2.1344, 2.1189, 2.1165, 2.1151, 2.1143, 2.1133, 2.104, 2.103, 2.0995, 2.096, 2.0675, 1.9291, 1.9502, 1.8637, 1.8971, 1.3225, 1.7178, 1.5118, 1.6751, 1.465, 1.63, 1.3169, 0.8226, 0.666, 1.1172, 1.2142, -0.3548, 0.765, 2.4943, 2.4845, 2.4842, 2.4831, 2.4376, 2.4312, 2.4038, 2.3845, 2.3843, 2.3843, 2.3777, 2.3533, 2.3519, 2.351, 2.3499, 2.3484, 2.3404, 2.2877, 2.2716, 2.2596, 2.2512, 2.2422, 2.1986, 2.1623, 2.1606, 2.157, 2.151, 2.1496, 2.1476, 2.1471, 1.9371, 1.9439, 1.9586, 2.0021, 1.8347, 1.9499, 1.7238, 1.6621, 1.5708, 1.1979, 0.2974, 1.5534, 0.5068, 0.6712, 1.4414, 2.6947, 2.6715, 2.6669, 2.6655, 2.665, 2.6592, 2.6549, 2.6543, 2.5952, 2.5803, 2.4619, 2.4557, 2.4018, 2.3825, 2.3712, 2.3567, 2.3432, 2.3402, 2.2992, 2.2765, 2.2646, 2.2631, 2.2611, 2.2595, 2.2589, 2.2576, 2.226, 2.1397, 2.1374, 2.1354, 2.1231, 1.8673, 1.9986, 0.769, 0.7011, 1.4789, 0.8159, 1.5764, 0.3501, 0.1639, 2.7918, 2.7898, 2.786, 2.7807, 2.7375, 2.7375, 2.7295, 2.6955, 2.685, 2.684, 2.6839, 2.6836, 2.6819, 2.6746, 2.6717, 2.6716, 2.6479, 2.6477, 2.6459, 2.5238, 2.5234, 2.5213, 2.5168, 2.5151, 2.5148, 2.5134, 2.5128, 2.5105, 2.4665, 2.4626, 2.3692, 2.3775, 2.1188, 0.9219, 1.3771, 1.3858, 0.2077, 2.8947, 2.8943, 2.8884, 2.6421, 2.6415, 2.4991, 2.4949, 2.4803, 2.4777, 2.4757, 2.4748, 2.4738, 2.473, 2.4727, 2.4727, 2.4715, 2.4644, 2.4641, 2.4638, 2.463, 2.4627, 2.4625, 2.4593, 2.4566, 2.4335, 2.4332, 2.4303, 2.4042, 2.3385, 2.3385, 2.3138, 2.2265, 2.076, 0.9503, 1.8951, 1.9816, 1.7208, 1.19, 1.6275, 2.2124, -0.6187, -0.2323, 0.6902, 1.0675, 2.1068, 1.885]}, \"token.table\": {\"Topic\": [9, 1, 2, 2, 4, 4, 6, 3, 4, 6, 10, 8, 2, 2, 3, 7, 8, 6, 4, 3, 7, 1, 3, 7, 8, 2, 5, 9, 9, 4, 6, 8, 1, 3, 6, 3, 4, 2, 8, 4, 3, 2, 5, 9, 1, 2, 10, 6, 6, 1, 3, 3, 6, 3, 6, 8, 3, 2, 9, 1, 2, 4, 2, 1, 6, 8, 1, 1, 3, 4, 1, 5, 9, 3, 10, 6, 4, 5, 4, 1, 3, 5, 7, 2, 1, 6, 7, 5, 10, 1, 3, 5, 7, 1, 3, 6, 7, 1, 4, 6, 8, 1, 2, 4, 6, 8, 3, 6, 7, 9, 9, 6, 5, 10, 3, 3, 5, 6, 10, 1, 5, 6, 7, 1, 6, 9, 1, 6, 4, 2, 6, 10, 7, 9, 4, 3, 3, 10, 7, 2, 7, 8, 4, 7, 1, 1, 3, 10, 2, 2, 3, 4, 7, 5, 7, 8, 2, 8, 9, 3, 10, 3, 1, 3, 4, 7, 8, 9, 10, 3, 5, 6, 8, 1, 3, 4, 8, 10, 7, 1, 1, 3, 4, 6, 4, 3, 2, 4, 6, 6, 8, 3, 4, 10, 4, 10, 8, 9, 10, 4, 5, 6, 8, 4, 10, 3, 4, 1, 10, 1, 4, 6, 6, 1, 3, 5, 8, 4, 10, 1, 5, 9, 3, 7, 9, 9, 7, 4, 7, 4, 6, 7, 6, 5, 4, 2, 6, 1, 2, 4, 5, 1, 3, 7, 9, 8, 9, 3, 6, 3, 4, 6, 8, 1, 4, 3, 4, 5, 10, 8, 3, 1, 4, 3, 4, 6, 6, 8, 3, 7, 4, 8, 9, 5, 9, 1, 1, 8, 9, 5, 1, 4, 6, 1, 4, 5, 1, 10, 2, 4, 7, 9, 4, 7, 6, 8, 5, 8, 5, 1, 3, 4, 5, 1, 2, 7, 3, 5, 10, 9, 4, 5, 10, 3, 4, 6, 6, 1, 9, 3, 6, 7, 3, 3, 1, 10, 1, 7, 1, 2, 3, 4, 8, 10, 8, 1, 10, 5, 8, 1, 10, 1, 4, 6, 9, 5, 8, 3, 4, 1, 1, 1, 2, 4, 6, 10, 9, 8, 5, 7, 2, 7, 2, 3, 6, 4, 7, 7, 9, 7, 3, 5, 3, 5, 6, 8, 9, 10, 7, 8, 2, 5, 5, 4, 5, 10, 5, 8, 4, 7, 3, 9, 1, 2, 6, 8, 1, 7, 5, 10, 9, 5, 2, 6, 6, 8, 9, 2, 6, 7, 1, 4, 1, 7, 4, 10, 7, 10, 10, 9, 8, 5, 2, 6, 7, 1, 3, 4, 5, 3, 10, 8, 2, 5, 10, 3, 7, 10, 3, 7, 1, 4, 5, 1, 6, 2, 6, 2, 1, 3, 4, 1, 6, 4, 5, 7, 7, 7, 9, 10, 10, 2, 8, 4, 10, 1, 10, 10, 1, 2, 3, 4, 7, 1, 4, 7, 10, 9, 6, 1, 4, 8, 1, 7, 5, 7, 4, 10, 1, 3, 4, 1, 1, 3, 6, 10, 7, 3, 6, 10, 7, 6, 9, 3, 5, 8, 3, 1, 2, 3, 1, 4, 6, 10, 1, 4, 5, 2, 10, 7, 2, 3, 4, 3, 3, 4, 3, 1, 1, 4, 2, 9, 7, 1, 6, 3, 9, 8, 3, 1, 7, 1, 2, 3, 6, 8, 10, 9, 10, 10, 10, 4, 1, 1, 7, 1, 1, 3, 4, 6, 1, 1, 2, 7, 10, 2, 5, 1, 2, 7, 1, 4, 6, 3, 9, 1, 1, 3, 1, 5, 2, 6, 1, 10, 1, 4, 6, 1, 7, 2, 4, 6, 1, 6, 6, 1, 2, 8, 10], \"Freq\": [0.8980581988441068, 0.9414371561876806, 0.8426338602509081, 0.47310201280905156, 0.315401341872701, 0.6448210976139688, 0.9305531057760054, 0.868551062625853, 0.3964713948810685, 0.5663877069729549, 0.4407392319755755, 0.4279719824309934, 0.49307152624380035, 0.1616021283487646, 0.1616021283487646, 0.5171268107160468, 0.1616021283487646, 0.923314249780933, 0.7078318379705661, 0.3499253511958094, 0.5248880267937142, 0.4429943675579611, 0.48326658279050305, 0.04027221523254192, 0.9261850576342892, 0.7196665382840791, 0.9704025571897872, 0.9456895690859544, 0.6799358750454029, 0.12725178294200631, 0.06362589147100316, 0.7635106976520379, 0.788220386674917, 0.12126467487306415, 0.060632337436532076, 0.7599953948451025, 0.6454573396505034, 0.8606744090518742, 0.1286065208928088, 0.898921517231246, 0.8429665920908858, 0.794435859659243, 0.9574814037673699, 0.6611879139086582, 0.04977757050431681, 0.8163521562707956, 0.13937719741208707, 0.8044868069125078, 0.6224959647104503, 0.16362452858570678, 0.8181226429285339, 0.13687239668726325, 0.8212343801235795, 0.7732119646317454, 0.12886866077195758, 0.6889458838687004, 0.925996897554943, 0.7842656498555163, 0.7287532085299578, 0.24743036332142787, 0.16495357554761858, 0.49486072664285574, 0.7836734362709099, 0.5563779262416013, 0.30909884791200076, 0.061819769582400146, 0.9592154158191835, 0.8874179280085914, 0.059161195200572766, 0.7835147704736074, 0.11074479496594787, 0.6423198108024977, 0.22148958993189574, 0.9522861002912099, 0.42533164608608937, 0.8149065150771939, 0.770226434287941, 0.19255660857198525, 0.623954049233944, 0.7518436273431426, 0.18796090683578565, 0.031326817805964274, 0.031326817805964274, 0.8438941101200785, 0.836901989260823, 0.18424125144939782, 0.7369650057975913, 0.9692096317115408, 0.8776199938734519, 0.27923825496958626, 0.04653970916159771, 0.527450037164774, 0.1241058910975939, 0.8794805803794726, 0.06282004145567661, 0.7545223158859568, 0.7375397151696236, 0.4396401829265568, 0.4396401829265568, 0.7030194595251023, 0.4361929934802168, 0.13710030988074423, 0.4113009296422327, 0.13710030988074423, 0.13710030988074423, 0.13710030988074423, 0.22846725842101198, 0.152311505614008, 0.533090269649028, 0.8069989999694211, 0.898188106082807, 0.6688446932508493, 0.49304213433055205, 0.24652106716527603, 0.7601801926590193, 0.09250386267533244, 0.12333848356710991, 0.15417310445888738, 0.585857796943772, 0.16602007044900538, 0.49806021134701617, 0.16602007044900538, 0.16602007044900538, 0.5062039138553376, 0.5062039138553376, 0.7618848528167013, 0.8546014403392939, 0.07121678669494115, 0.9420697109166367, 0.5160702574575402, 0.3440468383050268, 0.9490623332413776, 0.7397235419337554, 0.8075743259670215, 0.7973981232519755, 0.9134750971442502, 0.7226712081490405, 0.18066780203726013, 0.938022804306917, 0.11667517836803955, 0.1555669044907194, 0.7000510702082373, 0.7497675438701031, 0.9292928603915459, 0.9570354589657885, 0.10896875227902657, 0.762781265953186, 0.10896875227902657, 0.7339694812094446, 0.7357080799948316, 0.293530354017806, 0.587060708035612, 0.146765177008903, 0.9842168912722353, 0.2990165600170611, 0.5980331200341222, 0.993857673195074, 0.523324373134725, 0.7286541247607996, 0.39115832378396825, 0.5215444317119577, 0.925455729650112, 0.4874547288848848, 0.03637721857349886, 0.06547899343229796, 0.10185621200579682, 0.13823343057929569, 0.14550887429399545, 0.02910177485879909, 0.35860786504940345, 0.35860786504940345, 0.23907191003293563, 0.11953595501646781, 0.4308848454429474, 0.08617696908858948, 0.08617696908858948, 0.25853090726576844, 0.08617696908858948, 0.930440819341773, 0.9135458385228273, 0.40596762325563834, 0.28997687375402736, 0.057995374750805476, 0.28997687375402736, 0.6448825233239946, 0.7589265906731271, 0.0722377010487796, 0.0722377010487796, 0.7946147115365757, 0.8837757601390799, 0.9302628464501151, 0.5570618625412691, 0.11141237250825382, 0.3342371175247615, 0.792296299167117, 0.19807407479177924, 0.8032970655830128, 0.29627258897179654, 0.5925451779435931, 0.1972405042110058, 0.5917215126330174, 0.061594504632802076, 0.862323064859229, 0.29918422185933347, 0.29918422185933347, 0.7359902521898947, 0.18399756304747367, 0.4474917394400458, 0.5220736960133867, 0.7865124374735514, 0.06554270312279595, 0.1310854062455919, 0.7418975532199421, 0.7936417273247455, 0.16708246891047274, 0.6532048290301851, 0.7448704014767499, 0.7902812137762892, 0.4377775859265235, 0.9191359026350261, 0.8109633132629577, 0.8573384896872029, 0.10730767890673108, 0.8584614312538487, 0.7615830747867979, 0.6852245403212734, 0.6796449299880766, 0.6127680670326259, 0.20425602234420864, 0.2152960742319614, 0.1076480371159807, 0.5382401855799035, 0.9483886073517305, 0.8065860100212601, 0.8662691127707463, 0.8415362569270247, 0.9247625528576765, 0.6173434611622524, 0.18995183420376996, 0.14246387565282748, 0.04748795855094249, 0.16472888007637623, 0.24709332011456436, 0.08236444003818812, 0.4941866402291287, 0.16048916063445798, 0.6419566425378319, 0.928142913894594, 0.6645088769582258, 0.19160772478662966, 0.19160772478662966, 0.19160772478662966, 0.3832154495732593, 0.2602053300949752, 0.650513325237438, 0.8829407731712485, 0.29126898750261654, 0.5825379750052331, 0.09708966250087217, 0.4369767507191535, 0.9237491680865103, 0.15021212916113472, 0.7510606458056736, 0.8859158177269534, 0.7495799879557075, 0.6666564028037144, 0.6694629571442965, 0.5207799048744121, 0.7782253915887328, 0.7618954423941927, 0.6467939977070902, 0.943195678711137, 0.8400529091155478, 0.9623864917894703, 0.6799336270535039, 0.8985540577904122, 0.8340893969892975, 0.43754280766700687, 0.9181861533044267, 0.962055390970986, 0.6064483442673452, 0.06738314936303835, 0.2695325974521534, 0.07264370027519512, 0.9080462534399389, 0.6531848083298853, 0.9473518709328438, 0.45819964441648536, 0.16462478949484505, 0.05487492983161501, 0.16462478949484505, 0.6036242281477652, 0.5343188368209992, 0.3562125578806662, 0.9574654195110484, 0.8996059624022587, 0.327722563901703, 0.327722563901703, 0.6326622621402037, 0.50297348362685, 0.30952214377036924, 0.038690267971296155, 0.11607080391388847, 0.8322864695268352, 0.8423736195132473, 0.9307489765463701, 0.806311506979556, 0.13438525116325933, 0.4336850235728852, 0.9082673269154751, 0.7598606316245945, 0.7460787332277734, 0.9269858560395198, 0.6007292422581472, 0.7591424821653707, 0.7409561147854383, 0.6619002139656706, 0.8420010237706717, 0.8960172036347425, 0.14218111637296413, 0.3554527909324103, 0.49763390730537443, 0.8974684133862572, 0.8772626888017946, 0.480115642246154, 0.240057821123077, 0.1069172347467651, 0.8553378779741208, 0.24880843336026584, 0.12440421668013292, 0.3110105417003323, 0.1866063250201994, 0.06220210834006646, 0.06220210834006646, 0.84721819510361, 0.9389531542752991, 0.4495833113253247, 0.6003767446047097, 0.9489158751408227, 0.9527159437234228, 0.43912522091101247, 0.1577333403390198, 0.6309333613560792, 0.10515556022601322, 0.05257778011300661, 0.10229863589967916, 0.8865881777972193, 0.859420313699682, 0.9640024219458856, 0.8822542598014675, 0.9033620835000488, 0.08103615138797018, 0.16207230277594037, 0.24310845416391055, 0.4862169083278211, 0.45831631575385867, 0.8716651168487064, 0.9170443341563063, 0.5347598331889323, 0.26737991659446614, 0.9854392361984221, 0.6389937089912184, 0.7342076951621382, 0.16792151154140472, 0.6716860461656189, 0.7838524789210052, 0.7694700146116832, 0.8584485391581765, 0.6823440037674109, 0.8586143485183494, 0.8985733836741754, 0.6313649624554659, 0.05097339414553631, 0.3568137590187542, 0.15292018243660893, 0.10194678829107262, 0.20389357658214524, 0.10194678829107262, 0.8364351855533924, 0.4273664262538701, 0.8430434306590446, 0.9761818419248678, 0.7465852367954509, 0.8236053421792465, 0.7476864461818035, 0.4492099098839864, 0.6491096620269858, 0.2596438648107944, 0.3104555993526657, 0.6209111987053314, 0.8982273918134974, 0.9619412676719078, 0.8855209254247319, 0.9332459941879342, 0.055550356796900846, 0.6655088292034708, 0.8400449668276149, 0.8167545806085478, 0.9803625093512918, 0.4387200605534195, 0.6828672665335003, 0.653269717721553, 0.9941819000967557, 0.670192303344959, 0.6708239647431277, 0.4379113492030492, 0.6637051961710287, 0.851932868833986, 0.6224931578472196, 0.8846439801456712, 0.26694315651148043, 0.7118484173639478, 0.5817634759084213, 0.36360217244276327, 0.7596662050952194, 0.4587860270060273, 0.7370074881981896, 0.4387902666786582, 0.4416325072649428, 0.8101994962352761, 0.9165319996952749, 0.6320716150681258, 0.9887363160531879, 0.5936926503748368, 0.2968463251874184, 0.7873056612160009, 0.07157324192872735, 0.07157324192872735, 0.07157324192872735, 0.9263786308082412, 0.5344375050048522, 0.6449601281899804, 0.4911966715127243, 0.5163404980428141, 0.41307239843425125, 0.0870858683597251, 0.0870858683597251, 0.6966869468778008, 0.1911173059811203, 0.7644692239244812, 0.06960483701958432, 0.8352580442350119, 0.06960483701958432, 0.37894706950084306, 0.6315784491680717, 0.5900433207030744, 0.3933622138020496, 0.42534457931558917, 0.19806508414130897, 0.4951627103532724, 0.29709762621196345, 0.21374313653095264, 0.6412294095928579, 0.7074240896875459, 0.8119176814322866, 0.7384209167792238, 0.6580999685662091, 0.8588844091296082, 0.9313286672228085, 0.43895131240149493, 0.4492830252394129, 0.83834134298876, 0.9004146854131752, 0.7504024957171822, 0.4537919135185956, 0.5381541553324933, 0.35876943688832885, 0.4499098422408271, 0.2143543105998428, 0.2143543105998428, 0.07145143686661427, 0.07145143686661427, 0.4287086211996856, 0.4509886713652441, 0.11274716784131103, 0.11274716784131103, 0.3382415035239331, 0.7602013038504585, 0.6622001201466331, 0.9908804217143338, 0.8677370349755457, 0.8180601863964264, 0.8513546602766142, 0.07094622168971786, 0.8255382987200351, 0.8333351943603045, 0.8900633959689953, 0.4258568934078029, 0.11223640207081245, 0.5611820103540622, 0.2244728041416249, 0.9924735553002855, 0.5460014811500212, 0.07184230015131858, 0.33047458069606545, 0.04310538009079115, 0.835654456851085, 0.8984114885657808, 0.6258071136439419, 0.2086023712146473, 0.8175769671010163, 0.8471885451074426, 0.7608148969569135, 0.7189675428088786, 0.9729843482237135, 0.45323878425419684, 0.7766627786424831, 0.9470649007888764, 0.6146353857183482, 0.20487846190611606, 0.30414656411887414, 0.20276437607924944, 0.20276437607924944, 0.30414656411887414, 0.37615448160982656, 0.4701931020122832, 0.09403862040245664, 0.7857313978931839, 0.5349328237650698, 0.8595905945680807, 0.5384518703906833, 0.10769037407813666, 0.32307112223441, 0.926232135918021, 0.05739103670580789, 0.9182565872929263, 0.6013605362673523, 0.9399046850052555, 0.1844724482972888, 0.7840079052634773, 0.9200992663616957, 0.0740309754543893, 0.8248926884671365, 0.15245046733510928, 0.7622523366755464, 0.7781717703104605, 0.6760885003982651, 0.7447410317402556, 0.7776329516296495, 0.3468769254144317, 0.5203153881216476, 0.21089222342932396, 0.29524911280105354, 0.16871377874345916, 0.08435688937172958, 0.08435688937172958, 0.16871377874345916, 0.7623627295330846, 0.9264865060655697, 0.4397715389673195, 0.4483464472309908, 0.9435063492133272, 0.971238157667219, 0.7390109770111242, 0.2570472963516953, 0.9002221301708777, 0.49724409865869723, 0.22602004484486238, 0.045204008968972476, 0.1808160358758899, 0.8685515044872401, 0.40890266244522316, 0.08178053248904463, 0.3271221299561785, 0.16356106497808925, 0.7162732532454669, 0.8079186988957744, 0.17722622045473335, 0.5316786613642001, 0.17722622045473335, 0.19217723049810131, 0.19217723049810131, 0.6085612299106542, 0.8591919754003333, 0.6842889839185214, 0.92476717877225, 0.6257025162564656, 0.3312542733122465, 0.765449962153359, 0.21869998918667402, 0.1076479675336377, 0.8611837402691016, 0.8364810892845663, 0.4482819789580647, 0.33390782163978106, 0.11130260721326035, 0.4452104288530414, 0.9552794677241383, 0.7357798102092405, 0.7199732861927844, 0.7123311923941469, 0.23744373079804895, 0.7921347440564003, 0.18860351048961913, 0.6250819521812846, 0.1813114564911808, 0.7252458259647232, 0.5212526738984594, 0.4498797517449423], \"Term\": [\"aaronparnas\", \"abc\", \"active\", \"activities\", \"activities\", \"actor\", \"adamschefter\", \"advisory\", \"afternoon\", \"afternoon\", \"air\", \"alerts\", \"amazon\", \"amp\", \"amp\", \"amp\", \"amp\", \"anacabrera\", \"announces\", \"ar\", \"ar\", \"area\", \"area\", \"area\", \"artemis\", \"assignment\", \"asteroid\", \"authorities\", \"awful\", \"bad\", \"bad\", \"bad\", \"bay\", \"bay\", \"bay\", \"bblock29\", \"betwe\", \"biden\", \"biden\", \"big\", \"biggest\", \"boca\", \"boo\", \"brace\", \"breaking\", \"breaking\", \"breaking\", \"bringin\", \"broward\", \"bryanwx\", \"bryanwx\", \"buccaneers\", \"buccaneers\", \"bucs\", \"bucs\", \"buffalo\", \"buildings\", \"cali_n8vgrl\", \"canada\", \"caribbean\", \"caribbean\", \"caribbean\", \"carolsplace\", \"case\", \"case\", \"case\", \"category\", \"center\", \"center\", \"changes\", \"charliecrist\", \"charliecrist\", \"charliecrist\", \"chiefs\", \"citizens\", \"classes\", \"classic\", \"classic\", \"closure\", \"coast\", \"coast\", \"coast\", \"coast\", \"coordination\", \"council\", \"counties\", \"counties\", \"course\", \"crypto\", \"cuba\", \"cuba\", \"cuba\", \"cuba\", \"current\", \"current\", \"dade\", \"dailycaller\", \"dangerous\", \"dangerous\", \"daniellebreezy\", \"dasani\", \"day\", \"day\", \"day\", \"day\", \"day\", \"days\", \"days\", \"days\", \"dear\", \"decade\", \"declaration\", \"delivers\", \"delivers\", \"desa\", \"desantis\", \"desantis\", \"desantis\", \"desantis\", \"direct\", \"direct\", \"direct\", \"direct\", \"director\", \"director\", \"disabled\", \"disaster\", \"disaster\", \"disney\", \"district\", \"district\", \"doc_chimpanzee\", \"dod\", \"doggintrump\", \"dont\", \"east\", \"eastern\", \"eastern\", \"effect\", \"emergency\", \"emergency\", \"emergency\", \"entirety\", \"est\", \"et\", \"evacuations\", \"evacuations\", \"evacuations\", \"extended\", \"extracurricular\", \"eye\", \"eye\", \"eye\", \"family\", \"fans\", \"fans\", \"federal\", \"finsup\", \"fiona\", \"fl\", \"fl\", \"flat\", \"florida\", \"florida\", \"florida\", \"florida\", \"florida\", \"florida\", \"florida\", \"floridas\", \"floridas\", \"floridas\", \"floridas\", \"floridians\", \"floridians\", \"floridians\", \"floridians\", \"floridians\", \"flsert\", \"force\", \"forecast\", \"forecast\", \"forecast\", \"forecast\", \"fraudsters\", \"freedom\", \"friday\", \"friday\", \"friday\", \"fsu\", \"funds\", \"game\", \"game\", \"game\", \"georgia\", \"georgia\", \"giants\", \"god\", \"god\", \"golf\", \"golf\", \"good\", \"good\", \"google\", \"google\", \"gov\", \"gov\", \"governor\", \"governor\", \"govrondesantis\", \"govrondesantis\", \"govrondesantis\", \"great\", \"gulf\", \"gulf\", \"half\", \"head\", \"heads\", \"healthyfla\", \"heavy\", \"helpless\", \"hey\", \"hillsborough\", \"hillsborough\", \"homeless\", \"horse\", \"hospital\", \"hotels\", \"hotels\", \"hours\", \"hours\", \"hours\", \"house\", \"hufflebloom\", \"hurric\", \"hurrican\", \"hurricanecenter\", \"hurricaneian\", \"hurricaneian\", \"hurricaneian\", \"hurricaneian\", \"hurricanes\", \"hurricanes\", \"hurricanes\", \"hurricanes\", \"ians\", \"ians\", \"idea\", \"idk\", \"im\", \"im\", \"im\", \"im\", \"image\", \"image\", \"impact\", \"impacts\", \"impacts\", \"impacts\", \"imperative\", \"infrastructure\", \"intensifying\", \"intensifying\", \"intermediate\", \"ironik0422\", \"isnt\", \"issues\", \"jails\", \"jeffdarlington\", \"jessicam6946\", \"jimmypatronis\", \"joe\", \"just\", \"karla\", \"keeps\", \"key\", \"kirstiealley\", \"kolonehusky\", \"lago\", \"landf\", \"landfall\", \"landfall\", \"landfall\", \"latest\", \"latest\", \"lauraadderley\", \"life\", \"livestream\", \"local\", \"local\", \"local\", \"local\", \"look\", \"look\", \"looming\", \"lorengrush\", \"lunaticlarry3\", \"lunaticlarry3\", \"madteamichelle\", \"major\", \"major\", \"major\", \"major\", \"makeianweak\", \"managers\", \"manatee\", \"mandatory\", \"mandatory\", \"maps\", \"mar\", \"marcweinbergwx\", \"marker\", \"marthas\", \"mattdevittwink\", \"mb\", \"mdcps\", \"merch\", \"messages\", \"meteorologist\", \"miami\", \"miami\", \"miami\", \"middle\", \"models\", \"mollyhereandnow\", \"mollyhereandnow\", \"mon\", \"mon\", \"monday\", \"monday\", \"monday\", \"monday\", \"monday\", \"monday\", \"moon\", \"mph\", \"mt\", \"namwella1961\", \"nasa\", \"national\", \"needs\", \"new\", \"new\", \"new\", \"new\", \"news\", \"news\", \"nfl\", \"nhc\", \"nhc_atlantic\", \"nhc_surge\", \"night\", \"night\", \"night\", \"night\", \"nights\", \"nothoodlum\", \"nousefortrump\", \"number\", \"number\", \"occupydemocrats\", \"ocflmayor\", \"ocpsnews\", \"officials\", \"officials\", \"operational\", \"orangecofl\", \"outlook\", \"owners\", \"panhandle\", \"panic\", \"park\", \"path\", \"path\", \"path\", \"path\", \"path\", \"path\", \"paulinavo_ces\", \"pb\", \"pbcsd\", \"people\", \"permanent\", \"perspective\", \"pet\", \"pets\", \"phone\", \"phone\", \"pinellas\", \"pinellas\", \"pl\", \"plan\", \"planning\", \"politics\", \"politics\", \"power\", \"powers\", \"ppp\", \"prayers\", \"pre\", \"prepared\", \"presenters\", \"president\", \"processes\", \"procurement\", \"proof\", \"property\", \"proud\", \"public\", \"radaromega\", \"rain\", \"rain\", \"rainfall\", \"rainfall\", \"recon\", \"recording\", \"regardless\", \"register\", \"registry\", \"repeat\", \"request\", \"reservation\", \"resources\", \"response\", \"response\", \"risk\", \"risk\", \"risk\", \"risk\", \"roads\", \"robertson\", \"rocket\", \"rockymntnmike\", \"ron\", \"ron\", \"safe\", \"safe\", \"safe\", \"sarasota\", \"sarasota\", \"satellite\", \"satellite\", \"satellite\", \"scenario\", \"scenario\", \"school\", \"school\", \"screw\", \"sea\", \"sea\", \"sea\", \"secretary\", \"secretary\", \"select\", \"sep\", \"servicemen\", \"session\", \"severe\", \"sharpie\", \"shelter\", \"shs\", \"slate\", \"sls\", \"smosh\", \"son\", \"special\", \"special\", \"sports_med_shs\", \"state\", \"state\", \"state\", \"state\", \"state\", \"stay\", \"stay\", \"stay\", \"stay\", \"staying\", \"stephisham12\", \"storm\", \"storms\", \"straight\", \"strength\", \"strength\", \"strong\", \"students\", \"stuostro\", \"sundaedivine\", \"sunday\", \"sunday\", \"sunday\", \"surge\", \"tampa\", \"tampa\", \"tampa\", \"tampa\", \"teachers\", \"tennessee\", \"thank\", \"thank\", \"thefineauthor_\", \"thehill\", \"ther\", \"things\", \"thoughts\", \"thousands\", \"thread\", \"threatening\", \"thu\", \"thu\", \"thursday\", \"thursday\", \"thursday\", \"thursday\", \"today\", \"today\", \"today\", \"tolls\", \"tom\", \"tomaskenn\", \"tomorrow\", \"tomorrow\", \"tomorrow\", \"tpa\", \"track\", \"track\", \"trend\", \"tropical\", \"tropicalupdate\", \"tropicalupdate\", \"trump\", \"trump\", \"tue\", \"tuesday\", \"tuesday\", \"unable\", \"uncertain\", \"undefeated\", \"unlikely\", \"unvaccinated\", \"unvaccinated\", \"update\", \"update\", \"update\", \"update\", \"update\", \"update\", \"vengolor\", \"vineyard\", \"visit\", \"vs\", \"walt\", \"warning\", \"warnings\", \"warnings\", \"watches\", \"way\", \"way\", \"way\", \"way\", \"weaken\", \"weather\", \"weather\", \"weather\", \"weather\", \"weatherjamaica\", \"webs\", \"wed\", \"wed\", \"wed\", \"week\", \"week\", \"week\", \"weekend\", \"welbournestud\", \"wes\", \"west\", \"west\", \"western\", \"western\", \"white\", \"white\", \"wild\", \"wildlife\", \"wind\", \"wind\", \"wind\", \"winds\", \"women\", \"work\", \"world\", \"world\", \"worst\", \"worst\", \"wsvn\", \"youre\", \"youre\", \"zap\", \"zion\"]}, \"R\": 30, \"lambda.step\": 0.01, \"plot.opts\": {\"xlab\": \"PC1\", \"ylab\": \"PC2\"}, \"topic.order\": [7, 4, 1, 8, 10, 6, 3, 2, 5, 9]};\n",
       "\n",
       "function LDAvis_load_lib(url, callback){\n",
       "  var s = document.createElement('script');\n",
       "  s.src = url;\n",
       "  s.async = true;\n",
       "  s.onreadystatechange = s.onload = callback;\n",
       "  s.onerror = function(){console.warn(\"failed to load library \" + url);};\n",
       "  document.getElementsByTagName(\"head\")[0].appendChild(s);\n",
       "}\n",
       "\n",
       "if(typeof(LDAvis) !== \"undefined\"){\n",
       "   // already loaded: just create the visualization\n",
       "   !function(LDAvis){\n",
       "       new LDAvis(\"#\" + \"ldavis_el144426326315083207696359488\", ldavis_el144426326315083207696359488_data);\n",
       "   }(LDAvis);\n",
       "}else if(typeof define === \"function\" && define.amd){\n",
       "   // require.js is available: use it to load d3/LDAvis\n",
       "   require.config({paths: {d3: \"https://d3js.org/d3.v5\"}});\n",
       "   require([\"d3\"], function(d3){\n",
       "      window.d3 = d3;\n",
       "      LDAvis_load_lib(\"https://cdn.jsdelivr.net/gh/bmabey/pyLDAvis@3.3.1/pyLDAvis/js/ldavis.v3.0.0.js\", function(){\n",
       "        new LDAvis(\"#\" + \"ldavis_el144426326315083207696359488\", ldavis_el144426326315083207696359488_data);\n",
       "      });\n",
       "    });\n",
       "}else{\n",
       "    // require.js not available: dynamically load d3 & LDAvis\n",
       "    LDAvis_load_lib(\"https://d3js.org/d3.v5.js\", function(){\n",
       "         LDAvis_load_lib(\"https://cdn.jsdelivr.net/gh/bmabey/pyLDAvis@3.3.1/pyLDAvis/js/ldavis.v3.0.0.js\", function(){\n",
       "                 new LDAvis(\"#\" + \"ldavis_el144426326315083207696359488\", ldavis_el144426326315083207696359488_data);\n",
       "            })\n",
       "         });\n",
       "}\n",
       "</script>"
      ],
      "text/plain": [
       "<IPython.core.display.HTML object>"
      ]
     },
     "execution_count": 31,
     "metadata": {},
     "output_type": "execute_result"
    }
   ],
   "source": [
    "pyLDAvis.enable_notebook()\n",
    "vis_data3 = pyLDAvis.sklearn.prepare(LDAmodel3, vec3, vectorizer2, mds='tsne')#The output approximates the distance between topics.\n",
    "pyLDAvis.display(vis_data3)"
   ]
  },
  {
   "cell_type": "markdown",
   "metadata": {},
   "source": [
    "# LDA -- Gensim \n",
    "\n",
    "**Besides SKLEARN we can use Gensim to conduct the LDA as well.** This module allows both LDA model estimation from a training corpus and inference of topic distribution on new, unseen documents. The model can also be updated with new documents for online training.\n",
    "\n",
    "Documentation:https://radimrehurek.com/gensim/models/ldamodel.html"
   ]
  },
  {
   "cell_type": "markdown",
   "metadata": {},
   "source": [
    "Install gensim\n",
    "\n",
    "! pip install gensim\n",
    "\n",
    "https://anaconda.org/conda-forge/gensim"
   ]
  },
  {
   "cell_type": "code",
   "execution_count": null,
   "metadata": {},
   "outputs": [],
   "source": [
    "#create a dictionary contains all the words instead of using words' ids\n",
    "from gensim import corpora\n",
    "\n",
    "#vectorizer2 = CountVectorizer(stop_words=stop_words)\n",
    "#vec2 = vectorizer2.fit_transform(tweets_nouns) \n",
    "#feature_names2 = vectorizer2.get_feature_names()\n",
    "\n",
    "dictionary2 = corpora.Dictionary([feature_names2]) "
   ]
  },
  {
   "cell_type": "code",
   "execution_count": null,
   "metadata": {},
   "outputs": [],
   "source": [
    "#create a dictionary contains all the words instead of using words' ids\n",
    "from gensim import corpora\n",
    "\n",
    "#vectorizer2 = CountVectorizer(stop_words=stop_words)\n",
    "#vec2 = vectorizer2.fit_transform(tweets_nouns) \n",
    "#feature_names2 = vectorizer2.get_feature_names()\n",
    "\n",
    "dictionary2 = corpora.Dictionary([feature_names2]) "
   ]
  },
  {
   "cell_type": "code",
   "execution_count": null,
   "metadata": {},
   "outputs": [
    {
     "data": {
      "text/plain": [
       "[(0,\n",
       "  '0.011*\"crypto\" + 0.011*\"myles\" + 0.009*\"larry\" + 0.008*\"girder\" + 0.008*\"gop\" + 0.008*\"gymmyjay\" + 0.007*\"mets\" + 0.007*\"lorengrush\" + 0.007*\"hair\" + 0.007*\"hope\"'),\n",
       " (1,\n",
       "  '0.008*\"hoa\" + 0.007*\"mischievousliz\" + 0.006*\"katrina\" + 0.006*\"jury\" + 0.005*\"ccvagina\" + 0.005*\"irma\" + 0.005*\"cc_stormwatch\" + 0.005*\"jamaica\" + 0.005*\"noaa42\" + 0.005*\"market\"'),\n",
       " (2,\n",
       "  '0.010*\"louiseamd\" + 0.009*\"dropsonde\" + 0.009*\"kms\" + 0.009*\"estimations\" + 0.008*\"currently\" + 0.007*\"bay\" + 0.007*\"feet\" + 0.007*\"nwsdirector\" + 0.007*\"nwseastern\" + 0.006*\"faces\"'),\n",
       " (3,\n",
       "  '0.023*\"nose\" + 0.010*\"man\" + 0.010*\"big\" + 0.010*\"moniker\" + 0.010*\"gul\" + 0.008*\"19\" + 0.008*\"fgbrisco\" + 0.008*\"melania\" + 0.006*\"baja\" + 0.006*\"alachuajury\"'),\n",
       " (4,\n",
       "  '0.007*\"medway\" + 0.006*\"inland\" + 0.006*\"cities\" + 0.006*\"aknewsnow\" + 0.006*\"buccaneers\" + 0.006*\"family\" + 0.006*\"fineartamerica\" + 0.006*\"kolonehusky\" + 0.006*\"leaderbookfl\" + 0.006*\"idk\"'),\n",
       " (5,\n",
       "  '0.012*\"delivered\" + 0.009*\"joe\" + 0.008*\"coverage\" + 0.008*\"near\" + 0.008*\"park\" + 0.008*\"guard\" + 0.008*\"manatee\" + 0.008*\"game\" + 0.008*\"noaa49\" + 0.008*\"doggintrump\"'),\n",
       " (6,\n",
       "  '0.012*\"coastal\" + 0.012*\"map\" + 0.012*\"jackson_dill\" + 0.009*\"flash\" + 0.007*\"make\" + 0.007*\"afternoon\" + 0.007*\"need\" + 0.007*\"buffalo\" + 0.007*\"gardens\" + 0.006*\"bblock29\"'),\n",
       " (7,\n",
       "  '0.008*\"desktop\" + 0.008*\"meteorologists\" + 0.008*\"pendejadas09\" + 0.008*\"epochtvus\" + 0.008*\"ike\" + 0.007*\"endgameww3\" + 0.007*\"fgbrisco\" + 0.007*\"attorney\" + 0.006*\"braces\" + 0.006*\"outlook\"'),\n",
       " (8,\n",
       "  '0.009*\"bryanwx\" + 0.009*\"evening\" + 0.008*\"doggintrump\" + 0.007*\"pinellas\" + 0.007*\"boo\" + 0.007*\"level\" + 0.006*\"herald\" + 0.005*\"cuban\" + 0.005*\"dms\" + 0.005*\"clinic\"'),\n",
       " (9,\n",
       "  '0.017*\"jails\" + 0.014*\"evacuation\" + 0.008*\"dot\" + 0.008*\"alachuajury\" + 0.008*\"dead\" + 0.007*\"miles\" + 0.007*\"intensification\" + 0.007*\"mallory\" + 0.007*\"bummer\" + 0.007*\"flsert\"')]"
      ]
     },
     "execution_count": 37,
     "metadata": {},
     "output_type": "execute_result"
    }
   ],
   "source": [
    "# using Gensim to build LDA model\n",
    "from gensim.matutils import Sparse2Corpus\n",
    "from gensim.models import ldamodel\n",
    "\n",
    "#vec2 = vectorizer2.fit_transform(tweets_nouns) \n",
    "corpus2 = Sparse2Corpus(vec2) #Convert a matrix in scipy.sparse format into a streaming gensim corpus.\n",
    "\n",
    "gen_lda2 = ldamodel.LdaModel(corpus=corpus2, num_topics=10, id2word=dictionary2) #if you don't have this parameter, it will only show the words' ids\n",
    "\n",
    "gen_lda2.print_topics(num_words=10)"
   ]
  },
  {
   "cell_type": "code",
   "execution_count": null,
   "metadata": {},
   "outputs": [
    {
     "data": {
      "text/plain": [
       "[(0,\n",
       "  '0.012*\"gainesville\" + 0.010*\"health\" + 0.010*\"marthas\" + 0.009*\"buildings\" + 0.009*\"clinic\" + 0.008*\"balloons\" + 0.008*\"max\" + 0.008*\"karine\" + 0.008*\"famous\" + 0.008*\"impactfu\"'),\n",
       " (1,\n",
       "  '0.007*\"campground\" + 0.007*\"gulf\" + 0.007*\"admitting\" + 0.007*\"easy\" + 0.007*\"delraybeach\" + 0.007*\"increased\" + 0.007*\"closest\" + 0.007*\"closure\" + 0.007*\"emergency\" + 0.007*\"mr_jce\"'),\n",
       " (2,\n",
       "  '0.012*\"needs\" + 0.008*\"embedded\" + 0.008*\"eliotjacobson\" + 0.008*\"doc_chimpanzee\" + 0.008*\"ians\" + 0.008*\"floridastate\" + 0.008*\"command\" + 0.007*\"careful\" + 0.007*\"defencehq\" + 0.007*\"davidpsamson\"'),\n",
       " (3,\n",
       "  '0.012*\"efforts\" + 0.009*\"arrival\" + 0.008*\"levels\" + 0.008*\"gdarkconrad\" + 0.008*\"lardo\" + 0.007*\"letter\" + 0.007*\"gusty\" + 0.007*\"disney\" + 0.007*\"dms\" + 0.006*\"coachtatur84\"'),\n",
       " (4,\n",
       "  '0.013*\"insider\" + 0.009*\"littleelvis40\" + 0.008*\"accuwe\" + 0.007*\"day\" + 0.006*\"families\" + 0.006*\"lessons\" + 0.006*\"latest\" + 0.006*\"ia\" + 0.006*\"fiona\" + 0.006*\"afb\"'),\n",
       " (5,\n",
       "  '0.009*\"isnt\" + 0.007*\"lifetime\" + 0.007*\"insurance\" + 0.007*\"dylanfedericowx\" + 0.006*\"jackson_dill\" + 0.005*\"gc\" + 0.005*\"man\" + 0.005*\"greater\" + 0.005*\"matthewcappucci\" + 0.004*\"courses\"'),\n",
       " (6,\n",
       "  '0.010*\"matter\" + 0.010*\"council\" + 0.008*\"feet\" + 0.008*\"gdarkconrad\" + 0.007*\"fgbrisco\" + 0.007*\"finale\" + 0.007*\"cat\" + 0.007*\"launchpad\" + 0.007*\"brady\" + 0.006*\"arrive\"'),\n",
       " (7,\n",
       "  '0.011*\"maximum\" + 0.009*\"marker\" + 0.009*\"chillout\" + 0.009*\"covid\" + 0.009*\"90\" + 0.009*\"neighbors\" + 0.009*\"cozy\" + 0.009*\"beautiful\" + 0.008*\"embedded\" + 0.008*\"managers\"'),\n",
       " (8,\n",
       "  '0.010*\"fossil\" + 0.010*\"arkansas\" + 0.010*\"access\" + 0.009*\"barometer\" + 0.009*\"left\" + 0.009*\"jamesblatch\" + 0.006*\"independent\" + 0.006*\"agreement\" + 0.006*\"keeps\" + 0.006*\"kicker\"'),\n",
       " (9,\n",
       "  '0.012*\"matter\" + 0.008*\"hufflebloom\" + 0.008*\"example\" + 0.008*\"lauderdale\" + 0.007*\"canadian\" + 0.007*\"country\" + 0.007*\"guests\" + 0.007*\"late\" + 0.007*\"gul\" + 0.006*\"coach\"')]"
      ]
     },
     "execution_count": 38,
     "metadata": {},
     "output_type": "execute_result"
    }
   ],
   "source": [
    "#vec3 = vectorizer2.fit_transform(tweets_nouns_adj)\n",
    "\n",
    "dictionary3 = corpora.Dictionary([feature_names3]) \n",
    "\n",
    "corpus3 = Sparse2Corpus(vec3) \n",
    "\n",
    "gen_lda3 = ldamodel.LdaModel(corpus=corpus3, num_topics=10, id2word=dictionary3) \n",
    "\n",
    "gen_lda3.print_topics(num_words=10)"
   ]
  },
  {
   "cell_type": "markdown",
   "metadata": {},
   "source": [
    "### Intertopic Distance Map for Gensim models"
   ]
  },
  {
   "cell_type": "code",
   "execution_count": null,
   "metadata": {},
   "outputs": [
    {
     "data": {
      "text/html": [
       "\n",
       "<link rel=\"stylesheet\" type=\"text/css\" href=\"https://cdn.jsdelivr.net/gh/bmabey/pyLDAvis@3.3.1/pyLDAvis/js/ldavis.v1.0.0.css\">\n",
       "\n",
       "\n",
       "<div id=\"ldavis_el144426326318665283223921147\"></div>\n",
       "<script type=\"text/javascript\">\n",
       "\n",
       "var ldavis_el144426326318665283223921147_data = {\"mdsDat\": {\"x\": [-0.023863931073518356, -0.11129603950129223, 0.048311531693078905, -0.14050742844948103, 0.1413004058141935, 0.04150156833331081, -0.01737667871858497, 0.1055857477293592, 0.016114655234123077, -0.059769831061189306], \"y\": [-0.01762820042599955, -0.09117174132836692, -0.015427430708844244, 0.023847942391399056, 0.06172375358553698, 0.017777067628058425, -0.06405480790459343, -0.059985309028681745, -0.026997112149103768, 0.17191583794059528], \"topics\": [1, 2, 3, 4, 5, 6, 7, 8, 9, 10], \"cluster\": [1, 1, 1, 1, 1, 1, 1, 1, 1, 1], \"Freq\": [7.496584728667438, 13.327440164227585, 7.968152263271082, 9.933849629109286, 10.743309094044942, 7.826870167494211, 8.057348894644496, 15.746643780896619, 9.945433525851405, 8.954367751792933]}, \"tinfo\": {\"Term\": [\"nose\", \"jails\", \"evacuation\", \"delivered\", \"coastal\", \"map\", \"jackson_dill\", \"doggintrump\", \"myles\", \"man\", \"moniker\", \"big\", \"gul\", \"louiseamd\", \"joe\", \"larry\", \"crypto\", \"evening\", \"flash\", \"fgbrisco\", \"meteorologists\", \"estimations\", \"bryanwx\", \"faces\", \"dropsonde\", \"kms\", \"gardens\", \"19\", \"hoa\", \"girder\", \"burst\", \"mets\", \"lorengrush\", \"hair\", \"dailycaller\", \"girder\", \"gop\", \"gymmyjay\", \"hope\", \"ocpsnews\", \"crypto\", \"pics\", \"jasmine\", \"gafollowers\", \"charlen60403930\", \"clearwater\", \"philferro7\", \"mlb\", \"house\", \"foods\", \"myles\", \"kayleembloom\", \"accuweather\", \"access\", \"accuwe\", \"act\", \"larry\", \"king\", \"approaches\", \"chasers\", \"burgwx\", \"look\", \"langurlover\", \"chat\", \"declaration\", \"gouging\", \"alabama\", \"category\", \"faces\", \"nwsbirmingham\", \"goodbye\", \"melania\", \"gail\", \"hoa\", \"company\", \"jury\", \"market\", \"damage\", \"irma\", \"jamaica\", \"ccvagina\", \"october\", \"kit\", \"parts\", \"lessons\", \"dude\", \"cheers\", \"partnership\", \"capacity\", \"imagery\", \"mischievousliz\", \"cc_stormwatch\", \"dttwt\", \"century\", \"campus\", \"letsgohornets\", \"attention\", \"bakery\", \"guardsmen\", \"airports\", \"flood\", \"fll\", \"emergencyas\", \"bocaraton\", \"campground\", \"left\", \"know\", \"islands\", \"ericburriswesh\", \"katrina\", \"fraudsters\", \"monitoring\", \"mind\", \"chart\", \"noaa42\", \"alroker\", \"da\", \"levels\", \"curtmweiler\", \"ericlynnfl\", \"alabama\", \"lauraadderley\", \"kms\", \"dropsonde\", \"bay\", \"feet\", \"estimations\", \"currently\", \"nwsdirector\", \"nwseastern\", \"louiseamd\", \"law\", \"deputies\", \"google\", \"bills\", \"barstoolclemson\", \"centralflorida\", \"hours\", \"mb\", \"bravo_dada\", \"nasa\", \"generator\", \"charley\", \"fla_pol\", \"continues\", \"issue\", \"breitbart\", \"picture\", \"days\", \"funds\", \"facility\", \"boat\", \"distress\", \"course\", \"gardens\", \"faces\", \"bonita\", \"nhc_surge\", \"deepdives\", \"pinellasclerk\", \"abccolumbia\", \"balloons\", \"braces\", \"jean\", \"outlook\", \"pinellas\", \"karine\", \"hospital\", \"outer\", \"nose\", \"big\", \"man\", \"clime_radar\", \"moniker\", \"gul\", \"covid\", \"courses\", \"hello\", \"pierre\", \"hurricaneian\", \"period\", \"doesnt\", \"eastern\", \"devastation\", \"matter\", \"cookinmaama\", \"mobute\", \"number\", \"fo\", \"aaronparnas\", \"eyebri_\", \"ft\", \"freedom\", \"nightmare\", \"hunters\", \"humans\", \"marciad9999\", \"jessicam6946\", \"19\", \"melania\", \"guests\", \"betwe\", \"fgbrisco\", \"baja\", \"borrower\", \"alachuajury\", \"brother\", \"lauderdale\", \"ahead\", \"965mb\", \"edt\", \"gainesville\", \"nasaartemis\", \"learn\", \"meidastouch\", \"matthewcocacbs\", \"inland\", \"cities\", \"aknewsnow\", \"buccaneers\", \"fineartamerica\", \"family\", \"kolonehusky\", \"leaderbookfl\", \"idk\", \"country\", \"dasani\", \"council\", \"earth\", \"kc135\", \"cayman\", \"path\", \"assignment\", \"hurricanecenter\", \"pets\", \"order\", \"lauren\", \"miniature\", \"meteorologist\", \"business\", \"damn\", \"latest\", \"deathcarewnc\", \"impacts\", \"forms\", \"nhc\", \"medway\", \"midway\", \"hurricanes\", \"ab\", \"dont\", \"north\", \"matt\", \"pasco\", \"help\", \"approaching\", \"lhps_athletics\", \"metro\", \"billmckibben\", \"fuck\", \"delivered\", \"noaa49\", \"near\", \"manatee\", \"park\", \"guard\", \"game\", \"neighbors\", \"keys\", \"boca\", \"landfall\", \"jhendersontampa\", \"estates\", \"bricks\", \"joe\", \"helpless\", \"feare\", \"gov\", \"foxnews\", \"event\", \"newsroom\", \"castor\", \"ap_nfl\", \"box\", \"doggintrump\", \"dear\", \"hurricanewarnings\", \"karen\", \"arctic\", \"clicks\", \"herpetologist\", \"delray\", \"holiday\", \"employee\", \"hillsborough\", \"dega\", \"coverage\", \"moore\", \"billmckibben\", \"metro\", \"alachuajury\", \"nbc\", \"coastal\", \"map\", \"jackson_dill\", \"flash\", \"bblock29\", \"graphics\", \"dolphins\", \"dogs\", \"friends\", \"outriders\", \"noaa\", \"evacuations\", \"cancel\", \"nominee\", \"ap\", \"make\", \"afternoon\", \"need\", \"buffalo\", \"beware\", \"dade\", \"cozy\", \"nascar\", \"jswtreeman\", \"nwscolumbia\", \"base\", \"airport\", \"briefing\", \"guys\", \"artemis\", \"gardens\", \"gail\", \"macthegingercat\", \"b_resnick\", \"imo\", \"hes\", \"jab\", \"meal\", \"km\", \"photo\", \"coverage\", \"meidastouch\", \"baja\", \"paulinavo_ces\", \"animals\", \"andrewwarrenfl\", \"anacabrera\", \"announcement\", \"announces\", \"ambassadors\", \"anclote\", \"andrew\", \"amp\", \"analysis\", \"american\", \"america\", \"key\", \"meteorologists\", \"pendejadas09\", \"attorney\", \"lhps_football\", \"disaster\", \"calm\", \"carolinas\", \"kicker\", \"desktop\", \"estate\", \"orlando\", \"forces\", \"karlaforflorida\", \"darbyscastle\", \"becerra\", \"foreclosure\", \"nea\", \"epochtvus\", \"ike\", \"endgameww3\", \"braces\", \"jean\", \"nflstroud\", \"nfl\", \"newsmax\", \"fgbrisco\", \"outlook\", \"ncemergency\", \"mor\", \"michael\", \"evening\", \"categories\", \"moody\", \"downpours\", \"level\", \"nwsmelbourne\", \"bryanwx\", \"floods\", \"activities\", \"class\", \"_private_idaho\", \"catholic\", \"doggintrump\", \"herald\", \"cuban\", \"enter\", \"dms\", \"bracing\", \"atlanta\", \"david\", \"clinic\", \"deaths\", \"doc_chimpanzee\", \"boo\", \"camp\", \"evening\", \"center\", \"glaciers\", \"employees\", \"h2\", \"headlines\", \"alexcalamiawx\", \"max\", \"flser\", \"equipment\", \"fighters\", \"parishes\", \"nousefortrump\", \"pinellas\", \"keeps\", \"blakesanz\", \"ecu\", \"checklist\", \"high\", \"ne\", \"nasaartemis\", \"freefall\", \"people\", \"nbc\", \"kirstiealley\", \"donate\", \"brady\", \"nwsspokane\", \"larger\", \"bill_line\", \"office\", \"jails\", \"intensification\", \"mallory\", \"bummer\", \"flsert\", \"intensify\", \"curemachwindy\", \"climate\", \"dot\", \"nyt\", \"courage\", \"pensacola\", \"evacuation\", \"floridastate\", \"mph\", \"dead\", \"miles\", \"exposes\", \"alachuachronic1\", \"inches\", \"havent\", \"cat\", \"phillyscardina7\", \"madteamichelle\", \"beauty\", \"ironik0422\", \"atlantic\", \"hours\", \"panhandle\", \"page\", \"herpetologist\", \"alachuajury\", \"hpa\", \"outlook\", \"people\", \"lhps_athletics\", \"kasie\"], \"Freq\": [17.0, 11.0, 14.0, 7.0, 8.0, 8.0, 8.0, 10.0, 9.0, 9.0, 9.0, 9.0, 9.0, 10.0, 9.0, 9.0, 9.0, 12.0, 7.0, 18.0, 10.0, 6.0, 9.0, 12.0, 6.0, 6.0, 9.0, 9.0, 8.0, 6.0, 2.7499610727772836, 3.4219249048778524, 3.421703895986928, 3.4215069195668666, 1.408998835798578, 4.09318662946518, 4.092988080827398, 4.092982690366644, 3.4213555374606845, 2.869447373471143, 5.476253530792788, 2.846679864065449, 2.528913550217693, 2.8438593054757884, 2.8289836552168457, 2.8393915119206423, 2.8284911018654264, 2.8220259179982996, 2.8268800279075004, 2.079393819217129, 5.1825753892355175, 1.4089179788872643, 0.7380844590261024, 0.7380658170159939, 0.738050487893224, 0.7380397069717155, 4.544172341188368, 2.7501987022555334, 2.080068300619004, 1.4089586319454526, 2.7598507714410783, 2.0799238811912963, 2.079917367717885, 1.8078147699320246, 2.079630774887784, 2.5056159788378314, 2.75877762054592, 2.272722469565717, 2.7498224930153934, 2.2679231626741845, 2.263317912369805, 2.171068486854506, 2.088482360651323, 6.970193854936053, 2.6447986942606576, 5.006649114078164, 4.310128372844718, 2.6448651775000207, 4.3520798958309195, 4.351669017432694, 4.608210867938555, 2.6446263968565424, 2.6454880835264856, 3.8614551514631317, 1.4058612678253353, 3.81565798236098, 4.275966768877942, 0.9383547223128255, 0.9382847452095319, 1.7921922771989522, 6.1740045557796215, 4.351818355159551, 3.4988831155896447, 3.498798863556578, 1.7912485346389846, 4.0270930512773555, 3.5300803257484246, 3.46685656195845, 3.4549171304858057, 1.6963082726854755, 3.4435291305660773, 3.450396270209117, 3.0056008384916413, 3.406434677391362, 3.4086643615271184, 3.3977946513653072, 3.3784490269574903, 3.3655420946501513, 3.350973680306838, 5.298348818894411, 4.261429899134686, 4.238572442353307, 4.236445777291158, 3.498530534806716, 4.350161664708396, 3.601672991723448, 3.5645106577637975, 3.6702697192904163, 3.5270887796264536, 3.598221054160122, 3.648880483957313, 3.487007571914587, 4.677060190238026, 4.677980259512164, 3.727939024513375, 3.719234892252076, 4.658087282741195, 4.0020294278882815, 3.347222284744555, 3.346960874299516, 5.3161048803734, 0.7220570093435131, 0.7216553444359532, 2.033867561148544, 2.034518819316641, 2.034700254876668, 2.0348666503836927, 2.6907912933385862, 2.505566356147942, 2.4550663940554056, 2.4492356281105354, 1.792506819782022, 2.383589377720738, 1.7428208110341066, 1.7378361077533628, 1.7095006478971337, 2.1735466819593903, 1.3782363185926945, 0.7219693950665, 1.4098878714049181, 2.1655616074701984, 1.4096566604313838, 2.0555347867117777, 2.059812130039416, 2.6899368750894586, 3.2930059971744634, 2.84874527220216, 2.7777779465525687, 2.7294826652453605, 2.7213662887061494, 2.728131925247159, 2.690319799613516, 2.7482163642801565, 2.7026691155143587, 2.710126594493472, 2.1386064902561754, 2.0620516655507504, 2.0604781895295154, 3.8723238767755825, 14.502456972878573, 6.709247009453235, 6.710703584077386, 3.871595887088073, 6.697896799018699, 6.673060624266729, 3.1130395614398094, 3.872591738884642, 3.8725322139715175, 2.3543613585319236, 2.3541671585028556, 2.3541876945978837, 2.3538734030565878, 2.2971641671353784, 2.2820821910847995, 3.1118675159003923, 2.282570741809267, 2.27824685211992, 2.2771697488169362, 2.2755409983815733, 2.2461062264661877, 2.241932339557914, 3.4781427590770932, 2.222485252815649, 2.2155154807379285, 2.200283204281711, 2.2057760144525353, 2.1899958111710087, 2.176377403921873, 5.390878519092545, 4.890766270748974, 3.1128059261557963, 3.1127374725057035, 5.39023922152559, 3.9820166843055524, 3.112667828357348, 3.962912163438318, 3.111894599735864, 2.55425598722617, 2.6907186363109523, 2.648961314505146, 2.548939519610476, 2.5753534021848052, 2.5558842912246846, 2.3544132940186246, 2.354335167570149, 3.3769424648895785, 4.327558665120843, 4.307987286706767, 4.265008405808833, 4.260951152586849, 4.245135429118754, 4.24762771882108, 4.240486245022101, 4.238685024154967, 4.230700555815063, 4.216405055033792, 4.2123870707442235, 4.201407541616493, 4.191301585296731, 4.187446470513733, 4.123772218480489, 4.11681035176583, 2.7142705397333846, 4.039064303115477, 1.333397361160513, 1.328610172516543, 1.327133966440437, 1.3269698094278854, 1.3248203181929468, 1.3231855879429553, 1.3193586373532873, 1.3189101829263514, 1.318180247504364, 1.3169980756066222, 1.3144551708254266, 3.6399809023956404, 4.644196942236918, 4.01279338733033, 2.326902155932808, 3.8782660717914177, 3.3766611448327746, 3.378194886332398, 3.3777787000241055, 2.9374127075360326, 2.621390180155273, 2.587141072621877, 4.057912103168347, 2.9603048857510768, 2.9176073249099463, 2.7925856660272492, 6.224842500769364, 3.9201157087321694, 3.9213972408321998, 3.9210204023903428, 3.921051590637242, 3.921044086698138, 3.9209085467980804, 2.3825105143018743, 2.799675828395863, 2.7729667296472096, 2.3822056667757923, 2.7639746656201694, 0.845301973402632, 0.8451836104881781, 4.687245982768658, 3.1868422699385763, 2.3895060615311725, 1.6144933684625828, 3.236654590198524, 3.219498709422999, 3.223807846453221, 3.2055162913939914, 1.4828351154038608, 2.382332530246262, 3.91994288363469, 3.2643129372437785, 0.8456091659096842, 0.8455526518683105, 2.4113324409043755, 2.409441448250277, 2.382034014168798, 1.6899766643958254, 2.941426645050783, 2.921510252677534, 2.908946548135294, 2.830053649871869, 4.077688346488858, 3.0241533527018385, 2.4568909656849898, 2.443342838131601, 2.5574538330909276, 2.410252108171559, 6.121525964011791, 6.12122517538928, 6.121015154440977, 4.776670098742741, 3.0695997944582674, 3.0556597143655324, 3.043745491512056, 3.029819654219263, 3.0339918289888184, 3.0172577460734926, 2.9960239039899372, 2.0851608785712394, 2.797811443856537, 2.7900445312235638, 0.7403169627699381, 3.4328073670154353, 3.432743636520778, 3.432234516773686, 3.4320020453102202, 2.7583692683619274, 1.4129700040645687, 1.3653639280640166, 2.796634360932487, 2.085555331708626, 2.8013091375576353, 2.793223572451376, 2.0861009033674347, 2.3004859421336876, 2.2707155934134944, 2.3143395998132132, 3.4305002748281623, 2.7954179292560544, 3.039877243609067, 2.3274888424040645, 2.850067311231491, 2.82887257649693, 2.8245804242431145, 2.8201026327832706, 2.8146218102427403, 2.808000839496655, 2.9319762052796556, 2.7965131764312825, 2.79600840194519, 4.352843251714601, 2.950835640868841, 2.9507434079489565, 2.950742228499853, 2.9507148652806543, 2.9506981171033866, 2.950615083886508, 2.950591023124799, 2.950601402276909, 2.9505813516421515, 2.950457037706655, 2.9504157569880363, 2.950329185423848, 5.757409087665602, 8.567892880019723, 7.820969464709867, 7.162438683004053, 1.5447195370163518, 1.5447183575672483, 2.950099664628329, 4.353507517449627, 2.9487475441762094, 8.568555258636184, 5.759664666130914, 4.85436246632039, 4.35393023200828, 4.675427299286656, 4.649630388497432, 2.9492853729673527, 2.9507299622291776, 4.9338710174981, 7.65396230234848, 7.644805531289444, 7.542728457408295, 6.5123013328975645, 6.430939159508976, 4.899835418831914, 4.8729685118161, 4.8630342479081134, 7.1629288620514195, 6.432222871913099, 4.742102972439901, 4.355868302774962, 4.355428604149219, 4.9677259245616465, 4.3535664899047966, 4.355837165318632, 3.484777203657206, 4.249643330186762, 3.4165286666932806, 5.988954370216494, 1.7503644465067436, 1.750320346705997, 1.7502820573519702, 1.7501661463891969, 3.4174786002390936, 5.083888200060191, 3.528737927948525, 3.5081349777942865, 3.490668774953968, 3.4936020076468743, 3.4887957253087416, 3.4160694924165873, 3.4889172977324217, 3.491149701159408, 3.471794954149276, 3.415588864182774, 4.249705308285109, 2.5830814668644386, 5.551990898574927, 1.7505222224830637, 1.7507027932888235, 1.7506846170195969, 1.7502915924440237, 1.7505271390149035, 1.7505305656886103, 3.4159070978800536, 2.083578667317384, 3.417037602231627, 3.4168668644895472, 3.416630275017974, 2.5833722871720655, 4.557673287083165, 2.5837110809115855, 2.5835591153819855, 3.4156550138838937, 2.5835251466165454, 3.415813236817654, 2.583141955104652, 3.33119078470246, 2.6497067307005935, 2.583863046441185, 2.583710484968332, 2.583607684757132, 3.603682268996548, 3.6035416909815883, 3.60347327992469, 3.603494205659741, 3.6033874307552485, 3.6033388723187834, 9.75196879645647, 4.093979216493564, 4.041866892692152, 4.019356972186005, 3.996047581289436, 3.984236881803558, 3.9462505022763916, 3.601765686288773, 4.760096067842199, 3.6015553558236415, 0.96662100369218, 0.966359901491684, 8.253308430437727, 2.7237722799231996, 1.8488595173472948, 4.480055004010263, 4.127797618844358, 2.717169137399896, 1.7574577845937904, 2.0619926895819294, 1.7154356892669227, 2.05330260740524, 1.7062201833453874, 2.0327520600522617, 2.724304276495081, 2.7235160738081485, 2.9692880271497235, 2.7240665816071905, 2.723468856764956, 3.4113549112546524, 2.724715547672435, 4.685412656001412, 2.723505074383314, 2.9024732282455354, 2.724847809049106, 2.7242074279008053, 2.7241551135631767], \"Total\": [17.0, 11.0, 14.0, 7.0, 8.0, 8.0, 8.0, 10.0, 9.0, 9.0, 9.0, 9.0, 9.0, 10.0, 9.0, 9.0, 9.0, 12.0, 7.0, 18.0, 10.0, 6.0, 9.0, 12.0, 6.0, 6.0, 9.0, 9.0, 8.0, 6.0, 3.5001042352479907, 4.834925621630325, 4.834621116371158, 4.834749031518132, 2.158500338511717, 6.3710325124796, 6.370817360099366, 6.3708265473124595, 5.503252032550439, 4.940501524983485, 9.440873015838246, 4.948296795894575, 4.413864606495157, 4.964417305732881, 4.94929884371048, 4.979455252805982, 4.974248224695711, 4.984956312001613, 4.996489799552743, 3.7079573345441608, 9.57516940970775, 2.8313709571839114, 1.4874830841838182, 1.4874694657146212, 1.487454531516832, 1.4874489708559966, 9.865746561691806, 6.713088614554267, 5.140203977037409, 3.562915863097733, 7.889843750477671, 5.837096288092767, 5.86202764047069, 5.008386375729319, 6.176453009156941, 8.07356985634772, 10.770589355174009, 7.449970006392035, 12.27847624016449, 7.44998111558035, 7.448632915344963, 11.67787883995801, 7.935723875960563, 8.42849407753997, 3.3764634184088753, 7.296090537686756, 6.4265254982698385, 4.032798266772897, 6.64918213292562, 6.653355198908031, 7.30372507867096, 4.241717780113061, 4.255664097532435, 6.593162335912938, 2.440661512984308, 6.6491557790424265, 7.461673130067583, 1.6697036937786944, 1.6696376253839598, 3.1940736675575945, 11.047303177483215, 7.841915447699271, 6.391037457472796, 6.390968751500721, 3.291658456687884, 7.459936530790018, 6.551698908117037, 6.490645734331785, 6.4710781543966664, 3.181656199432616, 6.470320776842461, 6.50158252197708, 5.702141945128763, 6.509577694832023, 6.518186907888149, 6.512268685312381, 6.531597288061896, 6.5256071934356665, 6.531180767714031, 11.16159442452006, 9.37512771152894, 9.373264775095453, 9.374879540485741, 6.988397559353569, 10.526987074370677, 7.4775035867073125, 7.497428697749167, 8.494193992583805, 7.494225427805024, 8.361472144580812, 10.770589355174009, 7.492114394359555, 6.198763559402294, 6.206039676105238, 4.984726949048119, 4.973999063205832, 6.938446309111488, 6.346893226772927, 6.192970496732178, 6.193144120029024, 10.275452954596554, 1.47291139490182, 1.4727570685237574, 4.2070399024651595, 4.488677440189018, 4.517295297973351, 4.563249811455402, 6.078486990417199, 5.741444850956035, 5.731069156181079, 5.805535610414693, 4.318220969723679, 5.77048009740992, 4.31953891143986, 4.319868722742191, 4.3202355964114245, 5.734987180324453, 3.670531592518748, 2.1456879007499414, 4.44411953139637, 6.9017678462035, 4.637405526170719, 6.787545862988999, 6.814166435376734, 9.22169034644277, 12.27847624016449, 10.708969020153651, 10.693220494697869, 10.620375857664932, 10.656133198701998, 10.705547703263868, 10.524674346969775, 13.105639899945787, 13.073200050547507, 15.630278308057365, 11.558308594755578, 6.831132716347888, 6.832240453988072, 4.613373800813412, 17.56891621135389, 9.339647992946466, 9.348386634740061, 5.402805277228026, 9.349921662150132, 9.348967389359046, 4.687547989379503, 6.165397902598716, 6.1653936355833485, 3.767971202644242, 3.767703700057963, 3.7678075195758063, 3.76758568739191, 3.8911404561150102, 3.867049597013773, 5.278749987908622, 3.881666055181661, 3.8806210224375226, 3.894818392706282, 3.89244273398491, 3.8967886617637078, 3.9030288380558424, 6.079016090431977, 3.902283267254863, 3.893141542287865, 3.8917307525147757, 3.910278848941022, 3.8993890204203825, 3.889209438382838, 9.8269370147308, 11.67787883995801, 6.836213570136073, 6.926464485633946, 18.889993528515852, 13.030362500519487, 8.58489533439006, 17.33625144467192, 9.803641848035573, 5.656484864785007, 6.8240277409690915, 7.721377529763645, 6.7899310715714325, 8.28037146088791, 13.183525595673288, 9.820335693330591, 9.81694640072533, 4.128195557990127, 5.475293795636856, 5.474819970726943, 5.4786368290734035, 5.482042451237356, 5.471343949343672, 5.4748239394226506, 5.478430108837921, 5.4762061964066415, 5.480326510941053, 5.48134791060506, 5.47642860541798, 5.469672498529711, 5.485030226899368, 5.480167216140082, 5.480823868976147, 5.472983813137808, 4.12190227192139, 6.286246566349467, 2.142151236781926, 2.1422337396445523, 2.1421080119864686, 2.142226728528719, 2.1422041778734733, 2.1422481898014087, 2.142319284241158, 2.1423655682472145, 2.1422414978342132, 2.1422721082818166, 2.142311844689957, 6.409768444603459, 9.298032542271851, 8.360077339755241, 4.335599005126728, 8.44389361151051, 7.131590975410082, 7.181201465503621, 7.181061596103804, 6.942039044404524, 5.89284170505264, 5.877134237422664, 13.692215231800557, 7.964354810756378, 7.9655514147587345, 8.801142882610183, 7.799405338085456, 5.333381191525263, 6.19637096466081, 6.1960177993657375, 6.196091334993769, 6.196128324714269, 6.195958570347053, 3.7954791736739866, 4.516503438538436, 4.5125770315551135, 3.881838547001032, 4.511714987457472, 1.5851275021082811, 1.585051813082483, 9.464202347498585, 6.542081535015702, 4.9636416533160315, 3.84968617053876, 7.861373695081856, 7.849531546516549, 7.883425277683676, 7.868228173643842, 3.67891435710083, 6.1237380188614425, 10.317462289620018, 8.596758209188645, 2.247606772291879, 2.247604723783913, 6.4610752871068415, 6.469590503734702, 6.592726963725038, 4.670725157041476, 8.46256185922101, 8.448171247218108, 8.47242795654514, 8.470424811440532, 14.55793928040851, 11.1344871214705, 7.9655514147587345, 7.964354810756378, 17.33625144467192, 7.7439488617744585, 8.945029143836468, 8.944661575722682, 8.945393291922679, 7.046059082244905, 5.032290269320762, 5.035412292677071, 5.021927543135301, 5.024983496245403, 5.039126923375406, 5.04924498894409, 5.032452190970553, 3.688262481115437, 4.971288258316293, 4.976343442709379, 1.4895390249192875, 6.954453437982249, 6.954522689396698, 6.9539760498169905, 6.953793903339446, 5.675103417785199, 3.0409661592519415, 3.028759611142609, 6.48258857183733, 5.144280862751822, 6.9697998000746475, 6.961337188252513, 5.272868578929848, 5.83275655378783, 5.8479517078539445, 6.148434785652556, 9.22169034644277, 7.935723875960563, 8.95700144453215, 6.366262845651319, 9.776430116953351, 9.795071027068245, 9.791424888229045, 9.80306467810315, 9.82135108208452, 9.792247329431676, 14.55793928040851, 9.81694640072533, 13.030362500519487, 5.029545762146074, 3.6267877639532116, 3.6266958126918927, 3.6266969050713023, 3.626669867214159, 3.626652872562497, 3.6265725172645302, 3.6265480888648876, 3.6265613813608963, 3.6265383738115933, 3.6264216401243794, 3.626381881485517, 3.626298186071432, 7.107317087801316, 10.84711545065557, 10.652971260773867, 10.220659436169301, 2.220893114480364, 2.2208952727810978, 4.45964958797926, 6.5872592867631585, 4.478678101616925, 13.419511841895579, 9.021621560332083, 8.053005326315272, 7.285228092011718, 7.9837506109601515, 8.053971395212253, 5.166912913932376, 5.314961672225982, 9.080213420672036, 14.485817847196707, 14.492323245208025, 14.421828132512193, 13.105639899945787, 13.073200050547507, 9.068561350395386, 9.066422180379563, 9.04508411812472, 18.889993528515852, 15.630278308057365, 9.010195850347252, 7.981031930104951, 7.980589433261431, 12.440968928493108, 9.187381609608819, 10.41986187491404, 8.416551495417108, 4.983424362810836, 5.5545698849504745, 9.970498003773773, 3.1459392674581492, 3.1564390758001917, 3.1565450467045277, 3.1564283096983403, 6.276926907710913, 10.317462289620018, 7.346230768124702, 7.321539590136803, 7.3049687133718555, 7.312600412896915, 7.318100691736175, 7.17047630165398, 7.326438501905664, 7.3356773950010545, 7.327223476794242, 7.251152708326144, 9.352682771827247, 5.694025237927538, 12.440968928493108, 3.9468106495849273, 3.9526071507983236, 3.9556602676383505, 3.9571157388652143, 3.974096815102175, 3.974506657674787, 7.771377677349074, 4.74562459213595, 7.94601828263932, 7.945617212882035, 8.011389147403817, 6.097780206213496, 11.558308594755578, 6.266101914209162, 6.265884538153612, 9.283540586193947, 6.266142694532921, 10.680328524313556, 6.943869584387723, 13.183525595673288, 9.329573506067463, 8.052318031286017, 7.7439488617744585, 7.112568766326571, 4.332354155264699, 4.332232874886387, 4.3321507754433, 4.332178636335571, 4.332087268932886, 4.332033561473356, 11.828715866406458, 5.820138899999624, 5.816091778389542, 5.804304408880778, 5.795264938790467, 5.796241835969446, 5.785733486380982, 5.677130761717052, 7.5264377849215, 5.943529208770098, 1.6952696651986234, 1.6951812965518145, 14.510798492878966, 4.836501263474818, 3.3560765462011117, 8.147244117590137, 7.680665195355896, 5.074587186997035, 3.3517123368063286, 4.03284740678506, 3.3595253061841097, 4.036344125903598, 3.3560456994611405, 4.019110874514326, 5.711251789380643, 5.7305709786389185, 6.654537890276267, 6.078486990417199, 6.415471673286749, 9.597158035507071, 6.592726963725038, 17.33625144467192, 7.819309965819229, 15.630278308057365, 8.052318031286017, 13.692215231800557, 8.051395949748601], \"Category\": [\"Default\", \"Default\", \"Default\", \"Default\", \"Default\", \"Default\", \"Default\", \"Default\", \"Default\", \"Default\", \"Default\", \"Default\", \"Default\", \"Default\", \"Default\", \"Default\", \"Default\", \"Default\", \"Default\", \"Default\", \"Default\", \"Default\", \"Default\", \"Default\", \"Default\", \"Default\", \"Default\", \"Default\", \"Default\", \"Default\", \"Topic1\", \"Topic1\", \"Topic1\", \"Topic1\", \"Topic1\", \"Topic1\", \"Topic1\", \"Topic1\", \"Topic1\", \"Topic1\", \"Topic1\", \"Topic1\", \"Topic1\", \"Topic1\", \"Topic1\", \"Topic1\", \"Topic1\", \"Topic1\", \"Topic1\", \"Topic1\", \"Topic1\", \"Topic1\", \"Topic1\", \"Topic1\", \"Topic1\", \"Topic1\", \"Topic1\", \"Topic1\", \"Topic1\", \"Topic1\", \"Topic1\", \"Topic1\", \"Topic1\", \"Topic1\", \"Topic1\", \"Topic1\", \"Topic1\", \"Topic1\", \"Topic1\", \"Topic1\", \"Topic1\", \"Topic1\", \"Topic1\", \"Topic2\", \"Topic2\", \"Topic2\", \"Topic2\", \"Topic2\", \"Topic2\", \"Topic2\", \"Topic2\", \"Topic2\", \"Topic2\", \"Topic2\", \"Topic2\", \"Topic2\", \"Topic2\", \"Topic2\", \"Topic2\", \"Topic2\", \"Topic2\", \"Topic2\", \"Topic2\", \"Topic2\", \"Topic2\", \"Topic2\", \"Topic2\", \"Topic2\", \"Topic2\", \"Topic2\", \"Topic2\", \"Topic2\", \"Topic2\", \"Topic2\", \"Topic2\", \"Topic2\", \"Topic2\", \"Topic2\", \"Topic2\", \"Topic2\", \"Topic2\", \"Topic2\", \"Topic2\", \"Topic2\", \"Topic2\", \"Topic2\", \"Topic2\", \"Topic2\", \"Topic2\", \"Topic2\", \"Topic2\", \"Topic2\", \"Topic3\", \"Topic3\", \"Topic3\", \"Topic3\", \"Topic3\", \"Topic3\", \"Topic3\", \"Topic3\", \"Topic3\", \"Topic3\", \"Topic3\", \"Topic3\", \"Topic3\", \"Topic3\", \"Topic3\", \"Topic3\", \"Topic3\", \"Topic3\", \"Topic3\", \"Topic3\", \"Topic3\", \"Topic3\", \"Topic3\", \"Topic3\", \"Topic3\", \"Topic3\", \"Topic3\", \"Topic3\", \"Topic3\", \"Topic3\", \"Topic3\", \"Topic3\", \"Topic3\", \"Topic3\", \"Topic3\", \"Topic3\", \"Topic3\", \"Topic3\", \"Topic3\", \"Topic3\", \"Topic3\", \"Topic3\", \"Topic3\", \"Topic3\", \"Topic3\", \"Topic3\", \"Topic4\", \"Topic4\", \"Topic4\", \"Topic4\", \"Topic4\", \"Topic4\", \"Topic4\", \"Topic4\", \"Topic4\", \"Topic4\", \"Topic4\", \"Topic4\", \"Topic4\", \"Topic4\", \"Topic4\", \"Topic4\", \"Topic4\", \"Topic4\", \"Topic4\", \"Topic4\", \"Topic4\", \"Topic4\", \"Topic4\", \"Topic4\", \"Topic4\", \"Topic4\", \"Topic4\", \"Topic4\", \"Topic4\", \"Topic4\", \"Topic4\", \"Topic4\", \"Topic4\", \"Topic4\", \"Topic4\", \"Topic4\", \"Topic4\", \"Topic4\", \"Topic4\", \"Topic4\", \"Topic4\", \"Topic4\", \"Topic4\", \"Topic4\", \"Topic4\", \"Topic4\", \"Topic4\", \"Topic5\", \"Topic5\", \"Topic5\", \"Topic5\", \"Topic5\", \"Topic5\", \"Topic5\", \"Topic5\", \"Topic5\", \"Topic5\", \"Topic5\", \"Topic5\", \"Topic5\", \"Topic5\", \"Topic5\", \"Topic5\", \"Topic5\", \"Topic5\", \"Topic5\", \"Topic5\", \"Topic5\", \"Topic5\", \"Topic5\", \"Topic5\", \"Topic5\", \"Topic5\", \"Topic5\", \"Topic5\", \"Topic5\", \"Topic5\", \"Topic5\", \"Topic5\", \"Topic5\", \"Topic5\", \"Topic5\", \"Topic5\", \"Topic5\", \"Topic5\", \"Topic5\", \"Topic5\", \"Topic5\", \"Topic5\", \"Topic5\", \"Topic5\", \"Topic5\", \"Topic6\", \"Topic6\", \"Topic6\", \"Topic6\", \"Topic6\", \"Topic6\", \"Topic6\", \"Topic6\", \"Topic6\", \"Topic6\", \"Topic6\", \"Topic6\", \"Topic6\", \"Topic6\", \"Topic6\", \"Topic6\", \"Topic6\", \"Topic6\", \"Topic6\", \"Topic6\", \"Topic6\", \"Topic6\", \"Topic6\", \"Topic6\", \"Topic6\", \"Topic6\", \"Topic6\", \"Topic6\", \"Topic6\", \"Topic6\", \"Topic6\", \"Topic6\", \"Topic6\", \"Topic6\", \"Topic6\", \"Topic6\", \"Topic6\", \"Topic6\", \"Topic6\", \"Topic6\", \"Topic6\", \"Topic6\", \"Topic7\", \"Topic7\", \"Topic7\", \"Topic7\", \"Topic7\", \"Topic7\", \"Topic7\", \"Topic7\", \"Topic7\", \"Topic7\", \"Topic7\", \"Topic7\", \"Topic7\", \"Topic7\", \"Topic7\", \"Topic7\", \"Topic7\", \"Topic7\", \"Topic7\", \"Topic7\", \"Topic7\", \"Topic7\", \"Topic7\", \"Topic7\", \"Topic7\", \"Topic7\", \"Topic7\", \"Topic7\", \"Topic7\", \"Topic7\", \"Topic7\", \"Topic7\", \"Topic7\", \"Topic7\", \"Topic7\", \"Topic7\", \"Topic7\", \"Topic7\", \"Topic7\", \"Topic7\", \"Topic7\", \"Topic7\", \"Topic7\", \"Topic8\", \"Topic8\", \"Topic8\", \"Topic8\", \"Topic8\", \"Topic8\", \"Topic8\", \"Topic8\", \"Topic8\", \"Topic8\", \"Topic8\", \"Topic8\", \"Topic8\", \"Topic8\", \"Topic8\", \"Topic8\", \"Topic8\", \"Topic8\", \"Topic8\", \"Topic8\", \"Topic8\", \"Topic8\", \"Topic8\", \"Topic8\", \"Topic8\", \"Topic8\", \"Topic8\", \"Topic8\", \"Topic8\", \"Topic8\", \"Topic8\", \"Topic8\", \"Topic8\", \"Topic8\", \"Topic8\", \"Topic8\", \"Topic8\", \"Topic8\", \"Topic8\", \"Topic8\", \"Topic8\", \"Topic8\", \"Topic8\", \"Topic8\", \"Topic8\", \"Topic8\", \"Topic8\", \"Topic8\", \"Topic9\", \"Topic9\", \"Topic9\", \"Topic9\", \"Topic9\", \"Topic9\", \"Topic9\", \"Topic9\", \"Topic9\", \"Topic9\", \"Topic9\", \"Topic9\", \"Topic9\", \"Topic9\", \"Topic9\", \"Topic9\", \"Topic9\", \"Topic9\", \"Topic9\", \"Topic9\", \"Topic9\", \"Topic9\", \"Topic9\", \"Topic9\", \"Topic9\", \"Topic9\", \"Topic9\", \"Topic9\", \"Topic9\", \"Topic9\", \"Topic9\", \"Topic9\", \"Topic9\", \"Topic9\", \"Topic9\", \"Topic9\", \"Topic9\", \"Topic9\", \"Topic9\", \"Topic9\", \"Topic9\", \"Topic9\", \"Topic9\", \"Topic9\", \"Topic9\", \"Topic9\", \"Topic10\", \"Topic10\", \"Topic10\", \"Topic10\", \"Topic10\", \"Topic10\", \"Topic10\", \"Topic10\", \"Topic10\", \"Topic10\", \"Topic10\", \"Topic10\", \"Topic10\", \"Topic10\", \"Topic10\", \"Topic10\", \"Topic10\", \"Topic10\", \"Topic10\", \"Topic10\", \"Topic10\", \"Topic10\", \"Topic10\", \"Topic10\", \"Topic10\", \"Topic10\", \"Topic10\", \"Topic10\", \"Topic10\", \"Topic10\", \"Topic10\", \"Topic10\", \"Topic10\", \"Topic10\", \"Topic10\", \"Topic10\", \"Topic10\", \"Topic10\", \"Topic10\", \"Topic10\", \"Topic10\", \"Topic10\", \"Topic10\"], \"logprob\": [30.0, 29.0, 28.0, 27.0, 26.0, 25.0, 24.0, 23.0, 22.0, 21.0, 20.0, 19.0, 18.0, 17.0, 16.0, 15.0, 14.0, 13.0, 12.0, 11.0, 10.0, 9.0, 8.0, 7.0, 6.0, 5.0, 4.0, 3.0, 2.0, 1.0, -5.167, -4.9484, -4.9485, -4.9485, -5.8357, -4.7693, -4.7694, -4.7694, -4.9486, -5.1245, -4.4782, -5.1325, -5.2508, -5.1335, -5.1387, -5.135, -5.1389, -5.1412, -5.1395, -5.4466, -4.5333, -5.8358, -6.4823, -6.4824, -6.4824, -6.4824, -4.6648, -5.167, -5.4462, -5.8358, -5.1635, -5.4463, -5.4463, -5.5865, -5.4464, -5.2601, -5.1638, -5.3577, -5.1671, -5.3598, -5.3618, -5.4034, -5.4422, -4.8124, -5.7814, -5.1432, -5.293, -5.7814, -5.2834, -5.2834, -5.2262, -5.7815, -5.7812, -5.403, -6.4134, -5.4149, -5.301, -6.8176, -6.8177, -6.1706, -4.9337, -5.2834, -5.5016, -5.5016, -6.1711, -5.361, -5.4927, -5.5108, -5.5142, -6.2256, -5.5175, -5.5155, -5.6535, -5.5283, -5.5277, -5.5309, -5.5366, -5.5404, -5.5448, -5.0866, -5.3044, -5.3098, -5.3103, -5.5017, -5.2838, -5.4726, -5.483, -5.4537, -5.4935, -5.4736, -5.4596, -5.505, -4.697, -4.6968, -4.9238, -4.9261, -4.701, -4.8528, -5.0315, -5.0316, -4.5689, -6.5653, -6.5658, -5.5297, -5.5294, -5.5293, -5.5292, -5.2498, -5.3211, -5.3415, -5.3439, -5.656, -5.371, -5.6841, -5.687, -5.7034, -5.4633, -5.9188, -6.5654, -5.8961, -5.467, -5.8963, -5.5191, -5.517, -5.2501, -5.0478, -5.1928, -5.218, -5.2355, -5.2385, -5.236, -5.25, -5.2287, -5.2454, -5.2426, -5.4795, -5.5159, -5.5167, -5.1063, -3.7858, -4.5566, -4.5564, -5.1065, -4.5583, -4.5621, -5.3245, -5.1062, -5.1062, -5.6039, -5.6039, -5.6039, -5.6041, -5.6285, -5.635, -5.3249, -5.6348, -5.6367, -5.6372, -5.6379, -5.6509, -5.6528, -5.2136, -5.6615, -5.6646, -5.6715, -5.6691, -5.6762, -5.6825, -4.7754, -4.8728, -5.3246, -5.3246, -4.7755, -5.0783, -5.3246, -5.0832, -5.3249, -5.5224, -5.4703, -5.486, -5.5245, -5.5141, -5.5217, -5.6038, -5.6039, -5.3215, -5.0735, -5.078, -5.088, -5.089, -5.0927, -5.0921, -5.0938, -5.0942, -5.0961, -5.0995, -5.1004, -5.103, -5.1055, -5.1064, -5.1217, -5.1234, -5.5399, -5.1425, -6.2507, -6.2543, -6.2554, -6.2556, -6.2572, -6.2584, -6.2613, -6.2617, -6.2622, -6.2631, -6.265, -5.2465, -5.0028, -5.149, -5.6939, -5.1831, -5.3216, -5.3211, -5.3212, -5.4609, -5.5748, -5.5879, -5.1378, -5.4532, -5.4677, -5.5115, -4.3932, -4.8556, -4.8553, -4.8554, -4.8554, -4.8554, -4.8554, -5.3536, -5.1922, -5.2018, -5.3537, -5.2051, -6.3898, -6.3899, -4.6769, -5.0627, -5.3507, -5.7427, -5.0472, -5.0525, -5.0512, -5.0569, -5.8278, -5.3537, -4.8557, -5.0387, -6.3894, -6.3895, -5.3416, -5.3423, -5.3538, -5.697, -5.1428, -5.1496, -5.154, -5.1814, -4.8162, -5.1151, -5.3228, -5.3284, -5.2827, -5.342, -4.439, -4.439, -4.439, -4.687, -5.1292, -5.1338, -5.1377, -5.1423, -5.1409, -5.1464, -5.1535, -5.5159, -5.2219, -5.2247, -6.5514, -5.0174, -5.0174, -5.0176, -5.0176, -5.2361, -5.9051, -5.9393, -5.2223, -5.5157, -5.2207, -5.2236, -5.5155, -5.4176, -5.4307, -5.4116, -5.0181, -5.2228, -5.1389, -5.406, -5.2034, -5.2109, -5.2124, -5.214, -5.2159, -5.2183, -5.1751, -5.2224, -5.2226, -5.45, -5.8387, -5.8388, -5.8388, -5.8388, -5.8388, -5.8388, -5.8388, -5.8388, -5.8388, -5.8388, -5.8389, -5.8389, -5.1703, -4.7728, -4.864, -4.952, -6.486, -6.486, -5.839, -5.4498, -5.8394, -4.7727, -5.1699, -5.3409, -5.4497, -5.3785, -5.384, -5.8392, -5.8388, -5.3247, -4.8856, -4.8868, -4.9002, -5.0471, -5.0597, -5.3316, -5.3371, -5.3391, -4.9519, -5.0595, -5.3643, -5.4493, -5.4494, -5.3178, -5.4498, -5.4493, -5.6724, -5.0145, -5.2327, -4.6714, -5.9015, -5.9015, -5.9015, -5.9016, -5.2324, -4.8352, -5.2004, -5.2062, -5.2112, -5.2104, -5.2117, -5.2328, -5.2117, -5.2111, -5.2166, -5.2329, -5.0144, -5.5123, -4.7471, -5.9014, -5.9013, -5.9013, -5.9015, -5.9014, -5.9014, -5.2329, -5.7272, -5.2325, -5.2326, -5.2326, -5.5122, -4.9445, -5.5121, -5.5121, -5.2329, -5.5121, -5.2329, -5.5123, -5.258, -5.4868, -5.512, -5.5121, -5.5121, -5.0744, -5.0744, -5.0744, -5.0744, -5.0744, -5.0745, -4.0789, -4.9468, -4.9596, -4.9652, -4.971, -4.974, -4.9836, -5.0749, -4.7961, -5.075, -6.3903, -6.3905, -4.2457, -5.3543, -5.7418, -4.8567, -4.9386, -5.3567, -5.7925, -5.6327, -5.8167, -5.6369, -5.822, -5.6469, -5.3541, -5.3544, -5.268, -5.3542, -5.3544, -5.1292, -5.354, -4.8119, -5.3544, -5.2908, -5.3539, -5.3541, -5.3542], \"loglift\": [30.0, 29.0, 28.0, 27.0, 26.0, 25.0, 24.0, 23.0, 22.0, 21.0, 20.0, 19.0, 18.0, 17.0, 16.0, 15.0, 14.0, 13.0, 12.0, 11.0, 10.0, 9.0, 8.0, 7.0, 6.0, 5.0, 4.0, 3.0, 2.0, 1.0, 2.3495, 2.2451, 2.2451, 2.245, 2.1642, 2.1483, 2.1483, 2.1483, 2.1154, 2.0474, 2.0461, 2.0378, 2.0338, 2.0336, 2.0314, 2.029, 2.0262, 2.0218, 2.0212, 2.0123, 1.9769, 1.8928, 1.8899, 1.8899, 1.8899, 1.8899, 1.8155, 1.6983, 1.686, 1.663, 1.5403, 1.5588, 1.5546, 1.5717, 1.5022, 1.4207, 1.2287, 1.4035, 1.0944, 1.4014, 1.3995, 0.9082, 1.2558, 1.8254, 1.7711, 1.6388, 1.6159, 1.5935, 1.5915, 1.5908, 1.5548, 1.5429, 1.5399, 1.4804, 1.4637, 1.46, 1.4586, 1.4391, 1.439, 1.4375, 1.4335, 1.4265, 1.4129, 1.4129, 1.4069, 1.3988, 1.3969, 1.3882, 1.3878, 1.3864, 1.3846, 1.3818, 1.375, 1.3677, 1.3671, 1.3648, 1.3561, 1.3532, 1.348, 1.2703, 1.2269, 1.2217, 1.221, 1.3234, 1.1316, 1.2848, 1.2718, 1.1762, 1.2617, 1.1722, 0.9329, 1.2505, 2.248, 2.2471, 2.2392, 2.239, 2.1312, 2.0686, 1.9144, 1.9143, 1.8707, 1.8168, 1.8164, 1.8029, 1.7384, 1.7322, 1.7221, 1.7148, 1.7005, 1.682, 1.6667, 1.6505, 1.6456, 1.6221, 1.6191, 1.6026, 1.5595, 1.5502, 1.4405, 1.3816, 1.3706, 1.3389, 1.3352, 1.3333, 1.2977, 1.2137, 1.2055, 1.1818, 1.1711, 1.1647, 1.1626, 1.1657, 0.9676, 0.9534, 0.7775, 0.8425, 1.3319, 1.331, 2.1341, 2.1174, 1.9784, 1.9777, 1.976, 1.9756, 1.972, 1.8999, 1.8442, 1.8442, 1.839, 1.8389, 1.8389, 1.8388, 1.7822, 1.7818, 1.7808, 1.7783, 1.7766, 1.7725, 1.7724, 1.7583, 1.7548, 1.7509, 1.7463, 1.7455, 1.739, 1.7367, 1.7323, 1.7287, 1.7088, 1.4389, 1.5225, 1.5094, 1.0552, 1.1237, 1.2947, 0.8334, 1.1617, 1.5142, 1.3786, 1.2394, 1.3295, 1.1413, 0.6687, 0.8811, 0.8814, 2.03, 1.9956, 1.9912, 1.9805, 1.9789, 1.9771, 1.9771, 1.9747, 1.9747, 1.9721, 1.9685, 1.9685, 1.9671, 1.9619, 1.9618, 1.9464, 1.9461, 1.8131, 1.7885, 1.7568, 1.7532, 1.7521, 1.7519, 1.7503, 1.7491, 1.7461, 1.7458, 1.7453, 1.7444, 1.7424, 1.665, 1.5367, 1.4969, 1.6086, 1.4528, 1.4832, 1.4768, 1.4767, 1.3708, 1.4209, 1.4104, 1.0147, 1.2412, 1.2265, 1.083, 2.3221, 2.2397, 2.0901, 2.0901, 2.09, 2.09, 2.09, 2.082, 2.0694, 2.0607, 2.0593, 2.0576, 1.9189, 1.9188, 1.8449, 1.8284, 1.8166, 1.6786, 1.6602, 1.6564, 1.6534, 1.6496, 1.6389, 1.6035, 1.5798, 1.5793, 1.57, 1.57, 1.562, 1.5599, 1.5296, 1.531, 1.4909, 1.4858, 1.4786, 1.4513, 1.275, 1.2442, 1.3714, 1.366, 0.6338, 1.3804, 2.1393, 2.1393, 2.1392, 2.1299, 2.0243, 2.0191, 2.0179, 2.0127, 2.0112, 2.0037, 2.0, 1.9483, 1.9437, 1.9399, 1.8194, 1.8126, 1.8126, 1.8125, 1.8124, 1.7971, 1.7521, 1.7219, 1.6779, 1.6157, 1.6071, 1.6054, 1.5913, 1.5882, 1.5726, 1.5415, 1.5297, 1.4752, 1.438, 1.5124, 1.286, 1.2766, 1.2754, 1.2727, 1.2689, 1.2695, 0.9161, 1.2628, 0.9795, 1.704, 1.6423, 1.6423, 1.6423, 1.6423, 1.6423, 1.6423, 1.6423, 1.6423, 1.6423, 1.6423, 1.6423, 1.6422, 1.6379, 1.6127, 1.5395, 1.493, 1.4855, 1.4855, 1.4353, 1.4344, 1.4306, 1.3999, 1.3998, 1.3424, 1.3338, 1.3135, 1.2992, 1.2878, 1.2601, 1.2386, 1.2106, 1.209, 1.2004, 1.1492, 1.1391, 1.2329, 1.2277, 1.228, 0.8788, 0.9607, 1.2067, 1.243, 1.243, 0.9305, 1.1017, 0.9763, 0.9667, 2.1488, 1.8221, 1.7983, 1.7218, 1.7184, 1.7184, 1.7183, 1.7001, 1.6003, 1.5748, 1.5723, 1.5696, 1.5694, 1.5673, 1.5666, 1.5662, 1.5655, 1.5611, 1.5552, 1.5192, 1.5176, 1.5012, 1.4951, 1.4937, 1.4929, 1.4923, 1.4882, 1.4881, 1.4861, 1.4849, 1.4642, 1.4642, 1.4558, 1.4492, 1.3775, 1.4221, 1.4221, 1.3082, 1.4221, 1.1681, 1.3192, 0.9324, 1.0493, 1.1714, 1.2104, 1.2954, 2.2289, 2.2289, 2.2289, 2.2289, 2.2289, 2.2289, 2.22, 2.0612, 2.0491, 2.0456, 2.0413, 2.0382, 2.0304, 1.958, 1.9549, 1.9121, 1.8512, 1.851, 1.8487, 1.8389, 1.8168, 1.815, 1.7921, 1.7884, 1.7674, 1.7422, 1.7409, 1.7371, 1.7365, 1.7314, 1.6728, 1.6691, 1.6061, 1.6104, 1.5562, 1.3787, 1.5294, 1.1047, 1.3584, 0.7294, 1.3295, 0.7984, 1.3293]}, \"token.table\": {\"Topic\": [1, 2, 4, 6, 2, 3, 4, 5, 8, 10, 7, 9, 4, 5, 6, 7, 8, 2, 3, 4, 6, 7, 8, 9, 10, 1, 1, 1, 1, 7, 9, 1, 4, 7, 2, 3, 4, 5, 8, 1, 2, 7, 1, 2, 5, 1, 2, 4, 6, 7, 10, 10, 1, 2, 4, 6, 7, 8, 10, 7, 9, 2, 4, 6, 8, 8, 8, 8, 8, 8, 8, 8, 8, 8, 8, 8, 8, 7, 1, 6, 7, 1, 2, 7, 1, 4, 5, 8, 2, 6, 4, 7, 10, 3, 5, 7, 9, 10, 2, 3, 5, 8, 10, 2, 4, 10, 2, 4, 6, 8, 3, 6, 7, 8, 3, 4, 6, 7, 8, 9, 10, 2, 7, 1, 2, 3, 5, 6, 10, 2, 3, 6, 1, 5, 7, 3, 8, 7, 10, 2, 8, 10, 5, 8, 10, 2, 3, 4, 1, 5, 7, 9, 2, 4, 9, 10, 5, 6, 8, 2, 3, 6, 1, 4, 9, 2, 3, 10, 1, 6, 2, 7, 2, 3, 4, 6, 7, 8, 10, 3, 4, 6, 9, 2, 4, 5, 7, 8, 9, 10, 2, 4, 6, 8, 3, 4, 6, 7, 8, 2, 3, 9, 10, 1, 3, 1, 3, 5, 9, 6, 3, 7, 10, 1, 3, 4, 7, 8, 9, 10, 5, 9, 10, 5, 1, 4, 7, 1, 10, 1, 3, 4, 6, 1, 5, 8, 9, 1, 2, 9, 2, 7, 10, 2, 6, 1, 7, 2, 4, 8, 10, 5, 6, 9, 10, 5, 10, 1, 3, 5, 7, 8, 9, 1, 2, 7, 1, 9, 3, 5, 1, 2, 3, 5, 6, 2, 7, 7, 9, 2, 3, 6, 8, 1, 2, 3, 9, 1, 5, 1, 3, 8, 1, 2, 3, 5, 6, 1, 8, 1, 4, 7, 1, 4, 9, 2, 7, 9, 10, 5, 7, 9, 1, 5, 2, 6, 7, 10, 4, 2, 3, 9, 10, 5, 7, 8, 2, 2, 3, 7, 4, 5, 5, 10, 2, 3, 5, 6, 9, 4, 7, 10, 2, 3, 6, 7, 8, 9, 4, 9, 2, 7, 1, 4, 10, 2, 3, 9, 1, 10, 3, 4, 9, 2, 4, 6, 8, 2, 4, 6, 8, 7, 10, 1, 2, 3, 5, 3, 6, 8, 5, 2, 3, 9, 3, 7, 5, 6, 7, 9, 10, 6, 8, 9, 10, 5, 2, 3, 9, 10, 1, 2, 3, 6, 8, 10, 2, 3, 4, 6, 7, 8, 9, 10, 1, 2, 6, 7, 6, 9, 4, 6, 3, 1, 3, 4, 5, 6, 8, 4, 8, 2, 3, 5, 6, 9, 2, 3, 9, 4, 7, 9, 10, 4, 7, 3, 6, 9, 7, 10, 7, 10, 10, 1, 3, 4, 5, 8, 4, 10, 2, 3, 4, 8, 10, 3, 1, 2, 3, 9, 2, 3, 9, 5, 4, 4, 6, 7, 8, 9, 1, 4, 8, 2, 8, 1, 2, 6, 7, 7, 9, 2, 3, 4, 5, 7, 8, 2, 3, 9, 2, 3, 4, 7, 8, 2, 3, 4, 7, 9, 2, 7, 8, 2, 7, 8, 9, 2, 8, 10, 6, 3, 4, 6, 3, 5, 7, 8, 10, 2, 7, 1, 3, 8, 9, 5, 6, 9, 10, 2, 6, 10, 4, 1, 3, 4, 6, 9, 2, 3, 6, 10, 5, 2, 6, 8, 3, 8, 1, 2, 4, 6, 7, 8, 2, 3, 4, 7, 9, 5, 2, 3, 7, 4, 7, 2, 7, 2, 7, 5, 9, 1, 10, 2, 7, 9, 1, 10, 4, 1, 10, 5, 8, 9, 2, 8, 9, 5, 5, 6, 9, 10, 2, 7, 8, 10, 4, 2, 4, 6, 7, 9, 7, 10, 2, 4, 5, 2, 3, 5, 8, 2, 3, 7, 1, 5, 1, 2, 6, 7, 2, 4, 5, 7, 3, 6, 10, 3, 6, 7, 10, 2, 3, 7, 1, 4, 6, 7, 9, 1, 2, 7, 3, 4, 5, 1, 4, 6, 1, 2, 3, 4, 8, 9, 5, 6, 9, 7, 10, 3, 6, 10, 2, 7, 4, 5, 6, 2, 4, 9, 3, 7, 10, 1, 4, 6, 7, 9, 1, 5, 10, 7, 9, 4, 7, 10, 1, 4, 5, 8, 2, 6, 8, 2, 3, 9, 10, 6, 9, 10, 2, 4, 7, 8, 2, 5, 8, 9, 10, 1, 2, 6, 7, 2, 1, 2, 6, 7, 1, 3, 5, 2, 3, 5, 6, 9, 3, 10, 1, 5, 1, 2, 3, 5, 10, 4, 4, 2, 3, 5, 4, 7, 4, 5, 5, 6, 5, 2, 3, 4, 7, 8, 1, 2, 2, 4, 7, 8, 5, 5, 10, 5, 1, 10, 1, 10, 2, 9, 4, 10, 2, 7, 8, 2, 3, 7, 2, 4, 7, 8, 5, 7, 8, 7, 10, 2, 9, 1, 2, 3, 4, 6, 7, 8, 4, 1, 6, 4, 6, 10, 1, 4, 7, 10, 2, 8, 5, 6, 2, 3, 5, 6, 9, 2, 3, 5, 8, 3, 6, 7, 9, 10, 1, 2, 3, 4, 8, 1, 7, 5, 1, 4, 9, 7, 8, 1, 6, 2, 8, 1, 2, 7, 9, 2, 3, 4, 7, 9, 2, 10, 2, 4, 7, 8, 3, 2, 7, 8, 5, 4, 6, 1, 5, 7, 9, 10, 10, 1, 5, 6, 8, 5, 2, 4, 2, 4, 6, 8, 5, 3, 5, 2, 4, 7, 8, 2, 7, 8, 2, 2, 3, 7, 8, 9, 2, 3, 5, 6, 1, 2, 3, 4, 5, 7, 10, 8, 1, 3, 5, 6, 1, 5, 3, 5, 6, 7, 1, 2, 6, 7, 8, 5, 10, 1, 4, 7, 1, 10, 2, 4, 9, 3, 6, 10, 5, 7, 8, 4, 1, 2, 1, 2, 4, 5, 6, 3, 4, 6, 5, 1, 4, 7, 9, 1, 3, 2, 4, 7, 8, 1, 5, 7, 9, 2, 4, 7, 8, 1, 4, 6, 8, 9, 5, 6, 8, 9, 5, 6, 8, 1, 5, 1, 4, 8, 2, 3, 5, 7, 2, 9, 10, 2, 7, 8, 10, 5, 1, 2, 7, 8, 9, 1, 5, 4, 2, 4, 9, 2, 7, 8, 10, 2, 3, 8, 9, 10, 2, 5, 6, 8, 9, 1, 4, 8, 10, 1, 5, 7, 1, 3, 8, 1, 2, 4, 5, 7, 8, 9, 10, 1, 2, 5, 7, 1, 6, 9, 2, 5, 7, 8, 10, 1, 7, 8, 9, 10, 2, 5, 7, 8, 10, 3, 6, 10, 1, 4, 7, 6, 7, 2, 5, 7, 8, 10, 5, 6, 9, 10, 2, 5, 7, 8, 10, 2, 5, 7, 8, 10, 1, 5, 9, 2, 3, 4, 6, 8, 10, 4, 7, 10, 2, 8, 10, 6, 7, 1, 7, 1, 2, 4, 5, 6, 4, 5, 10, 1, 3, 9, 4, 1, 2, 7, 1, 5, 7, 3, 4, 5, 7, 3, 4, 5, 7, 8, 9, 10, 2, 4, 10, 1, 5, 2, 10, 10, 5, 2, 3, 5, 8, 4, 3, 5, 6, 7, 8, 10, 7, 10, 2, 3, 5, 8, 10, 1, 4, 10, 3, 4, 6, 9, 10, 3, 6, 10, 2, 2, 3, 9, 1, 5, 7, 3, 5, 8, 8, 9, 10, 10, 3, 6, 7, 9, 10, 4, 7, 5, 1, 5, 10, 2, 4, 7, 8, 1, 5, 3, 5, 10, 4, 7, 1, 2, 3, 4, 7, 9, 2, 3, 4, 6, 7, 9, 10], \"Freq\": [0.20352221623095323, 0.10176110811547662, 0.508805540577383, 0.10176110811547662, 0.12951056934404429, 0.12951056934404429, 0.3885317080321329, 0.12951056934404429, 0.12951056934404429, 0.12951056934404429, 0.3168137850390684, 0.6336275700781367, 0.5132431275076614, 0.473715111065267, 0.11842877776631675, 0.11842877776631675, 0.2368575555326335, 0.1868190264931749, 0.2802285397397623, 0.1868190264931749, 0.1868190264931749, 0.09340951324658744, 0.09340951324658744, 0.09340951324658744, 0.09340951324658744, 0.67228270767869, 0.6722894574668107, 0.6722765526766981, 0.6722919707454034, 0.316812704438621, 0.633625408877242, 0.2875826407251968, 0.1437913203625984, 0.4313739610877952, 0.14654102209994654, 0.14654102209994654, 0.43962306629983966, 0.14654102209994654, 0.14654102209994654, 0.18965008989527185, 0.18965008989527185, 0.3793001797905437, 0.31430171499306864, 0.6286034299861373, 0.7301086246077231, 0.2785362899903756, 0.37138171998716746, 0.09284542999679186, 0.09284542999679186, 0.09284542999679186, 0.09284542999679186, 0.5967099198929748, 0.05768259667849577, 0.05768259667849577, 0.23073038671398308, 0.17304779003548731, 0.05768259667849577, 0.11536519335699154, 0.28841298339247884, 0.2516035538823407, 0.5032071077646814, 0.5349378911848016, 0.2674689455924008, 0.1337344727962004, 0.1337344727962004, 0.827227357434136, 0.8272899375795858, 0.8272708440654009, 0.8272351456871297, 0.8271989853370498, 0.8272617741981888, 0.827232929631164, 0.827229897560489, 0.8271992344936336, 0.8271782622123963, 0.8272051523411648, 0.8272090286601594, 0.6713486409355313, 0.27181932030297395, 0.27181932030297395, 0.27181932030297395, 0.3890896176366747, 0.19454480881833736, 0.19454480881833736, 0.17015095446221018, 0.17015095446221018, 0.5104528633866305, 0.17015095446221018, 0.46431899748739014, 0.30954599832492674, 0.16264301970535844, 0.3252860394107169, 0.3252860394107169, 0.2426064312130958, 0.7278192936392874, 0.13946074959753157, 0.4183822487925947, 0.13946074959753157, 0.15027339486055347, 0.15027339486055347, 0.15027339486055347, 0.15027339486055347, 0.45082018458166045, 0.6105286668537707, 0.30526433342688536, 0.15263216671344268, 0.09784104501722832, 0.09784104501722832, 0.09784104501722832, 0.6848873151205982, 0.15707802587558606, 0.15707802587558606, 0.3141560517511721, 0.3141560517511721, 0.07674383578815498, 0.30697534315261993, 0.07674383578815498, 0.23023150736446493, 0.07674383578815498, 0.07674383578815498, 0.15348767157630996, 0.46220362700304596, 0.30813575133536397, 0.09501481632901224, 0.19002963265802447, 0.28504444898703674, 0.09501481632901224, 0.09501481632901224, 0.19002963265802447, 0.22137140346982456, 0.4427428069396491, 0.22137140346982456, 0.1436505620913656, 0.2873011241827312, 0.4309516862740968, 0.8024511755380779, 0.20061279388451947, 0.5961500309887585, 0.19871667699625284, 0.17509296330786442, 0.35018592661572884, 0.5252788899235933, 0.19353916287296805, 0.5806174886189042, 0.19353916287296805, 0.28874760047469583, 0.14437380023734792, 0.43312140071204375, 0.17620824263150894, 0.17620824263150894, 0.5286247278945267, 0.17620824263150894, 0.10707041643916611, 0.7494929150741627, 0.10707041643916611, 0.9233424332620408, 0.37662176085406207, 0.25108117390270807, 0.25108117390270807, 0.22278277138975933, 0.44556554277951865, 0.22278277138975933, 0.15959438670005768, 0.31918877340011537, 0.4787831601001731, 0.4312756321855414, 0.2156378160927707, 0.2156378160927707, 0.22160286528236448, 0.6648085958470934, 0.4608593891400529, 0.30723959276003526, 0.09337967064038179, 0.2801390119211454, 0.18675934128076357, 0.18675934128076357, 0.09337967064038179, 0.09337967064038179, 0.09337967064038179, 0.10692119303054567, 0.21384238606109135, 0.21384238606109135, 0.4276847721221827, 0.11648365659091033, 0.349450969772731, 0.11648365659091033, 0.11648365659091033, 0.11648365659091033, 0.11648365659091033, 0.11648365659091033, 0.1632989518689314, 0.1632989518689314, 0.3265979037378628, 0.3265979037378628, 0.22890908211299243, 0.07630302737099748, 0.07630302737099748, 0.07630302737099748, 0.5341211915969823, 0.27329495510473933, 0.13664747755236967, 0.409942432657109, 0.9233113998067106, 0.17448751232071225, 0.3489750246414245, 0.17436830607586914, 0.3487366121517383, 0.17436830607586914, 0.17436830607586914, 0.6308942027928282, 0.17144552336075017, 0.34289104672150034, 0.17144552336075017, 0.10200291029607302, 0.10200291029607302, 0.306008730888219, 0.10200291029607302, 0.20400582059214603, 0.20400582059214603, 0.10200291029607302, 0.10029589290540011, 0.6017753574324007, 0.20059178581080023, 0.7296550575045542, 0.28761278056278494, 0.14380639028139247, 0.43141917084417747, 0.17228593291385041, 0.6891437316554017, 0.38023566687469224, 0.12674522229156407, 0.25349044458312814, 0.12674522229156407, 0.8571173309035589, 0.4667993208073161, 0.6726985923033808, 0.22423286410112692, 0.17562268486958293, 0.35124536973916587, 0.5268680546087489, 0.4602506866394816, 0.30683379109298775, 0.15341689554649388, 0.6075964521581714, 0.3037982260790857, 0.20115510266923975, 0.6034653080077192, 0.5989323580139337, 0.15180820375622092, 0.6072328150248837, 0.15180820375622092, 0.12709341645043978, 0.3812802493513193, 0.12709341645043978, 0.25418683290087957, 0.2477489452850194, 0.4954978905700388, 0.10884493999401622, 0.10884493999401622, 0.10884493999401622, 0.10884493999401622, 0.4353797599760649, 0.10884493999401622, 0.2684574566453302, 0.4026861849679953, 0.1342287283226651, 0.15931362826155368, 0.477940884784661, 0.18245432144981633, 0.7298172857992653, 0.127519865097932, 0.510079460391728, 0.127519865097932, 0.127519865097932, 0.127519865097932, 0.6845821750056666, 0.13691643500113335, 0.2533691349254788, 0.5067382698509576, 0.21914206789416601, 0.43828413578833203, 0.21914206789416601, 0.21914206789416601, 0.15647080104486208, 0.46941240313458626, 0.15647080104486208, 0.15647080104486208, 0.6061464653346545, 0.20204882177821817, 0.17329580608879494, 0.3465916121775899, 0.17329580608879494, 0.14309432048003012, 0.4292829614400904, 0.14309432048003012, 0.14309432048003012, 0.14309432048003012, 0.2806689909120005, 0.561337981824001, 0.39933021335814184, 0.19966510667907092, 0.19966510667907092, 0.15958781163290123, 0.31917562326580246, 0.4787634348987037, 0.5360727989921706, 0.13401819974804266, 0.13401819974804266, 0.13401819974804266, 0.7306176315180063, 0.31680206846533443, 0.6336041369306689, 0.6024755415382966, 0.20082518051276554, 0.4637078650137422, 0.30913857667582817, 0.17614531740987224, 0.704581269639489, 0.7403561288539068, 0.27264012473652577, 0.13632006236826288, 0.40896018710478865, 0.13632006236826288, 0.11179393425331045, 0.6707636055198627, 0.2235878685066209, 0.8885036288690846, 0.23148851601333253, 0.46297703202666507, 0.23148851601333253, 0.5152426745547024, 0.7313052108833262, 0.7297475119689053, 0.5898766553360327, 0.1467530929107271, 0.2935061858214542, 0.1467530929107271, 0.1467530929107271, 0.1467530929107271, 0.6487821326688419, 0.16219553316721047, 0.16219553316721047, 0.20607312217858192, 0.06869104072619397, 0.2747641629047759, 0.20607312217858192, 0.13738208145238795, 0.06869104072619397, 0.6399934479171303, 0.21333114930571012, 0.33016816399725657, 0.33016816399725657, 0.5296120381676435, 0.10592240763352868, 0.10592240763352868, 0.2731665895373011, 0.13658329476865055, 0.5463331790746022, 0.1728389325837245, 0.691355730334898, 0.6302296032217635, 0.15755740080544087, 0.15755740080544087, 0.5337442859884127, 0.26687214299420636, 0.13343607149710318, 0.13343607149710318, 0.5335162442026099, 0.26675812210130495, 0.13337906105065248, 0.13337906105065248, 0.3288428570497456, 0.3288428570497456, 0.4632846157853738, 0.7439003395527253, 0.24796677985090843, 0.46678382972882365, 0.124162348104993, 0.248324696209986, 0.620811740524965, 0.730403021422153, 0.2729839333913448, 0.1364919666956724, 0.40947590008701723, 0.4660510038065131, 0.4660510038065131, 0.12274089073150157, 0.12274089073150157, 0.12274089073150157, 0.12274089073150157, 0.4909635629260063, 0.34896875391859344, 0.23264583594572896, 0.11632291797286448, 0.23264583594572896, 0.4668007790022698, 0.2729546882709556, 0.1364773441354778, 0.40943203240643344, 0.1364773441354778, 0.32381044541825005, 0.16190522270912502, 0.16190522270912502, 0.16190522270912502, 0.16190522270912502, 0.16190522270912502, 0.0941586261542976, 0.2824758784628928, 0.1883172523085952, 0.1883172523085952, 0.0941586261542976, 0.0941586261542976, 0.0941586261542976, 0.0941586261542976, 0.11805783325640948, 0.23611566651281896, 0.3541734997692284, 0.11805783325640948, 0.7692894188613665, 0.12821490314356107, 0.4281990339304908, 0.4281990339304908, 0.6789986083735905, 0.07451835892256603, 0.07451835892256603, 0.07451835892256603, 0.07451835892256603, 0.07451835892256603, 0.6706652303030943, 0.5171901600497825, 0.9005377356202467, 0.14732865459558528, 0.29465730919117056, 0.14732865459558528, 0.14732865459558528, 0.14732865459558528, 0.27350051788317153, 0.13675025894158577, 0.41025077682475725, 0.13790910772734782, 0.13790910772734782, 0.4137273231820434, 0.13790910772734782, 0.5308439318826718, 0.2654219659413359, 0.09692305839644887, 0.38769223358579546, 0.48461529198224435, 0.5970168861731701, 0.19900562872439004, 0.5973801840492173, 0.1991267280164058, 0.9232855525301825, 0.14022116571856505, 0.14022116571856505, 0.14022116571856505, 0.4206634971556951, 0.14022116571856505, 0.2657299584681095, 0.6643248961702737, 0.11881350699802756, 0.11881350699802756, 0.23762701399605513, 0.3564405209940827, 0.11881350699802756, 0.805666779613288, 0.15646911892696516, 0.46940735678089546, 0.15646911892696516, 0.15646911892696516, 0.6015801303088221, 0.15039503257720552, 0.15039503257720552, 0.7292576037928526, 0.5139881283023227, 0.21543504672929503, 0.21543504672929503, 0.10771752336464752, 0.21543504672929503, 0.32315257009394255, 0.14727690008325287, 0.4418307002497586, 0.29455380016650573, 0.5261180849001569, 0.3507453899334379, 0.11836881269769352, 0.23673762539538704, 0.35510643809308057, 0.11836881269769352, 0.2528022965422737, 0.5056045930845474, 0.06933933692814062, 0.06933933692814062, 0.06933933692814062, 0.06933933692814062, 0.13867867385628124, 0.554714695425125, 0.27378625131398165, 0.13689312565699083, 0.41067937697097245, 0.06903303703998459, 0.06903303703998459, 0.06903303703998459, 0.13806607407996918, 0.5522642963198767, 0.2516983889112935, 0.12584919445564674, 0.12584919445564674, 0.12584919445564674, 0.3775475833669402, 0.4593350125646615, 0.30622334170977433, 0.15311167085488717, 0.47838465892545684, 0.11959616473136421, 0.11959616473136421, 0.11959616473136421, 0.2216896360177605, 0.6650689080532816, 0.11084481800888026, 0.6308640779179979, 0.7206224242787693, 0.14412448485575385, 0.14412448485575385, 0.1378283904212081, 0.06891419521060405, 0.06891419521060405, 0.1378283904212081, 0.5513135616848324, 0.27113037781887234, 0.5422607556377447, 0.08037959147295479, 0.08037959147295479, 0.4018979573647739, 0.48227754883772866, 0.1273961374731691, 0.3821884124195073, 0.1273961374731691, 0.2547922749463382, 0.19706036435089125, 0.19706036435089125, 0.5911810930526737, 0.512422552582581, 0.24432999187526303, 0.24432999187526303, 0.16288666125017534, 0.16288666125017534, 0.16288666125017534, 0.4346712417529705, 0.28978082783531367, 0.14489041391765684, 0.14489041391765684, 0.7306171018938412, 0.20146498676670901, 0.40292997353341803, 0.20146498676670901, 0.8041818965325515, 0.20104547413313786, 0.05293808060285598, 0.05293808060285598, 0.2646904030142799, 0.05293808060285598, 0.15881424180856793, 0.37056656421999185, 0.2517110938540368, 0.1258555469270184, 0.1258555469270184, 0.1258555469270184, 0.3775666407810552, 0.7310818031244095, 0.23150619093894526, 0.4630123818778905, 0.23150619093894526, 0.2838466122204004, 0.709616530551001, 0.46142612046516385, 0.3076174136434426, 0.46365552860023895, 0.3091036857334927, 0.3178700906098478, 0.6357401812196956, 0.20676103354960007, 0.6202831006488002, 0.21072041847918518, 0.21072041847918518, 0.42144083695837037, 0.1725546649828766, 0.6902186599315064, 0.5138161654988534, 0.5393805320701919, 0.26969026603509594, 0.13726406193053914, 0.5490562477221566, 0.13726406193053914, 0.18814811125085418, 0.5644443337525625, 0.18814811125085418, 0.4667854507170143, 0.12720423157413427, 0.38161269472240283, 0.12720423157413427, 0.25440846314826854, 0.42666085445226015, 0.21333042722613008, 0.21333042722613008, 0.10666521361306504, 0.5125204561090049, 0.10718603581928506, 0.2143720716385701, 0.10718603581928506, 0.10718603581928506, 0.3215581074578552, 0.5953412258944416, 0.1984470752981472, 0.164500304839453, 0.49350091451835904, 0.164500304839453, 0.3408648217639526, 0.11362160725465087, 0.3408648217639526, 0.22724321450930174, 0.22501644992563774, 0.22501644992563774, 0.22501644992563774, 0.6043005281879944, 0.20143350939599813, 0.25202489795020927, 0.12601244897510464, 0.12601244897510464, 0.3780373469253139, 0.24153505787112825, 0.36230258680669236, 0.24153505787112825, 0.12076752893556413, 0.16139552720475778, 0.6455821088190311, 0.16139552720475778, 0.3253199670879469, 0.2168799780586313, 0.3253199670879469, 0.10843998902931565, 0.2315768477369025, 0.463153695473805, 0.2315768477369025, 0.627841718303083, 0.15696042957577075, 0.15696042957577075, 0.25299756890791086, 0.5059951378158217, 0.2685056469731232, 0.40275847045968477, 0.1342528234865616, 0.47539363694365694, 0.23769681847182847, 0.23769681847182847, 0.6278629214913817, 0.15696573037284542, 0.15696573037284542, 0.3715828379983974, 0.12386094599946582, 0.12386094599946582, 0.12386094599946582, 0.24772189199893163, 0.12386094599946582, 0.25976143397165563, 0.5195228679433113, 0.25976143397165563, 0.5957804099503148, 0.19859346998343827, 0.16139110547651778, 0.6455644219060711, 0.16139110547651778, 0.4636012621732439, 0.30906750811549594, 0.43883942027578954, 0.1462798067585965, 0.292559613517193, 0.10696368468866364, 0.7487457928206456, 0.10696368468866364, 0.1710000441106542, 0.3420000882213084, 0.1710000441106542, 0.6278620160656241, 0.15696550401640602, 0.15696550401640602, 0.25270931304293137, 0.5054186260858627, 0.6205079064999548, 0.20683596883331828, 0.5953222011212305, 0.2516295013749658, 0.5032590027499316, 0.6487825816853191, 0.16219564542132978, 0.16219564542132978, 0.16969741426154042, 0.16969741426154042, 0.5090922427846213, 0.16969741426154042, 0.15285654797293807, 0.45856964391881416, 0.15285654797293807, 0.2722484581723189, 0.13612422908615945, 0.5444969163446378, 0.13612422908615945, 0.3033646032976247, 0.15168230164881236, 0.45504690494643707, 0.204184328472258, 0.204184328472258, 0.306276492708387, 0.204184328472258, 0.0936300786744078, 0.1872601573488156, 0.2808902360232234, 0.2808902360232234, 0.0936300786744078, 0.11802992071800122, 0.23605984143600245, 0.3540897621540037, 0.11802992071800122, 0.8305160964226594, 0.11816752617416629, 0.23633505234833257, 0.35450257852249883, 0.11816752617416629, 0.5451322204136222, 0.18171074013787405, 0.18171074013787405, 0.14636487207008156, 0.2927297441401631, 0.14636487207008156, 0.14636487207008156, 0.14636487207008156, 0.49354387115239906, 0.49354387115239906, 0.6004215199775936, 0.2001405066591979, 0.1278885226920698, 0.2557770453841396, 0.1278885226920698, 0.1278885226920698, 0.38366556807620944, 0.5114724747933611, 0.513910166757459, 0.15907743825274698, 0.15907743825274698, 0.6363097530109879, 0.5308273046973496, 0.2654136523486748, 0.23064863674374111, 0.46129727348748223, 0.44491768414645877, 0.44491768414645877, 0.7298835191688499, 0.06900204909041455, 0.06900204909041455, 0.06900204909041455, 0.1380040981808291, 0.5520163927233164, 0.313079817211814, 0.626159634423628, 0.20457365071651165, 0.20457365071651165, 0.30686047607476746, 0.20457365071651165, 0.466794108990215, 0.24796375839005239, 0.49592751678010477, 0.7305544048042708, 0.17181720525605748, 0.6872688210242299, 0.1725255826619156, 0.6901023306476624, 0.6015777459595639, 0.15039443648989098, 0.34900536219778655, 0.5235080432966799, 0.4597273343418224, 0.30648488956121495, 0.15324244478060747, 0.23146885804807577, 0.46293771609615153, 0.23146885804807577, 0.20426036280014154, 0.20426036280014154, 0.3063905442002123, 0.20426036280014154, 0.11178938335813124, 0.6707363001487875, 0.22357876671626248, 0.08454003048969999, 0.8454003048969999, 0.6012004290191049, 0.15030010725477622, 0.6796764893026837, 0.22655882976756123, 0.22947709729832824, 0.07649236576610942, 0.07649236576610942, 0.07649236576610942, 0.4589541945966565, 0.5142433267444745, 0.22164520648578007, 0.6649356194573403, 0.2113226161662325, 0.5283065404155812, 0.2113226161662325, 0.19439063042624613, 0.19439063042624613, 0.38878126085249226, 0.19439063042624613, 0.6852985135221832, 0.27411940540887325, 0.44491808965255625, 0.44491808965255625, 0.14638860662256722, 0.29277721324513445, 0.14638860662256722, 0.14638860662256722, 0.14638860662256722, 0.12525441346166208, 0.12525441346166208, 0.12525441346166208, 0.6262720673083104, 0.12420206461604019, 0.12420206461604019, 0.12420206461604019, 0.37260619384812055, 0.37260619384812055, 0.08959293466202069, 0.4479646733101034, 0.08959293466202069, 0.17918586932404137, 0.08959293466202069, 0.3531857941336668, 0.3531857941336668, 0.7299047350634261, 0.15958885024394134, 0.3191777004878827, 0.478766550731824, 0.14070006834454532, 0.844200410067272, 0.2214102155811942, 0.6642306467435826, 0.22328016823512561, 0.6698405047053768, 0.4468881869808586, 0.297925457987239, 0.1489627289936195, 0.1489627289936195, 0.2811923604125574, 0.1405961802062787, 0.1405961802062787, 0.1405961802062787, 0.42178854061883614, 0.7049428552736322, 0.23498095175787742, 0.2036379703041338, 0.2036379703041338, 0.3054569554562007, 0.2036379703041338, 0.8066124723237738, 0.4593057207435675, 0.306203813829045, 0.1531019069145225, 0.730136174147246, 0.257609889719026, 0.515219779438052, 0.3411788757514986, 0.1705894378757493, 0.1705894378757493, 0.1705894378757493, 0.1705894378757493, 0.9233229595960178, 0.5068040181991647, 0.10136080363983294, 0.20272160727966587, 0.20272160727966587, 0.4667737452568164, 0.1767882393225511, 0.5303647179676534, 0.4004210082882014, 0.2669473388588009, 0.13347366942940045, 0.13347366942940045, 0.46682986777714214, 0.6789274653324663, 0.7304326857934433, 0.2036590257661238, 0.2036590257661238, 0.3054885386491857, 0.2036590257661238, 0.4606689534733311, 0.30711263564888736, 0.15355631782444368, 0.40972498426348947, 0.5361975914259413, 0.13404939785648531, 0.13404939785648531, 0.13404939785648531, 0.8026609232499421, 0.4709098948637575, 0.23545494743187875, 0.11772747371593938, 0.11772747371593938, 0.0730342010456768, 0.0730342010456768, 0.1460684020913536, 0.0730342010456768, 0.2921368041827072, 0.1460684020913536, 0.2191026031370304, 0.9005386107777421, 0.34263611585093223, 0.17131805792546612, 0.17131805792546612, 0.17131805792546612, 0.6205243239933111, 0.2068414413311037, 0.4865965541463875, 0.09731931082927751, 0.19463862165855503, 0.09731931082927751, 0.11164450583073819, 0.22328901166147638, 0.11164450583073819, 0.33493351749221456, 0.22328901166147638, 0.24881124985655964, 0.4976224997131193, 0.2875855044304209, 0.14379275221521046, 0.4313782566456314, 0.17193676408540046, 0.6877470563416018, 0.10697032964852397, 0.7487923075396679, 0.10697032964852397, 0.1613939843914532, 0.6455759375658128, 0.1613939843914532, 0.11179852826563819, 0.6707911695938291, 0.22359705653127637, 0.5129008646037542, 0.15560507777791, 0.62242031111164, 0.139255176496824, 0.139255176496824, 0.139255176496824, 0.417765529490472, 0.139255176496824, 0.18943878802568334, 0.5683163640770501, 0.18943878802568334, 0.7267097592296704, 0.1286773132792993, 0.2573546265585986, 0.1286773132792993, 0.38603193983789785, 0.17417218591475023, 0.5225165577442508, 0.20401783173657395, 0.20401783173657395, 0.3060267476048609, 0.20401783173657395, 0.10754963433970335, 0.5377481716985167, 0.10754963433970335, 0.3226489030191101, 0.2037293388759084, 0.2037293388759084, 0.3055940083138626, 0.2037293388759084, 0.17126397930732354, 0.42815994826830883, 0.08563198965366177, 0.08563198965366177, 0.08563198965366177, 0.4668089112741259, 0.09219040809043502, 0.8297136728139152, 0.09219040809043502, 0.37667834636753067, 0.25111889757835376, 0.25111889757835376, 0.6204852431604537, 0.2068284143868179, 0.12530402777421537, 0.25060805554843074, 0.5012161110968615, 0.11961611829170914, 0.11961611829170914, 0.47846447316683655, 0.11961611829170914, 0.26039411289653625, 0.13019705644826812, 0.5207882257930725, 0.42667214898344685, 0.21333607449172343, 0.21333607449172343, 0.10666803724586171, 0.4668039972999496, 0.09051982949451551, 0.543118976967093, 0.09051982949451551, 0.18103965898903102, 0.09051982949451551, 0.6018106904522514, 0.2006035634840838, 0.5153814269510261, 0.10695276774864843, 0.748669374240539, 0.10695276774864843, 0.42674565329978803, 0.21337282664989402, 0.21337282664989402, 0.10668641332494701, 0.1919411239812139, 0.1919411239812139, 0.3838822479624278, 0.09597056199060695, 0.09597056199060695, 0.08981105183297683, 0.17962210366595366, 0.2694331554989305, 0.2694331554989305, 0.08981105183297683, 0.125297080472506, 0.250594160945012, 0.501188321890024, 0.5959339640998017, 0.5221839725290677, 0.31331038351744056, 0.10443679450581353, 0.1722493955951412, 0.3444987911902824, 0.1722493955951412, 0.07585224398003147, 0.07585224398003147, 0.22755673194009443, 0.07585224398003147, 0.07585224398003147, 0.15170448796006294, 0.22755673194009443, 0.07585224398003147, 0.15425936551709538, 0.15425936551709538, 0.15425936551709538, 0.4627780965512861, 0.12913308414731173, 0.25826616829462345, 0.3873992524419352, 0.11098537885405234, 0.11098537885405234, 0.11098537885405234, 0.5549268942702617, 0.11098537885405234, 0.14401192128497833, 0.14401192128497833, 0.28802384256995667, 0.432035763854935, 0.14401192128497833, 0.11012957005210885, 0.11012957005210885, 0.11012957005210885, 0.5506478502605443, 0.11012957005210885, 0.16138478565973657, 0.6455391426389463, 0.16138478565973657, 0.2876052470805726, 0.1438026235402863, 0.43140787062085895, 0.5269426885206748, 0.2634713442603374, 0.11055729133532104, 0.11055729133532104, 0.11055729133532104, 0.5527864566766052, 0.11055729133532104, 0.1268484148420599, 0.3805452445261796, 0.1268484148420599, 0.2536968296841198, 0.11029709185218367, 0.11029709185218367, 0.11029709185218367, 0.5514854592609183, 0.11029709185218367, 0.11027107402834081, 0.11027107402834081, 0.11027107402834081, 0.5513553701417041, 0.11027107402834081, 0.15601187603616548, 0.6240475041446619, 0.15601187603616548, 0.09351719629234621, 0.2805515888770386, 0.18703439258469243, 0.18703439258469243, 0.09351719629234621, 0.09351719629234621, 0.5137239368966454, 0.5961308495652938, 0.19871028318843126, 0.379975768160533, 0.28498182612039974, 0.28498182612039974, 0.7499932700021509, 0.18749831750053772, 0.20095076063631737, 0.6028522819089521, 0.1392524642016668, 0.1392524642016668, 0.1392524642016668, 0.41775739260500033, 0.1392524642016668, 0.8537806100017865, 0.05691870733345243, 0.05691870733345243, 0.16399410378567322, 0.16399410378567322, 0.4919823113570197, 0.5135027614497621, 0.26845705632962547, 0.4026855844944382, 0.13422852816481273, 0.14347614403347567, 0.28695228806695133, 0.43042843210042697, 0.4844201989308683, 0.16147339964362278, 0.16147339964362278, 0.16147339964362278, 0.48440661832780674, 0.16146887277593558, 0.16146887277593558, 0.16146887277593558, 0.36006388278933904, 0.5400958241840085, 0.9233288976630062, 0.1682502036878071, 0.1682502036878071, 0.6730008147512284, 0.6072258018400325, 0.20240860061334415, 0.707260632488387, 0.23575354416279565, 0.9233538806286559, 0.46680246954093996, 0.12417724308864443, 0.12417724308864443, 0.12417724308864443, 0.6208862154432222, 0.8670444175355432, 0.191935162053609, 0.06397838735120301, 0.06397838735120301, 0.06397838735120301, 0.383870324107218, 0.191935162053609, 0.5941482353438681, 0.19804941178128938, 0.2083950261734258, 0.1041975130867129, 0.1041975130867129, 0.2083950261734258, 0.31259253926013875, 0.15587318453355184, 0.3117463690671037, 0.4676195536006555, 0.12482229755673042, 0.12482229755673042, 0.12482229755673042, 0.37446689267019123, 0.12482229755673042, 0.16139206895680883, 0.6455682758272353, 0.16139206895680883, 0.598908658899177, 0.6066891419026664, 0.1516722854756666, 0.1516722854756666, 0.14404989565796633, 0.432149686973899, 0.28809979131593266, 0.18271568748285286, 0.7308627499314114, 0.7953004484232442, 0.7509641962010563, 0.09387052452513203, 0.09387052452513203, 0.5899074052044523, 0.12418784207412785, 0.12418784207412785, 0.12418784207412785, 0.3725635262223836, 0.3725635262223836, 0.530812678091679, 0.2654063390458395, 0.46682044798212413, 0.6031062111267113, 0.20103540370890374, 0.5959394415639595, 0.3063648107603624, 0.20424320717357497, 0.3063648107603624, 0.20424320717357497, 0.6062692121638688, 0.20208973738795624, 0.27244010160222926, 0.27244010160222926, 0.27244010160222926, 0.5307896192509284, 0.2653948096254642, 0.08651784919929686, 0.17303569839859373, 0.17303569839859373, 0.08651784919929686, 0.08651784919929686, 0.43258924599648435, 0.187685341643779, 0.2815280124656685, 0.187685341643779, 0.187685341643779, 0.0938426708218895, 0.0938426708218895, 0.0938426708218895], \"Term\": [\"19\", \"19\", \"19\", \"19\", \"965mb\", \"965mb\", \"965mb\", \"965mb\", \"965mb\", \"965mb\", \"_private_idaho\", \"_private_idaho\", \"aaronparnas\", \"ab\", \"ab\", \"ab\", \"ab\", \"abccolumbia\", \"abccolumbia\", \"abccolumbia\", \"abccolumbia\", \"abccolumbia\", \"abccolumbia\", \"abccolumbia\", \"abccolumbia\", \"access\", \"accuwe\", \"accuweather\", \"act\", \"activities\", \"activities\", \"afternoon\", \"afternoon\", \"afternoon\", \"ahead\", \"ahead\", \"ahead\", \"ahead\", \"ahead\", \"airport\", \"airport\", \"airport\", \"airports\", \"airports\", \"aknewsnow\", \"alabama\", \"alabama\", \"alabama\", \"alabama\", \"alabama\", \"alabama\", \"alachuachronic1\", \"alachuajury\", \"alachuajury\", \"alachuajury\", \"alachuajury\", \"alachuajury\", \"alachuajury\", \"alachuajury\", \"alexcalamiawx\", \"alexcalamiawx\", \"alroker\", \"alroker\", \"alroker\", \"alroker\", \"ambassadors\", \"america\", \"american\", \"amp\", \"anacabrera\", \"analysis\", \"anclote\", \"andrew\", \"andrewwarrenfl\", \"animals\", \"announcement\", \"announces\", \"ap\", \"ap_nfl\", \"ap_nfl\", \"ap_nfl\", \"approaches\", \"approaches\", \"approaches\", \"approaching\", \"approaching\", \"approaching\", \"approaching\", \"arctic\", \"arctic\", \"artemis\", \"artemis\", \"artemis\", \"assignment\", \"assignment\", \"atlanta\", \"atlanta\", \"atlanta\", \"atlantic\", \"atlantic\", \"atlantic\", \"atlantic\", \"atlantic\", \"attention\", \"attention\", \"attention\", \"attorney\", \"attorney\", \"attorney\", \"attorney\", \"b_resnick\", \"b_resnick\", \"b_resnick\", \"b_resnick\", \"baja\", \"baja\", \"baja\", \"baja\", \"baja\", \"baja\", \"baja\", \"bakery\", \"bakery\", \"balloons\", \"balloons\", \"balloons\", \"balloons\", \"balloons\", \"balloons\", \"barstoolclemson\", \"barstoolclemson\", \"barstoolclemson\", \"base\", \"base\", \"base\", \"bay\", \"bay\", \"bblock29\", \"bblock29\", \"beauty\", \"beauty\", \"beauty\", \"becerra\", \"becerra\", \"becerra\", \"betwe\", \"betwe\", \"betwe\", \"beware\", \"beware\", \"beware\", \"beware\", \"big\", \"big\", \"big\", \"bill_line\", \"billmckibben\", \"billmckibben\", \"billmckibben\", \"bills\", \"bills\", \"bills\", \"blakesanz\", \"blakesanz\", \"blakesanz\", \"boat\", \"boat\", \"boat\", \"boca\", \"boca\", \"bocaraton\", \"bocaraton\", \"bonita\", \"bonita\", \"bonita\", \"bonita\", \"bonita\", \"bonita\", \"bonita\", \"boo\", \"boo\", \"boo\", \"boo\", \"borrower\", \"borrower\", \"borrower\", \"borrower\", \"borrower\", \"borrower\", \"borrower\", \"box\", \"box\", \"box\", \"box\", \"braces\", \"braces\", \"braces\", \"braces\", \"braces\", \"bracing\", \"bracing\", \"bracing\", \"brady\", \"bravo_dada\", \"bravo_dada\", \"breitbart\", \"breitbart\", \"breitbart\", \"breitbart\", \"bricks\", \"briefing\", \"briefing\", \"briefing\", \"brother\", \"brother\", \"brother\", \"brother\", \"brother\", \"brother\", \"brother\", \"bryanwx\", \"bryanwx\", \"bryanwx\", \"buccaneers\", \"buffalo\", \"buffalo\", \"buffalo\", \"bummer\", \"bummer\", \"burgwx\", \"burgwx\", \"burgwx\", \"burgwx\", \"burst\", \"business\", \"calm\", \"calm\", \"camp\", \"camp\", \"camp\", \"campground\", \"campground\", \"campground\", \"campus\", \"campus\", \"cancel\", \"cancel\", \"capacity\", \"carolinas\", \"carolinas\", \"carolinas\", \"castor\", \"castor\", \"castor\", \"castor\", \"cat\", \"cat\", \"categories\", \"categories\", \"categories\", \"categories\", \"categories\", \"categories\", \"category\", \"category\", \"category\", \"catholic\", \"catholic\", \"cayman\", \"cayman\", \"cc_stormwatch\", \"cc_stormwatch\", \"cc_stormwatch\", \"cc_stormwatch\", \"cc_stormwatch\", \"ccvagina\", \"ccvagina\", \"center\", \"center\", \"centralflorida\", \"centralflorida\", \"centralflorida\", \"centralflorida\", \"century\", \"century\", \"century\", \"century\", \"charlen60403930\", \"charlen60403930\", \"charley\", \"charley\", \"charley\", \"chart\", \"chart\", \"chart\", \"chart\", \"chart\", \"chasers\", \"chasers\", \"chat\", \"chat\", \"chat\", \"checklist\", \"checklist\", \"checklist\", \"cheers\", \"cheers\", \"cheers\", \"cheers\", \"cities\", \"class\", \"class\", \"clearwater\", \"clearwater\", \"clicks\", \"clicks\", \"climate\", \"climate\", \"clime_radar\", \"clinic\", \"clinic\", \"clinic\", \"clinic\", \"coastal\", \"coastal\", \"coastal\", \"company\", \"continues\", \"continues\", \"continues\", \"cookinmaama\", \"council\", \"country\", \"courage\", \"course\", \"course\", \"course\", \"course\", \"course\", \"courses\", \"courses\", \"courses\", \"coverage\", \"coverage\", \"coverage\", \"coverage\", \"coverage\", \"coverage\", \"covid\", \"covid\", \"cozy\", \"cozy\", \"crypto\", \"crypto\", \"crypto\", \"cuban\", \"cuban\", \"cuban\", \"curemachwindy\", \"curemachwindy\", \"currently\", \"currently\", \"currently\", \"curtmweiler\", \"curtmweiler\", \"curtmweiler\", \"curtmweiler\", \"da\", \"da\", \"da\", \"da\", \"dade\", \"dade\", \"dailycaller\", \"damage\", \"damage\", \"damn\", \"darbyscastle\", \"darbyscastle\", \"darbyscastle\", \"dasani\", \"david\", \"david\", \"david\", \"days\", \"days\", \"dead\", \"dead\", \"dead\", \"dead\", \"dead\", \"dear\", \"dear\", \"dear\", \"dear\", \"deathcarewnc\", \"deaths\", \"deaths\", \"deaths\", \"deaths\", \"declaration\", \"declaration\", \"declaration\", \"declaration\", \"declaration\", \"declaration\", \"deepdives\", \"deepdives\", \"deepdives\", \"deepdives\", \"deepdives\", \"deepdives\", \"deepdives\", \"deepdives\", \"dega\", \"dega\", \"dega\", \"dega\", \"delivered\", \"delivered\", \"delray\", \"delray\", \"deputies\", \"desktop\", \"desktop\", \"desktop\", \"desktop\", \"desktop\", \"desktop\", \"devastation\", \"disaster\", \"distress\", \"distress\", \"distress\", \"distress\", \"distress\", \"dms\", \"dms\", \"dms\", \"doc_chimpanzee\", \"doc_chimpanzee\", \"doc_chimpanzee\", \"doc_chimpanzee\", \"doesnt\", \"doesnt\", \"doggintrump\", \"doggintrump\", \"doggintrump\", \"dogs\", \"dogs\", \"dolphins\", \"dolphins\", \"donate\", \"dont\", \"dont\", \"dont\", \"dont\", \"dont\", \"dot\", \"dot\", \"downpours\", \"downpours\", \"downpours\", \"downpours\", \"downpours\", \"dropsonde\", \"dttwt\", \"dttwt\", \"dttwt\", \"dttwt\", \"dude\", \"dude\", \"dude\", \"earth\", \"eastern\", \"ecu\", \"ecu\", \"ecu\", \"ecu\", \"ecu\", \"edt\", \"edt\", \"edt\", \"emergencyas\", \"emergencyas\", \"employee\", \"employee\", \"employee\", \"employee\", \"employees\", \"employees\", \"endgameww3\", \"endgameww3\", \"endgameww3\", \"endgameww3\", \"endgameww3\", \"endgameww3\", \"enter\", \"enter\", \"enter\", \"epochtvus\", \"epochtvus\", \"epochtvus\", \"epochtvus\", \"epochtvus\", \"equipment\", \"equipment\", \"equipment\", \"equipment\", \"equipment\", \"ericburriswesh\", \"ericburriswesh\", \"ericburriswesh\", \"ericlynnfl\", \"ericlynnfl\", \"ericlynnfl\", \"ericlynnfl\", \"estate\", \"estate\", \"estate\", \"estates\", \"estimations\", \"estimations\", \"estimations\", \"evacuation\", \"evacuation\", \"evacuation\", \"evacuation\", \"evacuation\", \"evacuations\", \"evacuations\", \"evening\", \"evening\", \"evening\", \"evening\", \"event\", \"event\", \"event\", \"event\", \"exposes\", \"exposes\", \"exposes\", \"eyebri_\", \"faces\", \"faces\", \"faces\", \"faces\", \"faces\", \"facility\", \"facility\", \"facility\", \"facility\", \"family\", \"feare\", \"feare\", \"feare\", \"feet\", \"feet\", \"fgbrisco\", \"fgbrisco\", \"fgbrisco\", \"fgbrisco\", \"fgbrisco\", \"fgbrisco\", \"fighters\", \"fighters\", \"fighters\", \"fighters\", \"fighters\", \"fineartamerica\", \"fla_pol\", \"fla_pol\", \"fla_pol\", \"flash\", \"flash\", \"fll\", \"fll\", \"flood\", \"flood\", \"floods\", \"floods\", \"floridastate\", \"floridastate\", \"flser\", \"flser\", \"flser\", \"flsert\", \"flsert\", \"fo\", \"foods\", \"foods\", \"forces\", \"forces\", \"forces\", \"foreclosure\", \"foreclosure\", \"foreclosure\", \"forms\", \"foxnews\", \"foxnews\", \"foxnews\", \"foxnews\", \"fraudsters\", \"fraudsters\", \"fraudsters\", \"fraudsters\", \"freedom\", \"freefall\", \"freefall\", \"freefall\", \"freefall\", \"freefall\", \"friends\", \"friends\", \"ft\", \"ft\", \"ft\", \"fuck\", \"fuck\", \"fuck\", \"fuck\", \"funds\", \"funds\", \"funds\", \"gafollowers\", \"gafollowers\", \"gail\", \"gail\", \"gail\", \"gail\", \"gainesville\", \"gainesville\", \"gainesville\", \"gainesville\", \"game\", \"game\", \"game\", \"gardens\", \"gardens\", \"gardens\", \"gardens\", \"generator\", \"generator\", \"generator\", \"girder\", \"girder\", \"girder\", \"glaciers\", \"glaciers\", \"goodbye\", \"goodbye\", \"goodbye\", \"google\", \"google\", \"google\", \"gop\", \"gop\", \"gop\", \"gouging\", \"gouging\", \"gouging\", \"gouging\", \"gouging\", \"gouging\", \"gov\", \"gov\", \"gov\", \"graphics\", \"graphics\", \"guard\", \"guard\", \"guard\", \"guardsmen\", \"guardsmen\", \"guests\", \"guests\", \"guests\", \"gul\", \"gul\", \"gul\", \"guys\", \"guys\", \"guys\", \"gymmyjay\", \"gymmyjay\", \"gymmyjay\", \"h2\", \"h2\", \"hair\", \"hair\", \"havent\", \"headlines\", \"headlines\", \"hello\", \"hello\", \"hello\", \"help\", \"help\", \"help\", \"help\", \"helpless\", \"helpless\", \"helpless\", \"herald\", \"herald\", \"herald\", \"herald\", \"herpetologist\", \"herpetologist\", \"herpetologist\", \"hes\", \"hes\", \"hes\", \"hes\", \"high\", \"high\", \"high\", \"high\", \"high\", \"hillsborough\", \"hillsborough\", \"hillsborough\", \"hillsborough\", \"hoa\", \"holiday\", \"holiday\", \"holiday\", \"holiday\", \"hope\", \"hope\", \"hope\", \"hospital\", \"hospital\", \"hospital\", \"hospital\", \"hospital\", \"hours\", \"hours\", \"house\", \"house\", \"hpa\", \"hpa\", \"hpa\", \"hpa\", \"hpa\", \"humans\", \"hunters\", \"hurricanecenter\", \"hurricanecenter\", \"hurricanecenter\", \"hurricaneian\", \"hurricaneian\", \"hurricanes\", \"hurricanes\", \"hurricanewarnings\", \"hurricanewarnings\", \"idk\", \"ike\", \"ike\", \"ike\", \"ike\", \"ike\", \"imagery\", \"imagery\", \"imo\", \"imo\", \"imo\", \"imo\", \"impacts\", \"inches\", \"inches\", \"inland\", \"intensification\", \"intensification\", \"intensify\", \"intensify\", \"irma\", \"irma\", \"ironik0422\", \"ironik0422\", \"islands\", \"islands\", \"islands\", \"issue\", \"issue\", \"issue\", \"jab\", \"jab\", \"jab\", \"jab\", \"jackson_dill\", \"jackson_dill\", \"jackson_dill\", \"jails\", \"jails\", \"jamaica\", \"jamaica\", \"jasmine\", \"jasmine\", \"jean\", \"jean\", \"jean\", \"jean\", \"jean\", \"jessicam6946\", \"jhendersontampa\", \"jhendersontampa\", \"joe\", \"joe\", \"joe\", \"jswtreeman\", \"jswtreeman\", \"jswtreeman\", \"jswtreeman\", \"jury\", \"jury\", \"karen\", \"karen\", \"karine\", \"karine\", \"karine\", \"karine\", \"karine\", \"karlaforflorida\", \"karlaforflorida\", \"karlaforflorida\", \"karlaforflorida\", \"kasie\", \"kasie\", \"kasie\", \"kasie\", \"kasie\", \"katrina\", \"katrina\", \"katrina\", \"katrina\", \"katrina\", \"kayleembloom\", \"kayleembloom\", \"kc135\", \"keeps\", \"keeps\", \"keeps\", \"key\", \"key\", \"keys\", \"keys\", \"kicker\", \"kicker\", \"king\", \"king\", \"king\", \"king\", \"kirstiealley\", \"kirstiealley\", \"kirstiealley\", \"kirstiealley\", \"kirstiealley\", \"kit\", \"kit\", \"km\", \"km\", \"km\", \"km\", \"kms\", \"know\", \"know\", \"know\", \"kolonehusky\", \"landfall\", \"landfall\", \"langurlover\", \"langurlover\", \"langurlover\", \"langurlover\", \"langurlover\", \"larger\", \"larry\", \"larry\", \"larry\", \"larry\", \"latest\", \"lauderdale\", \"lauderdale\", \"lauraadderley\", \"lauraadderley\", \"lauraadderley\", \"lauraadderley\", \"lauren\", \"law\", \"leaderbookfl\", \"learn\", \"learn\", \"learn\", \"learn\", \"left\", \"left\", \"left\", \"lessons\", \"letsgohornets\", \"letsgohornets\", \"letsgohornets\", \"letsgohornets\", \"level\", \"levels\", \"levels\", \"levels\", \"levels\", \"lhps_athletics\", \"lhps_athletics\", \"lhps_athletics\", \"lhps_athletics\", \"lhps_athletics\", \"lhps_athletics\", \"lhps_athletics\", \"lhps_football\", \"look\", \"look\", \"look\", \"look\", \"lorengrush\", \"lorengrush\", \"louiseamd\", \"louiseamd\", \"louiseamd\", \"louiseamd\", \"macthegingercat\", \"macthegingercat\", \"macthegingercat\", \"macthegingercat\", \"macthegingercat\", \"madteamichelle\", \"madteamichelle\", \"make\", \"make\", \"make\", \"mallory\", \"mallory\", \"man\", \"man\", \"man\", \"manatee\", \"manatee\", \"manatee\", \"map\", \"map\", \"map\", \"marciad9999\", \"market\", \"market\", \"matt\", \"matt\", \"matt\", \"matt\", \"matt\", \"matter\", \"matter\", \"matter\", \"matthewcocacbs\", \"max\", \"max\", \"max\", \"max\", \"mb\", \"mb\", \"meal\", \"meal\", \"meal\", \"meal\", \"medway\", \"medway\", \"medway\", \"medway\", \"meidastouch\", \"meidastouch\", \"meidastouch\", \"meidastouch\", \"melania\", \"melania\", \"melania\", \"melania\", \"melania\", \"meteorologist\", \"meteorologists\", \"meteorologists\", \"meteorologists\", \"metro\", \"metro\", \"metro\", \"mets\", \"mets\", \"michael\", \"michael\", \"michael\", \"midway\", \"midway\", \"midway\", \"midway\", \"miles\", \"miles\", \"miles\", \"mind\", \"mind\", \"mind\", \"mind\", \"miniature\", \"mischievousliz\", \"mischievousliz\", \"mischievousliz\", \"mischievousliz\", \"mischievousliz\", \"mlb\", \"mlb\", \"mobute\", \"moniker\", \"moniker\", \"moniker\", \"monitoring\", \"monitoring\", \"monitoring\", \"monitoring\", \"moody\", \"moody\", \"moody\", \"moody\", \"moody\", \"moore\", \"moore\", \"moore\", \"moore\", \"moore\", \"mor\", \"mor\", \"mor\", \"mph\", \"myles\", \"myles\", \"myles\", \"nasa\", \"nasa\", \"nasa\", \"nasaartemis\", \"nasaartemis\", \"nasaartemis\", \"nasaartemis\", \"nasaartemis\", \"nasaartemis\", \"nasaartemis\", \"nasaartemis\", \"nascar\", \"nascar\", \"nascar\", \"nascar\", \"nbc\", \"nbc\", \"nbc\", \"ncemergency\", \"ncemergency\", \"ncemergency\", \"ncemergency\", \"ncemergency\", \"ne\", \"ne\", \"ne\", \"ne\", \"ne\", \"nea\", \"nea\", \"nea\", \"nea\", \"nea\", \"near\", \"near\", \"near\", \"need\", \"need\", \"need\", \"neighbors\", \"neighbors\", \"newsmax\", \"newsmax\", \"newsmax\", \"newsmax\", \"newsmax\", \"newsroom\", \"newsroom\", \"newsroom\", \"newsroom\", \"nfl\", \"nfl\", \"nfl\", \"nfl\", \"nfl\", \"nflstroud\", \"nflstroud\", \"nflstroud\", \"nflstroud\", \"nflstroud\", \"nhc\", \"nhc\", \"nhc\", \"nhc_surge\", \"nhc_surge\", \"nhc_surge\", \"nhc_surge\", \"nhc_surge\", \"nhc_surge\", \"nightmare\", \"noaa\", \"noaa\", \"noaa42\", \"noaa42\", \"noaa42\", \"noaa49\", \"noaa49\", \"nominee\", \"nominee\", \"north\", \"north\", \"north\", \"north\", \"north\", \"nose\", \"nose\", \"nose\", \"nousefortrump\", \"nousefortrump\", \"nousefortrump\", \"number\", \"nwsbirmingham\", \"nwsbirmingham\", \"nwsbirmingham\", \"nwscolumbia\", \"nwscolumbia\", \"nwscolumbia\", \"nwsdirector\", \"nwsdirector\", \"nwsdirector\", \"nwsdirector\", \"nwseastern\", \"nwseastern\", \"nwseastern\", \"nwseastern\", \"nwsmelbourne\", \"nwsmelbourne\", \"nwsspokane\", \"nyt\", \"nyt\", \"nyt\", \"ocpsnews\", \"ocpsnews\", \"october\", \"october\", \"office\", \"order\", \"orlando\", \"orlando\", \"orlando\", \"orlando\", \"outer\", \"outlook\", \"outlook\", \"outlook\", \"outlook\", \"outlook\", \"outlook\", \"outriders\", \"outriders\", \"page\", \"page\", \"page\", \"page\", \"page\", \"panhandle\", \"panhandle\", \"panhandle\", \"parishes\", \"parishes\", \"parishes\", \"parishes\", \"parishes\", \"park\", \"park\", \"park\", \"partnership\", \"parts\", \"parts\", \"parts\", \"pasco\", \"pasco\", \"pasco\", \"path\", \"path\", \"paulinavo_ces\", \"pendejadas09\", \"pendejadas09\", \"pendejadas09\", \"pensacola\", \"people\", \"people\", \"people\", \"people\", \"people\", \"period\", \"period\", \"pets\", \"philferro7\", \"philferro7\", \"phillyscardina7\", \"photo\", \"photo\", \"photo\", \"photo\", \"pics\", \"pics\", \"picture\", \"picture\", \"picture\", \"pierre\", \"pierre\", \"pinellas\", \"pinellas\", \"pinellas\", \"pinellas\", \"pinellas\", \"pinellas\", \"pinellasclerk\", \"pinellasclerk\", \"pinellasclerk\", \"pinellasclerk\", \"pinellasclerk\", \"pinellasclerk\", \"pinellasclerk\"]}, \"R\": 30, \"lambda.step\": 0.01, \"plot.opts\": {\"xlab\": \"PC1\", \"ylab\": \"PC2\"}, \"topic.order\": [1, 2, 3, 4, 5, 6, 7, 8, 9, 10]};\n",
       "\n",
       "function LDAvis_load_lib(url, callback){\n",
       "  var s = document.createElement('script');\n",
       "  s.src = url;\n",
       "  s.async = true;\n",
       "  s.onreadystatechange = s.onload = callback;\n",
       "  s.onerror = function(){console.warn(\"failed to load library \" + url);};\n",
       "  document.getElementsByTagName(\"head\")[0].appendChild(s);\n",
       "}\n",
       "\n",
       "if(typeof(LDAvis) !== \"undefined\"){\n",
       "   // already loaded: just create the visualization\n",
       "   !function(LDAvis){\n",
       "       new LDAvis(\"#\" + \"ldavis_el144426326318665283223921147\", ldavis_el144426326318665283223921147_data);\n",
       "   }(LDAvis);\n",
       "}else if(typeof define === \"function\" && define.amd){\n",
       "   // require.js is available: use it to load d3/LDAvis\n",
       "   require.config({paths: {d3: \"https://d3js.org/d3.v5\"}});\n",
       "   require([\"d3\"], function(d3){\n",
       "      window.d3 = d3;\n",
       "      LDAvis_load_lib(\"https://cdn.jsdelivr.net/gh/bmabey/pyLDAvis@3.3.1/pyLDAvis/js/ldavis.v3.0.0.js\", function(){\n",
       "        new LDAvis(\"#\" + \"ldavis_el144426326318665283223921147\", ldavis_el144426326318665283223921147_data);\n",
       "      });\n",
       "    });\n",
       "}else{\n",
       "    // require.js not available: dynamically load d3 & LDAvis\n",
       "    LDAvis_load_lib(\"https://d3js.org/d3.v5.js\", function(){\n",
       "         LDAvis_load_lib(\"https://cdn.jsdelivr.net/gh/bmabey/pyLDAvis@3.3.1/pyLDAvis/js/ldavis.v3.0.0.js\", function(){\n",
       "                 new LDAvis(\"#\" + \"ldavis_el144426326318665283223921147\", ldavis_el144426326318665283223921147_data);\n",
       "            })\n",
       "         });\n",
       "}\n",
       "</script>"
      ],
      "text/plain": [
       "PreparedData(topic_coordinates=              x         y  topics  cluster       Freq\n",
       "topic                                                \n",
       "0     -0.023864 -0.017628       1        1   7.496585\n",
       "1     -0.111296 -0.091172       2        1  13.327440\n",
       "2      0.048312 -0.015427       3        1   7.968152\n",
       "3     -0.140507  0.023848       4        1   9.933850\n",
       "4      0.141300  0.061724       5        1  10.743309\n",
       "5      0.041502  0.017777       6        1   7.826870\n",
       "6     -0.017377 -0.064055       7        1   8.057349\n",
       "7      0.105586 -0.059985       8        1  15.746644\n",
       "8      0.016115 -0.026997       9        1   9.945434\n",
       "9     -0.059770  0.171916      10        1   8.954368, topic_info=               Term       Freq      Total Category  logprob  loglift\n",
       "901            nose  17.000000  17.000000  Default  30.0000  30.0000\n",
       "672           jails  11.000000  11.000000  Default  29.0000  29.0000\n",
       "414      evacuation  14.000000  14.000000  Default  28.0000  28.0000\n",
       "332       delivered   7.000000   7.000000  Default  27.0000  27.0000\n",
       "255         coastal   8.000000   8.000000  Default  26.0000  26.0000\n",
       "..              ...        ...        ...      ...      ...      ...\n",
       "604             hpa   2.723505   7.819310  Topic10  -5.3544   1.3584\n",
       "948         outlook   2.902473  15.630278  Topic10  -5.2908   0.7294\n",
       "981          people   2.724848   8.052318  Topic10  -5.3539   1.3295\n",
       "743  lhps_athletics   2.724207  13.692215  Topic10  -5.3541   0.7984\n",
       "699           kasie   2.724155   8.051396  Topic10  -5.3542   1.3293\n",
       "\n",
       "[482 rows x 6 columns], token_table=      Topic      Freq           Term\n",
       "term                                \n",
       "2         1  0.203522             19\n",
       "2         2  0.101761             19\n",
       "2         4  0.508806             19\n",
       "2         6  0.101761             19\n",
       "4         2  0.129511          965mb\n",
       "...     ...       ...            ...\n",
       "998       4  0.187685  pinellasclerk\n",
       "998       6  0.187685  pinellasclerk\n",
       "998       7  0.093843  pinellasclerk\n",
       "998       9  0.093843  pinellasclerk\n",
       "998      10  0.093843  pinellasclerk\n",
       "\n",
       "[1233 rows x 3 columns], R=30, lambda_step=0.01, plot_opts={'xlab': 'PC1', 'ylab': 'PC2'}, topic_order=[1, 2, 3, 4, 5, 6, 7, 8, 9, 10])"
      ]
     },
     "execution_count": 44,
     "metadata": {},
     "output_type": "execute_result"
    }
   ],
   "source": [
    "import pyLDAvis.gensim_models as gensimvis\n",
    "\n",
    "pyLDAvis.enable_notebook()\n",
    "gensimvis.prepare(gen_lda2, corpus2, dictionary2, sort_topics=False)"
   ]
  },
  {
   "cell_type": "code",
   "execution_count": 31,
   "metadata": {},
   "outputs": [
    {
     "data": {
      "text/html": [
       "\n",
       "<link rel=\"stylesheet\" type=\"text/css\" href=\"https://cdn.jsdelivr.net/gh/bmabey/pyLDAvis@3.3.1/pyLDAvis/js/ldavis.v1.0.0.css\">\n",
       "\n",
       "\n",
       "<div id=\"ldavis_el325501406352316180969710432310\"></div>\n",
       "<script type=\"text/javascript\">\n",
       "\n",
       "var ldavis_el325501406352316180969710432310_data = {\"mdsDat\": {\"x\": [-0.03646996350459549, -0.13457778409635804, 0.04489033376572364, -0.11267959561553945, 0.09882473680156738, 0.09041458470409587, 0.12040732787026887, -0.12584453611188007, 0.11573100639938214, -0.060696110212664814], \"y\": [-0.08420031946115805, -0.05955051033388927, 0.17706986325267257, -0.04482837942477256, -0.07276650449639213, 0.006606695920980736, -0.055330802866642596, 0.07027188530973442, 0.01032595613822065, 0.0524021159612464], \"topics\": [1, 2, 3, 4, 5, 6, 7, 8, 9, 10], \"cluster\": [1, 1, 1, 1, 1, 1, 1, 1, 1, 1], \"Freq\": [5.723600204069073, 20.076192990143394, 8.620286390137617, 8.64952015368104, 7.276609914076401, 9.335212059918042, 10.12921079155845, 9.476939355061873, 11.606425675548316, 9.106002465805792]}, \"tinfo\": {\"Term\": [\"efforts\", \"marker\", \"littleelvis40\", \"gdarkconrad\", \"gainesville\", \"needs\", \"hotel\", \"mcgovern\", \"floridas\", \"business\", \"kalinmitchelctv\", \"insider\", \"hit\", \"barrier\", \"lago\", \"gc\", \"arrival\", \"jackson_dill\", \"levels\", \"lardo\", \"council\", \"maximum\", \"karla\", \"living\", \"day\", \"estimates\", \"letsgohornets\", \"floods\", \"matthewcappucci\", \"broward\", \"monday\", \"id\", \"ab\", \"miami\", \"dick\", \"floridapoison\", \"decade\", \"counties\", \"gweniethinks\", \"close\", \"abc\", \"infrastructure\", \"distance\", \"bblock29\", \"leading\", \"iowa_1776\", \"frozen\", \"carolina\", \"amazon\", \"brother\", \"insight\", \"needs\", \"ap\", \"bucs\", \"floridians\", \"mobute\", \"attention\", \"feare\", \"days\", \"markc2323\", \"hometown\", \"letsgohornets\", \"forecast\", \"daynavettese\", \"maximum\", \"careful\", \"defencehq\", \"inland\", \"hbcusports1\", \"food\", \"arkansas\", \"little\", \"livecam\", \"lhps_athletics\", \"closures\", \"gas\", \"dylanfedericowx\", \"dawndiamondhand\", \"need\", \"greg_magnuson\", \"nashv\", \"fuck\", \"king\", \"govrondesantis\", \"dropsonde\", \"cleanairmoms\", \"clicks\", \"fact\", \"air\", \"communities\", \"faster\", \"bbc\", \"landf\", \"medications\", \"communication\", \"important\", \"greater\", \"baja\", \"nasaartemis\", \"cedarwood\", \"30\", \"deepdives\", \"irma\", \"mexico\", \"event\", \"conditions\", \"course\", \"constant\", \"mcdill\", \"ar\", \"ft\", \"body\", \"based\", \"circulation\", \"lardo\", \"levels\", \"extended\", \"gymmyjay\", \"hotels\", \"curtmweiler\", \"grandsons\", \"belongings\", \"englewood\", \"colonoscopy\", \"boca\", \"matter\", \"marker\", \"littleelvis40\", \"12\", \"kalinmitchelctv\", \"living\", \"brycejoneswx\", \"council\", \"business\", \"floridas\", \"mcgovern\", \"hotel\", \"bummer\", \"bravo_dada\", \"horizon\", \"duration\", \"approachin\", \"direct\", \"god\", \"bill_line\", \"bad\", \"donor\", \"mollyhereandnow\", \"goods\", \"babe\", \"century\", \"cuba\", \"hillsborough\", \"jessicam6946\", \"checkmate\", \"force\", \"mental\", \"fighters\", \"courage\", \"barometer\", \"jamesblatch\", \"left\", \"matter\", \"fossil\", \"essential\", \"man\", \"karine\", \"henderson\", \"hoa\", \"arrival\", \"fi\", \"meteorologist\", \"carolynpfox\", \"centra\", \"goodbye\", \"nbc\", \"lauraadderley\", \"near\", \"dot\", \"airport\", \"mentions\", \"alroker\", \"alachuajury\", \"alford\", \"alansholt\", \"aknewsnow\", \"morgankiro7\", \"bills\", \"flwx\", \"alabama\", \"alert\", \"airports\", \"alerts\", \"alachuachronic1\", \"hit\", \"app\", \"cuban\", \"minor\", \"access\", \"advance\", \"mlb\", \"hope\", \"davidpsamson\", \"best\", \"game\", \"coach\", \"campus\", \"mi\", \"ia\", \"nascar\", \"huracnian\", \"daughter\", \"independent\", \"kicker\", \"gathering\", \"agreement\", \"causes\", \"isnt\", \"hiidef3000\", \"coverage\", \"level\", \"main\", \"barrier\", \"lago\", \"busy\", \"meteorologists\", \"hms\", \"dedevil\", \"karla\", \"ideal\", \"middle\", \"mischievousliz\", \"hunters\", \"estimates\", \"biden\", \"emergencyas\", \"jakedoconnell\", \"drgeorgeburdell\", \"magas\", \"brace\", \"city\", \"caseydesantis\", \"act\", \"campground\", \"easy\", \"contingency\", \"cc_stormwatch\", \"breaking\", \"impactful\", \"dod\", \"emergency\", \"campus\", \"closest\", \"gulf\", \"insider\", \"admitting\", \"increased\", \"borrower\", \"hurrica\", \"hit\", \"ill\", \"542\", \"embedded\", \"gdarkconrad\", \"_private_idaho\", \"_chaibear\", \"966mb\", \"9pm\", \"hurricanecenter\", \"lifeless\", \"absent\", \"justshootlight\", \"cheers\", \"capacity\", \"barstoolclemson\", \"assignment\", \"georgia\", \"deathcarewnc\", \"level\", \"life\", \"model\", \"immigrant\", \"donate\", \"goodrobinhood\", \"members\", \"brian_wright5\", \"buschgardens\", \"moon\", \"jean\", \"fine\", \"macthegingercat\", \"forest\", \"forc\", \"accuwe\", \"levels\", \"lardo\", \"dylanfedericowx\", \"home\", \"forecaster\", \"management\", \"governor\", \"base\", \"ad\", \"damaging\", \"fellow\", \"great\", \"mlb\", \"causes\", \"broward\", \"exposes\", \"gale\", \"gainesville\", \"abccolumbia\", \"gc\", \"jackson_dill\", \"floods\", \"health\", \"buildings\", \"marthas\", \"clinic\", \"dada\", \"areas\", \"becerra\", \"brgridiron\", \"muddy\", \"effect\", \"ironik0422\", \"atlanta\", \"maps\", \"bridge\", \"huracnian\", \"nascar\", \"coordination\", \"beware\", \"eliotjacobson\", \"doc_chimpanzee\", \"carry\", \"blakesanz\", \"katrina\", \"livestream\", \"join\", \"floridastate\", \"broward\", \"langurlover\", \"families\", \"latest\", \"insurance\", \"lifetime\", \"beauty\", \"lessons\", \"lauderdale\", \"khou\", \"36\", \"ceo\", \"comfy\", \"football\", \"distress\", \"couple\", \"better\", \"gardens\", \"chair\", \"david\", \"cookinmaama\", \"buccaneers\", \"media\", \"medical\", \"ish\", \"evacuation\", \"fsu\", \"caribbean\", \"homeless\", \"ncemergency\", \"ashley\", \"likely\", \"christian\", \"anacabrera\", \"global\", \"arctic\", \"advisory\", \"miketfox5\", \"center\", \"errands\", \"meal\", \"asteroid\", \"ev\", \"largest\", \"14mb\", \"covid\", \"chillout\", \"arkansas\", \"bed\", \"famous\", \"drugstoredivas\", \"burgwx\", \"falls\", \"make\", \"country\", \"hurr\", \"efforts\", \"jokes\", \"gop\", \"medication\", \"max\", \"hurricanewarnings\", \"b_resnick\", \"checklist\", \"brown\", \"darbyscastle\", \"delivers\", \"feeling\", \"fotograffa\", \"freedom\", \"fo\", \"finish\", \"friends\", \"matthewcappucci\", \"brisco\", \"fans\", \"bobpockrass\", \"day\", \"cnn\", \"melania\", \"eastcarolina\", \"coastal\", \"keys\", \"mother\", \"24\", \"closer\", \"hu\", \"larger\", \"calm\", \"mt\", \"michael\", \"golf\", \"letter\", \"bu\", \"braces\", \"est\", \"hurri\", \"earth\", \"fox29wflx\", \"nbcnightlynews\", \"gfs\", \"delray\", \"eastern\", \"harris\", \"ex\", \"boo\", \"announces\", \"barrel\", \"higher\", \"issue\", \"matthewcocacbs\", \"forecasts\", \"actor\", \"fsu_barstool\", \"low\", \"daps_magic\", \"longer\", \"dms\", \"disney\", \"gusty\", \"lunaticlarry3\", \"box\", \"davidpantojasellsflorida\", \"family\", \"dusty\", \"na\", \"image\", \"965mb\", \"48hrs\", \"mar\", \"evacuating\", \"democrats\", \"launchpad\", \"damn\", \"hebron\", \"afb\", \"jamaican\", \"heavy\", \"midway\", \"coming\", \"dear\", \"bracing\", \"drive\", \"finale\", \"isnt\", \"et\", \"damaging\", \"boca\", \"feet\"], \"Freq\": [22.0, 10.0, 10.0, 13.0, 11.0, 10.0, 11.0, 10.0, 10.0, 10.0, 7.0, 20.0, 9.0, 7.0, 7.0, 10.0, 9.0, 10.0, 10.0, 10.0, 7.0, 10.0, 9.0, 7.0, 12.0, 8.0, 8.0, 9.0, 10.0, 11.0, 3.211208963104626, 1.9338769641506353, 1.9303305501624364, 1.9298674815002501, 1.929191154961135, 1.9288379404940306, 1.92856095936515, 1.9284366403828155, 1.9279325230000472, 1.9275019023741309, 1.927256587401128, 1.9270536894393935, 1.9270140090094974, 1.926890276437457, 0.6863308453340119, 0.6863013293492124, 0.6862632126801004, 0.6862556382138025, 0.6862014441291292, 0.6858766705612852, 0.6858366480587177, 5.173899197052454, 1.3102251206368523, 1.9338832191937716, 1.9330505165762482, 1.9806805198882946, 1.9756995508507988, 1.981127755472542, 1.9748007793401479, 1.9708051750667215, 2.584479051957476, 3.181395081875719, 1.975895607359103, 1.9810996077784284, 3.192706545507373, 1.9340880718564863, 1.933773560468788, 2.703644074217726, 1.9901879899854125, 2.0380644810910495, 1.9553929442489115, 1.9343152081103743, 1.9342405385329342, 1.9338628903035786, 1.9336388815712588, 1.9329977396497855, 1.932912710157151, 7.837621768921345, 7.8374585880081735, 7.837334488238072, 7.836292324422862, 3.420746398855767, 11.287086637227047, 2.3174164809357016, 11.145361271601592, 4.402337870477481, 3.547217434453124, 6.578384829879896, 6.5756086974537205, 6.564017367545861, 6.533605381896209, 6.5150514378150195, 6.50841038602941, 6.481418343215461, 6.470952138847575, 6.454594280753306, 6.730494123782562, 5.104891694661841, 1.21328359979321, 3.6891529469268427, 3.6579370553078916, 2.3181468526489604, 2.3181773633659186, 2.318000126953924, 2.318218672819778, 5.758758642189564, 2.3177484992432777, 4.876449729184772, 4.827423463654102, 5.627897834337678, 4.73041583894433, 6.821359152689395, 4.634616644316338, 4.630688303803676, 5.629703794527983, 5.629009247195873, 6.003494358973585, 5.969782416453796, 5.951702245528074, 5.949219564491971, 5.810530872246495, 5.801868571166648, 5.62796228394204, 5.649132607706678, 5.6281666029005475, 6.043464083823259, 9.578829237110698, 8.789282974424236, 2.4541053485332753, 5.621975162997721, 5.038790292390853, 3.216904211528182, 4.828637366982025, 6.8265028202713465, 6.832622736013882, 6.8101691101872905, 7.2039415876143735, 3.247016858326382, 3.2470939902257734, 3.247342166528013, 3.246747485471638, 3.2469930122048143, 3.247088102294522, 3.246892622976981, 3.2469506190998056, 4.0367397589503815, 0.8706464069435746, 4.014193986999708, 4.00890338637391, 3.9969956342114084, 3.245625540171715, 4.037036216288881, 4.83100755370721, 4.83048352782585, 4.830819434303733, 2.454683690580428, 2.454913025502664, 4.252315469041599, 3.2450741354100363, 4.123609119044877, 4.123653572925824, 4.116635747667475, 5.6197501137778785, 4.112340207423135, 4.003210640043651, 3.462522207639147, 4.236527972697465, 3.768967109949911, 3.7301179487148928, 4.997651738339258, 2.494176352777409, 2.469815870371095, 2.444014008343698, 2.3866893704408656, 2.3857429250456517, 2.3841984525896973, 2.359179682554408, 2.3120142675080704, 3.639873316859421, 0.9922568675424392, 1.2529876564793792, 0.9833455406198032, 0.9831921567960001, 0.9818544607996743, 0.9755127744803369, 0.9723697722939824, 0.6563063412477895, 0.6562504377549543, 3.189246855365562, 0.9464188096694462, 0.9448682816171742, 0.9429264291150551, 0.9376837596786435, 0.9234481604667781, 4.2371890665783924, 1.8497263521785157, 1.8499006351944884, 3.0442029169692084, 4.2362500060567365, 3.674284464480925, 4.598209540082089, 3.4659249833564143, 2.447368365611287, 3.3128191261940843, 2.447381215291278, 2.4470369324859966, 2.2716219630943386, 2.2975802367436975, 2.4465628236035624, 2.447514438410267, 2.4475732220037902, 2.2432950650999346, 2.433928781920256, 2.431337282091225, 2.427975392252607, 2.430306058347563, 2.4462235625123006, 2.447623882236399, 2.426416002352065, 2.4263205897856936, 2.4278231161598374, 2.280774347961978, 4.564448285664765, 4.525961872984002, 3.446703408568792, 3.0167249158770097, 3.6367393591614245, 3.0746747128644176, 4.142659369584945, 3.0562227555585526, 2.2806923403673203, 3.0171625382230474, 3.016972429708159, 3.7515666417091236, 3.6580029344247387, 3.6542604060139925, 4.113511633872803, 3.6312349100048484, 4.078409152757056, 4.06116370112411, 1.5270733604371987, 2.532955156770558, 4.030259760346979, 3.110626345346667, 3.1133554586937335, 3.061730435317342, 3.0669080966345996, 1.05740828634223, 1.051821705337065, 1.0480638936927689, 3.0222402993795403, 2.4748328953265064, 2.9730735157799817, 2.950869835272454, 6.694824184134434, 2.9510567131851286, 2.8833949804194754, 2.891936444164878, 2.880887287577985, 3.016063139438908, 2.9456653351060353, 3.0171697449510626, 3.0166071231501377, 9.226148886737239, 1.6045438413805584, 1.5834156642723232, 1.5818708587046515, 1.5660183894766828, 3.4132564300027246, 1.7488375443862916, 1.748849021633312, 1.7486566183395156, 4.4374043381029, 2.581900448035424, 2.581770850787821, 2.5816844526227527, 3.4135022343764065, 3.413520406684188, 4.714960196853491, 3.258542502546147, 2.41499051096405, 2.885888087861023, 3.228594858133963, 3.413531246306374, 2.5807669104859747, 2.580797994696654, 3.4127935143729116, 3.415026795355584, 3.4147414582421662, 3.4145632421009364, 3.4146499590784223, 3.414386620021793, 3.3796854824687594, 4.246617423261964, 4.1725301996847515, 4.159859000162078, 5.237490560563779, 3.415001290362206, 3.4147274304958084, 4.291295476599688, 3.4147545295512725, 3.414552721291168, 3.414251443556889, 4.246079586714102, 3.7570847823594677, 3.4140285936772474, 3.8923074750640603, 3.413389055968291, 3.4751806410503234, 3.4597858270472837, 4.644106179213582, 8.285181589140258, 3.225074302503761, 6.59263734626242, 6.575173479581724, 6.05476519661868, 4.695487667325008, 4.702509328958095, 4.682949134092527, 4.684551130103111, 1.0011779749373717, 3.732510949447615, 5.533207046512648, 1.9122420311178814, 4.044117680693908, 3.6828829741363727, 3.7994215247780243, 3.630664338465972, 3.734103951310871, 1.9116221268097477, 3.7342561599579573, 3.7336649677355243, 1.9118694658612632, 3.474764285759051, 3.734205654361424, 3.734054483500568, 3.4333849813336577, 2.4111351029221564, 3.369458041414884, 3.3599647189103607, 3.6520603771726465, 3.734212227007548, 4.644296785951183, 2.8690859512682962, 3.832700907677221, 3.82521189631183, 3.958655984642366, 3.933221573785496, 3.733304164056181, 3.6706225676135684, 3.856682417811903, 3.732049480503949, 4.799826450855331, 4.122957139374733, 5.0606856166140615, 1.845561160957521, 4.997696017925339, 4.997609279020244, 4.98130463043072, 4.97503580262179, 4.981927338092674, 4.942091201317074, 4.933524439828377, 3.4471545869657545, 3.4478371703644344, 3.4476306799858865, 2.3151791865546754, 2.3123538609127703, 2.304377279996616, 2.301630763770348, 2.290665412633657, 2.297187013147362, 2.2880312038703297, 2.283754134352285, 2.2768189057762216, 2.2704220733517495, 2.261916482210302, 2.268280302066417, 2.265976866291924, 2.260153708155816, 2.7711080004730375, 2.7717860527348845, 3.692827971280165, 3.618147068603524, 3.67657737268001, 4.344757581977412, 4.799654914960927, 3.434819861547501, 3.4341887389171424, 5.007452850138051, 3.4469904950818613, 4.122663586438458, 2.9958798978804975, 2.969897388320214, 2.962657602618424, 2.9375195027722976, 3.0136950332986796, 3.014746580696646, 17.80778713522706, 5.523768733285493, 3.806269625980059, 4.410999351568725, 6.406807339433433, 2.890424002446094, 2.8904388666208494, 3.934528031597035, 3.9278684849286454, 3.9076179296199522, 3.866395014676446, 3.84726620908929, 3.8262141774777882, 3.815137394450103, 3.810725707382715, 3.7885642137674744, 3.775551916997646, 6.47104237516618, 3.7292704261013996, 3.7143868288243707, 3.7032668405953966, 7.214444941772409, 1.0259793481157577, 1.0255106311384725, 3.6500083042579865, 1.9587680498863538, 2.0434349838598087, 4.763704814101494, 4.199708476634392, 4.12240684034671, 4.107223581306614, 4.078879780127129, 4.106583827225144, 4.052643520738955, 4.078270150773163, 4.330571878424492, 4.875335559270148, 4.02487446765001, 4.010145457790437, 3.994268140883764, 3.9694651843199993, 3.947682628066522, 3.9422284668762924, 3.9412668538641196, 3.9458077601573804, 3.8805500692014663, 3.881495430715906, 3.8687106549143326, 3.8418843866495513, 3.842019664925809, 3.8417226746871282, 3.8406096610072966, 2.26293376130267, 2.3355236178658028, 2.335455823235402, 2.3352997089947554, 2.335214810214483, 2.3351389299859617, 3.8807577655242733, 0.8282350266976515, 3.8853329701226755, 5.485363060755956, 5.482988382784681, 5.4751932442268, 3.0871286323083598, 4.283507316645431, 3.0236059965767472, 2.182418152673545, 2.140976818933998, 3.0870931800704438, 1.924913932417251, 3.1315468655869365, 2.08136108201762, 2.079201605350185, 2.0607165286147757, 2.059260809968424, 3.0883013550204708, 2.0433424441596677, 2.777365014503225, 6.899725116655821, 2.7391907288814403, 2.7235255044907842, 3.0870558619252693, 2.7082745115115663, 3.088002809859074, 2.6690702450829633, 4.052616531620383, 3.948001642298877, 3.758589353666278, 2.6624005595866382, 3.0878127983032266, 3.0878986300371283, 2.469698054487815], \"Total\": [22.0, 10.0, 10.0, 13.0, 11.0, 10.0, 11.0, 10.0, 10.0, 10.0, 7.0, 20.0, 9.0, 7.0, 7.0, 10.0, 9.0, 10.0, 10.0, 10.0, 7.0, 10.0, 9.0, 7.0, 12.0, 8.0, 8.0, 9.0, 10.0, 11.0, 5.425699647424851, 3.6004978397698215, 3.7746636330656593, 3.7750843570060986, 3.7757097252891874, 3.7757831338818906, 3.7760283322646457, 3.775957267258634, 3.7761985116420402, 3.77699914002937, 3.7771954891757105, 3.777113336404192, 3.7770745853130396, 3.7770533566934708, 1.4201303907710494, 1.4201102138821655, 1.420076198490231, 1.4200704078389599, 1.4200407456035895, 1.4199125016865282, 1.4198949693787735, 10.755284780738494, 2.8209611649837885, 4.53322573196751, 4.562929107397278, 4.950204221999168, 4.944961657026617, 4.970287413071485, 4.966381683485047, 4.959811332502579, 6.5401354301845895, 8.147901724034925, 5.004583179643223, 5.021871025650918, 10.325649722475877, 6.121692828534019, 6.121757161363755, 11.749095307860594, 6.601386555368583, 8.230788767837808, 13.698448736545473, 7.461685707183117, 7.249518872766147, 6.549533027370927, 8.966823638263971, 6.377787985389559, 14.137581062585786, 8.523520125621678, 8.523355320245122, 8.523258190929464, 8.522273781827597, 4.10699609636233, 14.62174049739426, 3.003426991480251, 14.478373495305176, 5.893761815259167, 4.8890475694459115, 9.394493379323542, 9.394075992201211, 9.389560578650283, 9.383058754372287, 9.374721681029008, 9.370692939634429, 9.36325558807175, 9.377631045982326, 9.371984716008212, 9.879467731123068, 7.58625800181431, 1.8993313506059981, 5.778446650030072, 5.784153094209904, 3.7461578310521704, 3.747660185966837, 3.749441052434037, 3.7512078288204203, 9.433924244781695, 3.816623077573695, 8.034244723239274, 7.978568893192837, 9.4108021377822, 7.968105448639471, 11.84630127733026, 7.913924347009215, 7.9556167369280395, 10.488020745939634, 10.486701517612131, 12.056489488009689, 12.050365885066716, 12.060393136136996, 12.05319320844522, 12.020216791701586, 12.011146810875562, 11.455866628707774, 12.540992773103369, 13.33702222893951, 21.99766086279629, 10.297933509936717, 10.955264929380606, 3.171599260740861, 7.272416210509979, 7.117858356323173, 4.794481369410039, 7.391399349336405, 10.642562103922348, 10.66699991850481, 10.670174604982467, 11.596911826535315, 5.624925338578987, 5.626701558931498, 5.627796992252482, 5.626963854208374, 5.62744842374571, 5.627717019541268, 5.627541291723571, 5.627791173698445, 7.060519792748975, 1.5878542428883728, 7.415380812160482, 7.414962657858325, 7.414206841657237, 6.250977656133546, 7.9359310405949355, 9.595109888713871, 9.601978925922689, 9.613421733589268, 4.993662265768739, 5.009069371673239, 9.636745864788239, 7.148846971755616, 10.140381210569856, 10.145340258409343, 10.150532998196082, 21.99766086279629, 10.158760765016666, 11.141419162909305, 9.025857501881235, 4.974575170108821, 5.968174353795153, 5.973115637596783, 9.3381361431228, 4.721718283709391, 4.7042784880418695, 4.751827598202551, 4.739108018172274, 4.75328232019377, 4.763219643807348, 4.770566789148947, 4.7517207396534085, 7.495143385132706, 2.0585760870166947, 2.613666145957239, 2.0610267642475355, 2.0610984933585623, 2.061442232438394, 2.063037096467146, 2.0638611181843416, 1.3930395879441582, 1.393002020346328, 6.854886331337945, 2.0707693058834975, 2.0709947384606315, 2.071553769389464, 2.072787560904345, 2.0766885028045814, 9.642525155093212, 4.211199998742865, 4.225269141274088, 7.44159823057862, 11.709004856825599, 10.04577930008286, 13.264323412696342, 10.312495103739613, 6.859889742890528, 10.364124255176502, 7.363175560952765, 7.362611229346217, 6.677094264674386, 7.163885885429506, 7.909296345452113, 7.930759011134597, 7.931342652979918, 7.176569585924006, 9.337226480254039, 9.308572547832824, 9.347303751715948, 9.39533079777566, 10.137007241233066, 12.77314659605748, 9.349939466786195, 9.399796322169784, 9.93458503738927, 3.6274519571179797, 7.834604050447533, 7.8221126956772125, 6.060423509865208, 5.961301425943094, 7.753059893317867, 6.671327251295385, 9.012005947157416, 6.658916314858838, 5.019257298988567, 6.6696167855678015, 6.670398856608694, 8.536036103189565, 8.580440659057746, 8.588082440475038, 9.688552525306893, 8.571074694611998, 9.692937863717837, 9.710945848123187, 3.6629881621639235, 6.091740574114209, 9.713375961189175, 8.020732825469741, 8.137043414090627, 8.004294777162526, 8.040673630624715, 2.7729548857852553, 2.7720014114669467, 2.771125820909886, 8.006448565410752, 6.677094264674386, 8.090792094165192, 8.149225606963888, 20.76140437953407, 8.209410778462251, 8.021022242633963, 8.076949683443878, 8.018678988311967, 9.642525155093212, 8.812807969307475, 10.413841568411152, 12.728209633287488, 13.225574165441197, 2.4792579172845906, 2.481694863849479, 2.4819483885885463, 2.483683128017208, 5.556131559826117, 3.197771328569694, 3.1978324488545535, 3.1975945541784694, 8.149987035658866, 4.88563866152121, 4.885994830749835, 4.888890499702732, 6.543592034629661, 7.039578685653039, 9.93458503738927, 7.077390154951035, 5.263826202301311, 6.33803214378357, 7.101346698095727, 7.671764764614707, 5.876306060468823, 5.94916888534517, 7.888828512726017, 7.933525126885332, 7.9333008016816295, 7.933095831278834, 7.933350975519616, 7.93316937205932, 8.212162543125807, 10.553321049133274, 10.486701517612131, 10.488020745939634, 14.137581062585786, 8.6994177976913, 8.700306269178482, 12.37157405851734, 8.700483301309816, 8.69984965696185, 8.6995350105463, 13.062605686433013, 10.44665292375334, 8.69925184020452, 13.264323412696342, 10.137007241233066, 11.943003015891538, 12.14540604634545, 6.0258697849360034, 11.198869095198548, 4.545605124137945, 10.23563098352263, 10.232823604760776, 9.460830540695936, 7.495213743815782, 7.507772827968246, 7.487979772997378, 7.501173724474309, 1.7065425084230483, 6.698020421770515, 9.942041586554458, 3.550067131954875, 8.217709725522592, 7.511360052480781, 7.799444133483607, 7.52619623542936, 7.742991025467715, 4.046354393008095, 7.931342652979918, 7.930759011134597, 4.126269486903992, 7.522091541376036, 8.138761157406602, 8.13888054287485, 7.509235331406982, 5.348559780612125, 7.501349152074562, 7.503631169362493, 8.368640214911968, 8.938780397237085, 11.943003015891538, 6.641597006479744, 9.82614856599705, 9.825165063174927, 10.431880473005098, 10.453055301294059, 9.555091484965658, 9.80813433618973, 12.59326015791614, 12.308069773608462, 6.15249431495284, 6.375266390877805, 7.939980026161588, 2.8963117154794893, 7.942536835377365, 7.944462686356983, 7.935049038418605, 7.93469116165072, 7.945853736248441, 7.942190552832411, 7.950831545272315, 5.731301065108734, 6.230224484946904, 6.2300954423019475, 4.199320647755637, 4.204607152158944, 4.200769665755339, 4.203856753453383, 4.184568688498867, 4.199167473898507, 4.207897387059198, 4.212032512174773, 4.210562581960547, 4.215277325651096, 4.202091223924174, 4.214840432328878, 4.21529136857594, 4.216511241984737, 5.322245936195048, 5.3939476708500145, 7.2795632086287165, 7.281809970826372, 7.457472561759661, 9.114863700153606, 11.05121432371057, 7.638411487952653, 7.640729012672524, 13.698448736545473, 7.870291809103459, 10.956893501990066, 6.860161719561269, 6.866219813591989, 6.879271137207036, 6.875123240372587, 9.060464905117165, 13.975855560645114, 22.666084303906445, 7.2852612569716015, 5.35616874243558, 6.2767376473839995, 9.284088985824871, 4.269926720281515, 4.329798381253374, 6.199234661580513, 6.201196408790621, 6.20048450455293, 6.194136690480521, 6.1919409946097, 6.189026919558603, 6.18732016762709, 6.189501520232848, 6.183208933987912, 6.1821321500331, 10.617729127445855, 6.1791418592167915, 6.175133682083766, 6.175863363519165, 12.146994739065768, 1.7289015669052423, 1.7286176979206551, 6.169418620959679, 3.414899625089043, 3.576410947760754, 8.738254063254436, 7.798765085490013, 7.789727826943078, 7.762347907690784, 7.749523858694729, 7.810146901933778, 7.734750492831952, 7.79431418266021, 8.534349183150065, 12.13208026396361, 7.77809410710963, 7.77958062301948, 7.820816261848671, 7.789872415466627, 7.695137337744643, 7.743829130444773, 7.782460657549704, 8.05762373738102, 7.7301226353139265, 7.77196214623343, 7.75588474039721, 5.159866073583921, 5.160097826927717, 5.159769483726793, 5.407490204323452, 3.696898039934128, 3.9673197570674725, 3.9672050672076775, 3.9671551580285866, 3.967040934525934, 3.9669190736711926, 6.902632030844649, 1.5493132417998412, 7.865668487998466, 11.130179506875962, 11.166460285332068, 11.168406537979983, 6.347005676078361, 9.011989307201004, 6.375605890206192, 4.768318094328959, 4.772194489129916, 6.949216712590486, 4.360444740739695, 7.118012732562369, 4.802522622372676, 4.815910061596288, 4.786346589888598, 4.795299989254898, 7.195895860519027, 4.807937923932169, 6.74222182445682, 18.63817358982715, 6.744560242535381, 6.741558821712312, 7.918707516369488, 6.738434118196713, 8.113786232759455, 6.728433236486023, 12.97466578816682, 12.788633824750011, 12.77314659605748, 6.7335944910625765, 13.062605686433013, 13.33702222893951, 7.630271166491916], \"Category\": [\"Default\", \"Default\", \"Default\", \"Default\", \"Default\", \"Default\", \"Default\", \"Default\", \"Default\", \"Default\", \"Default\", \"Default\", \"Default\", \"Default\", \"Default\", \"Default\", \"Default\", \"Default\", \"Default\", \"Default\", \"Default\", \"Default\", \"Default\", \"Default\", \"Default\", \"Default\", \"Default\", \"Default\", \"Default\", \"Default\", \"Topic1\", \"Topic1\", \"Topic1\", \"Topic1\", \"Topic1\", \"Topic1\", \"Topic1\", \"Topic1\", \"Topic1\", \"Topic1\", \"Topic1\", \"Topic1\", \"Topic1\", \"Topic1\", \"Topic1\", \"Topic1\", \"Topic1\", \"Topic1\", \"Topic1\", \"Topic1\", \"Topic1\", \"Topic1\", \"Topic1\", \"Topic1\", \"Topic1\", \"Topic1\", \"Topic1\", \"Topic1\", \"Topic1\", \"Topic1\", \"Topic1\", \"Topic1\", \"Topic1\", \"Topic1\", \"Topic1\", \"Topic1\", \"Topic1\", \"Topic1\", \"Topic1\", \"Topic1\", \"Topic1\", \"Topic1\", \"Topic1\", \"Topic1\", \"Topic1\", \"Topic1\", \"Topic1\", \"Topic2\", \"Topic2\", \"Topic2\", \"Topic2\", \"Topic2\", \"Topic2\", \"Topic2\", \"Topic2\", \"Topic2\", \"Topic2\", \"Topic2\", \"Topic2\", \"Topic2\", \"Topic2\", \"Topic2\", \"Topic2\", \"Topic2\", \"Topic2\", \"Topic2\", \"Topic2\", \"Topic2\", \"Topic2\", \"Topic2\", \"Topic2\", \"Topic2\", \"Topic2\", \"Topic2\", \"Topic2\", \"Topic2\", \"Topic2\", \"Topic2\", \"Topic2\", \"Topic2\", \"Topic2\", \"Topic2\", \"Topic2\", \"Topic2\", \"Topic2\", \"Topic2\", \"Topic2\", \"Topic2\", \"Topic2\", \"Topic2\", \"Topic2\", \"Topic2\", \"Topic2\", \"Topic2\", \"Topic2\", \"Topic2\", \"Topic3\", \"Topic3\", \"Topic3\", \"Topic3\", \"Topic3\", \"Topic3\", \"Topic3\", \"Topic3\", \"Topic3\", \"Topic3\", \"Topic3\", \"Topic3\", \"Topic3\", \"Topic3\", \"Topic3\", \"Topic3\", \"Topic3\", \"Topic3\", \"Topic3\", \"Topic3\", \"Topic3\", \"Topic3\", \"Topic3\", \"Topic3\", \"Topic3\", \"Topic3\", \"Topic3\", \"Topic3\", \"Topic3\", \"Topic3\", \"Topic3\", \"Topic3\", \"Topic3\", \"Topic3\", \"Topic3\", \"Topic3\", \"Topic3\", \"Topic3\", \"Topic3\", \"Topic3\", \"Topic4\", \"Topic4\", \"Topic4\", \"Topic4\", \"Topic4\", \"Topic4\", \"Topic4\", \"Topic4\", \"Topic4\", \"Topic4\", \"Topic4\", \"Topic4\", \"Topic4\", \"Topic4\", \"Topic4\", \"Topic4\", \"Topic4\", \"Topic4\", \"Topic4\", \"Topic4\", \"Topic4\", \"Topic4\", \"Topic4\", \"Topic4\", \"Topic4\", \"Topic4\", \"Topic4\", \"Topic4\", \"Topic4\", \"Topic4\", \"Topic4\", \"Topic4\", \"Topic4\", \"Topic4\", \"Topic4\", \"Topic4\", \"Topic4\", \"Topic4\", \"Topic4\", \"Topic4\", \"Topic4\", \"Topic4\", \"Topic4\", \"Topic4\", \"Topic4\", \"Topic4\", \"Topic4\", \"Topic4\", \"Topic4\", \"Topic4\", \"Topic4\", \"Topic4\", \"Topic4\", \"Topic4\", \"Topic4\", \"Topic5\", \"Topic5\", \"Topic5\", \"Topic5\", \"Topic5\", \"Topic5\", \"Topic5\", \"Topic5\", \"Topic5\", \"Topic5\", \"Topic5\", \"Topic5\", \"Topic5\", \"Topic5\", \"Topic5\", \"Topic5\", \"Topic5\", \"Topic5\", \"Topic5\", \"Topic5\", \"Topic5\", \"Topic5\", \"Topic5\", \"Topic5\", \"Topic5\", \"Topic5\", \"Topic5\", \"Topic5\", \"Topic5\", \"Topic5\", \"Topic5\", \"Topic5\", \"Topic5\", \"Topic5\", \"Topic5\", \"Topic5\", \"Topic5\", \"Topic5\", \"Topic5\", \"Topic5\", \"Topic5\", \"Topic5\", \"Topic6\", \"Topic6\", \"Topic6\", \"Topic6\", \"Topic6\", \"Topic6\", \"Topic6\", \"Topic6\", \"Topic6\", \"Topic6\", \"Topic6\", \"Topic6\", \"Topic6\", \"Topic6\", \"Topic6\", \"Topic6\", \"Topic6\", \"Topic6\", \"Topic6\", \"Topic6\", \"Topic6\", \"Topic6\", \"Topic6\", \"Topic6\", \"Topic6\", \"Topic6\", \"Topic6\", \"Topic6\", \"Topic6\", \"Topic6\", \"Topic6\", \"Topic6\", \"Topic6\", \"Topic6\", \"Topic6\", \"Topic6\", \"Topic6\", \"Topic6\", \"Topic6\", \"Topic6\", \"Topic6\", \"Topic6\", \"Topic6\", \"Topic6\", \"Topic6\", \"Topic6\", \"Topic6\", \"Topic7\", \"Topic7\", \"Topic7\", \"Topic7\", \"Topic7\", \"Topic7\", \"Topic7\", \"Topic7\", \"Topic7\", \"Topic7\", \"Topic7\", \"Topic7\", \"Topic7\", \"Topic7\", \"Topic7\", \"Topic7\", \"Topic7\", \"Topic7\", \"Topic7\", \"Topic7\", \"Topic7\", \"Topic7\", \"Topic7\", \"Topic7\", \"Topic7\", \"Topic7\", \"Topic7\", \"Topic7\", \"Topic7\", \"Topic7\", \"Topic7\", \"Topic7\", \"Topic7\", \"Topic7\", \"Topic7\", \"Topic7\", \"Topic7\", \"Topic7\", \"Topic7\", \"Topic7\", \"Topic7\", \"Topic7\", \"Topic8\", \"Topic8\", \"Topic8\", \"Topic8\", \"Topic8\", \"Topic8\", \"Topic8\", \"Topic8\", \"Topic8\", \"Topic8\", \"Topic8\", \"Topic8\", \"Topic8\", \"Topic8\", \"Topic8\", \"Topic8\", \"Topic8\", \"Topic8\", \"Topic8\", \"Topic8\", \"Topic8\", \"Topic8\", \"Topic8\", \"Topic8\", \"Topic8\", \"Topic8\", \"Topic8\", \"Topic8\", \"Topic8\", \"Topic8\", \"Topic8\", \"Topic8\", \"Topic8\", \"Topic8\", \"Topic8\", \"Topic8\", \"Topic8\", \"Topic8\", \"Topic8\", \"Topic8\", \"Topic8\", \"Topic8\", \"Topic8\", \"Topic8\", \"Topic8\", \"Topic8\", \"Topic9\", \"Topic9\", \"Topic9\", \"Topic9\", \"Topic9\", \"Topic9\", \"Topic9\", \"Topic9\", \"Topic9\", \"Topic9\", \"Topic9\", \"Topic9\", \"Topic9\", \"Topic9\", \"Topic9\", \"Topic9\", \"Topic9\", \"Topic9\", \"Topic9\", \"Topic9\", \"Topic9\", \"Topic9\", \"Topic9\", \"Topic9\", \"Topic9\", \"Topic9\", \"Topic9\", \"Topic9\", \"Topic9\", \"Topic9\", \"Topic9\", \"Topic9\", \"Topic9\", \"Topic9\", \"Topic9\", \"Topic9\", \"Topic9\", \"Topic9\", \"Topic9\", \"Topic9\", \"Topic9\", \"Topic9\", \"Topic9\", \"Topic9\", \"Topic9\", \"Topic9\", \"Topic9\", \"Topic9\", \"Topic10\", \"Topic10\", \"Topic10\", \"Topic10\", \"Topic10\", \"Topic10\", \"Topic10\", \"Topic10\", \"Topic10\", \"Topic10\", \"Topic10\", \"Topic10\", \"Topic10\", \"Topic10\", \"Topic10\", \"Topic10\", \"Topic10\", \"Topic10\", \"Topic10\", \"Topic10\", \"Topic10\", \"Topic10\", \"Topic10\", \"Topic10\", \"Topic10\", \"Topic10\", \"Topic10\", \"Topic10\", \"Topic10\", \"Topic10\", \"Topic10\", \"Topic10\", \"Topic10\", \"Topic10\", \"Topic10\", \"Topic10\", \"Topic10\", \"Topic10\", \"Topic10\", \"Topic10\", \"Topic10\", \"Topic10\", \"Topic10\", \"Topic10\", \"Topic10\"], \"logprob\": [30.0, 29.0, 28.0, 27.0, 26.0, 25.0, 24.0, 23.0, 22.0, 21.0, 20.0, 19.0, 18.0, 17.0, 16.0, 15.0, 14.0, 13.0, 12.0, 11.0, 10.0, 9.0, 8.0, 7.0, 6.0, 5.0, 4.0, 3.0, 2.0, 1.0, -4.8731, -5.3802, -5.382, -5.3823, -5.3826, -5.3828, -5.3829, -5.383, -5.3833, -5.3835, -5.3836, -5.3837, -5.3837, -5.3838, -6.4161, -6.4161, -6.4162, -6.4162, -6.4163, -6.4168, -6.4168, -4.3961, -5.7695, -5.3802, -5.3806, -5.3563, -5.3588, -5.356, -5.3592, -5.3613, -5.0902, -4.8824, -5.3587, -5.3561, -4.8788, -5.3801, -5.3802, -5.0451, -5.3515, -5.3277, -5.3691, -5.38, -5.38, -5.3802, -5.3803, -5.3806, -5.3807, -5.2357, -5.2357, -5.2357, -5.2359, -6.0648, -4.871, -6.4542, -4.8836, -5.8125, -6.0285, -5.4109, -5.4113, -5.413, -5.4177, -5.4205, -5.4215, -5.4257, -5.4273, -5.4298, -5.388, -5.6644, -7.1013, -5.9892, -5.9977, -6.4539, -6.4539, -6.4539, -6.4538, -5.5439, -6.454, -5.7102, -5.7203, -5.5669, -5.7406, -5.3746, -5.7611, -5.7619, -5.5666, -5.5667, -5.5023, -5.5079, -5.511, -5.5114, -5.535, -5.5365, -5.5669, -5.5631, -5.5669, -5.4957, -4.1897, -4.2757, -5.5515, -4.7225, -4.8321, -5.2808, -4.8747, -4.5284, -4.5275, -4.5308, -4.4746, -5.2715, -5.2715, -5.2714, -5.2716, -5.2715, -5.2715, -5.2715, -5.2715, -5.0538, -6.5877, -5.0594, -5.0607, -5.0637, -5.2719, -5.0537, -4.8742, -4.8743, -4.8742, -5.5512, -5.5511, -5.0018, -5.2721, -5.0325, -5.0325, -5.0342, -4.7229, -5.0352, -5.0621, -5.2072, -5.0089, -5.1258, -5.1362, -4.8436, -5.5387, -5.5485, -5.559, -5.5827, -5.5831, -5.5837, -5.5943, -5.6145, -5.1607, -6.4604, -6.2271, -6.4694, -6.4696, -6.4709, -6.4774, -6.4806, -6.8737, -6.8738, -5.2928, -6.5077, -6.5093, -6.5114, -6.517, -6.5323, -5.0087, -5.8376, -5.8375, -5.3394, -5.0089, -5.1513, -4.9269, -5.2096, -5.5576, -5.2548, -5.5576, -5.5577, -5.6321, -5.6208, -5.5579, -5.5575, -5.5575, -5.6447, -5.5631, -5.5642, -5.5656, -5.5646, -5.5581, -5.5575, -5.5662, -5.5662, -5.5656, -5.4553, -4.7615, -4.7699, -5.0424, -5.1756, -4.9887, -5.1566, -4.8584, -5.1626, -5.4553, -5.1755, -5.1755, -4.9576, -4.9829, -4.9839, -4.8655, -4.9902, -4.8741, -4.8783, -5.8564, -5.3504, -4.8859, -5.1449, -5.1441, -5.1608, -5.1591, -6.224, -6.2292, -6.2328, -5.1738, -5.3736, -5.1902, -5.1977, -4.3784, -5.1976, -5.2208, -5.2178, -5.2217, -5.1758, -5.1994, -5.1755, -5.1756, -4.3069, -6.0561, -6.0693, -6.0703, -6.0804, -5.3012, -5.9699, -5.9699, -5.9701, -5.0388, -5.5804, -5.5804, -5.5805, -5.3012, -5.3012, -4.9782, -5.3476, -5.6472, -5.4691, -5.3569, -5.3012, -5.5808, -5.5808, -5.3014, -5.3007, -5.3008, -5.3009, -5.3008, -5.3009, -5.3111, -5.0828, -5.1004, -5.1034, -4.8731, -5.3007, -5.3008, -5.0723, -5.3008, -5.3009, -5.3009, -5.0829, -5.2053, -5.301, -5.1699, -5.3012, -5.2833, -5.2877, -5.0749, -4.4961, -5.4396, -4.7246, -4.7272, -4.8097, -5.0639, -5.0624, -5.0666, -5.0663, -6.6094, -5.2934, -4.8998, -5.9623, -5.2133, -5.3068, -5.2757, -5.3211, -5.293, -5.9626, -5.293, -5.2931, -5.9624, -5.365, -5.293, -5.293, -5.377, -5.7304, -5.3958, -5.3986, -5.3152, -5.293, -5.0749, -5.5565, -5.267, -5.2689, -5.2346, -5.2411, -5.2932, -5.3102, -5.2607, -5.2936, -4.9754, -5.1274, -4.9225, -5.9312, -4.935, -4.935, -4.9383, -4.9395, -4.9382, -4.9462, -4.9479, -5.3064, -5.3062, -5.3063, -5.7045, -5.7057, -5.7092, -5.7103, -5.7151, -5.7123, -5.7163, -5.7181, -5.7212, -5.724, -5.7278, -5.7249, -5.726, -5.7285, -5.5247, -5.5245, -5.2376, -5.258, -5.242, -5.075, -4.9754, -5.31, -5.3102, -4.933, -5.3065, -5.1275, -5.4467, -5.4554, -5.4579, -5.4664, -5.4408, -5.4405, -3.867, -5.0376, -5.41, -5.2626, -4.8893, -5.6853, -5.6853, -5.3769, -5.3786, -5.3837, -5.3943, -5.3993, -5.4048, -5.4077, -5.4088, -5.4147, -5.4181, -4.8793, -5.4305, -5.4345, -5.4374, -4.7706, -6.721, -6.7215, -5.4519, -6.0743, -6.032, -5.1856, -5.3116, -5.3302, -5.3339, -5.3408, -5.3341, -5.3473, -5.341, -5.281, -5.1625, -5.3542, -5.3578, -5.3618, -5.368, -5.3735, -5.3749, -5.3752, -5.374, -5.3907, -5.3904, -5.3937, -5.1581, -5.158, -5.1581, -5.1584, -5.6874, -5.6558, -5.6558, -5.6559, -5.6559, -5.656, -5.148, -6.6925, -5.1468, -4.802, -4.8024, -4.8038, -5.3768, -5.0493, -5.3976, -5.7236, -5.7428, -5.3768, -5.8492, -5.3625, -5.771, -5.7721, -5.781, -5.7817, -5.3764, -5.7895, -5.4825, -4.5726, -5.4964, -5.5021, -5.3768, -5.5077, -5.3765, -5.5223, -5.1047, -5.1308, -5.18, -5.5248, -5.3766, -5.3765, -5.5999], \"loglift\": [30.0, 29.0, 28.0, 27.0, 26.0, 25.0, 24.0, 23.0, 22.0, 21.0, 20.0, 19.0, 18.0, 17.0, 16.0, 15.0, 14.0, 13.0, 12.0, 11.0, 10.0, 9.0, 8.0, 7.0, 6.0, 5.0, 4.0, 3.0, 2.0, 1.0, 2.3361, 2.239, 2.19, 2.1896, 2.1891, 2.1889, 2.1887, 2.1886, 2.1883, 2.1879, 2.1877, 2.1876, 2.1876, 2.1875, 2.1334, 2.1334, 2.1334, 2.1334, 2.1333, 2.1329, 2.1329, 2.1288, 2.0937, 2.0087, 2.0017, 1.9446, 1.9431, 1.9408, 1.9383, 1.9376, 1.9321, 1.9201, 1.9312, 1.9304, 1.6868, 1.7084, 1.7082, 1.3914, 1.6615, 1.4647, 0.9139, 1.5105, 1.5394, 1.6407, 1.3264, 1.6668, 0.8708, 1.5217, 1.5217, 1.5217, 1.5217, 1.4228, 1.3468, 1.3463, 1.344, 1.3139, 1.2848, 1.2493, 1.2489, 1.2476, 1.2437, 1.2417, 1.2411, 1.2378, 1.2346, 1.2327, 1.2218, 1.2095, 1.1575, 1.1569, 1.1474, 1.1257, 1.1253, 1.1247, 1.1244, 1.112, 1.1069, 1.1063, 1.1032, 1.0915, 1.0842, 1.0537, 1.0706, 1.0645, 0.9835, 0.9835, 0.9084, 0.9033, 0.8994, 0.8996, 0.8787, 0.878, 0.8949, 0.8081, 0.7429, 0.3137, 2.3787, 2.2308, 2.1946, 2.1936, 2.1056, 2.052, 2.0253, 2.007, 2.0056, 2.002, 1.9749, 1.9016, 1.9013, 1.9012, 1.9011, 1.9011, 1.9011, 1.9011, 1.9011, 1.892, 1.8501, 1.8373, 1.8361, 1.8332, 1.7956, 1.7752, 1.7649, 1.764, 1.7629, 1.7409, 1.7379, 1.6329, 1.6612, 1.5513, 1.5508, 1.5486, 1.0864, 1.5467, 1.4275, 1.493, 2.2871, 1.988, 1.9768, 1.8225, 1.8095, 1.8033, 1.7828, 1.7617, 1.7583, 1.7556, 1.7435, 1.7273, 1.7254, 1.7179, 1.7124, 1.7077, 1.7075, 1.7059, 1.6987, 1.6951, 1.6951, 1.695, 1.6825, 1.6647, 1.6629, 1.6606, 1.6544, 1.6373, 1.6254, 1.625, 1.6217, 1.5538, 1.431, 1.4419, 1.3883, 1.3573, 1.417, 1.3071, 1.3462, 1.3461, 1.3695, 1.3105, 1.2743, 1.272, 1.2719, 1.2848, 1.1032, 1.1052, 1.0996, 1.0955, 1.026, 0.7954, 1.0987, 1.0934, 1.0386, 2.1565, 2.0803, 2.0734, 2.0561, 1.9394, 1.8635, 1.8459, 1.8433, 1.8417, 1.8317, 1.8273, 1.8271, 1.7984, 1.7679, 1.766, 1.7638, 1.7617, 1.7548, 1.7487, 1.7456, 1.743, 1.7408, 1.6733, 1.6598, 1.6595, 1.6567, 1.6564, 1.6515, 1.6482, 1.6463, 1.628, 1.6194, 1.6047, 1.4887, 1.5974, 1.5974, 1.5934, 1.5968, 1.4583, 1.5246, 1.3817, 1.1808, 2.0113, 1.9363, 1.922, 1.9209, 1.9102, 1.8841, 1.7679, 1.7679, 1.7678, 1.7634, 1.7336, 1.7335, 1.7329, 1.7206, 1.6476, 1.6261, 1.5958, 1.5922, 1.5846, 1.5831, 1.5616, 1.5485, 1.5362, 1.5335, 1.5285, 1.5284, 1.5284, 1.5284, 1.5283, 1.4835, 1.4611, 1.4498, 1.4466, 1.3784, 1.4363, 1.4361, 1.3126, 1.4361, 1.4361, 1.4361, 1.2476, 1.3487, 1.436, 1.1453, 1.2829, 1.1369, 1.1156, 2.0293, 1.9884, 1.9465, 1.8498, 1.8474, 1.8434, 1.8221, 1.8219, 1.8204, 1.819, 1.7565, 1.705, 1.7037, 1.6711, 1.5807, 1.577, 1.5705, 1.5608, 1.5605, 1.5399, 1.5365, 1.5364, 1.5205, 1.5174, 1.5106, 1.5106, 1.5072, 1.493, 1.4894, 1.4863, 1.4605, 1.4169, 1.3452, 1.4504, 1.3483, 1.3464, 1.3208, 1.3123, 1.35, 1.3069, 1.1064, 1.0964, 2.108, 1.9205, 1.9059, 1.9057, 1.8931, 1.8928, 1.8907, 1.8895, 1.8895, 1.8819, 1.8791, 1.8479, 1.7646, 1.7646, 1.7609, 1.7584, 1.7559, 1.7539, 1.7537, 1.7531, 1.747, 1.7442, 1.7415, 1.7376, 1.7369, 1.7367, 1.7356, 1.7327, 1.7037, 1.6905, 1.6776, 1.6569, 1.6491, 1.6154, 1.5223, 1.5571, 1.5566, 1.35, 1.5307, 1.3788, 1.5278, 1.5182, 1.5139, 1.506, 1.2556, 0.8225, 1.9124, 1.8768, 1.812, 1.8009, 1.7827, 1.7634, 1.7495, 1.699, 1.697, 1.6919, 1.6823, 1.6777, 1.6727, 1.6701, 1.6686, 1.6638, 1.6605, 1.6584, 1.6486, 1.6453, 1.6422, 1.6326, 1.6318, 1.6315, 1.6287, 1.5978, 1.5939, 1.5469, 1.5347, 1.5172, 1.5171, 1.5118, 1.5108, 1.5073, 1.5059, 1.4752, 1.2419, 1.4948, 1.4909, 1.4817, 1.4794, 1.4862, 1.4785, 1.4732, 1.4396, 1.4645, 1.4593, 1.4581, 2.1013, 2.1013, 2.1013, 2.0541, 1.9054, 1.8664, 1.8664, 1.8663, 1.8663, 1.8663, 1.8204, 1.77, 1.6909, 1.6887, 1.685, 1.6834, 1.6755, 1.6525, 1.6502, 1.6147, 1.5947, 1.5848, 1.5785, 1.5751, 1.5601, 1.5563, 1.5535, 1.5509, 1.5503, 1.5406, 1.5093, 1.4025, 1.4952, 1.4899, 1.4542, 1.4847, 1.4302, 1.4716, 1.2326, 1.2209, 1.1729, 1.4684, 0.9539, 0.9332, 1.2682]}, \"token.table\": {\"Topic\": [3, 3, 4, 6, 8, 10, 5, 7, 9, 2, 9, 10, 1, 8, 9, 10, 1, 3, 4, 5, 9, 10, 5, 6, 7, 10, 6, 6, 6, 6, 1, 2, 1, 2, 2, 7, 5, 6, 3, 4, 6, 7, 10, 3, 4, 5, 6, 7, 8, 9, 2, 3, 5, 6, 7, 9, 7, 10, 2, 5, 6, 7, 1, 2, 5, 8, 1, 2, 3, 4, 7, 10, 4, 8, 1, 2, 5, 6, 7, 8, 9, 10, 1, 2, 4, 9, 1, 2, 5, 4, 4, 4, 4, 4, 4, 4, 4, 4, 4, 4, 1, 4, 8, 4, 10, 1, 6, 3, 4, 6, 3, 6, 2, 3, 5, 6, 4, 8, 3, 7, 8, 1, 2, 3, 4, 5, 6, 7, 8, 1, 4, 6, 7, 4, 8, 6, 7, 8, 1, 2, 4, 8, 6, 7, 8, 10, 1, 3, 10, 5, 9, 1, 2, 3, 9, 3, 4, 9, 10, 2, 4, 9, 2, 3, 6, 8, 9, 6, 10, 5, 7, 6, 7, 8, 2, 5, 6, 7, 2, 4, 8, 10, 1, 2, 5, 1, 2, 1, 4, 6, 7, 9, 10, 4, 5, 7, 8, 9, 2, 3, 7, 8, 2, 6, 7, 8, 2, 4, 5, 6, 7, 8, 9, 10, 1, 2, 3, 4, 6, 7, 3, 4, 5, 7, 3, 6, 4, 2, 6, 7, 6, 9, 2, 5, 6, 8, 9, 10, 2, 4, 6, 7, 8, 4, 10, 1, 2, 5, 8, 1, 2, 3, 4, 5, 10, 2, 3, 5, 6, 7, 9, 5, 7, 9, 1, 5, 8, 9, 10, 3, 6, 4, 5, 7, 9, 3, 6, 9, 7, 8, 10, 6, 9, 1, 1, 4, 5, 6, 7, 8, 6, 9, 3, 6, 5, 7, 9, 3, 8, 1, 9, 1, 5, 7, 3, 6, 3, 4, 8, 2, 6, 8, 2, 3, 9, 10, 3, 5, 5, 7, 9, 1, 2, 5, 8, 1, 4, 5, 6, 7, 8, 1, 4, 10, 4, 8, 1, 4, 1, 2, 3, 4, 7, 1, 4, 5, 2, 4, 6, 7, 8, 9, 1, 2, 5, 8, 2, 9, 10, 7, 8, 4, 8, 10, 1, 3, 7, 10, 8, 10, 8, 9, 10, 6, 9, 3, 4, 6, 9, 1, 2, 4, 6, 9, 1, 2, 6, 8, 9, 4, 8, 2, 4, 8, 10, 1, 5, 2, 5, 2, 1, 5, 7, 1, 2, 5, 7, 9, 1, 2, 5, 8, 1, 2, 6, 7, 8, 9, 9, 2, 4, 5, 6, 10, 9, 10, 1, 2, 4, 7, 8, 9, 10, 8, 9, 10, 1, 5, 8, 9, 10, 1, 2, 5, 1, 2, 5, 2, 6, 8, 2, 4, 8, 10, 1, 2, 5, 8, 8, 9, 10, 6, 7, 8, 1, 3, 4, 1, 2, 3, 4, 8, 9, 10, 8, 9, 10, 3, 5, 6, 8, 9, 2, 1, 2, 4, 9, 1, 2, 6, 8, 9, 1, 3, 5, 7, 3, 4, 9, 2, 6, 7, 8, 7, 2, 3, 4, 6, 8, 10, 9, 10, 10, 6, 9, 2, 3, 4, 9, 8, 9, 10, 4, 5, 10, 1, 3, 4, 10, 2, 2, 4, 5, 9, 10, 1, 3, 10, 1, 3, 10, 5, 6, 7, 9, 10, 3, 4, 6, 10, 1, 2, 3, 5, 8, 2, 5, 1, 4, 10, 6, 9, 5, 7, 9, 9, 10, 1, 2, 3, 6, 1, 2, 3, 4, 6, 10, 1, 2, 8, 9, 10, 1, 2, 3, 4, 6, 10, 1, 5, 6, 7, 10, 4, 5, 3, 4, 6, 7, 3, 4, 6, 8, 9, 3, 4, 5, 7, 2, 3, 4, 6, 7, 9, 10, 1, 2, 3, 4, 3, 4, 8, 3, 6, 9, 10, 1, 2, 4, 5, 6, 7, 9, 5, 7, 9, 6, 9, 5, 7, 9, 1, 2, 5, 8, 6, 7, 8, 10, 1, 2, 3, 6, 7, 9, 1, 5, 6, 7, 10, 1, 2, 4, 5, 6, 9, 10, 1, 2, 5, 8, 3, 4, 5, 7, 2, 4, 6, 7, 8, 9, 2, 3, 8, 1, 2, 3, 4, 5, 7, 8, 9, 5, 7, 9, 3, 5, 9, 10, 1, 5, 8, 9, 10, 3, 7, 8, 9, 10, 4, 8, 2, 5, 4, 10, 1, 2, 3, 4, 6, 7, 8, 10, 2, 6, 7, 8, 1, 2, 5, 3, 4, 8, 1, 2, 3, 6, 7, 8, 9, 10, 2, 5, 6, 8, 6, 9, 1, 2, 5, 1, 3, 10, 6, 9, 1, 2, 3, 4, 6, 10, 4, 5, 6, 7, 9, 10, 4, 10, 3, 5, 6, 7, 8, 9, 1, 2, 3, 4, 6, 7, 8, 9, 10, 2, 4, 6, 7, 6, 9, 6, 7, 10, 1, 2, 2, 3, 9, 10, 1, 6, 7, 10, 1, 2, 3, 3, 4, 6, 10, 6, 9, 1, 2, 4, 6, 7, 8, 10, 8, 1, 2, 5, 6, 9, 2, 3, 10, 1, 3, 10, 2, 5, 6, 7, 7, 10, 2, 4, 6, 7, 2, 3, 6, 8, 9, 6, 9, 5, 7, 9, 6, 9, 6, 9, 1, 4, 8, 7, 10, 2, 4, 8, 10, 2, 2, 7, 7, 8, 2, 4, 5, 6, 10, 8, 9, 10, 1, 3, 4, 9, 1, 2, 4, 9, 1, 6, 7, 8, 9, 1, 2, 3, 6, 10, 6, 7, 10, 1, 9, 10, 4, 8, 3, 6, 6, 8, 9, 10, 4, 8, 10, 1, 2, 4, 6, 1, 2, 3, 9, 6, 9, 2, 5, 6, 7, 2, 2, 6, 7, 8, 2, 5, 6, 7, 2, 4, 9, 2, 1, 2, 5, 8, 1, 2, 3, 4, 6, 10, 1, 2, 2, 6, 7, 8, 5, 7, 9, 1, 2, 4, 5, 6, 1, 5, 7, 1, 5, 8, 9, 10, 1, 5, 8, 9, 10, 4, 5, 7, 1, 10, 1, 2, 4, 9, 3, 4, 6, 9, 3, 4, 5, 9, 3, 4, 5, 7, 4, 5, 7, 2, 5, 6, 7, 4, 8, 1, 2, 4, 5, 6, 2, 4, 5, 6, 7, 3, 6, 3, 4, 5, 6, 8, 2, 6, 7, 8, 5, 7, 9, 2, 5, 7, 2, 4, 7, 1, 2, 4, 7, 8, 9, 5, 7, 9, 1, 2, 5, 8, 6, 8, 10, 8, 9, 1, 3, 4, 6, 9, 10, 1, 9, 3, 5, 8, 1, 2, 5, 7, 9, 10, 4, 5, 10, 4, 5, 6, 9, 10, 4, 5, 1, 2, 5, 1, 2, 5, 8, 1, 2, 4, 9, 1, 2, 1, 2, 4, 5, 6, 7, 2, 3, 4, 5, 6, 7, 8, 9, 10, 1, 1, 2, 4, 6, 7, 10, 1, 2, 5, 1, 2, 6, 7, 4, 8, 1, 2, 3, 4, 7, 8, 9, 10, 7, 10, 1, 6, 7, 8, 9, 2, 3, 5, 6, 7, 9, 1, 5, 8, 9, 10, 2, 3, 6, 8, 9, 2, 4, 6, 7, 3, 4, 6, 9, 2, 7, 9, 7, 9, 5, 6, 3, 9, 4, 2, 5, 6, 10, 1, 2, 3, 4, 6, 7, 2, 9, 1, 4, 5, 6, 7, 9, 10, 1, 2, 4, 9, 1, 2, 4, 6, 5, 7, 1, 2, 5, 2, 7, 9, 2, 6, 5, 7, 9, 2, 6, 8, 10, 1, 2, 3, 6, 7, 8, 1, 3, 4, 5, 6, 7, 8, 10, 1, 6, 8, 10, 4, 8, 10, 1, 2, 3, 6, 8, 9, 1, 2, 3, 6, 7, 8, 1, 2, 6, 10, 2, 4, 7, 8, 9, 10, 1, 2, 4, 6, 2, 6, 1, 5, 6, 10, 1, 2, 4, 6, 5, 6, 1, 2, 4, 6, 7, 10, 4, 8, 1, 2, 6, 8, 3, 6, 8, 1, 2, 4, 1, 2, 3, 4, 6, 7, 3, 8, 9, 2, 3, 4, 10, 2, 3, 4, 10, 6, 9, 10, 2, 4, 6, 7, 2, 3, 5, 6, 7, 9, 1, 5, 3, 4, 8, 2, 3, 7, 8, 2, 3, 4, 6, 7, 8, 10, 2, 3, 5, 7, 8, 9, 10, 1, 3, 10, 3, 1, 5, 7, 2, 3, 4, 5, 6, 8, 9, 10, 5, 7, 9, 10, 7, 10, 4, 9, 1, 2, 6, 8, 9, 2, 4, 8, 2, 3, 9, 10, 1, 2, 4, 8, 1, 4, 6, 8, 1, 4, 6, 8, 6, 9, 1, 2, 5, 9, 3, 4, 6, 2, 3, 10, 1, 4, 4, 5, 8, 3, 4, 5, 6, 2, 5, 2, 3, 4, 9, 1, 2, 5, 7, 9, 1, 5, 10, 2, 4, 5, 6, 10, 4, 8, 1, 3, 4, 5, 6, 8, 2, 5, 7, 2, 4, 5, 6, 7, 9, 1, 3, 10, 1, 4, 6, 10, 1, 2, 3, 9, 1, 5, 2, 4, 6, 7, 4, 2, 3, 4, 9, 5, 6, 7, 9, 4, 5, 6, 7, 2, 9, 10, 2, 2, 4, 7, 2, 4, 8, 5, 7, 9, 4, 8, 4, 8, 2, 1, 2, 5, 7, 10], \"Freq\": [0.6305966913149096, 0.09048779353183685, 0.09048779353183685, 0.27146338059551056, 0.45243896765918423, 0.09048779353183685, 0.1282254291593613, 0.1282254291593613, 0.5129017166374452, 0.6915446280293152, 0.1728861570073288, 0.1728861570073288, 0.162535704839195, 0.812678524195975, 0.20822390202629637, 0.41644780405259274, 0.09602604316867581, 0.28807812950602746, 0.09602604316867581, 0.28807812950602746, 0.09602604316867581, 0.19205208633735163, 0.14048865007298408, 0.14048865007298408, 0.14048865007298408, 0.4214659502189523, 0.8058185291827827, 0.8052557016790843, 0.8059008499125881, 0.8066929971491235, 0.529848536033836, 0.264924268016918, 0.5294933782832765, 0.26474668914163824, 0.21999271223314756, 0.6599781366994427, 0.3127118183937982, 0.6254236367875964, 0.17080870872080373, 0.34161741744160745, 0.17080870872080373, 0.2562130630812056, 0.08540435436040186, 0.09475690120145906, 0.09475690120145906, 0.09475690120145906, 0.37902760480583625, 0.09475690120145906, 0.09475690120145906, 0.18951380240291812, 0.10295081792320261, 0.10295081792320261, 0.41180327169281045, 0.20590163584640522, 0.10295081792320261, 0.10295081792320261, 0.2520770560487048, 0.5041541120974096, 0.11494867240464195, 0.11494867240464195, 0.3448460172139258, 0.3448460172139258, 0.12181142191392637, 0.3654342657417791, 0.3654342657417791, 0.12181142191392637, 0.09954429319303798, 0.09954429319303798, 0.09954429319303798, 0.3981771727721519, 0.09954429319303798, 0.19908858638607596, 0.2372315250743466, 0.4744630501486932, 0.053653325803651016, 0.16095997741095305, 0.053653325803651016, 0.10730665160730203, 0.10730665160730203, 0.10730665160730203, 0.10730665160730203, 0.3755732806255571, 0.21287169585061327, 0.3193075437759199, 0.21287169585061327, 0.10643584792530664, 0.10645006500162248, 0.7451504550113572, 0.10645006500162248, 0.48577266893700694, 0.48272944433140336, 0.4845287268552928, 0.4829123153210677, 0.4815358676322874, 0.4851781723300854, 0.48472225812732744, 0.4828597491963205, 0.48244210784616337, 0.4850972703790694, 0.4851950577968802, 0.7042051455889381, 0.23723231539588893, 0.47446463079177786, 0.19380710769228418, 0.7752284307691367, 0.35448910549101686, 0.35448910549101686, 0.23746200614991494, 0.4749240122998299, 0.23746200614991494, 0.5331012874931259, 0.3554008583287506, 0.6375652056174238, 0.10626086760290397, 0.21252173520580794, 0.10626086760290397, 0.23725690593877538, 0.47451381187755076, 0.29859568559979577, 0.5971913711995915, 0.14929784279989788, 0.14600193339150078, 0.07300096669575039, 0.21900290008725115, 0.07300096669575039, 0.07300096669575039, 0.07300096669575039, 0.07300096669575039, 0.36500483347875196, 0.10708775120359151, 0.5354387560179575, 0.21417550240718303, 0.10708775120359151, 0.2376483806557072, 0.4752967613114144, 0.613636161452668, 0.20454538715088932, 0.20454538715088932, 0.13732849442739792, 0.13732849442739792, 0.13732849442739792, 0.5493139777095917, 0.13286924346890236, 0.5314769738756094, 0.13286924346890236, 0.2657384869378047, 0.404452074397396, 0.202226037198698, 0.202226037198698, 0.23095763634853678, 0.6928729090456104, 0.13487619395529005, 0.13487619395529005, 0.5395047758211602, 0.13487619395529005, 0.5665305271303009, 0.14163263178257524, 0.14163263178257524, 0.14163263178257524, 0.659086469087159, 0.1318172938174318, 0.1318172938174318, 0.1972312439216086, 0.3944624878432172, 0.1972312439216086, 0.0986156219608043, 0.0986156219608043, 0.18492867526610957, 0.7397147010644383, 0.6381943449604689, 0.25527773798418757, 0.613999830928925, 0.20466661030964164, 0.20466661030964164, 0.11494451506984071, 0.11494451506984071, 0.34483354520952214, 0.34483354520952214, 0.6317978010352817, 0.12635956020705635, 0.12635956020705635, 0.12635956020705635, 0.10666983341208225, 0.7466888338845757, 0.10666983341208225, 0.5295133033944882, 0.2647566516972441, 0.10465624547639735, 0.10465624547639735, 0.10465624547639735, 0.4186249819055894, 0.10465624547639735, 0.2093124909527947, 0.10058296289490405, 0.2011659257898081, 0.6034977773694242, 0.10058296289490405, 0.10058296289490405, 0.12706009183081543, 0.12706009183081543, 0.25412018366163086, 0.3811802754924463, 0.49953598057491605, 0.08325599676248602, 0.24976799028745802, 0.16651199352497204, 0.0964866857419754, 0.28946005722592616, 0.0964866857419754, 0.28946005722592616, 0.0964866857419754, 0.6301158286220827, 0.12602316572441655, 0.12602316572441655, 0.13294174824906044, 0.13294174824906044, 0.13294174824906044, 0.13294174824906044, 0.13294174824906044, 0.39882524474718134, 0.23308826195176183, 0.11654413097588091, 0.46617652390352365, 0.23308826195176183, 0.5330688199698203, 0.35537921331321354, 0.7178740485612362, 0.1869662191352666, 0.1869662191352666, 0.3739324382705332, 0.3238413614870438, 0.6476827229740876, 0.44987553420888976, 0.07497925570148163, 0.14995851140296326, 0.07497925570148163, 0.07497925570148163, 0.22493776710444488, 0.5909017368480732, 0.08441453383543904, 0.08441453383543904, 0.08441453383543904, 0.16882906767087807, 0.19379477551405114, 0.7751791020562045, 0.12380911596487951, 0.37142734789463855, 0.37142734789463855, 0.12380911596487951, 0.11096329188950023, 0.11096329188950023, 0.11096329188950023, 0.11096329188950023, 0.11096329188950023, 0.4438531675580009, 0.10297658082330546, 0.10297658082330546, 0.41190632329322185, 0.20595316164661093, 0.10297658082330546, 0.10297658082330546, 0.12854163334216737, 0.12854163334216737, 0.5141665333686695, 0.14862300997167327, 0.14862300997167327, 0.14862300997167327, 0.14862300997167327, 0.4458690299150198, 0.533172049126717, 0.35544803275114467, 0.3606261339216907, 0.3606261339216907, 0.5633696281395904, 0.2816848140697952, 0.16809070632762516, 0.5042721189828755, 0.3361814126552503, 0.49427207944412954, 0.24713603972206477, 0.24713603972206477, 0.32366953948739746, 0.6473390789747949, 0.7042687481180925, 0.08373103470453663, 0.08373103470453663, 0.08373103470453663, 0.2511931041136099, 0.41865517352268317, 0.08373103470453663, 0.16125920452744108, 0.6450368181097643, 0.6257193987947752, 0.20857313293159174, 0.12856619966656638, 0.12856619966656638, 0.5142647986662655, 0.1744804519322574, 0.5234413557967722, 0.44118694242299733, 0.44118694242299733, 0.1331952927870648, 0.1331952927870648, 0.665976463935324, 0.5333404124361024, 0.3555602749574016, 0.14564054562023418, 0.29128109124046836, 0.43692163686070257, 0.1267615335264077, 0.3802846005792231, 0.2535230670528154, 0.09396233634675687, 0.657736354427298, 0.09396233634675687, 0.09396233634675687, 0.16500497009362328, 0.4950149102808698, 0.12803856477429404, 0.12803856477429404, 0.5121542590971762, 0.12467688698275947, 0.3740306609482784, 0.3740306609482784, 0.12467688698275947, 0.14976574545166554, 0.2995314909033311, 0.2995314909033311, 0.614044592292036, 0.204681530764012, 0.204681530764012, 0.32670701650983464, 0.16335350825491732, 0.32670701650983464, 0.23787680186260396, 0.4757536037252079, 0.7041904362487095, 0.42089069072214014, 0.13316935158731177, 0.13316935158731177, 0.13316935158731177, 0.13316935158731177, 0.3995080547619353, 0.16415669509127256, 0.32831339018254513, 0.49247008527381775, 0.09864844487162071, 0.19729688974324142, 0.2959453346148621, 0.09864844487162071, 0.09864844487162071, 0.09864844487162071, 0.1243676893178794, 0.37310306795363823, 0.37310306795363823, 0.1243676893178794, 0.6922275556492649, 0.17305688891231621, 0.17305688891231621, 0.37578120665160947, 0.5636718099774142, 0.42202034482669115, 0.21101017241334558, 0.21101017241334558, 0.15997497591737286, 0.4799249277521186, 0.15997497591737286, 0.15997497591737286, 0.6274247623163623, 0.3137123811581812, 0.6292590029930129, 0.12585180059860257, 0.12585180059860257, 0.1613102349871439, 0.6452409399485756, 0.5201061743218873, 0.10402123486437746, 0.20804246972875493, 0.10402123486437746, 0.1226995816833416, 0.1226995816833416, 0.1226995816833416, 0.4907983267333664, 0.1226995816833416, 0.13087756395253006, 0.13087756395253006, 0.13087756395253006, 0.39263269185759014, 0.13087756395253006, 0.23749795437890728, 0.47499590875781456, 0.6284867867994716, 0.1256973573598943, 0.1256973573598943, 0.1256973573598943, 0.2730011552669737, 0.5460023105339474, 0.6786836871561135, 0.16967092178902837, 0.818155263000096, 0.1333124703854371, 0.1333124703854371, 0.6665623519271854, 0.5295209042553417, 0.26476045212767085, 0.12837418998661343, 0.12837418998661343, 0.5134967599464537, 0.123597292868416, 0.370791878605248, 0.370791878605248, 0.123597292868416, 0.22304442249376186, 0.11152221124688093, 0.11152221124688093, 0.22304442249376186, 0.11152221124688093, 0.22304442249376186, 0.5784019282196694, 0.13582137761317023, 0.27164275522634046, 0.13582137761317023, 0.13582137761317023, 0.27164275522634046, 0.585668751522338, 0.292834375761169, 0.0797385038084622, 0.4784310228507732, 0.0797385038084622, 0.1594770076169244, 0.0797385038084622, 0.0797385038084622, 0.0797385038084622, 0.6297245060472957, 0.12594490120945914, 0.12594490120945914, 0.14840243036576756, 0.14840243036576756, 0.14840243036576756, 0.14840243036576756, 0.44520729109730267, 0.10663673960903289, 0.6398204376541973, 0.10663673960903289, 0.10650125654162898, 0.7455087957914028, 0.10650125654162898, 0.6360025631241268, 0.21200085437470892, 0.10600042718735446, 0.6223360343427631, 0.12446720686855262, 0.12446720686855262, 0.12446720686855262, 0.12493293011311284, 0.37479879033933855, 0.37479879033933855, 0.12493293011311284, 0.6288650402828715, 0.1257730080565743, 0.1257730080565743, 0.24234965825034283, 0.48469931650068565, 0.24234965825034283, 0.1352923787144283, 0.6764618935721416, 0.1352923787144283, 0.5296670111555609, 0.26483350557778046, 0.11036961242852124, 0.11036961242852124, 0.33110883728556373, 0.22073922485704248, 0.22073922485704248, 0.6293691842226781, 0.1258738368445356, 0.1258738368445356, 0.41964809316141494, 0.13988269772047165, 0.13988269772047165, 0.13988269772047165, 0.13988269772047165, 0.5240234519756247, 0.21277056772846475, 0.3191558515926971, 0.21277056772846475, 0.10638528386423238, 0.13091727273101297, 0.13091727273101297, 0.13091727273101297, 0.3927518181930389, 0.13091727273101297, 0.12600915946530614, 0.5040366378612245, 0.12600915946530614, 0.2520183189306123, 0.23667131407834055, 0.4733426281566811, 0.23667131407834055, 0.49779339766959224, 0.08296556627826537, 0.24889669883479612, 0.16593113255653075, 0.5859801294513679, 0.15310880906994118, 0.15310880906994118, 0.07655440453497059, 0.30621761813988235, 0.07655440453497059, 0.22966321360491176, 0.20798937420185132, 0.41597874840370264, 0.6454472685189842, 0.16127771938881771, 0.6451108775552709, 0.27868468020191206, 0.13934234010095603, 0.27868468020191206, 0.13934234010095603, 0.6295492366670625, 0.1259098473334125, 0.1259098473334125, 0.31369567605680826, 0.15684783802840413, 0.47054351408521233, 0.1457749377147618, 0.1457749377147618, 0.2915498754295236, 0.2915498754295236, 0.9385793524382048, 0.0823248895287585, 0.0823248895287585, 0.0823248895287585, 0.5762742267013095, 0.0823248895287585, 0.3982579380840962, 0.1991289690420481, 0.1991289690420481, 0.4027076707879095, 0.20135383539395474, 0.20135383539395474, 0.12324702319152736, 0.24649404638305472, 0.12324702319152736, 0.12324702319152736, 0.3697410695745821, 0.1420539558763712, 0.1420539558763712, 0.4261618676291136, 0.2841079117527424, 0.5296570428009777, 0.26482852140048885, 0.1498952101031812, 0.44968563030954356, 0.2997904202063624, 0.5338803355859321, 0.26694016779296603, 0.3267035831840243, 0.16335179159201216, 0.3267035831840243, 0.16144299843057278, 0.6457719937222911, 0.12936405373850698, 0.12936405373850698, 0.5174562149540279, 0.2085375267951446, 0.4170750535902892, 0.5297017370282131, 0.26485086851410655, 0.5330758440026431, 0.355383896001762, 0.08955389393302822, 0.08955389393302822, 0.08955389393302822, 0.08955389393302822, 0.08955389393302822, 0.4477694696651411, 0.5295103273249877, 0.26475516366249385, 0.6295217892763403, 0.12590435785526805, 0.12590435785526805, 0.08984581060729736, 0.08984581060729736, 0.08984581060729736, 0.08984581060729736, 0.08984581060729736, 0.4492290530364868, 0.12286702019179357, 0.12286702019179357, 0.12286702019179357, 0.4914680807671743, 0.24573404038358715, 0.36086416302514, 0.36086416302514, 0.14081836058900724, 0.14081836058900724, 0.4224550817670217, 0.14081836058900724, 0.6297807273424282, 0.5336789163946298, 0.13341972909865746, 0.13341972909865746, 0.13341972909865746, 0.1166714835222036, 0.1166714835222036, 0.4666859340888144, 0.2333429670444072, 0.07707327620816422, 0.07707327620816422, 0.15414655241632844, 0.23121982862449264, 0.07707327620816422, 0.07707327620816422, 0.3082931048326569, 0.06906853178806753, 0.7597538496687429, 0.06906853178806753, 0.06906853178806753, 0.14576915834922233, 0.29153831669844466, 0.437307475047667, 0.5331471958463563, 0.35543146389757085, 0.20954720145580732, 0.41909440291161465, 0.141466916521729, 0.0707334582608645, 0.0707334582608645, 0.141466916521729, 0.35366729130432245, 0.0707334582608645, 0.0707334582608645, 0.25990439315358305, 0.12995219657679152, 0.5198087863071661, 0.32417965498487955, 0.6483593099697591, 0.12866763645839882, 0.12866763645839882, 0.5146705458335953, 0.12289476030917271, 0.36868428092751815, 0.36868428092751815, 0.12289476030917271, 0.13313168228032543, 0.5325267291213017, 0.13313168228032543, 0.26626336456065086, 0.04411878057947805, 0.04411878057947805, 0.04411878057947805, 0.04411878057947805, 0.04411878057947805, 0.7941380504306049, 0.12286882249763031, 0.12286882249763031, 0.12286882249763031, 0.49147528999052126, 0.24573764499526063, 0.07856564503657663, 0.15713129007315327, 0.07856564503657663, 0.2356969351097299, 0.2356969351097299, 0.07856564503657663, 0.15713129007315327, 0.12489932231878359, 0.37469796695635077, 0.37469796695635077, 0.12489932231878359, 0.11644042857426115, 0.11644042857426115, 0.4657617142970446, 0.2328808571485223, 0.5237491142716632, 0.17458303809055437, 0.08729151904527718, 0.08729151904527718, 0.08729151904527718, 0.08729151904527718, 0.1853929739445198, 0.1853929739445198, 0.5561789218335594, 0.0897551726021656, 0.1795103452043312, 0.3590206904086624, 0.0897551726021656, 0.1795103452043312, 0.0897551726021656, 0.0897551726021656, 0.0897551726021656, 0.1278638912511188, 0.2557277825022376, 0.5114555650044752, 0.2343007897134693, 0.4686015794269386, 0.11715039485673465, 0.11715039485673465, 0.14850909144102584, 0.14850909144102584, 0.14850909144102584, 0.14850909144102584, 0.44552727432307754, 0.2681873762775308, 0.1340936881387654, 0.5363747525550616, 0.208927619682317, 0.417855239364634, 0.23783434785019783, 0.47566869570039566, 0.5331616085448687, 0.26658080427243436, 0.19380347972974105, 0.7752139189189642, 0.08233565812325393, 0.24700697436976177, 0.08233565812325393, 0.08233565812325393, 0.24700697436976177, 0.08233565812325393, 0.16467131624650785, 0.08233565812325393, 0.4976572994956008, 0.0829428832492668, 0.2488286497478004, 0.1658857664985336, 0.10644533554102156, 0.745117348787151, 0.10644533554102156, 0.1453642370034563, 0.2907284740069126, 0.43609271101036895, 0.10176927341201165, 0.10176927341201165, 0.10176927341201165, 0.10176927341201165, 0.4070770936480466, 0.2035385468240233, 0.20971755244041224, 0.41943510488082447, 0.18253348904383768, 0.18253348904383768, 0.18253348904383768, 0.36506697808767535, 0.32387962803181136, 0.6477592560636227, 0.10657505469994241, 0.7460253828995969, 0.10657505469994241, 0.40239121680169826, 0.20119560840084913, 0.20119560840084913, 0.3230004939874378, 0.6460009879748756, 0.13105694125150716, 0.13105694125150716, 0.13105694125150716, 0.13105694125150716, 0.13105694125150716, 0.2621138825030143, 0.09572443990421323, 0.09572443990421323, 0.3828977596168529, 0.09572443990421323, 0.19144887980842645, 0.09572443990421323, 0.42357461411882374, 0.21178730705941187, 0.4150778754699367, 0.10376946886748417, 0.10376946886748417, 0.10376946886748417, 0.10376946886748417, 0.10376946886748417, 0.07819443528554917, 0.15638887057109835, 0.07819443528554917, 0.07819443528554917, 0.07819443528554917, 0.07819443528554917, 0.07819443528554917, 0.07819443528554917, 0.3127777411421967, 0.12605419388193595, 0.2521083877638719, 0.37816258164580785, 0.12605419388193595, 0.32345664223092707, 0.6469132844618541, 0.10569896540250687, 0.6341937924150411, 0.10569896540250687, 0.5296914385927127, 0.26484571929635636, 0.09374707112027143, 0.6562294978419, 0.09374707112027143, 0.09374707112027143, 0.11187208495569408, 0.3356162548670822, 0.4474883398227763, 0.11187208495569408, 0.4383149404529784, 0.2191574702264892, 0.2191574702264892, 0.14588133948018636, 0.43764401844055906, 0.14588133948018636, 0.2917626789603727, 0.3231277984926903, 0.6462555969853806, 0.24299007742916373, 0.12149503871458187, 0.12149503871458187, 0.12149503871458187, 0.12149503871458187, 0.12149503871458187, 0.24299007742916373, 0.6905334081655975, 0.12177060484964154, 0.12177060484964154, 0.24354120969928308, 0.36531181454892464, 0.12177060484964154, 0.20025383111207604, 0.4005076622241521, 0.20025383111207604, 0.3996336814093237, 0.19981684070466185, 0.19981684070466185, 0.11493848251556138, 0.11493848251556138, 0.34481544754668414, 0.34481544754668414, 0.25206979817167874, 0.5041395963433575, 0.12605302535478535, 0.2521060507095707, 0.37815907606435606, 0.12605302535478535, 0.1968744068555412, 0.3937488137110824, 0.1968744068555412, 0.0984372034277706, 0.0984372034277706, 0.323152577294435, 0.64630515458887, 0.1291350807404197, 0.1291350807404197, 0.5165403229616788, 0.1616208589353655, 0.646483435741462, 0.32351298087170327, 0.6470259617434065, 0.7041875647681164, 0.23805161424393173, 0.47610322848786346, 0.2520847996716374, 0.5041695993432748, 0.6275017357926325, 0.12550034715852648, 0.12550034715852648, 0.12550034715852648, 0.7304608842110114, 0.17858946139994517, 0.7143578455997807, 0.8297557329399048, 0.16595114658798096, 0.1358109679338685, 0.271621935867737, 0.1358109679338685, 0.1358109679338685, 0.271621935867737, 0.6301442486086387, 0.12602884972172776, 0.12602884972172776, 0.3135883482771243, 0.3135883482771243, 0.15679417413856214, 0.15679417413856214, 0.21396544427400752, 0.32094816641101126, 0.21396544427400752, 0.10698272213700376, 0.09769793397298174, 0.09769793397298174, 0.6838855378108722, 0.09769793397298174, 0.09769793397298174, 0.07561108406265102, 0.07561108406265102, 0.07561108406265102, 0.6804997565638592, 0.07561108406265102, 0.45846378932603904, 0.15282126310867966, 0.3056425262173593, 0.12410606806579819, 0.49642427226319275, 0.24821213613159637, 0.23797674698412138, 0.47595349396824277, 0.5330924900386075, 0.3553949933590716, 0.23434710217256327, 0.11717355108628164, 0.46869420434512654, 0.11717355108628164, 0.4207618789027598, 0.2103809394513799, 0.2103809394513799, 0.13034810512079384, 0.13034810512079384, 0.13034810512079384, 0.3910443153623815, 0.134862445860089, 0.134862445860089, 0.539449783440356, 0.134862445860089, 0.18670061532551263, 0.7468024613020505, 0.11493614381737331, 0.11493614381737331, 0.3448084314521199, 0.3448084314521199, 0.6659059819577275, 0.4991590504542504, 0.0831931750757084, 0.2495795252271252, 0.1663863501514168, 0.11495241411202667, 0.11495241411202667, 0.34485724233608, 0.34485724233608, 0.7085401957382841, 0.10122002796261201, 0.20244005592522402, 0.9386081966299787, 0.1227110462060903, 0.3681331386182709, 0.3681331386182709, 0.1227110462060903, 0.08953828790162117, 0.08953828790162117, 0.08953828790162117, 0.08953828790162117, 0.08953828790162117, 0.4476914395081059, 0.5296331731062308, 0.2648165865531154, 0.4979101927050559, 0.08298503211750931, 0.24895509635252794, 0.16597006423501862, 0.12893435545675552, 0.12893435545675552, 0.5157374218270221, 0.302966654539189, 0.1514833272695945, 0.1514833272695945, 0.1514833272695945, 0.1514833272695945, 0.13341847666787207, 0.13341847666787207, 0.6670923833393604, 0.14833364603737248, 0.14833364603737248, 0.14833364603737248, 0.14833364603737248, 0.44500093811211744, 0.1483190595083341, 0.1483190595083341, 0.1483190595083341, 0.1483190595083341, 0.44495717852500233, 0.6702217064848995, 0.16755542662122488, 0.16755542662122488, 0.2704970462257645, 0.540994092451529, 0.21390512816736443, 0.32085769225104666, 0.21390512816736443, 0.10695256408368221, 0.5210987740621071, 0.10421975481242143, 0.20843950962484287, 0.10421975481242143, 0.10370727417514662, 0.4148290967005865, 0.3111218225254399, 0.10370727417514662, 0.12898133301689962, 0.12898133301689962, 0.5159253320675985, 0.25796266603379925, 0.6696672628975513, 0.16741681572438782, 0.16741681572438782, 0.1149502211820871, 0.1149502211820871, 0.3448506635462613, 0.3448506635462613, 0.23897325493747137, 0.47794650987494275, 0.45870609745390667, 0.15290203248463555, 0.15290203248463555, 0.15290203248463555, 0.15290203248463555, 0.09696974300985324, 0.2909092290295597, 0.09696974300985324, 0.2909092290295597, 0.09696974300985324, 0.5330682688323612, 0.3553788458882408, 0.6036089697589185, 0.08622985282270265, 0.08622985282270265, 0.1724597056454053, 0.08622985282270265, 0.49749622025354884, 0.0829160367089248, 0.24874811012677442, 0.1658320734178496, 0.128827000785319, 0.128827000785319, 0.515308003141276, 0.14991607271119187, 0.4497482181335756, 0.29983214542238373, 0.1260820574463878, 0.2521641148927756, 0.5043282297855513, 0.07155197015744207, 0.2146559104723262, 0.07155197015744207, 0.14310394031488413, 0.2146559104723262, 0.2146559104723262, 0.1283718072217102, 0.1283718072217102, 0.5134872288868408, 0.12470882067452767, 0.374126462023583, 0.374126462023583, 0.12470882067452767, 0.5399440181891386, 0.17998133939637956, 0.17998133939637956, 0.23419605663257617, 0.7025881698977285, 0.1264334975354673, 0.2528669950709346, 0.2528669950709346, 0.1264334975354673, 0.1264334975354673, 0.1264334975354673, 0.5554787390534469, 0.27773936952672346, 0.15017458588097587, 0.4505237576429276, 0.30034917176195175, 0.11347121184107473, 0.11347121184107473, 0.3404136355232242, 0.11347121184107473, 0.11347121184107473, 0.11347121184107473, 0.22933440496493085, 0.22933440496493085, 0.4586688099298617, 0.15777767883061525, 0.15777767883061525, 0.47333303649184577, 0.15777767883061525, 0.15777767883061525, 0.3607501770609845, 0.3607501770609845, 0.10670098493565701, 0.6402059096139421, 0.10670098493565701, 0.12467238835029305, 0.3740171650508792, 0.3740171650508792, 0.12467238835029305, 0.21419636807884154, 0.3212945521182623, 0.21419636807884154, 0.10709818403942077, 0.5295048948422602, 0.2647524474211301, 0.2553388087670789, 0.08511293625569295, 0.08511293625569295, 0.08511293625569295, 0.1702258725113859, 0.2553388087670789, 0.04816629846995168, 0.09633259693990336, 0.04816629846995168, 0.33716408928966174, 0.09633259693990336, 0.14449889540985503, 0.04816629846995168, 0.1926651938798067, 0.04816629846995168, 0.7042774441531516, 0.09585999404304249, 0.09585999404304249, 0.09585999404304249, 0.09585999404304249, 0.38343997617216996, 0.19171998808608498, 0.7041706976152877, 0.5336663146485443, 0.26683315732427215, 0.1282142653868016, 0.1282142653868016, 0.2564285307736032, 0.5128570615472064, 0.238133756357581, 0.476267512715162, 0.0782892447432379, 0.0782892447432379, 0.1565784894864758, 0.1565784894864758, 0.0782892447432379, 0.0782892447432379, 0.0782892447432379, 0.3131569789729516, 0.25205934011710995, 0.5041186802342199, 0.09772473743559446, 0.09772473743559446, 0.6840731620491611, 0.09772473743559446, 0.09772473743559446, 0.10321459241594236, 0.10321459241594236, 0.41285836966376943, 0.20642918483188472, 0.10321459241594236, 0.10321459241594236, 0.14826763555218614, 0.14826763555218614, 0.14826763555218614, 0.14826763555218614, 0.4448029066565584, 0.1971348371822449, 0.3942696743644898, 0.1971348371822449, 0.09856741859112245, 0.09856741859112245, 0.12605093705611528, 0.25210187411223056, 0.37815281116834587, 0.12605093705611528, 0.5207259918579266, 0.1041451983715853, 0.2082903967431706, 0.1041451983715853, 0.35848117770128773, 0.47797490360171696, 0.11949372590042924, 0.13726343705835586, 0.8235806223501352, 0.3127350835312269, 0.6254701670624538, 0.8250352876295634, 0.1375058812715939, 0.8040887640084647, 0.22192617400911102, 0.44385234801822204, 0.11096308700455551, 0.11096308700455551, 0.13330935272136232, 0.13330935272136232, 0.13330935272136232, 0.13330935272136232, 0.13330935272136232, 0.399928058164087, 0.2796099258744623, 0.5592198517489246, 0.0812475082115838, 0.1624950164231676, 0.1624950164231676, 0.0812475082115838, 0.3249900328463352, 0.0812475082115838, 0.1624950164231676, 0.21485571388339558, 0.3222835708250934, 0.21485571388339558, 0.10742785694169779, 0.06839131088246368, 0.7523044197071005, 0.06839131088246368, 0.06839131088246368, 0.639213495704707, 0.2556853982818828, 0.10671569396649253, 0.7470098577654477, 0.10671569396649253, 0.30113239301462275, 0.4516985895219341, 0.15056619650731137, 0.5720812482491379, 0.3813874988327586, 0.12904018598226916, 0.12904018598226916, 0.5161607439290766, 0.10971091097973827, 0.10971091097973827, 0.4388436439189531, 0.10971091097973827, 0.10177946055563342, 0.10177946055563342, 0.10177946055563342, 0.10177946055563342, 0.40711784222253367, 0.20355892111126683, 0.07940755510965909, 0.15881511021931818, 0.07940755510965909, 0.07940755510965909, 0.15881511021931818, 0.31763022043863637, 0.07940755510965909, 0.07940755510965909, 0.13896810339996662, 0.13896810339996662, 0.13896810339996662, 0.4169043101998999, 0.41923739639263985, 0.20961869819631992, 0.20961869819631992, 0.7041606929185266, 0.19703398829947483, 0.39406797659894965, 0.19703398829947483, 0.09851699414973741, 0.09851699414973741, 0.10195618919188669, 0.10195618919188669, 0.10195618919188669, 0.10195618919188669, 0.40782475676754676, 0.20391237838377338, 0.3681929534263416, 0.12273098447544721, 0.24546196895089442, 0.12273098447544721, 0.16485218993651712, 0.08242609496825856, 0.08242609496825856, 0.08242609496825856, 0.41213047484129284, 0.16485218993651712, 0.10065845691958483, 0.10065845691958483, 0.20131691383916966, 0.5032922845979242, 0.5721532161398093, 0.38143547742653955, 0.30536528201962937, 0.30536528201962937, 0.30536528201962937, 0.15268264100981468, 0.1412950223325534, 0.1412950223325534, 0.1412950223325534, 0.42388506699766015, 0.3127177953800975, 0.625435590760195, 0.09566580977297641, 0.09566580977297641, 0.09566580977297641, 0.09566580977297641, 0.38266323909190564, 0.19133161954595282, 0.2374150714909074, 0.4748301429818148, 0.2680359477047749, 0.4020539215571623, 0.13401797385238745, 0.13401797385238745, 0.8215228073456409, 0.09128031192729344, 0.09128031192729344, 0.27588037704312846, 0.41382056556469266, 0.13794018852156423, 0.13326881045046884, 0.13326881045046884, 0.13326881045046884, 0.13326881045046884, 0.13326881045046884, 0.39980643135140653, 0.7024584853614337, 0.14049169707228673, 0.14049169707228673, 0.12713477583320634, 0.12713477583320634, 0.12713477583320634, 0.5085391033328254, 0.14487227416027185, 0.14487227416027185, 0.14487227416027185, 0.5794890966410874, 0.1575546093757194, 0.1575546093757194, 0.47266382812715824, 0.12605013985713676, 0.2521002797142735, 0.3781504195714103, 0.12605013985713676, 0.10316789543685763, 0.10316789543685763, 0.4126715817474305, 0.20633579087371526, 0.10316789543685763, 0.10316789543685763, 0.27567560144738695, 0.5513512028947739, 0.14545193810166615, 0.2909038762033323, 0.4363558143049985, 0.11079279722636577, 0.33237839167909733, 0.22158559445273154, 0.22158559445273154, 0.24249137464723972, 0.08083045821574657, 0.08083045821574657, 0.32332183286298627, 0.08083045821574657, 0.16166091643149313, 0.08083045821574657, 0.12914905838207336, 0.12914905838207336, 0.12914905838207336, 0.5165962335282934, 0.12914905838207336, 0.20764507376795543, 0.41529014753591087, 0.4032411448583987, 0.20162057242919934, 0.20162057242919934, 0.971068612003638, 0.1335473692926, 0.1335473692926, 0.667736846463, 0.27275627337939123, 0.27275627337939123, 0.09091875779313041, 0.09091875779313041, 0.045459378896565206, 0.09091875779313041, 0.045459378896565206, 0.09091875779313041, 0.09418209750850506, 0.18836419501701013, 0.5650925850510304, 0.09418209750850506, 0.2520666270231025, 0.504133254046205, 0.10771116062403317, 0.6462669637441991, 0.29053861796898744, 0.19369241197932496, 0.19369241197932496, 0.09684620598966248, 0.19369241197932496, 0.6266788025438879, 0.12533576050877757, 0.12533576050877757, 0.09371917864709049, 0.6560342505296334, 0.09371917864709049, 0.09371917864709049, 0.13737087945258386, 0.13737087945258386, 0.13737087945258386, 0.5494835178103354, 0.16050786009655676, 0.16050786009655676, 0.16050786009655676, 0.4815235802896703, 0.1605111846618054, 0.1605111846618054, 0.1605111846618054, 0.48153355398541614, 0.15931843199098453, 0.6372737279639381, 0.10680045958309016, 0.640802757498541, 0.10680045958309016, 0.5784969118405386, 0.17017493468000508, 0.34034986936001016, 0.5105248040400152, 0.19963788196967178, 0.39927576393934355, 0.19963788196967178, 0.3826043358853532, 0.3826043358853532, 0.42514489843318976, 0.21257244921659488, 0.21257244921659488, 0.167748605304218, 0.167748605304218, 0.503245815912654, 0.167748605304218, 0.5334128399489447, 0.26670641997447236, 0.2791780930050495, 0.13958904650252474, 0.2791780930050495, 0.13958904650252474, 0.5297894857073174, 0.2648947428536587, 0.12829865162796128, 0.12829865162796128, 0.5131946065118451, 0.1992326634064985, 0.398465326812997, 0.1992326634064985, 0.25256646944790123, 0.12628323472395062, 0.12628323472395062, 0.12628323472395062, 0.3788497041718518, 0.23716289192894316, 0.4743257838578863, 0.1343797352416653, 0.1343797352416653, 0.4031392057249959, 0.1343797352416653, 0.1343797352416653, 0.1343797352416653, 0.14993365168503717, 0.44980095505511153, 0.29986730337007433, 0.07539020038088186, 0.37695100190440933, 0.07539020038088186, 0.30156080152352743, 0.07539020038088186, 0.07539020038088186, 0.4040237352454701, 0.20201186762273504, 0.20201186762273504, 0.18997587716000322, 0.18997587716000322, 0.37995175432000644, 0.18997587716000322, 0.13485484094897732, 0.13485484094897732, 0.5394193637959093, 0.13485484094897732, 0.5529240825971378, 0.18430802753237926, 0.12604737288991177, 0.25209474577982355, 0.3781421186697353, 0.12604737288991177, 0.717854688879155, 0.11443933682417612, 0.11443933682417612, 0.11443933682417612, 0.5721966841208806, 0.12928665261106131, 0.12928665261106131, 0.12928665261106131, 0.5171466104442453, 0.12168840630792743, 0.24337681261585487, 0.12168840630792743, 0.48675362523170973, 0.28780222041088893, 0.14390111020544447, 0.43170333061633337, 0.5265010761186779, 0.1260913360998643, 0.2521826721997286, 0.5043653443994572, 0.9387166154012485, 0.4198840594303048, 0.2099420297151524, 0.12849406428157242, 0.12849406428157242, 0.5139762571262897, 0.23814244280940763, 0.47628488561881527, 0.42090015587613855, 0.21045007793806927, 0.9385975005638894, 0.4648877367668068, 0.09297754735336135, 0.09297754735336135, 0.1859550947067227, 0.1859550947067227], \"Term\": [\"12\", \"14mb\", \"14mb\", \"14mb\", \"14mb\", \"14mb\", \"24\", \"24\", \"24\", \"30\", \"30\", \"30\", \"36\", \"36\", \"48hrs\", \"48hrs\", \"542\", \"542\", \"542\", \"542\", \"542\", \"542\", \"965mb\", \"965mb\", \"965mb\", \"965mb\", \"966mb\", \"9pm\", \"_chaibear\", \"_private_idaho\", \"ab\", \"ab\", \"abc\", \"abc\", \"abccolumbia\", \"abccolumbia\", \"absent\", \"absent\", \"access\", \"access\", \"access\", \"access\", \"access\", \"accuwe\", \"accuwe\", \"accuwe\", \"accuwe\", \"accuwe\", \"accuwe\", \"accuwe\", \"act\", \"act\", \"act\", \"act\", \"act\", \"act\", \"actor\", \"actor\", \"ad\", \"ad\", \"ad\", \"ad\", \"admitting\", \"admitting\", \"admitting\", \"admitting\", \"advance\", \"advance\", \"advance\", \"advance\", \"advance\", \"advance\", \"advisory\", \"advisory\", \"afb\", \"afb\", \"afb\", \"afb\", \"afb\", \"afb\", \"afb\", \"afb\", \"agreement\", \"agreement\", \"agreement\", \"agreement\", \"air\", \"air\", \"air\", \"airport\", \"airports\", \"aknewsnow\", \"alabama\", \"alachuachronic1\", \"alachuajury\", \"alansholt\", \"alert\", \"alerts\", \"alford\", \"alroker\", \"amazon\", \"anacabrera\", \"anacabrera\", \"announces\", \"announces\", \"ap\", \"ap\", \"app\", \"app\", \"app\", \"approachin\", \"approachin\", \"ar\", \"ar\", \"ar\", \"ar\", \"arctic\", \"arctic\", \"areas\", \"areas\", \"areas\", \"arkansas\", \"arkansas\", \"arkansas\", \"arkansas\", \"arkansas\", \"arkansas\", \"arkansas\", \"arkansas\", \"arrival\", \"arrival\", \"arrival\", \"arrival\", \"ashley\", \"ashley\", \"assignment\", \"assignment\", \"assignment\", \"asteroid\", \"asteroid\", \"asteroid\", \"asteroid\", \"atlanta\", \"atlanta\", \"atlanta\", \"atlanta\", \"attention\", \"attention\", \"attention\", \"b_resnick\", \"b_resnick\", \"babe\", \"babe\", \"babe\", \"babe\", \"bad\", \"bad\", \"bad\", \"bad\", \"baja\", \"baja\", \"baja\", \"barometer\", \"barometer\", \"barometer\", \"barometer\", \"barometer\", \"barrel\", \"barrel\", \"barrier\", \"barrier\", \"barstoolclemson\", \"barstoolclemson\", \"barstoolclemson\", \"base\", \"base\", \"base\", \"base\", \"based\", \"based\", \"based\", \"based\", \"bbc\", \"bbc\", \"bbc\", \"bblock29\", \"bblock29\", \"beauty\", \"beauty\", \"beauty\", \"beauty\", \"beauty\", \"beauty\", \"becerra\", \"becerra\", \"becerra\", \"becerra\", \"becerra\", \"bed\", \"bed\", \"bed\", \"bed\", \"belongings\", \"belongings\", \"belongings\", \"belongings\", \"best\", \"best\", \"best\", \"best\", \"best\", \"better\", \"better\", \"better\", \"beware\", \"beware\", \"beware\", \"beware\", \"beware\", \"beware\", \"biden\", \"biden\", \"biden\", \"biden\", \"bill_line\", \"bill_line\", \"bills\", \"blakesanz\", \"blakesanz\", \"blakesanz\", \"bobpockrass\", \"bobpockrass\", \"boca\", \"boca\", \"boca\", \"boca\", \"boca\", \"boca\", \"body\", \"body\", \"body\", \"body\", \"body\", \"boo\", \"boo\", \"borrower\", \"borrower\", \"borrower\", \"borrower\", \"box\", \"box\", \"box\", \"box\", \"box\", \"box\", \"brace\", \"brace\", \"brace\", \"brace\", \"brace\", \"brace\", \"braces\", \"braces\", \"braces\", \"bracing\", \"bracing\", \"bracing\", \"bracing\", \"bracing\", \"bravo_dada\", \"bravo_dada\", \"breaking\", \"breaking\", \"brgridiron\", \"brgridiron\", \"brian_wright5\", \"brian_wright5\", \"brian_wright5\", \"bridge\", \"bridge\", \"bridge\", \"brisco\", \"brisco\", \"brother\", \"broward\", \"broward\", \"broward\", \"broward\", \"broward\", \"broward\", \"brown\", \"brown\", \"brycejoneswx\", \"brycejoneswx\", \"bu\", \"bu\", \"bu\", \"buccaneers\", \"buccaneers\", \"bucs\", \"bucs\", \"buildings\", \"buildings\", \"buildings\", \"bummer\", \"bummer\", \"burgwx\", \"burgwx\", \"burgwx\", \"buschgardens\", \"buschgardens\", \"buschgardens\", \"business\", \"business\", \"business\", \"business\", \"busy\", \"busy\", \"calm\", \"calm\", \"calm\", \"campground\", \"campground\", \"campground\", \"campground\", \"campus\", \"campus\", \"campus\", \"capacity\", \"capacity\", \"capacity\", \"careful\", \"careful\", \"careful\", \"caribbean\", \"caribbean\", \"carolina\", \"carolynpfox\", \"carry\", \"carry\", \"carry\", \"carry\", \"carry\", \"caseydesantis\", \"caseydesantis\", \"caseydesantis\", \"causes\", \"causes\", \"causes\", \"causes\", \"causes\", \"causes\", \"cc_stormwatch\", \"cc_stormwatch\", \"cc_stormwatch\", \"cc_stormwatch\", \"cedarwood\", \"cedarwood\", \"cedarwood\", \"center\", \"center\", \"centra\", \"centra\", \"centra\", \"century\", \"century\", \"century\", \"century\", \"ceo\", \"ceo\", \"chair\", \"chair\", \"chair\", \"checklist\", \"checklist\", \"checkmate\", \"checkmate\", \"checkmate\", \"checkmate\", \"cheers\", \"cheers\", \"cheers\", \"cheers\", \"cheers\", \"chillout\", \"chillout\", \"chillout\", \"chillout\", \"chillout\", \"christian\", \"christian\", \"circulation\", \"circulation\", \"circulation\", \"circulation\", \"city\", \"city\", \"cleanairmoms\", \"cleanairmoms\", \"clicks\", \"clinic\", \"clinic\", \"clinic\", \"close\", \"close\", \"closer\", \"closer\", \"closer\", \"closest\", \"closest\", \"closest\", \"closest\", \"closures\", \"closures\", \"closures\", \"closures\", \"closures\", \"closures\", \"cnn\", \"coach\", \"coach\", \"coach\", \"coach\", \"coach\", \"coastal\", \"coastal\", \"colonoscopy\", \"colonoscopy\", \"colonoscopy\", \"colonoscopy\", \"colonoscopy\", \"colonoscopy\", \"colonoscopy\", \"comfy\", \"comfy\", \"comfy\", \"coming\", \"coming\", \"coming\", \"coming\", \"coming\", \"communication\", \"communication\", \"communication\", \"communities\", \"communities\", \"communities\", \"conditions\", \"conditions\", \"conditions\", \"constant\", \"constant\", \"constant\", \"constant\", \"contingency\", \"contingency\", \"contingency\", \"contingency\", \"cookinmaama\", \"cookinmaama\", \"cookinmaama\", \"coordination\", \"coordination\", \"coordination\", \"council\", \"council\", \"council\", \"counties\", \"counties\", \"country\", \"country\", \"country\", \"country\", \"country\", \"couple\", \"couple\", \"couple\", \"courage\", \"courage\", \"courage\", \"courage\", \"courage\", \"course\", \"coverage\", \"coverage\", \"coverage\", \"coverage\", \"covid\", \"covid\", \"covid\", \"covid\", \"covid\", \"cuba\", \"cuba\", \"cuba\", \"cuba\", \"cuban\", \"cuban\", \"cuban\", \"curtmweiler\", \"curtmweiler\", \"curtmweiler\", \"curtmweiler\", \"dada\", \"damaging\", \"damaging\", \"damaging\", \"damaging\", \"damaging\", \"damaging\", \"damn\", \"damn\", \"daps_magic\", \"darbyscastle\", \"darbyscastle\", \"daughter\", \"daughter\", \"daughter\", \"daughter\", \"david\", \"david\", \"david\", \"davidpantojasellsflorida\", \"davidpantojasellsflorida\", \"davidpantojasellsflorida\", \"davidpsamson\", \"davidpsamson\", \"davidpsamson\", \"davidpsamson\", \"dawndiamondhand\", \"day\", \"day\", \"day\", \"day\", \"day\", \"daynavettese\", \"daynavettese\", \"daynavettese\", \"days\", \"days\", \"days\", \"dear\", \"dear\", \"dear\", \"dear\", \"dear\", \"deathcarewnc\", \"deathcarewnc\", \"deathcarewnc\", \"deathcarewnc\", \"decade\", \"decade\", \"dedevil\", \"dedevil\", \"dedevil\", \"deepdives\", \"deepdives\", \"defencehq\", \"defencehq\", \"defencehq\", \"delivers\", \"delivers\", \"delray\", \"delray\", \"delray\", \"democrats\", \"democrats\", \"dick\", \"dick\", \"direct\", \"direct\", \"disney\", \"disney\", \"disney\", \"disney\", \"disney\", \"disney\", \"distance\", \"distance\", \"distress\", \"distress\", \"distress\", \"dms\", \"dms\", \"dms\", \"dms\", \"dms\", \"dms\", \"doc_chimpanzee\", \"doc_chimpanzee\", \"doc_chimpanzee\", \"doc_chimpanzee\", \"doc_chimpanzee\", \"dod\", \"dod\", \"donate\", \"donate\", \"donate\", \"donate\", \"donor\", \"dot\", \"dot\", \"dot\", \"dot\", \"drgeorgeburdell\", \"drgeorgeburdell\", \"drgeorgeburdell\", \"drgeorgeburdell\", \"drive\", \"drive\", \"drive\", \"drive\", \"drive\", \"drive\", \"drive\", \"dropsonde\", \"dropsonde\", \"dropsonde\", \"dropsonde\", \"drugstoredivas\", \"drugstoredivas\", \"drugstoredivas\", \"duration\", \"duration\", \"dusty\", \"dusty\", \"dylanfedericowx\", \"dylanfedericowx\", \"dylanfedericowx\", \"dylanfedericowx\", \"dylanfedericowx\", \"dylanfedericowx\", \"dylanfedericowx\", \"earth\", \"earth\", \"earth\", \"eastcarolina\", \"eastcarolina\", \"eastern\", \"eastern\", \"eastern\", \"easy\", \"easy\", \"easy\", \"easy\", \"effect\", \"effect\", \"effect\", \"effect\", \"efforts\", \"efforts\", \"efforts\", \"efforts\", \"efforts\", \"efforts\", \"eliotjacobson\", \"eliotjacobson\", \"eliotjacobson\", \"eliotjacobson\", \"eliotjacobson\", \"embedded\", \"embedded\", \"embedded\", \"embedded\", \"embedded\", \"embedded\", \"embedded\", \"emergency\", \"emergency\", \"emergency\", \"emergency\", \"emergencyas\", \"emergencyas\", \"emergencyas\", \"emergencyas\", \"englewood\", \"englewood\", \"englewood\", \"englewood\", \"englewood\", \"englewood\", \"errands\", \"errands\", \"errands\", \"essential\", \"essential\", \"essential\", \"essential\", \"essential\", \"essential\", \"essential\", \"essential\", \"est\", \"est\", \"est\", \"estimates\", \"estimates\", \"estimates\", \"estimates\", \"et\", \"et\", \"et\", \"et\", \"et\", \"ev\", \"ev\", \"ev\", \"evacuating\", \"evacuating\", \"evacuation\", \"evacuation\", \"event\", \"event\", \"ex\", \"ex\", \"exposes\", \"exposes\", \"exposes\", \"exposes\", \"exposes\", \"exposes\", \"exposes\", \"exposes\", \"extended\", \"extended\", \"extended\", \"extended\", \"fact\", \"fact\", \"fact\", \"falls\", \"falls\", \"falls\", \"families\", \"families\", \"families\", \"families\", \"families\", \"families\", \"family\", \"family\", \"famous\", \"famous\", \"famous\", \"famous\", \"fans\", \"fans\", \"faster\", \"faster\", \"faster\", \"feare\", \"feare\", \"feare\", \"feeling\", \"feeling\", \"feet\", \"feet\", \"feet\", \"feet\", \"feet\", \"feet\", \"fellow\", \"fellow\", \"fellow\", \"fellow\", \"fellow\", \"fellow\", \"fi\", \"fi\", \"fighters\", \"fighters\", \"fighters\", \"fighters\", \"fighters\", \"fighters\", \"finale\", \"finale\", \"finale\", \"finale\", \"finale\", \"finale\", \"finale\", \"finale\", \"finale\", \"fine\", \"fine\", \"fine\", \"fine\", \"finish\", \"finish\", \"floods\", \"floods\", \"floods\", \"floridapoison\", \"floridapoison\", \"floridas\", \"floridas\", \"floridas\", \"floridas\", \"floridastate\", \"floridastate\", \"floridastate\", \"floridastate\", \"floridians\", \"floridians\", \"floridians\", \"flwx\", \"flwx\", \"flwx\", \"flwx\", \"fo\", \"fo\", \"food\", \"food\", \"food\", \"food\", \"food\", \"food\", \"food\", \"football\", \"forc\", \"forc\", \"forc\", \"forc\", \"forc\", \"force\", \"force\", \"force\", \"forecast\", \"forecast\", \"forecast\", \"forecaster\", \"forecaster\", \"forecaster\", \"forecaster\", \"forecasts\", \"forecasts\", \"forest\", \"forest\", \"forest\", \"forest\", \"fossil\", \"fossil\", \"fossil\", \"fossil\", \"fossil\", \"fotograffa\", \"fotograffa\", \"fox29wflx\", \"fox29wflx\", \"fox29wflx\", \"freedom\", \"freedom\", \"friends\", \"friends\", \"frozen\", \"fsu\", \"fsu\", \"fsu_barstool\", \"fsu_barstool\", \"ft\", \"ft\", \"ft\", \"ft\", \"fuck\", \"gainesville\", \"gainesville\", \"gale\", \"gale\", \"game\", \"game\", \"game\", \"game\", \"game\", \"gardens\", \"gardens\", \"gardens\", \"gas\", \"gas\", \"gas\", \"gas\", \"gathering\", \"gathering\", \"gathering\", \"gathering\", \"gc\", \"gc\", \"gc\", \"gc\", \"gc\", \"gdarkconrad\", \"gdarkconrad\", \"gdarkconrad\", \"gdarkconrad\", \"gdarkconrad\", \"georgia\", \"georgia\", \"georgia\", \"gfs\", \"gfs\", \"gfs\", \"global\", \"global\", \"god\", \"god\", \"golf\", \"golf\", \"golf\", \"golf\", \"goodbye\", \"goodbye\", \"goodbye\", \"goodrobinhood\", \"goodrobinhood\", \"goodrobinhood\", \"goodrobinhood\", \"goods\", \"goods\", \"goods\", \"goods\", \"gop\", \"gop\", \"governor\", \"governor\", \"governor\", \"governor\", \"govrondesantis\", \"grandsons\", \"grandsons\", \"grandsons\", \"grandsons\", \"great\", \"great\", \"great\", \"great\", \"greater\", \"greater\", \"greater\", \"greg_magnuson\", \"gulf\", \"gulf\", \"gulf\", \"gulf\", \"gusty\", \"gusty\", \"gusty\", \"gusty\", \"gusty\", \"gusty\", \"gweniethinks\", \"gweniethinks\", \"gymmyjay\", \"gymmyjay\", \"gymmyjay\", \"gymmyjay\", \"harris\", \"harris\", \"harris\", \"hbcusports1\", \"hbcusports1\", \"hbcusports1\", \"hbcusports1\", \"hbcusports1\", \"health\", \"health\", \"health\", \"heavy\", \"heavy\", \"heavy\", \"heavy\", \"heavy\", \"hebron\", \"hebron\", \"hebron\", \"hebron\", \"hebron\", \"henderson\", \"henderson\", \"henderson\", \"higher\", \"higher\", \"hiidef3000\", \"hiidef3000\", \"hiidef3000\", \"hiidef3000\", \"hillsborough\", \"hillsborough\", \"hillsborough\", \"hillsborough\", \"hit\", \"hit\", \"hit\", \"hit\", \"hms\", \"hms\", \"hms\", \"hms\", \"hoa\", \"hoa\", \"hoa\", \"home\", \"home\", \"home\", \"home\", \"homeless\", \"homeless\", \"hometown\", \"hometown\", \"hometown\", \"hometown\", \"hometown\", \"hope\", \"hope\", \"hope\", \"hope\", \"hope\", \"horizon\", \"horizon\", \"hotel\", \"hotel\", \"hotel\", \"hotel\", \"hotel\", \"hotels\", \"hotels\", \"hotels\", \"hotels\", \"hu\", \"hu\", \"hu\", \"hunters\", \"hunters\", \"hunters\", \"huracnian\", \"huracnian\", \"huracnian\", \"hurr\", \"hurr\", \"hurr\", \"hurr\", \"hurr\", \"hurr\", \"hurri\", \"hurri\", \"hurri\", \"hurrica\", \"hurrica\", \"hurrica\", \"hurrica\", \"hurricanecenter\", \"hurricanecenter\", \"hurricanecenter\", \"hurricanewarnings\", \"hurricanewarnings\", \"ia\", \"ia\", \"ia\", \"ia\", \"ia\", \"ia\", \"id\", \"id\", \"ideal\", \"ideal\", \"ideal\", \"ill\", \"ill\", \"ill\", \"ill\", \"ill\", \"ill\", \"image\", \"image\", \"image\", \"immigrant\", \"immigrant\", \"immigrant\", \"immigrant\", \"immigrant\", \"impactful\", \"impactful\", \"important\", \"important\", \"important\", \"increased\", \"increased\", \"increased\", \"increased\", \"independent\", \"independent\", \"independent\", \"independent\", \"infrastructure\", \"infrastructure\", \"inland\", \"inland\", \"inland\", \"inland\", \"inland\", \"inland\", \"insider\", \"insider\", \"insider\", \"insider\", \"insider\", \"insider\", \"insider\", \"insider\", \"insider\", \"insight\", \"insurance\", \"insurance\", \"insurance\", \"insurance\", \"insurance\", \"insurance\", \"iowa_1776\", \"irma\", \"irma\", \"ironik0422\", \"ironik0422\", \"ironik0422\", \"ironik0422\", \"ish\", \"ish\", \"isnt\", \"isnt\", \"isnt\", \"isnt\", \"isnt\", \"isnt\", \"isnt\", \"isnt\", \"issue\", \"issue\", \"jackson_dill\", \"jackson_dill\", \"jackson_dill\", \"jackson_dill\", \"jackson_dill\", \"jakedoconnell\", \"jakedoconnell\", \"jakedoconnell\", \"jakedoconnell\", \"jakedoconnell\", \"jakedoconnell\", \"jamaican\", \"jamaican\", \"jamaican\", \"jamaican\", \"jamaican\", \"jamesblatch\", \"jamesblatch\", \"jamesblatch\", \"jamesblatch\", \"jamesblatch\", \"jean\", \"jean\", \"jean\", \"jean\", \"jessicam6946\", \"jessicam6946\", \"jessicam6946\", \"jessicam6946\", \"join\", \"join\", \"join\", \"jokes\", \"jokes\", \"justshootlight\", \"justshootlight\", \"kalinmitchelctv\", \"kalinmitchelctv\", \"karine\", \"karla\", \"karla\", \"karla\", \"karla\", \"katrina\", \"katrina\", \"katrina\", \"katrina\", \"katrina\", \"katrina\", \"keys\", \"keys\", \"khou\", \"khou\", \"khou\", \"khou\", \"khou\", \"khou\", \"khou\", \"kicker\", \"kicker\", \"kicker\", \"kicker\", \"king\", \"king\", \"king\", \"king\", \"lago\", \"lago\", \"landf\", \"landf\", \"landf\", \"langurlover\", \"langurlover\", \"langurlover\", \"lardo\", \"lardo\", \"larger\", \"larger\", \"larger\", \"largest\", \"largest\", \"largest\", \"largest\", \"latest\", \"latest\", \"latest\", \"latest\", \"latest\", \"latest\", \"lauderdale\", \"lauderdale\", \"lauderdale\", \"lauderdale\", \"lauderdale\", \"lauderdale\", \"lauderdale\", \"lauderdale\", \"launchpad\", \"launchpad\", \"launchpad\", \"launchpad\", \"lauraadderley\", \"lauraadderley\", \"lauraadderley\", \"leading\", \"left\", \"left\", \"left\", \"left\", \"left\", \"lessons\", \"lessons\", \"lessons\", \"lessons\", \"lessons\", \"lessons\", \"letsgohornets\", \"letsgohornets\", \"letsgohornets\", \"letsgohornets\", \"letter\", \"letter\", \"letter\", \"letter\", \"letter\", \"letter\", \"level\", \"level\", \"level\", \"level\", \"levels\", \"levels\", \"lhps_athletics\", \"lhps_athletics\", \"lhps_athletics\", \"lhps_athletics\", \"life\", \"life\", \"life\", \"life\", \"lifeless\", \"lifeless\", \"lifetime\", \"lifetime\", \"lifetime\", \"lifetime\", \"lifetime\", \"lifetime\", \"likely\", \"likely\", \"little\", \"little\", \"little\", \"little\", \"littleelvis40\", \"littleelvis40\", \"littleelvis40\", \"livecam\", \"livecam\", \"livecam\", \"livestream\", \"livestream\", \"livestream\", \"livestream\", \"livestream\", \"livestream\", \"living\", \"living\", \"living\", \"longer\", \"longer\", \"longer\", \"longer\", \"low\", \"low\", \"low\", \"low\", \"lunaticlarry3\", \"lunaticlarry3\", \"lunaticlarry3\", \"macthegingercat\", \"macthegingercat\", \"macthegingercat\", \"macthegingercat\", \"magas\", \"magas\", \"magas\", \"magas\", \"magas\", \"magas\", \"main\", \"main\", \"make\", \"make\", \"make\", \"man\", \"man\", \"man\", \"man\", \"management\", \"management\", \"management\", \"management\", \"management\", \"management\", \"management\", \"maps\", \"maps\", \"maps\", \"maps\", \"maps\", \"mar\", \"mar\", \"markc2323\", \"markc2323\", \"markc2323\", \"marker\", \"marthas\", \"marthas\", \"marthas\", \"matter\", \"matter\", \"matter\", \"matter\", \"matter\", \"matter\", \"matter\", \"matter\", \"matthewcappucci\", \"matthewcappucci\", \"matthewcappucci\", \"matthewcappucci\", \"matthewcocacbs\", \"matthewcocacbs\", \"max\", \"max\", \"maximum\", \"maximum\", \"maximum\", \"maximum\", \"maximum\", \"mcdill\", \"mcdill\", \"mcdill\", \"mcgovern\", \"mcgovern\", \"mcgovern\", \"mcgovern\", \"meal\", \"meal\", \"meal\", \"meal\", \"media\", \"media\", \"media\", \"media\", \"medical\", \"medical\", \"medical\", \"medical\", \"medication\", \"medication\", \"medications\", \"medications\", \"medications\", \"melania\", \"members\", \"members\", \"members\", \"mental\", \"mental\", \"mental\", \"mentions\", \"mentions\", \"meteorologist\", \"meteorologist\", \"meteorologist\", \"meteorologists\", \"meteorologists\", \"meteorologists\", \"meteorologists\", \"mexico\", \"mexico\", \"mi\", \"mi\", \"mi\", \"mi\", \"miami\", \"miami\", \"michael\", \"michael\", \"michael\", \"middle\", \"middle\", \"middle\", \"midway\", \"midway\", \"midway\", \"midway\", \"midway\", \"miketfox5\", \"miketfox5\", \"minor\", \"minor\", \"minor\", \"minor\", \"minor\", \"minor\", \"mischievousliz\", \"mischievousliz\", \"mischievousliz\", \"mlb\", \"mlb\", \"mlb\", \"mlb\", \"mlb\", \"mlb\", \"mobute\", \"mobute\", \"mobute\", \"model\", \"model\", \"model\", \"model\", \"mollyhereandnow\", \"mollyhereandnow\", \"mollyhereandnow\", \"mollyhereandnow\", \"monday\", \"monday\", \"moon\", \"moon\", \"moon\", \"moon\", \"morgankiro7\", \"mother\", \"mother\", \"mother\", \"mother\", \"mt\", \"mt\", \"mt\", \"mt\", \"muddy\", \"muddy\", \"muddy\", \"muddy\", \"na\", \"na\", \"na\", \"nasaartemis\", \"nascar\", \"nascar\", \"nascar\", \"nashv\", \"nbc\", \"nbc\", \"nbcnightlynews\", \"nbcnightlynews\", \"nbcnightlynews\", \"ncemergency\", \"ncemergency\", \"near\", \"near\", \"need\", \"needs\", \"needs\", \"needs\", \"needs\", \"needs\"]}, \"R\": 30, \"lambda.step\": 0.01, \"plot.opts\": {\"xlab\": \"PC1\", \"ylab\": \"PC2\"}, \"topic.order\": [1, 2, 3, 4, 5, 6, 7, 8, 9, 10]};\n",
       "\n",
       "function LDAvis_load_lib(url, callback){\n",
       "  var s = document.createElement('script');\n",
       "  s.src = url;\n",
       "  s.async = true;\n",
       "  s.onreadystatechange = s.onload = callback;\n",
       "  s.onerror = function(){console.warn(\"failed to load library \" + url);};\n",
       "  document.getElementsByTagName(\"head\")[0].appendChild(s);\n",
       "}\n",
       "\n",
       "if(typeof(LDAvis) !== \"undefined\"){\n",
       "   // already loaded: just create the visualization\n",
       "   !function(LDAvis){\n",
       "       new LDAvis(\"#\" + \"ldavis_el325501406352316180969710432310\", ldavis_el325501406352316180969710432310_data);\n",
       "   }(LDAvis);\n",
       "}else if(typeof define === \"function\" && define.amd){\n",
       "   // require.js is available: use it to load d3/LDAvis\n",
       "   require.config({paths: {d3: \"https://d3js.org/d3.v5\"}});\n",
       "   require([\"d3\"], function(d3){\n",
       "      window.d3 = d3;\n",
       "      LDAvis_load_lib(\"https://cdn.jsdelivr.net/gh/bmabey/pyLDAvis@3.3.1/pyLDAvis/js/ldavis.v3.0.0.js\", function(){\n",
       "        new LDAvis(\"#\" + \"ldavis_el325501406352316180969710432310\", ldavis_el325501406352316180969710432310_data);\n",
       "      });\n",
       "    });\n",
       "}else{\n",
       "    // require.js not available: dynamically load d3 & LDAvis\n",
       "    LDAvis_load_lib(\"https://d3js.org/d3.v5.js\", function(){\n",
       "         LDAvis_load_lib(\"https://cdn.jsdelivr.net/gh/bmabey/pyLDAvis@3.3.1/pyLDAvis/js/ldavis.v3.0.0.js\", function(){\n",
       "                 new LDAvis(\"#\" + \"ldavis_el325501406352316180969710432310\", ldavis_el325501406352316180969710432310_data);\n",
       "            })\n",
       "         });\n",
       "}\n",
       "</script>"
      ],
      "text/plain": [
       "PreparedData(topic_coordinates=              x         y  topics  cluster       Freq\n",
       "topic                                                \n",
       "0     -0.036470 -0.084200       1        1   5.723600\n",
       "1     -0.134578 -0.059551       2        1  20.076193\n",
       "2      0.044890  0.177070       3        1   8.620286\n",
       "3     -0.112680 -0.044828       4        1   8.649520\n",
       "4      0.098825 -0.072767       5        1   7.276610\n",
       "5      0.090415  0.006607       6        1   9.335212\n",
       "6      0.120407 -0.055331       7        1  10.129211\n",
       "7     -0.125845  0.070272       8        1   9.476939\n",
       "8      0.115731  0.010326       9        1  11.606426\n",
       "9     -0.060696  0.052402      10        1   9.106002, topic_info=              Term       Freq      Total Category  logprob  loglift\n",
       "438        efforts  22.000000  22.000000  Default  30.0000  30.0000\n",
       "893         marker  10.000000  10.000000  Default  29.0000  29.0000\n",
       "852  littleelvis40  10.000000  10.000000  Default  28.0000  28.0000\n",
       "587    gdarkconrad  13.000000  13.000000  Default  27.0000  27.0000\n",
       "574    gainesville  11.000000  11.000000  Default  26.0000  26.0000\n",
       "..             ...        ...        ...      ...      ...      ...\n",
       "759           isnt   3.758589  12.773147  Topic10  -5.1800   1.1729\n",
       "465             et   2.662401   6.733594  Topic10  -5.5248   1.4684\n",
       "343       damaging   3.087813  13.062606  Topic10  -5.3766   0.9539\n",
       "154           boca   3.087899  13.337022  Topic10  -5.3765   0.9332\n",
       "497           feet   2.469698   7.630271  Topic10  -5.5999   1.2682\n",
       "\n",
       "[491 rows x 6 columns], token_table=      Topic      Freq   Term\n",
       "term                        \n",
       "1         3  0.630597     12\n",
       "2         3  0.090488   14mb\n",
       "2         4  0.090488   14mb\n",
       "2         6  0.271463   14mb\n",
       "2         8  0.452439   14mb\n",
       "...     ...       ...    ...\n",
       "997       1  0.464888  needs\n",
       "997       2  0.092978  needs\n",
       "997       5  0.092978  needs\n",
       "997       7  0.185955  needs\n",
       "997      10  0.185955  needs\n",
       "\n",
       "[1505 rows x 3 columns], R=30, lambda_step=0.01, plot_opts={'xlab': 'PC1', 'ylab': 'PC2'}, topic_order=[1, 2, 3, 4, 5, 6, 7, 8, 9, 10])"
      ]
     },
     "execution_count": 31,
     "metadata": {},
     "output_type": "execute_result"
    }
   ],
   "source": [
    "pyLDAvis.enable_notebook()\n",
    "gensimvis.prepare(gen_lda3, corpus3, dictionary3, sort_topics=False)"
   ]
  },
  {
   "cell_type": "markdown",
   "metadata": {},
   "source": [
    "# Selecting the best k topics for gensim models"
   ]
  },
  {
   "cell_type": "code",
   "execution_count": null,
   "metadata": {},
   "outputs": [],
   "source": [
    "# Using coherencemodel to calculate the best k topics\n",
    "# documentation:https://radimrehurek.com/gensim/models/coherencemodel.html\n",
    "from gensim.models.coherencemodel import CoherenceModel"
   ]
  },
  {
   "cell_type": "code",
   "execution_count": null,
   "metadata": {},
   "outputs": [
    {
     "name": "stdout",
     "output_type": "stream",
     "text": [
      "[-16.363279662769756, -17.645539471139745, -16.59840376181339, -15.190569782340578, -15.523199331833007, -14.708335370812863, -15.584907963839447, -14.93064387115519, -13.371707165024592]\n"
     ]
    }
   ],
   "source": [
    "# setting random seed to get the same results each time for different topic sizes. \n",
    "np.random.seed(1)\n",
    "\n",
    "coherence2 = []\n",
    "\n",
    "for k in range(2, 11):\n",
    "    goodLdaModel2 = ldamodel.LdaModel(\n",
    "        corpus=corpus2, id2word=dictionary2, num_topics=k, passes=50) #Number of passes through the corpus during training.\n",
    "    \n",
    "    goodcm2 = CoherenceModel(model=goodLdaModel2, corpus=corpus2,\n",
    "                            dictionary=dictionary2, coherence='u_mass') #The greater the number, the better is coherence score.\n",
    "    \n",
    "    coherence2.append(goodcm2.get_coherence())\n",
    "    \n",
    "\n",
    "print(coherence2)"
   ]
  },
  {
   "cell_type": "code",
   "execution_count": null,
   "metadata": {},
   "outputs": [
    {
     "data": {
      "image/png": "[encoded data removed]",
      "text/plain": [
       "<Figure size 432x288 with 1 Axes>"
      ]
     },
     "metadata": {
      "needs_background": "light"
     },
     "output_type": "display_data"
    }
   ],
   "source": [
    "# Show graph\n",
    "import matplotlib.pyplot as plt\n",
    "\n",
    "x = range(2,11)\n",
    "plt.plot(x, coherence2)\n",
    "plt.xlabel(\"Num Topics\")\n",
    "plt.ylabel(\"Coherence score\")\n",
    "plt.legend((\"coherence_values\"), loc='best')\n",
    "plt.show()"
   ]
  },
  {
   "cell_type": "code",
   "execution_count": null,
   "metadata": {},
   "outputs": [
    {
     "data": {
      "text/plain": [
       "[(0,\n",
       "  '0.018*\"larry\" + 0.014*\"categories\" + 0.014*\"pass\" + 0.012*\"hurri\" + 0.012*\"dada\" + 0.012*\"fuck\" + 0.012*\"officials\" + 0.012*\"district\" + 0.012*\"gail\" + 0.011*\"heads\"'),\n",
       " (1,\n",
       "  '0.020*\"melania\" + 0.019*\"coastal\" + 0.019*\"map\" + 0.019*\"jackson_dill\" + 0.017*\"coverage\" + 0.015*\"finale\" + 0.015*\"floridians\" + 0.014*\"birdingpeepwx\" + 0.014*\"jamesblatch\" + 0.014*\"greg_magnuson\"'),\n",
       " (2,\n",
       "  '0.019*\"evacuation\" + 0.018*\"outlook\" + 0.016*\"pinellas\" + 0.014*\"jean\" + 0.014*\"braces\" + 0.012*\"high\" + 0.011*\"fighters\" + 0.011*\"equipment\" + 0.011*\"delivered\" + 0.011*\"areas\"'),\n",
       " (3,\n",
       "  '0.026*\"lhps_athletics\" + 0.019*\"myles\" + 0.017*\"louiseamd\" + 0.015*\"desktop\" + 0.014*\"cc_stormwatch\" + 0.014*\"increases\" + 0.012*\"chart\" + 0.012*\"nhc\" + 0.012*\"forecasters\" + 0.012*\"image\"'),\n",
       " (4,\n",
       "  '0.012*\"moniker\" + 0.012*\"big\" + 0.012*\"gul\" + 0.012*\"man\" + 0.011*\"joe\" + 0.010*\"doggintrump\" + 0.009*\"independent\" + 0.009*\"conti\" + 0.009*\"philklotzbach\" + 0.009*\"patients\"'),\n",
       " (5,\n",
       "  '0.008*\"cecilytynan\" + 0.006*\"hurr\" + 0.006*\"alert\" + 0.006*\"alford\" + 0.006*\"influx\" + 0.006*\"heat\" + 0.006*\"needs\" + 0.006*\"mia\" + 0.006*\"nick\" + 0.006*\"phone\"'),\n",
       " (6,\n",
       "  '0.016*\"endgameww3\" + 0.016*\"epochtvus\" + 0.016*\"ike\" + 0.014*\"balloons\" + 0.013*\"moore\" + 0.012*\"mischievousliz\" + 0.011*\"hpa\" + 0.011*\"moving\" + 0.011*\"life\" + 0.011*\"metro\"'),\n",
       " (7,\n",
       "  '0.014*\"jails\" + 0.012*\"alerts\" + 0.012*\"learn\" + 0.012*\"jab\" + 0.012*\"imo\" + 0.012*\"meal\" + 0.012*\"km\" + 0.012*\"declares\" + 0.012*\"meidastouch\" + 0.012*\"photo\"'),\n",
       " (8,\n",
       "  '0.020*\"nose\" + 0.020*\"faces\" + 0.018*\"baja\" + 0.017*\"alachuajury\" + 0.016*\"gardens\" + 0.013*\"hillsborough\" + 0.013*\"holiday\" + 0.013*\"dega\" + 0.013*\"employee\" + 0.013*\"evening\"'),\n",
       " (9,\n",
       "  '0.028*\"fgbrisco\" + 0.018*\"crypto\" + 0.015*\"noaa42\" + 0.014*\"afternoon\" + 0.014*\"need\" + 0.014*\"buffalo\" + 0.014*\"make\" + 0.013*\"burgwx\" + 0.013*\"mentions\" + 0.012*\"estimations\"')]"
      ]
     },
     "execution_count": 49,
     "metadata": {},
     "output_type": "execute_result"
    }
   ],
   "source": [
    "# print the best model for corpus2\n",
    "gen_lda_best2 = ldamodel.LdaModel(corpus=corpus2, num_topics=10, id2word=dictionary2, passes=50) \n",
    "\n",
    "gen_lda_best2.print_topics(num_words=10)"
   ]
  },
  {
   "cell_type": "code",
   "execution_count": null,
   "metadata": {},
   "outputs": [],
   "source": [
    "pyLDAvis.enable_notebook()\n",
    "gensimvis.prepare(gen_lda_best2, corpus2, dictionary2, sort_topics=False)"
   ]
  },
  {
   "cell_type": "code",
   "execution_count": null,
   "metadata": {},
   "outputs": [],
   "source": [
    "# find the best k topic for corpus3\n",
    "np.random.seed(1)\n",
    "\n",
    "coherence3 = []\n",
    "\n",
    "for k in range(2, 11):\n",
    "    goodLdaModel3 = ldamodel.LdaModel(\n",
    "        corpus=corpus3, id2word=dictionary3, num_topics=k, passes=50) #Number of passes through the corpus during training.\n",
    "    \n",
    "    goodcm3 = CoherenceModel(model=goodLdaModel3, corpus=corpus3,\n",
    "                            dictionary=dictionary3, coherence='u_mass') #The greater the number, the better is coherence score.\n",
    "    \n",
    "    coherence3.append(goodcm3.get_coherence())\n",
    "    \n",
    "\n",
    "print(coherence3)"
   ]
  },
  {
   "cell_type": "code",
   "execution_count": null,
   "metadata": {},
   "outputs": [],
   "source": [
    "# Show graph\n",
    "import matplotlib.pyplot as plt\n",
    "\n",
    "x = range(2,11)\n",
    "plt.plot(x, coherence3)\n",
    "plt.xlabel(\"Num Topics\")\n",
    "plt.ylabel(\"Coherence score\")\n",
    "plt.legend((\"coherence_values\"), loc='best')\n",
    "plt.show()"
   ]
  },
  {
   "cell_type": "code",
   "execution_count": null,
   "metadata": {},
   "outputs": [],
   "source": [
    "# print the best model for corpus3\n",
    "gen_lda_best3 = ldamodel.LdaModel(corpus=corpus3, num_topics=8 , id2word=dictionary3, passes=50) \n",
    "\n",
    "gen_lda_best3.print_topics(num_words=10)"
   ]
  },
  {
   "cell_type": "code",
   "execution_count": null,
   "metadata": {},
   "outputs": [],
   "source": [
    "pyLDAvis.enable_notebook()\n",
    "gensimvis.prepare(gen_lda_best3, corpus3, dictionary3, sort_topics=False)"
   ]
  },
  {
   "cell_type": "markdown",
   "metadata": {},
   "source": [
    "# Apendix\n",
    "\n",
    ">**For more evaluation method, please read**\n",
    "\n",
    "https://www.baeldung.com/cs/topic-modeling-coherence-score\n",
    "\n",
    "**There is no one way to determine whether the coherence score is good or bad. The score and its value depend on the data that it’s calculated from.**"
   ]
  },
  {
   "cell_type": "markdown",
   "metadata": {},
   "source": [
    "# Actions: discover the movie topics\n",
    "\n",
    "1. You need build the LDA model using IMDB Dataset (\"IMDB Dataset.csv\"), you can decide the number of topics and top words\n",
    "2. Apply two methods to select your corpus (nouns, nouns and adjectvies)\n",
    "3. Visualize your topic modeling results\n",
    "4. Select the best Gensim model then visualize the results"
   ]
  },
  {
   "cell_type": "code",
   "execution_count": null,
   "metadata": {},
   "outputs": [],
   "source": []
  },
  {
   "cell_type": "code",
   "execution_count": null,
   "metadata": {},
   "outputs": [],
   "source": []
  },
  {
   "cell_type": "code",
   "execution_count": null,
   "metadata": {},
   "outputs": [],
   "source": []
  }
 ],
 "metadata": {
  "kernelspec": {
   "display_name": "Python 3 (ipykernel)",
   "language": "python",
   "name": "python3"
  },
  "language_info": {
   "codemirror_mode": {
    "name": "ipython",
    "version": 3
   },
   "file_extension": ".py",
   "mimetype": "text/x-python",
   "name": "python",
   "nbconvert_exporter": "python",
   "pygments_lexer": "ipython3",
   "version": "3.8.0"
  },
  "vscode": {
   "interpreter": {
    "hash": "aee8b7b246df8f9039afb4144a1f6fd8d2ca17a180786b69acc140d282b71a49"
   }
  }
 },
 "nbformat": 4,
 "nbformat_minor": 5
}
