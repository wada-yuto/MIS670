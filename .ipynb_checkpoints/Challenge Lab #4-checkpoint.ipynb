{
 "cells": [
  {
   "cell_type": "markdown",
   "metadata": {},
   "source": [
    "# Descriptive Text Analytics\n",
    "- Unstructured data refers to \"texts\" in your data (e.g., documents, customer/product reviews, tweets, facebook posts)\n",
    "- Many different techniques are available for text (or content) analytics (from simple to advanced)\n",
    "- Simple: word frequency ... word cloud ... application of descriptive analytics to texts\n",
    "- Advanced: classification, sentiment analysis, clustering, topic modeling, ..."
   ]
  },
  {
   "cell_type": "markdown",
   "metadata": {},
   "source": [
    "## Descriptive text analytics, first"
   ]
  },
  {
   "cell_type": "code",
   "execution_count": 2,
   "metadata": {},
   "outputs": [
    {
     "name": "stderr",
     "output_type": "stream",
     "text": [
      "[nltk_data] Downloading package wordnet to\n",
      "[nltk_data]     /Users/yutowada/nltk_data...\n",
      "[nltk_data] Downloading package punkt to /Users/yutowada/nltk_data...\n",
      "[nltk_data]   Unzipping tokenizers/punkt.zip.\n",
      "[nltk_data] Downloading package stopwords to\n",
      "[nltk_data]     /Users/yutowada/nltk_data...\n",
      "[nltk_data]   Unzipping corpora/stopwords.zip.\n"
     ]
    }
   ],
   "source": [
    "# Example 1: import nltk (natural language tool kit), a popular python package for text mining\n",
    "import nltk\n",
    "# stopwords, FreqDist, word_tokenize\n",
    "from nltk.corpus import stopwords\n",
    "from nltk import FreqDist, word_tokenize\n",
    "from nltk.stem.porter import PorterStemmer\n",
    "from nltk.stem import WordNetLemmatizer\n",
    "nltk.download('wordnet')    # Lemmatizer Software\n",
    "# Punkt Sentence Tokenizer. This tokenizer divides a text into a list of sentences,\n",
    "nltk.download('punkt')\n",
    "# StopWords\n",
    "nltk.download('stopwords')\n",
    "\n",
    "\n",
    "# from nltk.corpus import stopwords\n",
    "#regular expression\n",
    "import re\n",
    "#csv\n",
    "import csv\n",
    "# Excel-like format\n",
    "import pandas as pd\n",
    "#data visualization\n",
    "import matplotlib.pyplot as plt\n",
    "%matplotlib inline"
   ]
  },
  {
   "cell_type": "code",
   "execution_count": 3,
   "metadata": {},
   "outputs": [
    {
     "name": "stdout",
     "output_type": "stream",
     "text": [
      "['I', 'am', 'just', 'loving', 'running', 'a', 'marathon', '.', 'It', 'takes', 'place', 'later', 'this', 'week', 'in', 'my', 'favorite', 'city', 'for', 'runs', '.']\n"
     ]
    }
   ],
   "source": [
    "# Example 2a: Tokenize\n",
    "from nltk.tokenize import word_tokenize \n",
    "text = \"I am just loving running a marathon. It takes place later this week in my favorite city for runs.\" \n",
    "print(word_tokenize(text)) "
   ]
  },
  {
   "cell_type": "code",
   "execution_count": 4,
   "metadata": {},
   "outputs": [
    {
     "name": "stdout",
     "output_type": "stream",
     "text": [
      "i\n",
      "am\n",
      "just\n",
      "love\n",
      "run\n",
      "a\n",
      "marathon\n",
      ".\n",
      "it\n",
      "take\n",
      "place\n",
      "later\n",
      "thi\n",
      "week\n",
      "in\n",
      "my\n",
      "favorit\n",
      "citi\n",
      "for\n",
      "run\n",
      ".\n"
     ]
    }
   ],
   "source": [
    "# Example 2b: Stem\n",
    "from nltk.stem import PorterStemmer\n",
    "from nltk.tokenize import sent_tokenize, word_tokenize\n",
    "ps = PorterStemmer()\n",
    "for w in word_tokenize(text):\n",
    "    print(ps.stem(w))"
   ]
  },
  {
   "cell_type": "code",
   "execution_count": 6,
   "metadata": {},
   "outputs": [
    {
     "name": "stderr",
     "output_type": "stream",
     "text": [
      "[nltk_data] Downloading package omw-1.4 to\n",
      "[nltk_data]     /Users/yutowada/nltk_data...\n"
     ]
    },
    {
     "name": "stdout",
     "output_type": "stream",
     "text": [
      "I\n",
      "am\n",
      "just\n",
      "loving\n",
      "running\n",
      "a\n",
      "marathon\n",
      ".\n",
      "It\n",
      "take\n",
      "place\n",
      "later\n",
      "this\n",
      "week\n",
      "in\n",
      "my\n",
      "favorite\n",
      "city\n",
      "for\n",
      "run\n",
      ".\n"
     ]
    }
   ],
   "source": [
    "# Example 2c: Lemmatize\n",
    "from nltk.stem import WordNetLemmatizer\n",
    "nltk.download('omw-1.4')\n",
    "lemmatizer = WordNetLemmatizer()\n",
    "for w in word_tokenize(text):\n",
    "    print(lemmatizer.lemmatize(w))"
   ]
  },
  {
   "cell_type": "markdown",
   "metadata": {},
   "source": [
    "# Reading data as list"
   ]
  },
  {
   "cell_type": "code",
   "execution_count": 9,
   "metadata": {
    "scrolled": true
   },
   "outputs": [
    {
     "name": "stdout",
     "output_type": "stream",
     "text": [
      "[['I love this crazy good sandwich and its fillings.'], ['this is an amazing place!'], ['I feel very good about these beers.'], ['this is my best work.'], ['what an awesome view'], ['I do not like this restaurant'], ['I am tired of this stuff.'], ['I cant deal with this'], ['he is my sworn enemy!'], ['my boss is horrible but his hygiene is very good.'], ['the beer was good but foamy.'], ['I do not enjoy my job'], ['I aint feeling dandy today.'], ['I feel amazing and happy!'], ['Nude Gary is a friend of mine and his hygiene is very good.'], ['I cant believe Im doing this.'], ['Angels calls are all around.'], ['Darkness is calling!'], ['Amazingly, I love terriers more than cats.'], ['Trout is fun to catch and throw on the grill.']]\n"
     ]
    },
    {
     "data": {
      "text/plain": [
       "20"
      ]
     },
     "execution_count": 9,
     "metadata": {},
     "output_type": "execute_result"
    }
   ],
   "source": [
    "# Example 3: Read data as a list\n",
    "review = []\n",
    "openfile = open('Challenge Lab #4 data/sampledata_wordfrequency.csv', 'r')\n",
    "# openfile = open('Challenge Lab #4 data/sampledata_wordfrequency.csv', 'r', encoding = \"ISO-8859-1\")\n",
    "r = csv.reader(openfile)\n",
    "for i in r:\n",
    "# get the first column only (ignoring the second column)\n",
    "    review.append(i)    \n",
    "openfile.close()\n",
    "\n",
    "print(review)\n",
    "len(review)"
   ]
  },
  {
   "cell_type": "markdown",
   "metadata": {},
   "source": [
    "## Let's study each step necessary for word frequency analysis\n",
    "\n",
    "Data/Text Preprocessing (Data Wrangling) for Content Analytics (or Text Analytics)\n",
    "\n",
    "This step, which is extremely critical for text analytics, involves several data transformation and manipulation activities to prepare the dataset for predictive analytics (e.g., training predictive or machine learning model). Specifically,\n",
    "\n",
    "1. **tokenization** : breaking sentences and documents to tokens (individual words or terms)\n",
    "2. **transforming case** : converting tokens (or words) to lower case\n",
    "3. **removing stopwords** : removing less informative words or tokens from the dataset\n",
    "4. **ngram** : finding informative phrases consisting of two words or more \n",
    "5. **stemming or lemmatization**: finding stemming words (e.g., studying --> study)"
   ]
  },
  {
   "cell_type": "code",
   "execution_count": 10,
   "metadata": {},
   "outputs": [],
   "source": [
    "# Example 4: Currently the data are in list ... convert to string\n",
    "tokens = str(review)\n",
    "#lowecases\n",
    "tokens = tokens.lower()\n",
    "# Remove useless numbers and alphanumerical words\n",
    "tokens = re.sub(\"[^a-zA-Z0-9]\", \" \", tokens)\n",
    "#tokenization or word split\n",
    "tokens = word_tokenize(tokens)\n",
    "#Remove stopwords\n",
    "tokens = (word for word in tokens if word not in stopwords.words('english'))\n",
    "# Filter non-alphanumeric characters from tokens\n",
    "tokens = (word for word in tokens if word.isalpha())\n",
    "#remove short words\n",
    "tkens = (word for word in tokens if len(word) >= 3)"
   ]
  },
  {
   "cell_type": "markdown",
   "metadata": {},
   "source": [
    "# Word Frequency"
   ]
  },
  {
   "cell_type": "code",
   "execution_count": 11,
   "metadata": {},
   "outputs": [
    {
     "data": {
      "text/plain": [
       "FreqDist({'good': 5, 'love': 2, 'amazing': 2, 'feel': 2, 'cant': 2, 'hygiene': 2, 'crazy': 1, 'sandwich': 1, 'fillings': 1, 'place': 1, ...})"
      ]
     },
     "execution_count": 11,
     "metadata": {},
     "output_type": "execute_result"
    }
   ],
   "source": [
    "# Example 5: Compute frequency distribution for all the bigrams in the text\n",
    "fdist = nltk.FreqDist(tokens)\n",
    "fdist"
   ]
  },
  {
   "cell_type": "code",
   "execution_count": 12,
   "metadata": {},
   "outputs": [
    {
     "data": {
      "text/plain": [
       "[('good', 5),\n",
       " ('love', 2),\n",
       " ('amazing', 2),\n",
       " ('feel', 2),\n",
       " ('cant', 2),\n",
       " ('hygiene', 2),\n",
       " ('crazy', 1),\n",
       " ('sandwich', 1),\n",
       " ('fillings', 1),\n",
       " ('place', 1),\n",
       " ('beers', 1),\n",
       " ('best', 1),\n",
       " ('work', 1),\n",
       " ('awesome', 1),\n",
       " ('view', 1),\n",
       " ('like', 1),\n",
       " ('restaurant', 1),\n",
       " ('tired', 1),\n",
       " ('stuff', 1),\n",
       " ('deal', 1),\n",
       " ('sworn', 1),\n",
       " ('enemy', 1),\n",
       " ('boss', 1),\n",
       " ('horrible', 1),\n",
       " ('beer', 1),\n",
       " ('foamy', 1),\n",
       " ('enjoy', 1),\n",
       " ('job', 1),\n",
       " ('aint', 1),\n",
       " ('feeling', 1),\n",
       " ('dandy', 1),\n",
       " ('today', 1),\n",
       " ('happy', 1),\n",
       " ('nude', 1),\n",
       " ('gary', 1),\n",
       " ('friend', 1),\n",
       " ('mine', 1),\n",
       " ('believe', 1),\n",
       " ('im', 1),\n",
       " ('angels', 1),\n",
       " ('calls', 1),\n",
       " ('around', 1),\n",
       " ('darkness', 1),\n",
       " ('calling', 1),\n",
       " ('amazingly', 1),\n",
       " ('terriers', 1),\n",
       " ('cats', 1),\n",
       " ('trout', 1),\n",
       " ('fun', 1),\n",
       " ('catch', 1)]"
      ]
     },
     "execution_count": 12,
     "metadata": {},
     "output_type": "execute_result"
    }
   ],
   "source": [
    "# Example 6: List the 50 most common words\n",
    "fdist.most_common(50)"
   ]
  },
  {
   "cell_type": "markdown",
   "metadata": {},
   "source": [
    "## Additional Text Preprocessing (if needed)\n",
    "\n",
    "- stemming / lemmatize: changes \"dogs\" to \"dog\"\n",
    "- you can add additional stopwords, depending on business contexts (e.g., also, cant, aint)"
   ]
  },
  {
   "cell_type": "code",
   "execution_count": null,
   "metadata": {},
   "outputs": [],
   "source": [
    "# Example 7a: More Text Processing with Lemmatizing\n",
    "\n",
    "review = []\n",
    "openfile = open('data/sampledata_wordfrequency.csv', 'r')\n",
    "# openfile = open('data/sampledata_wordfrequency.csv', 'r', encoding = \"ISO-8859-1\")\n",
    "r = csv.reader(openfile)\n",
    "for i in r:\n",
    "# get the first column only (ignoring the second column)\n",
    "    review.append(i)    \n",
    "openfile.close()\n",
    "\n",
    "# what if you have additional stopwords to be removed\n",
    "tokens = str(review)\n",
    "#lowercase\n",
    "tokens = tokens.lower()\n",
    "# Remove useless numbers and alphanumerical words\n",
    "tokens = re.sub(\"[^a-zA-Z0-9]\", \" \", tokens)\n",
    "#tokenization or word split\n",
    "tokens = word_tokenize(tokens)\n",
    "#get stemming words or lemmas\n",
    "wordnet_lemmatizer = WordNetLemmatizer()\n",
    "tokens = (wordnet_lemmatizer.lemmatize(word) for word in tokens)\n",
    "#additional stopwrods\n",
    "more_stopwords = set(('cant', 'aint', 'today'))\n",
    "extra_stoplist = set(stopwords.words('english')) | more_stopwords\n",
    "tokens = (word for word in tokens if word not in extra_stoplist)\n",
    "# Filter non-alphanumeric characters from tokens\n",
    "tokens = (word for word in tokens if word.isalpha())\n",
    "#remove short words\n",
    "tokens = (word for word in tokens if len(word) >= 3)\n",
    "\n",
    "fdist = nltk.FreqDist(tokens)\n",
    "fdist"
   ]
  },
  {
   "cell_type": "code",
   "execution_count": null,
   "metadata": {},
   "outputs": [],
   "source": [
    "# Example 7b: Plot distribution for Lemmas\n",
    "\n",
    "plt.figure(figsize=(12,6))\n",
    "fdist.plot(50)"
   ]
  },
  {
   "cell_type": "code",
   "execution_count": null,
   "metadata": {},
   "outputs": [],
   "source": [
    "# Example 7c: More Text Processing with Stemming\n",
    "\n",
    "review = []\n",
    "r=[]\n",
    "openfile = open('data/sampledata_wordfrequency.csv', 'r')\n",
    "# openfile = open('data/sampledata_wordfrequency.csv', 'r', encoding = \"ISO-8859-1\")\n",
    "r = csv.reader(openfile)\n",
    "for i in r:\n",
    "# get the first column only (ignoring the second column)\n",
    "    review.append(i)    \n",
    "openfile.close()\n",
    "\n",
    "# what if you have additional stopwords to be removed\n",
    "tokens = str(review)\n",
    "#lowecases\n",
    "tokens = tokens.lower()\n",
    "# Remove useless numbers and alphanumerical words\n",
    "tokens = re.sub(\"[^a-zA-Z0-9]\", \" \", tokens)\n",
    "#tokenization or word split\n",
    "tokens = word_tokenize(tokens)\n",
    "#get stemming words or lemmas\n",
    "ps = PorterStemmer()\n",
    "tokens = (ps.stem(word) for word in tokens)\n",
    "#additional stopwrods\n",
    "more_stopwords = set(('cant', 'aint', 'today'))\n",
    "extra_stoplist = set(stopwords.words('english')) | more_stopwords\n",
    "tokens = (word for word in tokens if word not in extra_stoplist)\n",
    "# Filter non-alphanumeric characters from tokens\n",
    "tokens = (word for word in tokens if word.isalpha())\n",
    "#remove short words\n",
    "tokens = (word for word in tokens if len(word) >= 3)\n",
    "\n",
    "fdist = nltk.FreqDist(tokens)\n",
    "fdist"
   ]
  },
  {
   "cell_type": "markdown",
   "metadata": {},
   "source": [
    "## Word Frequency Analysis"
   ]
  },
  {
   "cell_type": "raw",
   "metadata": {},
   "source": [
    "# Example 8: fdist methods\n",
    "\n",
    "# fdist = FreqDist(samples)\tcreate a frequency distribution containing the given samples\n",
    "# fdist[sample] += 1\tincrement the count for this sample\n",
    "# fdist['monstrous']\tcount of the number of times a given sample occurred\n",
    "# fdist.freq('monstrous')\tfrequency of a given sample\n",
    "# fdist.N()\ttotal number of samples\n",
    "# fdist.most_common(n)\tthe n most common samples and their frequencies\n",
    "# for sample in fdist:\titerate over the samples\n",
    "# fdist.max()\tsample with the greatest count\n",
    "# fdist.tabulate()\ttabulate the frequency distribution\n",
    "# fdist.plot()\tgraphical plot of the frequency distribution\n",
    "# fdist.plot(cumulative=True)\tcumulative plot of the frequency distribution\n",
    "# fdist1 |= fdist2\tupdate fdist1 with counts from fdist2\n",
    "# fdist1 < fdist2\ttest if samples in fdist1 occur less frequently than in fdist2\n",
    "\n",
    "# http://www.nltk.org/book/ch01.html"
   ]
  },
  {
   "cell_type": "code",
   "execution_count": 37,
   "metadata": {},
   "outputs": [
    {
     "data": {
      "image/png": "[encoded data removed]",
      "text/plain": [
       "<Figure size 864x432 with 1 Axes>"
      ]
     },
     "metadata": {
      "needs_background": "light"
     },
     "output_type": "display_data"
    },
    {
     "data": {
      "text/plain": [
       "<AxesSubplot:xlabel='Samples', ylabel='Counts'>"
      ]
     },
     "execution_count": 37,
     "metadata": {},
     "output_type": "execute_result"
    }
   ],
   "source": [
    "# Example 9a: Plot distribution for Stems\n",
    "\n",
    "plt.figure(figsize=(12,6))\n",
    "fdist.plot(70)"
   ]
  },
  {
   "cell_type": "code",
   "execution_count": 52,
   "metadata": {},
   "outputs": [
    {
     "data": {
      "text/plain": [
       "[('good', 5),\n",
       " ('love', 2),\n",
       " ('amazing', 2),\n",
       " ('feel', 2),\n",
       " ('beer', 2),\n",
       " ('hygiene', 2),\n",
       " ('crazy', 1),\n",
       " ('sandwich', 1),\n",
       " ('filling', 1),\n",
       " ('place', 1),\n",
       " ('best', 1),\n",
       " ('work', 1),\n",
       " ('awesome', 1),\n",
       " ('view', 1),\n",
       " ('like', 1),\n",
       " ('restaurant', 1),\n",
       " ('tired', 1),\n",
       " ('stuff', 1),\n",
       " ('deal', 1),\n",
       " ('sworn', 1),\n",
       " ('enemy', 1),\n",
       " ('bos', 1),\n",
       " ('horrible', 1),\n",
       " ('foamy', 1),\n",
       " ('enjoy', 1),\n",
       " ('job', 1),\n",
       " ('feeling', 1),\n",
       " ('dandy', 1),\n",
       " ('happy', 1),\n",
       " ('nude', 1),\n",
       " ('gary', 1),\n",
       " ('friend', 1),\n",
       " ('mine', 1),\n",
       " ('believe', 1),\n",
       " ('angel', 1),\n",
       " ('call', 1),\n",
       " ('around', 1),\n",
       " ('darkness', 1),\n",
       " ('calling', 1),\n",
       " ('amazingly', 1),\n",
       " ('terrier', 1),\n",
       " ('cat', 1),\n",
       " ('trout', 1),\n",
       " ('fun', 1),\n",
       " ('catch', 1),\n",
       " ('throw', 1),\n",
       " ('grill', 1)]"
      ]
     },
     "execution_count": 52,
     "metadata": {},
     "output_type": "execute_result"
    }
   ],
   "source": [
    "# Example 9b: Omitting a stop word that is desired to be kept (Lemma Example for 'and')\n",
    "review = []\n",
    "openfile = open('Challenge Lab #4 data//sampledata_wordfrequency.csv', 'r')\n",
    "# openfile = open('data/sampledata_wordfrequency.csv', 'r', encoding = \"ISO-8859-1\")\n",
    "r = csv.reader(openfile)\n",
    "for i in r:\n",
    "# get the first column only (ignoring the second column)\n",
    "    review.append(i)    \n",
    "openfile.close()\n",
    "\n",
    "# what if you have additional stopwords to be removed\n",
    "tokens = str(review)\n",
    "#lowercase\n",
    "tokens = tokens.lower()\n",
    "# Remove useless numbers and alphanumerical words\n",
    "tokens = re.sub(\"[^a-zA-Z0-9]\", \" \", tokens)\n",
    "#tokenization or word split\n",
    "tokens = word_tokenize(tokens)\n",
    "#get stemming words or lemmas\n",
    "wordnet_lemmatizer = WordNetLemmatizer()\n",
    "tokens = (wordnet_lemmatizer.lemmatize(word) for word in tokens)\n",
    "#additional stopwrods\n",
    "more_stopwords = set(('cant', 'aint', 'today'))\n",
    "extra_stoplist = set(stopwords.words('english'))) | more_stopwords\n",
    "tokens = (word for word in tokens if word not in extra_stoplist)\n",
    "# Filter non-alphanumeric characters from tokens\n",
    "tokens = (word for word in tokens if word.isalpha())\n",
    "#remove short words\n",
    "tokens = (word for word in tokens if len(word) >= 3)\n",
    "\n",
    "fdist = nltk.FreqDist(tokens)\n",
    "fdist"
   ]
  },
  {
   "cell_type": "code",
   "execution_count": 23,
   "metadata": {},
   "outputs": [
    {
     "data": {
      "image/png": "[encoded data removed]",
      "text/plain": [
       "<Figure size 864x432 with 1 Axes>"
      ]
     },
     "metadata": {
      "needs_background": "light"
     },
     "output_type": "display_data"
    },
    {
     "data": {
      "text/plain": [
       "<AxesSubplot:xlabel='Samples', ylabel='Counts'>"
      ]
     },
     "execution_count": 23,
     "metadata": {},
     "output_type": "execute_result"
    }
   ],
   "source": [
    "# Example 9c: Plot distribution for Omitted Stopword Example\n",
    "\n",
    "plt.figure(figsize=(12,6))\n",
    "fdist.plot(70)"
   ]
  },
  {
   "cell_type": "markdown",
   "metadata": {},
   "source": [
    "### Saving the word frequency analysis"
   ]
  },
  {
   "cell_type": "code",
   "execution_count": null,
   "metadata": {},
   "outputs": [],
   "source": [
    "# Example 10: save the results of word frequency\n",
    "output = open(\"data/output_fdist.csv\", \"w\") \n",
    "w = csv.writer(output)\n",
    "w.writerows(list(fdist.items()))\n",
    "output.close()"
   ]
  },
  {
   "cell_type": "markdown",
   "metadata": {},
   "source": [
    "# Word Frequency Analysis - Bigrams\n",
    "\n",
    "* a list of word pairs"
   ]
  },
  {
   "cell_type": "code",
   "execution_count": 28,
   "metadata": {},
   "outputs": [
    {
     "data": {
      "text/plain": [
       "FreqDist({('good', 'beer'): 2, ('hygiene', 'good'): 2, ('love', 'crazy'): 1, ('crazy', 'good'): 1, ('good', 'sandwich'): 1, ('sandwich', 'filling'): 1, ('filling', 'amazing'): 1, ('amazing', 'place'): 1, ('place', 'feel'): 1, ('feel', 'good'): 1, ...})"
      ]
     },
     "execution_count": 28,
     "metadata": {},
     "output_type": "execute_result"
    }
   ],
   "source": [
    "# Example 11: Create Bigrams \n",
    "# what if you have additional stopwords to be removed\n",
    "tokens = str(review)\n",
    "#lowecases\n",
    "tokens = tokens.lower()\n",
    "# Remove useless numbers and alphanumerical words\n",
    "tokens = re.sub(\"[^a-zA-Z0-9]\", \" \", tokens)\n",
    "#tokenization or word split\n",
    "tokens = word_tokenize(tokens)\n",
    "#get stemming words or lemmas\n",
    "wordnet_lemmatizer = WordNetLemmatizer()\n",
    "tokens = (wordnet_lemmatizer.lemmatize(word) for word in tokens)\n",
    "#additional stopwrods\n",
    "more_stopwords = set(('cant', 'aint', 'today'))\n",
    "extra_stoplist = set(stopwords.words('english')) | more_stopwords\n",
    "tokens = (word for word in tokens if word not in extra_stoplist)\n",
    "# Filter non-alphanumeric characters from tokens\n",
    "tokens = (word for word in tokens if word.isalpha())\n",
    "#remove short words\n",
    "tokens = (word for word in tokens if len(word) >= 3)\n",
    "#Create your bigrams ... a bigram are a pair of two tokens\n",
    "bigrams = nltk.bigrams(tokens)\n",
    "#compute frequency distribution for all the bigrams in the text\n",
    "fdist_bi = nltk.FreqDist(bigrams)\n",
    "fdist_bi"
   ]
  },
  {
   "cell_type": "code",
   "execution_count": 29,
   "metadata": {},
   "outputs": [],
   "source": [
    "# Example 12: save the results of word frequency\n",
    "output = open(\"Challenge Lab #4 data/output_fdist_bigram.csv\", \"w\") \n",
    "w = csv.writer(output)\n",
    "w.writerows(list(fdist_bi.items()))\n",
    "output.close()"
   ]
  },
  {
   "cell_type": "markdown",
   "metadata": {},
   "source": [
    "You can perform further descriptive analysis using Tableau, Excel, and Python."
   ]
  },
  {
   "cell_type": "code",
   "execution_count": 30,
   "metadata": {},
   "outputs": [
    {
     "data": {
      "image/png": "[encoded data removed]",
      "text/plain": [
       "<Figure size 864x432 with 1 Axes>"
      ]
     },
     "metadata": {
      "needs_background": "light"
     },
     "output_type": "display_data"
    },
    {
     "data": {
      "text/plain": [
       "<AxesSubplot:xlabel='Samples', ylabel='Counts'>"
      ]
     },
     "execution_count": 30,
     "metadata": {},
     "output_type": "execute_result"
    }
   ],
   "source": [
    "# Example 13: Plot word frequency using bigram\n",
    "plt.figure(figsize=(12,6))\n",
    "fdist_bi.plot(50)"
   ]
  },
  {
   "cell_type": "markdown",
   "metadata": {},
   "source": [
    "# Exercise: Perform word frequency analysis on Faculty Salary dataset\n",
    "\n",
    "- facultysalary.csv"
   ]
  },
  {
   "cell_type": "code",
   "execution_count": 33,
   "metadata": {},
   "outputs": [
    {
     "name": "stdout",
     "output_type": "stream",
     "text": [
      "50\n"
     ]
    }
   ],
   "source": [
    "# Action 1 Required: How many rows are in the data? - Hint: the len function may help.\n",
    "import pandas as pd\n",
    "review = []\n",
    "openfile = open('Challenge Lab #4 data/facultysalary.csv', 'r', encoding = \"ISO-8859-1\")\n",
    "r = csv.reader(openfile)\n",
    "for row in r:\n",
    "    review.append(row)\n",
    "openfile.close()\n",
    "#print(review)\n",
    "print(len(review))"
   ]
  },
  {
   "cell_type": "code",
   "execution_count": 60,
   "metadata": {},
   "outputs": [
    {
     "data": {
      "text/plain": [
       "[('faculty', 106),\n",
       " ('salary', 101),\n",
       " ('university', 52),\n",
       " ('state', 44),\n",
       " ('increase', 39),\n",
       " ('year', 37),\n",
       " ('tenure', 30),\n",
       " ('student', 30),\n",
       " ('pay', 25),\n",
       " ('raise', 23),\n",
       " ('would', 23),\n",
       " ('institution', 23),\n",
       " ('professor', 23),\n",
       " ('make', 22),\n",
       " ('job', 21),\n",
       " ('instructor', 21),\n",
       " ('level', 20),\n",
       " ('force', 20),\n",
       " ('track', 20),\n",
       " ('time', 19),\n",
       " ('need', 19),\n",
       " ('work', 18),\n",
       " ('task', 18),\n",
       " ('compensation', 17),\n",
       " ('one', 16),\n",
       " ('people', 16),\n",
       " ('way', 16),\n",
       " ('peer', 16),\n",
       " ('full', 16),\n",
       " ('number', 16),\n",
       " ('position', 16),\n",
       " ('new', 16),\n",
       " ('member', 15),\n",
       " ('non', 15),\n",
       " ('also', 15),\n",
       " ('average', 15),\n",
       " ('rank', 15),\n",
       " ('department', 14),\n",
       " ('many', 14),\n",
       " ('report', 14),\n",
       " ('well', 14),\n",
       " ('must', 14),\n",
       " ('much', 13),\n",
       " ('administration', 13),\n",
       " ('issue', 13),\n",
       " ('research', 13),\n",
       " ('get', 12),\n",
       " ('doe', 12),\n",
       " ('teaching', 12),\n",
       " ('promotion', 12)]"
      ]
     },
     "execution_count": 60,
     "metadata": {},
     "output_type": "execute_result"
    }
   ],
   "source": [
    "# Action 2 Required. What are the most popular words (50) - Use Lemmatizing.\n",
    "import pandas as pd\n",
    "review = []\n",
    "openfile = open('Challenge Lab #4 data/facultysalary.csv', 'r', encoding = \"ISO-8859-1\")\n",
    "r = csv.reader(openfile)\n",
    "for row in r:\n",
    "    review.append(row)\n",
    "openfile.close()\n",
    "\n",
    "# what if you have additional stopwords to be removed\n",
    "tokens = str(review)\n",
    "#lowercase\n",
    "tokens = tokens.lower()\n",
    "# Remove useless numbers and alphanumerical words\n",
    "tokens = re.sub(\"[^a-zA-Z0-9]\", \" \", tokens)\n",
    "#tokenization or word split\n",
    "tokens = word_tokenize(tokens)\n",
    "#get stemming words or lemmas\n",
    "wordnet_lemmatizer = WordNetLemmatizer()\n",
    "tokens = (wordnet_lemmatizer.lemmatize(word) for word in tokens)\n",
    "#additional stopwrods\n",
    "more_stopwords = set(('cant', 'aint', 'today'))\n",
    "extra_stoplist = set(stopwords.words('english')) | more_stopwords\n",
    "tokens = (word for word in tokens if word not in extra_stoplist)\n",
    "# Filter non-alphanumeric characters from tokens\n",
    "tokens = (word for word in tokens if word.isalpha())\n",
    "#remove short words\n",
    "tokens = (word for word in tokens if len(word) >= 3)\n",
    "\n",
    "fdist = nltk.FreqDist(tokens)\n",
    "fdist.most_common(50)"
   ]
  },
  {
   "cell_type": "code",
   "execution_count": 57,
   "metadata": {},
   "outputs": [
    {
     "data": {
      "text/plain": [
       "[(('tenure', 'track'), 20),\n",
       " (('task', 'force'), 18),\n",
       " (('faculty', 'salary'), 17),\n",
       " (('track', 'faculty'), 17),\n",
       " (('non', 'tenure'), 11),\n",
       " (('faculty', 'member'), 9),\n",
       " (('full', 'professor'), 9),\n",
       " (('regularized', 'instructor'), 9),\n",
       " (('cost', 'living'), 8),\n",
       " (('peer', 'institution'), 8),\n",
       " (('salary', 'increase'), 7),\n",
       " (('associate', 'professor'), 6),\n",
       " (('year', 'ago'), 6),\n",
       " (('dollar', 'amount'), 5),\n",
       " (('state', 'university'), 5),\n",
       " (('salary', 'compression'), 5),\n",
       " (('regular', 'non'), 5),\n",
       " (('faculty', 'staff'), 5),\n",
       " (('land', 'grant'), 5),\n",
       " (('higher', 'education'), 5),\n",
       " (('compression', 'inversion'), 5),\n",
       " (('full', 'time'), 5),\n",
       " (('reach', 'goal'), 4),\n",
       " (('across', 'board'), 4),\n",
       " (('faculty', 'position'), 4)]"
      ]
     },
     "execution_count": 57,
     "metadata": {},
     "output_type": "execute_result"
    }
   ],
   "source": [
    "# Action 3 Required. What are the most popular bigrams? (25)\n",
    "import pandas as pd\n",
    "review = []\n",
    "openfile = open('Challenge Lab #4 data/facultysalary.csv', 'r', encoding = \"ISO-8859-1\")\n",
    "r = csv.reader(openfile)\n",
    "for row in r:\n",
    "    review.append(row)\n",
    "openfile.close()\n",
    "# what if you have additional stopwords to be removed\n",
    "tokens = str(review)\n",
    "#lowecases\n",
    "tokens = tokens.lower()\n",
    "# Remove useless numbers and alphanumerical words\n",
    "tokens = re.sub(\"[^a-zA-Z0-9]\", \" \", tokens)\n",
    "#tokenization or word split\n",
    "tokens = word_tokenize(tokens)\n",
    "#get stemming words or lemmas\n",
    "wordnet_lemmatizer = WordNetLemmatizer()\n",
    "tokens = (wordnet_lemmatizer.lemmatize(word) for word in tokens)\n",
    "#additional stopwrods\n",
    "more_stopwords = set(('cant', 'aint', 'today'))\n",
    "extra_stoplist = set(stopwords.words('english')) | more_stopwords\n",
    "tokens = (word for word in tokens if word not in extra_stoplist)\n",
    "# Filter non-alphanumeric characters from tokens\n",
    "tokens = (word for word in tokens if word.isalpha())\n",
    "#remove short words\n",
    "tokens = (word for word in tokens if len(word) >= 3)\n",
    "#Create your bigrams ... a bigram are a pair of two tokens\n",
    "bigrams = nltk.bigrams(tokens)\n",
    "#compute frequency distribution for all the bigrams in the text\n",
    "fdist_bi = nltk.FreqDist(bigrams)\n",
    "fdist_bi.most_common(25)"
   ]
  },
  {
   "cell_type": "markdown",
   "metadata": {},
   "source": [
    "# Appendix 1"
   ]
  },
  {
   "cell_type": "markdown",
   "metadata": {},
   "source": [
    "## Putting the frequency results in data frame (Excel-like)"
   ]
  },
  {
   "cell_type": "code",
   "execution_count": null,
   "metadata": {},
   "outputs": [],
   "source": [
    "# Example 14: prepare the results of word frequency on auto data as a list\n",
    "\n",
    "freq_word = []\n",
    "\n",
    "# two values or columns in fdist_a\n",
    "for k,v in list(fdist.items()):\n",
    "    freq_word.append([k,v])\n",
    "\n",
    "#make it like an Excel worksheet\n",
    "wordlist = pd.DataFrame(freq_word)\n",
    "\n",
    "wordlist"
   ]
  },
  {
   "cell_type": "code",
   "execution_count": null,
   "metadata": {},
   "outputs": [],
   "source": [
    "# Example 15: rename column names\n",
    "\n",
    "#http://pandas.pydata.org/pandas-docs/stable/generated/pandas.DataFrame.rename.html\n",
    "wordlist = wordlist.rename(columns={0: 'word', 1: 'freq'})\n",
    "wordlist"
   ]
  },
  {
   "cell_type": "code",
   "execution_count": null,
   "metadata": {},
   "outputs": [],
   "source": [
    "# Example 16: You can create a csv file for further analysis using PowerBI, Excel, etc.\n",
    "\n",
    "# http://pandas.pydata.org/pandas-docs/stable/generated/pandas.DataFrame.to_csv.html\n",
    "\n",
    "wordlist.to_csv('data/output_wordlist.csv')"
   ]
  },
  {
   "cell_type": "markdown",
   "metadata": {},
   "source": [
    "You can perform further descriptive analysis using Tableau, PowerBI, Excel, and Python."
   ]
  },
  {
   "cell_type": "markdown",
   "metadata": {},
   "source": [
    "# Appendix 2"
   ]
  },
  {
   "cell_type": "code",
   "execution_count": null,
   "metadata": {},
   "outputs": [],
   "source": [
    "# Example 17: Data Analysis of a single document\n",
    "review = []\n",
    "openfile = open('data/sampledata_wordfrequency.csv', 'r')\n",
    "# openfile = open('data/sampledata_wordfrequency.csv', 'r', encoding = \"ISO-8859-1\")\n",
    "r = csv.reader(openfile)\n",
    "for i in r:\n",
    "# get the first column only (ignoring the second column)\n",
    "    review.append(i)    \n",
    "openfile.close()"
   ]
  },
  {
   "cell_type": "code",
   "execution_count": null,
   "metadata": {},
   "outputs": [],
   "source": [
    "# Example 18: currently the data are in list ... convert to string. \n",
    "# even though there are 10 customer reviews, we will treat it as a single large document\n",
    "tokens = str(review)\n",
    "tokens"
   ]
  },
  {
   "cell_type": "code",
   "execution_count": null,
   "metadata": {},
   "outputs": [],
   "source": [
    "# Example 19: lowecases for content analytics ... we assume, for example, LOVE is sames love \n",
    "tokens = tokens.lower()\n",
    "tokens"
   ]
  },
  {
   "cell_type": "code",
   "execution_count": null,
   "metadata": {},
   "outputs": [],
   "source": [
    "# Example 20: the dataset contains useless characters and numbers\n",
    "# Remove useless numbers and alphanumerical words\n",
    "# use regular expression ... a-zA-Z0-9 refers to all English characters (lowercase & uppercase) and numbers\n",
    "# ^a-zA-Z0-9 is opposite of a-zA-Z0-9\n",
    "tokens = re.sub(\"[^a-zA-Z0-9]\", \" \", tokens)\n",
    "tokens"
   ]
  },
  {
   "cell_type": "code",
   "execution_count": null,
   "metadata": {},
   "outputs": [],
   "source": [
    "# Example 21: tokenization or word split\n",
    "tokens = word_tokenize(tokens)\n",
    "print(tokens)"
   ]
  },
  {
   "cell_type": "code",
   "execution_count": null,
   "metadata": {},
   "outputs": [],
   "source": [
    "# Example 22: stopwords are common words (e.g., this, that, of, for), which are not meaningful in analysis\n",
    "# NLTK offers a list of stopwords we can use in our analysis\n",
    "print(stopwords.words('english'))"
   ]
  },
  {
   "cell_type": "code",
   "execution_count": null,
   "metadata": {},
   "outputs": [],
   "source": [
    "# Example 23: remove stopwords \n",
    "# stopwords are common words (e.g., this, that, of, for), which are not meaningful in analysis\n",
    "for i in tokens:\n",
    "    # collect those words, which are not in the stopword list\n",
    "    if i not in stopwords.words('english'):\n",
    "        print(i)"
   ]
  },
  {
   "cell_type": "code",
   "execution_count": null,
   "metadata": {},
   "outputs": [],
   "source": [
    "# Example 24: save those meaningful words\n",
    "tokens = [ i for i in tokens if i not in stopwords.words('english')]"
   ]
  },
  {
   "cell_type": "code",
   "execution_count": null,
   "metadata": {},
   "outputs": [],
   "source": [
    "# Example 25: sometimes you want to remove short words\n",
    "for i in tokens:\n",
    "    if len(i) >= 3:\n",
    "        print(i)"
   ]
  },
  {
   "cell_type": "code",
   "execution_count": null,
   "metadata": {},
   "outputs": [],
   "source": [
    "# Example 26: saving all the words more than 3 words\n",
    "tokens = [ i for i in tokens if len(i) >= 3 ]"
   ]
  },
  {
   "cell_type": "code",
   "execution_count": null,
   "metadata": {},
   "outputs": [],
   "source": [
    "# Example 27: Filter non-alphabetic tokens or words from corpus\n",
    "tokens = [ word for word in tokens if word.isalpha() ]"
   ]
  },
  {
   "cell_type": "code",
   "execution_count": null,
   "metadata": {},
   "outputs": [],
   "source": [
    "# Example 28: Print Tokens\n",
    "tokens"
   ]
  },
  {
   "cell_type": "code",
   "execution_count": null,
   "metadata": {},
   "outputs": [],
   "source": []
  }
 ],
 "metadata": {
  "hide_input": false,
  "kernelspec": {
   "display_name": "Python 3",
   "language": "python",
   "name": "python3"
  },
  "language_info": {
   "codemirror_mode": {
    "name": "ipython",
    "version": 3
   },
   "file_extension": ".py",
   "mimetype": "text/x-python",
   "name": "python",
   "nbconvert_exporter": "python",
   "pygments_lexer": "ipython3",
   "version": "3.8.0"
  },
  "toc": {
   "base_numbering": 1,
   "nav_menu": {},
   "number_sections": true,
   "sideBar": true,
   "skip_h1_title": false,
   "title_cell": "Table of Contents",
   "title_sidebar": "Contents",
   "toc_cell": true,
   "toc_position": {
    "height": "calc(100% - 180px)",
    "left": "10px",
    "top": "150px",
    "width": "252.797px"
   },
   "toc_section_display": true,
   "toc_window_display": false
  },
  "varInspector": {
   "cols": {
    "lenName": 16,
    "lenType": 16,
    "lenVar": 40
   },
   "kernels_config": {
    "python": {
     "delete_cmd_postfix": "",
     "delete_cmd_prefix": "del ",
     "library": "var_list.py",
     "varRefreshCmd": "print(var_dic_list())"
    },
    "r": {
     "delete_cmd_postfix": ") ",
     "delete_cmd_prefix": "rm(",
     "library": "var_list.r",
     "varRefreshCmd": "cat(var_dic_list()) "
    }
   },
   "types_to_exclude": [
    "module",
    "function",
    "builtin_function_or_method",
    "instance",
    "_Feature"
   ],
   "window_display": false
  }
 },
 "nbformat": 4,
 "nbformat_minor": 4
}
