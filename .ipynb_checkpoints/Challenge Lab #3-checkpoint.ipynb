{
 "cells": [
  {
   "cell_type": "markdown",
   "metadata": {},
   "source": [
    "#  Challenge Lab 3"
   ]
  },
  {
   "cell_type": "markdown",
   "metadata": {},
   "source": [
    "# IF STATEMENTS"
   ]
  },
  {
   "cell_type": "code",
   "execution_count": null,
   "metadata": {},
   "outputs": [],
   "source": [
    "# Example 1\n",
    "sentence = \"No Dogs Allowed in the Post Office!\"\n",
    "q = \"Dogs\"\n",
    " \n",
    "if q == sentence:\n",
    "    print('equal')      \n",
    "else:\n",
    "    print('not equal')"
   ]
  },
  {
   "cell_type": "code",
   "execution_count": null,
   "metadata": {},
   "outputs": [],
   "source": [
    "# Example 1a - Remvoving Part of String and Comparing\n",
    "sentence_length = len(sentence)\n",
    "new_sentence = sentence[3:sentence_length]\n",
    "if new_sentence == sentence:\n",
    "     print('No Dogs Still!')\n",
    "else: \n",
    "     print('Yes! My dog is welcome!')"
   ]
  },
  {
   "cell_type": "code",
   "execution_count": null,
   "metadata": {},
   "outputs": [],
   "source": [
    "# Example 1b\n",
    "new_sentence"
   ]
  },
  {
   "cell_type": "code",
   "execution_count": null,
   "metadata": {},
   "outputs": [],
   "source": [
    "# Example 2\n",
    "# Operator Relationship\n",
    "# <   less than\n",
    "# <=  less than or equal to\n",
    "# ==  equal to (note this is two \"=\" signs, not one)\n",
    "# !=  not equal to\n",
    "# >   greater than\n",
    "# >=  greater than or equal to\n",
    "\n",
    "# Note: = is used for assignment of values not comparisons in Python\n"
   ]
  },
  {
   "cell_type": "code",
   "execution_count": null,
   "metadata": {},
   "outputs": [],
   "source": [
    "word = 'Dogs'\n",
    "if len(word) < 5:\n",
    "    print('word length is less than 5')\n",
    "else:\n",
    "    print('word length is not less than 5')"
   ]
  },
  {
   "cell_type": "code",
   "execution_count": 1,
   "metadata": {},
   "outputs": [
    {
     "name": "stdout",
     "output_type": "stream",
     "text": [
      "Train\n"
     ]
    }
   ],
   "source": [
    "# Action 1 Required: Create an if statement testing the length of two different sentences\n",
    "# Display the longer sentence\n",
    "word1 = \"Cats\"\n",
    "word2 = \"Train\"\n",
    "\n",
    "if len(word1) > len(word2):\n",
    "    print(word1)\n",
    "else:\n",
    "    print(word2)"
   ]
  },
  {
   "cell_type": "code",
   "execution_count": 4,
   "metadata": {},
   "outputs": [
    {
     "name": "stdout",
     "output_type": "stream",
     "text": [
      "12\n"
     ]
    }
   ],
   "source": [
    "# Action 2 Required: Create an if statement testing two numbers\n",
    "# Display the higher number\n",
    "\n",
    "num1 = 12\n",
    "num2 = 8\n",
    "\n",
    "if num1 > num2:\n",
    "    print(num1)\n",
    "else:\n",
    "    print(num2)"
   ]
  },
  {
   "cell_type": "code",
   "execution_count": null,
   "metadata": {},
   "outputs": [],
   "source": [
    "# Example 3\n",
    "a = 10\n",
    "b = 20\n",
    "c = 30\n",
    "if (a + b) / c == 1 and c - b - a == 0:\n",
    "    print('yes')\n",
    "else:\n",
    "    print('no')"
   ]
  },
  {
   "cell_type": "code",
   "execution_count": null,
   "metadata": {},
   "outputs": [],
   "source": [
    "# Example 4\n",
    "a = 10\n",
    "b = 11\n",
    "c = 10\n",
    "if a == b:\n",
    "    print('first condition is true')\n",
    "elif a == c:\n",
    "    print('second condition is true')\n",
    "else:\n",
    "    print('nothing is true. Existence does not exist!')"
   ]
  },
  {
   "cell_type": "code",
   "execution_count": 10,
   "metadata": {},
   "outputs": [
    {
     "name": "stdout",
     "output_type": "stream",
     "text": [
      "2022-08-30 09:44:20.303694\n",
      "6 found!\n"
     ]
    }
   ],
   "source": [
    "# Action 3 Required: Create an if-elif-else statement that checks if the current time contains a '4' or '6' in it. \n",
    "# Your statement should use multiple elifs to indicate if '4' or '6' are in the string. \n",
    "# If none are contained, then provide a message that indicates neither character is found.\n",
    "# hint 0: you may need to import the datetime libraries like this: from dateime import datetime\n",
    "# hint 1: you can grab the date and time from Python like this: mytime = str(datetime.now())\n",
    "# hint 2: you can find values in a string the 'find' method\n",
    "# You can change to two different numbers if the '4' and '6' are not meaningful in the current timeframe.\n",
    "import datetime\n",
    "\n",
    "current_time = str(datetime.datetime.now())\n",
    "print(current_time)\n",
    "\n",
    "if current_time.find(\"6\"):\n",
    "    print(\"6 found!\")\n",
    "elif current_time.find(\"4\"):\n",
    "    print(\"4 found\")\n",
    "else:\n",
    "    print(\"This string does not contain 4 or 6\")\n",
    "    "
   ]
  },
  {
   "cell_type": "markdown",
   "metadata": {},
   "source": [
    "# LOOPS"
   ]
  },
  {
   "cell_type": "code",
   "execution_count": null,
   "metadata": {},
   "outputs": [],
   "source": [
    "# Example 5\n",
    "dog = ['Freddie', 9, True, 1.1, 2001, ['bone', 'little ball']]\n",
    "for i in dog:\n",
    "    print(i)"
   ]
  },
  {
   "cell_type": "code",
   "execution_count": null,
   "metadata": {},
   "outputs": [],
   "source": [
    "# Example 6\n",
    "numbers = [1, 5, 12, 91, 102]\n",
    "for i in numbers:\n",
    "    print(i * i)"
   ]
  },
  {
   "cell_type": "code",
   "execution_count": null,
   "metadata": {},
   "outputs": [],
   "source": [
    "# Example 7\n",
    "my_list = \"Hello World!\"\n",
    "for i in my_list:\n",
    "    print(i)"
   ]
  },
  {
   "cell_type": "code",
   "execution_count": 11,
   "metadata": {},
   "outputs": [
    {
     "name": "stdout",
     "output_type": "stream",
     "text": [
      "I\n",
      "really\n",
      "hope\n",
      "our\n",
      "new\n",
      "football\n",
      "coach\n",
      "does\n",
      "well\n",
      "this\n",
      "year\n",
      "!\n"
     ]
    }
   ],
   "source": [
    "# Action 4 Required: Create a loop to print each item on a separate line\n",
    "# ['I', 'really', 'hope', 'our', 'new', 'football', 'coach', 'does', 'well', 'this', 'year', '!']\n",
    "\n",
    "my_list = ['I', 'really', 'hope', 'our', 'new', 'football', 'coach', 'does', 'well', 'this', 'year', '!']\n",
    "\n",
    "for elem in my_list:\n",
    "    print(elem)"
   ]
  },
  {
   "cell_type": "code",
   "execution_count": 37,
   "metadata": {},
   "outputs": [
    {
     "name": "stdout",
     "output_type": "stream",
     "text": [
      "The title How I Met Your Mother is 21 characters long.\n",
      "The title Friends is 7 characters long.\n",
      "The title Silicon Valley is 14 characters long.\n",
      "The title Family Guy is 10 characters long.\n",
      "The title South Park is 10 characters long.\n",
      "The title Rick and Morty is 14 characters long.\n",
      "The title Breaking Bad is 12 characters long.\n",
      "The title Game of Thrones is 15 characters long.\n",
      "The title The Wire is 8 characters long.\n"
     ]
    },
    {
     "data": {
      "text/plain": [
       "list"
      ]
     },
     "execution_count": 37,
     "metadata": {},
     "output_type": "execute_result"
    }
   ],
   "source": [
    "# Example 8\n",
    "my_movies = [['How I Met Your Mother', 'Friends', 'Silicon Valley'],\n",
    "['Family Guy', 'South Park', 'Rick and Morty'],\n",
    "['Breaking Bad', 'Game of Thrones', 'The Wire']]\n",
    "for sublist in my_movies:\n",
    "    for movie_name in sublist:\n",
    "        char_num = len(movie_name)\n",
    "        print(\"The title \" + movie_name + \" is \" + str(char_num) + \" characters long.\")"
   ]
  },
  {
   "cell_type": "code",
   "execution_count": 38,
   "metadata": {},
   "outputs": [
    {
     "name": "stdout",
     "output_type": "stream",
     "text": [
      "0 fizzbuzz\n",
      "1 -\n",
      "2 -\n",
      "3 fizz\n",
      "4 -\n",
      "5 buzz\n",
      "6 fizz\n",
      "7 -\n",
      "8 -\n",
      "9 fizz\n",
      "10 buzz\n",
      "11 -\n",
      "12 fizz\n",
      "13 -\n",
      "14 -\n",
      "15 fizzbuzz\n",
      "16 -\n",
      "17 -\n",
      "18 fizz\n",
      "19 -\n",
      "20 buzz\n",
      "21 fizz\n",
      "22 -\n",
      "23 -\n",
      "24 fizz\n",
      "25 buzz\n",
      "26 -\n",
      "27 fizz\n",
      "28 -\n",
      "29 -\n",
      "30 fizzbuzz\n",
      "31 -\n",
      "32 -\n",
      "33 fizz\n",
      "34 -\n",
      "35 buzz\n",
      "36 fizz\n",
      "37 -\n",
      "38 -\n",
      "39 fizz\n",
      "40 buzz\n",
      "41 -\n",
      "42 fizz\n",
      "43 -\n",
      "44 -\n",
      "45 fizzbuzz\n",
      "46 -\n",
      "47 -\n",
      "48 fizz\n",
      "49 -\n",
      "50 buzz\n",
      "51 fizz\n",
      "52 -\n",
      "53 -\n",
      "54 fizz\n",
      "55 buzz\n",
      "56 -\n",
      "57 fizz\n",
      "58 -\n",
      "59 -\n",
      "60 fizzbuzz\n",
      "61 -\n",
      "62 -\n",
      "63 fizz\n",
      "64 -\n",
      "65 buzz\n",
      "66 fizz\n",
      "67 -\n",
      "68 -\n",
      "69 fizz\n",
      "70 buzz\n",
      "71 -\n",
      "72 fizz\n",
      "73 -\n",
      "74 -\n",
      "75 fizzbuzz\n",
      "76 -\n",
      "77 -\n",
      "78 fizz\n",
      "79 -\n",
      "80 buzz\n",
      "81 fizz\n",
      "82 -\n",
      "83 -\n",
      "84 fizz\n",
      "85 buzz\n",
      "86 -\n",
      "87 fizz\n",
      "88 -\n",
      "89 -\n",
      "90 fizzbuzz\n",
      "91 -\n",
      "92 -\n",
      "93 fizz\n",
      "94 -\n",
      "95 buzz\n",
      "96 fizz\n",
      "97 -\n",
      "98 -\n",
      "99 fizz\n"
     ]
    }
   ],
   "source": [
    "# Example 9\n",
    "for i in range(100):\n",
    "    if i % 3 == 0 and i % 5 == 0:\n",
    "        print(i,'fizzbuzz')\n",
    "    elif i % 3 == 0:\n",
    "        print(i, 'fizz')\n",
    "    elif i % 5 == 0:\n",
    "        print(i, 'buzz')\n",
    "    else:\n",
    "        print(i, '-')"
   ]
  },
  {
   "cell_type": "code",
   "execution_count": null,
   "metadata": {},
   "outputs": [],
   "source": [
    "# Example 10\n",
    "down = 0\n",
    "up = 100\n",
    "for i in range(1,10):\n",
    "    guessed_age = int((up + down) / 2)\n",
    "    answer = input('Are you ' + str(guessed_age) + \" years old?\")\n",
    "    if answer == 'correct':\n",
    "        print(\"Nice\")\n",
    "        break\n",
    "    elif answer == 'less':\n",
    "        up = guessed_age\n",
    "    elif answer == 'more':\n",
    "        down = guessed_age\n",
    "    else:\n",
    "        print('wrong answer')"
   ]
  },
  {
   "cell_type": "code",
   "execution_count": null,
   "metadata": {},
   "outputs": [],
   "source": [
    "# Example 10a\n",
    "for x in \"banana\":\n",
    "  print(x)"
   ]
  },
  {
   "cell_type": "code",
   "execution_count": null,
   "metadata": {},
   "outputs": [],
   "source": [
    "# Example 10b\n",
    "fruits = [\"apple\", \"banana\", \"cherry\"]\n",
    "for x in fruits:\n",
    "  print(x)\n",
    "  if x == \"banana\":\n",
    "    for y in x:\n",
    "        print (y)"
   ]
  },
  {
   "cell_type": "markdown",
   "metadata": {},
   "source": [
    "# LISTS"
   ]
  },
  {
   "cell_type": "code",
   "execution_count": 2,
   "metadata": {},
   "outputs": [
    {
     "name": "stdout",
     "output_type": "stream",
     "text": [
      "[('I love this sandwich.', 'pos'), ('this is an amazing place!', 'pos'), ('I feel very good about these beers.', 'pos'), ('this is my best work.', 'pos'), ('what an awesome view', 'pos'), ('I do not like this restaurant', 'neg'), ('I am tired of this stuff.', 'neg'), (\"I can't deal with this\", 'neg'), ('he is my sworn enemy!', 'neg'), ('my boss is horrible.', 'neg')]\n"
     ]
    }
   ],
   "source": [
    "# Example 11\n",
    "# This is a list of data in two columns. The first column or index contains resturant reviews\n",
    "# The second column or index says whether it is positive or negative\n",
    "train = [\n",
    "     ('I love this sandwich.', 'pos'),\n",
    "     ('this is an amazing place!', 'pos'),\n",
    "     ('I feel very good about these beers.', 'pos'),\n",
    "     ('this is my best work.', 'pos'),\n",
    "     (\"what an awesome view\", 'pos'),\n",
    "     ('I do not like this restaurant', 'neg'),\n",
    "     ('I am tired of this stuff.', 'neg'),\n",
    "     (\"I can't deal with this\", 'neg'),\n",
    "     ('he is my sworn enemy!', 'neg'),\n",
    "     ('my boss is horrible.', 'neg')\n",
    "    ]\n",
    "\n",
    "print(train)"
   ]
  },
  {
   "cell_type": "code",
   "execution_count": 3,
   "metadata": {},
   "outputs": [
    {
     "name": "stdout",
     "output_type": "stream",
     "text": [
      "('I love this sandwich.', 'pos')\n",
      "('this is an amazing place!', 'pos')\n",
      "('I feel very good about these beers.', 'pos')\n",
      "('this is my best work.', 'pos')\n",
      "('what an awesome view', 'pos')\n",
      "('I do not like this restaurant', 'neg')\n",
      "('I am tired of this stuff.', 'neg')\n",
      "(\"I can't deal with this\", 'neg')\n",
      "('he is my sworn enemy!', 'neg')\n",
      "('my boss is horrible.', 'neg')\n"
     ]
    }
   ],
   "source": [
    "# Example 12 Looping\n",
    "for i in train:\n",
    "    print(i)"
   ]
  },
  {
   "cell_type": "code",
   "execution_count": 4,
   "metadata": {},
   "outputs": [
    {
     "name": "stdout",
     "output_type": "stream",
     "text": [
      "I love this sandwich.\n",
      "this is an amazing place!\n",
      "I feel very good about these beers.\n",
      "this is my best work.\n",
      "what an awesome view\n",
      "I do not like this restaurant\n",
      "I am tired of this stuff.\n",
      "I can't deal with this\n",
      "he is my sworn enemy!\n",
      "my boss is horrible.\n"
     ]
    }
   ],
   "source": [
    "# Example 13 First Column\n",
    "for i in train:\n",
    "    print(i[0])                 # i[0] refers to the data in the first column"
   ]
  },
  {
   "cell_type": "code",
   "execution_count": 5,
   "metadata": {},
   "outputs": [
    {
     "name": "stdout",
     "output_type": "stream",
     "text": [
      "pos\n",
      "pos\n",
      "pos\n",
      "pos\n",
      "pos\n",
      "neg\n",
      "neg\n",
      "neg\n",
      "neg\n",
      "neg\n"
     ]
    }
   ],
   "source": [
    "# Example 14 Second Column\n",
    "for i in train:\n",
    "    print(i[1])      # i[1] refers to the data in the second column"
   ]
  },
  {
   "cell_type": "code",
   "execution_count": 6,
   "metadata": {},
   "outputs": [
    {
     "name": "stdout",
     "output_type": "stream",
     "text": [
      "I love this sandwich. pos\n",
      "this is an amazing place! pos\n",
      "I feel very good about these beers. pos\n",
      "this is my best work. pos\n",
      "what an awesome view pos\n",
      "I do not like this restaurant neg\n",
      "I am tired of this stuff. neg\n",
      "I can't deal with this neg\n",
      "he is my sworn enemy! neg\n",
      "my boss is horrible. neg\n"
     ]
    }
   ],
   "source": [
    "# Example 15 Both Columns Output\n",
    "for i in train:\n",
    "    print(i[0], i[1])"
   ]
  },
  {
   "cell_type": "code",
   "execution_count": 7,
   "metadata": {},
   "outputs": [
    {
     "name": "stdout",
     "output_type": "stream",
     "text": [
      "['I love this sandwich.', 'this is an amazing place!', 'I feel very good about these beers.', 'this is my best work.', 'what an awesome view', 'I do not like this restaurant', 'I am tired of this stuff.', \"I can't deal with this\", 'he is my sworn enemy!', 'my boss is horrible.']\n"
     ]
    },
    {
     "data": {
      "text/plain": [
       "['I love this sandwich.',\n",
       " 'this is an amazing place!',\n",
       " 'I feel very good about these beers.',\n",
       " 'this is my best work.',\n",
       " 'what an awesome view',\n",
       " 'I do not like this restaurant',\n",
       " 'I am tired of this stuff.',\n",
       " \"I can't deal with this\",\n",
       " 'he is my sworn enemy!',\n",
       " 'my boss is horrible.']"
      ]
     },
     "execution_count": 7,
     "metadata": {},
     "output_type": "execute_result"
    }
   ],
   "source": [
    "# Example 16: Saving the first column's data using a variable (review)\n",
    "review = [i[0] for i in train]\n",
    "print (review)\n",
    "review"
   ]
  },
  {
   "cell_type": "code",
   "execution_count": null,
   "metadata": {},
   "outputs": [],
   "source": [
    "# Example 17: Saving the second column's data using a variable (rating)\n",
    "rating = [i[1] for i in train]\n",
    "rating"
   ]
  },
  {
   "cell_type": "code",
   "execution_count": null,
   "metadata": {},
   "outputs": [],
   "source": [
    "# Example 18: Concatenate review and rating and save the data using a variable (customer_review)\n",
    "customer_review = list(zip(review, rating))\n",
    "customer_review"
   ]
  },
  {
   "cell_type": "code",
   "execution_count": null,
   "metadata": {},
   "outputs": [],
   "source": [
    "# Example 19: Print everything from the second row onward\n",
    "customer_review[1:]"
   ]
  },
  {
   "cell_type": "code",
   "execution_count": null,
   "metadata": {},
   "outputs": [],
   "source": [
    "# Example 20: Determine how many rows in the data (customer_review)\n",
    "len(customer_review)"
   ]
  },
  {
   "cell_type": "code",
   "execution_count": null,
   "metadata": {},
   "outputs": [],
   "source": [
    "# Example 21: Adding a new review (it is not yet part of the data set)\n",
    "review11 = [('the food is great.', 'pos')]"
   ]
  },
  {
   "cell_type": "code",
   "execution_count": null,
   "metadata": {},
   "outputs": [],
   "source": [
    "# Example 22: Append the review to the data set and checking length\n",
    "customer_review_updated = customer_review + review11\n",
    "customer_review_updated\n",
    "len(customer_review_updated)"
   ]
  },
  {
   "cell_type": "code",
   "execution_count": 9,
   "metadata": {},
   "outputs": [
    {
     "name": "stdout",
     "output_type": "stream",
     "text": [
      "('the beer was good.', 'pos')\n",
      "('the hangover was painful', 'neg')\n",
      "(\"I ain't feeling dandy today.\", 'neg')\n",
      "('I feel amazing since I ate 2 potatoes!', 'pos')\n",
      "('I befriended a hobo and just love him!', 'pos')\n",
      "(\"I haven't showered in months.\", 'neg')\n"
     ]
    }
   ],
   "source": [
    "# Action 4a Required: Use a loop to print all the data in the set below\n",
    "mydata = [\n",
    "    ('the beer was good.', 'pos'),\n",
    "     ('the hangover was painful', 'neg'),\n",
    "     (\"I ain't feeling dandy today.\", 'neg'),\n",
    "     (\"I feel amazing since I ate 2 potatoes!\", 'pos'),\n",
    "     ('I befriended a hobo and just love him!', 'pos'),\n",
    "     (\"I haven't showered in months.\", 'neg')\n",
    " ]\n",
    "\n",
    "for elem in mydata:\n",
    "    print(elem)"
   ]
  },
  {
   "cell_type": "code",
   "execution_count": 12,
   "metadata": {},
   "outputs": [
    {
     "name": "stdout",
     "output_type": "stream",
     "text": [
      "['the beer was good.', 'the hangover was painful', \"I ain't feeling dandy today.\", 'I feel amazing since I ate 2 potatoes!', 'I befriended a hobo and just love him!', \"I haven't showered in months.\"]\n",
      "the beer was good.\n",
      "the hangover was painful\n",
      "I ain't feeling dandy today.\n",
      "I feel amazing since I ate 2 potatoes!\n",
      "I befriended a hobo and just love him!\n",
      "I haven't showered in months.\n"
     ]
    }
   ],
   "source": [
    "# Action 5 Required: Print the first column only\n",
    "first = [elem[0] for elem in mydata]\n",
    "print(first)\n",
    "for elem in mydata:\n",
    "    print(elem[0])"
   ]
  },
  {
   "cell_type": "code",
   "execution_count": 14,
   "metadata": {},
   "outputs": [
    {
     "name": "stdout",
     "output_type": "stream",
     "text": [
      "['pos', 'neg', 'neg', 'pos', 'pos', 'neg']\n",
      "pos\n",
      "neg\n",
      "neg\n",
      "pos\n",
      "pos\n",
      "neg\n"
     ]
    }
   ],
   "source": [
    "# Action 6 Required: Print the second column only\n",
    "second = [elem[1] for elem in mydata]\n",
    "print(second)\n",
    "for elem in mydata:\n",
    "    print(elem[1])"
   ]
  },
  {
   "cell_type": "code",
   "execution_count": 25,
   "metadata": {},
   "outputs": [
    {
     "name": "stdout",
     "output_type": "stream",
     "text": [
      "6\n"
     ]
    }
   ],
   "source": [
    "# Action 7 Required: Print the data set count\n",
    "print(len(mydata))"
   ]
  },
  {
   "cell_type": "markdown",
   "metadata": {},
   "source": [
    "# DICTIONARIES WITH LOOPS"
   ]
  },
  {
   "cell_type": "code",
   "execution_count": 27,
   "metadata": {},
   "outputs": [
    {
     "name": "stdout",
     "output_type": "stream",
     "text": [
      "[{'text': 'I love liverwurst.', 'sentiment': 'pos'}, {'text': 'The liverwurst processing plant is amazing!', 'sentiment': 'pos'}, {'text': 'Aunty ruined the liverwurst by slathering it with sriracha', 'sentiment': 'neg'}]\n"
     ]
    }
   ],
   "source": [
    "# Example 23: Creating and printing a dictionary\n",
    "\n",
    "mydata = [\n",
    "    {\"text\": \"I love liverwurst.\", \"sentiment\": \"pos\"},\n",
    "    {\"text\": \"The liverwurst processing plant is amazing!\", \"sentiment\": \"pos\"},\n",
    "    {\"text\": \"Aunty ruined the liverwurst by slathering it with sriracha\", \"sentiment\": \"neg\"}\n",
    "]\n",
    "print (mydata)\n",
    "\n",
    "#text, sentiment are like column names"
   ]
  },
  {
   "cell_type": "code",
   "execution_count": 28,
   "metadata": {},
   "outputs": [
    {
     "name": "stdout",
     "output_type": "stream",
     "text": [
      "pos\n",
      "pos\n",
      "neg\n"
     ]
    }
   ],
   "source": [
    "# Example 24: Printing all sentiments\n",
    "for i in mydata:\n",
    "    print(i['sentiment'])"
   ]
  },
  {
   "cell_type": "code",
   "execution_count": 29,
   "metadata": {},
   "outputs": [
    {
     "name": "stdout",
     "output_type": "stream",
     "text": [
      "I love liverwurst.\n",
      "The liverwurst processing plant is amazing!\n",
      "Aunty ruined the liverwurst by slathering it with sriracha\n"
     ]
    }
   ],
   "source": [
    "# Example 25: Printing all texts\n",
    "for i in mydata:\n",
    "    print(i['text'])"
   ]
  },
  {
   "cell_type": "code",
   "execution_count": 30,
   "metadata": {},
   "outputs": [
    {
     "name": "stdout",
     "output_type": "stream",
     "text": [
      "pos I love liverwurst.\n",
      "pos The liverwurst processing plant is amazing!\n",
      "neg Aunty ruined the liverwurst by slathering it with sriracha\n"
     ]
    }
   ],
   "source": [
    "# Example 26: Printing both text and sentiment in reverse order\n",
    "for i in mydata:\n",
    "    print(i['sentiment'], i['text'])"
   ]
  },
  {
   "cell_type": "code",
   "execution_count": 31,
   "metadata": {},
   "outputs": [
    {
     "data": {
      "text/plain": [
       "['I love liverwurst.',\n",
       " 'The liverwurst processing plant is amazing!',\n",
       " 'Aunty ruined the liverwurst by slathering it with sriracha']"
      ]
     },
     "execution_count": 31,
     "metadata": {},
     "output_type": "execute_result"
    }
   ],
   "source": [
    "# Example 27: Creating and printing a variable for the texts, called text\n",
    "text = [i['text'] for i in mydata]\n",
    "text"
   ]
  },
  {
   "cell_type": "code",
   "execution_count": 34,
   "metadata": {},
   "outputs": [
    {
     "data": {
      "text/plain": [
       "['pos', 'pos', 'neg']"
      ]
     },
     "execution_count": 34,
     "metadata": {},
     "output_type": "execute_result"
    }
   ],
   "source": [
    "# Example 28: Creating and printing a variable for the sentiments, called sentiment\n",
    "sentiment = [i['sentiment'] for i in mydata]\n",
    "sentiment"
   ]
  },
  {
   "cell_type": "code",
   "execution_count": 35,
   "metadata": {},
   "outputs": [
    {
     "data": {
      "text/plain": [
       "[('pos', 'I love liverwurst.'),\n",
       " ('pos', 'The liverwurst processing plant is amazing!'),\n",
       " ('neg', 'Aunty ruined the liverwurst by slathering it with sriracha')]"
      ]
     },
     "execution_count": 35,
     "metadata": {},
     "output_type": "execute_result"
    }
   ],
   "source": [
    "# Example 29: Creating a final variable with Sentiment followed by text\n",
    "finaldata = list(zip(sentiment, text))\n",
    "finaldata"
   ]
  },
  {
   "cell_type": "code",
   "execution_count": 26,
   "metadata": {},
   "outputs": [
    {
     "name": "stdout",
     "output_type": "stream",
     "text": [
      "1001 Poodle\n",
      "1002 Pitbull\n",
      "1003 Morkie\n",
      "1004 Pug\n",
      "5002 Bulldog\n",
      "5005 Boston Terrier\n",
      "5007 Chihuahua\n",
      "5006 Owl Hound\n",
      "5003 Shih Tzu\n",
      "5004 Dash Hound\n"
     ]
    }
   ],
   "source": [
    "# Action 8 Required: Printing elements of a dictionary. Use the following data to print ID and Type\n",
    "data = [\n",
    "        { \"id\": \"1001\", \"type\": \"Poodle\" },\n",
    "        { \"id\": \"1002\", \"type\": \"Pitbull\" },\n",
    "        { \"id\": \"1003\", \"type\": \"Morkie\" },\n",
    "        { \"id\": \"1004\", \"type\": \"Pug\" },\n",
    "        { \"id\": \"5002\", \"type\": \"Bulldog\" },\n",
    "        { \"id\": \"5005\", \"type\": \"Boston Terrier\" },\n",
    "        { \"id\": \"5007\", \"type\": \"Chihuahua\" },\n",
    "        { \"id\": \"5006\", \"type\": \"Owl Hound\" },\n",
    "        { \"id\": \"5003\", \"type\": \"Shih Tzu\" },\n",
    "        { \"id\": \"5004\", \"type\": \"Dash Hound\" }\n",
    "        ]\n",
    "\n",
    "for elem in data:\n",
    "    print(elem[\"id\"], elem[\"type\"])"
   ]
  },
  {
   "cell_type": "code",
   "execution_count": 32,
   "metadata": {},
   "outputs": [
    {
     "name": "stdout",
     "output_type": "stream",
     "text": [
      "['1001', '1002', '1003', '1004', '5002', '5005', '5007', '5006', '5003', '5004']\n"
     ]
    }
   ],
   "source": [
    "# Action 9: Save id using a new variable\n",
    "id = [elem[\"id\"] for elem in data]\n",
    "print(id)"
   ]
  },
  {
   "cell_type": "code",
   "execution_count": 33,
   "metadata": {},
   "outputs": [
    {
     "name": "stdout",
     "output_type": "stream",
     "text": [
      "['Poodle', 'Pitbull', 'Morkie', 'Pug', 'Bulldog', 'Boston Terrier', 'Chihuahua', 'Owl Hound', 'Shih Tzu', 'Dash Hound']\n"
     ]
    }
   ],
   "source": [
    "# Action 10: Save type using another new variable\n",
    "type_dic = [elem[\"type\"] for elem in data]\n",
    "print(type_dic)"
   ]
  },
  {
   "cell_type": "code",
   "execution_count": 36,
   "metadata": {},
   "outputs": [
    {
     "name": "stdout",
     "output_type": "stream",
     "text": [
      "[('1001', 'Poodle'), ('1002', 'Pitbull'), ('1003', 'Morkie'), ('1004', 'Pug'), ('5002', 'Bulldog'), ('5005', 'Boston Terrier'), ('5007', 'Chihuahua'), ('5006', 'Owl Hound'), ('5003', 'Shih Tzu'), ('5004', 'Dash Hound')]\n"
     ]
    }
   ],
   "source": [
    "# Action 11: Combine values from new id and type variables\n",
    "# display the outcome\n",
    "\n",
    "finaldata = list(zip(id, type_dic))\n",
    "print(finaldata)"
   ]
  },
  {
   "cell_type": "markdown",
   "metadata": {},
   "source": [
    "# CONVERTING LISTS TO STRINGS"
   ]
  },
  {
   "cell_type": "code",
   "execution_count": null,
   "metadata": {},
   "outputs": [],
   "source": [
    "# Example 30: Data in List\n",
    "tokens = ['After', 'all', 'is', 'said', 'and', 'done', 'more', 'is', 'said', 'than', 'done']\n",
    "print(tokens)\n",
    "len(tokens)\n"
   ]
  },
  {
   "cell_type": "code",
   "execution_count": null,
   "metadata": {},
   "outputs": [],
   "source": [
    "# Example 31: Modifying List to String\n",
    "tokens_modified = str(tokens)\n",
    "print(tokens_modified)\n",
    "len(tokens_modified)"
   ]
  },
  {
   "cell_type": "code",
   "execution_count": null,
   "metadata": {},
   "outputs": [],
   "source": [
    "#Example 31a: Position 0 in tokens\n",
    "tokens[0]"
   ]
  },
  {
   "cell_type": "code",
   "execution_count": null,
   "metadata": {},
   "outputs": [],
   "source": [
    "#Example 31b: Position 0 in tokens_modified\n",
    "tokens_modified[0]"
   ]
  },
  {
   "cell_type": "markdown",
   "metadata": {},
   "source": [
    "# SINGLE VERSUS DOUBLE QUOTES IN PYTHON"
   ]
  },
  {
   "cell_type": "code",
   "execution_count": null,
   "metadata": {},
   "outputs": [],
   "source": [
    "# Example 32: As far as Python syntax is concerned, there is no difference in single or double \n",
    "# quoted strings. Both representations can be used interchangeably. However, if either single \n",
    "# or double quote is a part of the string itself, then the string must be placed in double or \n",
    "# single quotes respectively.\n",
    "mystring1=' Hello \"Python\"'\n",
    "mystring2=\"Hello 'Python'\"\n",
    "print(mystring1, \"\\n\\r\", mystring2)"
   ]
  }
 ],
 "metadata": {
  "kernelspec": {
   "display_name": "Python 3",
   "language": "python",
   "name": "python3"
  },
  "language_info": {
   "codemirror_mode": {
    "name": "ipython",
    "version": 3
   },
   "file_extension": ".py",
   "mimetype": "text/x-python",
   "name": "python",
   "nbconvert_exporter": "python",
   "pygments_lexer": "ipython3",
   "version": "3.8.0"
  }
 },
 "nbformat": 4,
 "nbformat_minor": 4
}
