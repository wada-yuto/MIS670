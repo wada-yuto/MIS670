{
 "cells": [
  {
   "cell_type": "markdown",
   "id": "b5f35d5a",
   "metadata": {},
   "source": [
    "# Twitter data wrangling\n",
    "\n",
    "“Data wrangling—also called data cleaning, data remediation, or data munging—refers to a variety of processes designed to transform raw data into more readily used formats. The exact methods differ from project to project depending on the data you’re leveraging and the goal you’re trying to achieve.”\n",
    "\n",
    "                                                    -- Harvard Business Review\n",
    "\n",
    "Source: https://online.hbs.edu/blog/post/data-wrangling "
   ]
  },
  {
   "cell_type": "markdown",
   "id": "d7462dec",
   "metadata": {},
   "source": [
    "# 1. Get the basic information"
   ]
  },
  {
   "cell_type": "code",
   "execution_count": 5,
   "id": "a184a7ae",
   "metadata": {},
   "outputs": [],
   "source": [
    "import pandas as pd"
   ]
  },
  {
   "cell_type": "code",
   "execution_count": 6,
   "id": "06652237",
   "metadata": {},
   "outputs": [
    {
     "data": {
      "text/html": [
       "<div>\n",
       "<style scoped>\n",
       "    .dataframe tbody tr th:only-of-type {\n",
       "        vertical-align: middle;\n",
       "    }\n",
       "\n",
       "    .dataframe tbody tr th {\n",
       "        vertical-align: top;\n",
       "    }\n",
       "\n",
       "    .dataframe thead th {\n",
       "        text-align: right;\n",
       "    }\n",
       "</style>\n",
       "<table border=\"1\" class=\"dataframe\">\n",
       "  <thead>\n",
       "    <tr style=\"text-align: right;\">\n",
       "      <th></th>\n",
       "      <th>userName</th>\n",
       "      <th>screenName</th>\n",
       "      <th>userID</th>\n",
       "      <th>userLocation</th>\n",
       "      <th>user_descrip</th>\n",
       "      <th>user_url</th>\n",
       "      <th>followers</th>\n",
       "      <th>friends</th>\n",
       "      <th>user_ctime</th>\n",
       "      <th>source</th>\n",
       "      <th>post_time</th>\n",
       "      <th>tweet_id</th>\n",
       "      <th>tweet_text</th>\n",
       "      <th>favorite_count</th>\n",
       "      <th>retweet_count</th>\n",
       "    </tr>\n",
       "  </thead>\n",
       "  <tbody>\n",
       "    <tr>\n",
       "      <th>0</th>\n",
       "      <td>Convenience Store News.</td>\n",
       "      <td>CStoreNews_</td>\n",
       "      <td>156666863</td>\n",
       "      <td>ORD</td>\n",
       "      <td>Top Convenience Retail Influencer Millions of ...</td>\n",
       "      <td>NaN</td>\n",
       "      <td>43224</td>\n",
       "      <td>47652</td>\n",
       "      <td>2010-06-17 15:20:29+00:00</td>\n",
       "      <td>Twitter for iPhone</td>\n",
       "      <td>2022-09-26 23:59:59+00:00</td>\n",
       "      <td>1574549376025755648</td>\n",
       "      <td>Get lost Hurricane Ian https://t.co/xsY8JlKe8h</td>\n",
       "      <td>3</td>\n",
       "      <td>0</td>\n",
       "    </tr>\n",
       "    <tr>\n",
       "      <th>1</th>\n",
       "      <td>Andrea Smith 🌊🐝🐶🐱🌱💙</td>\n",
       "      <td>dogparkgal</td>\n",
       "      <td>1509146276461531137</td>\n",
       "      <td>Florida, USA</td>\n",
       "      <td>Starting over after a hack. Was @dogparkgoddes...</td>\n",
       "      <td>NaN</td>\n",
       "      <td>2456</td>\n",
       "      <td>3467</td>\n",
       "      <td>2022-03-30 12:31:39+00:00</td>\n",
       "      <td>Twitter for Android</td>\n",
       "      <td>2022-09-26 23:59:58+00:00</td>\n",
       "      <td>1574549371961544704</td>\n",
       "      <td>@SunnyPete6760 Wish us well during Hurricane I...</td>\n",
       "      <td>0</td>\n",
       "      <td>0</td>\n",
       "    </tr>\n",
       "    <tr>\n",
       "      <th>2</th>\n",
       "      <td>Sicilian-ShaSha 🇺🇸</td>\n",
       "      <td>shash1960</td>\n",
       "      <td>1220870146039975936</td>\n",
       "      <td>NaN</td>\n",
       "      <td>American/Italian 🇺🇸🇮🇹 #MAGAAMERICAN 🇺🇸</td>\n",
       "      <td>NaN</td>\n",
       "      <td>307</td>\n",
       "      <td>333</td>\n",
       "      <td>2020-01-25 00:45:06+00:00</td>\n",
       "      <td>Twitter for iPhone</td>\n",
       "      <td>2022-09-26 23:59:56+00:00</td>\n",
       "      <td>1574549362314723331</td>\n",
       "      <td>Stressed about Hurricane Ian,seriously don’t w...</td>\n",
       "      <td>0</td>\n",
       "      <td>1</td>\n",
       "    </tr>\n",
       "    <tr>\n",
       "      <th>3</th>\n",
       "      <td>Villain Character Development 🔜 Confuror 2022</td>\n",
       "      <td>KingOfFoxxes</td>\n",
       "      <td>1054890619867410433</td>\n",
       "      <td>Baja California, México</td>\n",
       "      <td>| 21 Y.O | Mexican 🇲🇽 | Coffe Boi ☕️ | ♣️ Life...</td>\n",
       "      <td>NaN</td>\n",
       "      <td>270</td>\n",
       "      <td>1186</td>\n",
       "      <td>2018-10-24 00:21:37+00:00</td>\n",
       "      <td>Twitter for Android</td>\n",
       "      <td>2022-09-26 23:59:54+00:00</td>\n",
       "      <td>1574549355977023488</td>\n",
       "      <td>RT @_chaibear: ppl really telling me to \"be ca...</td>\n",
       "      <td>0</td>\n",
       "      <td>1</td>\n",
       "    </tr>\n",
       "    <tr>\n",
       "      <th>4</th>\n",
       "      <td>James Cooper</td>\n",
       "      <td>stratosphere53</td>\n",
       "      <td>50626909</td>\n",
       "      <td>Atlanta</td>\n",
       "      <td>Air Force Brat /  Vietnam veteran  /  Customer...</td>\n",
       "      <td>http://t.co/5gcImzgdlS</td>\n",
       "      <td>229</td>\n",
       "      <td>582</td>\n",
       "      <td>2009-06-25 12:06:55+00:00</td>\n",
       "      <td>Twitter Web App</td>\n",
       "      <td>2022-09-26 23:59:54+00:00</td>\n",
       "      <td>1574549355176001542</td>\n",
       "      <td>RT @stratosphere53: Canada counts damage after...</td>\n",
       "      <td>0</td>\n",
       "      <td>1</td>\n",
       "    </tr>\n",
       "  </tbody>\n",
       "</table>\n",
       "</div>"
      ],
      "text/plain": [
       "                                        userName      screenName  \\\n",
       "0                        Convenience Store News.     CStoreNews_   \n",
       "1                            Andrea Smith 🌊🐝🐶🐱🌱💙      dogparkgal   \n",
       "2                             Sicilian-ShaSha 🇺🇸       shash1960   \n",
       "3  Villain Character Development 🔜 Confuror 2022    KingOfFoxxes   \n",
       "4                                   James Cooper  stratosphere53   \n",
       "\n",
       "                userID             userLocation  \\\n",
       "0            156666863                     ORD    \n",
       "1  1509146276461531137             Florida, USA   \n",
       "2  1220870146039975936                      NaN   \n",
       "3  1054890619867410433  Baja California, México   \n",
       "4             50626909                  Atlanta   \n",
       "\n",
       "                                        user_descrip                user_url  \\\n",
       "0  Top Convenience Retail Influencer Millions of ...                     NaN   \n",
       "1  Starting over after a hack. Was @dogparkgoddes...                     NaN   \n",
       "2             American/Italian 🇺🇸🇮🇹 #MAGAAMERICAN 🇺🇸                     NaN   \n",
       "3  | 21 Y.O | Mexican 🇲🇽 | Coffe Boi ☕️ | ♣️ Life...                     NaN   \n",
       "4  Air Force Brat /  Vietnam veteran  /  Customer...  http://t.co/5gcImzgdlS   \n",
       "\n",
       "   followers  friends                 user_ctime               source  \\\n",
       "0      43224    47652  2010-06-17 15:20:29+00:00   Twitter for iPhone   \n",
       "1       2456     3467  2022-03-30 12:31:39+00:00  Twitter for Android   \n",
       "2        307      333  2020-01-25 00:45:06+00:00   Twitter for iPhone   \n",
       "3        270     1186  2018-10-24 00:21:37+00:00  Twitter for Android   \n",
       "4        229      582  2009-06-25 12:06:55+00:00      Twitter Web App   \n",
       "\n",
       "                   post_time             tweet_id  \\\n",
       "0  2022-09-26 23:59:59+00:00  1574549376025755648   \n",
       "1  2022-09-26 23:59:58+00:00  1574549371961544704   \n",
       "2  2022-09-26 23:59:56+00:00  1574549362314723331   \n",
       "3  2022-09-26 23:59:54+00:00  1574549355977023488   \n",
       "4  2022-09-26 23:59:54+00:00  1574549355176001542   \n",
       "\n",
       "                                          tweet_text  favorite_count  \\\n",
       "0     Get lost Hurricane Ian https://t.co/xsY8JlKe8h               3   \n",
       "1  @SunnyPete6760 Wish us well during Hurricane I...               0   \n",
       "2  Stressed about Hurricane Ian,seriously don’t w...               0   \n",
       "3  RT @_chaibear: ppl really telling me to \"be ca...               0   \n",
       "4  RT @stratosphere53: Canada counts damage after...               0   \n",
       "\n",
       "   retweet_count  \n",
       "0              0  \n",
       "1              0  \n",
       "2              1  \n",
       "3              1  \n",
       "4              1  "
      ]
     },
     "execution_count": 6,
     "metadata": {},
     "output_type": "execute_result"
    }
   ],
   "source": [
    "# read the Twitter data that we collected from last lecture\n",
    "hurricane = pd.read_csv(\"hurricane_ian.csv\", header = 0)\n",
    "hurricane.head()"
   ]
  },
  {
   "cell_type": "code",
   "execution_count": 7,
   "id": "d14ffdc7",
   "metadata": {},
   "outputs": [
    {
     "name": "stdout",
     "output_type": "stream",
     "text": [
      "<class 'pandas.core.frame.DataFrame'>\n",
      "RangeIndex: 1000 entries, 0 to 999\n",
      "Data columns (total 15 columns):\n",
      " #   Column          Non-Null Count  Dtype \n",
      "---  ------          --------------  ----- \n",
      " 0   userName        1000 non-null   object\n",
      " 1   screenName      1000 non-null   object\n",
      " 2   userID          1000 non-null   int64 \n",
      " 3   userLocation    686 non-null    object\n",
      " 4   user_descrip    814 non-null    object\n",
      " 5   user_url        294 non-null    object\n",
      " 6   followers       1000 non-null   int64 \n",
      " 7   friends         1000 non-null   int64 \n",
      " 8   user_ctime      1000 non-null   object\n",
      " 9   source          1000 non-null   object\n",
      " 10  post_time       1000 non-null   object\n",
      " 11  tweet_id        1000 non-null   int64 \n",
      " 12  tweet_text      1000 non-null   object\n",
      " 13  favorite_count  1000 non-null   int64 \n",
      " 14  retweet_count   1000 non-null   int64 \n",
      "dtypes: int64(6), object(9)\n",
      "memory usage: 117.3+ KB\n"
     ]
    }
   ],
   "source": [
    "#check the basic information of this dataframe\n",
    "hurricane.info()"
   ]
  },
  {
   "cell_type": "markdown",
   "id": "d07188b6",
   "metadata": {},
   "source": [
    "# 2. Find out some stories "
   ]
  },
  {
   "cell_type": "markdown",
   "id": "68e72db5",
   "metadata": {},
   "source": [
    "### How many users in this dataset?"
   ]
  },
  {
   "cell_type": "code",
   "execution_count": 8,
   "id": "65b6c6cd",
   "metadata": {},
   "outputs": [
    {
     "data": {
      "text/plain": [
       "903"
      ]
     },
     "execution_count": 8,
     "metadata": {},
     "output_type": "execute_result"
    }
   ],
   "source": [
    "# hint:count the number of unique values for screenName\n",
    "len(hurricane['screenName'].unique())"
   ]
  },
  {
   "cell_type": "markdown",
   "id": "3696862b",
   "metadata": {},
   "source": [
    "### How many tweets per user?"
   ]
  },
  {
   "cell_type": "code",
   "execution_count": 9,
   "id": "01423616",
   "metadata": {},
   "outputs": [
    {
     "data": {
      "text/plain": [
       "0.545"
      ]
     },
     "execution_count": 9,
     "metadata": {},
     "output_type": "execute_result"
    }
   ],
   "source": [
    "Number_tweets= len(hurricane['tweet_text'].unique())\n",
    "Number_users = len(hurricane['screenName'].unique())\n",
    "\n",
    "round(float(Number_tweets/Number_users),3)"
   ]
  },
  {
   "cell_type": "markdown",
   "id": "94999fa2",
   "metadata": {},
   "source": [
    "The ``float`` type in Python represents the floating point number. Float is used to represent real numbers and is written with a decimal point dividing the integer and fractional parts. "
   ]
  },
  {
   "cell_type": "markdown",
   "id": "ec9c1438",
   "metadata": {},
   "source": [
    "### Who tweets the most?"
   ]
  },
  {
   "cell_type": "code",
   "execution_count": 10,
   "id": "566d035a",
   "metadata": {},
   "outputs": [
    {
     "data": {
      "text/plain": [
       "RichFM39517086     8\n",
       "roraimay1          5\n",
       "BryanWinsAgain     5\n",
       "jsalsman           4\n",
       "BellaDonaModels    4\n",
       "Name: screenName, dtype: int64"
      ]
     },
     "execution_count": 10,
     "metadata": {},
     "output_type": "execute_result"
    }
   ],
   "source": [
    "# hint:count the frequency of each screenName\n",
    "hurricane['screenName'].value_counts().head(5) # top 5 users who posts the most tweets for hurricane ian"
   ]
  },
  {
   "cell_type": "code",
   "execution_count": 11,
   "id": "c4c2f5d3",
   "metadata": {},
   "outputs": [
    {
     "name": "stdout",
     "output_type": "stream",
     "text": [
      "[('RichFM39517086', 8), ('BryanWinsAgain', 5), ('roraimay1', 5), ('jsalsman', 4), ('BellaDonaModels', 4)]\n"
     ]
    }
   ],
   "source": [
    "# Another way to count the frequency\n",
    "from collections import Counter\n",
    "\n",
    "screenames = Counter(hurricane['screenName'])\n",
    "print(screenames.most_common(5))"
   ]
  },
  {
   "cell_type": "code",
   "execution_count": 12,
   "id": "5086bb64",
   "metadata": {},
   "outputs": [
    {
     "data": {
      "text/html": [
       "<div>\n",
       "<style scoped>\n",
       "    .dataframe tbody tr th:only-of-type {\n",
       "        vertical-align: middle;\n",
       "    }\n",
       "\n",
       "    .dataframe tbody tr th {\n",
       "        vertical-align: top;\n",
       "    }\n",
       "\n",
       "    .dataframe thead th {\n",
       "        text-align: right;\n",
       "    }\n",
       "</style>\n",
       "<table border=\"1\" class=\"dataframe\">\n",
       "  <thead>\n",
       "    <tr style=\"text-align: right;\">\n",
       "      <th></th>\n",
       "      <th>screenName</th>\n",
       "      <th>Frequency</th>\n",
       "    </tr>\n",
       "  </thead>\n",
       "  <tbody>\n",
       "    <tr>\n",
       "      <th>0</th>\n",
       "      <td>RichFM39517086</td>\n",
       "      <td>8</td>\n",
       "    </tr>\n",
       "    <tr>\n",
       "      <th>1</th>\n",
       "      <td>BryanWinsAgain</td>\n",
       "      <td>5</td>\n",
       "    </tr>\n",
       "    <tr>\n",
       "      <th>2</th>\n",
       "      <td>roraimay1</td>\n",
       "      <td>5</td>\n",
       "    </tr>\n",
       "    <tr>\n",
       "      <th>3</th>\n",
       "      <td>jsalsman</td>\n",
       "      <td>4</td>\n",
       "    </tr>\n",
       "    <tr>\n",
       "      <th>4</th>\n",
       "      <td>BellaDonaModels</td>\n",
       "      <td>4</td>\n",
       "    </tr>\n",
       "  </tbody>\n",
       "</table>\n",
       "</div>"
      ],
      "text/plain": [
       "        screenName  Frequency\n",
       "0   RichFM39517086          8\n",
       "1   BryanWinsAgain          5\n",
       "2        roraimay1          5\n",
       "3         jsalsman          4\n",
       "4  BellaDonaModels          4"
      ]
     },
     "execution_count": 12,
     "metadata": {},
     "output_type": "execute_result"
    }
   ],
   "source": [
    "# make it pretty\n",
    "activetweeters = screenames.most_common(5)\n",
    "activetweeters_df = pd.DataFrame(activetweeters, columns=[\"screenName\",\"Frequency\"])\n",
    "activetweeters_df"
   ]
  },
  {
   "cell_type": "code",
   "execution_count": 13,
   "id": "25c964d9",
   "metadata": {},
   "outputs": [
    {
     "data": {
      "text/html": [
       "<div>\n",
       "<style scoped>\n",
       "    .dataframe tbody tr th:only-of-type {\n",
       "        vertical-align: middle;\n",
       "    }\n",
       "\n",
       "    .dataframe tbody tr th {\n",
       "        vertical-align: top;\n",
       "    }\n",
       "\n",
       "    .dataframe thead th {\n",
       "        text-align: right;\n",
       "    }\n",
       "</style>\n",
       "<table border=\"1\" class=\"dataframe\">\n",
       "  <thead>\n",
       "    <tr style=\"text-align: right;\">\n",
       "      <th></th>\n",
       "      <th>userName</th>\n",
       "      <th>screenName</th>\n",
       "      <th>userID</th>\n",
       "      <th>userLocation</th>\n",
       "      <th>user_descrip</th>\n",
       "      <th>user_url</th>\n",
       "      <th>followers</th>\n",
       "      <th>friends</th>\n",
       "      <th>user_ctime</th>\n",
       "      <th>source</th>\n",
       "      <th>post_time</th>\n",
       "      <th>tweet_id</th>\n",
       "      <th>tweet_text</th>\n",
       "      <th>favorite_count</th>\n",
       "      <th>retweet_count</th>\n",
       "    </tr>\n",
       "  </thead>\n",
       "  <tbody>\n",
       "    <tr>\n",
       "      <th>77</th>\n",
       "      <td>WDON RADIO</td>\n",
       "      <td>RichFM39517086</td>\n",
       "      <td>1529421373</td>\n",
       "      <td>Laguna Beach, Ca</td>\n",
       "      <td>WDON RADIO ~ # ROCK # BLUES # POP $ LEGENDARY ...</td>\n",
       "      <td>http://t.co/PVih046n9c</td>\n",
       "      <td>2821</td>\n",
       "      <td>5001</td>\n",
       "      <td>2013-06-19 01:58:01+00:00</td>\n",
       "      <td>Twitter Web App</td>\n",
       "      <td>2022-09-26 23:59:06+00:00</td>\n",
       "      <td>1574549153761624064</td>\n",
       "      <td>RT @zoom_earth: #Ian is now a Category 1 Hurri...</td>\n",
       "      <td>0</td>\n",
       "      <td>17</td>\n",
       "    </tr>\n",
       "    <tr>\n",
       "      <th>95</th>\n",
       "      <td>WDON RADIO</td>\n",
       "      <td>RichFM39517086</td>\n",
       "      <td>1529421373</td>\n",
       "      <td>Laguna Beach, Ca</td>\n",
       "      <td>WDON RADIO ~ # ROCK # BLUES # POP $ LEGENDARY ...</td>\n",
       "      <td>http://t.co/PVih046n9c</td>\n",
       "      <td>2821</td>\n",
       "      <td>5001</td>\n",
       "      <td>2013-06-19 01:58:01+00:00</td>\n",
       "      <td>Twitter Web App</td>\n",
       "      <td>2022-09-26 23:58:58+00:00</td>\n",
       "      <td>1574549118684663808</td>\n",
       "      <td>RT @zoom_earth: ⚠️ Heavy rainfall from #Hurric...</td>\n",
       "      <td>0</td>\n",
       "      <td>50</td>\n",
       "    </tr>\n",
       "    <tr>\n",
       "      <th>839</th>\n",
       "      <td>WDON RADIO</td>\n",
       "      <td>RichFM39517086</td>\n",
       "      <td>1529421373</td>\n",
       "      <td>Laguna Beach, Ca</td>\n",
       "      <td>WDON RADIO ~ # ROCK # BLUES # POP $ LEGENDARY ...</td>\n",
       "      <td>http://t.co/PVih046n9c</td>\n",
       "      <td>2821</td>\n",
       "      <td>5001</td>\n",
       "      <td>2013-06-19 01:58:01+00:00</td>\n",
       "      <td>Twitter Web App</td>\n",
       "      <td>2022-09-26 23:51:28+00:00</td>\n",
       "      <td>1574547231109435393</td>\n",
       "      <td>RT @zoom_earth: Category 2 Hurricane #Ian sate...</td>\n",
       "      <td>0</td>\n",
       "      <td>12</td>\n",
       "    </tr>\n",
       "    <tr>\n",
       "      <th>841</th>\n",
       "      <td>WDON RADIO</td>\n",
       "      <td>RichFM39517086</td>\n",
       "      <td>1529421373</td>\n",
       "      <td>Laguna Beach, Ca</td>\n",
       "      <td>WDON RADIO ~ # ROCK # BLUES # POP $ LEGENDARY ...</td>\n",
       "      <td>http://t.co/PVih046n9c</td>\n",
       "      <td>2821</td>\n",
       "      <td>5001</td>\n",
       "      <td>2013-06-19 01:58:01+00:00</td>\n",
       "      <td>Twitter Web App</td>\n",
       "      <td>2022-09-26 23:51:26+00:00</td>\n",
       "      <td>1574547222045544449</td>\n",
       "      <td>RT @zoom_earth: Latest satellite view of Hurri...</td>\n",
       "      <td>0</td>\n",
       "      <td>10</td>\n",
       "    </tr>\n",
       "    <tr>\n",
       "      <th>845</th>\n",
       "      <td>WDON RADIO</td>\n",
       "      <td>RichFM39517086</td>\n",
       "      <td>1529421373</td>\n",
       "      <td>Laguna Beach, Ca</td>\n",
       "      <td>WDON RADIO ~ # ROCK # BLUES # POP $ LEGENDARY ...</td>\n",
       "      <td>http://t.co/PVih046n9c</td>\n",
       "      <td>2821</td>\n",
       "      <td>5001</td>\n",
       "      <td>2013-06-19 01:58:01+00:00</td>\n",
       "      <td>Twitter Web App</td>\n",
       "      <td>2022-09-26 23:51:23+00:00</td>\n",
       "      <td>1574547212603883520</td>\n",
       "      <td>RT @zoom_earth: Category 1 Hurricane #Ian near...</td>\n",
       "      <td>0</td>\n",
       "      <td>15</td>\n",
       "    </tr>\n",
       "    <tr>\n",
       "      <th>851</th>\n",
       "      <td>WDON RADIO</td>\n",
       "      <td>RichFM39517086</td>\n",
       "      <td>1529421373</td>\n",
       "      <td>Laguna Beach, Ca</td>\n",
       "      <td>WDON RADIO ~ # ROCK # BLUES # POP $ LEGENDARY ...</td>\n",
       "      <td>http://t.co/PVih046n9c</td>\n",
       "      <td>2821</td>\n",
       "      <td>5001</td>\n",
       "      <td>2013-06-19 01:58:01+00:00</td>\n",
       "      <td>Twitter Web App</td>\n",
       "      <td>2022-09-26 23:51:18+00:00</td>\n",
       "      <td>1574547190080770049</td>\n",
       "      <td>RT @zoom_earth: Today’s view of Tropical Storm...</td>\n",
       "      <td>0</td>\n",
       "      <td>9</td>\n",
       "    </tr>\n",
       "    <tr>\n",
       "      <th>854</th>\n",
       "      <td>WDON RADIO</td>\n",
       "      <td>RichFM39517086</td>\n",
       "      <td>1529421373</td>\n",
       "      <td>Laguna Beach, Ca</td>\n",
       "      <td>WDON RADIO ~ # ROCK # BLUES # POP $ LEGENDARY ...</td>\n",
       "      <td>http://t.co/PVih046n9c</td>\n",
       "      <td>2821</td>\n",
       "      <td>5001</td>\n",
       "      <td>2013-06-19 01:58:01+00:00</td>\n",
       "      <td>Twitter Web App</td>\n",
       "      <td>2022-09-26 23:51:16+00:00</td>\n",
       "      <td>1574547180916215808</td>\n",
       "      <td>RT @zoom_earth: Tropical Storm #Ian this morni...</td>\n",
       "      <td>0</td>\n",
       "      <td>20</td>\n",
       "    </tr>\n",
       "    <tr>\n",
       "      <th>995</th>\n",
       "      <td>WDON RADIO</td>\n",
       "      <td>RichFM39517086</td>\n",
       "      <td>1529421373</td>\n",
       "      <td>Laguna Beach, Ca</td>\n",
       "      <td>WDON RADIO ~ # ROCK # BLUES # POP $ LEGENDARY ...</td>\n",
       "      <td>http://t.co/PVih046n9c</td>\n",
       "      <td>2821</td>\n",
       "      <td>5001</td>\n",
       "      <td>2013-06-19 01:58:01+00:00</td>\n",
       "      <td>Twitter Web App</td>\n",
       "      <td>2022-09-26 23:49:50+00:00</td>\n",
       "      <td>1574546821627711488</td>\n",
       "      <td>Hurricane Ian: See latest forecast cone, spagh...</td>\n",
       "      <td>0</td>\n",
       "      <td>0</td>\n",
       "    </tr>\n",
       "  </tbody>\n",
       "</table>\n",
       "</div>"
      ],
      "text/plain": [
       "       userName      screenName      userID      userLocation  \\\n",
       "77   WDON RADIO  RichFM39517086  1529421373  Laguna Beach, Ca   \n",
       "95   WDON RADIO  RichFM39517086  1529421373  Laguna Beach, Ca   \n",
       "839  WDON RADIO  RichFM39517086  1529421373  Laguna Beach, Ca   \n",
       "841  WDON RADIO  RichFM39517086  1529421373  Laguna Beach, Ca   \n",
       "845  WDON RADIO  RichFM39517086  1529421373  Laguna Beach, Ca   \n",
       "851  WDON RADIO  RichFM39517086  1529421373  Laguna Beach, Ca   \n",
       "854  WDON RADIO  RichFM39517086  1529421373  Laguna Beach, Ca   \n",
       "995  WDON RADIO  RichFM39517086  1529421373  Laguna Beach, Ca   \n",
       "\n",
       "                                          user_descrip  \\\n",
       "77   WDON RADIO ~ # ROCK # BLUES # POP $ LEGENDARY ...   \n",
       "95   WDON RADIO ~ # ROCK # BLUES # POP $ LEGENDARY ...   \n",
       "839  WDON RADIO ~ # ROCK # BLUES # POP $ LEGENDARY ...   \n",
       "841  WDON RADIO ~ # ROCK # BLUES # POP $ LEGENDARY ...   \n",
       "845  WDON RADIO ~ # ROCK # BLUES # POP $ LEGENDARY ...   \n",
       "851  WDON RADIO ~ # ROCK # BLUES # POP $ LEGENDARY ...   \n",
       "854  WDON RADIO ~ # ROCK # BLUES # POP $ LEGENDARY ...   \n",
       "995  WDON RADIO ~ # ROCK # BLUES # POP $ LEGENDARY ...   \n",
       "\n",
       "                   user_url  followers  friends                 user_ctime  \\\n",
       "77   http://t.co/PVih046n9c       2821     5001  2013-06-19 01:58:01+00:00   \n",
       "95   http://t.co/PVih046n9c       2821     5001  2013-06-19 01:58:01+00:00   \n",
       "839  http://t.co/PVih046n9c       2821     5001  2013-06-19 01:58:01+00:00   \n",
       "841  http://t.co/PVih046n9c       2821     5001  2013-06-19 01:58:01+00:00   \n",
       "845  http://t.co/PVih046n9c       2821     5001  2013-06-19 01:58:01+00:00   \n",
       "851  http://t.co/PVih046n9c       2821     5001  2013-06-19 01:58:01+00:00   \n",
       "854  http://t.co/PVih046n9c       2821     5001  2013-06-19 01:58:01+00:00   \n",
       "995  http://t.co/PVih046n9c       2821     5001  2013-06-19 01:58:01+00:00   \n",
       "\n",
       "              source                  post_time             tweet_id  \\\n",
       "77   Twitter Web App  2022-09-26 23:59:06+00:00  1574549153761624064   \n",
       "95   Twitter Web App  2022-09-26 23:58:58+00:00  1574549118684663808   \n",
       "839  Twitter Web App  2022-09-26 23:51:28+00:00  1574547231109435393   \n",
       "841  Twitter Web App  2022-09-26 23:51:26+00:00  1574547222045544449   \n",
       "845  Twitter Web App  2022-09-26 23:51:23+00:00  1574547212603883520   \n",
       "851  Twitter Web App  2022-09-26 23:51:18+00:00  1574547190080770049   \n",
       "854  Twitter Web App  2022-09-26 23:51:16+00:00  1574547180916215808   \n",
       "995  Twitter Web App  2022-09-26 23:49:50+00:00  1574546821627711488   \n",
       "\n",
       "                                            tweet_text  favorite_count  \\\n",
       "77   RT @zoom_earth: #Ian is now a Category 1 Hurri...               0   \n",
       "95   RT @zoom_earth: ⚠️ Heavy rainfall from #Hurric...               0   \n",
       "839  RT @zoom_earth: Category 2 Hurricane #Ian sate...               0   \n",
       "841  RT @zoom_earth: Latest satellite view of Hurri...               0   \n",
       "845  RT @zoom_earth: Category 1 Hurricane #Ian near...               0   \n",
       "851  RT @zoom_earth: Today’s view of Tropical Storm...               0   \n",
       "854  RT @zoom_earth: Tropical Storm #Ian this morni...               0   \n",
       "995  Hurricane Ian: See latest forecast cone, spagh...               0   \n",
       "\n",
       "     retweet_count  \n",
       "77              17  \n",
       "95              50  \n",
       "839             12  \n",
       "841             10  \n",
       "845             15  \n",
       "851              9  \n",
       "854             20  \n",
       "995              0  "
      ]
     },
     "execution_count": 13,
     "metadata": {},
     "output_type": "execute_result"
    }
   ],
   "source": [
    "# what does the person who tweets the most say?\n",
    "hurricane[hurricane['screenName']=='RichFM39517086']"
   ]
  },
  {
   "cell_type": "code",
   "execution_count": 14,
   "id": "3ea4e730",
   "metadata": {},
   "outputs": [],
   "source": [
    "# display the full text information for this person's tweets\n",
    "pd.set_option('display.max_colwidth', None)"
   ]
  },
  {
   "cell_type": "code",
   "execution_count": 15,
   "id": "583750bf",
   "metadata": {},
   "outputs": [
    {
     "data": {
      "text/plain": [
       "77                                                               RT @zoom_earth: #Ian is now a Category 1 Hurricane 🌀 #HurricaneIan https://t.co/8n48e4aXST\n",
       "95             RT @zoom_earth: ⚠️ Heavy rainfall from #HurricaneIan is forecast for western #Cuba and central #Florida. Life-threatening storm surge, hurr…\n",
       "839             RT @zoom_earth: Category 2 Hurricane #Ian satellite view from today east of the Yucatán Peninsula. Forecast to intensify into a category 4…\n",
       "841            RT @zoom_earth: Latest satellite view of Hurricane #Ian near the Cayman Islands. Maximum wind speeds over 80 mph. #HurricaneIan #HuracánIan…\n",
       "845            RT @zoom_earth: Category 1 Hurricane #Ian near the Cayman Islands last night. Winds up to 75 mph. #HurricaneIan #HuracánIan https://t.co/Bo…\n",
       "851            RT @zoom_earth: Today’s view of Tropical Storm #Ian in the Caribbean. This system may develop into a category 4 major hurricane. https://t.…\n",
       "854            RT @zoom_earth: Tropical Storm #Ian this morning in the Caribbean. Forecast to develop into a category 4 major hurricane. https://t.co/tOkk…\n",
       "995    Hurricane Ian: See latest forecast cone, spaghetti models, advisory info... https://t.co/jaNHS5ljHO via @YouTube #TampaBay #HurricaneIan #HuracanIan\n",
       "Name: tweet_text, dtype: object"
      ]
     },
     "execution_count": 15,
     "metadata": {},
     "output_type": "execute_result"
    }
   ],
   "source": [
    "Most_tweet =hurricane[hurricane['screenName']=='RichFM39517086']\n",
    "Most_tweet['tweet_text']"
   ]
  },
  {
   "cell_type": "markdown",
   "id": "d7f08856",
   "metadata": {},
   "source": [
    "### Who is the most popular/ influencer/ has the most followers?"
   ]
  },
  {
   "cell_type": "code",
   "execution_count": 16,
   "id": "e274ef0f",
   "metadata": {},
   "outputs": [
    {
     "data": {
      "text/plain": [
       "673    17707535\n",
       "103     4848793\n",
       "115     4848792\n",
       "127     4848792\n",
       "504     1046560\n",
       "Name: followers, dtype: int64"
      ]
     },
     "execution_count": 16,
     "metadata": {},
     "output_type": "execute_result"
    }
   ],
   "source": [
    "# hint: sort the number of followers by descending\n",
    "hurricane['followers'].sort_values(ascending=False).head(5)"
   ]
  },
  {
   "cell_type": "code",
   "execution_count": 17,
   "id": "53a49548",
   "metadata": {},
   "outputs": [
    {
     "data": {
      "text/html": [
       "<div>\n",
       "<style scoped>\n",
       "    .dataframe tbody tr th:only-of-type {\n",
       "        vertical-align: middle;\n",
       "    }\n",
       "\n",
       "    .dataframe tbody tr th {\n",
       "        vertical-align: top;\n",
       "    }\n",
       "\n",
       "    .dataframe thead th {\n",
       "        text-align: right;\n",
       "    }\n",
       "</style>\n",
       "<table border=\"1\" class=\"dataframe\">\n",
       "  <thead>\n",
       "    <tr style=\"text-align: right;\">\n",
       "      <th></th>\n",
       "      <th>userName</th>\n",
       "      <th>screenName</th>\n",
       "      <th>userID</th>\n",
       "      <th>userLocation</th>\n",
       "      <th>user_descrip</th>\n",
       "      <th>user_url</th>\n",
       "      <th>followers</th>\n",
       "      <th>friends</th>\n",
       "      <th>user_ctime</th>\n",
       "      <th>source</th>\n",
       "      <th>post_time</th>\n",
       "      <th>tweet_id</th>\n",
       "      <th>tweet_text</th>\n",
       "      <th>favorite_count</th>\n",
       "      <th>retweet_count</th>\n",
       "    </tr>\n",
       "  </thead>\n",
       "  <tbody>\n",
       "    <tr>\n",
       "      <th>673</th>\n",
       "      <td>ABC News</td>\n",
       "      <td>ABC</td>\n",
       "      <td>28785486</td>\n",
       "      <td>New York City / Worldwide</td>\n",
       "      <td>All the news and information you need to see, curated by the @ABC News team. Watch full ABC News broadcasts on @Hulu: https://t.co/w3wQ1O1Szs</td>\n",
       "      <td>https://t.co/26XEt8onYo</td>\n",
       "      <td>17707535</td>\n",
       "      <td>486</td>\n",
       "      <td>2009-04-04 12:40:32+00:00</td>\n",
       "      <td>SocialFlow</td>\n",
       "      <td>2022-09-26 23:53:25+00:00</td>\n",
       "      <td>1574547724074192896</td>\n",
       "      <td>The underwater geology of the Gulf of Mexico makes the Gulf Coast particularly unguarded against the massive influx of seawater. https://t.co/mcOuKS9Tfd</td>\n",
       "      <td>59</td>\n",
       "      <td>23</td>\n",
       "    </tr>\n",
       "  </tbody>\n",
       "</table>\n",
       "</div>"
      ],
      "text/plain": [
       "     userName screenName    userID               userLocation  \\\n",
       "673  ABC News        ABC  28785486  New York City / Worldwide   \n",
       "\n",
       "                                                                                                                                      user_descrip  \\\n",
       "673  All the news and information you need to see, curated by the @ABC News team. Watch full ABC News broadcasts on @Hulu: https://t.co/w3wQ1O1Szs   \n",
       "\n",
       "                    user_url  followers  friends                 user_ctime  \\\n",
       "673  https://t.co/26XEt8onYo   17707535      486  2009-04-04 12:40:32+00:00   \n",
       "\n",
       "         source                  post_time             tweet_id  \\\n",
       "673  SocialFlow  2022-09-26 23:53:25+00:00  1574547724074192896   \n",
       "\n",
       "                                                                                                                                                   tweet_text  \\\n",
       "673  The underwater geology of the Gulf of Mexico makes the Gulf Coast particularly unguarded against the massive influx of seawater. https://t.co/mcOuKS9Tfd   \n",
       "\n",
       "     favorite_count  retweet_count  \n",
       "673              59             23  "
      ]
     },
     "execution_count": 17,
     "metadata": {},
     "output_type": "execute_result"
    }
   ],
   "source": [
    "# find this person using index\n",
    "hurricane.iloc[[673]]"
   ]
  },
  {
   "cell_type": "markdown",
   "id": "2a7f7f12",
   "metadata": {},
   "source": [
    "### Action 1: which tweet has been retweeted the most?"
   ]
  },
  {
   "cell_type": "code",
   "execution_count": 18,
   "id": "f232fb1f",
   "metadata": {},
   "outputs": [],
   "source": [
    "# hint: sort the number of retweet_count by descending \n",
    "# you probably will get many values have the same number of retweets\n"
   ]
  },
  {
   "cell_type": "code",
   "execution_count": 19,
   "id": "a3910332",
   "metadata": {},
   "outputs": [],
   "source": [
    "# find this tweet thread \n",
    "# check the tweets that have the same number of retweets, do they contain the same text?\n"
   ]
  },
  {
   "cell_type": "markdown",
   "id": "a986a8ce",
   "metadata": {},
   "source": [
    "# 3. Tweets text cleaning"
   ]
  },
  {
   "cell_type": "code",
   "execution_count": 20,
   "id": "f247c7e8",
   "metadata": {},
   "outputs": [
    {
     "data": {
      "text/html": [
       "<div>\n",
       "<style scoped>\n",
       "    .dataframe tbody tr th:only-of-type {\n",
       "        vertical-align: middle;\n",
       "    }\n",
       "\n",
       "    .dataframe tbody tr th {\n",
       "        vertical-align: top;\n",
       "    }\n",
       "\n",
       "    .dataframe thead th {\n",
       "        text-align: right;\n",
       "    }\n",
       "</style>\n",
       "<table border=\"1\" class=\"dataframe\">\n",
       "  <thead>\n",
       "    <tr style=\"text-align: right;\">\n",
       "      <th></th>\n",
       "      <th>userName</th>\n",
       "      <th>screenName</th>\n",
       "      <th>userID</th>\n",
       "      <th>userLocation</th>\n",
       "      <th>user_descrip</th>\n",
       "      <th>user_url</th>\n",
       "      <th>followers</th>\n",
       "      <th>friends</th>\n",
       "      <th>user_ctime</th>\n",
       "      <th>source</th>\n",
       "      <th>post_time</th>\n",
       "      <th>tweet_id</th>\n",
       "      <th>tweet_text</th>\n",
       "      <th>favorite_count</th>\n",
       "      <th>retweet_count</th>\n",
       "    </tr>\n",
       "  </thead>\n",
       "  <tbody>\n",
       "    <tr>\n",
       "      <th>0</th>\n",
       "      <td>Convenience Store News.</td>\n",
       "      <td>CStoreNews_</td>\n",
       "      <td>156666863</td>\n",
       "      <td>ORD</td>\n",
       "      <td>Top Convenience Retail Influencer Millions of Views Marketing Data Data Grocery Food Service Data Gas Pricing Data Beverage Data Tobacco Data. DM For Removal</td>\n",
       "      <td>NaN</td>\n",
       "      <td>43224</td>\n",
       "      <td>47652</td>\n",
       "      <td>2010-06-17 15:20:29+00:00</td>\n",
       "      <td>Twitter for iPhone</td>\n",
       "      <td>2022-09-26 23:59:59+00:00</td>\n",
       "      <td>1574549376025755648</td>\n",
       "      <td>Get lost Hurricane Ian https://t.co/xsY8JlKe8h</td>\n",
       "      <td>3</td>\n",
       "      <td>0</td>\n",
       "    </tr>\n",
       "    <tr>\n",
       "      <th>1</th>\n",
       "      <td>Andrea Smith</td>\n",
       "      <td>dogparkgal</td>\n",
       "      <td>1509146276461531137</td>\n",
       "      <td>Florida, USA</td>\n",
       "      <td>Starting over after a hack. Was @dogparkgoddess Democracy will prevail. The GQP is trash, arrest them all.</td>\n",
       "      <td>NaN</td>\n",
       "      <td>2456</td>\n",
       "      <td>3467</td>\n",
       "      <td>2022-03-30 12:31:39+00:00</td>\n",
       "      <td>Twitter for Android</td>\n",
       "      <td>2022-09-26 23:59:58+00:00</td>\n",
       "      <td>1574549371961544704</td>\n",
       "      <td>@SunnyPete6760 Wish us well during Hurricane Ian! \\nHey buddy! 😊</td>\n",
       "      <td>0</td>\n",
       "      <td>0</td>\n",
       "    </tr>\n",
       "    <tr>\n",
       "      <th>2</th>\n",
       "      <td>Sicilian-ShaSha</td>\n",
       "      <td>shash1960</td>\n",
       "      <td>1220870146039975936</td>\n",
       "      <td>NaN</td>\n",
       "      <td>American/Italian 🇺🇸🇮🇹 #MAGAAMERICAN 🇺🇸</td>\n",
       "      <td>NaN</td>\n",
       "      <td>307</td>\n",
       "      <td>333</td>\n",
       "      <td>2020-01-25 00:45:06+00:00</td>\n",
       "      <td>Twitter for iPhone</td>\n",
       "      <td>2022-09-26 23:59:56+00:00</td>\n",
       "      <td>1574549362314723331</td>\n",
       "      <td>Stressed about Hurricane Ian,seriously don’t want to leave my home to evacuate, but will have no choice. Tomorrow I know I’ll get the order, Zone B. I evacuated for Irma, much has change for me in 5 yrs, seems overwhelming now. One thing, I’m blessed to have family to go to. https://t.co/cVfqjszxJN</td>\n",
       "      <td>0</td>\n",
       "      <td>1</td>\n",
       "    </tr>\n",
       "    <tr>\n",
       "      <th>3</th>\n",
       "      <td>Villain Character Development  Confuror 2022</td>\n",
       "      <td>KingOfFoxxes</td>\n",
       "      <td>1054890619867410433</td>\n",
       "      <td>Baja California, México</td>\n",
       "      <td>| 21 Y.O | Mexican 🇲🇽 | Coffe Boi ☕️ | ♣️ Life is a Gamble ♦️ | Any pronouns | DM Open! | Vent Account: @AngryCheeseBoy | Myosotis 🌸</td>\n",
       "      <td>NaN</td>\n",
       "      <td>270</td>\n",
       "      <td>1186</td>\n",
       "      <td>2018-10-24 00:21:37+00:00</td>\n",
       "      <td>Twitter for Android</td>\n",
       "      <td>2022-09-26 23:59:54+00:00</td>\n",
       "      <td>1574549355977023488</td>\n",
       "      <td>RT @_chaibear: ppl really telling me to \"be careful\" for hurricane ian as if i havent spent hundreds of hours playing natural disaster surv…</td>\n",
       "      <td>0</td>\n",
       "      <td>1</td>\n",
       "    </tr>\n",
       "    <tr>\n",
       "      <th>4</th>\n",
       "      <td>James Cooper</td>\n",
       "      <td>stratosphere53</td>\n",
       "      <td>50626909</td>\n",
       "      <td>Atlanta</td>\n",
       "      <td>Air Force Brat /  Vietnam veteran  /  Customer service in Insurance and Air conditioning  /  Cisco Networking student /  sixty-one years old but look forty</td>\n",
       "      <td>http://t.co/5gcImzgdlS</td>\n",
       "      <td>229</td>\n",
       "      <td>582</td>\n",
       "      <td>2009-06-25 12:06:55+00:00</td>\n",
       "      <td>Twitter Web App</td>\n",
       "      <td>2022-09-26 23:59:54+00:00</td>\n",
       "      <td>1574549355176001542</td>\n",
       "      <td>RT @stratosphere53: Canada counts damage after Fiona; Cuba and Florida brace for storm Ian - Breitbart https://t.co/Wk7hVAu6nf via @Breitba…</td>\n",
       "      <td>0</td>\n",
       "      <td>1</td>\n",
       "    </tr>\n",
       "  </tbody>\n",
       "</table>\n",
       "</div>"
      ],
      "text/plain": [
       "                                       userName      screenName  \\\n",
       "0                       Convenience Store News.     CStoreNews_   \n",
       "1                                 Andrea Smith       dogparkgal   \n",
       "2                              Sicilian-ShaSha        shash1960   \n",
       "3  Villain Character Development  Confuror 2022    KingOfFoxxes   \n",
       "4                                  James Cooper  stratosphere53   \n",
       "\n",
       "                userID             userLocation  \\\n",
       "0            156666863                     ORD    \n",
       "1  1509146276461531137             Florida, USA   \n",
       "2  1220870146039975936                      NaN   \n",
       "3  1054890619867410433  Baja California, México   \n",
       "4             50626909                  Atlanta   \n",
       "\n",
       "                                                                                                                                                    user_descrip  \\\n",
       "0  Top Convenience Retail Influencer Millions of Views Marketing Data Data Grocery Food Service Data Gas Pricing Data Beverage Data Tobacco Data. DM For Removal   \n",
       "1                                                     Starting over after a hack. Was @dogparkgoddess Democracy will prevail. The GQP is trash, arrest them all.   \n",
       "2                                                                                                                         American/Italian 🇺🇸🇮🇹 #MAGAAMERICAN 🇺🇸   \n",
       "3                           | 21 Y.O | Mexican 🇲🇽 | Coffe Boi ☕️ | ♣️ Life is a Gamble ♦️ | Any pronouns | DM Open! | Vent Account: @AngryCheeseBoy | Myosotis 🌸   \n",
       "4    Air Force Brat /  Vietnam veteran  /  Customer service in Insurance and Air conditioning  /  Cisco Networking student /  sixty-one years old but look forty   \n",
       "\n",
       "                 user_url  followers  friends                 user_ctime  \\\n",
       "0                     NaN      43224    47652  2010-06-17 15:20:29+00:00   \n",
       "1                     NaN       2456     3467  2022-03-30 12:31:39+00:00   \n",
       "2                     NaN        307      333  2020-01-25 00:45:06+00:00   \n",
       "3                     NaN        270     1186  2018-10-24 00:21:37+00:00   \n",
       "4  http://t.co/5gcImzgdlS        229      582  2009-06-25 12:06:55+00:00   \n",
       "\n",
       "                source                  post_time             tweet_id  \\\n",
       "0   Twitter for iPhone  2022-09-26 23:59:59+00:00  1574549376025755648   \n",
       "1  Twitter for Android  2022-09-26 23:59:58+00:00  1574549371961544704   \n",
       "2   Twitter for iPhone  2022-09-26 23:59:56+00:00  1574549362314723331   \n",
       "3  Twitter for Android  2022-09-26 23:59:54+00:00  1574549355977023488   \n",
       "4      Twitter Web App  2022-09-26 23:59:54+00:00  1574549355176001542   \n",
       "\n",
       "                                                                                                                                                                                                                                                                                                    tweet_text  \\\n",
       "0                                                                                                                                                                                                                                                               Get lost Hurricane Ian https://t.co/xsY8JlKe8h   \n",
       "1                                                                                                                                                                                                                                             @SunnyPete6760 Wish us well during Hurricane Ian! \\nHey buddy! 😊   \n",
       "2  Stressed about Hurricane Ian,seriously don’t want to leave my home to evacuate, but will have no choice. Tomorrow I know I’ll get the order, Zone B. I evacuated for Irma, much has change for me in 5 yrs, seems overwhelming now. One thing, I’m blessed to have family to go to. https://t.co/cVfqjszxJN   \n",
       "3                                                                                                                                                                 RT @_chaibear: ppl really telling me to \"be careful\" for hurricane ian as if i havent spent hundreds of hours playing natural disaster surv…   \n",
       "4                                                                                                                                                                 RT @stratosphere53: Canada counts damage after Fiona; Cuba and Florida brace for storm Ian - Breitbart https://t.co/Wk7hVAu6nf via @Breitba…   \n",
       "\n",
       "   favorite_count  retweet_count  \n",
       "0               3              0  \n",
       "1               0              0  \n",
       "2               0              1  \n",
       "3               0              1  \n",
       "4               0              1  "
      ]
     },
     "execution_count": 20,
     "metadata": {},
     "output_type": "execute_result"
    }
   ],
   "source": [
    "# remove the emojis from the userName\n",
    "hurricane['userName'] = hurricane['userName'].apply(lambda x: x.encode('ascii', 'ignore').decode('ascii'))\n",
    "hurricane.head()"
   ]
  },
  {
   "cell_type": "markdown",
   "id": "1323e3c2",
   "metadata": {},
   "source": [
    "### Action 2: remove emojis from tweets"
   ]
  },
  {
   "cell_type": "code",
   "execution_count": 21,
   "id": "51d78a8f",
   "metadata": {},
   "outputs": [],
   "source": [
    "# remove all the emojis from the tweet_text\n"
   ]
  },
  {
   "cell_type": "markdown",
   "id": "0d12d6c3",
   "metadata": {},
   "source": [
    "### How many retweets in this dataset (contain RT in front of the tweets)"
   ]
  },
  {
   "cell_type": "code",
   "execution_count": 22,
   "id": "3203f43a",
   "metadata": {},
   "outputs": [
    {
     "data": {
      "text/plain": [
       "0          []\n",
       "1          []\n",
       "2          []\n",
       "3      [RT @]\n",
       "4      [RT @]\n",
       "        ...  \n",
       "995        []\n",
       "996    [RT @]\n",
       "997    [RT @]\n",
       "998    [RT @]\n",
       "999    [RT @]\n",
       "Name: tweet_text, Length: 1000, dtype: object"
      ]
     },
     "execution_count": 22,
     "metadata": {},
     "output_type": "execute_result"
    }
   ],
   "source": [
    "# find out the tweets that contain \"RT @\" (retweets)\n",
    "hurricane['tweet_text'].str.findall(\"RT @\")"
   ]
  },
  {
   "cell_type": "code",
   "execution_count": 23,
   "id": "4fa24ee4",
   "metadata": {},
   "outputs": [
    {
     "data": {
      "text/plain": [
       "811"
      ]
     },
     "execution_count": 23,
     "metadata": {},
     "output_type": "execute_result"
    }
   ],
   "source": [
    "# remove the brackets then count values (compare to .apply(', '.join))\n",
    "hurricane['tweet_text'].str.findall(\"RT @\").str[0].count() # use dataframe['column'].str[0] to remove the bracket, for more info: https://stackoverflow.com/questions/38147447/how-to-remove-square-bracket-from-pandas-dataframe"
   ]
  },
  {
   "cell_type": "markdown",
   "id": "6898d467",
   "metadata": {},
   "source": [
    "### Find the original tweets in this dataset"
   ]
  },
  {
   "cell_type": "code",
   "execution_count": 24,
   "id": "a11184a6",
   "metadata": {},
   "outputs": [
    {
     "data": {
      "text/html": [
       "<div>\n",
       "<style scoped>\n",
       "    .dataframe tbody tr th:only-of-type {\n",
       "        vertical-align: middle;\n",
       "    }\n",
       "\n",
       "    .dataframe tbody tr th {\n",
       "        vertical-align: top;\n",
       "    }\n",
       "\n",
       "    .dataframe thead th {\n",
       "        text-align: right;\n",
       "    }\n",
       "</style>\n",
       "<table border=\"1\" class=\"dataframe\">\n",
       "  <thead>\n",
       "    <tr style=\"text-align: right;\">\n",
       "      <th></th>\n",
       "      <th>userName</th>\n",
       "      <th>screenName</th>\n",
       "      <th>userID</th>\n",
       "      <th>userLocation</th>\n",
       "      <th>user_descrip</th>\n",
       "      <th>user_url</th>\n",
       "      <th>followers</th>\n",
       "      <th>friends</th>\n",
       "      <th>user_ctime</th>\n",
       "      <th>source</th>\n",
       "      <th>post_time</th>\n",
       "      <th>tweet_id</th>\n",
       "      <th>tweet_text</th>\n",
       "      <th>favorite_count</th>\n",
       "      <th>retweet_count</th>\n",
       "      <th>RT</th>\n",
       "    </tr>\n",
       "  </thead>\n",
       "  <tbody>\n",
       "    <tr>\n",
       "      <th>0</th>\n",
       "      <td>Convenience Store News.</td>\n",
       "      <td>CStoreNews_</td>\n",
       "      <td>156666863</td>\n",
       "      <td>ORD</td>\n",
       "      <td>Top Convenience Retail Influencer Millions of Views Marketing Data Data Grocery Food Service Data Gas Pricing Data Beverage Data Tobacco Data. DM For Removal</td>\n",
       "      <td>NaN</td>\n",
       "      <td>43224</td>\n",
       "      <td>47652</td>\n",
       "      <td>2010-06-17 15:20:29+00:00</td>\n",
       "      <td>Twitter for iPhone</td>\n",
       "      <td>2022-09-26 23:59:59+00:00</td>\n",
       "      <td>1574549376025755648</td>\n",
       "      <td>Get lost Hurricane Ian https://t.co/xsY8JlKe8h</td>\n",
       "      <td>3</td>\n",
       "      <td>0</td>\n",
       "      <td>True</td>\n",
       "    </tr>\n",
       "    <tr>\n",
       "      <th>1</th>\n",
       "      <td>Andrea Smith</td>\n",
       "      <td>dogparkgal</td>\n",
       "      <td>1509146276461531137</td>\n",
       "      <td>Florida, USA</td>\n",
       "      <td>Starting over after a hack. Was @dogparkgoddess Democracy will prevail. The GQP is trash, arrest them all.</td>\n",
       "      <td>NaN</td>\n",
       "      <td>2456</td>\n",
       "      <td>3467</td>\n",
       "      <td>2022-03-30 12:31:39+00:00</td>\n",
       "      <td>Twitter for Android</td>\n",
       "      <td>2022-09-26 23:59:58+00:00</td>\n",
       "      <td>1574549371961544704</td>\n",
       "      <td>@SunnyPete6760 Wish us well during Hurricane Ian! \\nHey buddy! 😊</td>\n",
       "      <td>0</td>\n",
       "      <td>0</td>\n",
       "      <td>True</td>\n",
       "    </tr>\n",
       "    <tr>\n",
       "      <th>2</th>\n",
       "      <td>Sicilian-ShaSha</td>\n",
       "      <td>shash1960</td>\n",
       "      <td>1220870146039975936</td>\n",
       "      <td>NaN</td>\n",
       "      <td>American/Italian 🇺🇸🇮🇹 #MAGAAMERICAN 🇺🇸</td>\n",
       "      <td>NaN</td>\n",
       "      <td>307</td>\n",
       "      <td>333</td>\n",
       "      <td>2020-01-25 00:45:06+00:00</td>\n",
       "      <td>Twitter for iPhone</td>\n",
       "      <td>2022-09-26 23:59:56+00:00</td>\n",
       "      <td>1574549362314723331</td>\n",
       "      <td>Stressed about Hurricane Ian,seriously don’t want to leave my home to evacuate, but will have no choice. Tomorrow I know I’ll get the order, Zone B. I evacuated for Irma, much has change for me in 5 yrs, seems overwhelming now. One thing, I’m blessed to have family to go to. https://t.co/cVfqjszxJN</td>\n",
       "      <td>0</td>\n",
       "      <td>1</td>\n",
       "      <td>True</td>\n",
       "    </tr>\n",
       "    <tr>\n",
       "      <th>7</th>\n",
       "      <td>maryemma</td>\n",
       "      <td>maryemma41</td>\n",
       "      <td>1678901684</td>\n",
       "      <td>South Jersey (the shore)</td>\n",
       "      <td>NaN</td>\n",
       "      <td>NaN</td>\n",
       "      <td>234</td>\n",
       "      <td>531</td>\n",
       "      <td>2013-08-17 18:43:54+00:00</td>\n",
       "      <td>Twitter for Android</td>\n",
       "      <td>2022-09-26 23:59:52+00:00</td>\n",
       "      <td>1574549345428439058</td>\n",
       "      <td>My son is being evacuated back to Virginia due to Ian the hurricane. 🌀 He's leaving Georgia now.  Safe travels. Be safe.  I Love You ❤️ God keep him safe🙏🙏</td>\n",
       "      <td>54</td>\n",
       "      <td>3</td>\n",
       "      <td>True</td>\n",
       "    </tr>\n",
       "    <tr>\n",
       "      <th>13</th>\n",
       "      <td>Payton Malone WWL-TV</td>\n",
       "      <td>paytonmalonewx</td>\n",
       "      <td>833520575045894146</td>\n",
       "      <td>New Orleans, LA</td>\n",
       "      <td>@WWLTV CBS Morning Meteorologist in New Orleans • University of Oklahoma • Baking &amp; Photography for Fun</td>\n",
       "      <td>https://t.co/wDfyu7MGgK</td>\n",
       "      <td>7455</td>\n",
       "      <td>810</td>\n",
       "      <td>2017-02-20 03:36:05+00:00</td>\n",
       "      <td>SocialNewsDesk</td>\n",
       "      <td>2022-09-26 23:59:47+00:00</td>\n",
       "      <td>1574549326977814528</td>\n",
       "      <td>Here is the latest on #Ian. More information here: https://t.co/WrsMsSPKpH #BeOn4 #tropics @wwltv https://t.co/CYfC7fdi9D</td>\n",
       "      <td>5</td>\n",
       "      <td>0</td>\n",
       "      <td>True</td>\n",
       "    </tr>\n",
       "  </tbody>\n",
       "</table>\n",
       "</div>"
      ],
      "text/plain": [
       "                   userName      screenName               userID  \\\n",
       "0   Convenience Store News.     CStoreNews_            156666863   \n",
       "1             Andrea Smith       dogparkgal  1509146276461531137   \n",
       "2          Sicilian-ShaSha        shash1960  1220870146039975936   \n",
       "7                  maryemma      maryemma41           1678901684   \n",
       "13     Payton Malone WWL-TV  paytonmalonewx   833520575045894146   \n",
       "\n",
       "                userLocation  \\\n",
       "0                       ORD    \n",
       "1               Florida, USA   \n",
       "2                        NaN   \n",
       "7   South Jersey (the shore)   \n",
       "13           New Orleans, LA   \n",
       "\n",
       "                                                                                                                                                     user_descrip  \\\n",
       "0   Top Convenience Retail Influencer Millions of Views Marketing Data Data Grocery Food Service Data Gas Pricing Data Beverage Data Tobacco Data. DM For Removal   \n",
       "1                                                      Starting over after a hack. Was @dogparkgoddess Democracy will prevail. The GQP is trash, arrest them all.   \n",
       "2                                                                                                                          American/Italian 🇺🇸🇮🇹 #MAGAAMERICAN 🇺🇸   \n",
       "7                                                                                                                                                             NaN   \n",
       "13                                                        @WWLTV CBS Morning Meteorologist in New Orleans • University of Oklahoma • Baking & Photography for Fun   \n",
       "\n",
       "                   user_url  followers  friends                 user_ctime  \\\n",
       "0                       NaN      43224    47652  2010-06-17 15:20:29+00:00   \n",
       "1                       NaN       2456     3467  2022-03-30 12:31:39+00:00   \n",
       "2                       NaN        307      333  2020-01-25 00:45:06+00:00   \n",
       "7                       NaN        234      531  2013-08-17 18:43:54+00:00   \n",
       "13  https://t.co/wDfyu7MGgK       7455      810  2017-02-20 03:36:05+00:00   \n",
       "\n",
       "                 source                  post_time             tweet_id  \\\n",
       "0    Twitter for iPhone  2022-09-26 23:59:59+00:00  1574549376025755648   \n",
       "1   Twitter for Android  2022-09-26 23:59:58+00:00  1574549371961544704   \n",
       "2    Twitter for iPhone  2022-09-26 23:59:56+00:00  1574549362314723331   \n",
       "7   Twitter for Android  2022-09-26 23:59:52+00:00  1574549345428439058   \n",
       "13       SocialNewsDesk  2022-09-26 23:59:47+00:00  1574549326977814528   \n",
       "\n",
       "                                                                                                                                                                                                                                                                                                     tweet_text  \\\n",
       "0                                                                                                                                                                                                                                                                Get lost Hurricane Ian https://t.co/xsY8JlKe8h   \n",
       "1                                                                                                                                                                                                                                              @SunnyPete6760 Wish us well during Hurricane Ian! \\nHey buddy! 😊   \n",
       "2   Stressed about Hurricane Ian,seriously don’t want to leave my home to evacuate, but will have no choice. Tomorrow I know I’ll get the order, Zone B. I evacuated for Irma, much has change for me in 5 yrs, seems overwhelming now. One thing, I’m blessed to have family to go to. https://t.co/cVfqjszxJN   \n",
       "7                                                                                                                                                   My son is being evacuated back to Virginia due to Ian the hurricane. 🌀 He's leaving Georgia now.  Safe travels. Be safe.  I Love You ❤️ God keep him safe🙏🙏   \n",
       "13                                                                                                                                                                                    Here is the latest on #Ian. More information here: https://t.co/WrsMsSPKpH #BeOn4 #tropics @wwltv https://t.co/CYfC7fdi9D   \n",
       "\n",
       "    favorite_count  retweet_count    RT  \n",
       "0                3              0  True  \n",
       "1                0              0  True  \n",
       "2                0              1  True  \n",
       "7               54              3  True  \n",
       "13               5              0  True  "
      ]
     },
     "execution_count": 24,
     "metadata": {},
     "output_type": "execute_result"
    }
   ],
   "source": [
    "# hint: fint the tweets that do not contain RT\n",
    "hurricane['RT'] = hurricane['tweet_text'].str.findall(\"RT @\").str[0] #tweets contain RT @\n",
    "hurricane['RT'] = hurricane['RT'].isnull() #find the null values (do not contain RT)\n",
    "hurricane[hurricane['RT'] == True].head() #True means null values (isnull); False means contains RT @ (isn't null)"
   ]
  },
  {
   "cell_type": "code",
   "execution_count": 25,
   "id": "536fd123",
   "metadata": {},
   "outputs": [
    {
     "data": {
      "text/html": [
       "<div>\n",
       "<style scoped>\n",
       "    .dataframe tbody tr th:only-of-type {\n",
       "        vertical-align: middle;\n",
       "    }\n",
       "\n",
       "    .dataframe tbody tr th {\n",
       "        vertical-align: top;\n",
       "    }\n",
       "\n",
       "    .dataframe thead th {\n",
       "        text-align: right;\n",
       "    }\n",
       "</style>\n",
       "<table border=\"1\" class=\"dataframe\">\n",
       "  <thead>\n",
       "    <tr style=\"text-align: right;\">\n",
       "      <th></th>\n",
       "      <th>userName</th>\n",
       "      <th>screenName</th>\n",
       "      <th>userID</th>\n",
       "      <th>userLocation</th>\n",
       "      <th>user_descrip</th>\n",
       "      <th>user_url</th>\n",
       "      <th>followers</th>\n",
       "      <th>friends</th>\n",
       "      <th>user_ctime</th>\n",
       "      <th>source</th>\n",
       "      <th>post_time</th>\n",
       "      <th>tweet_id</th>\n",
       "      <th>tweet_text</th>\n",
       "      <th>favorite_count</th>\n",
       "      <th>retweet_count</th>\n",
       "      <th>RT</th>\n",
       "    </tr>\n",
       "  </thead>\n",
       "  <tbody>\n",
       "    <tr>\n",
       "      <th>0</th>\n",
       "      <td>Convenience Store News.</td>\n",
       "      <td>CStoreNews_</td>\n",
       "      <td>156666863</td>\n",
       "      <td>ORD</td>\n",
       "      <td>Top Convenience Retail Influencer Millions of Views Marketing Data Data Grocery Food Service Data Gas Pricing Data Beverage Data Tobacco Data. DM For Removal</td>\n",
       "      <td>NaN</td>\n",
       "      <td>43224</td>\n",
       "      <td>47652</td>\n",
       "      <td>2010-06-17 15:20:29+00:00</td>\n",
       "      <td>Twitter for iPhone</td>\n",
       "      <td>2022-09-26 23:59:59+00:00</td>\n",
       "      <td>1574549376025755648</td>\n",
       "      <td>Get lost Hurricane Ian https://t.co/xsY8JlKe8h</td>\n",
       "      <td>3</td>\n",
       "      <td>0</td>\n",
       "      <td>True</td>\n",
       "    </tr>\n",
       "    <tr>\n",
       "      <th>1</th>\n",
       "      <td>Andrea Smith</td>\n",
       "      <td>dogparkgal</td>\n",
       "      <td>1509146276461531137</td>\n",
       "      <td>Florida, USA</td>\n",
       "      <td>Starting over after a hack. Was @dogparkgoddess Democracy will prevail. The GQP is trash, arrest them all.</td>\n",
       "      <td>NaN</td>\n",
       "      <td>2456</td>\n",
       "      <td>3467</td>\n",
       "      <td>2022-03-30 12:31:39+00:00</td>\n",
       "      <td>Twitter for Android</td>\n",
       "      <td>2022-09-26 23:59:58+00:00</td>\n",
       "      <td>1574549371961544704</td>\n",
       "      <td>@SunnyPete6760 Wish us well during Hurricane Ian! \\nHey buddy! 😊</td>\n",
       "      <td>0</td>\n",
       "      <td>0</td>\n",
       "      <td>True</td>\n",
       "    </tr>\n",
       "    <tr>\n",
       "      <th>2</th>\n",
       "      <td>Sicilian-ShaSha</td>\n",
       "      <td>shash1960</td>\n",
       "      <td>1220870146039975936</td>\n",
       "      <td>NaN</td>\n",
       "      <td>American/Italian 🇺🇸🇮🇹 #MAGAAMERICAN 🇺🇸</td>\n",
       "      <td>NaN</td>\n",
       "      <td>307</td>\n",
       "      <td>333</td>\n",
       "      <td>2020-01-25 00:45:06+00:00</td>\n",
       "      <td>Twitter for iPhone</td>\n",
       "      <td>2022-09-26 23:59:56+00:00</td>\n",
       "      <td>1574549362314723331</td>\n",
       "      <td>Stressed about Hurricane Ian,seriously don’t want to leave my home to evacuate, but will have no choice. Tomorrow I know I’ll get the order, Zone B. I evacuated for Irma, much has change for me in 5 yrs, seems overwhelming now. One thing, I’m blessed to have family to go to. https://t.co/cVfqjszxJN</td>\n",
       "      <td>0</td>\n",
       "      <td>1</td>\n",
       "      <td>True</td>\n",
       "    </tr>\n",
       "    <tr>\n",
       "      <th>7</th>\n",
       "      <td>maryemma</td>\n",
       "      <td>maryemma41</td>\n",
       "      <td>1678901684</td>\n",
       "      <td>South Jersey (the shore)</td>\n",
       "      <td>NaN</td>\n",
       "      <td>NaN</td>\n",
       "      <td>234</td>\n",
       "      <td>531</td>\n",
       "      <td>2013-08-17 18:43:54+00:00</td>\n",
       "      <td>Twitter for Android</td>\n",
       "      <td>2022-09-26 23:59:52+00:00</td>\n",
       "      <td>1574549345428439058</td>\n",
       "      <td>My son is being evacuated back to Virginia due to Ian the hurricane. 🌀 He's leaving Georgia now.  Safe travels. Be safe.  I Love You ❤️ God keep him safe🙏🙏</td>\n",
       "      <td>54</td>\n",
       "      <td>3</td>\n",
       "      <td>True</td>\n",
       "    </tr>\n",
       "    <tr>\n",
       "      <th>13</th>\n",
       "      <td>Payton Malone WWL-TV</td>\n",
       "      <td>paytonmalonewx</td>\n",
       "      <td>833520575045894146</td>\n",
       "      <td>New Orleans, LA</td>\n",
       "      <td>@WWLTV CBS Morning Meteorologist in New Orleans • University of Oklahoma • Baking &amp; Photography for Fun</td>\n",
       "      <td>https://t.co/wDfyu7MGgK</td>\n",
       "      <td>7455</td>\n",
       "      <td>810</td>\n",
       "      <td>2017-02-20 03:36:05+00:00</td>\n",
       "      <td>SocialNewsDesk</td>\n",
       "      <td>2022-09-26 23:59:47+00:00</td>\n",
       "      <td>1574549326977814528</td>\n",
       "      <td>Here is the latest on #Ian. More information here: https://t.co/WrsMsSPKpH #BeOn4 #tropics @wwltv https://t.co/CYfC7fdi9D</td>\n",
       "      <td>5</td>\n",
       "      <td>0</td>\n",
       "      <td>True</td>\n",
       "    </tr>\n",
       "  </tbody>\n",
       "</table>\n",
       "</div>"
      ],
      "text/plain": [
       "                   userName      screenName               userID  \\\n",
       "0   Convenience Store News.     CStoreNews_            156666863   \n",
       "1             Andrea Smith       dogparkgal  1509146276461531137   \n",
       "2          Sicilian-ShaSha        shash1960  1220870146039975936   \n",
       "7                  maryemma      maryemma41           1678901684   \n",
       "13     Payton Malone WWL-TV  paytonmalonewx   833520575045894146   \n",
       "\n",
       "                userLocation  \\\n",
       "0                       ORD    \n",
       "1               Florida, USA   \n",
       "2                        NaN   \n",
       "7   South Jersey (the shore)   \n",
       "13           New Orleans, LA   \n",
       "\n",
       "                                                                                                                                                     user_descrip  \\\n",
       "0   Top Convenience Retail Influencer Millions of Views Marketing Data Data Grocery Food Service Data Gas Pricing Data Beverage Data Tobacco Data. DM For Removal   \n",
       "1                                                      Starting over after a hack. Was @dogparkgoddess Democracy will prevail. The GQP is trash, arrest them all.   \n",
       "2                                                                                                                          American/Italian 🇺🇸🇮🇹 #MAGAAMERICAN 🇺🇸   \n",
       "7                                                                                                                                                             NaN   \n",
       "13                                                        @WWLTV CBS Morning Meteorologist in New Orleans • University of Oklahoma • Baking & Photography for Fun   \n",
       "\n",
       "                   user_url  followers  friends                 user_ctime  \\\n",
       "0                       NaN      43224    47652  2010-06-17 15:20:29+00:00   \n",
       "1                       NaN       2456     3467  2022-03-30 12:31:39+00:00   \n",
       "2                       NaN        307      333  2020-01-25 00:45:06+00:00   \n",
       "7                       NaN        234      531  2013-08-17 18:43:54+00:00   \n",
       "13  https://t.co/wDfyu7MGgK       7455      810  2017-02-20 03:36:05+00:00   \n",
       "\n",
       "                 source                  post_time             tweet_id  \\\n",
       "0    Twitter for iPhone  2022-09-26 23:59:59+00:00  1574549376025755648   \n",
       "1   Twitter for Android  2022-09-26 23:59:58+00:00  1574549371961544704   \n",
       "2    Twitter for iPhone  2022-09-26 23:59:56+00:00  1574549362314723331   \n",
       "7   Twitter for Android  2022-09-26 23:59:52+00:00  1574549345428439058   \n",
       "13       SocialNewsDesk  2022-09-26 23:59:47+00:00  1574549326977814528   \n",
       "\n",
       "                                                                                                                                                                                                                                                                                                     tweet_text  \\\n",
       "0                                                                                                                                                                                                                                                                Get lost Hurricane Ian https://t.co/xsY8JlKe8h   \n",
       "1                                                                                                                                                                                                                                              @SunnyPete6760 Wish us well during Hurricane Ian! \\nHey buddy! 😊   \n",
       "2   Stressed about Hurricane Ian,seriously don’t want to leave my home to evacuate, but will have no choice. Tomorrow I know I’ll get the order, Zone B. I evacuated for Irma, much has change for me in 5 yrs, seems overwhelming now. One thing, I’m blessed to have family to go to. https://t.co/cVfqjszxJN   \n",
       "7                                                                                                                                                   My son is being evacuated back to Virginia due to Ian the hurricane. 🌀 He's leaving Georgia now.  Safe travels. Be safe.  I Love You ❤️ God keep him safe🙏🙏   \n",
       "13                                                                                                                                                                                    Here is the latest on #Ian. More information here: https://t.co/WrsMsSPKpH #BeOn4 #tropics @wwltv https://t.co/CYfC7fdi9D   \n",
       "\n",
       "    favorite_count  retweet_count    RT  \n",
       "0                3              0  True  \n",
       "1                0              0  True  \n",
       "2                0              1  True  \n",
       "7               54              3  True  \n",
       "13               5              0  True  "
      ]
     },
     "execution_count": 25,
     "metadata": {},
     "output_type": "execute_result"
    }
   ],
   "source": [
    "### Create a new dataframe that includes all the original tweets\n",
    "original = hurricane[hurricane['RT'] == True]\n",
    "original.head()"
   ]
  },
  {
   "cell_type": "markdown",
   "id": "53a7fa54",
   "metadata": {},
   "source": [
    "### How many original tweets?"
   ]
  },
  {
   "cell_type": "code",
   "execution_count": 26,
   "id": "2876b498",
   "metadata": {},
   "outputs": [
    {
     "data": {
      "text/plain": [
       "(189, 16)"
      ]
     },
     "execution_count": 26,
     "metadata": {},
     "output_type": "execute_result"
    }
   ],
   "source": [
    "original.shape"
   ]
  },
  {
   "cell_type": "markdown",
   "id": "1320a831",
   "metadata": {},
   "source": [
    "### Is the original post of the most retweeted tweet included in this dataset?"
   ]
  },
  {
   "cell_type": "code",
   "execution_count": 27,
   "id": "57975da2",
   "metadata": {},
   "outputs": [
    {
     "data": {
      "text/plain": [
       "999    RT @OccupyDemocrats: BREAKING: President Biden does what Trump never would, puts politics aside and pledges all “federal resources” necessa…\n",
       "Name: tweet_text, dtype: object"
      ]
     },
     "execution_count": 27,
     "metadata": {},
     "output_type": "execute_result"
    }
   ],
   "source": [
    "# find the most retweeted tweet\n",
    "hurricane.iloc[[999]]['tweet_text'] # row 999 should be included in the results of Action 1"
   ]
  },
  {
   "cell_type": "code",
   "execution_count": 54,
   "id": "8bd08fa3",
   "metadata": {},
   "outputs": [
    {
     "data": {
      "text/html": [
       "<div>\n",
       "<style scoped>\n",
       "    .dataframe tbody tr th:only-of-type {\n",
       "        vertical-align: middle;\n",
       "    }\n",
       "\n",
       "    .dataframe tbody tr th {\n",
       "        vertical-align: top;\n",
       "    }\n",
       "\n",
       "    .dataframe thead th {\n",
       "        text-align: right;\n",
       "    }\n",
       "</style>\n",
       "<table border=\"1\" class=\"dataframe\">\n",
       "  <thead>\n",
       "    <tr style=\"text-align: right;\">\n",
       "      <th></th>\n",
       "      <th>userName</th>\n",
       "      <th>screenName</th>\n",
       "      <th>userID</th>\n",
       "      <th>userLocation</th>\n",
       "      <th>user_descrip</th>\n",
       "      <th>user_url</th>\n",
       "      <th>followers</th>\n",
       "      <th>friends</th>\n",
       "      <th>user_ctime</th>\n",
       "      <th>source</th>\n",
       "      <th>post_time</th>\n",
       "      <th>tweet_id</th>\n",
       "      <th>tweet_text</th>\n",
       "      <th>favorite_count</th>\n",
       "      <th>retweet_count</th>\n",
       "      <th>RT</th>\n",
       "    </tr>\n",
       "  </thead>\n",
       "  <tbody>\n",
       "  </tbody>\n",
       "</table>\n",
       "</div>"
      ],
      "text/plain": [
       "Empty DataFrame\n",
       "Columns: [userName, screenName, userID, userLocation, user_descrip, user_url, followers, friends, user_ctime, source, post_time, tweet_id, tweet_text, favorite_count, retweet_count, RT]\n",
       "Index: []"
      ]
     },
     "execution_count": 54,
     "metadata": {},
     "output_type": "execute_result"
    }
   ],
   "source": [
    "# find the tweet_text contains the exact information\n",
    "\n",
    "most_RT = 'BREAKING: President Biden does what Trump never would, puts politics aside and pledges all federal resources necessa'\n",
    "\n",
    "original[original.apply(lambda row: row.astype(str).str.contains(most_RT, case=False).any(), axis=1)]\n",
    "# no values meaning the original tweets is not included in this dataset"
   ]
  },
  {
   "cell_type": "markdown",
   "id": "85d474ef",
   "metadata": {},
   "source": [
    "## The most retweeted tweet"
   ]
  },
  {
   "cell_type": "code",
   "execution_count": 63,
   "id": "c04391a3",
   "metadata": {
    "scrolled": true
   },
   "outputs": [
    {
     "data": {
      "text/plain": [
       "(99, 17)"
      ]
     },
     "execution_count": 63,
     "metadata": {},
     "output_type": "execute_result"
    }
   ],
   "source": [
    "# Create a new dataframe that includes all the 99 retweeters\n",
    "# they should retweet the same tweet\n",
    "most_RT_text = 'RT @OccupyDemocrats: BREAKING: President Biden does what Trump never would, puts politics aside and pledges all'\n",
    "mostRTdf = hurricane[hurricane.apply(lambda row: row.astype(str).str.contains(most_RT_text, case=False).any(), axis=1)]\n",
    "mostRTdf.shape"
   ]
  },
  {
   "cell_type": "markdown",
   "id": "3e215a0b",
   "metadata": {},
   "source": [
    "### Where are these 99 retweeters from? "
   ]
  },
  {
   "cell_type": "code",
   "execution_count": 64,
   "id": "5cd85d4e",
   "metadata": {},
   "outputs": [
    {
     "name": "stderr",
     "output_type": "stream",
     "text": [
      "C:\\Users\\rachaelxiong\\AppData\\Local\\Temp\\ipykernel_8904\\2075805783.py:2: SettingWithCopyWarning: \n",
      "A value is trying to be set on a copy of a slice from a DataFrame\n",
      "\n",
      "See the caveats in the documentation: https://pandas.pydata.org/pandas-docs/stable/user_guide/indexing.html#returning-a-view-versus-a-copy\n",
      "  mostRTdf.dropna(subset=['userLocation'], inplace = True)\n"
     ]
    },
    {
     "data": {
      "text/plain": [
       "(44, 17)"
      ]
     },
     "execution_count": 64,
     "metadata": {},
     "output_type": "execute_result"
    }
   ],
   "source": [
    "# drop the rows have null values in userLocation\n",
    "mostRTdf.dropna(subset=['userLocation'], inplace = True)\n",
    "mostRTdf.shape"
   ]
  },
  {
   "cell_type": "code",
   "execution_count": 65,
   "id": "8472a6ef",
   "metadata": {},
   "outputs": [
    {
     "data": {
      "text/plain": [
       "41                     Brooklyn\n",
       "63                      A Place\n",
       "79           West Atlantic City\n",
       "131                     chicago\n",
       "148                       Miami\n",
       "203                    Montreal\n",
       "226                     Houston\n",
       "230                      Sydney\n",
       "239               ÜT: 43.752871\n",
       "257                   Albany NY\n",
       "263                 Panama City\n",
       "264                     NYC/ ME\n",
       "346                     Florida\n",
       "378           Pacific Northwest\n",
       "382                        Hell\n",
       "396    Somewhere lost in Oregon\n",
       "398               United States\n",
       "436                     orlando\n",
       "445                    michigan\n",
       "450                  Youngstown\n",
       "467                          MI\n",
       "475                    Waterloo\n",
       "499               Oklahoma City\n",
       "511                Grand Coulee\n",
       "515                       Boise\n",
       "530                Amherstburg \n",
       "546               Massachusetts\n",
       "561                     Georgia\n",
       "567                      Auburn\n",
       "573             Why do you ask?\n",
       "609                      Kokomo\n",
       "610                  California\n",
       "616            Newington Forest\n",
       "645                    Richboro\n",
       "687                   Nashville\n",
       "692                  California\n",
       "746                  East Coast\n",
       "775                     Houston\n",
       "777                      Yinzer\n",
       "778                      Ithaca\n",
       "786                  Pittsburgh\n",
       "791                  Birmingham\n",
       "871                      Tucson\n",
       "886               Inland Empire\n",
       "Name: userLocation, dtype: object"
      ]
     },
     "execution_count": 65,
     "metadata": {},
     "output_type": "execute_result"
    }
   ],
   "source": [
    "# breakdown the location by comma\n",
    "mostRTdf['userLocation'].str.split(',').str[0]"
   ]
  },
  {
   "cell_type": "markdown",
   "id": "d475e528",
   "metadata": {},
   "source": [
    "### Which place has the most retweeters?"
   ]
  },
  {
   "cell_type": "code",
   "execution_count": 66,
   "id": "e49921a4",
   "metadata": {},
   "outputs": [
    {
     "data": {
      "text/plain": [
       "Houston             2\n",
       "California          2\n",
       "Brooklyn            1\n",
       "Newington Forest    1\n",
       "Boise               1\n",
       "Name: userLocation, dtype: int64"
      ]
     },
     "execution_count": 66,
     "metadata": {},
     "output_type": "execute_result"
    }
   ],
   "source": [
    "mostRTdf['userLocation'].str.split(',').str[0].value_counts().head(5)"
   ]
  },
  {
   "cell_type": "markdown",
   "id": "621bd855",
   "metadata": {},
   "source": [
    "### What is the most popular source for these retweeters?"
   ]
  },
  {
   "cell_type": "code",
   "execution_count": 67,
   "id": "909b80f3",
   "metadata": {},
   "outputs": [
    {
     "name": "stderr",
     "output_type": "stream",
     "text": [
      "C:\\Users\\rachaelxiong\\AppData\\Local\\Temp\\ipykernel_8904\\858480705.py:2: SettingWithCopyWarning: \n",
      "A value is trying to be set on a copy of a slice from a DataFrame.\n",
      "Try using .loc[row_indexer,col_indexer] = value instead\n",
      "\n",
      "See the caveats in the documentation: https://pandas.pydata.org/pandas-docs/stable/user_guide/indexing.html#returning-a-view-versus-a-copy\n",
      "  mostRTdf['source'] = mostRTdf['source'].str.replace('Twitter for', '')\n",
      "C:\\Users\\rachaelxiong\\AppData\\Local\\Temp\\ipykernel_8904\\858480705.py:3: SettingWithCopyWarning: \n",
      "A value is trying to be set on a copy of a slice from a DataFrame.\n",
      "Try using .loc[row_indexer,col_indexer] = value instead\n",
      "\n",
      "See the caveats in the documentation: https://pandas.pydata.org/pandas-docs/stable/user_guide/indexing.html#returning-a-view-versus-a-copy\n",
      "  mostRTdf['source'] = mostRTdf['source'].str.replace('Twitter', '')\n"
     ]
    },
    {
     "data": {
      "text/plain": [
       "41      Web App\n",
       "63      Web App\n",
       "79       iPhone\n",
       "131      iPhone\n",
       "148     Android\n",
       "Name: source, dtype: object"
      ]
     },
     "execution_count": 67,
     "metadata": {},
     "output_type": "execute_result"
    }
   ],
   "source": [
    "# remove \"Twitter for\" and \"Twitter\" from source\n",
    "mostRTdf['source'] = mostRTdf['source'].str.replace('Twitter for', '')\n",
    "mostRTdf['source'] = mostRTdf['source'].str.replace('Twitter', '')\n",
    "mostRTdf['source'].head()"
   ]
  },
  {
   "cell_type": "code",
   "execution_count": 68,
   "id": "bd036e3d",
   "metadata": {},
   "outputs": [
    {
     "data": {
      "text/plain": [
       " iPhone     16\n",
       " Web App    13\n",
       " Android    13\n",
       " iPad        2\n",
       "Name: source, dtype: int64"
      ]
     },
     "execution_count": 68,
     "metadata": {},
     "output_type": "execute_result"
    }
   ],
   "source": [
    "# count the frequency for each source\n",
    "mostRTdf['source'].value_counts()"
   ]
  },
  {
   "cell_type": "markdown",
   "id": "d3a3b26d",
   "metadata": {},
   "source": [
    "### Action 3: Who is the influencer among these retweeters?"
   ]
  },
  {
   "cell_type": "code",
   "execution_count": 36,
   "id": "36644070",
   "metadata": {},
   "outputs": [],
   "source": [
    "# hint: sort the number of followers"
   ]
  },
  {
   "cell_type": "markdown",
   "id": "7d42e7a0",
   "metadata": {},
   "source": [
    "### Action 4: Let's dig up the original tweets (using the \"original\" dataframe)"
   ]
  },
  {
   "cell_type": "code",
   "execution_count": 37,
   "id": "25de0f23",
   "metadata": {},
   "outputs": [],
   "source": [
    "# Action 4.1: Who posts the most original tweets?\n",
    "# hint: count the frequency of screenName"
   ]
  },
  {
   "cell_type": "code",
   "execution_count": 38,
   "id": "78bbe827",
   "metadata": {},
   "outputs": [],
   "source": [
    "# Action 4.2: Who is the influencer among these original tweets users/authors?\n",
    "# hint: find the largest the number of followers"
   ]
  },
  {
   "cell_type": "code",
   "execution_count": 39,
   "id": "75c05167",
   "metadata": {},
   "outputs": [],
   "source": [
    "# Action 4.3: Which original tweet has been retweeted the most?\n",
    "# hint: find the largest number of retweet_count"
   ]
  },
  {
   "cell_type": "code",
   "execution_count": 40,
   "id": "a5454c8c",
   "metadata": {},
   "outputs": [],
   "source": [
    "# Action 4.4: Where are these original tweets authors from? (location)"
   ]
  },
  {
   "cell_type": "code",
   "execution_count": 41,
   "id": "5f7cd2b4",
   "metadata": {},
   "outputs": [],
   "source": [
    "# Action 4.5: Which place is the most popular place for the original tweets users/authors?"
   ]
  },
  {
   "cell_type": "code",
   "execution_count": 42,
   "id": "0b6f6432",
   "metadata": {},
   "outputs": [],
   "source": [
    "# Action 4.6: Which is the most popular source for the original tweets users/authors?"
   ]
  },
  {
   "cell_type": "markdown",
   "id": "9d91f62d",
   "metadata": {},
   "source": [
    "### Find out all the hashtags from the tweet texts"
   ]
  },
  {
   "cell_type": "code",
   "execution_count": 69,
   "id": "d8e9a63f",
   "metadata": {},
   "outputs": [
    {
     "data": {
      "text/html": [
       "<div>\n",
       "<style scoped>\n",
       "    .dataframe tbody tr th:only-of-type {\n",
       "        vertical-align: middle;\n",
       "    }\n",
       "\n",
       "    .dataframe tbody tr th {\n",
       "        vertical-align: top;\n",
       "    }\n",
       "\n",
       "    .dataframe thead th {\n",
       "        text-align: right;\n",
       "    }\n",
       "</style>\n",
       "<table border=\"1\" class=\"dataframe\">\n",
       "  <thead>\n",
       "    <tr style=\"text-align: right;\">\n",
       "      <th></th>\n",
       "      <th>userName</th>\n",
       "      <th>screenName</th>\n",
       "      <th>userID</th>\n",
       "      <th>userLocation</th>\n",
       "      <th>user_descrip</th>\n",
       "      <th>user_url</th>\n",
       "      <th>followers</th>\n",
       "      <th>friends</th>\n",
       "      <th>user_ctime</th>\n",
       "      <th>source</th>\n",
       "      <th>post_time</th>\n",
       "      <th>tweet_id</th>\n",
       "      <th>tweet_text</th>\n",
       "      <th>favorite_count</th>\n",
       "      <th>retweet_count</th>\n",
       "      <th>RT</th>\n",
       "      <th>hashtags</th>\n",
       "    </tr>\n",
       "  </thead>\n",
       "  <tbody>\n",
       "    <tr>\n",
       "      <th>0</th>\n",
       "      <td>Convenience Store News.</td>\n",
       "      <td>CStoreNews_</td>\n",
       "      <td>156666863</td>\n",
       "      <td>ORD</td>\n",
       "      <td>Top Convenience Retail Influencer Millions of Views Marketing Data Data Grocery Food Service Data Gas Pricing Data Beverage Data Tobacco Data. DM For Removal</td>\n",
       "      <td>NaN</td>\n",
       "      <td>43224</td>\n",
       "      <td>47652</td>\n",
       "      <td>2010-06-17 15:20:29+00:00</td>\n",
       "      <td>Twitter for iPhone</td>\n",
       "      <td>2022-09-26 23:59:59+00:00</td>\n",
       "      <td>1574549376025755648</td>\n",
       "      <td>Get lost Hurricane Ian https://t.co/xsY8JlKe8h</td>\n",
       "      <td>3</td>\n",
       "      <td>0</td>\n",
       "      <td>True</td>\n",
       "      <td>NaN</td>\n",
       "    </tr>\n",
       "    <tr>\n",
       "      <th>1</th>\n",
       "      <td>Andrea Smith</td>\n",
       "      <td>dogparkgal</td>\n",
       "      <td>1509146276461531137</td>\n",
       "      <td>Florida, USA</td>\n",
       "      <td>Starting over after a hack. Was @dogparkgoddess Democracy will prevail. The GQP is trash, arrest them all.</td>\n",
       "      <td>NaN</td>\n",
       "      <td>2456</td>\n",
       "      <td>3467</td>\n",
       "      <td>2022-03-30 12:31:39+00:00</td>\n",
       "      <td>Twitter for Android</td>\n",
       "      <td>2022-09-26 23:59:58+00:00</td>\n",
       "      <td>1574549371961544704</td>\n",
       "      <td>@SunnyPete6760 Wish us well during Hurricane Ian! \\nHey buddy! 😊</td>\n",
       "      <td>0</td>\n",
       "      <td>0</td>\n",
       "      <td>True</td>\n",
       "      <td>NaN</td>\n",
       "    </tr>\n",
       "    <tr>\n",
       "      <th>2</th>\n",
       "      <td>Sicilian-ShaSha</td>\n",
       "      <td>shash1960</td>\n",
       "      <td>1220870146039975936</td>\n",
       "      <td>NaN</td>\n",
       "      <td>American/Italian 🇺🇸🇮🇹 #MAGAAMERICAN 🇺🇸</td>\n",
       "      <td>NaN</td>\n",
       "      <td>307</td>\n",
       "      <td>333</td>\n",
       "      <td>2020-01-25 00:45:06+00:00</td>\n",
       "      <td>Twitter for iPhone</td>\n",
       "      <td>2022-09-26 23:59:56+00:00</td>\n",
       "      <td>1574549362314723331</td>\n",
       "      <td>Stressed about Hurricane Ian,seriously don’t want to leave my home to evacuate, but will have no choice. Tomorrow I know I’ll get the order, Zone B. I evacuated for Irma, much has change for me in 5 yrs, seems overwhelming now. One thing, I’m blessed to have family to go to. https://t.co/cVfqjszxJN</td>\n",
       "      <td>0</td>\n",
       "      <td>1</td>\n",
       "      <td>True</td>\n",
       "      <td>NaN</td>\n",
       "    </tr>\n",
       "    <tr>\n",
       "      <th>3</th>\n",
       "      <td>Villain Character Development  Confuror 2022</td>\n",
       "      <td>KingOfFoxxes</td>\n",
       "      <td>1054890619867410433</td>\n",
       "      <td>Baja California, México</td>\n",
       "      <td>| 21 Y.O | Mexican 🇲🇽 | Coffe Boi ☕️ | ♣️ Life is a Gamble ♦️ | Any pronouns | DM Open! | Vent Account: @AngryCheeseBoy | Myosotis 🌸</td>\n",
       "      <td>NaN</td>\n",
       "      <td>270</td>\n",
       "      <td>1186</td>\n",
       "      <td>2018-10-24 00:21:37+00:00</td>\n",
       "      <td>Twitter for Android</td>\n",
       "      <td>2022-09-26 23:59:54+00:00</td>\n",
       "      <td>1574549355977023488</td>\n",
       "      <td>RT @_chaibear: ppl really telling me to \"be careful\" for hurricane ian as if i havent spent hundreds of hours playing natural disaster surv…</td>\n",
       "      <td>0</td>\n",
       "      <td>1</td>\n",
       "      <td>False</td>\n",
       "      <td>NaN</td>\n",
       "    </tr>\n",
       "    <tr>\n",
       "      <th>4</th>\n",
       "      <td>James Cooper</td>\n",
       "      <td>stratosphere53</td>\n",
       "      <td>50626909</td>\n",
       "      <td>Atlanta</td>\n",
       "      <td>Air Force Brat /  Vietnam veteran  /  Customer service in Insurance and Air conditioning  /  Cisco Networking student /  sixty-one years old but look forty</td>\n",
       "      <td>http://t.co/5gcImzgdlS</td>\n",
       "      <td>229</td>\n",
       "      <td>582</td>\n",
       "      <td>2009-06-25 12:06:55+00:00</td>\n",
       "      <td>Twitter Web App</td>\n",
       "      <td>2022-09-26 23:59:54+00:00</td>\n",
       "      <td>1574549355176001542</td>\n",
       "      <td>RT @stratosphere53: Canada counts damage after Fiona; Cuba and Florida brace for storm Ian - Breitbart https://t.co/Wk7hVAu6nf via @Breitba…</td>\n",
       "      <td>0</td>\n",
       "      <td>1</td>\n",
       "      <td>False</td>\n",
       "      <td>NaN</td>\n",
       "    </tr>\n",
       "  </tbody>\n",
       "</table>\n",
       "</div>"
      ],
      "text/plain": [
       "                                       userName      screenName  \\\n",
       "0                       Convenience Store News.     CStoreNews_   \n",
       "1                                 Andrea Smith       dogparkgal   \n",
       "2                              Sicilian-ShaSha        shash1960   \n",
       "3  Villain Character Development  Confuror 2022    KingOfFoxxes   \n",
       "4                                  James Cooper  stratosphere53   \n",
       "\n",
       "                userID             userLocation  \\\n",
       "0            156666863                     ORD    \n",
       "1  1509146276461531137             Florida, USA   \n",
       "2  1220870146039975936                      NaN   \n",
       "3  1054890619867410433  Baja California, México   \n",
       "4             50626909                  Atlanta   \n",
       "\n",
       "                                                                                                                                                    user_descrip  \\\n",
       "0  Top Convenience Retail Influencer Millions of Views Marketing Data Data Grocery Food Service Data Gas Pricing Data Beverage Data Tobacco Data. DM For Removal   \n",
       "1                                                     Starting over after a hack. Was @dogparkgoddess Democracy will prevail. The GQP is trash, arrest them all.   \n",
       "2                                                                                                                         American/Italian 🇺🇸🇮🇹 #MAGAAMERICAN 🇺🇸   \n",
       "3                           | 21 Y.O | Mexican 🇲🇽 | Coffe Boi ☕️ | ♣️ Life is a Gamble ♦️ | Any pronouns | DM Open! | Vent Account: @AngryCheeseBoy | Myosotis 🌸   \n",
       "4    Air Force Brat /  Vietnam veteran  /  Customer service in Insurance and Air conditioning  /  Cisco Networking student /  sixty-one years old but look forty   \n",
       "\n",
       "                 user_url  followers  friends                 user_ctime  \\\n",
       "0                     NaN      43224    47652  2010-06-17 15:20:29+00:00   \n",
       "1                     NaN       2456     3467  2022-03-30 12:31:39+00:00   \n",
       "2                     NaN        307      333  2020-01-25 00:45:06+00:00   \n",
       "3                     NaN        270     1186  2018-10-24 00:21:37+00:00   \n",
       "4  http://t.co/5gcImzgdlS        229      582  2009-06-25 12:06:55+00:00   \n",
       "\n",
       "                source                  post_time             tweet_id  \\\n",
       "0   Twitter for iPhone  2022-09-26 23:59:59+00:00  1574549376025755648   \n",
       "1  Twitter for Android  2022-09-26 23:59:58+00:00  1574549371961544704   \n",
       "2   Twitter for iPhone  2022-09-26 23:59:56+00:00  1574549362314723331   \n",
       "3  Twitter for Android  2022-09-26 23:59:54+00:00  1574549355977023488   \n",
       "4      Twitter Web App  2022-09-26 23:59:54+00:00  1574549355176001542   \n",
       "\n",
       "                                                                                                                                                                                                                                                                                                    tweet_text  \\\n",
       "0                                                                                                                                                                                                                                                               Get lost Hurricane Ian https://t.co/xsY8JlKe8h   \n",
       "1                                                                                                                                                                                                                                             @SunnyPete6760 Wish us well during Hurricane Ian! \\nHey buddy! 😊   \n",
       "2  Stressed about Hurricane Ian,seriously don’t want to leave my home to evacuate, but will have no choice. Tomorrow I know I’ll get the order, Zone B. I evacuated for Irma, much has change for me in 5 yrs, seems overwhelming now. One thing, I’m blessed to have family to go to. https://t.co/cVfqjszxJN   \n",
       "3                                                                                                                                                                 RT @_chaibear: ppl really telling me to \"be careful\" for hurricane ian as if i havent spent hundreds of hours playing natural disaster surv…   \n",
       "4                                                                                                                                                                 RT @stratosphere53: Canada counts damage after Fiona; Cuba and Florida brace for storm Ian - Breitbart https://t.co/Wk7hVAu6nf via @Breitba…   \n",
       "\n",
       "   favorite_count  retweet_count     RT hashtags  \n",
       "0               3              0   True      NaN  \n",
       "1               0              0   True      NaN  \n",
       "2               0              1   True      NaN  \n",
       "3               0              1  False      NaN  \n",
       "4               0              1  False      NaN  "
      ]
     },
     "execution_count": 69,
     "metadata": {},
     "output_type": "execute_result"
    }
   ],
   "source": [
    "# create a column name \"hashtags\" that includes all the hashtags for each tweet\n",
    "hurricane['hashtags']=hurricane['tweet_text'].str.findall(\"(?<=#)\\w+\").str[0]\n",
    "hurricane.head()"
   ]
  },
  {
   "cell_type": "code",
   "execution_count": 70,
   "id": "b505bcac",
   "metadata": {},
   "outputs": [
    {
     "data": {
      "text/plain": [
       "Ian             110\n",
       "HurricaneIan     15\n",
       "flwx             15\n",
       "makeianweak       8\n",
       "Hurricane         6\n",
       "Name: hashtags, dtype: int64"
      ]
     },
     "execution_count": 70,
     "metadata": {},
     "output_type": "execute_result"
    }
   ],
   "source": [
    "# the most used hashtags \n",
    "hurricane['hashtags'].value_counts().head(5) #top 5 used hashtags"
   ]
  },
  {
   "cell_type": "markdown",
   "id": "0bbcd9f5",
   "metadata": {},
   "source": [
    "### Action 5: Find out all the mentions from the tweet texts"
   ]
  },
  {
   "cell_type": "code",
   "execution_count": 45,
   "id": "83fcf34f",
   "metadata": {},
   "outputs": [],
   "source": [
    "# Action 5.1: create a column name \"mentions\" that includes all the mentions for each tweet\n",
    "# hint: @"
   ]
  },
  {
   "cell_type": "code",
   "execution_count": 46,
   "id": "8e44a7e4",
   "metadata": {},
   "outputs": [],
   "source": [
    "# Action 5.2: who is the most mentioned one?\n"
   ]
  },
  {
   "cell_type": "markdown",
   "id": "7aed28b6",
   "metadata": {},
   "source": [
    "# 4. Tweets text analysis"
   ]
  },
  {
   "cell_type": "markdown",
   "id": "4e7dce21",
   "metadata": {},
   "source": [
    "### Word Frequencies Process"
   ]
  },
  {
   "cell_type": "markdown",
   "id": "5c09e6d7",
   "metadata": {},
   "source": [
    "#### Word frequency for orginial tweets"
   ]
  },
  {
   "cell_type": "code",
   "execution_count": 71,
   "id": "39f133af",
   "metadata": {},
   "outputs": [
    {
     "name": "stderr",
     "output_type": "stream",
     "text": [
      "C:\\Users\\rachaelxiong\\AppData\\Local\\Temp\\ipykernel_8904\\476084555.py:2: FutureWarning: The default value of regex will change from True to False in a future version.\n",
      "  Otweets = original['tweet_text'].str.replace(r'[^a-zA-Z0-9]+', ' ')\n"
     ]
    },
    {
     "data": {
      "text/plain": [
       "0                                                                                                                                                                                                                                                         Get lost Hurricane Ian https t co xsY8JlKe8h\n",
       "1                                                                                                                                                                                                                                           SunnyPete6760 Wish us well during Hurricane Ian Hey buddy \n",
       "2     Stressed about Hurricane Ian seriously don t want to leave my home to evacuate but will have no choice Tomorrow I know I ll get the order Zone B I evacuated for Irma much has change for me in 5 yrs seems overwhelming now One thing I m blessed to have family to go to https t co cVfqjszxJN\n",
       "7                                                                                                                                                      My son is being evacuated back to Virginia due to Ian the hurricane He s leaving Georgia now Safe travels Be safe I Love You God keep him safe \n",
       "13                                                                                                                                                                                     Here is the latest on Ian More information here https t co WrsMsSPKpH BeOn4 tropics wwltv https t co CYfC7fdi9D\n",
       "Name: tweet_text, dtype: object"
      ]
     },
     "execution_count": 71,
     "metadata": {},
     "output_type": "execute_result"
    }
   ],
   "source": [
    "#convert lists to strings and remove useless symbols\n",
    "Otweets = original['tweet_text'].str.replace(r'[^a-zA-Z0-9]+', ' ')\n",
    "#the most retweeted tweet text may influence the word frequency results, let's exclude them\n",
    "Otweets.head()"
   ]
  },
  {
   "cell_type": "code",
   "execution_count": 72,
   "id": "2a0d1a85",
   "metadata": {},
   "outputs": [
    {
     "data": {
      "text/plain": [
       "0                                                                                                                                                                                                                                                         get lost hurricane ian https t co xsy8jlke8h\n",
       "1                                                                                                                                                                                                                                           sunnypete6760 wish us well during hurricane ian hey buddy \n",
       "2     stressed about hurricane ian seriously don t want to leave my home to evacuate but will have no choice tomorrow i know i ll get the order zone b i evacuated for irma much has change for me in 5 yrs seems overwhelming now one thing i m blessed to have family to go to https t co cvfqjszxjn\n",
       "7                                                                                                                                                      my son is being evacuated back to virginia due to ian the hurricane he s leaving georgia now safe travels be safe i love you god keep him safe \n",
       "13                                                                                                                                                                                     here is the latest on ian more information here https t co wrsmsspkph beon4 tropics wwltv https t co cyfc7fdi9d\n",
       "Name: tweet_text, dtype: object"
      ]
     },
     "execution_count": 72,
     "metadata": {},
     "output_type": "execute_result"
    }
   ],
   "source": [
    "#lowercase\n",
    "lower = Otweets.str.lower()\n",
    "lower.head()"
   ]
  },
  {
   "cell_type": "code",
   "execution_count": 50,
   "id": "2ae573ae",
   "metadata": {},
   "outputs": [],
   "source": [
    "# remove the stopwords\n",
    "from nltk.corpus import stopwords\n",
    "import nltk"
   ]
  },
  {
   "cell_type": "code",
   "execution_count": 51,
   "id": "4e3aa6ce",
   "metadata": {},
   "outputs": [
    {
     "name": "stderr",
     "output_type": "stream",
     "text": [
      "[nltk_data] Downloading package stopwords to\n",
      "[nltk_data]     C:\\Users\\rachaelxiong\\AppData\\Roaming\\nltk_data...\n",
      "[nltk_data]   Unzipping corpora\\stopwords.zip.\n"
     ]
    },
    {
     "data": {
      "text/plain": [
       "True"
      ]
     },
     "execution_count": 51,
     "metadata": {},
     "output_type": "execute_result"
    }
   ],
   "source": [
    "nltk.download('stopwords')"
   ]
  },
  {
   "cell_type": "code",
   "execution_count": 73,
   "id": "f4dd58df",
   "metadata": {},
   "outputs": [
    {
     "data": {
      "text/plain": [
       "0                                                                                                                                                              get lost hurricane ian https co xsy8jlke8h\n",
       "1                                                                                                                                                      sunnypete6760 wish us well hurricane ian hey buddy\n",
       "2     stressed hurricane ian seriously want leave home evacuate choice tomorrow know get order zone b evacuated irma much change 5 yrs seems overwhelming one thing blessed family go https co cvfqjszxjn\n",
       "7                                                                                                      son evacuated back virginia due ian hurricane leaving georgia safe travels safe love god keep safe\n",
       "13                                                                                                                     latest ian information https co wrsmsspkph beon4 tropics wwltv https co cyfc7fdi9d\n",
       "Name: tweet_text, dtype: object"
      ]
     },
     "execution_count": 73,
     "metadata": {},
     "output_type": "execute_result"
    }
   ],
   "source": [
    "stop = stopwords.words('english')\n",
    "\n",
    "nostop = lower.apply(lambda x: ' '.join([word for word in x.split() if word not in (stop)]))\n",
    "nostop.head()"
   ]
  },
  {
   "cell_type": "code",
   "execution_count": 74,
   "id": "32ce2d48",
   "metadata": {},
   "outputs": [
    {
     "data": {
      "text/plain": [
       "hurricane    188\n",
       "ian          180\n",
       "https        144\n",
       "co           144\n",
       "florida       48\n",
       "storm         21\n",
       "advisory      14\n",
       "tampa         14\n",
       "issued        13\n",
       "coast         12\n",
       "dtype: int64"
      ]
     },
     "execution_count": 74,
     "metadata": {},
     "output_type": "execute_result"
    }
   ],
   "source": [
    "# count the word frequency without tokenize\n",
    "nostop.str.split(expand=True).stack().value_counts().head(10) #top 10 words"
   ]
  },
  {
   "cell_type": "markdown",
   "id": "2e15e179",
   "metadata": {},
   "source": [
    "### Action 6: Create a word cloud map for the original tweet texts"
   ]
  },
  {
   "cell_type": "code",
   "execution_count": null,
   "id": "7ed18f54",
   "metadata": {},
   "outputs": [],
   "source": []
  },
  {
   "cell_type": "code",
   "execution_count": null,
   "id": "c61f46d3",
   "metadata": {},
   "outputs": [],
   "source": []
  },
  {
   "cell_type": "code",
   "execution_count": null,
   "id": "c071c304",
   "metadata": {},
   "outputs": [],
   "source": []
  },
  {
   "cell_type": "code",
   "execution_count": null,
   "id": "addd7bfc",
   "metadata": {},
   "outputs": [],
   "source": []
  },
  {
   "cell_type": "markdown",
   "id": "b8375873",
   "metadata": {},
   "source": [
    "### Action 7: Conduct sentiment analysis for the original tweet texts (select one method out of the four: Bing_liu, Pattern, Textblob, vaderSentiment)"
   ]
  },
  {
   "cell_type": "code",
   "execution_count": null,
   "id": "4fe859dc",
   "metadata": {},
   "outputs": [],
   "source": []
  },
  {
   "cell_type": "code",
   "execution_count": null,
   "id": "08a3989a",
   "metadata": {},
   "outputs": [],
   "source": []
  },
  {
   "cell_type": "code",
   "execution_count": null,
   "id": "ab578099",
   "metadata": {},
   "outputs": [],
   "source": []
  }
 ],
 "metadata": {
  "kernelspec": {
   "display_name": "Python 3 (ipykernel)",
   "language": "python",
   "name": "python3"
  },
  "language_info": {
   "codemirror_mode": {
    "name": "ipython",
    "version": 3
   },
   "file_extension": ".py",
   "mimetype": "text/x-python",
   "name": "python",
   "nbconvert_exporter": "python",
   "pygments_lexer": "ipython3",
   "version": "3.9.12"
  }
 },
 "nbformat": 4,
 "nbformat_minor": 5
}
